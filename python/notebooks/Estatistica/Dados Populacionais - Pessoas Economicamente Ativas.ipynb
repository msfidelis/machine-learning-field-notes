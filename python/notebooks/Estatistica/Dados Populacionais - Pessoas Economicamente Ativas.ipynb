{
 "cells": [
  {
   "cell_type": "code",
   "execution_count": 1,
   "id": "f946b44b-7f40-4029-b4af-fcb87a4bf93b",
   "metadata": {},
   "outputs": [],
   "source": [
    "import pandas as pd\n",
    "import ssl\n",
    "import matplotlib.pyplot as plt\n",
    "import numpy as np\n",
    "import hashlib\n",
    "import boto3"
   ]
  },
  {
   "cell_type": "code",
   "execution_count": 2,
   "id": "c9678539-aaa8-4373-86e4-ce30049bc4bb",
   "metadata": {},
   "outputs": [],
   "source": [
    "import warnings\n",
    "warnings.filterwarnings(\"ignore\")"
   ]
  },
  {
   "cell_type": "code",
   "execution_count": 3,
   "id": "9e835b22-5fcc-418b-93c3-b1a841c3bea1",
   "metadata": {},
   "outputs": [],
   "source": [
    "pd.set_option('display.max_columns', 500)"
   ]
  },
  {
   "cell_type": "code",
   "execution_count": 4,
   "id": "0509b21a-b050-45e5-9647-05bff6a0e00b",
   "metadata": {},
   "outputs": [],
   "source": [
    "ssl._create_default_https_context = ssl._create_unverified_context"
   ]
  },
  {
   "cell_type": "markdown",
   "id": "aa445464-7779-4290-af82-01b8080b63c8",
   "metadata": {},
   "source": [
    "# Tooling"
   ]
  },
  {
   "cell_type": "markdown",
   "id": "47d914b5-f90b-4a6f-af82-2d7d81a3a43f",
   "metadata": {},
   "source": [
    "### Upload S3"
   ]
  },
  {
   "cell_type": "code",
   "execution_count": 5,
   "id": "a8e5409b-a482-48fc-b663-0708cfc44419",
   "metadata": {},
   "outputs": [],
   "source": [
    "def UploadS3(filepath, key):\n",
    "    s3 = boto3.client(\"s3\")\n",
    "    bucket_name = \"economia-popular-delivery-content-indices\"\n",
    "    s3.upload_file(\n",
    "        Filename=filepath,\n",
    "        Bucket=bucket_name,\n",
    "        Key=key,\n",
    "        ExtraArgs={\n",
    "            \"ACL\": \"public-read\",\n",
    "            \"ServerSideEncryption\": \"AES256\"\n",
    "        }\n",
    "    )\n",
    "\n",
    "    return True"
   ]
  },
  {
   "cell_type": "markdown",
   "id": "5efc605e-280c-4401-99f7-0f43e02b899f",
   "metadata": {},
   "source": [
    "### Hash String"
   ]
  },
  {
   "cell_type": "code",
   "execution_count": 6,
   "id": "5574f7a9-7449-443e-b0b6-0add17bc8372",
   "metadata": {},
   "outputs": [],
   "source": [
    "def create_hash(text):\n",
    "    return hashlib.sha256(text.encode()).hexdigest()"
   ]
  },
  {
   "cell_type": "markdown",
   "id": "d808ffac-a64d-4032-88aa-3e0bc6ba076f",
   "metadata": {},
   "source": [
    "### IBGE parser"
   ]
  },
  {
   "cell_type": "code",
   "execution_count": 7,
   "id": "b3943458-9d81-4160-a992-1bf5a32f7475",
   "metadata": {},
   "outputs": [],
   "source": [
    "def ibge_dataframe_builder(df, items, classification, year):\n",
    "    year = \"{}\".format(year)\n",
    "    for item in items:\n",
    "        dimensao = item[\"localidade\"][\"nivel\"][\"nome\"]\n",
    "        localidade = item[\"localidade\"][\"nome\"]\n",
    "        populacao = item[\"serie\"][\"{}\".format(year)]\n",
    "        id = create_hash(year + \"-\" + dimensao + \"-\" + localidade)\n",
    "        \n",
    "        row = {\n",
    "            \"id\": id,\n",
    "            \"ano\": year,\n",
    "            \"dimensao\": dimensao,\n",
    "            \"localidade\": localidade,\n",
    "            \"cor_raca\": classification, \n",
    "            \"populacao\": populacao\n",
    "        }\n",
    "        df = df.append(row, ignore_index=True)        \n",
    "    return df"
   ]
  },
  {
   "cell_type": "code",
   "execution_count": null,
   "id": "b09e0672-c9cc-45f5-aeba-b7a66d6307f3",
   "metadata": {},
   "outputs": [],
   "source": []
  },
  {
   "cell_type": "markdown",
   "id": "e12438f6-987d-4442-99c8-e50e2f69069e",
   "metadata": {},
   "source": [
    "## Dataframes"
   ]
  },
  {
   "cell_type": "markdown",
   "id": "86a4163d-5c7e-41f7-b2f5-1cb938aa099b",
   "metadata": {},
   "source": [
    "### Criando a estrutura base do Dataframe Vazia"
   ]
  },
  {
   "cell_type": "code",
   "execution_count": 8,
   "id": "12c5ba5e-b339-45e5-97e1-4366f7a32aee",
   "metadata": {},
   "outputs": [
    {
     "name": "stdout",
     "output_type": "stream",
     "text": [
      "Empty DataFrame\n",
      "Columns: [id, ano, dimensao, localidade, cor_raca, populacao]\n",
      "Index: []\n"
     ]
    }
   ],
   "source": [
    "columns = [\"id\", \"ano\", \"dimensao\", \"localidade\" , \"cor_raca\", \"populacao\"]\n",
    "df = pd.DataFrame(columns=columns)\n",
    "print(df)"
   ]
  },
  {
   "cell_type": "code",
   "execution_count": 9,
   "id": "c301918a-af39-450b-97c3-d2c7a8828628",
   "metadata": {},
   "outputs": [
    {
     "name": "stdout",
     "output_type": "stream",
     "text": [
      "Empty DataFrame\n",
      "Columns: [id, ano, dimensao, localidade, populacao_branca, populacao_negra, populacao_amarela, populacao_parda, populacao_indigena, populacao_sem_declaracao, populacao_total]\n",
      "Index: []\n"
     ]
    }
   ],
   "source": [
    "columns_consolidado = [\"id\", \"ano\", \"dimensao\", \"localidade\" , \"populacao_branca\", \"populacao_negra\", \"populacao_amarela\", \"populacao_parda\",\"populacao_indigena\" ,\"populacao_sem_declaracao\" ,\"populacao_total\"]\n",
    "df_consolidado = pd.DataFrame(columns=columns_consolidado)\n",
    "print(df_consolidado)"
   ]
  },
  {
   "cell_type": "code",
   "execution_count": 10,
   "id": "6542e236-15b5-43a3-a194-e298c732442d",
   "metadata": {
    "scrolled": true
   },
   "outputs": [
    {
     "data": {
      "text/html": [
       "<div>\n",
       "<style scoped>\n",
       "    .dataframe tbody tr th:only-of-type {\n",
       "        vertical-align: middle;\n",
       "    }\n",
       "\n",
       "    .dataframe tbody tr th {\n",
       "        vertical-align: top;\n",
       "    }\n",
       "\n",
       "    .dataframe thead th {\n",
       "        text-align: right;\n",
       "    }\n",
       "</style>\n",
       "<table border=\"1\" class=\"dataframe\">\n",
       "  <thead>\n",
       "    <tr style=\"text-align: right;\">\n",
       "      <th></th>\n",
       "      <th>id</th>\n",
       "      <th>ano</th>\n",
       "      <th>dimensao</th>\n",
       "      <th>localidade</th>\n",
       "      <th>cor_raca</th>\n",
       "      <th>populacao</th>\n",
       "    </tr>\n",
       "  </thead>\n",
       "  <tbody>\n",
       "  </tbody>\n",
       "</table>\n",
       "</div>"
      ],
      "text/plain": [
       "Empty DataFrame\n",
       "Columns: [id, ano, dimensao, localidade, cor_raca, populacao]\n",
       "Index: []"
      ]
     },
     "execution_count": 10,
     "metadata": {},
     "output_type": "execute_result"
    }
   ],
   "source": [
    "df.head()"
   ]
  },
  {
   "cell_type": "code",
   "execution_count": 11,
   "id": "b98f9ecd-6e74-44fc-be4b-a5ee97e0788d",
   "metadata": {},
   "outputs": [
    {
     "data": {
      "text/html": [
       "<div>\n",
       "<style scoped>\n",
       "    .dataframe tbody tr th:only-of-type {\n",
       "        vertical-align: middle;\n",
       "    }\n",
       "\n",
       "    .dataframe tbody tr th {\n",
       "        vertical-align: top;\n",
       "    }\n",
       "\n",
       "    .dataframe thead th {\n",
       "        text-align: right;\n",
       "    }\n",
       "</style>\n",
       "<table border=\"1\" class=\"dataframe\">\n",
       "  <thead>\n",
       "    <tr style=\"text-align: right;\">\n",
       "      <th></th>\n",
       "      <th>id</th>\n",
       "      <th>ano</th>\n",
       "      <th>dimensao</th>\n",
       "      <th>localidade</th>\n",
       "      <th>cor_raca</th>\n",
       "      <th>populacao</th>\n",
       "    </tr>\n",
       "  </thead>\n",
       "  <tbody>\n",
       "  </tbody>\n",
       "</table>\n",
       "</div>"
      ],
      "text/plain": [
       "Empty DataFrame\n",
       "Columns: [id, ano, dimensao, localidade, cor_raca, populacao]\n",
       "Index: []"
      ]
     },
     "execution_count": 11,
     "metadata": {},
     "output_type": "execute_result"
    }
   ],
   "source": [
    "df.tail()"
   ]
  },
  {
   "cell_type": "code",
   "execution_count": 12,
   "id": "d3a9f2f1-0d65-4281-903b-4a493edfa3e4",
   "metadata": {},
   "outputs": [
    {
     "data": {
      "text/plain": [
       "(0, 6)"
      ]
     },
     "execution_count": 12,
     "metadata": {},
     "output_type": "execute_result"
    }
   ],
   "source": [
    "df.shape"
   ]
  },
  {
   "cell_type": "markdown",
   "id": "6a75a7a4-00e2-4ad2-908e-ec2371d6a590",
   "metadata": {},
   "source": [
    "### URL's de Consulta no IBGE - Brasil"
   ]
  },
  {
   "cell_type": "code",
   "execution_count": 13,
   "id": "9cfb1853-42dc-43f9-8fe5-7034a6d320e4",
   "metadata": {},
   "outputs": [],
   "source": [
    "brasil_total_url = \"https://servicodados.ibge.gov.br/api/v3/agregados/2098/periodos/2010/variaveis/140?localidades=N1[all]&classificacao=86[0]|12056[99566]\"\n",
    "brasil_branca_url = \"https://servicodados.ibge.gov.br/api/v3/agregados/2098/periodos/2010/variaveis/140?localidades=N1[all]&classificacao=86[2776]|12056[99566]\"\n",
    "brasil_preta_url = \"https://servicodados.ibge.gov.br/api/v3/agregados/2098/periodos/2010/variaveis/140?localidades=N1[all]&classificacao=86[2777]|12056[99566]\"\n",
    "brasil_amarela_url = \"https://servicodados.ibge.gov.br/api/v3/agregados/2098/periodos/2010/variaveis/140?localidades=N1[all]&classificacao=86[2778]|12056[99566]\"\n",
    "brasil_parda_url = \"https://servicodados.ibge.gov.br/api/v3/agregados/2098/periodos/2010/variaveis/140?localidades=N1[all]&classificacao=86[2779]|12056[99566]\"\n",
    "brasil_indigena_url = \"https://servicodados.ibge.gov.br/api/v3/agregados/2098/periodos/2010/variaveis/140?localidades=N1[all]&classificacao=86[2780]|12056[99566]\"\n",
    "brasil_sem_declaracao_url = \"https://servicodados.ibge.gov.br/api/v3/agregados/2098/periodos/2010/variaveis/140?localidades=N1[all]&classificacao=86[2781]|12056[99566]\"\n"
   ]
  },
  {
   "cell_type": "markdown",
   "id": "1992bb7b-10c3-4af7-9d41-1bdab8875597",
   "metadata": {},
   "source": [
    "### URL's de Consulta no IBGE - Região Metropolitanas"
   ]
  },
  {
   "cell_type": "code",
   "execution_count": 14,
   "id": "73a792a8-22e4-46aa-b734-7850a28fb1c9",
   "metadata": {},
   "outputs": [],
   "source": [
    "brasil_url = \"https://servicodados.ibge.gov.br/api/v3/agregados/2098/periodos/2010/variaveis/140?localidades=N1[all]&classificacao=86[all]|12056[99566]\"\n",
    "total_url = \"https://servicodados.ibge.gov.br/api/v3/agregados/2098/periodos/2010/variaveis/140?localidades=N7[all]|N3[all]&classificacao=86[0]|12056[99566]|58[0]\"\n",
    "branca_url = \"https://servicodados.ibge.gov.br/api/v3/agregados/2098/periodos/2010/variaveis/140?localidades=N7[all]|N3[all]&classificacao=86[2776]|12056[99566]|58[0]\"\n",
    "preta_url = \"https://servicodados.ibge.gov.br/api/v3/agregados/2098/periodos/2010/variaveis/140?localidades=N7[all]|N3[all]&classificacao=86[2777]|12056[99566]|58[0]\"\n",
    "amarela_url = \"https://servicodados.ibge.gov.br/api/v3/agregados/2098/periodos/2010/variaveis/140?localidades=N7[all]|N3[all]&classificacao=86[2778]|12056[99566]|58[0]\" \n",
    "parda_url = \"https://servicodados.ibge.gov.br/api/v3/agregados/2098/periodos/2010/variaveis/140?localidades=N7[all]|N3[all]&classificacao=86[2779]|12056[99566]|58[0]\"\n",
    "indigena_url = \"https://servicodados.ibge.gov.br/api/v3/agregados/2098/periodos/2010/variaveis/140?localidades=N7[all]|N3[all]&classificacao=86[2780]|12056[99566]|58[0]\"\n",
    "sem_declaracao_url = \"https://servicodados.ibge.gov.br/api/v3/agregados/2098/periodos/2010/variaveis/140?localidades=N7[all]|N3[all]&classificacao=86[2781]|12056[99566]|58[0]\""
   ]
  },
  {
   "cell_type": "markdown",
   "id": "7d4e2197-f82d-4d18-8f96-e140aa9c0ae7",
   "metadata": {},
   "source": [
    "## URL's de Consulta no IBGE - Municipios"
   ]
  },
  {
   "cell_type": "code",
   "execution_count": 15,
   "id": "7dbdf9a0-d2e8-48d3-82eb-a142ccb79f27",
   "metadata": {},
   "outputs": [],
   "source": [
    "urls_municipios = [\n",
    "    {\n",
    "        \"cor_raca\": \"total\",\n",
    "        \"url\": \"https://servicodados.ibge.gov.br/api/v3/agregados/2098/periodos/2010/variaveis/140?localidades=N6[all]&classificacao=86[0]|12056[99566]\"\n",
    "    },    \n",
    "    {\n",
    "        \"cor_raca\": \"branca\",\n",
    "        \"url\": \"https://servicodados.ibge.gov.br/api/v3/agregados/2098/periodos/2010/variaveis/140?localidades=N6[all]&classificacao=86[2776]|12056[99566]\"\n",
    "    },\n",
    "    {\n",
    "        \"cor_raca\": \"preta\",\n",
    "        \"url\": \"https://servicodados.ibge.gov.br/api/v3/agregados/2098/periodos/2010/variaveis/140?localidades=N6[all]&classificacao=86[2777]|12056[99566]\"\n",
    "    },\n",
    "    {\n",
    "        \"cor_raca\": \"amarela\",\n",
    "        \"url\": \"https://servicodados.ibge.gov.br/api/v3/agregados/2098/periodos/2010/variaveis/140?localidades=N6[all]&classificacao=86[2778]|12056[99566]\"\n",
    "    },\n",
    "    {\n",
    "        \"cor_raca\": \"parda\",\n",
    "        \"url\": \"https://servicodados.ibge.gov.br/api/v3/agregados/2098/periodos/2010/variaveis/140?localidades=N6[all]&classificacao=86[2779]|12056[99566]\"\n",
    "    },\n",
    "    {\n",
    "        \"cor_raca\": \"indigena\",\n",
    "        \"url\": \"https://servicodados.ibge.gov.br/api/v3/agregados/2098/periodos/2010/variaveis/140?localidades=N6[all]&classificacao=86[2780]|12056[99566]\"\n",
    "    },\n",
    "    {\n",
    "        \"cor_raca\": \"sem_declaracao\",\n",
    "        \"url\": \"https://servicodados.ibge.gov.br/api/v3/agregados/2098/periodos/2010/variaveis/140?localidades=N6[all]&classificacao=86[2781]|12056[99566]\"\n",
    "    }\n",
    "]"
   ]
  },
  {
   "cell_type": "code",
   "execution_count": 16,
   "id": "52f662f3-4483-42bd-9168-34974b827a97",
   "metadata": {
    "scrolled": true
   },
   "outputs": [],
   "source": [
    "for i in urls_municipios:\n",
    "    df_temp = pd.read_json(i['url'])\n",
    "    series = df_temp.resultados[0][0]['series']\n",
    "    df = ibge_dataframe_builder(df, series, i['cor_raca'], 2010)\n"
   ]
  },
  {
   "cell_type": "code",
   "execution_count": 17,
   "id": "f3979ccf-c453-4dca-8071-40ba77879863",
   "metadata": {},
   "outputs": [
    {
     "data": {
      "text/plain": [
       "(38955, 6)"
      ]
     },
     "execution_count": 17,
     "metadata": {},
     "output_type": "execute_result"
    }
   ],
   "source": [
    "df.shape"
   ]
  },
  {
   "cell_type": "markdown",
   "id": "7f75ed8e-aa77-448d-bde5-f81a1175f883",
   "metadata": {},
   "source": [
    "### População Brasil - Total"
   ]
  },
  {
   "cell_type": "code",
   "execution_count": 18,
   "id": "faf453dc-d37e-4c31-91fb-76e5186c4cef",
   "metadata": {},
   "outputs": [],
   "source": [
    "df_temp = pd.read_json(brasil_total_url)"
   ]
  },
  {
   "cell_type": "code",
   "execution_count": 19,
   "id": "634d5366-69ed-4bd7-bb45-a95762f9a84a",
   "metadata": {},
   "outputs": [],
   "source": [
    "series = df_temp.resultados[0][0]['series']"
   ]
  },
  {
   "cell_type": "code",
   "execution_count": 20,
   "id": "72906cb1-6169-47cb-85fa-e51225583c38",
   "metadata": {},
   "outputs": [],
   "source": [
    "df = ibge_dataframe_builder(df, series, \"total\", 2010)"
   ]
  },
  {
   "cell_type": "markdown",
   "id": "5101c8e7-194d-4dfe-a271-12e8fc7cae0c",
   "metadata": {},
   "source": [
    "### População Brasil - Branca"
   ]
  },
  {
   "cell_type": "code",
   "execution_count": 21,
   "id": "74b86661-4db8-44a7-88ac-a25d6b03e38b",
   "metadata": {},
   "outputs": [],
   "source": [
    "df_temp = pd.read_json(brasil_branca_url)"
   ]
  },
  {
   "cell_type": "code",
   "execution_count": 22,
   "id": "80a5741f-3aec-4d61-ad01-d9a3f96fbf6f",
   "metadata": {},
   "outputs": [],
   "source": [
    "series = df_temp.resultados[0][0]['series']"
   ]
  },
  {
   "cell_type": "code",
   "execution_count": 23,
   "id": "7247bff5-ae61-415f-8d7a-92d909b03798",
   "metadata": {},
   "outputs": [],
   "source": [
    "df = ibge_dataframe_builder(df, series, \"branca\", 2010)"
   ]
  },
  {
   "cell_type": "markdown",
   "id": "61b78f09-70ef-4811-8df0-6b21e7b43055",
   "metadata": {},
   "source": [
    "### População brasil - Preta"
   ]
  },
  {
   "cell_type": "code",
   "execution_count": 24,
   "id": "7861c01b-9966-4e54-891d-5dcd8ebd389c",
   "metadata": {},
   "outputs": [],
   "source": [
    "df_temp = pd.read_json(brasil_preta_url)"
   ]
  },
  {
   "cell_type": "code",
   "execution_count": 25,
   "id": "d5d0b89e-58b1-4f4d-9514-3c8aa1cdf76f",
   "metadata": {},
   "outputs": [],
   "source": [
    "series = df_temp.resultados[0][0]['series']"
   ]
  },
  {
   "cell_type": "code",
   "execution_count": 26,
   "id": "4ac45078-cc44-44d6-b025-ae53a0e58861",
   "metadata": {},
   "outputs": [],
   "source": [
    "df = ibge_dataframe_builder(df, series, \"preta\", 2010)"
   ]
  },
  {
   "cell_type": "markdown",
   "id": "a81c0960-1a2b-41e7-ad6f-72da10be25b0",
   "metadata": {},
   "source": [
    "### População Brasil - Amarela"
   ]
  },
  {
   "cell_type": "code",
   "execution_count": 27,
   "id": "875fb54a-5490-4405-b41d-7525580f9b77",
   "metadata": {},
   "outputs": [],
   "source": [
    "df_temp = pd.read_json(brasil_amarela_url)"
   ]
  },
  {
   "cell_type": "code",
   "execution_count": 28,
   "id": "f8b71525-8f8e-4e8a-969f-aaf67eca50f9",
   "metadata": {},
   "outputs": [],
   "source": [
    "series = df_temp.resultados[0][0]['series']"
   ]
  },
  {
   "cell_type": "code",
   "execution_count": 29,
   "id": "b883b814-ff71-429d-a8f2-5c88059be29d",
   "metadata": {},
   "outputs": [],
   "source": [
    "df = ibge_dataframe_builder(df, series, \"amarela\", 2010)"
   ]
  },
  {
   "cell_type": "markdown",
   "id": "4df17a37-37d9-4496-9749-a77903668c97",
   "metadata": {},
   "source": [
    "### População Brasil - Parda"
   ]
  },
  {
   "cell_type": "code",
   "execution_count": 30,
   "id": "f9d35d2a-7ce7-49ac-a358-1c6f16f421b0",
   "metadata": {},
   "outputs": [],
   "source": [
    "df_temp = pd.read_json(brasil_parda_url)"
   ]
  },
  {
   "cell_type": "code",
   "execution_count": 31,
   "id": "4735eb49-76fe-426e-8226-8513967c62ef",
   "metadata": {},
   "outputs": [],
   "source": [
    "series = df_temp.resultados[0][0]['series']"
   ]
  },
  {
   "cell_type": "code",
   "execution_count": 32,
   "id": "f713b2da-e7c8-4f62-ac9b-efcc6723177a",
   "metadata": {},
   "outputs": [],
   "source": [
    "df = ibge_dataframe_builder(df, series, \"parda\", 2010)"
   ]
  },
  {
   "cell_type": "markdown",
   "id": "0251c82a-384b-4f88-9804-18014a127e26",
   "metadata": {},
   "source": [
    "### População Brasileira - Indigena"
   ]
  },
  {
   "cell_type": "code",
   "execution_count": 33,
   "id": "0d596d86-0c49-4c4a-a790-615cc1893bb2",
   "metadata": {},
   "outputs": [],
   "source": [
    "df_temp = pd.read_json(brasil_indigena_url)"
   ]
  },
  {
   "cell_type": "code",
   "execution_count": 34,
   "id": "d4c84f50-300e-4ff0-b509-dbe3d614f663",
   "metadata": {},
   "outputs": [],
   "source": [
    "series = df_temp.resultados[0][0]['series']"
   ]
  },
  {
   "cell_type": "code",
   "execution_count": 35,
   "id": "5907056b-2288-48fd-8c41-71e9656e4f33",
   "metadata": {},
   "outputs": [],
   "source": [
    "df = ibge_dataframe_builder(df, series, \"indigena\", 2010)"
   ]
  },
  {
   "cell_type": "markdown",
   "id": "84f6fb06-fa78-4208-965c-b85e44f14091",
   "metadata": {},
   "source": [
    "### População Brasileira - Sem Declaração"
   ]
  },
  {
   "cell_type": "code",
   "execution_count": 36,
   "id": "8c58f222-efb0-46d1-a56b-be7f302a28bb",
   "metadata": {},
   "outputs": [],
   "source": [
    "df_temp = pd.read_json(brasil_sem_declaracao_url)"
   ]
  },
  {
   "cell_type": "code",
   "execution_count": 37,
   "id": "a224d967-3b0e-49fb-92c6-991d8f872d50",
   "metadata": {},
   "outputs": [],
   "source": [
    "series = df_temp.resultados[0][0]['series']"
   ]
  },
  {
   "cell_type": "code",
   "execution_count": 38,
   "id": "660abc52-e3e8-4a8e-9599-b191377521e0",
   "metadata": {},
   "outputs": [],
   "source": [
    "df = ibge_dataframe_builder(df, series, \"sem_declaracao\", 2010)"
   ]
  },
  {
   "cell_type": "markdown",
   "id": "a35db3dc-5856-440a-8c1a-36c2f709bcd4",
   "metadata": {},
   "source": [
    "### População Total"
   ]
  },
  {
   "cell_type": "code",
   "execution_count": 39,
   "id": "1f72eb41-dbd5-4590-b8a4-11945285ece7",
   "metadata": {},
   "outputs": [],
   "source": [
    "df_temp = pd.read_json(total_url)"
   ]
  },
  {
   "cell_type": "code",
   "execution_count": 40,
   "id": "8fe3a7ae-a01e-42d9-8fe4-508903d5f435",
   "metadata": {},
   "outputs": [],
   "source": [
    "series = df_temp.resultados[0][0]['series']"
   ]
  },
  {
   "cell_type": "code",
   "execution_count": 41,
   "id": "600c014f-26cb-4358-a9d0-e7e4a62e7e65",
   "metadata": {},
   "outputs": [],
   "source": [
    "df = ibge_dataframe_builder(df, series, \"total\", 2010)"
   ]
  },
  {
   "cell_type": "code",
   "execution_count": 42,
   "id": "568cc622-f87e-4b5a-a878-c1d860af57a0",
   "metadata": {},
   "outputs": [
    {
     "data": {
      "text/plain": [
       "(39025, 6)"
      ]
     },
     "execution_count": 42,
     "metadata": {},
     "output_type": "execute_result"
    }
   ],
   "source": [
    "df.shape"
   ]
  },
  {
   "cell_type": "markdown",
   "id": "862eebfd-45cd-433d-b537-cbce7a9f3e69",
   "metadata": {},
   "source": [
    "### População Declarada como Branca"
   ]
  },
  {
   "cell_type": "code",
   "execution_count": 43,
   "id": "224f0a34-4a48-4f6d-9482-704356d511d2",
   "metadata": {},
   "outputs": [],
   "source": [
    "df_temp = pd.read_json(branca_url)"
   ]
  },
  {
   "cell_type": "code",
   "execution_count": 44,
   "id": "544aa29b-e837-4474-b407-db3f1afae46c",
   "metadata": {},
   "outputs": [],
   "source": [
    "series = df_temp.resultados[0][0]['series']"
   ]
  },
  {
   "cell_type": "code",
   "execution_count": 45,
   "id": "d5e2a5d7-e06c-48ed-87f2-d57f5c50c958",
   "metadata": {},
   "outputs": [],
   "source": [
    "df = ibge_dataframe_builder(df, series, \"branca\", 2010)"
   ]
  },
  {
   "cell_type": "code",
   "execution_count": 46,
   "id": "ed06c687-4124-49f1-8d5f-3d62dbd669d2",
   "metadata": {},
   "outputs": [
    {
     "data": {
      "text/plain": [
       "(39088, 6)"
      ]
     },
     "execution_count": 46,
     "metadata": {},
     "output_type": "execute_result"
    }
   ],
   "source": [
    "df.shape"
   ]
  },
  {
   "cell_type": "markdown",
   "id": "f5f36aa2-d7fc-403c-a6ca-328ff14fc846",
   "metadata": {},
   "source": [
    "### População declarada como preta"
   ]
  },
  {
   "cell_type": "code",
   "execution_count": 47,
   "id": "56de508e-092e-438c-b4f9-389a98785179",
   "metadata": {},
   "outputs": [],
   "source": [
    "df_temp = pd.read_json(preta_url)"
   ]
  },
  {
   "cell_type": "code",
   "execution_count": 48,
   "id": "d502a109-86a2-46e8-ab41-b40c7b552db5",
   "metadata": {},
   "outputs": [],
   "source": [
    "series = df_temp.resultados[0][0]['series']"
   ]
  },
  {
   "cell_type": "code",
   "execution_count": 49,
   "id": "8f4957f4-242d-492e-a645-8286e67ddaff",
   "metadata": {},
   "outputs": [],
   "source": [
    "df = ibge_dataframe_builder(df, series, \"preta\", 2010)"
   ]
  },
  {
   "cell_type": "code",
   "execution_count": 50,
   "id": "fd71bcbf-3ff2-4756-ae10-4228ab243709",
   "metadata": {},
   "outputs": [
    {
     "data": {
      "text/plain": [
       "(39151, 6)"
      ]
     },
     "execution_count": 50,
     "metadata": {},
     "output_type": "execute_result"
    }
   ],
   "source": [
    "df.shape"
   ]
  },
  {
   "cell_type": "markdown",
   "id": "a5f4d4fe-1c29-4bfb-903c-bf5f9b575a51",
   "metadata": {},
   "source": [
    "### Populacão declarada como amarela"
   ]
  },
  {
   "cell_type": "code",
   "execution_count": 51,
   "id": "70caa38f-db3d-4309-b88c-d1f56018418c",
   "metadata": {},
   "outputs": [],
   "source": [
    "df_temp = pd.read_json(amarela_url)"
   ]
  },
  {
   "cell_type": "code",
   "execution_count": 52,
   "id": "37ab5fc7-0b9b-44ed-ad07-e0cef27880fe",
   "metadata": {},
   "outputs": [],
   "source": [
    "series = df_temp.resultados[0][0]['series']"
   ]
  },
  {
   "cell_type": "code",
   "execution_count": 53,
   "id": "685f93de-0f12-4eaa-9996-8a8396f4904f",
   "metadata": {},
   "outputs": [],
   "source": [
    "df = ibge_dataframe_builder(df, series, \"amarela\", 2010)"
   ]
  },
  {
   "cell_type": "code",
   "execution_count": 54,
   "id": "5a17e31a-fec2-43ac-bdfe-5cf99e572d43",
   "metadata": {
    "scrolled": true
   },
   "outputs": [
    {
     "data": {
      "text/plain": [
       "(39214, 6)"
      ]
     },
     "execution_count": 54,
     "metadata": {},
     "output_type": "execute_result"
    }
   ],
   "source": [
    "df.shape"
   ]
  },
  {
   "cell_type": "markdown",
   "id": "746ac38d-3187-4a5d-a227-0638b3abeb04",
   "metadata": {},
   "source": [
    "### População Parda"
   ]
  },
  {
   "cell_type": "code",
   "execution_count": 55,
   "id": "8b297c4f-6dc5-472c-9eff-00472c9149a9",
   "metadata": {},
   "outputs": [],
   "source": [
    "df_temp = pd.read_json(parda_url)"
   ]
  },
  {
   "cell_type": "code",
   "execution_count": 56,
   "id": "7d020f82-1bd8-4c1d-90a3-04fdc2f6d403",
   "metadata": {},
   "outputs": [],
   "source": [
    "series = df_temp.resultados[0][0]['series']"
   ]
  },
  {
   "cell_type": "code",
   "execution_count": 57,
   "id": "92631277-9bff-491d-9745-a8998dd0daf9",
   "metadata": {},
   "outputs": [],
   "source": [
    "df = ibge_dataframe_builder(df, series, \"parda\", 2010)"
   ]
  },
  {
   "cell_type": "code",
   "execution_count": 58,
   "id": "c16d49c0-8802-4ef1-935f-bc2d9d1fd59b",
   "metadata": {},
   "outputs": [
    {
     "data": {
      "text/plain": [
       "(39277, 6)"
      ]
     },
     "execution_count": 58,
     "metadata": {},
     "output_type": "execute_result"
    }
   ],
   "source": [
    "df.shape"
   ]
  },
  {
   "cell_type": "markdown",
   "id": "72e1136a-c909-4e8e-9502-aa3b497e69c5",
   "metadata": {},
   "source": [
    "### População Indigena"
   ]
  },
  {
   "cell_type": "code",
   "execution_count": 59,
   "id": "cf118ae3-cb83-4473-ab21-d59ef2e7db22",
   "metadata": {},
   "outputs": [],
   "source": [
    "df_temp = pd.read_json(indigena_url)"
   ]
  },
  {
   "cell_type": "code",
   "execution_count": 60,
   "id": "46a072f6-3eb5-4b98-a259-4fb86a1c1d4a",
   "metadata": {},
   "outputs": [],
   "source": [
    "series = df_temp.resultados[0][0]['series']"
   ]
  },
  {
   "cell_type": "code",
   "execution_count": 61,
   "id": "76eee904-0a5e-4edc-8d55-f6ea245ad303",
   "metadata": {},
   "outputs": [],
   "source": [
    "df = ibge_dataframe_builder(df, series, \"indigena\", 2010)"
   ]
  },
  {
   "cell_type": "code",
   "execution_count": 62,
   "id": "03677473-03f6-4392-984a-af5a3252a0bc",
   "metadata": {},
   "outputs": [
    {
     "data": {
      "text/plain": [
       "(39340, 6)"
      ]
     },
     "execution_count": 62,
     "metadata": {},
     "output_type": "execute_result"
    }
   ],
   "source": [
    "df.shape"
   ]
  },
  {
   "cell_type": "markdown",
   "id": "03384a9c-c827-4204-b7b9-9615f73098ef",
   "metadata": {},
   "source": [
    "### População Sem Declaração"
   ]
  },
  {
   "cell_type": "code",
   "execution_count": 63,
   "id": "31f53050-273f-47c5-96b9-2b57cdf2c4fa",
   "metadata": {},
   "outputs": [],
   "source": [
    "df_temp = pd.read_json(sem_declaracao_url)"
   ]
  },
  {
   "cell_type": "code",
   "execution_count": 64,
   "id": "7f4ef731-949b-4f2a-a874-6edce8e3c354",
   "metadata": {},
   "outputs": [],
   "source": [
    "series = df_temp.resultados[0][0]['series']"
   ]
  },
  {
   "cell_type": "code",
   "execution_count": 65,
   "id": "083daf3d-5c41-4d22-8e01-ac3a0a6e03a3",
   "metadata": {},
   "outputs": [],
   "source": [
    "df = ibge_dataframe_builder(df, series, \"sem_declaracao\", 2010)"
   ]
  },
  {
   "cell_type": "code",
   "execution_count": 66,
   "id": "5ef894f6-d715-423e-94b7-602c20770fcf",
   "metadata": {},
   "outputs": [
    {
     "data": {
      "text/plain": [
       "(39403, 6)"
      ]
     },
     "execution_count": 66,
     "metadata": {},
     "output_type": "execute_result"
    }
   ],
   "source": [
    "df.shape"
   ]
  },
  {
   "cell_type": "markdown",
   "id": "d7def381-55d3-4352-ab8a-541cb0788540",
   "metadata": {},
   "source": [
    "## Sumário Exploratório"
   ]
  },
  {
   "cell_type": "code",
   "execution_count": 67,
   "id": "a89879fe-5e55-4777-83a4-576df9706eed",
   "metadata": {},
   "outputs": [
    {
     "name": "stdout",
     "output_type": "stream",
     "text": [
      "<class 'pandas.core.frame.DataFrame'>\n",
      "RangeIndex: 39403 entries, 0 to 39402\n",
      "Data columns (total 6 columns):\n",
      " #   Column      Non-Null Count  Dtype \n",
      "---  ------      --------------  ----- \n",
      " 0   id          39403 non-null  object\n",
      " 1   ano         39403 non-null  object\n",
      " 2   dimensao    39403 non-null  object\n",
      " 3   localidade  39403 non-null  object\n",
      " 4   cor_raca    39403 non-null  object\n",
      " 5   populacao   39403 non-null  object\n",
      "dtypes: object(6)\n",
      "memory usage: 1.8+ MB\n"
     ]
    }
   ],
   "source": [
    "df.info()"
   ]
  },
  {
   "cell_type": "code",
   "execution_count": 68,
   "id": "e74df058-449c-4126-a7a6-19ece2ce4fe8",
   "metadata": {},
   "outputs": [
    {
     "data": {
      "text/html": [
       "<div>\n",
       "<style scoped>\n",
       "    .dataframe tbody tr th:only-of-type {\n",
       "        vertical-align: middle;\n",
       "    }\n",
       "\n",
       "    .dataframe tbody tr th {\n",
       "        vertical-align: top;\n",
       "    }\n",
       "\n",
       "    .dataframe thead th {\n",
       "        text-align: right;\n",
       "    }\n",
       "</style>\n",
       "<table border=\"1\" class=\"dataframe\">\n",
       "  <thead>\n",
       "    <tr style=\"text-align: right;\">\n",
       "      <th></th>\n",
       "      <th>id</th>\n",
       "      <th>ano</th>\n",
       "      <th>dimensao</th>\n",
       "      <th>localidade</th>\n",
       "      <th>cor_raca</th>\n",
       "      <th>populacao</th>\n",
       "    </tr>\n",
       "  </thead>\n",
       "  <tbody>\n",
       "    <tr>\n",
       "      <th>0</th>\n",
       "      <td>1c1d9ffe0dc859b88aa264e0b98f2587562dd3c4b869f6...</td>\n",
       "      <td>2010</td>\n",
       "      <td>Município</td>\n",
       "      <td>Alta Floresta D'Oeste - RO</td>\n",
       "      <td>total</td>\n",
       "      <td>10526</td>\n",
       "    </tr>\n",
       "    <tr>\n",
       "      <th>1</th>\n",
       "      <td>c3f4fa4194f59ad76eb4f090dd611e4d2e52d94a0fde16...</td>\n",
       "      <td>2010</td>\n",
       "      <td>Município</td>\n",
       "      <td>Ariquemes - RO</td>\n",
       "      <td>total</td>\n",
       "      <td>45162</td>\n",
       "    </tr>\n",
       "    <tr>\n",
       "      <th>2</th>\n",
       "      <td>d9f3c32a42d979735fc4326a48e9b2dac7d40a953094be...</td>\n",
       "      <td>2010</td>\n",
       "      <td>Município</td>\n",
       "      <td>Cabixi - RO</td>\n",
       "      <td>total</td>\n",
       "      <td>2867</td>\n",
       "    </tr>\n",
       "    <tr>\n",
       "      <th>3</th>\n",
       "      <td>5179d62c8be2ff98348c6c48e88cd3492257376ebb205e...</td>\n",
       "      <td>2010</td>\n",
       "      <td>Município</td>\n",
       "      <td>Cacoal - RO</td>\n",
       "      <td>total</td>\n",
       "      <td>39977</td>\n",
       "    </tr>\n",
       "    <tr>\n",
       "      <th>4</th>\n",
       "      <td>71b58e4bdc367b0fdd83866ec7a6f71c2eb9d6d07aaa68...</td>\n",
       "      <td>2010</td>\n",
       "      <td>Município</td>\n",
       "      <td>Cerejeiras - RO</td>\n",
       "      <td>total</td>\n",
       "      <td>8670</td>\n",
       "    </tr>\n",
       "  </tbody>\n",
       "</table>\n",
       "</div>"
      ],
      "text/plain": [
       "                                                  id   ano   dimensao  \\\n",
       "0  1c1d9ffe0dc859b88aa264e0b98f2587562dd3c4b869f6...  2010  Município   \n",
       "1  c3f4fa4194f59ad76eb4f090dd611e4d2e52d94a0fde16...  2010  Município   \n",
       "2  d9f3c32a42d979735fc4326a48e9b2dac7d40a953094be...  2010  Município   \n",
       "3  5179d62c8be2ff98348c6c48e88cd3492257376ebb205e...  2010  Município   \n",
       "4  71b58e4bdc367b0fdd83866ec7a6f71c2eb9d6d07aaa68...  2010  Município   \n",
       "\n",
       "                   localidade cor_raca populacao  \n",
       "0  Alta Floresta D'Oeste - RO    total     10526  \n",
       "1              Ariquemes - RO    total     45162  \n",
       "2                 Cabixi - RO    total      2867  \n",
       "3                 Cacoal - RO    total     39977  \n",
       "4             Cerejeiras - RO    total      8670  "
      ]
     },
     "execution_count": 68,
     "metadata": {},
     "output_type": "execute_result"
    }
   ],
   "source": [
    "df.head()"
   ]
  },
  {
   "cell_type": "code",
   "execution_count": 69,
   "id": "787844c8-81c0-46a0-96d2-c0b7836d5ccc",
   "metadata": {},
   "outputs": [
    {
     "data": {
      "text/html": [
       "<div>\n",
       "<style scoped>\n",
       "    .dataframe tbody tr th:only-of-type {\n",
       "        vertical-align: middle;\n",
       "    }\n",
       "\n",
       "    .dataframe tbody tr th {\n",
       "        vertical-align: top;\n",
       "    }\n",
       "\n",
       "    .dataframe thead th {\n",
       "        text-align: right;\n",
       "    }\n",
       "</style>\n",
       "<table border=\"1\" class=\"dataframe\">\n",
       "  <thead>\n",
       "    <tr style=\"text-align: right;\">\n",
       "      <th></th>\n",
       "      <th>id</th>\n",
       "      <th>ano</th>\n",
       "      <th>dimensao</th>\n",
       "      <th>localidade</th>\n",
       "      <th>cor_raca</th>\n",
       "      <th>populacao</th>\n",
       "    </tr>\n",
       "  </thead>\n",
       "  <tbody>\n",
       "    <tr>\n",
       "      <th>39398</th>\n",
       "      <td>d23860d67f080e8454155455c2cc47c34f2637b24ba27f...</td>\n",
       "      <td>2010</td>\n",
       "      <td>Unidade da Federação</td>\n",
       "      <td>Rio Grande do Sul</td>\n",
       "      <td>sem_declaracao</td>\n",
       "      <td>34</td>\n",
       "    </tr>\n",
       "    <tr>\n",
       "      <th>39399</th>\n",
       "      <td>29cc530b8162c0ff5f37a34a07dc7f2dc71e212ef73917...</td>\n",
       "      <td>2010</td>\n",
       "      <td>Unidade da Federação</td>\n",
       "      <td>Mato Grosso do Sul</td>\n",
       "      <td>sem_declaracao</td>\n",
       "      <td>-</td>\n",
       "    </tr>\n",
       "    <tr>\n",
       "      <th>39400</th>\n",
       "      <td>f9a89474f5ba626244505fa48a4e9bbf243418ecfbe0ff...</td>\n",
       "      <td>2010</td>\n",
       "      <td>Unidade da Federação</td>\n",
       "      <td>Mato Grosso</td>\n",
       "      <td>sem_declaracao</td>\n",
       "      <td>-</td>\n",
       "    </tr>\n",
       "    <tr>\n",
       "      <th>39401</th>\n",
       "      <td>3991c5a6b9fc6bf8aac55aa0cd131e551d2a6e4405ac8e...</td>\n",
       "      <td>2010</td>\n",
       "      <td>Unidade da Federação</td>\n",
       "      <td>Goiás</td>\n",
       "      <td>sem_declaracao</td>\n",
       "      <td>13</td>\n",
       "    </tr>\n",
       "    <tr>\n",
       "      <th>39402</th>\n",
       "      <td>be5a3f4e95d5b5c829f8a46a27cafba1d52ef88bc46870...</td>\n",
       "      <td>2010</td>\n",
       "      <td>Unidade da Federação</td>\n",
       "      <td>Distrito Federal</td>\n",
       "      <td>sem_declaracao</td>\n",
       "      <td>-</td>\n",
       "    </tr>\n",
       "  </tbody>\n",
       "</table>\n",
       "</div>"
      ],
      "text/plain": [
       "                                                      id   ano  \\\n",
       "39398  d23860d67f080e8454155455c2cc47c34f2637b24ba27f...  2010   \n",
       "39399  29cc530b8162c0ff5f37a34a07dc7f2dc71e212ef73917...  2010   \n",
       "39400  f9a89474f5ba626244505fa48a4e9bbf243418ecfbe0ff...  2010   \n",
       "39401  3991c5a6b9fc6bf8aac55aa0cd131e551d2a6e4405ac8e...  2010   \n",
       "39402  be5a3f4e95d5b5c829f8a46a27cafba1d52ef88bc46870...  2010   \n",
       "\n",
       "                   dimensao          localidade        cor_raca populacao  \n",
       "39398  Unidade da Federação   Rio Grande do Sul  sem_declaracao        34  \n",
       "39399  Unidade da Federação  Mato Grosso do Sul  sem_declaracao         -  \n",
       "39400  Unidade da Federação         Mato Grosso  sem_declaracao         -  \n",
       "39401  Unidade da Federação               Goiás  sem_declaracao        13  \n",
       "39402  Unidade da Federação    Distrito Federal  sem_declaracao         -  "
      ]
     },
     "execution_count": 69,
     "metadata": {},
     "output_type": "execute_result"
    }
   ],
   "source": [
    "df.tail()"
   ]
  },
  {
   "cell_type": "code",
   "execution_count": 70,
   "id": "84261b3b-4e1e-4a63-91a2-5dda60cb0eaa",
   "metadata": {},
   "outputs": [
    {
     "data": {
      "text/plain": [
       "total             5629\n",
       "branca            5629\n",
       "preta             5629\n",
       "amarela           5629\n",
       "parda             5629\n",
       "indigena          5629\n",
       "sem_declaracao    5629\n",
       "Name: cor_raca, dtype: int64"
      ]
     },
     "execution_count": 70,
     "metadata": {},
     "output_type": "execute_result"
    }
   ],
   "source": [
    "df.cor_raca.value_counts()"
   ]
  },
  {
   "cell_type": "code",
   "execution_count": 71,
   "id": "ae679869-4641-4906-b00b-9bb7233bec46",
   "metadata": {},
   "outputs": [
    {
     "data": {
      "text/plain": [
       "1c1d9ffe0dc859b88aa264e0b98f2587562dd3c4b869f681fb0feb60251cd096    7\n",
       "ce5460e921414b2a454d4ee1f21a094ef636982e7329eca74293b40370511f7b    7\n",
       "2a764aea165ebac6a543388f8f13f7caa6847c84a4ef5eed95c2930751ccf301    7\n",
       "cd0b4269af600af94c4b2cd23304160b1fcf6f0ac11387e334dbeed4fedc2908    7\n",
       "b9b7a930f7ece9d79871cb75d9dd3b1c3db5ebe0b380aac066ce242180d4598e    7\n",
       "                                                                   ..\n",
       "82877bb55ebe1742e03e92997568ec3b00778c26a4db7d4f3044aade06740afd    7\n",
       "57dd92bc4cc5f771f00f347255fb460d38d0a11637eb6c2e8a27897627fba688    7\n",
       "27d045fe3614944469412f1137ff60b00e001f7c53ccbd487a402871cf23d5f8    7\n",
       "c499e2e1bf8803e13c401e6e6d36f30997fa201a435ec443e4bd0c1bc014d68d    7\n",
       "be5a3f4e95d5b5c829f8a46a27cafba1d52ef88bc468702a63bb49b13a836fb6    7\n",
       "Name: id, Length: 5629, dtype: int64"
      ]
     },
     "execution_count": 71,
     "metadata": {},
     "output_type": "execute_result"
    }
   ],
   "source": [
    "df.id.value_counts()"
   ]
  },
  {
   "cell_type": "code",
   "execution_count": 72,
   "id": "9271e298-951b-4f16-8a6e-06a9f4a14318",
   "metadata": {},
   "outputs": [],
   "source": [
    "df.replace(\"-\", 0, inplace=True)"
   ]
  },
  {
   "cell_type": "code",
   "execution_count": 73,
   "id": "393a6a14-8f88-4860-b493-2a3e014c9f16",
   "metadata": {},
   "outputs": [],
   "source": [
    "df.replace(\"...\", 0, inplace=True)"
   ]
  },
  {
   "cell_type": "code",
   "execution_count": null,
   "id": "ce8d4868-32d5-4119-8d05-ba66237710c4",
   "metadata": {},
   "outputs": [],
   "source": []
  },
  {
   "cell_type": "markdown",
   "id": "491a359e-a123-4a4f-a4f3-aba913b17046",
   "metadata": {},
   "source": [
    "# Consolidação dos Dados"
   ]
  },
  {
   "cell_type": "markdown",
   "id": "c2b9fdfd-5681-4499-a2e5-c36c025b03fc",
   "metadata": {},
   "source": [
    "## Criando o DF de referencia"
   ]
  },
  {
   "cell_type": "code",
   "execution_count": 74,
   "id": "fb34be5a-8b96-4068-b946-4244e65fa1fa",
   "metadata": {},
   "outputs": [],
   "source": [
    "df_consolidado.id = df[[\"id\"]].copy()"
   ]
  },
  {
   "cell_type": "code",
   "execution_count": 75,
   "id": "33faefda-30da-4196-b4e8-cb89d0df22ec",
   "metadata": {},
   "outputs": [
    {
     "data": {
      "text/html": [
       "<div>\n",
       "<style scoped>\n",
       "    .dataframe tbody tr th:only-of-type {\n",
       "        vertical-align: middle;\n",
       "    }\n",
       "\n",
       "    .dataframe tbody tr th {\n",
       "        vertical-align: top;\n",
       "    }\n",
       "\n",
       "    .dataframe thead th {\n",
       "        text-align: right;\n",
       "    }\n",
       "</style>\n",
       "<table border=\"1\" class=\"dataframe\">\n",
       "  <thead>\n",
       "    <tr style=\"text-align: right;\">\n",
       "      <th></th>\n",
       "      <th>id</th>\n",
       "      <th>ano</th>\n",
       "      <th>dimensao</th>\n",
       "      <th>localidade</th>\n",
       "      <th>populacao_branca</th>\n",
       "      <th>populacao_negra</th>\n",
       "      <th>populacao_amarela</th>\n",
       "      <th>populacao_parda</th>\n",
       "      <th>populacao_indigena</th>\n",
       "      <th>populacao_sem_declaracao</th>\n",
       "      <th>populacao_total</th>\n",
       "    </tr>\n",
       "  </thead>\n",
       "  <tbody>\n",
       "    <tr>\n",
       "      <th>0</th>\n",
       "      <td>1c1d9ffe0dc859b88aa264e0b98f2587562dd3c4b869f6...</td>\n",
       "      <td>NaN</td>\n",
       "      <td>NaN</td>\n",
       "      <td>NaN</td>\n",
       "      <td>NaN</td>\n",
       "      <td>NaN</td>\n",
       "      <td>NaN</td>\n",
       "      <td>NaN</td>\n",
       "      <td>NaN</td>\n",
       "      <td>NaN</td>\n",
       "      <td>NaN</td>\n",
       "    </tr>\n",
       "    <tr>\n",
       "      <th>1</th>\n",
       "      <td>c3f4fa4194f59ad76eb4f090dd611e4d2e52d94a0fde16...</td>\n",
       "      <td>NaN</td>\n",
       "      <td>NaN</td>\n",
       "      <td>NaN</td>\n",
       "      <td>NaN</td>\n",
       "      <td>NaN</td>\n",
       "      <td>NaN</td>\n",
       "      <td>NaN</td>\n",
       "      <td>NaN</td>\n",
       "      <td>NaN</td>\n",
       "      <td>NaN</td>\n",
       "    </tr>\n",
       "    <tr>\n",
       "      <th>2</th>\n",
       "      <td>d9f3c32a42d979735fc4326a48e9b2dac7d40a953094be...</td>\n",
       "      <td>NaN</td>\n",
       "      <td>NaN</td>\n",
       "      <td>NaN</td>\n",
       "      <td>NaN</td>\n",
       "      <td>NaN</td>\n",
       "      <td>NaN</td>\n",
       "      <td>NaN</td>\n",
       "      <td>NaN</td>\n",
       "      <td>NaN</td>\n",
       "      <td>NaN</td>\n",
       "    </tr>\n",
       "    <tr>\n",
       "      <th>3</th>\n",
       "      <td>5179d62c8be2ff98348c6c48e88cd3492257376ebb205e...</td>\n",
       "      <td>NaN</td>\n",
       "      <td>NaN</td>\n",
       "      <td>NaN</td>\n",
       "      <td>NaN</td>\n",
       "      <td>NaN</td>\n",
       "      <td>NaN</td>\n",
       "      <td>NaN</td>\n",
       "      <td>NaN</td>\n",
       "      <td>NaN</td>\n",
       "      <td>NaN</td>\n",
       "    </tr>\n",
       "    <tr>\n",
       "      <th>4</th>\n",
       "      <td>71b58e4bdc367b0fdd83866ec7a6f71c2eb9d6d07aaa68...</td>\n",
       "      <td>NaN</td>\n",
       "      <td>NaN</td>\n",
       "      <td>NaN</td>\n",
       "      <td>NaN</td>\n",
       "      <td>NaN</td>\n",
       "      <td>NaN</td>\n",
       "      <td>NaN</td>\n",
       "      <td>NaN</td>\n",
       "      <td>NaN</td>\n",
       "      <td>NaN</td>\n",
       "    </tr>\n",
       "  </tbody>\n",
       "</table>\n",
       "</div>"
      ],
      "text/plain": [
       "                                                  id  ano dimensao localidade  \\\n",
       "0  1c1d9ffe0dc859b88aa264e0b98f2587562dd3c4b869f6...  NaN      NaN        NaN   \n",
       "1  c3f4fa4194f59ad76eb4f090dd611e4d2e52d94a0fde16...  NaN      NaN        NaN   \n",
       "2  d9f3c32a42d979735fc4326a48e9b2dac7d40a953094be...  NaN      NaN        NaN   \n",
       "3  5179d62c8be2ff98348c6c48e88cd3492257376ebb205e...  NaN      NaN        NaN   \n",
       "4  71b58e4bdc367b0fdd83866ec7a6f71c2eb9d6d07aaa68...  NaN      NaN        NaN   \n",
       "\n",
       "  populacao_branca populacao_negra populacao_amarela populacao_parda  \\\n",
       "0              NaN             NaN               NaN             NaN   \n",
       "1              NaN             NaN               NaN             NaN   \n",
       "2              NaN             NaN               NaN             NaN   \n",
       "3              NaN             NaN               NaN             NaN   \n",
       "4              NaN             NaN               NaN             NaN   \n",
       "\n",
       "  populacao_indigena populacao_sem_declaracao populacao_total  \n",
       "0                NaN                      NaN             NaN  \n",
       "1                NaN                      NaN             NaN  \n",
       "2                NaN                      NaN             NaN  \n",
       "3                NaN                      NaN             NaN  \n",
       "4                NaN                      NaN             NaN  "
      ]
     },
     "execution_count": 75,
     "metadata": {},
     "output_type": "execute_result"
    }
   ],
   "source": [
    "df_consolidado.head()"
   ]
  },
  {
   "cell_type": "code",
   "execution_count": 76,
   "id": "74fa9799-3e53-42af-a724-0d69c1189dbb",
   "metadata": {},
   "outputs": [
    {
     "data": {
      "text/plain": [
       "1c1d9ffe0dc859b88aa264e0b98f2587562dd3c4b869f681fb0feb60251cd096    7\n",
       "ce5460e921414b2a454d4ee1f21a094ef636982e7329eca74293b40370511f7b    7\n",
       "2a764aea165ebac6a543388f8f13f7caa6847c84a4ef5eed95c2930751ccf301    7\n",
       "cd0b4269af600af94c4b2cd23304160b1fcf6f0ac11387e334dbeed4fedc2908    7\n",
       "b9b7a930f7ece9d79871cb75d9dd3b1c3db5ebe0b380aac066ce242180d4598e    7\n",
       "                                                                   ..\n",
       "82877bb55ebe1742e03e92997568ec3b00778c26a4db7d4f3044aade06740afd    7\n",
       "57dd92bc4cc5f771f00f347255fb460d38d0a11637eb6c2e8a27897627fba688    7\n",
       "27d045fe3614944469412f1137ff60b00e001f7c53ccbd487a402871cf23d5f8    7\n",
       "c499e2e1bf8803e13c401e6e6d36f30997fa201a435ec443e4bd0c1bc014d68d    7\n",
       "be5a3f4e95d5b5c829f8a46a27cafba1d52ef88bc468702a63bb49b13a836fb6    7\n",
       "Name: id, Length: 5629, dtype: int64"
      ]
     },
     "execution_count": 76,
     "metadata": {},
     "output_type": "execute_result"
    }
   ],
   "source": [
    "df_consolidado.id.value_counts()"
   ]
  },
  {
   "cell_type": "code",
   "execution_count": 77,
   "id": "c4d9d6cc-0d6c-4dc1-99ea-6538d1e49974",
   "metadata": {},
   "outputs": [],
   "source": [
    "df_consolidado = df_consolidado.drop_duplicates(subset='id', keep='first')"
   ]
  },
  {
   "cell_type": "code",
   "execution_count": 78,
   "id": "800a07d0-a975-46af-ac3f-642aeb5c24f7",
   "metadata": {},
   "outputs": [
    {
     "data": {
      "text/plain": [
       "1c1d9ffe0dc859b88aa264e0b98f2587562dd3c4b869f681fb0feb60251cd096    1\n",
       "ce5460e921414b2a454d4ee1f21a094ef636982e7329eca74293b40370511f7b    1\n",
       "2a764aea165ebac6a543388f8f13f7caa6847c84a4ef5eed95c2930751ccf301    1\n",
       "cd0b4269af600af94c4b2cd23304160b1fcf6f0ac11387e334dbeed4fedc2908    1\n",
       "b9b7a930f7ece9d79871cb75d9dd3b1c3db5ebe0b380aac066ce242180d4598e    1\n",
       "                                                                   ..\n",
       "82877bb55ebe1742e03e92997568ec3b00778c26a4db7d4f3044aade06740afd    1\n",
       "57dd92bc4cc5f771f00f347255fb460d38d0a11637eb6c2e8a27897627fba688    1\n",
       "27d045fe3614944469412f1137ff60b00e001f7c53ccbd487a402871cf23d5f8    1\n",
       "c499e2e1bf8803e13c401e6e6d36f30997fa201a435ec443e4bd0c1bc014d68d    1\n",
       "be5a3f4e95d5b5c829f8a46a27cafba1d52ef88bc468702a63bb49b13a836fb6    1\n",
       "Name: id, Length: 5629, dtype: int64"
      ]
     },
     "execution_count": 78,
     "metadata": {},
     "output_type": "execute_result"
    }
   ],
   "source": [
    "df_consolidado.id.value_counts()"
   ]
  },
  {
   "cell_type": "code",
   "execution_count": 79,
   "id": "91848841-5425-4b93-a564-e62b18bb4714",
   "metadata": {},
   "outputs": [],
   "source": [
    "df_consolidado.index = df_consolidado.id"
   ]
  },
  {
   "cell_type": "code",
   "execution_count": 80,
   "id": "deace62e-18c8-45d6-8944-5496a93919b8",
   "metadata": {},
   "outputs": [],
   "source": [
    "df_consolidado = df_consolidado.drop(columns=\"id\", axis=1)"
   ]
  },
  {
   "cell_type": "code",
   "execution_count": 81,
   "id": "84b5429f-6301-4021-b038-ebe2e1492ec9",
   "metadata": {
    "scrolled": true
   },
   "outputs": [
    {
     "data": {
      "text/html": [
       "<div>\n",
       "<style scoped>\n",
       "    .dataframe tbody tr th:only-of-type {\n",
       "        vertical-align: middle;\n",
       "    }\n",
       "\n",
       "    .dataframe tbody tr th {\n",
       "        vertical-align: top;\n",
       "    }\n",
       "\n",
       "    .dataframe thead th {\n",
       "        text-align: right;\n",
       "    }\n",
       "</style>\n",
       "<table border=\"1\" class=\"dataframe\">\n",
       "  <thead>\n",
       "    <tr style=\"text-align: right;\">\n",
       "      <th></th>\n",
       "      <th>ano</th>\n",
       "      <th>dimensao</th>\n",
       "      <th>localidade</th>\n",
       "      <th>populacao_branca</th>\n",
       "      <th>populacao_negra</th>\n",
       "      <th>populacao_amarela</th>\n",
       "      <th>populacao_parda</th>\n",
       "      <th>populacao_indigena</th>\n",
       "      <th>populacao_sem_declaracao</th>\n",
       "      <th>populacao_total</th>\n",
       "    </tr>\n",
       "    <tr>\n",
       "      <th>id</th>\n",
       "      <th></th>\n",
       "      <th></th>\n",
       "      <th></th>\n",
       "      <th></th>\n",
       "      <th></th>\n",
       "      <th></th>\n",
       "      <th></th>\n",
       "      <th></th>\n",
       "      <th></th>\n",
       "      <th></th>\n",
       "    </tr>\n",
       "  </thead>\n",
       "  <tbody>\n",
       "    <tr>\n",
       "      <th>1c1d9ffe0dc859b88aa264e0b98f2587562dd3c4b869f681fb0feb60251cd096</th>\n",
       "      <td>NaN</td>\n",
       "      <td>NaN</td>\n",
       "      <td>NaN</td>\n",
       "      <td>NaN</td>\n",
       "      <td>NaN</td>\n",
       "      <td>NaN</td>\n",
       "      <td>NaN</td>\n",
       "      <td>NaN</td>\n",
       "      <td>NaN</td>\n",
       "      <td>NaN</td>\n",
       "    </tr>\n",
       "    <tr>\n",
       "      <th>c3f4fa4194f59ad76eb4f090dd611e4d2e52d94a0fde167dfff98d2ca61605f9</th>\n",
       "      <td>NaN</td>\n",
       "      <td>NaN</td>\n",
       "      <td>NaN</td>\n",
       "      <td>NaN</td>\n",
       "      <td>NaN</td>\n",
       "      <td>NaN</td>\n",
       "      <td>NaN</td>\n",
       "      <td>NaN</td>\n",
       "      <td>NaN</td>\n",
       "      <td>NaN</td>\n",
       "    </tr>\n",
       "    <tr>\n",
       "      <th>d9f3c32a42d979735fc4326a48e9b2dac7d40a953094be96c1303606d4449d94</th>\n",
       "      <td>NaN</td>\n",
       "      <td>NaN</td>\n",
       "      <td>NaN</td>\n",
       "      <td>NaN</td>\n",
       "      <td>NaN</td>\n",
       "      <td>NaN</td>\n",
       "      <td>NaN</td>\n",
       "      <td>NaN</td>\n",
       "      <td>NaN</td>\n",
       "      <td>NaN</td>\n",
       "    </tr>\n",
       "    <tr>\n",
       "      <th>5179d62c8be2ff98348c6c48e88cd3492257376ebb205e452964980cf34bc1c4</th>\n",
       "      <td>NaN</td>\n",
       "      <td>NaN</td>\n",
       "      <td>NaN</td>\n",
       "      <td>NaN</td>\n",
       "      <td>NaN</td>\n",
       "      <td>NaN</td>\n",
       "      <td>NaN</td>\n",
       "      <td>NaN</td>\n",
       "      <td>NaN</td>\n",
       "      <td>NaN</td>\n",
       "    </tr>\n",
       "    <tr>\n",
       "      <th>71b58e4bdc367b0fdd83866ec7a6f71c2eb9d6d07aaa688b851944936fb80bfc</th>\n",
       "      <td>NaN</td>\n",
       "      <td>NaN</td>\n",
       "      <td>NaN</td>\n",
       "      <td>NaN</td>\n",
       "      <td>NaN</td>\n",
       "      <td>NaN</td>\n",
       "      <td>NaN</td>\n",
       "      <td>NaN</td>\n",
       "      <td>NaN</td>\n",
       "      <td>NaN</td>\n",
       "    </tr>\n",
       "  </tbody>\n",
       "</table>\n",
       "</div>"
      ],
      "text/plain": [
       "                                                    ano dimensao localidade  \\\n",
       "id                                                                            \n",
       "1c1d9ffe0dc859b88aa264e0b98f2587562dd3c4b869f68...  NaN      NaN        NaN   \n",
       "c3f4fa4194f59ad76eb4f090dd611e4d2e52d94a0fde167...  NaN      NaN        NaN   \n",
       "d9f3c32a42d979735fc4326a48e9b2dac7d40a953094be9...  NaN      NaN        NaN   \n",
       "5179d62c8be2ff98348c6c48e88cd3492257376ebb205e4...  NaN      NaN        NaN   \n",
       "71b58e4bdc367b0fdd83866ec7a6f71c2eb9d6d07aaa688...  NaN      NaN        NaN   \n",
       "\n",
       "                                                   populacao_branca  \\\n",
       "id                                                                    \n",
       "1c1d9ffe0dc859b88aa264e0b98f2587562dd3c4b869f68...              NaN   \n",
       "c3f4fa4194f59ad76eb4f090dd611e4d2e52d94a0fde167...              NaN   \n",
       "d9f3c32a42d979735fc4326a48e9b2dac7d40a953094be9...              NaN   \n",
       "5179d62c8be2ff98348c6c48e88cd3492257376ebb205e4...              NaN   \n",
       "71b58e4bdc367b0fdd83866ec7a6f71c2eb9d6d07aaa688...              NaN   \n",
       "\n",
       "                                                   populacao_negra  \\\n",
       "id                                                                   \n",
       "1c1d9ffe0dc859b88aa264e0b98f2587562dd3c4b869f68...             NaN   \n",
       "c3f4fa4194f59ad76eb4f090dd611e4d2e52d94a0fde167...             NaN   \n",
       "d9f3c32a42d979735fc4326a48e9b2dac7d40a953094be9...             NaN   \n",
       "5179d62c8be2ff98348c6c48e88cd3492257376ebb205e4...             NaN   \n",
       "71b58e4bdc367b0fdd83866ec7a6f71c2eb9d6d07aaa688...             NaN   \n",
       "\n",
       "                                                   populacao_amarela  \\\n",
       "id                                                                     \n",
       "1c1d9ffe0dc859b88aa264e0b98f2587562dd3c4b869f68...               NaN   \n",
       "c3f4fa4194f59ad76eb4f090dd611e4d2e52d94a0fde167...               NaN   \n",
       "d9f3c32a42d979735fc4326a48e9b2dac7d40a953094be9...               NaN   \n",
       "5179d62c8be2ff98348c6c48e88cd3492257376ebb205e4...               NaN   \n",
       "71b58e4bdc367b0fdd83866ec7a6f71c2eb9d6d07aaa688...               NaN   \n",
       "\n",
       "                                                   populacao_parda  \\\n",
       "id                                                                   \n",
       "1c1d9ffe0dc859b88aa264e0b98f2587562dd3c4b869f68...             NaN   \n",
       "c3f4fa4194f59ad76eb4f090dd611e4d2e52d94a0fde167...             NaN   \n",
       "d9f3c32a42d979735fc4326a48e9b2dac7d40a953094be9...             NaN   \n",
       "5179d62c8be2ff98348c6c48e88cd3492257376ebb205e4...             NaN   \n",
       "71b58e4bdc367b0fdd83866ec7a6f71c2eb9d6d07aaa688...             NaN   \n",
       "\n",
       "                                                   populacao_indigena  \\\n",
       "id                                                                      \n",
       "1c1d9ffe0dc859b88aa264e0b98f2587562dd3c4b869f68...                NaN   \n",
       "c3f4fa4194f59ad76eb4f090dd611e4d2e52d94a0fde167...                NaN   \n",
       "d9f3c32a42d979735fc4326a48e9b2dac7d40a953094be9...                NaN   \n",
       "5179d62c8be2ff98348c6c48e88cd3492257376ebb205e4...                NaN   \n",
       "71b58e4bdc367b0fdd83866ec7a6f71c2eb9d6d07aaa688...                NaN   \n",
       "\n",
       "                                                   populacao_sem_declaracao  \\\n",
       "id                                                                            \n",
       "1c1d9ffe0dc859b88aa264e0b98f2587562dd3c4b869f68...                      NaN   \n",
       "c3f4fa4194f59ad76eb4f090dd611e4d2e52d94a0fde167...                      NaN   \n",
       "d9f3c32a42d979735fc4326a48e9b2dac7d40a953094be9...                      NaN   \n",
       "5179d62c8be2ff98348c6c48e88cd3492257376ebb205e4...                      NaN   \n",
       "71b58e4bdc367b0fdd83866ec7a6f71c2eb9d6d07aaa688...                      NaN   \n",
       "\n",
       "                                                   populacao_total  \n",
       "id                                                                  \n",
       "1c1d9ffe0dc859b88aa264e0b98f2587562dd3c4b869f68...             NaN  \n",
       "c3f4fa4194f59ad76eb4f090dd611e4d2e52d94a0fde167...             NaN  \n",
       "d9f3c32a42d979735fc4326a48e9b2dac7d40a953094be9...             NaN  \n",
       "5179d62c8be2ff98348c6c48e88cd3492257376ebb205e4...             NaN  \n",
       "71b58e4bdc367b0fdd83866ec7a6f71c2eb9d6d07aaa688...             NaN  "
      ]
     },
     "execution_count": 81,
     "metadata": {},
     "output_type": "execute_result"
    }
   ],
   "source": [
    "df_consolidado.head()"
   ]
  },
  {
   "cell_type": "markdown",
   "id": "18993a21-8818-424e-a018-43d6de92cc7d",
   "metadata": {},
   "source": [
    "## Inputando os dados quantitativos da população"
   ]
  },
  {
   "cell_type": "code",
   "execution_count": 82,
   "id": "e618c199-64b8-4bed-a45a-10666921d6cf",
   "metadata": {},
   "outputs": [],
   "source": [
    "for index, row in df.iterrows():\n",
    "    # print(row.id)\n",
    "    df_consolidado.loc[row.id, \"ano\"] = row.ano\n",
    "    df_consolidado.loc[row.id, \"dimensao\"] = row.dimensao\n",
    "    df_consolidado.loc[row.id, \"localidade\"] = row.localidade\n",
    "\n",
    "    if row.cor_raca == \"total\":\n",
    "        df_consolidado.loc[row.id, \"populacao_total\"] = row.populacao\n",
    "    elif row.cor_raca == \"branca\":\n",
    "        df_consolidado.loc[row.id, \"populacao_branca\"] = row.populacao\n",
    "    elif row.cor_raca == \"preta\":\n",
    "        df_consolidado.loc[row.id, \"populacao_negra\"] = row.populacao\n",
    "    elif row.cor_raca == \"amarela\":\n",
    "        df_consolidado.loc[row.id, \"populacao_amarela\"] = row.populacao    \n",
    "    elif row.cor_raca == \"parda\":\n",
    "        df_consolidado.loc[row.id, \"populacao_parda\"] = row.populacao \n",
    "    elif row.cor_raca == \"indigena\":\n",
    "        df_consolidado.loc[row.id, \"populacao_indigena\"] = row.populacao\n",
    "    elif row.cor_raca == \"sem_declaracao\":\n",
    "        df_consolidado.loc[row.id, \"populacao_sem_declaracao\"] = row.populacao "
   ]
  },
  {
   "cell_type": "code",
   "execution_count": 83,
   "id": "97b815b0-abee-4eff-90fc-4ddd88bdc75e",
   "metadata": {},
   "outputs": [],
   "source": [
    "df_consolidado.replace(\"-\", 0, inplace=True)"
   ]
  },
  {
   "cell_type": "code",
   "execution_count": 84,
   "id": "93c251ba-83f9-445c-94d6-bdea319e720c",
   "metadata": {},
   "outputs": [],
   "source": [
    "df_consolidado.replace(\"...\", 0, inplace=True)"
   ]
  },
  {
   "cell_type": "code",
   "execution_count": 85,
   "id": "14fe953e-7d89-4f3f-83c8-29457e6d069c",
   "metadata": {},
   "outputs": [],
   "source": [
    "df_consolidado.replace(np.nan, 0, inplace=True)"
   ]
  },
  {
   "cell_type": "code",
   "execution_count": 86,
   "id": "2e560159-e37a-4e4d-9487-2b5e41f44a9e",
   "metadata": {},
   "outputs": [
    {
     "data": {
      "text/plain": [
       "id\n",
       "1c1d9ffe0dc859b88aa264e0b98f2587562dd3c4b869f681fb0feb60251cd096      10526\n",
       "c3f4fa4194f59ad76eb4f090dd611e4d2e52d94a0fde167dfff98d2ca61605f9      45162\n",
       "d9f3c32a42d979735fc4326a48e9b2dac7d40a953094be96c1303606d4449d94       2867\n",
       "5179d62c8be2ff98348c6c48e88cd3492257376ebb205e452964980cf34bc1c4      39977\n",
       "71b58e4bdc367b0fdd83866ec7a6f71c2eb9d6d07aaa688b851944936fb80bfc       8670\n",
       "                                                                     ...   \n",
       "d23860d67f080e8454155455c2cc47c34f2637b24ba27fffad30c2a1450a61a1    5818585\n",
       "29cc530b8162c0ff5f37a34a07dc7f2dc71e212ef73917292046c296cdf73190    1258710\n",
       "f9a89474f5ba626244505fa48a4e9bbf243418ecfbe0ff54873a035a978f5f37    1545518\n",
       "3991c5a6b9fc6bf8aac55aa0cd131e551d2a6e4405ac8e7f18333334f80d1da1    3158254\n",
       "be5a3f4e95d5b5c829f8a46a27cafba1d52ef88bc468702a63bb49b13a836fb6    1402349\n",
       "Name: populacao_total, Length: 5629, dtype: object"
      ]
     },
     "execution_count": 86,
     "metadata": {},
     "output_type": "execute_result"
    }
   ],
   "source": [
    "df_consolidado[\"populacao_total\"]"
   ]
  },
  {
   "cell_type": "code",
   "execution_count": 87,
   "id": "8303f037-6375-41e7-b277-184743bf3ba3",
   "metadata": {},
   "outputs": [
    {
     "data": {
      "text/html": [
       "<div>\n",
       "<style scoped>\n",
       "    .dataframe tbody tr th:only-of-type {\n",
       "        vertical-align: middle;\n",
       "    }\n",
       "\n",
       "    .dataframe tbody tr th {\n",
       "        vertical-align: top;\n",
       "    }\n",
       "\n",
       "    .dataframe thead th {\n",
       "        text-align: right;\n",
       "    }\n",
       "</style>\n",
       "<table border=\"1\" class=\"dataframe\">\n",
       "  <thead>\n",
       "    <tr style=\"text-align: right;\">\n",
       "      <th></th>\n",
       "      <th>ano</th>\n",
       "      <th>dimensao</th>\n",
       "      <th>localidade</th>\n",
       "      <th>populacao_branca</th>\n",
       "      <th>populacao_negra</th>\n",
       "      <th>populacao_amarela</th>\n",
       "      <th>populacao_parda</th>\n",
       "      <th>populacao_indigena</th>\n",
       "      <th>populacao_sem_declaracao</th>\n",
       "      <th>populacao_total</th>\n",
       "    </tr>\n",
       "    <tr>\n",
       "      <th>id</th>\n",
       "      <th></th>\n",
       "      <th></th>\n",
       "      <th></th>\n",
       "      <th></th>\n",
       "      <th></th>\n",
       "      <th></th>\n",
       "      <th></th>\n",
       "      <th></th>\n",
       "      <th></th>\n",
       "      <th></th>\n",
       "    </tr>\n",
       "  </thead>\n",
       "  <tbody>\n",
       "    <tr>\n",
       "      <th>1c1d9ffe0dc859b88aa264e0b98f2587562dd3c4b869f681fb0feb60251cd096</th>\n",
       "      <td>2010</td>\n",
       "      <td>Município</td>\n",
       "      <td>Alta Floresta D'Oeste - RO</td>\n",
       "      <td>4674</td>\n",
       "      <td>571</td>\n",
       "      <td>65</td>\n",
       "      <td>5150</td>\n",
       "      <td>67</td>\n",
       "      <td>0</td>\n",
       "      <td>10526</td>\n",
       "    </tr>\n",
       "    <tr>\n",
       "      <th>c3f4fa4194f59ad76eb4f090dd611e4d2e52d94a0fde167dfff98d2ca61605f9</th>\n",
       "      <td>2010</td>\n",
       "      <td>Município</td>\n",
       "      <td>Ariquemes - RO</td>\n",
       "      <td>16057</td>\n",
       "      <td>4644</td>\n",
       "      <td>976</td>\n",
       "      <td>23418</td>\n",
       "      <td>66</td>\n",
       "      <td>0</td>\n",
       "      <td>45162</td>\n",
       "    </tr>\n",
       "    <tr>\n",
       "      <th>d9f3c32a42d979735fc4326a48e9b2dac7d40a953094be96c1303606d4449d94</th>\n",
       "      <td>2010</td>\n",
       "      <td>Município</td>\n",
       "      <td>Cabixi - RO</td>\n",
       "      <td>1446</td>\n",
       "      <td>170</td>\n",
       "      <td>32</td>\n",
       "      <td>1216</td>\n",
       "      <td>3</td>\n",
       "      <td>0</td>\n",
       "      <td>2867</td>\n",
       "    </tr>\n",
       "    <tr>\n",
       "      <th>5179d62c8be2ff98348c6c48e88cd3492257376ebb205e452964980cf34bc1c4</th>\n",
       "      <td>2010</td>\n",
       "      <td>Município</td>\n",
       "      <td>Cacoal - RO</td>\n",
       "      <td>16979</td>\n",
       "      <td>2752</td>\n",
       "      <td>510</td>\n",
       "      <td>19207</td>\n",
       "      <td>530</td>\n",
       "      <td>0</td>\n",
       "      <td>39977</td>\n",
       "    </tr>\n",
       "    <tr>\n",
       "      <th>71b58e4bdc367b0fdd83866ec7a6f71c2eb9d6d07aaa688b851944936fb80bfc</th>\n",
       "      <td>2010</td>\n",
       "      <td>Município</td>\n",
       "      <td>Cerejeiras - RO</td>\n",
       "      <td>4269</td>\n",
       "      <td>543</td>\n",
       "      <td>104</td>\n",
       "      <td>3740</td>\n",
       "      <td>14</td>\n",
       "      <td>0</td>\n",
       "      <td>8670</td>\n",
       "    </tr>\n",
       "  </tbody>\n",
       "</table>\n",
       "</div>"
      ],
      "text/plain": [
       "                                                     ano   dimensao  \\\n",
       "id                                                                    \n",
       "1c1d9ffe0dc859b88aa264e0b98f2587562dd3c4b869f68...  2010  Município   \n",
       "c3f4fa4194f59ad76eb4f090dd611e4d2e52d94a0fde167...  2010  Município   \n",
       "d9f3c32a42d979735fc4326a48e9b2dac7d40a953094be9...  2010  Município   \n",
       "5179d62c8be2ff98348c6c48e88cd3492257376ebb205e4...  2010  Município   \n",
       "71b58e4bdc367b0fdd83866ec7a6f71c2eb9d6d07aaa688...  2010  Município   \n",
       "\n",
       "                                                                    localidade  \\\n",
       "id                                                                               \n",
       "1c1d9ffe0dc859b88aa264e0b98f2587562dd3c4b869f68...  Alta Floresta D'Oeste - RO   \n",
       "c3f4fa4194f59ad76eb4f090dd611e4d2e52d94a0fde167...              Ariquemes - RO   \n",
       "d9f3c32a42d979735fc4326a48e9b2dac7d40a953094be9...                 Cabixi - RO   \n",
       "5179d62c8be2ff98348c6c48e88cd3492257376ebb205e4...                 Cacoal - RO   \n",
       "71b58e4bdc367b0fdd83866ec7a6f71c2eb9d6d07aaa688...             Cerejeiras - RO   \n",
       "\n",
       "                                                   populacao_branca  \\\n",
       "id                                                                    \n",
       "1c1d9ffe0dc859b88aa264e0b98f2587562dd3c4b869f68...             4674   \n",
       "c3f4fa4194f59ad76eb4f090dd611e4d2e52d94a0fde167...            16057   \n",
       "d9f3c32a42d979735fc4326a48e9b2dac7d40a953094be9...             1446   \n",
       "5179d62c8be2ff98348c6c48e88cd3492257376ebb205e4...            16979   \n",
       "71b58e4bdc367b0fdd83866ec7a6f71c2eb9d6d07aaa688...             4269   \n",
       "\n",
       "                                                   populacao_negra  \\\n",
       "id                                                                   \n",
       "1c1d9ffe0dc859b88aa264e0b98f2587562dd3c4b869f68...             571   \n",
       "c3f4fa4194f59ad76eb4f090dd611e4d2e52d94a0fde167...            4644   \n",
       "d9f3c32a42d979735fc4326a48e9b2dac7d40a953094be9...             170   \n",
       "5179d62c8be2ff98348c6c48e88cd3492257376ebb205e4...            2752   \n",
       "71b58e4bdc367b0fdd83866ec7a6f71c2eb9d6d07aaa688...             543   \n",
       "\n",
       "                                                   populacao_amarela  \\\n",
       "id                                                                     \n",
       "1c1d9ffe0dc859b88aa264e0b98f2587562dd3c4b869f68...                65   \n",
       "c3f4fa4194f59ad76eb4f090dd611e4d2e52d94a0fde167...               976   \n",
       "d9f3c32a42d979735fc4326a48e9b2dac7d40a953094be9...                32   \n",
       "5179d62c8be2ff98348c6c48e88cd3492257376ebb205e4...               510   \n",
       "71b58e4bdc367b0fdd83866ec7a6f71c2eb9d6d07aaa688...               104   \n",
       "\n",
       "                                                   populacao_parda  \\\n",
       "id                                                                   \n",
       "1c1d9ffe0dc859b88aa264e0b98f2587562dd3c4b869f68...            5150   \n",
       "c3f4fa4194f59ad76eb4f090dd611e4d2e52d94a0fde167...           23418   \n",
       "d9f3c32a42d979735fc4326a48e9b2dac7d40a953094be9...            1216   \n",
       "5179d62c8be2ff98348c6c48e88cd3492257376ebb205e4...           19207   \n",
       "71b58e4bdc367b0fdd83866ec7a6f71c2eb9d6d07aaa688...            3740   \n",
       "\n",
       "                                                   populacao_indigena  \\\n",
       "id                                                                      \n",
       "1c1d9ffe0dc859b88aa264e0b98f2587562dd3c4b869f68...                 67   \n",
       "c3f4fa4194f59ad76eb4f090dd611e4d2e52d94a0fde167...                 66   \n",
       "d9f3c32a42d979735fc4326a48e9b2dac7d40a953094be9...                  3   \n",
       "5179d62c8be2ff98348c6c48e88cd3492257376ebb205e4...                530   \n",
       "71b58e4bdc367b0fdd83866ec7a6f71c2eb9d6d07aaa688...                 14   \n",
       "\n",
       "                                                   populacao_sem_declaracao  \\\n",
       "id                                                                            \n",
       "1c1d9ffe0dc859b88aa264e0b98f2587562dd3c4b869f68...                        0   \n",
       "c3f4fa4194f59ad76eb4f090dd611e4d2e52d94a0fde167...                        0   \n",
       "d9f3c32a42d979735fc4326a48e9b2dac7d40a953094be9...                        0   \n",
       "5179d62c8be2ff98348c6c48e88cd3492257376ebb205e4...                        0   \n",
       "71b58e4bdc367b0fdd83866ec7a6f71c2eb9d6d07aaa688...                        0   \n",
       "\n",
       "                                                   populacao_total  \n",
       "id                                                                  \n",
       "1c1d9ffe0dc859b88aa264e0b98f2587562dd3c4b869f68...           10526  \n",
       "c3f4fa4194f59ad76eb4f090dd611e4d2e52d94a0fde167...           45162  \n",
       "d9f3c32a42d979735fc4326a48e9b2dac7d40a953094be9...            2867  \n",
       "5179d62c8be2ff98348c6c48e88cd3492257376ebb205e4...           39977  \n",
       "71b58e4bdc367b0fdd83866ec7a6f71c2eb9d6d07aaa688...            8670  "
      ]
     },
     "execution_count": 87,
     "metadata": {},
     "output_type": "execute_result"
    }
   ],
   "source": [
    "df_consolidado.head()"
   ]
  },
  {
   "cell_type": "code",
   "execution_count": 88,
   "id": "db177e69-bafc-4987-9014-cd351c33340f",
   "metadata": {
    "scrolled": true
   },
   "outputs": [
    {
     "data": {
      "text/html": [
       "<div>\n",
       "<style scoped>\n",
       "    .dataframe tbody tr th:only-of-type {\n",
       "        vertical-align: middle;\n",
       "    }\n",
       "\n",
       "    .dataframe tbody tr th {\n",
       "        vertical-align: top;\n",
       "    }\n",
       "\n",
       "    .dataframe thead th {\n",
       "        text-align: right;\n",
       "    }\n",
       "</style>\n",
       "<table border=\"1\" class=\"dataframe\">\n",
       "  <thead>\n",
       "    <tr style=\"text-align: right;\">\n",
       "      <th></th>\n",
       "      <th>ano</th>\n",
       "      <th>dimensao</th>\n",
       "      <th>localidade</th>\n",
       "      <th>populacao_branca</th>\n",
       "      <th>populacao_negra</th>\n",
       "      <th>populacao_amarela</th>\n",
       "      <th>populacao_parda</th>\n",
       "      <th>populacao_indigena</th>\n",
       "      <th>populacao_sem_declaracao</th>\n",
       "      <th>populacao_total</th>\n",
       "    </tr>\n",
       "    <tr>\n",
       "      <th>id</th>\n",
       "      <th></th>\n",
       "      <th></th>\n",
       "      <th></th>\n",
       "      <th></th>\n",
       "      <th></th>\n",
       "      <th></th>\n",
       "      <th></th>\n",
       "      <th></th>\n",
       "      <th></th>\n",
       "      <th></th>\n",
       "    </tr>\n",
       "  </thead>\n",
       "  <tbody>\n",
       "    <tr>\n",
       "      <th>d23860d67f080e8454155455c2cc47c34f2637b24ba27fffad30c2a1450a61a1</th>\n",
       "      <td>2010</td>\n",
       "      <td>Unidade da Federação</td>\n",
       "      <td>Rio Grande do Sul</td>\n",
       "      <td>4900565</td>\n",
       "      <td>313561</td>\n",
       "      <td>19370</td>\n",
       "      <td>571704</td>\n",
       "      <td>13351</td>\n",
       "      <td>34</td>\n",
       "      <td>5818585</td>\n",
       "    </tr>\n",
       "    <tr>\n",
       "      <th>29cc530b8162c0ff5f37a34a07dc7f2dc71e212ef73917292046c296cdf73190</th>\n",
       "      <td>2010</td>\n",
       "      <td>Unidade da Federação</td>\n",
       "      <td>Mato Grosso do Sul</td>\n",
       "      <td>598609</td>\n",
       "      <td>72722</td>\n",
       "      <td>15840</td>\n",
       "      <td>551750</td>\n",
       "      <td>19789</td>\n",
       "      <td>0</td>\n",
       "      <td>1258710</td>\n",
       "    </tr>\n",
       "    <tr>\n",
       "      <th>f9a89474f5ba626244505fa48a4e9bbf243418ecfbe0ff54873a035a978f5f37</th>\n",
       "      <td>2010</td>\n",
       "      <td>Unidade da Federação</td>\n",
       "      <td>Mato Grosso</td>\n",
       "      <td>596556</td>\n",
       "      <td>131222</td>\n",
       "      <td>19135</td>\n",
       "      <td>787210</td>\n",
       "      <td>11395</td>\n",
       "      <td>0</td>\n",
       "      <td>1545518</td>\n",
       "    </tr>\n",
       "    <tr>\n",
       "      <th>3991c5a6b9fc6bf8aac55aa0cd131e551d2a6e4405ac8e7f18333334f80d1da1</th>\n",
       "      <td>2010</td>\n",
       "      <td>Unidade da Federação</td>\n",
       "      <td>Goiás</td>\n",
       "      <td>1299904</td>\n",
       "      <td>232175</td>\n",
       "      <td>56025</td>\n",
       "      <td>1565193</td>\n",
       "      <td>4943</td>\n",
       "      <td>13</td>\n",
       "      <td>3158254</td>\n",
       "    </tr>\n",
       "    <tr>\n",
       "      <th>be5a3f4e95d5b5c829f8a46a27cafba1d52ef88bc468702a63bb49b13a836fb6</th>\n",
       "      <td>2010</td>\n",
       "      <td>Unidade da Federação</td>\n",
       "      <td>Distrito Federal</td>\n",
       "      <td>579838</td>\n",
       "      <td>121401</td>\n",
       "      <td>24868</td>\n",
       "      <td>672191</td>\n",
       "      <td>4049</td>\n",
       "      <td>0</td>\n",
       "      <td>1402349</td>\n",
       "    </tr>\n",
       "  </tbody>\n",
       "</table>\n",
       "</div>"
      ],
      "text/plain": [
       "                                                     ano  \\\n",
       "id                                                         \n",
       "d23860d67f080e8454155455c2cc47c34f2637b24ba27ff...  2010   \n",
       "29cc530b8162c0ff5f37a34a07dc7f2dc71e212ef739172...  2010   \n",
       "f9a89474f5ba626244505fa48a4e9bbf243418ecfbe0ff5...  2010   \n",
       "3991c5a6b9fc6bf8aac55aa0cd131e551d2a6e4405ac8e7...  2010   \n",
       "be5a3f4e95d5b5c829f8a46a27cafba1d52ef88bc468702...  2010   \n",
       "\n",
       "                                                                dimensao  \\\n",
       "id                                                                         \n",
       "d23860d67f080e8454155455c2cc47c34f2637b24ba27ff...  Unidade da Federação   \n",
       "29cc530b8162c0ff5f37a34a07dc7f2dc71e212ef739172...  Unidade da Federação   \n",
       "f9a89474f5ba626244505fa48a4e9bbf243418ecfbe0ff5...  Unidade da Federação   \n",
       "3991c5a6b9fc6bf8aac55aa0cd131e551d2a6e4405ac8e7...  Unidade da Federação   \n",
       "be5a3f4e95d5b5c829f8a46a27cafba1d52ef88bc468702...  Unidade da Federação   \n",
       "\n",
       "                                                            localidade  \\\n",
       "id                                                                       \n",
       "d23860d67f080e8454155455c2cc47c34f2637b24ba27ff...   Rio Grande do Sul   \n",
       "29cc530b8162c0ff5f37a34a07dc7f2dc71e212ef739172...  Mato Grosso do Sul   \n",
       "f9a89474f5ba626244505fa48a4e9bbf243418ecfbe0ff5...         Mato Grosso   \n",
       "3991c5a6b9fc6bf8aac55aa0cd131e551d2a6e4405ac8e7...               Goiás   \n",
       "be5a3f4e95d5b5c829f8a46a27cafba1d52ef88bc468702...    Distrito Federal   \n",
       "\n",
       "                                                   populacao_branca  \\\n",
       "id                                                                    \n",
       "d23860d67f080e8454155455c2cc47c34f2637b24ba27ff...          4900565   \n",
       "29cc530b8162c0ff5f37a34a07dc7f2dc71e212ef739172...           598609   \n",
       "f9a89474f5ba626244505fa48a4e9bbf243418ecfbe0ff5...           596556   \n",
       "3991c5a6b9fc6bf8aac55aa0cd131e551d2a6e4405ac8e7...          1299904   \n",
       "be5a3f4e95d5b5c829f8a46a27cafba1d52ef88bc468702...           579838   \n",
       "\n",
       "                                                   populacao_negra  \\\n",
       "id                                                                   \n",
       "d23860d67f080e8454155455c2cc47c34f2637b24ba27ff...          313561   \n",
       "29cc530b8162c0ff5f37a34a07dc7f2dc71e212ef739172...           72722   \n",
       "f9a89474f5ba626244505fa48a4e9bbf243418ecfbe0ff5...          131222   \n",
       "3991c5a6b9fc6bf8aac55aa0cd131e551d2a6e4405ac8e7...          232175   \n",
       "be5a3f4e95d5b5c829f8a46a27cafba1d52ef88bc468702...          121401   \n",
       "\n",
       "                                                   populacao_amarela  \\\n",
       "id                                                                     \n",
       "d23860d67f080e8454155455c2cc47c34f2637b24ba27ff...             19370   \n",
       "29cc530b8162c0ff5f37a34a07dc7f2dc71e212ef739172...             15840   \n",
       "f9a89474f5ba626244505fa48a4e9bbf243418ecfbe0ff5...             19135   \n",
       "3991c5a6b9fc6bf8aac55aa0cd131e551d2a6e4405ac8e7...             56025   \n",
       "be5a3f4e95d5b5c829f8a46a27cafba1d52ef88bc468702...             24868   \n",
       "\n",
       "                                                   populacao_parda  \\\n",
       "id                                                                   \n",
       "d23860d67f080e8454155455c2cc47c34f2637b24ba27ff...          571704   \n",
       "29cc530b8162c0ff5f37a34a07dc7f2dc71e212ef739172...          551750   \n",
       "f9a89474f5ba626244505fa48a4e9bbf243418ecfbe0ff5...          787210   \n",
       "3991c5a6b9fc6bf8aac55aa0cd131e551d2a6e4405ac8e7...         1565193   \n",
       "be5a3f4e95d5b5c829f8a46a27cafba1d52ef88bc468702...          672191   \n",
       "\n",
       "                                                   populacao_indigena  \\\n",
       "id                                                                      \n",
       "d23860d67f080e8454155455c2cc47c34f2637b24ba27ff...              13351   \n",
       "29cc530b8162c0ff5f37a34a07dc7f2dc71e212ef739172...              19789   \n",
       "f9a89474f5ba626244505fa48a4e9bbf243418ecfbe0ff5...              11395   \n",
       "3991c5a6b9fc6bf8aac55aa0cd131e551d2a6e4405ac8e7...               4943   \n",
       "be5a3f4e95d5b5c829f8a46a27cafba1d52ef88bc468702...               4049   \n",
       "\n",
       "                                                   populacao_sem_declaracao  \\\n",
       "id                                                                            \n",
       "d23860d67f080e8454155455c2cc47c34f2637b24ba27ff...                       34   \n",
       "29cc530b8162c0ff5f37a34a07dc7f2dc71e212ef739172...                        0   \n",
       "f9a89474f5ba626244505fa48a4e9bbf243418ecfbe0ff5...                        0   \n",
       "3991c5a6b9fc6bf8aac55aa0cd131e551d2a6e4405ac8e7...                       13   \n",
       "be5a3f4e95d5b5c829f8a46a27cafba1d52ef88bc468702...                        0   \n",
       "\n",
       "                                                   populacao_total  \n",
       "id                                                                  \n",
       "d23860d67f080e8454155455c2cc47c34f2637b24ba27ff...         5818585  \n",
       "29cc530b8162c0ff5f37a34a07dc7f2dc71e212ef739172...         1258710  \n",
       "f9a89474f5ba626244505fa48a4e9bbf243418ecfbe0ff5...         1545518  \n",
       "3991c5a6b9fc6bf8aac55aa0cd131e551d2a6e4405ac8e7...         3158254  \n",
       "be5a3f4e95d5b5c829f8a46a27cafba1d52ef88bc468702...         1402349  "
      ]
     },
     "execution_count": 88,
     "metadata": {},
     "output_type": "execute_result"
    }
   ],
   "source": [
    "df_consolidado.tail()"
   ]
  },
  {
   "cell_type": "markdown",
   "id": "c13ba4f7-52ee-411c-895d-5e9e5aa28079",
   "metadata": {},
   "source": [
    "### Extração do estado"
   ]
  },
  {
   "cell_type": "code",
   "execution_count": 89,
   "id": "f62a5698-0b2f-45a0-bc91-2b0af717f5ff",
   "metadata": {},
   "outputs": [],
   "source": [
    "df_consolidado['estado'] = df_consolidado['localidade'].str.extract(' - (\\w\\w)$')"
   ]
  },
  {
   "cell_type": "code",
   "execution_count": 90,
   "id": "cce568e0-b1fc-439a-bfe7-0c7570dac9af",
   "metadata": {},
   "outputs": [
    {
     "data": {
      "text/plain": [
       "MG    855\n",
       "SP    648\n",
       "RS    497\n",
       "BA    418\n",
       "PR    402\n",
       "SC    301\n",
       "GO    247\n",
       "PB    225\n",
       "PI    224\n",
       "MA    219\n",
       "CE    186\n",
       "PE    186\n",
       "RN    168\n",
       "PA    144\n",
       "MT    142\n",
       "TO    139\n",
       "AL    104\n",
       "RJ     93\n",
       "ES     79\n",
       "MS     78\n",
       "SE     76\n",
       "AM     63\n",
       "RO     52\n",
       "AC     22\n",
       "AP     17\n",
       "RR     15\n",
       "DF      1\n",
       "Name: estado, dtype: int64"
      ]
     },
     "execution_count": 90,
     "metadata": {},
     "output_type": "execute_result"
    }
   ],
   "source": [
    "df_consolidado.estado.value_counts()"
   ]
  },
  {
   "cell_type": "code",
   "execution_count": 91,
   "id": "8d8046dc-6e3e-4180-b15f-aeb311aacf22",
   "metadata": {},
   "outputs": [
    {
     "data": {
      "text/plain": [
       "Rio de Janeiro - RJ        2\n",
       "Florianópolis - SC         2\n",
       "Maceió - AL                2\n",
       "João Pessoa - PB           2\n",
       "Campina Grande - PB        2\n",
       "                          ..\n",
       "Bom Jesus da Lapa - BA     1\n",
       "Boa Vista do Tupim - BA    1\n",
       "Boa Nova - BA              1\n",
       "Biritinga - BA             1\n",
       "Distrito Federal           1\n",
       "Name: localidade, Length: 5605, dtype: int64"
      ]
     },
     "execution_count": 91,
     "metadata": {},
     "output_type": "execute_result"
    }
   ],
   "source": [
    "df_consolidado.localidade.value_counts()"
   ]
  },
  {
   "cell_type": "code",
   "execution_count": 92,
   "id": "382639ac-37c6-4599-8f70-ce344bf36249",
   "metadata": {},
   "outputs": [],
   "source": [
    "df_consolidado['localidade'] = df_consolidado['localidade'].str.replace(' - \\w\\w$', '', regex=True)"
   ]
  },
  {
   "cell_type": "code",
   "execution_count": 93,
   "id": "6f795e83-a1b8-4517-a186-37db2cf6b020",
   "metadata": {},
   "outputs": [
    {
     "data": {
      "text/plain": [
       "São Domingos        5\n",
       "Bom Jesus           5\n",
       "Bonito              4\n",
       "Planalto            4\n",
       "Santa Terezinha     4\n",
       "                   ..\n",
       "Dom Macedo Costa    1\n",
       "Dom Basílio         1\n",
       "Dias d'Ávila        1\n",
       "Dário Meira         1\n",
       "Distrito Federal    1\n",
       "Name: localidade, Length: 5324, dtype: int64"
      ]
     },
     "execution_count": 93,
     "metadata": {},
     "output_type": "execute_result"
    }
   ],
   "source": [
    "df_consolidado.localidade.value_counts()"
   ]
  },
  {
   "cell_type": "markdown",
   "id": "f81816cb-a8c4-4e00-b007-d8ad47ac7c04",
   "metadata": {},
   "source": [
    "### Convertendo as colunas para integer"
   ]
  },
  {
   "cell_type": "code",
   "execution_count": 94,
   "id": "90e43e6e-e6ee-4d78-a7d4-8f435fb4438f",
   "metadata": {},
   "outputs": [],
   "source": [
    "df_consolidado[\"populacao_total\"] = df_consolidado[\"populacao_total\"].astype(int)\n",
    "df_consolidado[\"populacao_branca\"] = df_consolidado[\"populacao_branca\"].astype(int)\n",
    "df_consolidado[\"populacao_negra\"] = df_consolidado[\"populacao_negra\"].astype(int)\n",
    "df_consolidado[\"populacao_amarela\"] = df_consolidado[\"populacao_amarela\"].astype(int)\n",
    "df_consolidado[\"populacao_parda\"] = df_consolidado[\"populacao_parda\"].astype(int)\n",
    "df_consolidado[\"populacao_indigena\"] = df_consolidado[\"populacao_indigena\"].astype(int)\n",
    "df_consolidado[\"populacao_sem_declaracao\"] = df_consolidado[\"populacao_sem_declaracao\"].astype(int)"
   ]
  },
  {
   "cell_type": "markdown",
   "id": "418915ef-3af9-4704-a58e-db4f657bd8b4",
   "metadata": {},
   "source": [
    "### Conferencia da Consolidação Quantitativa"
   ]
  },
  {
   "cell_type": "code",
   "execution_count": 95,
   "id": "0d496496-f922-4726-9e9c-74b6b2c1f9d3",
   "metadata": {},
   "outputs": [
    {
     "name": "stdout",
     "output_type": "stream",
     "text": [
      "<class 'pandas.core.frame.DataFrame'>\n",
      "Index: 5629 entries, 1c1d9ffe0dc859b88aa264e0b98f2587562dd3c4b869f681fb0feb60251cd096 to be5a3f4e95d5b5c829f8a46a27cafba1d52ef88bc468702a63bb49b13a836fb6\n",
      "Data columns (total 11 columns):\n",
      " #   Column                    Non-Null Count  Dtype \n",
      "---  ------                    --------------  ----- \n",
      " 0   ano                       5629 non-null   object\n",
      " 1   dimensao                  5629 non-null   object\n",
      " 2   localidade                5629 non-null   object\n",
      " 3   populacao_branca          5629 non-null   int64 \n",
      " 4   populacao_negra           5629 non-null   int64 \n",
      " 5   populacao_amarela         5629 non-null   int64 \n",
      " 6   populacao_parda           5629 non-null   int64 \n",
      " 7   populacao_indigena        5629 non-null   int64 \n",
      " 8   populacao_sem_declaracao  5629 non-null   int64 \n",
      " 9   populacao_total           5629 non-null   int64 \n",
      " 10  estado                    5601 non-null   object\n",
      "dtypes: int64(7), object(4)\n",
      "memory usage: 656.8+ KB\n"
     ]
    }
   ],
   "source": [
    "df_consolidado.info()"
   ]
  },
  {
   "cell_type": "code",
   "execution_count": 96,
   "id": "004cf80c-0b41-432f-bc56-3252f2a397e5",
   "metadata": {
    "scrolled": true
   },
   "outputs": [
    {
     "data": {
      "text/plain": [
       "ano                                          2010\n",
       "dimensao                                Município\n",
       "localidade                  Alta Floresta D'Oeste\n",
       "populacao_branca                             4674\n",
       "populacao_negra                               571\n",
       "populacao_amarela                              65\n",
       "populacao_parda                              5150\n",
       "populacao_indigena                             67\n",
       "populacao_sem_declaracao                        0\n",
       "populacao_total                             10526\n",
       "estado                                         RO\n",
       "Name: 1c1d9ffe0dc859b88aa264e0b98f2587562dd3c4b869f681fb0feb60251cd096, dtype: object"
      ]
     },
     "execution_count": 96,
     "metadata": {},
     "output_type": "execute_result"
    }
   ],
   "source": [
    "df_consolidado.iloc[0]"
   ]
  },
  {
   "cell_type": "code",
   "execution_count": 97,
   "id": "16757d32-a201-4abb-80e4-e3495e2e8413",
   "metadata": {},
   "outputs": [
    {
     "data": {
      "text/plain": [
       "ano                              2010\n",
       "dimensao                    Município\n",
       "localidade                  Ariquemes\n",
       "populacao_branca                16057\n",
       "populacao_negra                  4644\n",
       "populacao_amarela                 976\n",
       "populacao_parda                 23418\n",
       "populacao_indigena                 66\n",
       "populacao_sem_declaracao            0\n",
       "populacao_total                 45162\n",
       "estado                             RO\n",
       "Name: c3f4fa4194f59ad76eb4f090dd611e4d2e52d94a0fde167dfff98d2ca61605f9, dtype: object"
      ]
     },
     "execution_count": 97,
     "metadata": {},
     "output_type": "execute_result"
    }
   ],
   "source": [
    "df_consolidado.iloc[1]"
   ]
  },
  {
   "cell_type": "markdown",
   "id": "07a891a2-0ade-47a2-beff-e7a513a9f2a2",
   "metadata": {},
   "source": [
    "## Criando as porcentagens"
   ]
  },
  {
   "cell_type": "code",
   "execution_count": 98,
   "id": "f8b63437-7822-42f7-8aa0-fd194eb3945b",
   "metadata": {},
   "outputs": [],
   "source": [
    "df_consolidado['populacao_branca_porcentagem'] = ((df_consolidado['populacao_branca'] / df_consolidado['populacao_total']) * 100).round(2) "
   ]
  },
  {
   "cell_type": "code",
   "execution_count": 99,
   "id": "4282fee2-8c8e-4879-b5f8-95064fdc3233",
   "metadata": {},
   "outputs": [],
   "source": [
    "df_consolidado['populacao_negra_porcentagem'] = ((df_consolidado['populacao_negra'] / df_consolidado['populacao_total']) * 100).round(2) "
   ]
  },
  {
   "cell_type": "code",
   "execution_count": 100,
   "id": "42d0c249-a0a2-427f-b76e-69e1b1b25e5e",
   "metadata": {},
   "outputs": [],
   "source": [
    "df_consolidado['populacao_amarela_porcentagem'] = ((df_consolidado['populacao_amarela'] / df_consolidado['populacao_total']) * 100).round(2) "
   ]
  },
  {
   "cell_type": "code",
   "execution_count": 101,
   "id": "a80cae3d-c23c-4996-b08e-f4bbbba3f49e",
   "metadata": {},
   "outputs": [],
   "source": [
    "df_consolidado['populacao_parda_porcentagem'] = ((df_consolidado['populacao_parda'] / df_consolidado['populacao_total']) * 100).round(2) "
   ]
  },
  {
   "cell_type": "code",
   "execution_count": 102,
   "id": "21a85ca5-d52f-4445-baf5-166dd21dc816",
   "metadata": {},
   "outputs": [],
   "source": [
    "df_consolidado['populacao_indigena_porcentagem'] = ((df_consolidado['populacao_indigena'] / df_consolidado['populacao_total']) * 100).round(2) "
   ]
  },
  {
   "cell_type": "code",
   "execution_count": 103,
   "id": "23757e40-d51a-4cc5-a661-365a7221adfc",
   "metadata": {},
   "outputs": [],
   "source": [
    "df_consolidado['populacao_sem_declaracao_porcentagem'] = ((df_consolidado['populacao_sem_declaracao'] / df_consolidado['populacao_total']) * 100).round(2) "
   ]
  },
  {
   "cell_type": "code",
   "execution_count": 104,
   "id": "689fe2ae-b3a4-43eb-9582-515e7e273aa1",
   "metadata": {
    "scrolled": true
   },
   "outputs": [
    {
     "data": {
      "text/plain": [
       "ano                                          2010\n",
       "dimensao                                Município\n",
       "localidade                              Ariquemes\n",
       "populacao_branca                            16057\n",
       "populacao_negra                              4644\n",
       "populacao_amarela                             976\n",
       "populacao_parda                             23418\n",
       "populacao_indigena                             66\n",
       "populacao_sem_declaracao                        0\n",
       "populacao_total                             45162\n",
       "estado                                         RO\n",
       "populacao_branca_porcentagem                35.55\n",
       "populacao_negra_porcentagem                 10.28\n",
       "populacao_amarela_porcentagem                2.16\n",
       "populacao_parda_porcentagem                 51.85\n",
       "populacao_indigena_porcentagem               0.15\n",
       "populacao_sem_declaracao_porcentagem          0.0\n",
       "Name: c3f4fa4194f59ad76eb4f090dd611e4d2e52d94a0fde167dfff98d2ca61605f9, dtype: object"
      ]
     },
     "execution_count": 104,
     "metadata": {},
     "output_type": "execute_result"
    }
   ],
   "source": [
    "df_consolidado.iloc[1]"
   ]
  },
  {
   "cell_type": "code",
   "execution_count": 105,
   "id": "6ba7c49c-8bc4-4517-bff6-9169266f6097",
   "metadata": {},
   "outputs": [
    {
     "data": {
      "text/plain": [
       "Município               5565\n",
       "Região Metropolitana      36\n",
       "Unidade da Federação      27\n",
       "Brasil                     1\n",
       "Name: dimensao, dtype: int64"
      ]
     },
     "execution_count": 105,
     "metadata": {},
     "output_type": "execute_result"
    }
   ],
   "source": [
    "df_consolidado.dimensao.value_counts()"
   ]
  },
  {
   "cell_type": "markdown",
   "id": "bf66d420-d4c8-4d65-9fab-1cb4f2620414",
   "metadata": {},
   "source": [
    "# Upload"
   ]
  },
  {
   "cell_type": "markdown",
   "id": "f3bf3fdd-7e87-4929-8c4d-669817611b15",
   "metadata": {},
   "source": [
    "## Salvando os Dados"
   ]
  },
  {
   "cell_type": "code",
   "execution_count": 106,
   "id": "8260b2fc-b381-4eb8-8d60-bb93e23d8072",
   "metadata": {},
   "outputs": [],
   "source": [
    "df_consolidado.to_json('datasets/pessoas_economicamente_ativas.json', orient='records', lines=True)"
   ]
  },
  {
   "cell_type": "code",
   "execution_count": 107,
   "id": "3749ec97-4835-4b05-813c-e9814da5b455",
   "metadata": {},
   "outputs": [],
   "source": [
    "df_consolidado.to_csv('datasets/pessoas_economicamente_ativas.csv', index=False)"
   ]
  },
  {
   "cell_type": "code",
   "execution_count": 111,
   "id": "1edaf28d-f937-438c-aaec-67dac13b5e22",
   "metadata": {},
   "outputs": [
    {
     "data": {
      "text/plain": [
       "True"
      ]
     },
     "execution_count": 111,
     "metadata": {},
     "output_type": "execute_result"
    }
   ],
   "source": [
    "UploadS3('datasets/pessoas_economicamente_ativas.json', 'sociais/pessoas_economicamente_ativas.pessoas_economicamente_ativas.json')"
   ]
  },
  {
   "cell_type": "code",
   "execution_count": 110,
   "id": "0abd6b76-2c1e-448d-9285-7d0442a59ae8",
   "metadata": {},
   "outputs": [
    {
     "data": {
      "text/plain": [
       "True"
      ]
     },
     "execution_count": 110,
     "metadata": {},
     "output_type": "execute_result"
    }
   ],
   "source": [
    "UploadS3('datasets/pessoas_economicamente_ativas.csv', 'sociais/pessoas_economicamente_ativas/pessoas_economicamente_ativas.csv')"
   ]
  },
  {
   "cell_type": "code",
   "execution_count": null,
   "id": "2998032b-a1d4-43c2-b30b-479cdb36930b",
   "metadata": {},
   "outputs": [],
   "source": []
  },
  {
   "cell_type": "code",
   "execution_count": null,
   "id": "78e60e4e-9189-467a-aba9-68fe66807e26",
   "metadata": {},
   "outputs": [],
   "source": []
  },
  {
   "cell_type": "code",
   "execution_count": null,
   "id": "b551bad1-08f0-4d19-ac59-9eb3dbd838a3",
   "metadata": {},
   "outputs": [],
   "source": []
  },
  {
   "cell_type": "code",
   "execution_count": null,
   "id": "7e00ef56-a844-4b3d-b665-d98b6bf1bd5f",
   "metadata": {},
   "outputs": [],
   "source": []
  },
  {
   "cell_type": "code",
   "execution_count": null,
   "id": "9cc37b68-c639-495d-9642-e5e06fee3257",
   "metadata": {},
   "outputs": [],
   "source": []
  }
 ],
 "metadata": {
  "kernelspec": {
   "display_name": "Python 3 (ipykernel)",
   "language": "python",
   "name": "python3"
  },
  "language_info": {
   "codemirror_mode": {
    "name": "ipython",
    "version": 3
   },
   "file_extension": ".py",
   "mimetype": "text/x-python",
   "name": "python",
   "nbconvert_exporter": "python",
   "pygments_lexer": "ipython3",
   "version": "3.10.9"
  }
 },
 "nbformat": 4,
 "nbformat_minor": 5
}
