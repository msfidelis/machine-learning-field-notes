{
 "cells": [
  {
   "cell_type": "code",
   "execution_count": 75,
   "id": "f946b44b-7f40-4029-b4af-fcb87a4bf93b",
   "metadata": {},
   "outputs": [],
   "source": [
    "import pandas as pd\n",
    "import ssl\n",
    "import matplotlib.pyplot as plt\n",
    "import numpy as np\n",
    "import hashlib\n",
    "import boto3"
   ]
  },
  {
   "cell_type": "code",
   "execution_count": 76,
   "id": "c9678539-aaa8-4373-86e4-ce30049bc4bb",
   "metadata": {},
   "outputs": [],
   "source": [
    "import warnings\n",
    "warnings.filterwarnings(\"ignore\")"
   ]
  },
  {
   "cell_type": "code",
   "execution_count": 77,
   "id": "9e835b22-5fcc-418b-93c3-b1a841c3bea1",
   "metadata": {},
   "outputs": [],
   "source": [
    "pd.set_option('display.max_columns', 500)"
   ]
  },
  {
   "cell_type": "code",
   "execution_count": 78,
   "id": "0509b21a-b050-45e5-9647-05bff6a0e00b",
   "metadata": {},
   "outputs": [],
   "source": [
    "ssl._create_default_https_context = ssl._create_unverified_context"
   ]
  },
  {
   "cell_type": "markdown",
   "id": "aa445464-7779-4290-af82-01b8080b63c8",
   "metadata": {},
   "source": [
    "# Tooling"
   ]
  },
  {
   "cell_type": "markdown",
   "id": "47d914b5-f90b-4a6f-af82-2d7d81a3a43f",
   "metadata": {},
   "source": [
    "### Upload S3"
   ]
  },
  {
   "cell_type": "code",
   "execution_count": 79,
   "id": "a8e5409b-a482-48fc-b663-0708cfc44419",
   "metadata": {},
   "outputs": [],
   "source": [
    "def UploadS3(filepath, key):\n",
    "    s3 = boto3.client(\"s3\")\n",
    "    bucket_name = \"economia-popular-delivery-content-indices\"\n",
    "    s3.upload_file(\n",
    "        Filename=filepath,\n",
    "        Bucket=bucket_name,\n",
    "        Key=key,\n",
    "        ExtraArgs={\n",
    "            \"ACL\": \"public-read\",\n",
    "            \"ServerSideEncryption\": \"AES256\"\n",
    "        }\n",
    "    )\n",
    "\n",
    "    return True"
   ]
  },
  {
   "cell_type": "markdown",
   "id": "5efc605e-280c-4401-99f7-0f43e02b899f",
   "metadata": {},
   "source": [
    "### Hash String"
   ]
  },
  {
   "cell_type": "code",
   "execution_count": 80,
   "id": "5574f7a9-7449-443e-b0b6-0add17bc8372",
   "metadata": {},
   "outputs": [],
   "source": [
    "def create_hash(text):\n",
    "    return hashlib.sha256(text.encode()).hexdigest()"
   ]
  },
  {
   "cell_type": "markdown",
   "id": "d808ffac-a64d-4032-88aa-3e0bc6ba076f",
   "metadata": {},
   "source": [
    "### IBGE parser"
   ]
  },
  {
   "cell_type": "code",
   "execution_count": 81,
   "id": "b3943458-9d81-4160-a992-1bf5a32f7475",
   "metadata": {},
   "outputs": [],
   "source": [
    "def ibge_dataframe_builder(df, items, classification, year):\n",
    "    year = \"{}\".format(year)\n",
    "    for item in items:\n",
    "        dimensao = item[\"localidade\"][\"nivel\"][\"nome\"]\n",
    "        localidade = item[\"localidade\"][\"nome\"]\n",
    "        populacao = item[\"serie\"][\"{}\".format(year)]\n",
    "        id = create_hash(year + \"-\" + dimensao + \"-\" + localidade)\n",
    "        \n",
    "        row = {\n",
    "            \"id\": id,\n",
    "            \"ano\": year,\n",
    "            \"dimensao\": dimensao,\n",
    "            \"localidade\": localidade,\n",
    "            \"cor_raca\": classification, \n",
    "            \"populacao\": populacao\n",
    "        }\n",
    "        df = df.append(row, ignore_index=True)        \n",
    "    return df"
   ]
  },
  {
   "cell_type": "code",
   "execution_count": null,
   "id": "b09e0672-c9cc-45f5-aeba-b7a66d6307f3",
   "metadata": {},
   "outputs": [],
   "source": []
  },
  {
   "cell_type": "markdown",
   "id": "e12438f6-987d-4442-99c8-e50e2f69069e",
   "metadata": {},
   "source": [
    "## Dataframes"
   ]
  },
  {
   "cell_type": "markdown",
   "id": "86a4163d-5c7e-41f7-b2f5-1cb938aa099b",
   "metadata": {},
   "source": [
    "### Criando a estrutura base do Dataframe Vazia"
   ]
  },
  {
   "cell_type": "code",
   "execution_count": 82,
   "id": "12c5ba5e-b339-45e5-97e1-4366f7a32aee",
   "metadata": {},
   "outputs": [
    {
     "name": "stdout",
     "output_type": "stream",
     "text": [
      "Empty DataFrame\n",
      "Columns: [id, ano, dimensao, localidade, cor_raca, populacao]\n",
      "Index: []\n"
     ]
    }
   ],
   "source": [
    "columns = [\"id\", \"ano\", \"dimensao\", \"localidade\" , \"cor_raca\", \"populacao\"]\n",
    "df = pd.DataFrame(columns=columns)\n",
    "print(df)"
   ]
  },
  {
   "cell_type": "code",
   "execution_count": 83,
   "id": "c301918a-af39-450b-97c3-d2c7a8828628",
   "metadata": {},
   "outputs": [
    {
     "name": "stdout",
     "output_type": "stream",
     "text": [
      "Empty DataFrame\n",
      "Columns: [id, ano, dimensao, localidade, populacao_branca, populacao_negra, populacao_amarela, populacao_parda, populacao_indigena, populacao_sem_declaracao, populacao_total]\n",
      "Index: []\n"
     ]
    }
   ],
   "source": [
    "columns_consolidado = [\"id\", \"ano\", \"dimensao\", \"localidade\" , \"populacao_branca\", \"populacao_negra\", \"populacao_amarela\", \"populacao_parda\",\"populacao_indigena\" ,\"populacao_sem_declaracao\" ,\"populacao_total\"]\n",
    "df_consolidado = pd.DataFrame(columns=columns_consolidado)\n",
    "print(df_consolidado)"
   ]
  },
  {
   "cell_type": "code",
   "execution_count": 84,
   "id": "766aec7e-a17f-4865-8cc1-eed6f12b11f0",
   "metadata": {},
   "outputs": [],
   "source": [
    "# df = pd.read_json(\"https://servicodados.ibge.gov.br/api/v3/agregados/2098/periodos/2010/variaveis/140?localidades=N7%5Ball%5D%7CN3%5Ball%5D&classificacao=86%5Ball%5D%7C12056%5B99566%5D%7C58%5B0%5D\")"
   ]
  },
  {
   "cell_type": "code",
   "execution_count": 85,
   "id": "6542e236-15b5-43a3-a194-e298c732442d",
   "metadata": {
    "scrolled": true
   },
   "outputs": [
    {
     "data": {
      "text/html": [
       "<div>\n",
       "<style scoped>\n",
       "    .dataframe tbody tr th:only-of-type {\n",
       "        vertical-align: middle;\n",
       "    }\n",
       "\n",
       "    .dataframe tbody tr th {\n",
       "        vertical-align: top;\n",
       "    }\n",
       "\n",
       "    .dataframe thead th {\n",
       "        text-align: right;\n",
       "    }\n",
       "</style>\n",
       "<table border=\"1\" class=\"dataframe\">\n",
       "  <thead>\n",
       "    <tr style=\"text-align: right;\">\n",
       "      <th></th>\n",
       "      <th>id</th>\n",
       "      <th>ano</th>\n",
       "      <th>dimensao</th>\n",
       "      <th>localidade</th>\n",
       "      <th>cor_raca</th>\n",
       "      <th>populacao</th>\n",
       "    </tr>\n",
       "  </thead>\n",
       "  <tbody>\n",
       "  </tbody>\n",
       "</table>\n",
       "</div>"
      ],
      "text/plain": [
       "Empty DataFrame\n",
       "Columns: [id, ano, dimensao, localidade, cor_raca, populacao]\n",
       "Index: []"
      ]
     },
     "execution_count": 85,
     "metadata": {},
     "output_type": "execute_result"
    }
   ],
   "source": [
    "df.head()"
   ]
  },
  {
   "cell_type": "code",
   "execution_count": 86,
   "id": "b98f9ecd-6e74-44fc-be4b-a5ee97e0788d",
   "metadata": {},
   "outputs": [
    {
     "data": {
      "text/html": [
       "<div>\n",
       "<style scoped>\n",
       "    .dataframe tbody tr th:only-of-type {\n",
       "        vertical-align: middle;\n",
       "    }\n",
       "\n",
       "    .dataframe tbody tr th {\n",
       "        vertical-align: top;\n",
       "    }\n",
       "\n",
       "    .dataframe thead th {\n",
       "        text-align: right;\n",
       "    }\n",
       "</style>\n",
       "<table border=\"1\" class=\"dataframe\">\n",
       "  <thead>\n",
       "    <tr style=\"text-align: right;\">\n",
       "      <th></th>\n",
       "      <th>id</th>\n",
       "      <th>ano</th>\n",
       "      <th>dimensao</th>\n",
       "      <th>localidade</th>\n",
       "      <th>cor_raca</th>\n",
       "      <th>populacao</th>\n",
       "    </tr>\n",
       "  </thead>\n",
       "  <tbody>\n",
       "  </tbody>\n",
       "</table>\n",
       "</div>"
      ],
      "text/plain": [
       "Empty DataFrame\n",
       "Columns: [id, ano, dimensao, localidade, cor_raca, populacao]\n",
       "Index: []"
      ]
     },
     "execution_count": 86,
     "metadata": {},
     "output_type": "execute_result"
    }
   ],
   "source": [
    "df.tail()"
   ]
  },
  {
   "cell_type": "code",
   "execution_count": 87,
   "id": "d3a9f2f1-0d65-4281-903b-4a493edfa3e4",
   "metadata": {},
   "outputs": [
    {
     "data": {
      "text/plain": [
       "(0, 6)"
      ]
     },
     "execution_count": 87,
     "metadata": {},
     "output_type": "execute_result"
    }
   ],
   "source": [
    "df.shape"
   ]
  },
  {
   "cell_type": "markdown",
   "id": "1992bb7b-10c3-4af7-9d41-1bdab8875597",
   "metadata": {},
   "source": [
    "### URL's de Consulta no IBGE"
   ]
  },
  {
   "cell_type": "code",
   "execution_count": 88,
   "id": "73a792a8-22e4-46aa-b734-7850a28fb1c9",
   "metadata": {},
   "outputs": [],
   "source": [
    "brasil_url = \"https://servicodados.ibge.gov.br/api/v3/agregados/2098/periodos/2010/variaveis/140?localidades=N1[all]&classificacao=86[all]|12056[99566]\"\n",
    "total_url = \"https://servicodados.ibge.gov.br/api/v3/agregados/2098/periodos/2010/variaveis/140?localidades=N7[all]|N3[all]&classificacao=86[0]|12056[99566]|58[0]\"\n",
    "branca_url = \"https://servicodados.ibge.gov.br/api/v3/agregados/2098/periodos/2010/variaveis/140?localidades=N7[all]|N3[all]&classificacao=86[2776]|12056[99566]|58[0]\"\n",
    "preta_url = \"https://servicodados.ibge.gov.br/api/v3/agregados/2098/periodos/2010/variaveis/140?localidades=N7[all]|N3[all]&classificacao=86[2777]|12056[99566]|58[0]\"\n",
    "amarela_url = \"https://servicodados.ibge.gov.br/api/v3/agregados/2098/periodos/2010/variaveis/140?localidades=N7[all]|N3[all]&classificacao=86[2778]|12056[99566]|58[0]\" \n",
    "parda_url = \"https://servicodados.ibge.gov.br/api/v3/agregados/2098/periodos/2010/variaveis/140?localidades=N7[all]|N3[all]&classificacao=86[2779]|12056[99566]|58[0]\"\n",
    "indigena_url = \"https://servicodados.ibge.gov.br/api/v3/agregados/2098/periodos/2010/variaveis/140?localidades=N7[all]|N3[all]&classificacao=86[2780]|12056[99566]|58[0]\"\n",
    "sem_declaracao_url = \"https://servicodados.ibge.gov.br/api/v3/agregados/2098/periodos/2010/variaveis/140?localidades=N7[all]|N3[all]&classificacao=86[2781]|12056[99566]|58[0]\""
   ]
  },
  {
   "cell_type": "markdown",
   "id": "7f75ed8e-aa77-448d-bde5-f81a1175f883",
   "metadata": {},
   "source": [
    "### População Brasil"
   ]
  },
  {
   "cell_type": "code",
   "execution_count": null,
   "id": "faf453dc-d37e-4c31-91fb-76e5186c4cef",
   "metadata": {},
   "outputs": [],
   "source": [
    "df_temp = pd.read_json(brasil_url)"
   ]
  },
  {
   "cell_type": "code",
   "execution_count": null,
   "id": "634d5366-69ed-4bd7-bb45-a95762f9a84a",
   "metadata": {},
   "outputs": [],
   "source": [
    "series = df_temp.resultados[0][0]['series']"
   ]
  },
  {
   "cell_type": "code",
   "execution_count": null,
   "id": "72906cb1-6169-47cb-85fa-e51225583c38",
   "metadata": {},
   "outputs": [],
   "source": [
    "df = ibge_dataframe_builder(df, series, \"brasil\", 2010)"
   ]
  },
  {
   "cell_type": "code",
   "execution_count": null,
   "id": "c0c46349-6088-4af5-9fd8-e028f2ccad10",
   "metadata": {},
   "outputs": [],
   "source": []
  },
  {
   "cell_type": "code",
   "execution_count": null,
   "id": "c503d59c-5f98-46f2-a282-e33a4c5662fa",
   "metadata": {},
   "outputs": [],
   "source": []
  },
  {
   "cell_type": "markdown",
   "id": "a35db3dc-5856-440a-8c1a-36c2f709bcd4",
   "metadata": {},
   "source": [
    "### População Total"
   ]
  },
  {
   "cell_type": "code",
   "execution_count": 89,
   "id": "1f72eb41-dbd5-4590-b8a4-11945285ece7",
   "metadata": {},
   "outputs": [],
   "source": [
    "df_temp = pd.read_json(total_url)"
   ]
  },
  {
   "cell_type": "code",
   "execution_count": 90,
   "id": "8fe3a7ae-a01e-42d9-8fe4-508903d5f435",
   "metadata": {},
   "outputs": [],
   "source": [
    "series = df_temp.resultados[0][0]['series']"
   ]
  },
  {
   "cell_type": "code",
   "execution_count": 91,
   "id": "600c014f-26cb-4358-a9d0-e7e4a62e7e65",
   "metadata": {},
   "outputs": [],
   "source": [
    "df = ibge_dataframe_builder(df, series, \"total\", 2010)"
   ]
  },
  {
   "cell_type": "code",
   "execution_count": 92,
   "id": "568cc622-f87e-4b5a-a878-c1d860af57a0",
   "metadata": {},
   "outputs": [
    {
     "data": {
      "text/plain": [
       "(63, 6)"
      ]
     },
     "execution_count": 92,
     "metadata": {},
     "output_type": "execute_result"
    }
   ],
   "source": [
    "df.shape"
   ]
  },
  {
   "cell_type": "markdown",
   "id": "862eebfd-45cd-433d-b537-cbce7a9f3e69",
   "metadata": {},
   "source": [
    "### População Declarada como Branca"
   ]
  },
  {
   "cell_type": "code",
   "execution_count": 93,
   "id": "224f0a34-4a48-4f6d-9482-704356d511d2",
   "metadata": {},
   "outputs": [],
   "source": [
    "df_temp = pd.read_json(branca_url)"
   ]
  },
  {
   "cell_type": "code",
   "execution_count": 94,
   "id": "544aa29b-e837-4474-b407-db3f1afae46c",
   "metadata": {},
   "outputs": [],
   "source": [
    "series = df_temp.resultados[0][0]['series']"
   ]
  },
  {
   "cell_type": "code",
   "execution_count": 95,
   "id": "d5e2a5d7-e06c-48ed-87f2-d57f5c50c958",
   "metadata": {},
   "outputs": [],
   "source": [
    "df = ibge_dataframe_builder(df, series, \"branca\", 2010)"
   ]
  },
  {
   "cell_type": "code",
   "execution_count": 96,
   "id": "ed06c687-4124-49f1-8d5f-3d62dbd669d2",
   "metadata": {},
   "outputs": [
    {
     "data": {
      "text/plain": [
       "(126, 6)"
      ]
     },
     "execution_count": 96,
     "metadata": {},
     "output_type": "execute_result"
    }
   ],
   "source": [
    "df.shape"
   ]
  },
  {
   "cell_type": "markdown",
   "id": "f5f36aa2-d7fc-403c-a6ca-328ff14fc846",
   "metadata": {},
   "source": [
    "### População declarada como preta"
   ]
  },
  {
   "cell_type": "code",
   "execution_count": 97,
   "id": "56de508e-092e-438c-b4f9-389a98785179",
   "metadata": {},
   "outputs": [],
   "source": [
    "df_temp = pd.read_json(preta_url)"
   ]
  },
  {
   "cell_type": "code",
   "execution_count": 98,
   "id": "d502a109-86a2-46e8-ab41-b40c7b552db5",
   "metadata": {},
   "outputs": [],
   "source": [
    "series = df_temp.resultados[0][0]['series']"
   ]
  },
  {
   "cell_type": "code",
   "execution_count": 99,
   "id": "8f4957f4-242d-492e-a645-8286e67ddaff",
   "metadata": {},
   "outputs": [],
   "source": [
    "df = ibge_dataframe_builder(df, series, \"preta\", 2010)"
   ]
  },
  {
   "cell_type": "code",
   "execution_count": 100,
   "id": "fd71bcbf-3ff2-4756-ae10-4228ab243709",
   "metadata": {},
   "outputs": [
    {
     "data": {
      "text/plain": [
       "(189, 6)"
      ]
     },
     "execution_count": 100,
     "metadata": {},
     "output_type": "execute_result"
    }
   ],
   "source": [
    "df.shape"
   ]
  },
  {
   "cell_type": "markdown",
   "id": "a5f4d4fe-1c29-4bfb-903c-bf5f9b575a51",
   "metadata": {},
   "source": [
    "### Populacão declarada como amarela"
   ]
  },
  {
   "cell_type": "code",
   "execution_count": 101,
   "id": "70caa38f-db3d-4309-b88c-d1f56018418c",
   "metadata": {},
   "outputs": [],
   "source": [
    "df_temp = pd.read_json(amarela_url)"
   ]
  },
  {
   "cell_type": "code",
   "execution_count": 102,
   "id": "37ab5fc7-0b9b-44ed-ad07-e0cef27880fe",
   "metadata": {},
   "outputs": [],
   "source": [
    "series = df_temp.resultados[0][0]['series']"
   ]
  },
  {
   "cell_type": "code",
   "execution_count": 103,
   "id": "685f93de-0f12-4eaa-9996-8a8396f4904f",
   "metadata": {},
   "outputs": [],
   "source": [
    "df = ibge_dataframe_builder(df, series, \"amarela\", 2010)"
   ]
  },
  {
   "cell_type": "code",
   "execution_count": 104,
   "id": "5a17e31a-fec2-43ac-bdfe-5cf99e572d43",
   "metadata": {
    "scrolled": true
   },
   "outputs": [
    {
     "data": {
      "text/plain": [
       "(252, 6)"
      ]
     },
     "execution_count": 104,
     "metadata": {},
     "output_type": "execute_result"
    }
   ],
   "source": [
    "df.shape"
   ]
  },
  {
   "cell_type": "markdown",
   "id": "746ac38d-3187-4a5d-a227-0638b3abeb04",
   "metadata": {},
   "source": [
    "### População Parda"
   ]
  },
  {
   "cell_type": "code",
   "execution_count": 105,
   "id": "8b297c4f-6dc5-472c-9eff-00472c9149a9",
   "metadata": {},
   "outputs": [],
   "source": [
    "df_temp = pd.read_json(parda_url)"
   ]
  },
  {
   "cell_type": "code",
   "execution_count": 106,
   "id": "7d020f82-1bd8-4c1d-90a3-04fdc2f6d403",
   "metadata": {},
   "outputs": [],
   "source": [
    "series = df_temp.resultados[0][0]['series']"
   ]
  },
  {
   "cell_type": "code",
   "execution_count": 107,
   "id": "92631277-9bff-491d-9745-a8998dd0daf9",
   "metadata": {},
   "outputs": [],
   "source": [
    "df = ibge_dataframe_builder(df, series, \"parda\", 2010)"
   ]
  },
  {
   "cell_type": "code",
   "execution_count": 108,
   "id": "c16d49c0-8802-4ef1-935f-bc2d9d1fd59b",
   "metadata": {},
   "outputs": [
    {
     "data": {
      "text/plain": [
       "(315, 6)"
      ]
     },
     "execution_count": 108,
     "metadata": {},
     "output_type": "execute_result"
    }
   ],
   "source": [
    "df.shape"
   ]
  },
  {
   "cell_type": "markdown",
   "id": "72e1136a-c909-4e8e-9502-aa3b497e69c5",
   "metadata": {},
   "source": [
    "### População Indigena"
   ]
  },
  {
   "cell_type": "code",
   "execution_count": 109,
   "id": "cf118ae3-cb83-4473-ab21-d59ef2e7db22",
   "metadata": {},
   "outputs": [],
   "source": [
    "df_temp = pd.read_json(indigena_url)"
   ]
  },
  {
   "cell_type": "code",
   "execution_count": 110,
   "id": "46a072f6-3eb5-4b98-a259-4fb86a1c1d4a",
   "metadata": {},
   "outputs": [],
   "source": [
    "series = df_temp.resultados[0][0]['series']"
   ]
  },
  {
   "cell_type": "code",
   "execution_count": 111,
   "id": "76eee904-0a5e-4edc-8d55-f6ea245ad303",
   "metadata": {},
   "outputs": [],
   "source": [
    "df = ibge_dataframe_builder(df, series, \"indigena\", 2010)"
   ]
  },
  {
   "cell_type": "code",
   "execution_count": 112,
   "id": "03677473-03f6-4392-984a-af5a3252a0bc",
   "metadata": {},
   "outputs": [
    {
     "data": {
      "text/plain": [
       "(378, 6)"
      ]
     },
     "execution_count": 112,
     "metadata": {},
     "output_type": "execute_result"
    }
   ],
   "source": [
    "df.shape"
   ]
  },
  {
   "cell_type": "markdown",
   "id": "03384a9c-c827-4204-b7b9-9615f73098ef",
   "metadata": {},
   "source": [
    "### População Sem Declaração"
   ]
  },
  {
   "cell_type": "code",
   "execution_count": 113,
   "id": "31f53050-273f-47c5-96b9-2b57cdf2c4fa",
   "metadata": {},
   "outputs": [],
   "source": [
    "df_temp = pd.read_json(sem_declaracao_url)"
   ]
  },
  {
   "cell_type": "code",
   "execution_count": 114,
   "id": "7f4ef731-949b-4f2a-a874-6edce8e3c354",
   "metadata": {},
   "outputs": [],
   "source": [
    "series = df_temp.resultados[0][0]['series']"
   ]
  },
  {
   "cell_type": "code",
   "execution_count": 115,
   "id": "083daf3d-5c41-4d22-8e01-ac3a0a6e03a3",
   "metadata": {},
   "outputs": [],
   "source": [
    "df = ibge_dataframe_builder(df, series, \"sem_declaracao\", 2010)"
   ]
  },
  {
   "cell_type": "code",
   "execution_count": 116,
   "id": "5ef894f6-d715-423e-94b7-602c20770fcf",
   "metadata": {},
   "outputs": [
    {
     "data": {
      "text/plain": [
       "(441, 6)"
      ]
     },
     "execution_count": 116,
     "metadata": {},
     "output_type": "execute_result"
    }
   ],
   "source": [
    "df.shape"
   ]
  },
  {
   "cell_type": "markdown",
   "id": "d7def381-55d3-4352-ab8a-541cb0788540",
   "metadata": {},
   "source": [
    "## Sumário Exploratório"
   ]
  },
  {
   "cell_type": "code",
   "execution_count": 117,
   "id": "a89879fe-5e55-4777-83a4-576df9706eed",
   "metadata": {},
   "outputs": [
    {
     "name": "stdout",
     "output_type": "stream",
     "text": [
      "<class 'pandas.core.frame.DataFrame'>\n",
      "RangeIndex: 441 entries, 0 to 440\n",
      "Data columns (total 6 columns):\n",
      " #   Column      Non-Null Count  Dtype \n",
      "---  ------      --------------  ----- \n",
      " 0   id          441 non-null    object\n",
      " 1   ano         441 non-null    object\n",
      " 2   dimensao    441 non-null    object\n",
      " 3   localidade  441 non-null    object\n",
      " 4   cor_raca    441 non-null    object\n",
      " 5   populacao   441 non-null    object\n",
      "dtypes: object(6)\n",
      "memory usage: 20.8+ KB\n"
     ]
    }
   ],
   "source": [
    "df.info()"
   ]
  },
  {
   "cell_type": "code",
   "execution_count": 118,
   "id": "e74df058-449c-4126-a7a6-19ece2ce4fe8",
   "metadata": {},
   "outputs": [
    {
     "data": {
      "text/html": [
       "<div>\n",
       "<style scoped>\n",
       "    .dataframe tbody tr th:only-of-type {\n",
       "        vertical-align: middle;\n",
       "    }\n",
       "\n",
       "    .dataframe tbody tr th {\n",
       "        vertical-align: top;\n",
       "    }\n",
       "\n",
       "    .dataframe thead th {\n",
       "        text-align: right;\n",
       "    }\n",
       "</style>\n",
       "<table border=\"1\" class=\"dataframe\">\n",
       "  <thead>\n",
       "    <tr style=\"text-align: right;\">\n",
       "      <th></th>\n",
       "      <th>id</th>\n",
       "      <th>ano</th>\n",
       "      <th>dimensao</th>\n",
       "      <th>localidade</th>\n",
       "      <th>cor_raca</th>\n",
       "      <th>populacao</th>\n",
       "    </tr>\n",
       "  </thead>\n",
       "  <tbody>\n",
       "    <tr>\n",
       "      <th>0</th>\n",
       "      <td>5ce1397542c815696a781695e1064515dcc99a2f76dc13...</td>\n",
       "      <td>2010</td>\n",
       "      <td>Região Metropolitana</td>\n",
       "      <td>Manaus - AM</td>\n",
       "      <td>total</td>\n",
       "      <td>966485</td>\n",
       "    </tr>\n",
       "    <tr>\n",
       "      <th>1</th>\n",
       "      <td>225ca007c01f71a0bfdc0ca7dbe77c26e9424c109f1573...</td>\n",
       "      <td>2010</td>\n",
       "      <td>Região Metropolitana</td>\n",
       "      <td>Belém - PA</td>\n",
       "      <td>total</td>\n",
       "      <td>989834</td>\n",
       "    </tr>\n",
       "    <tr>\n",
       "      <th>2</th>\n",
       "      <td>a680f96119c12ab0d4629f77563b6bb340d456ebb21499...</td>\n",
       "      <td>2010</td>\n",
       "      <td>Região Metropolitana</td>\n",
       "      <td>Macapá - AP</td>\n",
       "      <td>total</td>\n",
       "      <td>227515</td>\n",
       "    </tr>\n",
       "    <tr>\n",
       "      <th>3</th>\n",
       "      <td>cf0c0c0e84255199f73093a9352d5c209c32d71128ff39...</td>\n",
       "      <td>2010</td>\n",
       "      <td>Região Metropolitana</td>\n",
       "      <td>Grande São Luís - MA</td>\n",
       "      <td>total</td>\n",
       "      <td>639530</td>\n",
       "    </tr>\n",
       "    <tr>\n",
       "      <th>4</th>\n",
       "      <td>7491f56685d005e0aca565ddfefa6f85fae1212714102d...</td>\n",
       "      <td>2010</td>\n",
       "      <td>Região Metropolitana</td>\n",
       "      <td>Sudoeste Maranhense - MA</td>\n",
       "      <td>total</td>\n",
       "      <td>155588</td>\n",
       "    </tr>\n",
       "  </tbody>\n",
       "</table>\n",
       "</div>"
      ],
      "text/plain": [
       "                                                  id   ano  \\\n",
       "0  5ce1397542c815696a781695e1064515dcc99a2f76dc13...  2010   \n",
       "1  225ca007c01f71a0bfdc0ca7dbe77c26e9424c109f1573...  2010   \n",
       "2  a680f96119c12ab0d4629f77563b6bb340d456ebb21499...  2010   \n",
       "3  cf0c0c0e84255199f73093a9352d5c209c32d71128ff39...  2010   \n",
       "4  7491f56685d005e0aca565ddfefa6f85fae1212714102d...  2010   \n",
       "\n",
       "               dimensao                localidade cor_raca populacao  \n",
       "0  Região Metropolitana               Manaus - AM    total    966485  \n",
       "1  Região Metropolitana                Belém - PA    total    989834  \n",
       "2  Região Metropolitana               Macapá - AP    total    227515  \n",
       "3  Região Metropolitana      Grande São Luís - MA    total    639530  \n",
       "4  Região Metropolitana  Sudoeste Maranhense - MA    total    155588  "
      ]
     },
     "execution_count": 118,
     "metadata": {},
     "output_type": "execute_result"
    }
   ],
   "source": [
    "df.head()"
   ]
  },
  {
   "cell_type": "code",
   "execution_count": 119,
   "id": "787844c8-81c0-46a0-96d2-c0b7836d5ccc",
   "metadata": {},
   "outputs": [
    {
     "data": {
      "text/html": [
       "<div>\n",
       "<style scoped>\n",
       "    .dataframe tbody tr th:only-of-type {\n",
       "        vertical-align: middle;\n",
       "    }\n",
       "\n",
       "    .dataframe tbody tr th {\n",
       "        vertical-align: top;\n",
       "    }\n",
       "\n",
       "    .dataframe thead th {\n",
       "        text-align: right;\n",
       "    }\n",
       "</style>\n",
       "<table border=\"1\" class=\"dataframe\">\n",
       "  <thead>\n",
       "    <tr style=\"text-align: right;\">\n",
       "      <th></th>\n",
       "      <th>id</th>\n",
       "      <th>ano</th>\n",
       "      <th>dimensao</th>\n",
       "      <th>localidade</th>\n",
       "      <th>cor_raca</th>\n",
       "      <th>populacao</th>\n",
       "    </tr>\n",
       "  </thead>\n",
       "  <tbody>\n",
       "    <tr>\n",
       "      <th>436</th>\n",
       "      <td>d23860d67f080e8454155455c2cc47c34f2637b24ba27f...</td>\n",
       "      <td>2010</td>\n",
       "      <td>Unidade da Federação</td>\n",
       "      <td>Rio Grande do Sul</td>\n",
       "      <td>sem_declaracao</td>\n",
       "      <td>34</td>\n",
       "    </tr>\n",
       "    <tr>\n",
       "      <th>437</th>\n",
       "      <td>29cc530b8162c0ff5f37a34a07dc7f2dc71e212ef73917...</td>\n",
       "      <td>2010</td>\n",
       "      <td>Unidade da Federação</td>\n",
       "      <td>Mato Grosso do Sul</td>\n",
       "      <td>sem_declaracao</td>\n",
       "      <td>-</td>\n",
       "    </tr>\n",
       "    <tr>\n",
       "      <th>438</th>\n",
       "      <td>f9a89474f5ba626244505fa48a4e9bbf243418ecfbe0ff...</td>\n",
       "      <td>2010</td>\n",
       "      <td>Unidade da Federação</td>\n",
       "      <td>Mato Grosso</td>\n",
       "      <td>sem_declaracao</td>\n",
       "      <td>-</td>\n",
       "    </tr>\n",
       "    <tr>\n",
       "      <th>439</th>\n",
       "      <td>3991c5a6b9fc6bf8aac55aa0cd131e551d2a6e4405ac8e...</td>\n",
       "      <td>2010</td>\n",
       "      <td>Unidade da Federação</td>\n",
       "      <td>Goiás</td>\n",
       "      <td>sem_declaracao</td>\n",
       "      <td>13</td>\n",
       "    </tr>\n",
       "    <tr>\n",
       "      <th>440</th>\n",
       "      <td>be5a3f4e95d5b5c829f8a46a27cafba1d52ef88bc46870...</td>\n",
       "      <td>2010</td>\n",
       "      <td>Unidade da Federação</td>\n",
       "      <td>Distrito Federal</td>\n",
       "      <td>sem_declaracao</td>\n",
       "      <td>-</td>\n",
       "    </tr>\n",
       "  </tbody>\n",
       "</table>\n",
       "</div>"
      ],
      "text/plain": [
       "                                                    id   ano  \\\n",
       "436  d23860d67f080e8454155455c2cc47c34f2637b24ba27f...  2010   \n",
       "437  29cc530b8162c0ff5f37a34a07dc7f2dc71e212ef73917...  2010   \n",
       "438  f9a89474f5ba626244505fa48a4e9bbf243418ecfbe0ff...  2010   \n",
       "439  3991c5a6b9fc6bf8aac55aa0cd131e551d2a6e4405ac8e...  2010   \n",
       "440  be5a3f4e95d5b5c829f8a46a27cafba1d52ef88bc46870...  2010   \n",
       "\n",
       "                 dimensao          localidade        cor_raca populacao  \n",
       "436  Unidade da Federação   Rio Grande do Sul  sem_declaracao        34  \n",
       "437  Unidade da Federação  Mato Grosso do Sul  sem_declaracao         -  \n",
       "438  Unidade da Federação         Mato Grosso  sem_declaracao         -  \n",
       "439  Unidade da Federação               Goiás  sem_declaracao        13  \n",
       "440  Unidade da Federação    Distrito Federal  sem_declaracao         -  "
      ]
     },
     "execution_count": 119,
     "metadata": {},
     "output_type": "execute_result"
    }
   ],
   "source": [
    "df.tail()"
   ]
  },
  {
   "cell_type": "code",
   "execution_count": 120,
   "id": "84261b3b-4e1e-4a63-91a2-5dda60cb0eaa",
   "metadata": {},
   "outputs": [
    {
     "data": {
      "text/plain": [
       "total             63\n",
       "branca            63\n",
       "preta             63\n",
       "amarela           63\n",
       "parda             63\n",
       "indigena          63\n",
       "sem_declaracao    63\n",
       "Name: cor_raca, dtype: int64"
      ]
     },
     "execution_count": 120,
     "metadata": {},
     "output_type": "execute_result"
    }
   ],
   "source": [
    "df.cor_raca.value_counts()"
   ]
  },
  {
   "cell_type": "code",
   "execution_count": 121,
   "id": "ae679869-4641-4906-b00b-9bb7233bec46",
   "metadata": {},
   "outputs": [
    {
     "data": {
      "text/plain": [
       "5ce1397542c815696a781695e1064515dcc99a2f76dc135a4ce586f19bd1e2d5    7\n",
       "0a6a8696b632164b70b0fdf5fce986961096c1a6bea64197046619a22388e18a    7\n",
       "9a2eef2446115a88e99b7d170733f20c54f5de3ad5ec8799ca360ea2f0772ab0    7\n",
       "f8102abf1ca27828da51f064f38f708ba345e30552cef85dc920fe3e0b8a4dcd    7\n",
       "08fb0d5a23679a57d8b8c8cc3875dbc7f062c58a881f4c87cb9ea3af95ed6169    7\n",
       "                                                                   ..\n",
       "1ee5cc191a2d21acde5f9faccbe4dde5116e6d3b19502b389ebaa072c41f27ee    7\n",
       "5cd9f04b5a5280cabfa0ee7ee7765b73d6ce503bd69c4f182855286d336e74b6    7\n",
       "29df00795eeae28e5ab5b69ee2205119d8e2fc77adff9812882b443014449803    7\n",
       "2519d535b130812199cd1b90993048e9ae6669ccd5da8af0ee300231a0c00cc1    7\n",
       "be5a3f4e95d5b5c829f8a46a27cafba1d52ef88bc468702a63bb49b13a836fb6    7\n",
       "Name: id, Length: 63, dtype: int64"
      ]
     },
     "execution_count": 121,
     "metadata": {},
     "output_type": "execute_result"
    }
   ],
   "source": [
    "df.id.value_counts()"
   ]
  },
  {
   "cell_type": "markdown",
   "id": "491a359e-a123-4a4f-a4f3-aba913b17046",
   "metadata": {},
   "source": [
    "# Consolidação dos Dados"
   ]
  },
  {
   "cell_type": "markdown",
   "id": "c2b9fdfd-5681-4499-a2e5-c36c025b03fc",
   "metadata": {},
   "source": [
    "## Criando o DF de referencia"
   ]
  },
  {
   "cell_type": "code",
   "execution_count": 122,
   "id": "fb34be5a-8b96-4068-b946-4244e65fa1fa",
   "metadata": {},
   "outputs": [],
   "source": [
    "df_consolidado.id = df[[\"id\"]].copy()"
   ]
  },
  {
   "cell_type": "code",
   "execution_count": 123,
   "id": "33faefda-30da-4196-b4e8-cb89d0df22ec",
   "metadata": {},
   "outputs": [
    {
     "data": {
      "text/html": [
       "<div>\n",
       "<style scoped>\n",
       "    .dataframe tbody tr th:only-of-type {\n",
       "        vertical-align: middle;\n",
       "    }\n",
       "\n",
       "    .dataframe tbody tr th {\n",
       "        vertical-align: top;\n",
       "    }\n",
       "\n",
       "    .dataframe thead th {\n",
       "        text-align: right;\n",
       "    }\n",
       "</style>\n",
       "<table border=\"1\" class=\"dataframe\">\n",
       "  <thead>\n",
       "    <tr style=\"text-align: right;\">\n",
       "      <th></th>\n",
       "      <th>id</th>\n",
       "      <th>ano</th>\n",
       "      <th>dimensao</th>\n",
       "      <th>localidade</th>\n",
       "      <th>populacao_branca</th>\n",
       "      <th>populacao_negra</th>\n",
       "      <th>populacao_amarela</th>\n",
       "      <th>populacao_parda</th>\n",
       "      <th>populacao_indigena</th>\n",
       "      <th>populacao_sem_declaracao</th>\n",
       "      <th>populacao_total</th>\n",
       "    </tr>\n",
       "  </thead>\n",
       "  <tbody>\n",
       "    <tr>\n",
       "      <th>0</th>\n",
       "      <td>5ce1397542c815696a781695e1064515dcc99a2f76dc13...</td>\n",
       "      <td>NaN</td>\n",
       "      <td>NaN</td>\n",
       "      <td>NaN</td>\n",
       "      <td>NaN</td>\n",
       "      <td>NaN</td>\n",
       "      <td>NaN</td>\n",
       "      <td>NaN</td>\n",
       "      <td>NaN</td>\n",
       "      <td>NaN</td>\n",
       "      <td>NaN</td>\n",
       "    </tr>\n",
       "    <tr>\n",
       "      <th>1</th>\n",
       "      <td>225ca007c01f71a0bfdc0ca7dbe77c26e9424c109f1573...</td>\n",
       "      <td>NaN</td>\n",
       "      <td>NaN</td>\n",
       "      <td>NaN</td>\n",
       "      <td>NaN</td>\n",
       "      <td>NaN</td>\n",
       "      <td>NaN</td>\n",
       "      <td>NaN</td>\n",
       "      <td>NaN</td>\n",
       "      <td>NaN</td>\n",
       "      <td>NaN</td>\n",
       "    </tr>\n",
       "    <tr>\n",
       "      <th>2</th>\n",
       "      <td>a680f96119c12ab0d4629f77563b6bb340d456ebb21499...</td>\n",
       "      <td>NaN</td>\n",
       "      <td>NaN</td>\n",
       "      <td>NaN</td>\n",
       "      <td>NaN</td>\n",
       "      <td>NaN</td>\n",
       "      <td>NaN</td>\n",
       "      <td>NaN</td>\n",
       "      <td>NaN</td>\n",
       "      <td>NaN</td>\n",
       "      <td>NaN</td>\n",
       "    </tr>\n",
       "    <tr>\n",
       "      <th>3</th>\n",
       "      <td>cf0c0c0e84255199f73093a9352d5c209c32d71128ff39...</td>\n",
       "      <td>NaN</td>\n",
       "      <td>NaN</td>\n",
       "      <td>NaN</td>\n",
       "      <td>NaN</td>\n",
       "      <td>NaN</td>\n",
       "      <td>NaN</td>\n",
       "      <td>NaN</td>\n",
       "      <td>NaN</td>\n",
       "      <td>NaN</td>\n",
       "      <td>NaN</td>\n",
       "    </tr>\n",
       "    <tr>\n",
       "      <th>4</th>\n",
       "      <td>7491f56685d005e0aca565ddfefa6f85fae1212714102d...</td>\n",
       "      <td>NaN</td>\n",
       "      <td>NaN</td>\n",
       "      <td>NaN</td>\n",
       "      <td>NaN</td>\n",
       "      <td>NaN</td>\n",
       "      <td>NaN</td>\n",
       "      <td>NaN</td>\n",
       "      <td>NaN</td>\n",
       "      <td>NaN</td>\n",
       "      <td>NaN</td>\n",
       "    </tr>\n",
       "  </tbody>\n",
       "</table>\n",
       "</div>"
      ],
      "text/plain": [
       "                                                  id  ano dimensao localidade  \\\n",
       "0  5ce1397542c815696a781695e1064515dcc99a2f76dc13...  NaN      NaN        NaN   \n",
       "1  225ca007c01f71a0bfdc0ca7dbe77c26e9424c109f1573...  NaN      NaN        NaN   \n",
       "2  a680f96119c12ab0d4629f77563b6bb340d456ebb21499...  NaN      NaN        NaN   \n",
       "3  cf0c0c0e84255199f73093a9352d5c209c32d71128ff39...  NaN      NaN        NaN   \n",
       "4  7491f56685d005e0aca565ddfefa6f85fae1212714102d...  NaN      NaN        NaN   \n",
       "\n",
       "  populacao_branca populacao_negra populacao_amarela populacao_parda  \\\n",
       "0              NaN             NaN               NaN             NaN   \n",
       "1              NaN             NaN               NaN             NaN   \n",
       "2              NaN             NaN               NaN             NaN   \n",
       "3              NaN             NaN               NaN             NaN   \n",
       "4              NaN             NaN               NaN             NaN   \n",
       "\n",
       "  populacao_indigena populacao_sem_declaracao populacao_total  \n",
       "0                NaN                      NaN             NaN  \n",
       "1                NaN                      NaN             NaN  \n",
       "2                NaN                      NaN             NaN  \n",
       "3                NaN                      NaN             NaN  \n",
       "4                NaN                      NaN             NaN  "
      ]
     },
     "execution_count": 123,
     "metadata": {},
     "output_type": "execute_result"
    }
   ],
   "source": [
    "df_consolidado.head()"
   ]
  },
  {
   "cell_type": "code",
   "execution_count": 124,
   "id": "74fa9799-3e53-42af-a724-0d69c1189dbb",
   "metadata": {},
   "outputs": [
    {
     "data": {
      "text/plain": [
       "5ce1397542c815696a781695e1064515dcc99a2f76dc135a4ce586f19bd1e2d5    7\n",
       "0a6a8696b632164b70b0fdf5fce986961096c1a6bea64197046619a22388e18a    7\n",
       "9a2eef2446115a88e99b7d170733f20c54f5de3ad5ec8799ca360ea2f0772ab0    7\n",
       "f8102abf1ca27828da51f064f38f708ba345e30552cef85dc920fe3e0b8a4dcd    7\n",
       "08fb0d5a23679a57d8b8c8cc3875dbc7f062c58a881f4c87cb9ea3af95ed6169    7\n",
       "                                                                   ..\n",
       "1ee5cc191a2d21acde5f9faccbe4dde5116e6d3b19502b389ebaa072c41f27ee    7\n",
       "5cd9f04b5a5280cabfa0ee7ee7765b73d6ce503bd69c4f182855286d336e74b6    7\n",
       "29df00795eeae28e5ab5b69ee2205119d8e2fc77adff9812882b443014449803    7\n",
       "2519d535b130812199cd1b90993048e9ae6669ccd5da8af0ee300231a0c00cc1    7\n",
       "be5a3f4e95d5b5c829f8a46a27cafba1d52ef88bc468702a63bb49b13a836fb6    7\n",
       "Name: id, Length: 63, dtype: int64"
      ]
     },
     "execution_count": 124,
     "metadata": {},
     "output_type": "execute_result"
    }
   ],
   "source": [
    "df_consolidado.id.value_counts()"
   ]
  },
  {
   "cell_type": "code",
   "execution_count": 125,
   "id": "c4d9d6cc-0d6c-4dc1-99ea-6538d1e49974",
   "metadata": {},
   "outputs": [],
   "source": [
    "df_consolidado = df_consolidado.drop_duplicates(subset='id', keep='first')"
   ]
  },
  {
   "cell_type": "code",
   "execution_count": 126,
   "id": "800a07d0-a975-46af-ac3f-642aeb5c24f7",
   "metadata": {},
   "outputs": [
    {
     "data": {
      "text/plain": [
       "5ce1397542c815696a781695e1064515dcc99a2f76dc135a4ce586f19bd1e2d5    1\n",
       "0a6a8696b632164b70b0fdf5fce986961096c1a6bea64197046619a22388e18a    1\n",
       "9a2eef2446115a88e99b7d170733f20c54f5de3ad5ec8799ca360ea2f0772ab0    1\n",
       "f8102abf1ca27828da51f064f38f708ba345e30552cef85dc920fe3e0b8a4dcd    1\n",
       "08fb0d5a23679a57d8b8c8cc3875dbc7f062c58a881f4c87cb9ea3af95ed6169    1\n",
       "                                                                   ..\n",
       "1ee5cc191a2d21acde5f9faccbe4dde5116e6d3b19502b389ebaa072c41f27ee    1\n",
       "5cd9f04b5a5280cabfa0ee7ee7765b73d6ce503bd69c4f182855286d336e74b6    1\n",
       "29df00795eeae28e5ab5b69ee2205119d8e2fc77adff9812882b443014449803    1\n",
       "2519d535b130812199cd1b90993048e9ae6669ccd5da8af0ee300231a0c00cc1    1\n",
       "be5a3f4e95d5b5c829f8a46a27cafba1d52ef88bc468702a63bb49b13a836fb6    1\n",
       "Name: id, Length: 63, dtype: int64"
      ]
     },
     "execution_count": 126,
     "metadata": {},
     "output_type": "execute_result"
    }
   ],
   "source": [
    "df_consolidado.id.value_counts()"
   ]
  },
  {
   "cell_type": "code",
   "execution_count": 127,
   "id": "91848841-5425-4b93-a564-e62b18bb4714",
   "metadata": {},
   "outputs": [],
   "source": [
    "df_consolidado.index = df_consolidado.id"
   ]
  },
  {
   "cell_type": "code",
   "execution_count": 128,
   "id": "deace62e-18c8-45d6-8944-5496a93919b8",
   "metadata": {},
   "outputs": [],
   "source": [
    "df_consolidado = df_consolidado.drop(columns=\"id\", axis=1)"
   ]
  },
  {
   "cell_type": "code",
   "execution_count": 129,
   "id": "84b5429f-6301-4021-b038-ebe2e1492ec9",
   "metadata": {
    "scrolled": true
   },
   "outputs": [
    {
     "data": {
      "text/html": [
       "<div>\n",
       "<style scoped>\n",
       "    .dataframe tbody tr th:only-of-type {\n",
       "        vertical-align: middle;\n",
       "    }\n",
       "\n",
       "    .dataframe tbody tr th {\n",
       "        vertical-align: top;\n",
       "    }\n",
       "\n",
       "    .dataframe thead th {\n",
       "        text-align: right;\n",
       "    }\n",
       "</style>\n",
       "<table border=\"1\" class=\"dataframe\">\n",
       "  <thead>\n",
       "    <tr style=\"text-align: right;\">\n",
       "      <th></th>\n",
       "      <th>ano</th>\n",
       "      <th>dimensao</th>\n",
       "      <th>localidade</th>\n",
       "      <th>populacao_branca</th>\n",
       "      <th>populacao_negra</th>\n",
       "      <th>populacao_amarela</th>\n",
       "      <th>populacao_parda</th>\n",
       "      <th>populacao_indigena</th>\n",
       "      <th>populacao_sem_declaracao</th>\n",
       "      <th>populacao_total</th>\n",
       "    </tr>\n",
       "    <tr>\n",
       "      <th>id</th>\n",
       "      <th></th>\n",
       "      <th></th>\n",
       "      <th></th>\n",
       "      <th></th>\n",
       "      <th></th>\n",
       "      <th></th>\n",
       "      <th></th>\n",
       "      <th></th>\n",
       "      <th></th>\n",
       "      <th></th>\n",
       "    </tr>\n",
       "  </thead>\n",
       "  <tbody>\n",
       "    <tr>\n",
       "      <th>5ce1397542c815696a781695e1064515dcc99a2f76dc135a4ce586f19bd1e2d5</th>\n",
       "      <td>NaN</td>\n",
       "      <td>NaN</td>\n",
       "      <td>NaN</td>\n",
       "      <td>NaN</td>\n",
       "      <td>NaN</td>\n",
       "      <td>NaN</td>\n",
       "      <td>NaN</td>\n",
       "      <td>NaN</td>\n",
       "      <td>NaN</td>\n",
       "      <td>NaN</td>\n",
       "    </tr>\n",
       "    <tr>\n",
       "      <th>225ca007c01f71a0bfdc0ca7dbe77c26e9424c109f157378bad9b2605f7867bb</th>\n",
       "      <td>NaN</td>\n",
       "      <td>NaN</td>\n",
       "      <td>NaN</td>\n",
       "      <td>NaN</td>\n",
       "      <td>NaN</td>\n",
       "      <td>NaN</td>\n",
       "      <td>NaN</td>\n",
       "      <td>NaN</td>\n",
       "      <td>NaN</td>\n",
       "      <td>NaN</td>\n",
       "    </tr>\n",
       "    <tr>\n",
       "      <th>a680f96119c12ab0d4629f77563b6bb340d456ebb214990360faaebf9f9f00b2</th>\n",
       "      <td>NaN</td>\n",
       "      <td>NaN</td>\n",
       "      <td>NaN</td>\n",
       "      <td>NaN</td>\n",
       "      <td>NaN</td>\n",
       "      <td>NaN</td>\n",
       "      <td>NaN</td>\n",
       "      <td>NaN</td>\n",
       "      <td>NaN</td>\n",
       "      <td>NaN</td>\n",
       "    </tr>\n",
       "    <tr>\n",
       "      <th>cf0c0c0e84255199f73093a9352d5c209c32d71128ff395a2c26d163c0bfd235</th>\n",
       "      <td>NaN</td>\n",
       "      <td>NaN</td>\n",
       "      <td>NaN</td>\n",
       "      <td>NaN</td>\n",
       "      <td>NaN</td>\n",
       "      <td>NaN</td>\n",
       "      <td>NaN</td>\n",
       "      <td>NaN</td>\n",
       "      <td>NaN</td>\n",
       "      <td>NaN</td>\n",
       "    </tr>\n",
       "    <tr>\n",
       "      <th>7491f56685d005e0aca565ddfefa6f85fae1212714102db8eb066d4104c05274</th>\n",
       "      <td>NaN</td>\n",
       "      <td>NaN</td>\n",
       "      <td>NaN</td>\n",
       "      <td>NaN</td>\n",
       "      <td>NaN</td>\n",
       "      <td>NaN</td>\n",
       "      <td>NaN</td>\n",
       "      <td>NaN</td>\n",
       "      <td>NaN</td>\n",
       "      <td>NaN</td>\n",
       "    </tr>\n",
       "  </tbody>\n",
       "</table>\n",
       "</div>"
      ],
      "text/plain": [
       "                                                    ano dimensao localidade  \\\n",
       "id                                                                            \n",
       "5ce1397542c815696a781695e1064515dcc99a2f76dc135...  NaN      NaN        NaN   \n",
       "225ca007c01f71a0bfdc0ca7dbe77c26e9424c109f15737...  NaN      NaN        NaN   \n",
       "a680f96119c12ab0d4629f77563b6bb340d456ebb214990...  NaN      NaN        NaN   \n",
       "cf0c0c0e84255199f73093a9352d5c209c32d71128ff395...  NaN      NaN        NaN   \n",
       "7491f56685d005e0aca565ddfefa6f85fae1212714102db...  NaN      NaN        NaN   \n",
       "\n",
       "                                                   populacao_branca  \\\n",
       "id                                                                    \n",
       "5ce1397542c815696a781695e1064515dcc99a2f76dc135...              NaN   \n",
       "225ca007c01f71a0bfdc0ca7dbe77c26e9424c109f15737...              NaN   \n",
       "a680f96119c12ab0d4629f77563b6bb340d456ebb214990...              NaN   \n",
       "cf0c0c0e84255199f73093a9352d5c209c32d71128ff395...              NaN   \n",
       "7491f56685d005e0aca565ddfefa6f85fae1212714102db...              NaN   \n",
       "\n",
       "                                                   populacao_negra  \\\n",
       "id                                                                   \n",
       "5ce1397542c815696a781695e1064515dcc99a2f76dc135...             NaN   \n",
       "225ca007c01f71a0bfdc0ca7dbe77c26e9424c109f15737...             NaN   \n",
       "a680f96119c12ab0d4629f77563b6bb340d456ebb214990...             NaN   \n",
       "cf0c0c0e84255199f73093a9352d5c209c32d71128ff395...             NaN   \n",
       "7491f56685d005e0aca565ddfefa6f85fae1212714102db...             NaN   \n",
       "\n",
       "                                                   populacao_amarela  \\\n",
       "id                                                                     \n",
       "5ce1397542c815696a781695e1064515dcc99a2f76dc135...               NaN   \n",
       "225ca007c01f71a0bfdc0ca7dbe77c26e9424c109f15737...               NaN   \n",
       "a680f96119c12ab0d4629f77563b6bb340d456ebb214990...               NaN   \n",
       "cf0c0c0e84255199f73093a9352d5c209c32d71128ff395...               NaN   \n",
       "7491f56685d005e0aca565ddfefa6f85fae1212714102db...               NaN   \n",
       "\n",
       "                                                   populacao_parda  \\\n",
       "id                                                                   \n",
       "5ce1397542c815696a781695e1064515dcc99a2f76dc135...             NaN   \n",
       "225ca007c01f71a0bfdc0ca7dbe77c26e9424c109f15737...             NaN   \n",
       "a680f96119c12ab0d4629f77563b6bb340d456ebb214990...             NaN   \n",
       "cf0c0c0e84255199f73093a9352d5c209c32d71128ff395...             NaN   \n",
       "7491f56685d005e0aca565ddfefa6f85fae1212714102db...             NaN   \n",
       "\n",
       "                                                   populacao_indigena  \\\n",
       "id                                                                      \n",
       "5ce1397542c815696a781695e1064515dcc99a2f76dc135...                NaN   \n",
       "225ca007c01f71a0bfdc0ca7dbe77c26e9424c109f15737...                NaN   \n",
       "a680f96119c12ab0d4629f77563b6bb340d456ebb214990...                NaN   \n",
       "cf0c0c0e84255199f73093a9352d5c209c32d71128ff395...                NaN   \n",
       "7491f56685d005e0aca565ddfefa6f85fae1212714102db...                NaN   \n",
       "\n",
       "                                                   populacao_sem_declaracao  \\\n",
       "id                                                                            \n",
       "5ce1397542c815696a781695e1064515dcc99a2f76dc135...                      NaN   \n",
       "225ca007c01f71a0bfdc0ca7dbe77c26e9424c109f15737...                      NaN   \n",
       "a680f96119c12ab0d4629f77563b6bb340d456ebb214990...                      NaN   \n",
       "cf0c0c0e84255199f73093a9352d5c209c32d71128ff395...                      NaN   \n",
       "7491f56685d005e0aca565ddfefa6f85fae1212714102db...                      NaN   \n",
       "\n",
       "                                                   populacao_total  \n",
       "id                                                                  \n",
       "5ce1397542c815696a781695e1064515dcc99a2f76dc135...             NaN  \n",
       "225ca007c01f71a0bfdc0ca7dbe77c26e9424c109f15737...             NaN  \n",
       "a680f96119c12ab0d4629f77563b6bb340d456ebb214990...             NaN  \n",
       "cf0c0c0e84255199f73093a9352d5c209c32d71128ff395...             NaN  \n",
       "7491f56685d005e0aca565ddfefa6f85fae1212714102db...             NaN  "
      ]
     },
     "execution_count": 129,
     "metadata": {},
     "output_type": "execute_result"
    }
   ],
   "source": [
    "df_consolidado.head()"
   ]
  },
  {
   "cell_type": "markdown",
   "id": "18993a21-8818-424e-a018-43d6de92cc7d",
   "metadata": {},
   "source": [
    "## Inputando os dados quantitativos da população"
   ]
  },
  {
   "cell_type": "code",
   "execution_count": 130,
   "id": "e618c199-64b8-4bed-a45a-10666921d6cf",
   "metadata": {},
   "outputs": [],
   "source": [
    "for index, row in df.iterrows():\n",
    "    # print(row.id)\n",
    "    df_consolidado.loc[row.id, \"ano\"] = row.ano\n",
    "    df_consolidado.loc[row.id, \"dimensao\"] = row.dimensao\n",
    "    df_consolidado.loc[row.id, \"localidade\"] = row.localidade\n",
    "\n",
    "    if row.cor_raca == \"total\":\n",
    "        df_consolidado.loc[row.id, \"populacao_total\"] = row.populacao\n",
    "    elif row.cor_raca == \"branca\":\n",
    "        df_consolidado.loc[row.id, \"populacao_branca\"] = row.populacao\n",
    "    elif row.cor_raca == \"preta\":\n",
    "        df_consolidado.loc[row.id, \"populacao_negra\"] = row.populacao\n",
    "    elif row.cor_raca == \"amarela\":\n",
    "        df_consolidado.loc[row.id, \"populacao_amarela\"] = row.populacao    \n",
    "    elif row.cor_raca == \"parda\":\n",
    "        df_consolidado.loc[row.id, \"populacao_parda\"] = row.populacao \n",
    "    elif row.cor_raca == \"indigena\":\n",
    "        df_consolidado.loc[row.id, \"populacao_indigena\"] = row.populacao\n",
    "    elif row.cor_raca == \"sem_declaracao\":\n",
    "        df_consolidado.loc[row.id, \"populacao_sem_declaracao\"] = row.populacao \n",
    "    # break"
   ]
  },
  {
   "cell_type": "code",
   "execution_count": 131,
   "id": "97b815b0-abee-4eff-90fc-4ddd88bdc75e",
   "metadata": {},
   "outputs": [],
   "source": [
    "df_consolidado.replace(\"-\", 0, inplace=True)"
   ]
  },
  {
   "cell_type": "markdown",
   "id": "f81816cb-a8c4-4e00-b007-d8ad47ac7c04",
   "metadata": {},
   "source": [
    "### Convertendo as colunas para integer"
   ]
  },
  {
   "cell_type": "code",
   "execution_count": 132,
   "id": "90e43e6e-e6ee-4d78-a7d4-8f435fb4438f",
   "metadata": {},
   "outputs": [],
   "source": [
    "df_consolidado[\"populacao_total\"] = df_consolidado[\"populacao_total\"].astype(int)\n",
    "df_consolidado[\"populacao_branca\"] = df_consolidado[\"populacao_branca\"].astype(int)\n",
    "df_consolidado[\"populacao_negra\"] = df_consolidado[\"populacao_negra\"].astype(int)\n",
    "df_consolidado[\"populacao_amarela\"] = df_consolidado[\"populacao_amarela\"].astype(int)\n",
    "df_consolidado[\"populacao_parda\"] = df_consolidado[\"populacao_parda\"].astype(int)\n",
    "df_consolidado[\"populacao_indigena\"] = df_consolidado[\"populacao_indigena\"].astype(int)\n",
    "df_consolidado[\"populacao_sem_declaracao\"] = df_consolidado[\"populacao_sem_declaracao\"].astype(int)"
   ]
  },
  {
   "cell_type": "markdown",
   "id": "418915ef-3af9-4704-a58e-db4f657bd8b4",
   "metadata": {},
   "source": [
    "### Conferencia da Consolidação Quantitativa"
   ]
  },
  {
   "cell_type": "code",
   "execution_count": 133,
   "id": "0d496496-f922-4726-9e9c-74b6b2c1f9d3",
   "metadata": {},
   "outputs": [
    {
     "name": "stdout",
     "output_type": "stream",
     "text": [
      "<class 'pandas.core.frame.DataFrame'>\n",
      "Index: 63 entries, 5ce1397542c815696a781695e1064515dcc99a2f76dc135a4ce586f19bd1e2d5 to be5a3f4e95d5b5c829f8a46a27cafba1d52ef88bc468702a63bb49b13a836fb6\n",
      "Data columns (total 10 columns):\n",
      " #   Column                    Non-Null Count  Dtype \n",
      "---  ------                    --------------  ----- \n",
      " 0   ano                       63 non-null     object\n",
      " 1   dimensao                  63 non-null     object\n",
      " 2   localidade                63 non-null     object\n",
      " 3   populacao_branca          63 non-null     int64 \n",
      " 4   populacao_negra           63 non-null     int64 \n",
      " 5   populacao_amarela         63 non-null     int64 \n",
      " 6   populacao_parda           63 non-null     int64 \n",
      " 7   populacao_indigena        63 non-null     int64 \n",
      " 8   populacao_sem_declaracao  63 non-null     int64 \n",
      " 9   populacao_total           63 non-null     int64 \n",
      "dtypes: int64(7), object(3)\n",
      "memory usage: 7.5+ KB\n"
     ]
    }
   ],
   "source": [
    "df_consolidado.info()"
   ]
  },
  {
   "cell_type": "code",
   "execution_count": 134,
   "id": "004cf80c-0b41-432f-bc56-3252f2a397e5",
   "metadata": {},
   "outputs": [
    {
     "data": {
      "text/plain": [
       "ano                                         2010\n",
       "dimensao                    Região Metropolitana\n",
       "localidade                            Belém - PA\n",
       "populacao_branca                          247878\n",
       "populacao_negra                            84605\n",
       "populacao_amarela                           8441\n",
       "populacao_parda                           647451\n",
       "populacao_indigena                          1460\n",
       "populacao_sem_declaracao                       0\n",
       "populacao_total                           989834\n",
       "Name: 225ca007c01f71a0bfdc0ca7dbe77c26e9424c109f157378bad9b2605f7867bb, dtype: object"
      ]
     },
     "execution_count": 134,
     "metadata": {},
     "output_type": "execute_result"
    }
   ],
   "source": [
    "df_consolidado.iloc[1]"
   ]
  },
  {
   "cell_type": "markdown",
   "id": "07a891a2-0ade-47a2-beff-e7a513a9f2a2",
   "metadata": {},
   "source": [
    "## Criando as porcentagens"
   ]
  },
  {
   "cell_type": "code",
   "execution_count": 135,
   "id": "f8b63437-7822-42f7-8aa0-fd194eb3945b",
   "metadata": {},
   "outputs": [],
   "source": [
    "df_consolidado['populacao_branca_porcentagem'] = ((df_consolidado['populacao_branca'] / df_consolidado['populacao_total']) * 100).round(2) "
   ]
  },
  {
   "cell_type": "code",
   "execution_count": 136,
   "id": "4282fee2-8c8e-4879-b5f8-95064fdc3233",
   "metadata": {},
   "outputs": [],
   "source": [
    "df_consolidado['populacao_negra_porcentagem'] = ((df_consolidado['populacao_negra'] / df_consolidado['populacao_total']) * 100).round(2) "
   ]
  },
  {
   "cell_type": "code",
   "execution_count": 137,
   "id": "42d0c249-a0a2-427f-b76e-69e1b1b25e5e",
   "metadata": {},
   "outputs": [],
   "source": [
    "df_consolidado['populacao_amarela_porcentagem'] = ((df_consolidado['populacao_amarela'] / df_consolidado['populacao_total']) * 100).round(2) "
   ]
  },
  {
   "cell_type": "code",
   "execution_count": 138,
   "id": "a80cae3d-c23c-4996-b08e-f4bbbba3f49e",
   "metadata": {},
   "outputs": [],
   "source": [
    "df_consolidado['populacao_parda_porcentagem'] = ((df_consolidado['populacao_parda'] / df_consolidado['populacao_total']) * 100).round(2) "
   ]
  },
  {
   "cell_type": "code",
   "execution_count": 139,
   "id": "21a85ca5-d52f-4445-baf5-166dd21dc816",
   "metadata": {},
   "outputs": [],
   "source": [
    "df_consolidado['populacao_indigena_porcentagem'] = ((df_consolidado['populacao_indigena'] / df_consolidado['populacao_total']) * 100).round(2) "
   ]
  },
  {
   "cell_type": "code",
   "execution_count": 140,
   "id": "23757e40-d51a-4cc5-a661-365a7221adfc",
   "metadata": {},
   "outputs": [],
   "source": [
    "df_consolidado['populacao_sem_declaracao_porcentagem'] = ((df_consolidado['populacao_sem_declaracao'] / df_consolidado['populacao_total']) * 100).round(2) "
   ]
  },
  {
   "cell_type": "code",
   "execution_count": 141,
   "id": "689fe2ae-b3a4-43eb-9582-515e7e273aa1",
   "metadata": {},
   "outputs": [
    {
     "data": {
      "text/plain": [
       "ano                                                     2010\n",
       "dimensao                                Região Metropolitana\n",
       "localidade                                        Belém - PA\n",
       "populacao_branca                                      247878\n",
       "populacao_negra                                        84605\n",
       "populacao_amarela                                       8441\n",
       "populacao_parda                                       647451\n",
       "populacao_indigena                                      1460\n",
       "populacao_sem_declaracao                                   0\n",
       "populacao_total                                       989834\n",
       "populacao_branca_porcentagem                           25.04\n",
       "populacao_negra_porcentagem                             8.55\n",
       "populacao_amarela_porcentagem                           0.85\n",
       "populacao_parda_porcentagem                            65.41\n",
       "populacao_indigena_porcentagem                          0.15\n",
       "populacao_sem_declaracao_porcentagem                     0.0\n",
       "Name: 225ca007c01f71a0bfdc0ca7dbe77c26e9424c109f157378bad9b2605f7867bb, dtype: object"
      ]
     },
     "execution_count": 141,
     "metadata": {},
     "output_type": "execute_result"
    }
   ],
   "source": [
    "df_consolidado.iloc[1]"
   ]
  },
  {
   "cell_type": "markdown",
   "id": "bf66d420-d4c8-4d65-9fab-1cb4f2620414",
   "metadata": {},
   "source": [
    "# Upload"
   ]
  },
  {
   "cell_type": "markdown",
   "id": "f3bf3fdd-7e87-4929-8c4d-669817611b15",
   "metadata": {},
   "source": [
    "## Salvando os Dados"
   ]
  },
  {
   "cell_type": "code",
   "execution_count": 142,
   "id": "8260b2fc-b381-4eb8-8d60-bb93e23d8072",
   "metadata": {},
   "outputs": [],
   "source": [
    "df_consolidado.to_json('datasets/pessoas_economicamente_ativas.json', orient='records', lines=True)"
   ]
  },
  {
   "cell_type": "code",
   "execution_count": 143,
   "id": "3749ec97-4835-4b05-813c-e9814da5b455",
   "metadata": {},
   "outputs": [],
   "source": [
    "df_consolidado.to_csv('datasets/pessoas_economicamente_ativas.csv', index=False)"
   ]
  },
  {
   "cell_type": "code",
   "execution_count": 144,
   "id": "1edaf28d-f937-438c-aaec-67dac13b5e22",
   "metadata": {},
   "outputs": [
    {
     "data": {
      "text/plain": [
       "True"
      ]
     },
     "execution_count": 144,
     "metadata": {},
     "output_type": "execute_result"
    }
   ],
   "source": [
    "UploadS3('datasets/pessoas_economicamente_ativas.json', 'sociais/pessoas_economicamente_ativas.pessoas_economicamente_ativas.json')"
   ]
  },
  {
   "cell_type": "code",
   "execution_count": 145,
   "id": "0abd6b76-2c1e-448d-9285-7d0442a59ae8",
   "metadata": {},
   "outputs": [
    {
     "data": {
      "text/plain": [
       "True"
      ]
     },
     "execution_count": 145,
     "metadata": {},
     "output_type": "execute_result"
    }
   ],
   "source": [
    "UploadS3('datasets/pessoas_economicamente_ativas.csv', 'sociais/pessoas_economicamente_ativas/pessoas_economicamente_ativas.csv')"
   ]
  },
  {
   "cell_type": "code",
   "execution_count": null,
   "id": "2998032b-a1d4-43c2-b30b-479cdb36930b",
   "metadata": {},
   "outputs": [],
   "source": []
  }
 ],
 "metadata": {
  "kernelspec": {
   "display_name": "Python 3 (ipykernel)",
   "language": "python",
   "name": "python3"
  },
  "language_info": {
   "codemirror_mode": {
    "name": "ipython",
    "version": 3
   },
   "file_extension": ".py",
   "mimetype": "text/x-python",
   "name": "python",
   "nbconvert_exporter": "python",
   "pygments_lexer": "ipython3",
   "version": "3.10.9"
  }
 },
 "nbformat": 4,
 "nbformat_minor": 5
}
