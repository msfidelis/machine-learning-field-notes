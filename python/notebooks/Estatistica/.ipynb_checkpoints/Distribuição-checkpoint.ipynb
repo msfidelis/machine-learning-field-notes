{
 "cells": [
  {
   "cell_type": "markdown",
   "id": "5317da3c",
   "metadata": {},
   "source": [
    "# Setup do Projeto"
   ]
  },
  {
   "cell_type": "markdown",
   "id": "eee04a49",
   "metadata": {},
   "source": [
    "## Importando Bibliotecas"
   ]
  },
  {
   "cell_type": "code",
   "execution_count": 1,
   "id": "0f8419b4",
   "metadata": {},
   "outputs": [],
   "source": [
    "import pandas as pd\n",
    "import numpy as np\n",
    "import matplotlib.pyplot as plt\n",
    "from scipy import stats"
   ]
  },
  {
   "cell_type": "markdown",
   "id": "130cb206",
   "metadata": {},
   "source": [
    "## Importando o Dataset"
   ]
  },
  {
   "cell_type": "code",
   "execution_count": 2,
   "id": "9e30b130",
   "metadata": {
    "scrolled": false
   },
   "outputs": [
    {
     "data": {
      "text/html": [
       "<div>\n",
       "<style scoped>\n",
       "    .dataframe tbody tr th:only-of-type {\n",
       "        vertical-align: middle;\n",
       "    }\n",
       "\n",
       "    .dataframe tbody tr th {\n",
       "        vertical-align: top;\n",
       "    }\n",
       "\n",
       "    .dataframe thead th {\n",
       "        text-align: right;\n",
       "    }\n",
       "</style>\n",
       "<table border=\"1\" class=\"dataframe\">\n",
       "  <thead>\n",
       "    <tr style=\"text-align: right;\">\n",
       "      <th></th>\n",
       "      <th>index</th>\n",
       "      <th>url</th>\n",
       "      <th>name</th>\n",
       "      <th>sub_title</th>\n",
       "      <th>brand</th>\n",
       "      <th>model</th>\n",
       "      <th>color</th>\n",
       "      <th>price</th>\n",
       "      <th>currency</th>\n",
       "      <th>availability</th>\n",
       "      <th>description</th>\n",
       "      <th>raw_description</th>\n",
       "      <th>avg_rating</th>\n",
       "      <th>review_count</th>\n",
       "      <th>images</th>\n",
       "      <th>available_sizes</th>\n",
       "      <th>uniq_id</th>\n",
       "      <th>scraped_at</th>\n",
       "    </tr>\n",
       "  </thead>\n",
       "  <tbody>\n",
       "    <tr>\n",
       "      <th>0</th>\n",
       "      <td>0</td>\n",
       "      <td>https://www.nike.com/t/dri-fit-team-minnesota-...</td>\n",
       "      <td>Nike Dri-FIT Team (MLB Minnesota Twins)</td>\n",
       "      <td>Men's Long-Sleeve T-Shirt</td>\n",
       "      <td>Nike</td>\n",
       "      <td>14226571</td>\n",
       "      <td>Navy</td>\n",
       "      <td>40.00</td>\n",
       "      <td>USD</td>\n",
       "      <td>InStock</td>\n",
       "      <td>SWEAT-WICKING COMFORT.The Nike Dri-FIT Team (M...</td>\n",
       "      <td>&lt;div class=\"pi-pdpmainbody\"&gt;&lt;p&gt;&lt;b class=\"headl...</td>\n",
       "      <td>NaN</td>\n",
       "      <td>NaN</td>\n",
       "      <td>https://static.nike.com/a/images/t_PDP_1280_v1...</td>\n",
       "      <td>S | M | L | XL | 2XL</td>\n",
       "      <td>c3229e54-aa58-5fdd-9f71-fbe66366b2b2</td>\n",
       "      <td>20/09/2022 23:32:28</td>\n",
       "    </tr>\n",
       "    <tr>\n",
       "      <th>1</th>\n",
       "      <td>1</td>\n",
       "      <td>https://www.nike.com/t/club-américa-womens-dri...</td>\n",
       "      <td>Club América</td>\n",
       "      <td>Women's Nike Dri-FIT Soccer Jersey Dress</td>\n",
       "      <td>Nike</td>\n",
       "      <td>13814665</td>\n",
       "      <td>Black/Black</td>\n",
       "      <td>90.00</td>\n",
       "      <td>USD</td>\n",
       "      <td>InStock</td>\n",
       "      <td>Inspired by traditional soccer jerseys, the Cl...</td>\n",
       "      <td>&lt;div class=\"pi-pdpmainbody\"&gt;&lt;br/&gt;&lt;p&gt;Inspired b...</td>\n",
       "      <td>5.0</td>\n",
       "      <td>1.0</td>\n",
       "      <td>https://static.nike.com/a/images/t_PDP_1280_v1...</td>\n",
       "      <td>L (12–14)</td>\n",
       "      <td>f8ebb2ed-17ae-5719-b750-5ea3ec69b75c</td>\n",
       "      <td>20/09/2022 23:32:40</td>\n",
       "    </tr>\n",
       "    <tr>\n",
       "      <th>2</th>\n",
       "      <td>2</td>\n",
       "      <td>https://www.nike.com/t/sportswear-swoosh-mens-...</td>\n",
       "      <td>Nike Sportswear Swoosh</td>\n",
       "      <td>Men's Overalls</td>\n",
       "      <td>Nike</td>\n",
       "      <td>13015648</td>\n",
       "      <td>Black/White</td>\n",
       "      <td>140.00</td>\n",
       "      <td>USD</td>\n",
       "      <td>OutOfStock</td>\n",
       "      <td>WORKING HARD TO KEEP YOU COMFORTABLE.The Nike ...</td>\n",
       "      <td>&lt;div class=\"pi-pdpmainbody\"&gt;&lt;p&gt;&lt;b class=\"headl...</td>\n",
       "      <td>4.9</td>\n",
       "      <td>11.0</td>\n",
       "      <td>https://static.nike.com/a/images/t_PDP_1280_v1...</td>\n",
       "      <td>NaN</td>\n",
       "      <td>88120081-e6cb-5399-b9dc-a2d3d5dd5206</td>\n",
       "      <td>20/09/2022 23:33:16</td>\n",
       "    </tr>\n",
       "    <tr>\n",
       "      <th>3</th>\n",
       "      <td>3</td>\n",
       "      <td>https://www.nike.com/t/dri-fit-one-luxe-big-ki...</td>\n",
       "      <td>Nike Dri-FIT One Luxe</td>\n",
       "      <td>Big Kids' (Girls') Printed Tights (Extended Size)</td>\n",
       "      <td>Nike</td>\n",
       "      <td>13809796</td>\n",
       "      <td>Black/Rush Pink</td>\n",
       "      <td>22.97</td>\n",
       "      <td>USD</td>\n",
       "      <td>OutOfStock</td>\n",
       "      <td>ELEVATED COMFORT GOES FULL BLOOM.The Nike Dri-...</td>\n",
       "      <td>&lt;div class=\"pi-pdpmainbody\"&gt;&lt;p&gt;&lt;b class=\"headl...</td>\n",
       "      <td>NaN</td>\n",
       "      <td>NaN</td>\n",
       "      <td>https://static.nike.com/a/images/t_PDP_1280_v1...</td>\n",
       "      <td>NaN</td>\n",
       "      <td>98348cc5-1520-5b6e-a5f6-c42547b6a092</td>\n",
       "      <td>20/09/2022 23:33:17</td>\n",
       "    </tr>\n",
       "    <tr>\n",
       "      <th>4</th>\n",
       "      <td>4</td>\n",
       "      <td>https://www.nike.com/t/paris-saint-germain-rep...</td>\n",
       "      <td>Paris Saint-Germain Repel Academy AWF</td>\n",
       "      <td>Big Kids' Soccer Jacket</td>\n",
       "      <td>Nike</td>\n",
       "      <td>13327415</td>\n",
       "      <td>Dark Grey/Black/Siren Red/Siren Red</td>\n",
       "      <td>70.00</td>\n",
       "      <td>USD</td>\n",
       "      <td>InStock</td>\n",
       "      <td>WATER-REPELLENT COVERAGE GETS PSG DETAILS.The ...</td>\n",
       "      <td>&lt;div class=\"pi-pdpmainbody\"&gt;&lt;p&gt;&lt;b class=\"headl...</td>\n",
       "      <td>NaN</td>\n",
       "      <td>NaN</td>\n",
       "      <td>https://static.nike.com/a/images/t_PDP_1280_v1...</td>\n",
       "      <td>XS | S | M | L | XL</td>\n",
       "      <td>f15981a5-d8c9-53fa-880d-80606be188fe</td>\n",
       "      <td>20/09/2022 23:33:22</td>\n",
       "    </tr>\n",
       "  </tbody>\n",
       "</table>\n",
       "</div>"
      ],
      "text/plain": [
       "   index                                                url  \\\n",
       "0      0  https://www.nike.com/t/dri-fit-team-minnesota-...   \n",
       "1      1  https://www.nike.com/t/club-américa-womens-dri...   \n",
       "2      2  https://www.nike.com/t/sportswear-swoosh-mens-...   \n",
       "3      3  https://www.nike.com/t/dri-fit-one-luxe-big-ki...   \n",
       "4      4  https://www.nike.com/t/paris-saint-germain-rep...   \n",
       "\n",
       "                                      name  \\\n",
       "0  Nike Dri-FIT Team (MLB Minnesota Twins)   \n",
       "1                             Club América   \n",
       "2                   Nike Sportswear Swoosh   \n",
       "3                    Nike Dri-FIT One Luxe   \n",
       "4    Paris Saint-Germain Repel Academy AWF   \n",
       "\n",
       "                                           sub_title brand     model  \\\n",
       "0                          Men's Long-Sleeve T-Shirt  Nike  14226571   \n",
       "1           Women's Nike Dri-FIT Soccer Jersey Dress  Nike  13814665   \n",
       "2                                     Men's Overalls  Nike  13015648   \n",
       "3  Big Kids' (Girls') Printed Tights (Extended Size)  Nike  13809796   \n",
       "4                            Big Kids' Soccer Jacket  Nike  13327415   \n",
       "\n",
       "                                 color   price currency availability  \\\n",
       "0                                 Navy   40.00      USD      InStock   \n",
       "1                          Black/Black   90.00      USD      InStock   \n",
       "2                          Black/White  140.00      USD   OutOfStock   \n",
       "3                      Black/Rush Pink   22.97      USD   OutOfStock   \n",
       "4  Dark Grey/Black/Siren Red/Siren Red   70.00      USD      InStock   \n",
       "\n",
       "                                         description  \\\n",
       "0  SWEAT-WICKING COMFORT.The Nike Dri-FIT Team (M...   \n",
       "1  Inspired by traditional soccer jerseys, the Cl...   \n",
       "2  WORKING HARD TO KEEP YOU COMFORTABLE.The Nike ...   \n",
       "3  ELEVATED COMFORT GOES FULL BLOOM.The Nike Dri-...   \n",
       "4  WATER-REPELLENT COVERAGE GETS PSG DETAILS.The ...   \n",
       "\n",
       "                                     raw_description  avg_rating  \\\n",
       "0  <div class=\"pi-pdpmainbody\"><p><b class=\"headl...         NaN   \n",
       "1  <div class=\"pi-pdpmainbody\"><br/><p>Inspired b...         5.0   \n",
       "2  <div class=\"pi-pdpmainbody\"><p><b class=\"headl...         4.9   \n",
       "3  <div class=\"pi-pdpmainbody\"><p><b class=\"headl...         NaN   \n",
       "4  <div class=\"pi-pdpmainbody\"><p><b class=\"headl...         NaN   \n",
       "\n",
       "   review_count                                             images  \\\n",
       "0           NaN  https://static.nike.com/a/images/t_PDP_1280_v1...   \n",
       "1           1.0  https://static.nike.com/a/images/t_PDP_1280_v1...   \n",
       "2          11.0  https://static.nike.com/a/images/t_PDP_1280_v1...   \n",
       "3           NaN  https://static.nike.com/a/images/t_PDP_1280_v1...   \n",
       "4           NaN  https://static.nike.com/a/images/t_PDP_1280_v1...   \n",
       "\n",
       "        available_sizes                               uniq_id  \\\n",
       "0  S | M | L | XL | 2XL  c3229e54-aa58-5fdd-9f71-fbe66366b2b2   \n",
       "1             L (12–14)  f8ebb2ed-17ae-5719-b750-5ea3ec69b75c   \n",
       "2                   NaN  88120081-e6cb-5399-b9dc-a2d3d5dd5206   \n",
       "3                   NaN  98348cc5-1520-5b6e-a5f6-c42547b6a092   \n",
       "4   XS | S | M | L | XL  f15981a5-d8c9-53fa-880d-80606be188fe   \n",
       "\n",
       "            scraped_at  \n",
       "0  20/09/2022 23:32:28  \n",
       "1  20/09/2022 23:32:40  \n",
       "2  20/09/2022 23:33:16  \n",
       "3  20/09/2022 23:33:17  \n",
       "4  20/09/2022 23:33:22  "
      ]
     },
     "execution_count": 2,
     "metadata": {},
     "output_type": "execute_result"
    }
   ],
   "source": [
    "df = pd.read_csv(\"nike_data.csv\")\n",
    "df.head()"
   ]
  },
  {
   "cell_type": "markdown",
   "id": "0d8cb2e8",
   "metadata": {},
   "source": [
    "# Análise Exploratória"
   ]
  },
  {
   "cell_type": "code",
   "execution_count": 3,
   "id": "71863b53",
   "metadata": {
    "scrolled": true
   },
   "outputs": [
    {
     "data": {
      "text/plain": [
       "DescribeResult(nobs=112, minmax=(9.97, 175.0), mean=61.50625000000001, variance=1591.0316614864864, skewness=0.9575290891510537, kurtosis=0.08078355404257653)"
      ]
     },
     "execution_count": 3,
     "metadata": {},
     "output_type": "execute_result"
    }
   ],
   "source": [
    "stats.describe(df.price)"
   ]
  },
  {
   "cell_type": "code",
   "execution_count": 4,
   "id": "423ec564",
   "metadata": {
    "scrolled": true
   },
   "outputs": [
    {
     "data": {
      "text/html": [
       "<div>\n",
       "<style scoped>\n",
       "    .dataframe tbody tr th:only-of-type {\n",
       "        vertical-align: middle;\n",
       "    }\n",
       "\n",
       "    .dataframe tbody tr th {\n",
       "        vertical-align: top;\n",
       "    }\n",
       "\n",
       "    .dataframe thead th {\n",
       "        text-align: right;\n",
       "    }\n",
       "</style>\n",
       "<table border=\"1\" class=\"dataframe\">\n",
       "  <thead>\n",
       "    <tr style=\"text-align: right;\">\n",
       "      <th></th>\n",
       "      <th>index</th>\n",
       "      <th>model</th>\n",
       "      <th>price</th>\n",
       "      <th>avg_rating</th>\n",
       "      <th>review_count</th>\n",
       "    </tr>\n",
       "  </thead>\n",
       "  <tbody>\n",
       "    <tr>\n",
       "      <th>count</th>\n",
       "      <td>112.000000</td>\n",
       "      <td>1.120000e+02</td>\n",
       "      <td>112.000000</td>\n",
       "      <td>23.000000</td>\n",
       "      <td>23.000000</td>\n",
       "    </tr>\n",
       "    <tr>\n",
       "      <th>mean</th>\n",
       "      <td>55.500000</td>\n",
       "      <td>9.298439e+07</td>\n",
       "      <td>61.506250</td>\n",
       "      <td>4.773913</td>\n",
       "      <td>31.391304</td>\n",
       "    </tr>\n",
       "    <tr>\n",
       "      <th>std</th>\n",
       "      <td>32.475632</td>\n",
       "      <td>2.698557e+08</td>\n",
       "      <td>39.887738</td>\n",
       "      <td>0.336043</td>\n",
       "      <td>72.942530</td>\n",
       "    </tr>\n",
       "    <tr>\n",
       "      <th>min</th>\n",
       "      <td>0.000000</td>\n",
       "      <td>1.013351e+07</td>\n",
       "      <td>9.970000</td>\n",
       "      <td>3.800000</td>\n",
       "      <td>1.000000</td>\n",
       "    </tr>\n",
       "    <tr>\n",
       "      <th>25%</th>\n",
       "      <td>27.750000</td>\n",
       "      <td>1.329489e+07</td>\n",
       "      <td>31.720000</td>\n",
       "      <td>4.750000</td>\n",
       "      <td>1.000000</td>\n",
       "    </tr>\n",
       "    <tr>\n",
       "      <th>50%</th>\n",
       "      <td>55.500000</td>\n",
       "      <td>1.389103e+07</td>\n",
       "      <td>45.000000</td>\n",
       "      <td>4.800000</td>\n",
       "      <td>5.000000</td>\n",
       "    </tr>\n",
       "    <tr>\n",
       "      <th>75%</th>\n",
       "      <td>83.250000</td>\n",
       "      <td>1.406539e+07</td>\n",
       "      <td>85.242500</td>\n",
       "      <td>5.000000</td>\n",
       "      <td>13.000000</td>\n",
       "    </tr>\n",
       "    <tr>\n",
       "      <th>max</th>\n",
       "      <td>111.000000</td>\n",
       "      <td>1.007648e+09</td>\n",
       "      <td>175.000000</td>\n",
       "      <td>5.000000</td>\n",
       "      <td>316.000000</td>\n",
       "    </tr>\n",
       "  </tbody>\n",
       "</table>\n",
       "</div>"
      ],
      "text/plain": [
       "            index         model       price  avg_rating  review_count\n",
       "count  112.000000  1.120000e+02  112.000000   23.000000     23.000000\n",
       "mean    55.500000  9.298439e+07   61.506250    4.773913     31.391304\n",
       "std     32.475632  2.698557e+08   39.887738    0.336043     72.942530\n",
       "min      0.000000  1.013351e+07    9.970000    3.800000      1.000000\n",
       "25%     27.750000  1.329489e+07   31.720000    4.750000      1.000000\n",
       "50%     55.500000  1.389103e+07   45.000000    4.800000      5.000000\n",
       "75%     83.250000  1.406539e+07   85.242500    5.000000     13.000000\n",
       "max    111.000000  1.007648e+09  175.000000    5.000000    316.000000"
      ]
     },
     "execution_count": 4,
     "metadata": {},
     "output_type": "execute_result"
    }
   ],
   "source": [
    " df.describe()"
   ]
  },
  {
   "cell_type": "markdown",
   "id": "74903602",
   "metadata": {},
   "source": [
    "#### Verificando quantidade de linhas / colunas"
   ]
  },
  {
   "cell_type": "code",
   "execution_count": 5,
   "id": "66834238",
   "metadata": {},
   "outputs": [
    {
     "data": {
      "text/plain": [
       "(112, 18)"
      ]
     },
     "execution_count": 5,
     "metadata": {},
     "output_type": "execute_result"
    }
   ],
   "source": [
    "df.shape"
   ]
  },
  {
   "cell_type": "markdown",
   "id": "bee3ad62",
   "metadata": {},
   "source": [
    "#### Verificando Nulos"
   ]
  },
  {
   "cell_type": "code",
   "execution_count": 6,
   "id": "8c96b7ca",
   "metadata": {},
   "outputs": [
    {
     "data": {
      "text/plain": [
       "index               0\n",
       "url                 0\n",
       "name                0\n",
       "sub_title           0\n",
       "brand               0\n",
       "model               0\n",
       "color               2\n",
       "price               0\n",
       "currency            0\n",
       "availability        4\n",
       "description         0\n",
       "raw_description     0\n",
       "avg_rating         89\n",
       "review_count       89\n",
       "images              4\n",
       "available_sizes    56\n",
       "uniq_id             0\n",
       "scraped_at          0\n",
       "dtype: int64"
      ]
     },
     "execution_count": 6,
     "metadata": {},
     "output_type": "execute_result"
    }
   ],
   "source": [
    "df.isnull().sum()"
   ]
  },
  {
   "cell_type": "markdown",
   "id": "5da2aac8",
   "metadata": {},
   "source": [
    "### Valor / Preço"
   ]
  },
  {
   "cell_type": "markdown",
   "id": "9b829757",
   "metadata": {},
   "source": [
    "#### Média de Preço"
   ]
  },
  {
   "cell_type": "code",
   "execution_count": 7,
   "id": "f13d0aa8",
   "metadata": {},
   "outputs": [
    {
     "data": {
      "text/plain": [
       "61.50625000000001"
      ]
     },
     "execution_count": 7,
     "metadata": {},
     "output_type": "execute_result"
    }
   ],
   "source": [
    "np.mean(df.price)"
   ]
  },
  {
   "cell_type": "markdown",
   "id": "6286cf23",
   "metadata": {},
   "source": [
    "#### Desvio Padrão de Preço"
   ]
  },
  {
   "cell_type": "code",
   "execution_count": 8,
   "id": "42887ab2",
   "metadata": {},
   "outputs": [
    {
     "data": {
      "text/plain": [
       "39.70926871212546"
      ]
     },
     "execution_count": 8,
     "metadata": {},
     "output_type": "execute_result"
    }
   ],
   "source": [
    "np.std(df.price)"
   ]
  },
  {
   "cell_type": "markdown",
   "id": "8da7d3e8",
   "metadata": {},
   "source": [
    "#### Mediana de Preço"
   ]
  },
  {
   "cell_type": "code",
   "execution_count": 9,
   "id": "a8614775",
   "metadata": {},
   "outputs": [
    {
     "data": {
      "text/plain": [
       "45.0"
      ]
     },
     "execution_count": 9,
     "metadata": {},
     "output_type": "execute_result"
    }
   ],
   "source": [
    "np.median(df.price)"
   ]
  },
  {
   "cell_type": "markdown",
   "id": "d2b19a0a",
   "metadata": {},
   "source": [
    "#### Preço Mínimo e Maximo"
   ]
  },
  {
   "cell_type": "code",
   "execution_count": 10,
   "id": "b4b16f4f",
   "metadata": {},
   "outputs": [
    {
     "data": {
      "text/plain": [
       "175.0"
      ]
     },
     "execution_count": 10,
     "metadata": {},
     "output_type": "execute_result"
    }
   ],
   "source": [
    "np.max(df.price)"
   ]
  },
  {
   "cell_type": "code",
   "execution_count": 11,
   "id": "c2d257f0",
   "metadata": {
    "scrolled": true
   },
   "outputs": [
    {
     "data": {
      "text/plain": [
       "9.97"
      ]
     },
     "execution_count": 11,
     "metadata": {},
     "output_type": "execute_result"
    }
   ],
   "source": [
    "np.min(df.price)"
   ]
  },
  {
   "cell_type": "markdown",
   "id": "187931e5",
   "metadata": {},
   "source": [
    "### Notas"
   ]
  },
  {
   "cell_type": "markdown",
   "id": "87d7d035",
   "metadata": {},
   "source": [
    "#### Verificando nulos"
   ]
  },
  {
   "cell_type": "code",
   "execution_count": 12,
   "id": "a5c26e01",
   "metadata": {},
   "outputs": [
    {
     "data": {
      "text/plain": [
       "89"
      ]
     },
     "execution_count": 12,
     "metadata": {},
     "output_type": "execute_result"
    }
   ],
   "source": [
    "df.avg_rating.isnull().sum()"
   ]
  },
  {
   "cell_type": "markdown",
   "id": "607502bd",
   "metadata": {},
   "source": [
    "#### Removendo linhas que tenham NaN no campo `avg_rating`"
   ]
  },
  {
   "cell_type": "code",
   "execution_count": 13,
   "id": "5f91370c",
   "metadata": {},
   "outputs": [
    {
     "data": {
      "text/plain": [
       "0"
      ]
     },
     "execution_count": 13,
     "metadata": {},
     "output_type": "execute_result"
    }
   ],
   "source": [
    "df_ratings = df[pd.notnull(df['avg_rating'])]\n",
    "df_ratings.avg_rating.isnull().sum()"
   ]
  },
  {
   "cell_type": "code",
   "execution_count": 14,
   "id": "925de32b",
   "metadata": {},
   "outputs": [
    {
     "data": {
      "text/plain": [
       "(23, 18)"
      ]
     },
     "execution_count": 14,
     "metadata": {},
     "output_type": "execute_result"
    }
   ],
   "source": [
    "df_ratings.shape"
   ]
  },
  {
   "cell_type": "markdown",
   "id": "ea05976d",
   "metadata": {},
   "source": [
    "#### Média dos Votos"
   ]
  },
  {
   "cell_type": "code",
   "execution_count": 15,
   "id": "06a433ff",
   "metadata": {},
   "outputs": [
    {
     "data": {
      "text/plain": [
       "4.77391304347826"
      ]
     },
     "execution_count": 15,
     "metadata": {},
     "output_type": "execute_result"
    }
   ],
   "source": [
    "np.mean(df_ratings.avg_rating)"
   ]
  },
  {
   "cell_type": "markdown",
   "id": "33313195",
   "metadata": {},
   "source": [
    "#### Desvio Padrão dos Votos"
   ]
  },
  {
   "cell_type": "code",
   "execution_count": 16,
   "id": "2e58fdf6",
   "metadata": {},
   "outputs": [
    {
     "data": {
      "text/plain": [
       "0.3286565424167698"
      ]
     },
     "execution_count": 16,
     "metadata": {},
     "output_type": "execute_result"
    }
   ],
   "source": [
    "np.std(df_ratings.avg_rating)"
   ]
  },
  {
   "cell_type": "markdown",
   "id": "4f48ddd8",
   "metadata": {},
   "source": [
    "#### Mediana de Preço"
   ]
  },
  {
   "cell_type": "code",
   "execution_count": 17,
   "id": "ec34fe38",
   "metadata": {},
   "outputs": [
    {
     "data": {
      "text/plain": [
       "4.8"
      ]
     },
     "execution_count": 17,
     "metadata": {},
     "output_type": "execute_result"
    }
   ],
   "source": [
    "np.median(df_ratings.avg_rating)"
   ]
  },
  {
   "cell_type": "markdown",
   "id": "133d3f18",
   "metadata": {},
   "source": [
    "#### Nota Mínima / Máxima"
   ]
  },
  {
   "cell_type": "code",
   "execution_count": 18,
   "id": "a0ec6dad",
   "metadata": {
    "scrolled": true
   },
   "outputs": [
    {
     "data": {
      "text/plain": [
       "DescribeResult(nobs=23, minmax=(3.8, 5.0), mean=4.77391304347826, variance=0.1129249011857708, skewness=-1.9365216754790713, kurtosis=2.812822413959327)"
      ]
     },
     "execution_count": 18,
     "metadata": {},
     "output_type": "execute_result"
    }
   ],
   "source": [
    "stats.describe(df_ratings.avg_rating)"
   ]
  },
  {
   "cell_type": "markdown",
   "id": "3695d933",
   "metadata": {},
   "source": [
    "# Distribuição T-Student"
   ]
  },
  {
   "cell_type": "markdown",
   "id": "dbb92f46",
   "metadata": {},
   "source": [
    "> Qual a probabilidade de um produto ser avaliado com nota menor que 4?"
   ]
  },
  {
   "cell_type": "markdown",
   "id": "319a5c77",
   "metadata": {},
   "source": [
    "Característica da distribuição T-Student a amostra ter 30 ou menos observações"
   ]
  },
  {
   "cell_type": "code",
   "execution_count": 19,
   "id": "593c0b06",
   "metadata": {},
   "outputs": [
    {
     "data": {
      "text/plain": [
       "(20, 18)"
      ]
     },
     "execution_count": 19,
     "metadata": {},
     "output_type": "execute_result"
    }
   ],
   "source": [
    "amostra = df_ratings.sample(20)\n",
    "amostra.shape"
   ]
  },
  {
   "cell_type": "markdown",
   "id": "ac0daca5",
   "metadata": {},
   "source": [
    "#### Recuperando o Teste T"
   ]
  },
  {
   "cell_type": "code",
   "execution_count": 20,
   "id": "04b0b163",
   "metadata": {},
   "outputs": [
    {
     "data": {
      "text/plain": [
       "1.0060933705960509"
      ]
     },
     "execution_count": 20,
     "metadata": {},
     "output_type": "execute_result"
    }
   ],
   "source": [
    "media_populacao = np.mean(df_ratings.avg_rating)\n",
    "media_amostra = np.mean(amostra.avg_rating)\n",
    "\n",
    "t_stat = media_populacao / media_amostra\n",
    "\n",
    "t_stat"
   ]
  },
  {
   "cell_type": "markdown",
   "id": "6f4c8fae",
   "metadata": {},
   "source": [
    "#### Probabilidade de uma ser menor que 4"
   ]
  },
  {
   "cell_type": "code",
   "execution_count": 21,
   "id": "4aeb6c3b",
   "metadata": {},
   "outputs": [
    {
     "data": {
      "text/plain": [
       "81.43535533111465"
      ]
     },
     "execution_count": 21,
     "metadata": {},
     "output_type": "execute_result"
    }
   ],
   "source": [
    "stats.t.cdf(t_stat, 4) * 100"
   ]
  },
  {
   "cell_type": "markdown",
   "id": "91ef92b8",
   "metadata": {},
   "source": [
    "#### Probabilidade uma nota ser maior que 3"
   ]
  },
  {
   "cell_type": "code",
   "execution_count": 22,
   "id": "229af5f4",
   "metadata": {},
   "outputs": [
    {
     "data": {
      "text/plain": [
       "19.42451495287483"
      ]
     },
     "execution_count": 22,
     "metadata": {},
     "output_type": "execute_result"
    }
   ],
   "source": [
    "stats.t.sf(t_stat, 3) * 100"
   ]
  },
  {
   "cell_type": "markdown",
   "id": "e22c4dd0",
   "metadata": {},
   "source": [
    "# Distribuição de Poisson"
   ]
  },
  {
   "cell_type": "markdown",
   "id": "b7ddbe92",
   "metadata": {},
   "source": [
    "> Média de acidentes numa fábrica é 2 por dia"
   ]
  },
  {
   "cell_type": "code",
   "execution_count": 23,
   "id": "edc23adb",
   "metadata": {},
   "outputs": [],
   "source": [
    "media = 2"
   ]
  },
  {
   "cell_type": "markdown",
   "id": "680ede39",
   "metadata": {},
   "source": [
    "#### Qual a probabilidade de acontecerem 3 acidentes no dia?"
   ]
  },
  {
   "cell_type": "code",
   "execution_count": 24,
   "id": "66361341",
   "metadata": {},
   "outputs": [
    {
     "data": {
      "text/plain": [
       "0.18044704431548356"
      ]
     },
     "execution_count": 24,
     "metadata": {},
     "output_type": "execute_result"
    }
   ],
   "source": [
    "stats.poisson.pmf(3, media)"
   ]
  },
  {
   "cell_type": "markdown",
   "id": "ddb649c2",
   "metadata": {},
   "source": [
    "#### Qual a probabilidade de ocorrerem 3 acidentes ou menos no dia?"
   ]
  },
  {
   "cell_type": "code",
   "execution_count": 25,
   "id": "4646c129",
   "metadata": {},
   "outputs": [
    {
     "data": {
      "text/plain": [
       "0.857123460498547"
      ]
     },
     "execution_count": 25,
     "metadata": {},
     "output_type": "execute_result"
    }
   ],
   "source": [
    "stats.poisson.cdf(3, media)"
   ]
  },
  {
   "cell_type": "markdown",
   "id": "cc701ac4",
   "metadata": {},
   "source": [
    "#### Qual a probabilidade de correrem 3 acidentes ou mais no dia?"
   ]
  },
  {
   "cell_type": "code",
   "execution_count": 26,
   "id": "10b1c7d6",
   "metadata": {},
   "outputs": [
    {
     "data": {
      "text/plain": [
       "0.14287653950145296"
      ]
     },
     "execution_count": 26,
     "metadata": {},
     "output_type": "execute_result"
    }
   ],
   "source": [
    "stats.poisson.sf(3, media)"
   ]
  },
  {
   "cell_type": "markdown",
   "id": "2a252513",
   "metadata": {},
   "source": [
    "# Distribuição Binomial"
   ]
  },
  {
   "cell_type": "markdown",
   "id": "9ef3ab4a",
   "metadata": {},
   "source": [
    "## Teste da Moeda. Cara ou Coroa. \n",
    "\n",
    "Precisamos ter a ideia de: \n",
    "\n",
    "* Quantidade de eventos positivos esperados do teste\n",
    "* Quantidade de Experimentos que serão executados\n",
    "* Probabilidade; Como a moeda, tem apenas 2 opções, podemos fazer 1/2 = 0,5\n"
   ]
  },
  {
   "cell_type": "markdown",
   "id": "249ce504",
   "metadata": {},
   "source": [
    "> Jogando uma moeda 5 vezes, qual a probabilidade de dar cara 3 vezes?"
   ]
  },
  {
   "cell_type": "code",
   "execution_count": 27,
   "id": "accd62a0",
   "metadata": {},
   "outputs": [],
   "source": [
    "qtd_eventos_esperados = 3\n",
    "qtd_de_experimentos = 5\n",
    "probabilidade = 0.5"
   ]
  },
  {
   "cell_type": "code",
   "execution_count": 28,
   "id": "961a9a5e",
   "metadata": {
    "scrolled": true
   },
   "outputs": [
    {
     "data": {
      "text/plain": [
       "0.31249999999999983"
      ]
     },
     "execution_count": 28,
     "metadata": {},
     "output_type": "execute_result"
    }
   ],
   "source": [
    "stats.binom.pmf(qtd_eventos_esperados, qtd_de_experimentos, probabilidade)"
   ]
  },
  {
   "cell_type": "markdown",
   "id": "754706f3",
   "metadata": {},
   "source": [
    "# Testes de Normalidade"
   ]
  },
  {
   "cell_type": "markdown",
   "id": "84ad119f",
   "metadata": {},
   "source": [
    "## Histograma"
   ]
  },
  {
   "cell_type": "markdown",
   "id": "b22b77fb",
   "metadata": {},
   "source": [
    "#### Esperamos um formato de sino. Ou seja, uma maior concentracão de dados em torno da média "
   ]
  },
  {
   "cell_type": "code",
   "execution_count": 29,
   "id": "9fe9d8bb",
   "metadata": {
    "scrolled": true
   },
   "outputs": [
    {
     "data": {
      "text/plain": [
       "Text(0.5, 1.0, 'Distribuição dos Preços')"
      ]
     },
     "execution_count": 29,
     "metadata": {},
     "output_type": "execute_result"
    },
    {
     "data": {
      "image/png": "[encoded data removed]",
      "text/plain": [
       "<Figure size 640x480 with 1 Axes>"
      ]
     },
     "metadata": {},
     "output_type": "display_data"
    }
   ],
   "source": [
    "plt.hist(df.price)\n",
    "plt.title(\"Distribuição dos Preços\")"
   ]
  },
  {
   "cell_type": "markdown",
   "id": "c6789ecd",
   "metadata": {},
   "source": [
    "Dados não normais"
   ]
  },
  {
   "cell_type": "markdown",
   "id": "5c789ef2",
   "metadata": {},
   "source": [
    "### Probplot - Espera-se encontrar os pontos de disperção proximo aos eixos "
   ]
  },
  {
   "cell_type": "code",
   "execution_count": 30,
   "id": "5203f926",
   "metadata": {
    "scrolled": true
   },
   "outputs": [
    {
     "data": {
      "image/png": "[encoded data removed]",
      "text/plain": [
       "<Figure size 640x480 with 1 Axes>"
      ]
     },
     "metadata": {},
     "output_type": "display_data"
    }
   ],
   "source": [
    "fig, ax = plt.subplots()\n",
    "stats.probplot(df.price, fit=True, plot=ax)\n",
    "plt.show()"
   ]
  },
  {
   "cell_type": "markdown",
   "id": "09a4747a",
   "metadata": {},
   "source": [
    "Dados não normais"
   ]
  }
 ],
 "metadata": {
  "kernelspec": {
   "display_name": "Python 3 (ipykernel)",
   "language": "python",
   "name": "python3"
  },
  "language_info": {
   "codemirror_mode": {
    "name": "ipython",
    "version": 3
   },
   "file_extension": ".py",
   "mimetype": "text/x-python",
   "name": "python",
   "nbconvert_exporter": "python",
   "pygments_lexer": "ipython3",
   "version": "3.10.8"
  },
  "varInspector": {
   "cols": {
    "lenName": 16,
    "lenType": 16,
    "lenVar": 40
   },
   "kernels_config": {
    "python": {
     "delete_cmd_postfix": "",
     "delete_cmd_prefix": "del ",
     "library": "var_list.py",
     "varRefreshCmd": "print(var_dic_list())"
    },
    "r": {
     "delete_cmd_postfix": ") ",
     "delete_cmd_prefix": "rm(",
     "library": "var_list.r",
     "varRefreshCmd": "cat(var_dic_list()) "
    }
   },
   "position": {
    "height": "472.844px",
    "left": "1543px",
    "right": "20px",
    "top": "120px",
    "width": "357px"
   },
   "types_to_exclude": [
    "module",
    "function",
    "builtin_function_or_method",
    "instance",
    "_Feature"
   ],
   "window_display": true
  }
 },
 "nbformat": 4,
 "nbformat_minor": 5
}
