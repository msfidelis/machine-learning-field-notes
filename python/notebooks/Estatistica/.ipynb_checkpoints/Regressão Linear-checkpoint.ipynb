{
 "cells": [
  {
   "cell_type": "markdown",
   "id": "bc1a5c39",
   "metadata": {},
   "source": [
    "# Setup do Projeto"
   ]
  },
  {
   "cell_type": "markdown",
   "id": "1ddb5d10",
   "metadata": {},
   "source": [
    "### Importando as Bibliotecas"
   ]
  },
  {
   "cell_type": "code",
   "execution_count": 1,
   "id": "5bdbb79c",
   "metadata": {
    "ExecuteTime": {
     "end_time": "2022-12-19T18:08:40.771128Z",
     "start_time": "2022-12-19T18:08:37.952413Z"
    }
   },
   "outputs": [],
   "source": [
    "import pandas as pd\n",
    "import numpy as np\n",
    "import matplotlib.pyplot as plt\n",
    "from scipy import stats\n",
    "from sklearn.linear_model import LinearRegression\n",
    "from yellowbrick.regressor import ResidualsPlot\n",
    "import statsmodels.api as sm\n",
    "import statsmodels.formula.api as smapi"
   ]
  },
  {
   "cell_type": "markdown",
   "id": "13485569",
   "metadata": {},
   "source": [
    "### Importando os Datasets"
   ]
  },
  {
   "cell_type": "markdown",
   "id": "6241675c",
   "metadata": {},
   "source": [
    "# Previsão do INPC pelo IPCA\n",
    "\n",
    "A ideia é criar um modelo para prever o INPC utilizando o IPCA"
   ]
  },
  {
   "cell_type": "code",
   "execution_count": 2,
   "id": "8c6c7f3a",
   "metadata": {
    "ExecuteTime": {
     "end_time": "2022-12-19T18:08:40.840161Z",
     "start_time": "2022-12-19T18:08:40.786630Z"
    }
   },
   "outputs": [],
   "source": [
    "df = pd.read_csv(\"inflacao.csv\")"
   ]
  },
  {
   "cell_type": "code",
   "execution_count": 3,
   "id": "367e6c67",
   "metadata": {
    "ExecuteTime": {
     "end_time": "2022-12-19T18:08:40.904106Z",
     "start_time": "2022-12-19T18:08:40.849368Z"
    }
   },
   "outputs": [
    {
     "data": {
      "text/html": [
       "<div>\n",
       "<style scoped>\n",
       "    .dataframe tbody tr th:only-of-type {\n",
       "        vertical-align: middle;\n",
       "    }\n",
       "\n",
       "    .dataframe tbody tr th {\n",
       "        vertical-align: top;\n",
       "    }\n",
       "\n",
       "    .dataframe thead th {\n",
       "        text-align: right;\n",
       "    }\n",
       "</style>\n",
       "<table border=\"1\" class=\"dataframe\">\n",
       "  <thead>\n",
       "    <tr style=\"text-align: right;\">\n",
       "      <th></th>\n",
       "      <th>referencia</th>\n",
       "      <th>ano</th>\n",
       "      <th>mes</th>\n",
       "      <th>ano_mes</th>\n",
       "      <th>ipca_variacao</th>\n",
       "      <th>ipca_acumulado_ano</th>\n",
       "      <th>ipca_acumulado_doze_meses</th>\n",
       "      <th>ipca15_variacao</th>\n",
       "      <th>ipca15_acumulado_ano</th>\n",
       "      <th>ipca15_acumulado_doze_meses</th>\n",
       "      <th>inpc_variacao</th>\n",
       "      <th>inpc_acumulado_ano</th>\n",
       "      <th>inpc_acumulado_doze_meses</th>\n",
       "      <th>ipa_variacao</th>\n",
       "      <th>ipa_acumulado_ano</th>\n",
       "      <th>ipc_fipe_variacao</th>\n",
       "      <th>ipc_fipe_acumulado_ano</th>\n",
       "      <th>incc_variacao</th>\n",
       "      <th>incc_acumulado_ano</th>\n",
       "      <th>consolidado_ano</th>\n",
       "    </tr>\n",
       "  </thead>\n",
       "  <tbody>\n",
       "    <tr>\n",
       "      <th>0</th>\n",
       "      <td>1980-01</td>\n",
       "      <td>1980</td>\n",
       "      <td>1</td>\n",
       "      <td>198001</td>\n",
       "      <td>6.62</td>\n",
       "      <td>6.62</td>\n",
       "      <td>0.0</td>\n",
       "      <td>0.0</td>\n",
       "      <td>0.0</td>\n",
       "      <td>0.0</td>\n",
       "      <td>6.56</td>\n",
       "      <td>6.56</td>\n",
       "      <td>0.00</td>\n",
       "      <td>7.31</td>\n",
       "      <td>7.31</td>\n",
       "      <td>4.48</td>\n",
       "      <td>4.48</td>\n",
       "      <td>4.70</td>\n",
       "      <td>4.70</td>\n",
       "      <td>False</td>\n",
       "    </tr>\n",
       "    <tr>\n",
       "      <th>1</th>\n",
       "      <td>1980-02</td>\n",
       "      <td>1980</td>\n",
       "      <td>2</td>\n",
       "      <td>198002</td>\n",
       "      <td>4.62</td>\n",
       "      <td>11.54</td>\n",
       "      <td>0.0</td>\n",
       "      <td>0.0</td>\n",
       "      <td>0.0</td>\n",
       "      <td>0.0</td>\n",
       "      <td>4.15</td>\n",
       "      <td>10.98</td>\n",
       "      <td>0.00</td>\n",
       "      <td>3.69</td>\n",
       "      <td>11.00</td>\n",
       "      <td>3.35</td>\n",
       "      <td>7.83</td>\n",
       "      <td>9.53</td>\n",
       "      <td>14.23</td>\n",
       "      <td>False</td>\n",
       "    </tr>\n",
       "    <tr>\n",
       "      <th>2</th>\n",
       "      <td>1980-03</td>\n",
       "      <td>1980</td>\n",
       "      <td>3</td>\n",
       "      <td>198003</td>\n",
       "      <td>6.04</td>\n",
       "      <td>18.27</td>\n",
       "      <td>0.0</td>\n",
       "      <td>0.0</td>\n",
       "      <td>0.0</td>\n",
       "      <td>0.0</td>\n",
       "      <td>5.12</td>\n",
       "      <td>16.67</td>\n",
       "      <td>75.11</td>\n",
       "      <td>6.32</td>\n",
       "      <td>17.32</td>\n",
       "      <td>4.34</td>\n",
       "      <td>12.17</td>\n",
       "      <td>12.80</td>\n",
       "      <td>27.03</td>\n",
       "      <td>False</td>\n",
       "    </tr>\n",
       "    <tr>\n",
       "      <th>3</th>\n",
       "      <td>1980-04</td>\n",
       "      <td>1980</td>\n",
       "      <td>4</td>\n",
       "      <td>198004</td>\n",
       "      <td>5.29</td>\n",
       "      <td>24.53</td>\n",
       "      <td>0.0</td>\n",
       "      <td>0.0</td>\n",
       "      <td>0.0</td>\n",
       "      <td>0.0</td>\n",
       "      <td>4.85</td>\n",
       "      <td>22.33</td>\n",
       "      <td>77.48</td>\n",
       "      <td>6.69</td>\n",
       "      <td>24.01</td>\n",
       "      <td>3.93</td>\n",
       "      <td>16.10</td>\n",
       "      <td>3.13</td>\n",
       "      <td>30.16</td>\n",
       "      <td>False</td>\n",
       "    </tr>\n",
       "    <tr>\n",
       "      <th>4</th>\n",
       "      <td>1980-05</td>\n",
       "      <td>1980</td>\n",
       "      <td>5</td>\n",
       "      <td>198005</td>\n",
       "      <td>5.70</td>\n",
       "      <td>31.63</td>\n",
       "      <td>0.0</td>\n",
       "      <td>0.0</td>\n",
       "      <td>0.0</td>\n",
       "      <td>0.0</td>\n",
       "      <td>5.53</td>\n",
       "      <td>29.10</td>\n",
       "      <td>84.06</td>\n",
       "      <td>7.32</td>\n",
       "      <td>31.33</td>\n",
       "      <td>6.52</td>\n",
       "      <td>22.62</td>\n",
       "      <td>4.86</td>\n",
       "      <td>35.02</td>\n",
       "      <td>False</td>\n",
       "    </tr>\n",
       "  </tbody>\n",
       "</table>\n",
       "</div>"
      ],
      "text/plain": [
       "  referencia   ano  mes  ano_mes  ipca_variacao  ipca_acumulado_ano  \\\n",
       "0    1980-01  1980    1   198001           6.62                6.62   \n",
       "1    1980-02  1980    2   198002           4.62               11.54   \n",
       "2    1980-03  1980    3   198003           6.04               18.27   \n",
       "3    1980-04  1980    4   198004           5.29               24.53   \n",
       "4    1980-05  1980    5   198005           5.70               31.63   \n",
       "\n",
       "   ipca_acumulado_doze_meses  ipca15_variacao  ipca15_acumulado_ano  \\\n",
       "0                        0.0              0.0                   0.0   \n",
       "1                        0.0              0.0                   0.0   \n",
       "2                        0.0              0.0                   0.0   \n",
       "3                        0.0              0.0                   0.0   \n",
       "4                        0.0              0.0                   0.0   \n",
       "\n",
       "   ipca15_acumulado_doze_meses  inpc_variacao  inpc_acumulado_ano  \\\n",
       "0                          0.0           6.56                6.56   \n",
       "1                          0.0           4.15               10.98   \n",
       "2                          0.0           5.12               16.67   \n",
       "3                          0.0           4.85               22.33   \n",
       "4                          0.0           5.53               29.10   \n",
       "\n",
       "   inpc_acumulado_doze_meses  ipa_variacao  ipa_acumulado_ano  \\\n",
       "0                       0.00          7.31               7.31   \n",
       "1                       0.00          3.69              11.00   \n",
       "2                      75.11          6.32              17.32   \n",
       "3                      77.48          6.69              24.01   \n",
       "4                      84.06          7.32              31.33   \n",
       "\n",
       "   ipc_fipe_variacao  ipc_fipe_acumulado_ano  incc_variacao  \\\n",
       "0               4.48                    4.48           4.70   \n",
       "1               3.35                    7.83           9.53   \n",
       "2               4.34                   12.17          12.80   \n",
       "3               3.93                   16.10           3.13   \n",
       "4               6.52                   22.62           4.86   \n",
       "\n",
       "   incc_acumulado_ano  consolidado_ano  \n",
       "0                4.70            False  \n",
       "1               14.23            False  \n",
       "2               27.03            False  \n",
       "3               30.16            False  \n",
       "4               35.02            False  "
      ]
     },
     "execution_count": 3,
     "metadata": {},
     "output_type": "execute_result"
    }
   ],
   "source": [
    "df.head()"
   ]
  },
  {
   "cell_type": "code",
   "execution_count": 4,
   "id": "d0d24d30",
   "metadata": {
    "ExecuteTime": {
     "end_time": "2022-12-19T18:08:40.998632Z",
     "start_time": "2022-12-19T18:08:40.916589Z"
    }
   },
   "outputs": [
    {
     "data": {
      "text/html": [
       "<div>\n",
       "<style scoped>\n",
       "    .dataframe tbody tr th:only-of-type {\n",
       "        vertical-align: middle;\n",
       "    }\n",
       "\n",
       "    .dataframe tbody tr th {\n",
       "        vertical-align: top;\n",
       "    }\n",
       "\n",
       "    .dataframe thead th {\n",
       "        text-align: right;\n",
       "    }\n",
       "</style>\n",
       "<table border=\"1\" class=\"dataframe\">\n",
       "  <thead>\n",
       "    <tr style=\"text-align: right;\">\n",
       "      <th></th>\n",
       "      <th>referencia</th>\n",
       "      <th>ano</th>\n",
       "      <th>mes</th>\n",
       "      <th>ano_mes</th>\n",
       "      <th>ipca_variacao</th>\n",
       "      <th>ipca_acumulado_ano</th>\n",
       "      <th>ipca_acumulado_doze_meses</th>\n",
       "      <th>ipca15_variacao</th>\n",
       "      <th>ipca15_acumulado_ano</th>\n",
       "      <th>ipca15_acumulado_doze_meses</th>\n",
       "      <th>inpc_variacao</th>\n",
       "      <th>inpc_acumulado_ano</th>\n",
       "      <th>inpc_acumulado_doze_meses</th>\n",
       "      <th>ipa_variacao</th>\n",
       "      <th>ipa_acumulado_ano</th>\n",
       "      <th>ipc_fipe_variacao</th>\n",
       "      <th>ipc_fipe_acumulado_ano</th>\n",
       "      <th>incc_variacao</th>\n",
       "      <th>incc_acumulado_ano</th>\n",
       "      <th>consolidado_ano</th>\n",
       "    </tr>\n",
       "  </thead>\n",
       "  <tbody>\n",
       "    <tr>\n",
       "      <th>510</th>\n",
       "      <td>2022-07</td>\n",
       "      <td>2022</td>\n",
       "      <td>7</td>\n",
       "      <td>202207</td>\n",
       "      <td>-0.68</td>\n",
       "      <td>4.77</td>\n",
       "      <td>10.07</td>\n",
       "      <td>0.13</td>\n",
       "      <td>5.79</td>\n",
       "      <td>11.39</td>\n",
       "      <td>-0.60</td>\n",
       "      <td>4.98</td>\n",
       "      <td>10.12</td>\n",
       "      <td>-0.32</td>\n",
       "      <td>8.17</td>\n",
       "      <td>0.16</td>\n",
       "      <td>5.40</td>\n",
       "      <td>0.86</td>\n",
       "      <td>8.18</td>\n",
       "      <td>False</td>\n",
       "    </tr>\n",
       "    <tr>\n",
       "      <th>511</th>\n",
       "      <td>2022-08</td>\n",
       "      <td>2022</td>\n",
       "      <td>8</td>\n",
       "      <td>202208</td>\n",
       "      <td>-0.36</td>\n",
       "      <td>4.39</td>\n",
       "      <td>8.73</td>\n",
       "      <td>-0.73</td>\n",
       "      <td>5.02</td>\n",
       "      <td>9.60</td>\n",
       "      <td>-0.31</td>\n",
       "      <td>4.65</td>\n",
       "      <td>8.83</td>\n",
       "      <td>-0.63</td>\n",
       "      <td>7.54</td>\n",
       "      <td>0.12</td>\n",
       "      <td>5.52</td>\n",
       "      <td>0.09</td>\n",
       "      <td>8.27</td>\n",
       "      <td>False</td>\n",
       "    </tr>\n",
       "    <tr>\n",
       "      <th>512</th>\n",
       "      <td>2022-09</td>\n",
       "      <td>2022</td>\n",
       "      <td>9</td>\n",
       "      <td>202209</td>\n",
       "      <td>-0.29</td>\n",
       "      <td>4.09</td>\n",
       "      <td>7.17</td>\n",
       "      <td>-0.37</td>\n",
       "      <td>4.63</td>\n",
       "      <td>7.96</td>\n",
       "      <td>-0.32</td>\n",
       "      <td>4.32</td>\n",
       "      <td>7.19</td>\n",
       "      <td>-1.68</td>\n",
       "      <td>5.86</td>\n",
       "      <td>0.12</td>\n",
       "      <td>5.64</td>\n",
       "      <td>0.09</td>\n",
       "      <td>8.36</td>\n",
       "      <td>False</td>\n",
       "    </tr>\n",
       "    <tr>\n",
       "      <th>513</th>\n",
       "      <td>2022-10</td>\n",
       "      <td>2022</td>\n",
       "      <td>10</td>\n",
       "      <td>202210</td>\n",
       "      <td>0.59</td>\n",
       "      <td>4.70</td>\n",
       "      <td>6.47</td>\n",
       "      <td>0.16</td>\n",
       "      <td>4.80</td>\n",
       "      <td>6.85</td>\n",
       "      <td>0.47</td>\n",
       "      <td>4.81</td>\n",
       "      <td>6.46</td>\n",
       "      <td>-1.04</td>\n",
       "      <td>4.82</td>\n",
       "      <td>0.45</td>\n",
       "      <td>6.09</td>\n",
       "      <td>0.12</td>\n",
       "      <td>8.48</td>\n",
       "      <td>False</td>\n",
       "    </tr>\n",
       "    <tr>\n",
       "      <th>514</th>\n",
       "      <td>2022-11</td>\n",
       "      <td>2022</td>\n",
       "      <td>11</td>\n",
       "      <td>202211</td>\n",
       "      <td>0.41</td>\n",
       "      <td>5.13</td>\n",
       "      <td>5.90</td>\n",
       "      <td>0.53</td>\n",
       "      <td>5.35</td>\n",
       "      <td>6.17</td>\n",
       "      <td>0.38</td>\n",
       "      <td>5.21</td>\n",
       "      <td>5.97</td>\n",
       "      <td>-0.43</td>\n",
       "      <td>4.39</td>\n",
       "      <td>0.47</td>\n",
       "      <td>6.56</td>\n",
       "      <td>0.36</td>\n",
       "      <td>8.84</td>\n",
       "      <td>False</td>\n",
       "    </tr>\n",
       "  </tbody>\n",
       "</table>\n",
       "</div>"
      ],
      "text/plain": [
       "    referencia   ano  mes  ano_mes  ipca_variacao  ipca_acumulado_ano  \\\n",
       "510    2022-07  2022    7   202207          -0.68                4.77   \n",
       "511    2022-08  2022    8   202208          -0.36                4.39   \n",
       "512    2022-09  2022    9   202209          -0.29                4.09   \n",
       "513    2022-10  2022   10   202210           0.59                4.70   \n",
       "514    2022-11  2022   11   202211           0.41                5.13   \n",
       "\n",
       "     ipca_acumulado_doze_meses  ipca15_variacao  ipca15_acumulado_ano  \\\n",
       "510                      10.07             0.13                  5.79   \n",
       "511                       8.73            -0.73                  5.02   \n",
       "512                       7.17            -0.37                  4.63   \n",
       "513                       6.47             0.16                  4.80   \n",
       "514                       5.90             0.53                  5.35   \n",
       "\n",
       "     ipca15_acumulado_doze_meses  inpc_variacao  inpc_acumulado_ano  \\\n",
       "510                        11.39          -0.60                4.98   \n",
       "511                         9.60          -0.31                4.65   \n",
       "512                         7.96          -0.32                4.32   \n",
       "513                         6.85           0.47                4.81   \n",
       "514                         6.17           0.38                5.21   \n",
       "\n",
       "     inpc_acumulado_doze_meses  ipa_variacao  ipa_acumulado_ano  \\\n",
       "510                      10.12         -0.32               8.17   \n",
       "511                       8.83         -0.63               7.54   \n",
       "512                       7.19         -1.68               5.86   \n",
       "513                       6.46         -1.04               4.82   \n",
       "514                       5.97         -0.43               4.39   \n",
       "\n",
       "     ipc_fipe_variacao  ipc_fipe_acumulado_ano  incc_variacao  \\\n",
       "510               0.16                    5.40           0.86   \n",
       "511               0.12                    5.52           0.09   \n",
       "512               0.12                    5.64           0.09   \n",
       "513               0.45                    6.09           0.12   \n",
       "514               0.47                    6.56           0.36   \n",
       "\n",
       "     incc_acumulado_ano  consolidado_ano  \n",
       "510                8.18            False  \n",
       "511                8.27            False  \n",
       "512                8.36            False  \n",
       "513                8.48            False  \n",
       "514                8.84            False  "
      ]
     },
     "execution_count": 4,
     "metadata": {},
     "output_type": "execute_result"
    }
   ],
   "source": [
    "df.tail()"
   ]
  },
  {
   "cell_type": "code",
   "execution_count": 5,
   "id": "e5d6cdcb",
   "metadata": {
    "ExecuteTime": {
     "end_time": "2022-12-19T18:08:41.130433Z",
     "start_time": "2022-12-19T18:08:41.012551Z"
    }
   },
   "outputs": [
    {
     "data": {
      "text/html": [
       "<div>\n",
       "<style scoped>\n",
       "    .dataframe tbody tr th:only-of-type {\n",
       "        vertical-align: middle;\n",
       "    }\n",
       "\n",
       "    .dataframe tbody tr th {\n",
       "        vertical-align: top;\n",
       "    }\n",
       "\n",
       "    .dataframe thead th {\n",
       "        text-align: right;\n",
       "    }\n",
       "</style>\n",
       "<table border=\"1\" class=\"dataframe\">\n",
       "  <thead>\n",
       "    <tr style=\"text-align: right;\">\n",
       "      <th></th>\n",
       "      <th>ano</th>\n",
       "      <th>mes</th>\n",
       "      <th>ano_mes</th>\n",
       "      <th>ipca_variacao</th>\n",
       "      <th>ipca_acumulado_ano</th>\n",
       "      <th>ipca_acumulado_doze_meses</th>\n",
       "      <th>ipca15_variacao</th>\n",
       "      <th>ipca15_acumulado_ano</th>\n",
       "      <th>ipca15_acumulado_doze_meses</th>\n",
       "      <th>inpc_variacao</th>\n",
       "      <th>inpc_acumulado_ano</th>\n",
       "      <th>inpc_acumulado_doze_meses</th>\n",
       "      <th>ipa_variacao</th>\n",
       "      <th>ipa_acumulado_ano</th>\n",
       "      <th>ipc_fipe_variacao</th>\n",
       "      <th>ipc_fipe_acumulado_ano</th>\n",
       "      <th>incc_variacao</th>\n",
       "      <th>incc_acumulado_ano</th>\n",
       "    </tr>\n",
       "  </thead>\n",
       "  <tbody>\n",
       "    <tr>\n",
       "      <th>count</th>\n",
       "      <td>515.000000</td>\n",
       "      <td>515.000000</td>\n",
       "      <td>515.000000</td>\n",
       "      <td>515.000000</td>\n",
       "      <td>515.000000</td>\n",
       "      <td>515.000000</td>\n",
       "      <td>515.000000</td>\n",
       "      <td>515.000000</td>\n",
       "      <td>515.000000</td>\n",
       "      <td>515.000000</td>\n",
       "      <td>515.000000</td>\n",
       "      <td>515.000000</td>\n",
       "      <td>515.000000</td>\n",
       "      <td>515.000000</td>\n",
       "      <td>515.000000</td>\n",
       "      <td>515.000000</td>\n",
       "      <td>515.000000</td>\n",
       "      <td>515.000000</td>\n",
       "    </tr>\n",
       "    <tr>\n",
       "      <th>mean</th>\n",
       "      <td>2000.959223</td>\n",
       "      <td>6.489320</td>\n",
       "      <td>200102.411650</td>\n",
       "      <td>5.948214</td>\n",
       "      <td>96.495709</td>\n",
       "      <td>310.089010</td>\n",
       "      <td>0.269767</td>\n",
       "      <td>1.855107</td>\n",
       "      <td>3.380874</td>\n",
       "      <td>5.937029</td>\n",
       "      <td>95.998350</td>\n",
       "      <td>309.124350</td>\n",
       "      <td>6.172835</td>\n",
       "      <td>41.392097</td>\n",
       "      <td>5.787243</td>\n",
       "      <td>38.828136</td>\n",
       "      <td>6.107126</td>\n",
       "      <td>41.928485</td>\n",
       "    </tr>\n",
       "    <tr>\n",
       "      <th>std</th>\n",
       "      <td>12.399177</td>\n",
       "      <td>3.450227</td>\n",
       "      <td>1239.904297</td>\n",
       "      <td>10.862122</td>\n",
       "      <td>265.975237</td>\n",
       "      <td>864.719013</td>\n",
       "      <td>0.392667</td>\n",
       "      <td>2.413151</td>\n",
       "      <td>3.815471</td>\n",
       "      <td>10.868282</td>\n",
       "      <td>263.216087</td>\n",
       "      <td>850.787432</td>\n",
       "      <td>11.046885</td>\n",
       "      <td>73.768541</td>\n",
       "      <td>10.778574</td>\n",
       "      <td>72.750950</td>\n",
       "      <td>11.219681</td>\n",
       "      <td>73.801160</td>\n",
       "    </tr>\n",
       "    <tr>\n",
       "      <th>min</th>\n",
       "      <td>1980.000000</td>\n",
       "      <td>1.000000</td>\n",
       "      <td>198001.000000</td>\n",
       "      <td>-0.680000</td>\n",
       "      <td>-0.160000</td>\n",
       "      <td>0.000000</td>\n",
       "      <td>-0.730000</td>\n",
       "      <td>0.000000</td>\n",
       "      <td>0.000000</td>\n",
       "      <td>-0.600000</td>\n",
       "      <td>0.060000</td>\n",
       "      <td>0.000000</td>\n",
       "      <td>-2.420000</td>\n",
       "      <td>-5.820000</td>\n",
       "      <td>-1.000000</td>\n",
       "      <td>-1.790000</td>\n",
       "      <td>-0.500000</td>\n",
       "      <td>0.310000</td>\n",
       "    </tr>\n",
       "    <tr>\n",
       "      <th>25%</th>\n",
       "      <td>1990.000000</td>\n",
       "      <td>3.500000</td>\n",
       "      <td>199009.500000</td>\n",
       "      <td>0.380000</td>\n",
       "      <td>2.485000</td>\n",
       "      <td>5.250000</td>\n",
       "      <td>0.000000</td>\n",
       "      <td>0.000000</td>\n",
       "      <td>0.000000</td>\n",
       "      <td>0.385000</td>\n",
       "      <td>2.585000</td>\n",
       "      <td>5.405000</td>\n",
       "      <td>0.265000</td>\n",
       "      <td>2.215000</td>\n",
       "      <td>0.300000</td>\n",
       "      <td>1.995000</td>\n",
       "      <td>0.360000</td>\n",
       "      <td>2.900000</td>\n",
       "    </tr>\n",
       "    <tr>\n",
       "      <th>50%</th>\n",
       "      <td>2001.000000</td>\n",
       "      <td>6.000000</td>\n",
       "      <td>200106.000000</td>\n",
       "      <td>0.780000</td>\n",
       "      <td>5.230000</td>\n",
       "      <td>7.770000</td>\n",
       "      <td>0.050000</td>\n",
       "      <td>0.650000</td>\n",
       "      <td>2.800000</td>\n",
       "      <td>0.820000</td>\n",
       "      <td>5.210000</td>\n",
       "      <td>9.030000</td>\n",
       "      <td>1.360000</td>\n",
       "      <td>7.550000</td>\n",
       "      <td>0.740000</td>\n",
       "      <td>4.910000</td>\n",
       "      <td>0.880000</td>\n",
       "      <td>6.560000</td>\n",
       "    </tr>\n",
       "    <tr>\n",
       "      <th>75%</th>\n",
       "      <td>2012.000000</td>\n",
       "      <td>9.000000</td>\n",
       "      <td>201202.500000</td>\n",
       "      <td>6.840000</td>\n",
       "      <td>49.070000</td>\n",
       "      <td>156.790000</td>\n",
       "      <td>0.485000</td>\n",
       "      <td>3.265000</td>\n",
       "      <td>6.205000</td>\n",
       "      <td>6.755000</td>\n",
       "      <td>46.755000</td>\n",
       "      <td>161.665000</td>\n",
       "      <td>7.315000</td>\n",
       "      <td>43.015000</td>\n",
       "      <td>6.720000</td>\n",
       "      <td>39.500000</td>\n",
       "      <td>6.030000</td>\n",
       "      <td>45.915000</td>\n",
       "    </tr>\n",
       "    <tr>\n",
       "      <th>max</th>\n",
       "      <td>2022.000000</td>\n",
       "      <td>12.000000</td>\n",
       "      <td>202211.000000</td>\n",
       "      <td>82.390000</td>\n",
       "      <td>2477.150000</td>\n",
       "      <td>6821.310000</td>\n",
       "      <td>3.050000</td>\n",
       "      <td>11.990000</td>\n",
       "      <td>17.240000</td>\n",
       "      <td>82.180000</td>\n",
       "      <td>2489.110000</td>\n",
       "      <td>6554.520000</td>\n",
       "      <td>82.040000</td>\n",
       "      <td>381.830000</td>\n",
       "      <td>79.110000</td>\n",
       "      <td>374.660000</td>\n",
       "      <td>78.410000</td>\n",
       "      <td>388.770000</td>\n",
       "    </tr>\n",
       "  </tbody>\n",
       "</table>\n",
       "</div>"
      ],
      "text/plain": [
       "               ano         mes        ano_mes  ipca_variacao  \\\n",
       "count   515.000000  515.000000     515.000000     515.000000   \n",
       "mean   2000.959223    6.489320  200102.411650       5.948214   \n",
       "std      12.399177    3.450227    1239.904297      10.862122   \n",
       "min    1980.000000    1.000000  198001.000000      -0.680000   \n",
       "25%    1990.000000    3.500000  199009.500000       0.380000   \n",
       "50%    2001.000000    6.000000  200106.000000       0.780000   \n",
       "75%    2012.000000    9.000000  201202.500000       6.840000   \n",
       "max    2022.000000   12.000000  202211.000000      82.390000   \n",
       "\n",
       "       ipca_acumulado_ano  ipca_acumulado_doze_meses  ipca15_variacao  \\\n",
       "count          515.000000                 515.000000       515.000000   \n",
       "mean            96.495709                 310.089010         0.269767   \n",
       "std            265.975237                 864.719013         0.392667   \n",
       "min             -0.160000                   0.000000        -0.730000   \n",
       "25%              2.485000                   5.250000         0.000000   \n",
       "50%              5.230000                   7.770000         0.050000   \n",
       "75%             49.070000                 156.790000         0.485000   \n",
       "max           2477.150000                6821.310000         3.050000   \n",
       "\n",
       "       ipca15_acumulado_ano  ipca15_acumulado_doze_meses  inpc_variacao  \\\n",
       "count            515.000000                   515.000000     515.000000   \n",
       "mean               1.855107                     3.380874       5.937029   \n",
       "std                2.413151                     3.815471      10.868282   \n",
       "min                0.000000                     0.000000      -0.600000   \n",
       "25%                0.000000                     0.000000       0.385000   \n",
       "50%                0.650000                     2.800000       0.820000   \n",
       "75%                3.265000                     6.205000       6.755000   \n",
       "max               11.990000                    17.240000      82.180000   \n",
       "\n",
       "       inpc_acumulado_ano  inpc_acumulado_doze_meses  ipa_variacao  \\\n",
       "count          515.000000                 515.000000    515.000000   \n",
       "mean            95.998350                 309.124350      6.172835   \n",
       "std            263.216087                 850.787432     11.046885   \n",
       "min              0.060000                   0.000000     -2.420000   \n",
       "25%              2.585000                   5.405000      0.265000   \n",
       "50%              5.210000                   9.030000      1.360000   \n",
       "75%             46.755000                 161.665000      7.315000   \n",
       "max           2489.110000                6554.520000     82.040000   \n",
       "\n",
       "       ipa_acumulado_ano  ipc_fipe_variacao  ipc_fipe_acumulado_ano  \\\n",
       "count         515.000000         515.000000              515.000000   \n",
       "mean           41.392097           5.787243               38.828136   \n",
       "std            73.768541          10.778574               72.750950   \n",
       "min            -5.820000          -1.000000               -1.790000   \n",
       "25%             2.215000           0.300000                1.995000   \n",
       "50%             7.550000           0.740000                4.910000   \n",
       "75%            43.015000           6.720000               39.500000   \n",
       "max           381.830000          79.110000              374.660000   \n",
       "\n",
       "       incc_variacao  incc_acumulado_ano  \n",
       "count     515.000000          515.000000  \n",
       "mean        6.107126           41.928485  \n",
       "std        11.219681           73.801160  \n",
       "min        -0.500000            0.310000  \n",
       "25%         0.360000            2.900000  \n",
       "50%         0.880000            6.560000  \n",
       "75%         6.030000           45.915000  \n",
       "max        78.410000          388.770000  "
      ]
     },
     "execution_count": 5,
     "metadata": {},
     "output_type": "execute_result"
    }
   ],
   "source": [
    "df.describe()"
   ]
  },
  {
   "cell_type": "markdown",
   "id": "292e851e",
   "metadata": {},
   "source": [
    "#### Definindo as varáveis de análise"
   ]
  },
  {
   "cell_type": "code",
   "execution_count": 6,
   "id": "fae1029b",
   "metadata": {
    "ExecuteTime": {
     "end_time": "2022-12-19T18:08:41.187368Z",
     "start_time": "2022-12-19T18:08:41.137325Z"
    }
   },
   "outputs": [
    {
     "data": {
      "text/plain": [
       "count    515.000000\n",
       "mean       5.937029\n",
       "std       10.868282\n",
       "min       -0.600000\n",
       "25%        0.385000\n",
       "50%        0.820000\n",
       "75%        6.755000\n",
       "max       82.180000\n",
       "Name: inpc_variacao, dtype: float64"
      ]
     },
     "execution_count": 6,
     "metadata": {},
     "output_type": "execute_result"
    }
   ],
   "source": [
    "inpc_variacao = df.inpc_variacao\n",
    "inpc_variacao.describe()"
   ]
  },
  {
   "cell_type": "code",
   "execution_count": 7,
   "id": "2f14d161",
   "metadata": {
    "ExecuteTime": {
     "end_time": "2022-12-19T18:08:41.257191Z",
     "start_time": "2022-12-19T18:08:41.190862Z"
    }
   },
   "outputs": [
    {
     "data": {
      "text/plain": [
       "count    515.000000\n",
       "mean       5.948214\n",
       "std       10.862122\n",
       "min       -0.680000\n",
       "25%        0.380000\n",
       "50%        0.780000\n",
       "75%        6.840000\n",
       "max       82.390000\n",
       "Name: ipca_variacao, dtype: float64"
      ]
     },
     "execution_count": 7,
     "metadata": {},
     "output_type": "execute_result"
    }
   ],
   "source": [
    "ipca_variacao = df.ipca_variacao\n",
    "ipca_variacao.describe()"
   ]
  },
  {
   "cell_type": "code",
   "execution_count": 8,
   "id": "ae26a1ad",
   "metadata": {},
   "outputs": [
    {
     "data": {
      "text/plain": [
       "count    515.000000\n",
       "mean       6.172835\n",
       "std       11.046885\n",
       "min       -2.420000\n",
       "25%        0.265000\n",
       "50%        1.360000\n",
       "75%        7.315000\n",
       "max       82.040000\n",
       "Name: ipa_variacao, dtype: float64"
      ]
     },
     "execution_count": 8,
     "metadata": {},
     "output_type": "execute_result"
    }
   ],
   "source": [
    "ipa_variacao = df.ipa_variacao\n",
    "ipa_variacao.describe()"
   ]
  },
  {
   "cell_type": "code",
   "execution_count": null,
   "id": "3af79cf2",
   "metadata": {},
   "outputs": [],
   "source": []
  },
  {
   "cell_type": "markdown",
   "id": "849ffa3e",
   "metadata": {},
   "source": [
    "# Regressão Linear Simples"
   ]
  },
  {
   "cell_type": "code",
   "execution_count": 9,
   "id": "c3ea2cea",
   "metadata": {
    "ExecuteTime": {
     "end_time": "2022-12-19T18:08:41.916232Z",
     "start_time": "2022-12-19T18:08:41.272852Z"
    }
   },
   "outputs": [
    {
     "data": {
      "image/png": "[encoded data removed]",
      "text/plain": [
       "<Figure size 1600x800 with 1 Axes>"
      ]
     },
     "metadata": {},
     "output_type": "display_data"
    }
   ],
   "source": [
    "plt.figure(figsize = (16,8))\n",
    "plt.scatter(\n",
    "    ipca_variacao, \n",
    "    inpc_variacao, \n",
    "    c='purple')\n",
    "plt.xlabel(\" Variação do IPCA \")\n",
    "plt.ylabel(\" Variação do INPC \")\n",
    "plt.show()\n"
   ]
  },
  {
   "cell_type": "markdown",
   "id": "94f344c9",
   "metadata": {},
   "source": [
    "#### Criando um modelo simples"
   ]
  },
  {
   "cell_type": "code",
   "execution_count": 10,
   "id": "3004c6ae",
   "metadata": {
    "ExecuteTime": {
     "end_time": "2022-12-19T18:08:41.952052Z",
     "start_time": "2022-12-19T18:08:41.929932Z"
    }
   },
   "outputs": [
    {
     "name": "stdout",
     "output_type": "stream",
     "text": [
      "O modelo é: Inflação = -0.0085554 + 0.99956X\n"
     ]
    }
   ],
   "source": [
    "X = df['ipca_variacao'].values.reshape(-1,1)\n",
    "y = df['inpc_variacao'].values.reshape(-1,1)\n",
    "\n",
    "\n",
    "reg = LinearRegression()\n",
    "reg.fit(X, y)\n",
    "\n",
    "\n",
    "print(\"O modelo é: Inflação = {:.5} + {:.5}X\".format(reg.intercept_[0], reg.coef_[0][0]))\n"
   ]
  },
  {
   "cell_type": "code",
   "execution_count": 11,
   "id": "cd6694de",
   "metadata": {},
   "outputs": [
    {
     "data": {
      "text/plain": [
       "0.9989915209751978"
      ]
     },
     "execution_count": 11,
     "metadata": {},
     "output_type": "execute_result"
    }
   ],
   "source": [
    "df['ipca_variacao'].corr(df['inpc_variacao'])"
   ]
  },
  {
   "cell_type": "markdown",
   "id": "326ba295",
   "metadata": {},
   "source": [
    "* A correlacão 0.99 é extremamente alta"
   ]
  },
  {
   "cell_type": "code",
   "execution_count": 12,
   "id": "78437b4e",
   "metadata": {},
   "outputs": [
    {
     "data": {
      "text/plain": [
       "array([[1.        , 0.99899152],\n",
       "       [0.99899152, 1.        ]])"
      ]
     },
     "execution_count": 12,
     "metadata": {},
     "output_type": "execute_result"
    }
   ],
   "source": [
    "correlacao = np.corrcoef(df['ipca_variacao'], df['inpc_variacao'])\n",
    "correlacao"
   ]
  },
  {
   "cell_type": "markdown",
   "id": "19b407f9",
   "metadata": {},
   "source": [
    "* A correlação 0.99 é considerada forte"
   ]
  },
  {
   "cell_type": "markdown",
   "id": "3f7594ad",
   "metadata": {},
   "source": [
    "#### Verificando a precisão do modelo"
   ]
  },
  {
   "cell_type": "code",
   "execution_count": 13,
   "id": "d12bb537",
   "metadata": {
    "ExecuteTime": {
     "end_time": "2022-12-19T18:08:42.727233Z",
     "start_time": "2022-12-19T18:08:41.958488Z"
    }
   },
   "outputs": [
    {
     "data": {
      "image/png": "[encoded data removed]",
      "text/plain": [
       "<Figure size 1600x800 with 1 Axes>"
      ]
     },
     "metadata": {},
     "output_type": "display_data"
    }
   ],
   "source": [
    "f_previsaoes = reg.predict(X)\n",
    "\n",
    "plt.figure(figsize = (16,8))\n",
    "plt.scatter(\n",
    "    df['ipca_variacao'], \n",
    "    df['inpc_variacao'], \n",
    "    c='red')\n",
    "\n",
    "\n",
    "plt.plot(\n",
    "    df['ipca_variacao'],\n",
    "    f_previsaoes,\n",
    "    c='blue',\n",
    "    linewidth=3,\n",
    "    linestyle=':'\n",
    ")\n",
    "\n",
    "plt.xlabel(\" Variação do IPCA \")\n",
    "plt.ylabel(\" Variação do INPC \")\n",
    "plt.show()"
   ]
  },
  {
   "cell_type": "markdown",
   "id": "6139c201",
   "metadata": {},
   "source": [
    "#### Sumario do Modelo - Avaliar Precisão "
   ]
  },
  {
   "cell_type": "code",
   "execution_count": 14,
   "id": "6beb3dab",
   "metadata": {
    "ExecuteTime": {
     "end_time": "2022-12-19T18:08:42.810578Z",
     "start_time": "2022-12-19T18:08:42.738370Z"
    }
   },
   "outputs": [
    {
     "name": "stdout",
     "output_type": "stream",
     "text": [
      "                            OLS Regression Results                            \n",
      "==============================================================================\n",
      "Dep. Variable:          inpc_variacao   R-squared:                       0.998\n",
      "Model:                            OLS   Adj. R-squared:                  0.998\n",
      "Method:                 Least Squares   F-statistic:                 2.540e+05\n",
      "Date:                Tue, 27 Dec 2022   Prob (F-statistic):               0.00\n",
      "Time:                        10:06:06   Log-Likelihood:                -360.75\n",
      "No. Observations:                 515   AIC:                             725.5\n",
      "Df Residuals:                     513   BIC:                             734.0\n",
      "Df Model:                           1                                         \n",
      "Covariance Type:            nonrobust                                         \n",
      "=================================================================================\n",
      "                    coef    std err          t      P>|t|      [0.025      0.975]\n",
      "---------------------------------------------------------------------------------\n",
      "const            -0.0086      0.025     -0.349      0.728      -0.057       0.040\n",
      "ipca_variacao     0.9996      0.002    503.943      0.000       0.996       1.003\n",
      "==============================================================================\n",
      "Omnibus:                      206.149   Durbin-Watson:                   1.700\n",
      "Prob(Omnibus):                  0.000   Jarque-Bera (JB):             9605.433\n",
      "Skew:                          -0.964   Prob(JB):                         0.00\n",
      "Kurtosis:                      24.069   Cond. No.                         14.1\n",
      "==============================================================================\n",
      "\n",
      "Notes:\n",
      "[1] Standard Errors assume that the covariance matrix of the errors is correctly specified.\n"
     ]
    }
   ],
   "source": [
    "X = df['ipca_variacao']\n",
    "y = df['inpc_variacao']\n",
    "X2 = sm.add_constant(X)\n",
    "est = sm.OLS(y, X2)\n",
    "est2 = est.fit()\n",
    "print(est2.summary())"
   ]
  },
  {
   "cell_type": "markdown",
   "id": "83b21b07",
   "metadata": {},
   "source": [
    "#### Resultado do Modelo\n",
    "\n",
    "* O R2 é de 0.99. \n",
    "* Isso significa que 99% do comportamento da variável `ipca_variacao`é explicado pela variável `inpc_variacao`. \n",
    "* Nosso `p-valor` é de 0.728. Isso significa que podemos aceitar a hipótese nula. Se o mesmo estivesse baixo, rejeitariamos a hipótese nula e chegariamos a conclusão de que os dados não são bons o suficiente para gerar um modelo bom.  "
   ]
  },
  {
   "cell_type": "markdown",
   "id": "b72d56ea",
   "metadata": {},
   "source": [
    "#### Qual será a o INPC do mês quando a variação do IPCA for de 0.13?"
   ]
  },
  {
   "cell_type": "code",
   "execution_count": 15,
   "id": "9fb5a805",
   "metadata": {
    "ExecuteTime": {
     "end_time": "2022-12-19T18:08:42.844307Z",
     "start_time": "2022-12-19T18:08:42.818246Z"
    }
   },
   "outputs": [
    {
     "data": {
      "text/plain": [
       "array([[0.12138713]])"
      ]
     },
     "execution_count": 15,
     "metadata": {},
     "output_type": "execute_result"
    }
   ],
   "source": [
    "reg.predict([[0.13]])"
   ]
  },
  {
   "cell_type": "markdown",
   "id": "bd1c2700",
   "metadata": {},
   "source": [
    "#### Qual será o INPC do mês quando a variação do IPCA for de 1.99%?"
   ]
  },
  {
   "cell_type": "code",
   "execution_count": 16,
   "id": "d45a75a9",
   "metadata": {
    "ExecuteTime": {
     "end_time": "2022-12-19T18:08:42.911047Z",
     "start_time": "2022-12-19T18:08:42.868817Z"
    }
   },
   "outputs": [
    {
     "data": {
      "text/plain": [
       "array([[1.98056503]])"
      ]
     },
     "execution_count": 16,
     "metadata": {},
     "output_type": "execute_result"
    }
   ],
   "source": [
    "reg.predict([[1.99]])"
   ]
  },
  {
   "cell_type": "markdown",
   "id": "811eda7a",
   "metadata": {},
   "source": [
    "#### Qual será o INPC do mês quando a variação do IPCA for de -63%?"
   ]
  },
  {
   "cell_type": "code",
   "execution_count": 17,
   "id": "8c6db5c7",
   "metadata": {
    "ExecuteTime": {
     "end_time": "2022-12-19T18:08:42.955342Z",
     "start_time": "2022-12-19T18:08:42.923015Z"
    }
   },
   "outputs": [
    {
     "data": {
      "text/plain": [
       "array([[-0.63827695]])"
      ]
     },
     "execution_count": 17,
     "metadata": {},
     "output_type": "execute_result"
    }
   ],
   "source": [
    "reg.predict([[-0.63]])"
   ]
  },
  {
   "cell_type": "markdown",
   "id": "19d93f44",
   "metadata": {
    "ExecuteTime": {
     "end_time": "2022-12-19T16:41:24.814591Z",
     "start_time": "2022-12-19T16:41:24.801020Z"
    }
   },
   "source": [
    "#### Qual será o INPC do mês quando a variação do IPCA for de 0.59%?"
   ]
  },
  {
   "cell_type": "code",
   "execution_count": 18,
   "id": "2cfcf32c",
   "metadata": {
    "ExecuteTime": {
     "end_time": "2022-12-19T18:08:42.997768Z",
     "start_time": "2022-12-19T18:08:42.959816Z"
    }
   },
   "outputs": [
    {
     "data": {
      "text/plain": [
       "array([[0.58118382]])"
      ]
     },
     "execution_count": 18,
     "metadata": {},
     "output_type": "execute_result"
    }
   ],
   "source": [
    "reg.predict([[0.59]])"
   ]
  },
  {
   "cell_type": "markdown",
   "id": "f8a4ed51",
   "metadata": {},
   "source": [
    "# Previsão do IPCA pelo IPCA15\n",
    "\n",
    "O objetivo é prever o IPCA a partir do IPCA15"
   ]
  },
  {
   "cell_type": "markdown",
   "id": "113bdaec",
   "metadata": {
    "ExecuteTime": {
     "end_time": "2022-12-19T14:58:07.086890Z",
     "start_time": "2022-12-19T14:58:07.081006Z"
    }
   },
   "source": [
    "## Tratamento dos dados"
   ]
  },
  {
   "cell_type": "markdown",
   "id": "48355261",
   "metadata": {},
   "source": [
    "#### Excluindo os anos que o IPCA15 não foi calculado. \n",
    "\n",
    "O calculo do `IPCA15` começou a ser efetuado no ano de 2000, enquanto sua série principal, o `IPCA` é observado historicamente e disponibilizado desde 1980. Então vamos deixar somente as observações do dataset nos quais o IPCA15 tem registros de variação. \n",
    "\n",
    "O `IPCA15` sai 15 dias antes do `IPCA` padrão. Então o mesmo sai como uma prévia do IPCA funcional. "
   ]
  },
  {
   "cell_type": "code",
   "execution_count": 19,
   "id": "bd4d89e3",
   "metadata": {
    "ExecuteTime": {
     "end_time": "2022-12-19T18:08:43.042844Z",
     "start_time": "2022-12-19T18:08:43.033353Z"
    }
   },
   "outputs": [],
   "source": [
    "df_ipca_analise = df[df.ipca15_variacao != 0]"
   ]
  },
  {
   "cell_type": "code",
   "execution_count": 20,
   "id": "fd6781c9",
   "metadata": {
    "ExecuteTime": {
     "end_time": "2022-12-19T18:08:43.186222Z",
     "start_time": "2022-12-19T18:08:43.055623Z"
    }
   },
   "outputs": [
    {
     "data": {
      "text/html": [
       "<div>\n",
       "<style scoped>\n",
       "    .dataframe tbody tr th:only-of-type {\n",
       "        vertical-align: middle;\n",
       "    }\n",
       "\n",
       "    .dataframe tbody tr th {\n",
       "        vertical-align: top;\n",
       "    }\n",
       "\n",
       "    .dataframe thead th {\n",
       "        text-align: right;\n",
       "    }\n",
       "</style>\n",
       "<table border=\"1\" class=\"dataframe\">\n",
       "  <thead>\n",
       "    <tr style=\"text-align: right;\">\n",
       "      <th></th>\n",
       "      <th>ano</th>\n",
       "      <th>mes</th>\n",
       "      <th>ano_mes</th>\n",
       "      <th>ipca_variacao</th>\n",
       "      <th>ipca_acumulado_ano</th>\n",
       "      <th>ipca_acumulado_doze_meses</th>\n",
       "      <th>ipca15_variacao</th>\n",
       "      <th>ipca15_acumulado_ano</th>\n",
       "      <th>ipca15_acumulado_doze_meses</th>\n",
       "      <th>inpc_variacao</th>\n",
       "      <th>inpc_acumulado_ano</th>\n",
       "      <th>inpc_acumulado_doze_meses</th>\n",
       "      <th>ipa_variacao</th>\n",
       "      <th>ipa_acumulado_ano</th>\n",
       "      <th>ipc_fipe_variacao</th>\n",
       "      <th>ipc_fipe_acumulado_ano</th>\n",
       "      <th>incc_variacao</th>\n",
       "      <th>incc_acumulado_ano</th>\n",
       "    </tr>\n",
       "  </thead>\n",
       "  <tbody>\n",
       "    <tr>\n",
       "      <th>count</th>\n",
       "      <td>271.000000</td>\n",
       "      <td>271.000000</td>\n",
       "      <td>271.000000</td>\n",
       "      <td>271.000000</td>\n",
       "      <td>271.000000</td>\n",
       "      <td>271.000000</td>\n",
       "      <td>271.000000</td>\n",
       "      <td>271.000000</td>\n",
       "      <td>271.000000</td>\n",
       "      <td>271.000000</td>\n",
       "      <td>271.000000</td>\n",
       "      <td>271.000000</td>\n",
       "      <td>271.000000</td>\n",
       "      <td>271.000000</td>\n",
       "      <td>271.000000</td>\n",
       "      <td>271.000000</td>\n",
       "      <td>271.000000</td>\n",
       "      <td>271.000000</td>\n",
       "    </tr>\n",
       "    <tr>\n",
       "      <th>mean</th>\n",
       "      <td>2011.121771</td>\n",
       "      <td>6.538745</td>\n",
       "      <td>201118.715867</td>\n",
       "      <td>0.513173</td>\n",
       "      <td>3.444871</td>\n",
       "      <td>6.423506</td>\n",
       "      <td>0.512657</td>\n",
       "      <td>3.525387</td>\n",
       "      <td>6.424908</td>\n",
       "      <td>0.528081</td>\n",
       "      <td>3.571328</td>\n",
       "      <td>6.604797</td>\n",
       "      <td>0.764317</td>\n",
       "      <td>4.735351</td>\n",
       "      <td>0.475646</td>\n",
       "      <td>3.028708</td>\n",
       "      <td>0.639041</td>\n",
       "      <td>4.497122</td>\n",
       "    </tr>\n",
       "    <tr>\n",
       "      <th>std</th>\n",
       "      <td>6.536219</td>\n",
       "      <td>3.436915</td>\n",
       "      <td>653.496151</td>\n",
       "      <td>0.406976</td>\n",
       "      <td>2.259534</td>\n",
       "      <td>2.816161</td>\n",
       "      <td>0.410544</td>\n",
       "      <td>2.275003</td>\n",
       "      <td>2.843185</td>\n",
       "      <td>0.456737</td>\n",
       "      <td>2.469381</td>\n",
       "      <td>3.362392</td>\n",
       "      <td>1.269906</td>\n",
       "      <td>5.779711</td>\n",
       "      <td>0.422905</td>\n",
       "      <td>2.149862</td>\n",
       "      <td>0.559300</td>\n",
       "      <td>3.112732</td>\n",
       "    </tr>\n",
       "    <tr>\n",
       "      <th>min</th>\n",
       "      <td>2000.000000</td>\n",
       "      <td>1.000000</td>\n",
       "      <td>200005.000000</td>\n",
       "      <td>-0.680000</td>\n",
       "      <td>-0.160000</td>\n",
       "      <td>1.880000</td>\n",
       "      <td>-0.730000</td>\n",
       "      <td>0.300000</td>\n",
       "      <td>1.920000</td>\n",
       "      <td>-0.600000</td>\n",
       "      <td>0.060000</td>\n",
       "      <td>1.560000</td>\n",
       "      <td>-1.960000</td>\n",
       "      <td>-5.820000</td>\n",
       "      <td>-0.420000</td>\n",
       "      <td>-0.040000</td>\n",
       "      <td>-0.250000</td>\n",
       "      <td>0.310000</td>\n",
       "    </tr>\n",
       "    <tr>\n",
       "      <th>25%</th>\n",
       "      <td>2005.500000</td>\n",
       "      <td>4.000000</td>\n",
       "      <td>200556.500000</td>\n",
       "      <td>0.270000</td>\n",
       "      <td>1.645000</td>\n",
       "      <td>4.545000</td>\n",
       "      <td>0.245000</td>\n",
       "      <td>1.715000</td>\n",
       "      <td>4.425000</td>\n",
       "      <td>0.240000</td>\n",
       "      <td>1.620000</td>\n",
       "      <td>4.675000</td>\n",
       "      <td>0.010000</td>\n",
       "      <td>0.700000</td>\n",
       "      <td>0.190000</td>\n",
       "      <td>1.210000</td>\n",
       "      <td>0.270000</td>\n",
       "      <td>1.715000</td>\n",
       "    </tr>\n",
       "    <tr>\n",
       "      <th>50%</th>\n",
       "      <td>2011.000000</td>\n",
       "      <td>7.000000</td>\n",
       "      <td>201108.000000</td>\n",
       "      <td>0.470000</td>\n",
       "      <td>3.130000</td>\n",
       "      <td>6.090000</td>\n",
       "      <td>0.460000</td>\n",
       "      <td>3.140000</td>\n",
       "      <td>6.150000</td>\n",
       "      <td>0.480000</td>\n",
       "      <td>3.240000</td>\n",
       "      <td>5.970000</td>\n",
       "      <td>0.550000</td>\n",
       "      <td>3.380000</td>\n",
       "      <td>0.390000</td>\n",
       "      <td>2.720000</td>\n",
       "      <td>0.460000</td>\n",
       "      <td>4.330000</td>\n",
       "    </tr>\n",
       "    <tr>\n",
       "      <th>75%</th>\n",
       "      <td>2017.000000</td>\n",
       "      <td>9.500000</td>\n",
       "      <td>201703.500000</td>\n",
       "      <td>0.705000</td>\n",
       "      <td>4.815000</td>\n",
       "      <td>7.510000</td>\n",
       "      <td>0.695000</td>\n",
       "      <td>5.025000</td>\n",
       "      <td>7.475000</td>\n",
       "      <td>0.730000</td>\n",
       "      <td>4.945000</td>\n",
       "      <td>7.635000</td>\n",
       "      <td>1.355000</td>\n",
       "      <td>7.525000</td>\n",
       "      <td>0.670000</td>\n",
       "      <td>4.445000</td>\n",
       "      <td>0.860000</td>\n",
       "      <td>6.395000</td>\n",
       "    </tr>\n",
       "    <tr>\n",
       "      <th>max</th>\n",
       "      <td>2022.000000</td>\n",
       "      <td>12.000000</td>\n",
       "      <td>202211.000000</td>\n",
       "      <td>3.020000</td>\n",
       "      <td>12.530000</td>\n",
       "      <td>17.240000</td>\n",
       "      <td>3.050000</td>\n",
       "      <td>11.990000</td>\n",
       "      <td>17.240000</td>\n",
       "      <td>3.390000</td>\n",
       "      <td>14.740000</td>\n",
       "      <td>20.440000</td>\n",
       "      <td>7.450000</td>\n",
       "      <td>31.010000</td>\n",
       "      <td>2.650000</td>\n",
       "      <td>10.560000</td>\n",
       "      <td>2.940000</td>\n",
       "      <td>13.570000</td>\n",
       "    </tr>\n",
       "  </tbody>\n",
       "</table>\n",
       "</div>"
      ],
      "text/plain": [
       "               ano         mes        ano_mes  ipca_variacao  \\\n",
       "count   271.000000  271.000000     271.000000     271.000000   \n",
       "mean   2011.121771    6.538745  201118.715867       0.513173   \n",
       "std       6.536219    3.436915     653.496151       0.406976   \n",
       "min    2000.000000    1.000000  200005.000000      -0.680000   \n",
       "25%    2005.500000    4.000000  200556.500000       0.270000   \n",
       "50%    2011.000000    7.000000  201108.000000       0.470000   \n",
       "75%    2017.000000    9.500000  201703.500000       0.705000   \n",
       "max    2022.000000   12.000000  202211.000000       3.020000   \n",
       "\n",
       "       ipca_acumulado_ano  ipca_acumulado_doze_meses  ipca15_variacao  \\\n",
       "count          271.000000                 271.000000       271.000000   \n",
       "mean             3.444871                   6.423506         0.512657   \n",
       "std              2.259534                   2.816161         0.410544   \n",
       "min             -0.160000                   1.880000        -0.730000   \n",
       "25%              1.645000                   4.545000         0.245000   \n",
       "50%              3.130000                   6.090000         0.460000   \n",
       "75%              4.815000                   7.510000         0.695000   \n",
       "max             12.530000                  17.240000         3.050000   \n",
       "\n",
       "       ipca15_acumulado_ano  ipca15_acumulado_doze_meses  inpc_variacao  \\\n",
       "count            271.000000                   271.000000     271.000000   \n",
       "mean               3.525387                     6.424908       0.528081   \n",
       "std                2.275003                     2.843185       0.456737   \n",
       "min                0.300000                     1.920000      -0.600000   \n",
       "25%                1.715000                     4.425000       0.240000   \n",
       "50%                3.140000                     6.150000       0.480000   \n",
       "75%                5.025000                     7.475000       0.730000   \n",
       "max               11.990000                    17.240000       3.390000   \n",
       "\n",
       "       inpc_acumulado_ano  inpc_acumulado_doze_meses  ipa_variacao  \\\n",
       "count          271.000000                 271.000000    271.000000   \n",
       "mean             3.571328                   6.604797      0.764317   \n",
       "std              2.469381                   3.362392      1.269906   \n",
       "min              0.060000                   1.560000     -1.960000   \n",
       "25%              1.620000                   4.675000      0.010000   \n",
       "50%              3.240000                   5.970000      0.550000   \n",
       "75%              4.945000                   7.635000      1.355000   \n",
       "max             14.740000                  20.440000      7.450000   \n",
       "\n",
       "       ipa_acumulado_ano  ipc_fipe_variacao  ipc_fipe_acumulado_ano  \\\n",
       "count         271.000000         271.000000              271.000000   \n",
       "mean            4.735351           0.475646                3.028708   \n",
       "std             5.779711           0.422905                2.149862   \n",
       "min            -5.820000          -0.420000               -0.040000   \n",
       "25%             0.700000           0.190000                1.210000   \n",
       "50%             3.380000           0.390000                2.720000   \n",
       "75%             7.525000           0.670000                4.445000   \n",
       "max            31.010000           2.650000               10.560000   \n",
       "\n",
       "       incc_variacao  incc_acumulado_ano  \n",
       "count     271.000000          271.000000  \n",
       "mean        0.639041            4.497122  \n",
       "std         0.559300            3.112732  \n",
       "min        -0.250000            0.310000  \n",
       "25%         0.270000            1.715000  \n",
       "50%         0.460000            4.330000  \n",
       "75%         0.860000            6.395000  \n",
       "max         2.940000           13.570000  "
      ]
     },
     "execution_count": 20,
     "metadata": {},
     "output_type": "execute_result"
    }
   ],
   "source": [
    "df_ipca_analise.describe()"
   ]
  },
  {
   "cell_type": "code",
   "execution_count": 21,
   "id": "a432892f",
   "metadata": {
    "ExecuteTime": {
     "end_time": "2022-12-19T18:08:43.252099Z",
     "start_time": "2022-12-19T18:08:43.193969Z"
    }
   },
   "outputs": [
    {
     "data": {
      "text/html": [
       "<div>\n",
       "<style scoped>\n",
       "    .dataframe tbody tr th:only-of-type {\n",
       "        vertical-align: middle;\n",
       "    }\n",
       "\n",
       "    .dataframe tbody tr th {\n",
       "        vertical-align: top;\n",
       "    }\n",
       "\n",
       "    .dataframe thead th {\n",
       "        text-align: right;\n",
       "    }\n",
       "</style>\n",
       "<table border=\"1\" class=\"dataframe\">\n",
       "  <thead>\n",
       "    <tr style=\"text-align: right;\">\n",
       "      <th></th>\n",
       "      <th>referencia</th>\n",
       "      <th>ano</th>\n",
       "      <th>mes</th>\n",
       "      <th>ano_mes</th>\n",
       "      <th>ipca_variacao</th>\n",
       "      <th>ipca_acumulado_ano</th>\n",
       "      <th>ipca_acumulado_doze_meses</th>\n",
       "      <th>ipca15_variacao</th>\n",
       "      <th>ipca15_acumulado_ano</th>\n",
       "      <th>ipca15_acumulado_doze_meses</th>\n",
       "      <th>inpc_variacao</th>\n",
       "      <th>inpc_acumulado_ano</th>\n",
       "      <th>inpc_acumulado_doze_meses</th>\n",
       "      <th>ipa_variacao</th>\n",
       "      <th>ipa_acumulado_ano</th>\n",
       "      <th>ipc_fipe_variacao</th>\n",
       "      <th>ipc_fipe_acumulado_ano</th>\n",
       "      <th>incc_variacao</th>\n",
       "      <th>incc_acumulado_ano</th>\n",
       "      <th>consolidado_ano</th>\n",
       "    </tr>\n",
       "  </thead>\n",
       "  <tbody>\n",
       "    <tr>\n",
       "      <th>510</th>\n",
       "      <td>2022-07</td>\n",
       "      <td>2022</td>\n",
       "      <td>7</td>\n",
       "      <td>202207</td>\n",
       "      <td>-0.68</td>\n",
       "      <td>4.77</td>\n",
       "      <td>10.07</td>\n",
       "      <td>0.13</td>\n",
       "      <td>5.79</td>\n",
       "      <td>11.39</td>\n",
       "      <td>-0.60</td>\n",
       "      <td>4.98</td>\n",
       "      <td>10.12</td>\n",
       "      <td>-0.32</td>\n",
       "      <td>8.17</td>\n",
       "      <td>0.16</td>\n",
       "      <td>5.40</td>\n",
       "      <td>0.86</td>\n",
       "      <td>8.18</td>\n",
       "      <td>False</td>\n",
       "    </tr>\n",
       "    <tr>\n",
       "      <th>511</th>\n",
       "      <td>2022-08</td>\n",
       "      <td>2022</td>\n",
       "      <td>8</td>\n",
       "      <td>202208</td>\n",
       "      <td>-0.36</td>\n",
       "      <td>4.39</td>\n",
       "      <td>8.73</td>\n",
       "      <td>-0.73</td>\n",
       "      <td>5.02</td>\n",
       "      <td>9.60</td>\n",
       "      <td>-0.31</td>\n",
       "      <td>4.65</td>\n",
       "      <td>8.83</td>\n",
       "      <td>-0.63</td>\n",
       "      <td>7.54</td>\n",
       "      <td>0.12</td>\n",
       "      <td>5.52</td>\n",
       "      <td>0.09</td>\n",
       "      <td>8.27</td>\n",
       "      <td>False</td>\n",
       "    </tr>\n",
       "    <tr>\n",
       "      <th>512</th>\n",
       "      <td>2022-09</td>\n",
       "      <td>2022</td>\n",
       "      <td>9</td>\n",
       "      <td>202209</td>\n",
       "      <td>-0.29</td>\n",
       "      <td>4.09</td>\n",
       "      <td>7.17</td>\n",
       "      <td>-0.37</td>\n",
       "      <td>4.63</td>\n",
       "      <td>7.96</td>\n",
       "      <td>-0.32</td>\n",
       "      <td>4.32</td>\n",
       "      <td>7.19</td>\n",
       "      <td>-1.68</td>\n",
       "      <td>5.86</td>\n",
       "      <td>0.12</td>\n",
       "      <td>5.64</td>\n",
       "      <td>0.09</td>\n",
       "      <td>8.36</td>\n",
       "      <td>False</td>\n",
       "    </tr>\n",
       "    <tr>\n",
       "      <th>513</th>\n",
       "      <td>2022-10</td>\n",
       "      <td>2022</td>\n",
       "      <td>10</td>\n",
       "      <td>202210</td>\n",
       "      <td>0.59</td>\n",
       "      <td>4.70</td>\n",
       "      <td>6.47</td>\n",
       "      <td>0.16</td>\n",
       "      <td>4.80</td>\n",
       "      <td>6.85</td>\n",
       "      <td>0.47</td>\n",
       "      <td>4.81</td>\n",
       "      <td>6.46</td>\n",
       "      <td>-1.04</td>\n",
       "      <td>4.82</td>\n",
       "      <td>0.45</td>\n",
       "      <td>6.09</td>\n",
       "      <td>0.12</td>\n",
       "      <td>8.48</td>\n",
       "      <td>False</td>\n",
       "    </tr>\n",
       "    <tr>\n",
       "      <th>514</th>\n",
       "      <td>2022-11</td>\n",
       "      <td>2022</td>\n",
       "      <td>11</td>\n",
       "      <td>202211</td>\n",
       "      <td>0.41</td>\n",
       "      <td>5.13</td>\n",
       "      <td>5.90</td>\n",
       "      <td>0.53</td>\n",
       "      <td>5.35</td>\n",
       "      <td>6.17</td>\n",
       "      <td>0.38</td>\n",
       "      <td>5.21</td>\n",
       "      <td>5.97</td>\n",
       "      <td>-0.43</td>\n",
       "      <td>4.39</td>\n",
       "      <td>0.47</td>\n",
       "      <td>6.56</td>\n",
       "      <td>0.36</td>\n",
       "      <td>8.84</td>\n",
       "      <td>False</td>\n",
       "    </tr>\n",
       "  </tbody>\n",
       "</table>\n",
       "</div>"
      ],
      "text/plain": [
       "    referencia   ano  mes  ano_mes  ipca_variacao  ipca_acumulado_ano  \\\n",
       "510    2022-07  2022    7   202207          -0.68                4.77   \n",
       "511    2022-08  2022    8   202208          -0.36                4.39   \n",
       "512    2022-09  2022    9   202209          -0.29                4.09   \n",
       "513    2022-10  2022   10   202210           0.59                4.70   \n",
       "514    2022-11  2022   11   202211           0.41                5.13   \n",
       "\n",
       "     ipca_acumulado_doze_meses  ipca15_variacao  ipca15_acumulado_ano  \\\n",
       "510                      10.07             0.13                  5.79   \n",
       "511                       8.73            -0.73                  5.02   \n",
       "512                       7.17            -0.37                  4.63   \n",
       "513                       6.47             0.16                  4.80   \n",
       "514                       5.90             0.53                  5.35   \n",
       "\n",
       "     ipca15_acumulado_doze_meses  inpc_variacao  inpc_acumulado_ano  \\\n",
       "510                        11.39          -0.60                4.98   \n",
       "511                         9.60          -0.31                4.65   \n",
       "512                         7.96          -0.32                4.32   \n",
       "513                         6.85           0.47                4.81   \n",
       "514                         6.17           0.38                5.21   \n",
       "\n",
       "     inpc_acumulado_doze_meses  ipa_variacao  ipa_acumulado_ano  \\\n",
       "510                      10.12         -0.32               8.17   \n",
       "511                       8.83         -0.63               7.54   \n",
       "512                       7.19         -1.68               5.86   \n",
       "513                       6.46         -1.04               4.82   \n",
       "514                       5.97         -0.43               4.39   \n",
       "\n",
       "     ipc_fipe_variacao  ipc_fipe_acumulado_ano  incc_variacao  \\\n",
       "510               0.16                    5.40           0.86   \n",
       "511               0.12                    5.52           0.09   \n",
       "512               0.12                    5.64           0.09   \n",
       "513               0.45                    6.09           0.12   \n",
       "514               0.47                    6.56           0.36   \n",
       "\n",
       "     incc_acumulado_ano  consolidado_ano  \n",
       "510                8.18            False  \n",
       "511                8.27            False  \n",
       "512                8.36            False  \n",
       "513                8.48            False  \n",
       "514                8.84            False  "
      ]
     },
     "execution_count": 21,
     "metadata": {},
     "output_type": "execute_result"
    }
   ],
   "source": [
    "df_ipca_analise.tail()"
   ]
  },
  {
   "cell_type": "code",
   "execution_count": 22,
   "id": "d826f158",
   "metadata": {
    "ExecuteTime": {
     "end_time": "2022-12-19T18:08:43.316573Z",
     "start_time": "2022-12-19T18:08:43.290522Z"
    }
   },
   "outputs": [
    {
     "data": {
      "text/plain": [
       "count    271.000000\n",
       "mean       0.513173\n",
       "std        0.406976\n",
       "min       -0.680000\n",
       "25%        0.270000\n",
       "50%        0.470000\n",
       "75%        0.705000\n",
       "max        3.020000\n",
       "Name: ipca_variacao, dtype: float64"
      ]
     },
     "execution_count": 22,
     "metadata": {},
     "output_type": "execute_result"
    }
   ],
   "source": [
    "ipca_variacao = df_ipca_analise.ipca_variacao\n",
    "ipca_variacao.describe()"
   ]
  },
  {
   "cell_type": "code",
   "execution_count": 23,
   "id": "bc203dd6",
   "metadata": {
    "ExecuteTime": {
     "end_time": "2022-12-19T18:08:43.405632Z",
     "start_time": "2022-12-19T18:08:43.331474Z"
    }
   },
   "outputs": [
    {
     "data": {
      "text/plain": [
       "count    271.000000\n",
       "mean       0.512657\n",
       "std        0.410544\n",
       "min       -0.730000\n",
       "25%        0.245000\n",
       "50%        0.460000\n",
       "75%        0.695000\n",
       "max        3.050000\n",
       "Name: ipca15_variacao, dtype: float64"
      ]
     },
     "execution_count": 23,
     "metadata": {},
     "output_type": "execute_result"
    }
   ],
   "source": [
    "ipca15_variacao = df_ipca_analise.ipca15_variacao\n",
    "ipca15_variacao.describe()"
   ]
  },
  {
   "cell_type": "code",
   "execution_count": 24,
   "id": "0ed50df3",
   "metadata": {
    "ExecuteTime": {
     "end_time": "2022-12-19T18:08:43.746254Z",
     "start_time": "2022-12-19T18:08:43.418479Z"
    }
   },
   "outputs": [
    {
     "data": {
      "image/png": "[encoded data removed]",
      "text/plain": [
       "<Figure size 800x550 with 1 Axes>"
      ]
     },
     "metadata": {},
     "output_type": "display_data"
    }
   ],
   "source": [
    "plt.scatter(ipca15_variacao, ipca_variacao)\n",
    "plt.show()"
   ]
  },
  {
   "cell_type": "markdown",
   "id": "685b92e2",
   "metadata": {
    "ExecuteTime": {
     "end_time": "2022-12-19T15:18:07.592835Z",
     "start_time": "2022-12-19T15:18:07.582641Z"
    }
   },
   "source": [
    "#### Encontrando a melhor reta para regressão"
   ]
  },
  {
   "cell_type": "code",
   "execution_count": 25,
   "id": "0a85b116",
   "metadata": {
    "ExecuteTime": {
     "end_time": "2022-12-19T18:08:43.833497Z",
     "start_time": "2022-12-19T18:08:43.759316Z"
    }
   },
   "outputs": [],
   "source": [
    "reg = LinearRegression()"
   ]
  },
  {
   "cell_type": "markdown",
   "id": "f78b6483",
   "metadata": {},
   "source": [
    "#### Transformando os Series do Pandas em Arrays para fazer o fit dos dados. "
   ]
  },
  {
   "cell_type": "code",
   "execution_count": 26,
   "id": "8e2b86aa",
   "metadata": {
    "ExecuteTime": {
     "end_time": "2022-12-19T18:08:43.890151Z",
     "start_time": "2022-12-19T18:08:43.858812Z"
    }
   },
   "outputs": [
    {
     "data": {
      "text/html": [
       "<style>#sk-container-id-1 {color: black;background-color: white;}#sk-container-id-1 pre{padding: 0;}#sk-container-id-1 div.sk-toggleable {background-color: white;}#sk-container-id-1 label.sk-toggleable__label {cursor: pointer;display: block;width: 100%;margin-bottom: 0;padding: 0.3em;box-sizing: border-box;text-align: center;}#sk-container-id-1 label.sk-toggleable__label-arrow:before {content: \"▸\";float: left;margin-right: 0.25em;color: #696969;}#sk-container-id-1 label.sk-toggleable__label-arrow:hover:before {color: black;}#sk-container-id-1 div.sk-estimator:hover label.sk-toggleable__label-arrow:before {color: black;}#sk-container-id-1 div.sk-toggleable__content {max-height: 0;max-width: 0;overflow: hidden;text-align: left;background-color: #f0f8ff;}#sk-container-id-1 div.sk-toggleable__content pre {margin: 0.2em;color: black;border-radius: 0.25em;background-color: #f0f8ff;}#sk-container-id-1 input.sk-toggleable__control:checked~div.sk-toggleable__content {max-height: 200px;max-width: 100%;overflow: auto;}#sk-container-id-1 input.sk-toggleable__control:checked~label.sk-toggleable__label-arrow:before {content: \"▾\";}#sk-container-id-1 div.sk-estimator input.sk-toggleable__control:checked~label.sk-toggleable__label {background-color: #d4ebff;}#sk-container-id-1 div.sk-label input.sk-toggleable__control:checked~label.sk-toggleable__label {background-color: #d4ebff;}#sk-container-id-1 input.sk-hidden--visually {border: 0;clip: rect(1px 1px 1px 1px);clip: rect(1px, 1px, 1px, 1px);height: 1px;margin: -1px;overflow: hidden;padding: 0;position: absolute;width: 1px;}#sk-container-id-1 div.sk-estimator {font-family: monospace;background-color: #f0f8ff;border: 1px dotted black;border-radius: 0.25em;box-sizing: border-box;margin-bottom: 0.5em;}#sk-container-id-1 div.sk-estimator:hover {background-color: #d4ebff;}#sk-container-id-1 div.sk-parallel-item::after {content: \"\";width: 100%;border-bottom: 1px solid gray;flex-grow: 1;}#sk-container-id-1 div.sk-label:hover label.sk-toggleable__label {background-color: #d4ebff;}#sk-container-id-1 div.sk-serial::before {content: \"\";position: absolute;border-left: 1px solid gray;box-sizing: border-box;top: 0;bottom: 0;left: 50%;z-index: 0;}#sk-container-id-1 div.sk-serial {display: flex;flex-direction: column;align-items: center;background-color: white;padding-right: 0.2em;padding-left: 0.2em;position: relative;}#sk-container-id-1 div.sk-item {position: relative;z-index: 1;}#sk-container-id-1 div.sk-parallel {display: flex;align-items: stretch;justify-content: center;background-color: white;position: relative;}#sk-container-id-1 div.sk-item::before, #sk-container-id-1 div.sk-parallel-item::before {content: \"\";position: absolute;border-left: 1px solid gray;box-sizing: border-box;top: 0;bottom: 0;left: 50%;z-index: -1;}#sk-container-id-1 div.sk-parallel-item {display: flex;flex-direction: column;z-index: 1;position: relative;background-color: white;}#sk-container-id-1 div.sk-parallel-item:first-child::after {align-self: flex-end;width: 50%;}#sk-container-id-1 div.sk-parallel-item:last-child::after {align-self: flex-start;width: 50%;}#sk-container-id-1 div.sk-parallel-item:only-child::after {width: 0;}#sk-container-id-1 div.sk-dashed-wrapped {border: 1px dashed gray;margin: 0 0.4em 0.5em 0.4em;box-sizing: border-box;padding-bottom: 0.4em;background-color: white;}#sk-container-id-1 div.sk-label label {font-family: monospace;font-weight: bold;display: inline-block;line-height: 1.2em;}#sk-container-id-1 div.sk-label-container {text-align: center;}#sk-container-id-1 div.sk-container {/* jupyter's `normalize.less` sets `[hidden] { display: none; }` but bootstrap.min.css set `[hidden] { display: none !important; }` so we also need the `!important` here to be able to override the default hidden behavior on the sphinx rendered scikit-learn.org. See: https://github.com/scikit-learn/scikit-learn/issues/21755 */display: inline-block !important;position: relative;}#sk-container-id-1 div.sk-text-repr-fallback {display: none;}</style><div id=\"sk-container-id-1\" class=\"sk-top-container\"><div class=\"sk-text-repr-fallback\"><pre>LinearRegression()</pre><b>In a Jupyter environment, please rerun this cell to show the HTML representation or trust the notebook. <br />On GitHub, the HTML representation is unable to render, please try loading this page with nbviewer.org.</b></div><div class=\"sk-container\" hidden><div class=\"sk-item\"><div class=\"sk-estimator sk-toggleable\"><input class=\"sk-toggleable__control sk-hidden--visually\" id=\"sk-estimator-id-1\" type=\"checkbox\" checked><label for=\"sk-estimator-id-1\" class=\"sk-toggleable__label sk-toggleable__label-arrow\">LinearRegression</label><div class=\"sk-toggleable__content\"><pre>LinearRegression()</pre></div></div></div></div></div>"
      ],
      "text/plain": [
       "LinearRegression()"
      ]
     },
     "execution_count": 26,
     "metadata": {},
     "output_type": "execute_result"
    }
   ],
   "source": [
    "reg.fit(\n",
    "    ipca15_variacao.values.reshape(-1, 1), \n",
    "    ipca_variacao.values.reshape(-1, 1)\n",
    ")"
   ]
  },
  {
   "cell_type": "code",
   "execution_count": 27,
   "id": "0262b593",
   "metadata": {
    "ExecuteTime": {
     "end_time": "2022-12-19T18:08:43.942372Z",
     "start_time": "2022-12-19T18:08:43.902264Z"
    }
   },
   "outputs": [
    {
     "data": {
      "text/plain": [
       "array([[0.84810034]])"
      ]
     },
     "execution_count": 27,
     "metadata": {},
     "output_type": "execute_result"
    }
   ],
   "source": [
    "reg.coef_"
   ]
  },
  {
   "cell_type": "markdown",
   "id": "0eed4efe",
   "metadata": {
    "ExecuteTime": {
     "end_time": "2022-12-19T15:26:21.783189Z",
     "start_time": "2022-12-19T15:26:21.774129Z"
    }
   },
   "source": [
    "#### Melhor possibilidade de onde a reta vai cortar o eixo. "
   ]
  },
  {
   "cell_type": "code",
   "execution_count": 28,
   "id": "3b647caf",
   "metadata": {
    "ExecuteTime": {
     "end_time": "2022-12-19T18:08:44.001161Z",
     "start_time": "2022-12-19T18:08:43.964875Z"
    }
   },
   "outputs": [
    {
     "data": {
      "text/plain": [
       "array([0.078389])"
      ]
     },
     "execution_count": 28,
     "metadata": {},
     "output_type": "execute_result"
    }
   ],
   "source": [
    "reg.intercept_"
   ]
  },
  {
   "cell_type": "markdown",
   "id": "f2b9d3b5",
   "metadata": {
    "ExecuteTime": {
     "end_time": "2022-12-19T15:26:58.518450Z",
     "start_time": "2022-12-19T15:26:58.509125Z"
    }
   },
   "source": [
    "#### Testando o coeficiente de interceptação para traçar o gráfico linearmente"
   ]
  },
  {
   "cell_type": "code",
   "execution_count": 29,
   "id": "8a5e81d0",
   "metadata": {
    "ExecuteTime": {
     "end_time": "2022-12-19T18:08:44.505095Z",
     "start_time": "2022-12-19T18:08:44.008391Z"
    },
    "scrolled": false
   },
   "outputs": [
    {
     "data": {
      "image/png": "[encoded data removed]",
      "text/plain": [
       "<Figure size 800x550 with 1 Axes>"
      ]
     },
     "metadata": {},
     "output_type": "display_data"
    }
   ],
   "source": [
    "plt.scatter(ipca15_variacao, ipca_variacao)\n",
    "x = np.array(ipca15_variacao)\n",
    "y = reg.intercept_ + x * reg.coef_\n",
    "plt.plot(x, y[0], \"r\")\n",
    "plt.show()"
   ]
  },
  {
   "cell_type": "code",
   "execution_count": 30,
   "id": "6d706cc8",
   "metadata": {
    "scrolled": true
   },
   "outputs": [
    {
     "data": {
      "text/plain": [
       "0.8555362044548497"
      ]
     },
     "execution_count": 30,
     "metadata": {},
     "output_type": "execute_result"
    }
   ],
   "source": [
    "ipca_variacao.corr(ipca15_variacao)"
   ]
  },
  {
   "cell_type": "markdown",
   "id": "b8343c80",
   "metadata": {},
   "source": [
    "* Correlação 0.85 é extremamente alta"
   ]
  },
  {
   "cell_type": "code",
   "execution_count": 31,
   "id": "e8e179dc",
   "metadata": {
    "ExecuteTime": {
     "end_time": "2022-12-19T18:08:44.667953Z",
     "start_time": "2022-12-19T18:08:44.616800Z"
    }
   },
   "outputs": [
    {
     "name": "stdout",
     "output_type": "stream",
     "text": [
      "                            OLS Regression Results                            \n",
      "==============================================================================\n",
      "Dep. Variable:        ipca15_variacao   R-squared:                       0.732\n",
      "Model:                            OLS   Adj. R-squared:                  0.731\n",
      "Method:                 Least Squares   F-statistic:                     734.5\n",
      "Date:                Tue, 27 Dec 2022   Prob (F-statistic):           7.09e-79\n",
      "Time:                        10:06:07   Log-Likelihood:                 35.625\n",
      "No. Observations:                 271   AIC:                            -67.25\n",
      "Df Residuals:                     269   BIC:                            -60.05\n",
      "Df Model:                           1                                         \n",
      "Covariance Type:            nonrobust                                         \n",
      "=================================================================================\n",
      "                    coef    std err          t      P>|t|      [0.025      0.975]\n",
      "---------------------------------------------------------------------------------\n",
      "const             0.0698      0.021      3.348      0.001       0.029       0.111\n",
      "ipca_variacao     0.8630      0.032     27.102      0.000       0.800       0.926\n",
      "==============================================================================\n",
      "Omnibus:                       71.583   Durbin-Watson:                   2.508\n",
      "Prob(Omnibus):                  0.000   Jarque-Bera (JB):              313.828\n",
      "Skew:                           1.006   Prob(JB):                     7.13e-69\n",
      "Kurtosis:                       7.873   Cond. No.                         3.20\n",
      "==============================================================================\n",
      "\n",
      "Notes:\n",
      "[1] Standard Errors assume that the covariance matrix of the errors is correctly specified.\n"
     ]
    }
   ],
   "source": [
    "X = ipca_variacao\n",
    "y = ipca15_variacao\n",
    "X2 = sm.add_constant(X)\n",
    "est = sm.OLS(y, X2)\n",
    "est2 = est.fit()\n",
    "print(est2.summary())"
   ]
  },
  {
   "cell_type": "markdown",
   "id": "b996e459",
   "metadata": {},
   "source": [
    "#### Resultado do Modelo\n",
    "O R2 é de 0.732.\n",
    "Isso significa que 73% do comportamento da variável `ipca_variacao` é explicado pela variável `ipca15_variacao`.\n",
    "Nosso p-valor é de 0.001. Isso significa que `não`podemos aceitar a hipótese nula. Se o mesmo estivesse alto, aceitariamos a hipótese nula e chegariamos a conclusão de que os dados  são bons o suficiente para gerar um modelo bom."
   ]
  },
  {
   "cell_type": "markdown",
   "id": "aa5d8a49",
   "metadata": {},
   "source": [
    "Gerada a melhor reta de regressão, podemos começar a fazer as perguntas para o modelo. "
   ]
  },
  {
   "cell_type": "markdown",
   "id": "441cec9d",
   "metadata": {},
   "source": [
    "#### Qual será a o IPCA do mês quando o IPCA15 for de 0.6?"
   ]
  },
  {
   "cell_type": "code",
   "execution_count": 32,
   "id": "ffc826b5",
   "metadata": {
    "ExecuteTime": {
     "end_time": "2022-12-19T18:08:44.711773Z",
     "start_time": "2022-12-19T18:08:44.678083Z"
    }
   },
   "outputs": [
    {
     "data": {
      "text/plain": [
       "array([[0.58724921]])"
      ]
     },
     "execution_count": 32,
     "metadata": {},
     "output_type": "execute_result"
    }
   ],
   "source": [
    "reg.predict([[0.6]])"
   ]
  },
  {
   "cell_type": "markdown",
   "id": "61aedb9b",
   "metadata": {},
   "source": [
    "#### Qual será o IPCA do mês quando o IPCA15 for de 1.99%?"
   ]
  },
  {
   "cell_type": "code",
   "execution_count": 33,
   "id": "3a8f9911",
   "metadata": {
    "ExecuteTime": {
     "end_time": "2022-12-19T18:08:44.753671Z",
     "start_time": "2022-12-19T18:08:44.723907Z"
    }
   },
   "outputs": [
    {
     "data": {
      "text/plain": [
       "array([[1.76610867]])"
      ]
     },
     "execution_count": 33,
     "metadata": {},
     "output_type": "execute_result"
    }
   ],
   "source": [
    "reg.predict([[1.99]])"
   ]
  },
  {
   "cell_type": "markdown",
   "id": "bd59b11a",
   "metadata": {},
   "source": [
    "#### Qual será o IPCA do mês quando o IPCA15 for de 0.53%?"
   ]
  },
  {
   "cell_type": "code",
   "execution_count": 34,
   "id": "7e14924a",
   "metadata": {
    "ExecuteTime": {
     "end_time": "2022-12-19T18:08:44.791622Z",
     "start_time": "2022-12-19T18:08:44.767029Z"
    }
   },
   "outputs": [
    {
     "data": {
      "text/plain": [
       "array([[0.52788218]])"
      ]
     },
     "execution_count": 34,
     "metadata": {},
     "output_type": "execute_result"
    }
   ],
   "source": [
    "reg.predict([[0.53]])"
   ]
  },
  {
   "cell_type": "markdown",
   "id": "7576a8e9",
   "metadata": {},
   "source": [
    "## Visualizar os residuais"
   ]
  },
  {
   "cell_type": "code",
   "execution_count": 35,
   "id": "0f6a5701",
   "metadata": {},
   "outputs": [
    {
     "data": {
      "image/png": "[encoded data removed]",
      "text/plain": [
       "<Figure size 800x550 with 2 Axes>"
      ]
     },
     "metadata": {},
     "output_type": "display_data"
    }
   ],
   "source": [
    "visualizador = ResidualsPlot(reg)\n",
    "visualizador.fit(ipca_variacao.values.reshape(-1, 1), ipca15_variacao.values.reshape(-1, 1))\n",
    "visualizador.poof();"
   ]
  },
  {
   "cell_type": "markdown",
   "id": "54f20408",
   "metadata": {},
   "source": [
    "# Regressão Linear Multipla"
   ]
  },
  {
   "cell_type": "code",
   "execution_count": 36,
   "id": "91126f6d",
   "metadata": {},
   "outputs": [],
   "source": [
    "modelo = LinearRegression()"
   ]
  },
  {
   "cell_type": "code",
   "execution_count": 37,
   "id": "d121d8b9",
   "metadata": {},
   "outputs": [],
   "source": [
    "X = df.ipca_variacao.values.reshape(-1,1)\n",
    "Y = df.ipa_variacao.values.reshape(-1,1)"
   ]
  },
  {
   "cell_type": "code",
   "execution_count": 38,
   "id": "e774b366",
   "metadata": {},
   "outputs": [
    {
     "data": {
      "text/html": [
       "<style>#sk-container-id-2 {color: black;background-color: white;}#sk-container-id-2 pre{padding: 0;}#sk-container-id-2 div.sk-toggleable {background-color: white;}#sk-container-id-2 label.sk-toggleable__label {cursor: pointer;display: block;width: 100%;margin-bottom: 0;padding: 0.3em;box-sizing: border-box;text-align: center;}#sk-container-id-2 label.sk-toggleable__label-arrow:before {content: \"▸\";float: left;margin-right: 0.25em;color: #696969;}#sk-container-id-2 label.sk-toggleable__label-arrow:hover:before {color: black;}#sk-container-id-2 div.sk-estimator:hover label.sk-toggleable__label-arrow:before {color: black;}#sk-container-id-2 div.sk-toggleable__content {max-height: 0;max-width: 0;overflow: hidden;text-align: left;background-color: #f0f8ff;}#sk-container-id-2 div.sk-toggleable__content pre {margin: 0.2em;color: black;border-radius: 0.25em;background-color: #f0f8ff;}#sk-container-id-2 input.sk-toggleable__control:checked~div.sk-toggleable__content {max-height: 200px;max-width: 100%;overflow: auto;}#sk-container-id-2 input.sk-toggleable__control:checked~label.sk-toggleable__label-arrow:before {content: \"▾\";}#sk-container-id-2 div.sk-estimator input.sk-toggleable__control:checked~label.sk-toggleable__label {background-color: #d4ebff;}#sk-container-id-2 div.sk-label input.sk-toggleable__control:checked~label.sk-toggleable__label {background-color: #d4ebff;}#sk-container-id-2 input.sk-hidden--visually {border: 0;clip: rect(1px 1px 1px 1px);clip: rect(1px, 1px, 1px, 1px);height: 1px;margin: -1px;overflow: hidden;padding: 0;position: absolute;width: 1px;}#sk-container-id-2 div.sk-estimator {font-family: monospace;background-color: #f0f8ff;border: 1px dotted black;border-radius: 0.25em;box-sizing: border-box;margin-bottom: 0.5em;}#sk-container-id-2 div.sk-estimator:hover {background-color: #d4ebff;}#sk-container-id-2 div.sk-parallel-item::after {content: \"\";width: 100%;border-bottom: 1px solid gray;flex-grow: 1;}#sk-container-id-2 div.sk-label:hover label.sk-toggleable__label {background-color: #d4ebff;}#sk-container-id-2 div.sk-serial::before {content: \"\";position: absolute;border-left: 1px solid gray;box-sizing: border-box;top: 0;bottom: 0;left: 50%;z-index: 0;}#sk-container-id-2 div.sk-serial {display: flex;flex-direction: column;align-items: center;background-color: white;padding-right: 0.2em;padding-left: 0.2em;position: relative;}#sk-container-id-2 div.sk-item {position: relative;z-index: 1;}#sk-container-id-2 div.sk-parallel {display: flex;align-items: stretch;justify-content: center;background-color: white;position: relative;}#sk-container-id-2 div.sk-item::before, #sk-container-id-2 div.sk-parallel-item::before {content: \"\";position: absolute;border-left: 1px solid gray;box-sizing: border-box;top: 0;bottom: 0;left: 50%;z-index: -1;}#sk-container-id-2 div.sk-parallel-item {display: flex;flex-direction: column;z-index: 1;position: relative;background-color: white;}#sk-container-id-2 div.sk-parallel-item:first-child::after {align-self: flex-end;width: 50%;}#sk-container-id-2 div.sk-parallel-item:last-child::after {align-self: flex-start;width: 50%;}#sk-container-id-2 div.sk-parallel-item:only-child::after {width: 0;}#sk-container-id-2 div.sk-dashed-wrapped {border: 1px dashed gray;margin: 0 0.4em 0.5em 0.4em;box-sizing: border-box;padding-bottom: 0.4em;background-color: white;}#sk-container-id-2 div.sk-label label {font-family: monospace;font-weight: bold;display: inline-block;line-height: 1.2em;}#sk-container-id-2 div.sk-label-container {text-align: center;}#sk-container-id-2 div.sk-container {/* jupyter's `normalize.less` sets `[hidden] { display: none; }` but bootstrap.min.css set `[hidden] { display: none !important; }` so we also need the `!important` here to be able to override the default hidden behavior on the sphinx rendered scikit-learn.org. See: https://github.com/scikit-learn/scikit-learn/issues/21755 */display: inline-block !important;position: relative;}#sk-container-id-2 div.sk-text-repr-fallback {display: none;}</style><div id=\"sk-container-id-2\" class=\"sk-top-container\"><div class=\"sk-text-repr-fallback\"><pre>LinearRegression()</pre><b>In a Jupyter environment, please rerun this cell to show the HTML representation or trust the notebook. <br />On GitHub, the HTML representation is unable to render, please try loading this page with nbviewer.org.</b></div><div class=\"sk-container\" hidden><div class=\"sk-item\"><div class=\"sk-estimator sk-toggleable\"><input class=\"sk-toggleable__control sk-hidden--visually\" id=\"sk-estimator-id-2\" type=\"checkbox\" checked><label for=\"sk-estimator-id-2\" class=\"sk-toggleable__label sk-toggleable__label-arrow\">LinearRegression</label><div class=\"sk-toggleable__content\"><pre>LinearRegression()</pre></div></div></div></div></div>"
      ],
      "text/plain": [
       "LinearRegression()"
      ]
     },
     "execution_count": 38,
     "metadata": {},
     "output_type": "execute_result"
    }
   ],
   "source": [
    "modelo.fit(X, Y)"
   ]
  },
  {
   "cell_type": "code",
   "execution_count": 39,
   "id": "7f4d5039",
   "metadata": {},
   "outputs": [
    {
     "data": {
      "text/plain": [
       "0.9692467130273751"
      ]
     },
     "execution_count": 39,
     "metadata": {},
     "output_type": "execute_result"
    }
   ],
   "source": [
    "modelo.score(X, Y)"
   ]
  },
  {
   "cell_type": "code",
   "execution_count": 50,
   "id": "533739aa",
   "metadata": {},
   "outputs": [],
   "source": [
    "modelo_ajustado = smapi.ols(formula = \"ipca_variacao ~ ipa_variacao + incc_variacao + inpc_variacao\", data = df)"
   ]
  },
  {
   "cell_type": "code",
   "execution_count": 51,
   "id": "152206e5",
   "metadata": {},
   "outputs": [],
   "source": [
    "modelo_treinado = modelo_ajustado.fit()"
   ]
  },
  {
   "cell_type": "code",
   "execution_count": 52,
   "id": "5e2c6625",
   "metadata": {
    "scrolled": true
   },
   "outputs": [
    {
     "data": {
      "text/html": [
       "<table class=\"simpletable\">\n",
       "<caption>OLS Regression Results</caption>\n",
       "<tr>\n",
       "  <th>Dep. Variable:</th>      <td>ipca_variacao</td>  <th>  R-squared:         </th> <td>   0.969</td> \n",
       "</tr>\n",
       "<tr>\n",
       "  <th>Model:</th>                   <td>OLS</td>       <th>  Adj. R-squared:    </th> <td>   0.969</td> \n",
       "</tr>\n",
       "<tr>\n",
       "  <th>Method:</th>             <td>Least Squares</td>  <th>  F-statistic:       </th> <td>1.617e+04</td>\n",
       "</tr>\n",
       "<tr>\n",
       "  <th>Date:</th>             <td>Tue, 27 Dec 2022</td> <th>  Prob (F-statistic):</th>  <td>  0.00</td>  \n",
       "</tr>\n",
       "<tr>\n",
       "  <th>Time:</th>                 <td>10:21:36</td>     <th>  Log-Likelihood:    </th> <td> -1062.1</td> \n",
       "</tr>\n",
       "<tr>\n",
       "  <th>No. Observations:</th>      <td>   515</td>      <th>  AIC:               </th> <td>   2128.</td> \n",
       "</tr>\n",
       "<tr>\n",
       "  <th>Df Residuals:</th>          <td>   513</td>      <th>  BIC:               </th> <td>   2137.</td> \n",
       "</tr>\n",
       "<tr>\n",
       "  <th>Df Model:</th>              <td>     1</td>      <th>                     </th>     <td> </td>    \n",
       "</tr>\n",
       "<tr>\n",
       "  <th>Covariance Type:</th>      <td>nonrobust</td>    <th>                     </th>     <td> </td>    \n",
       "</tr>\n",
       "</table>\n",
       "<table class=\"simpletable\">\n",
       "<tr>\n",
       "        <td></td>          <th>coef</th>     <th>std err</th>      <th>t</th>      <th>P>|t|</th>  <th>[0.025</th>    <th>0.975]</th>  \n",
       "</tr>\n",
       "<tr>\n",
       "  <th>Intercept</th>    <td>   -0.0273</td> <td>    0.096</td> <td>   -0.284</td> <td> 0.777</td> <td>   -0.216</td> <td>    0.162</td>\n",
       "</tr>\n",
       "<tr>\n",
       "  <th>ipa_variacao</th> <td>    0.9680</td> <td>    0.008</td> <td>  127.154</td> <td> 0.000</td> <td>    0.953</td> <td>    0.983</td>\n",
       "</tr>\n",
       "</table>\n",
       "<table class=\"simpletable\">\n",
       "<tr>\n",
       "  <th>Omnibus:</th>       <td>205.908</td> <th>  Durbin-Watson:     </th> <td>   1.436</td>\n",
       "</tr>\n",
       "<tr>\n",
       "  <th>Prob(Omnibus):</th> <td> 0.000</td>  <th>  Jarque-Bera (JB):  </th> <td>3043.845</td>\n",
       "</tr>\n",
       "<tr>\n",
       "  <th>Skew:</th>          <td>-1.327</td>  <th>  Prob(JB):          </th> <td>    0.00</td>\n",
       "</tr>\n",
       "<tr>\n",
       "  <th>Kurtosis:</th>      <td>14.611</td>  <th>  Cond. No.          </th> <td>    14.5</td>\n",
       "</tr>\n",
       "</table><br/><br/>Notes:<br/>[1] Standard Errors assume that the covariance matrix of the errors is correctly specified."
      ],
      "text/plain": [
       "<class 'statsmodels.iolib.summary.Summary'>\n",
       "\"\"\"\n",
       "                            OLS Regression Results                            \n",
       "==============================================================================\n",
       "Dep. Variable:          ipca_variacao   R-squared:                       0.969\n",
       "Model:                            OLS   Adj. R-squared:                  0.969\n",
       "Method:                 Least Squares   F-statistic:                 1.617e+04\n",
       "Date:                Tue, 27 Dec 2022   Prob (F-statistic):               0.00\n",
       "Time:                        10:21:36   Log-Likelihood:                -1062.1\n",
       "No. Observations:                 515   AIC:                             2128.\n",
       "Df Residuals:                     513   BIC:                             2137.\n",
       "Df Model:                           1                                         \n",
       "Covariance Type:            nonrobust                                         \n",
       "================================================================================\n",
       "                   coef    std err          t      P>|t|      [0.025      0.975]\n",
       "--------------------------------------------------------------------------------\n",
       "Intercept       -0.0273      0.096     -0.284      0.777      -0.216       0.162\n",
       "ipa_variacao     0.9680      0.008    127.154      0.000       0.953       0.983\n",
       "==============================================================================\n",
       "Omnibus:                      205.908   Durbin-Watson:                   1.436\n",
       "Prob(Omnibus):                  0.000   Jarque-Bera (JB):             3043.845\n",
       "Skew:                          -1.327   Prob(JB):                         0.00\n",
       "Kurtosis:                      14.611   Cond. No.                         14.5\n",
       "==============================================================================\n",
       "\n",
       "Notes:\n",
       "[1] Standard Errors assume that the covariance matrix of the errors is correctly specified.\n",
       "\"\"\""
      ]
     },
     "execution_count": 52,
     "metadata": {},
     "output_type": "execute_result"
    }
   ],
   "source": [
    "modelo_treinado.summary()"
   ]
  },
  {
   "cell_type": "markdown",
   "id": "bacc7913",
   "metadata": {},
   "source": [
    "* Nosso R2 é de 0.96. Isso significa 96% da variável do IPCA sendo explicada pelo IPA"
   ]
  },
  {
   "cell_type": "code",
   "execution_count": 53,
   "id": "6bb1ee4a",
   "metadata": {},
   "outputs": [
    {
     "data": {
      "text/plain": [
       "(3,)"
      ]
     },
     "execution_count": 53,
     "metadata": {},
     "output_type": "execute_result"
    }
   ],
   "source": [
    "novo = np.array([0.4, 0.36, 0.5])\n",
    "# novo = novo.reshape(1, -1)?\n",
    "novo.shape"
   ]
  },
  {
   "cell_type": "code",
   "execution_count": 54,
   "id": "55235387",
   "metadata": {},
   "outputs": [
    {
     "name": "stdout",
     "output_type": "stream",
     "text": [
      "Unexpected exception formatting exception. Falling back to standard exception\n"
     ]
    },
    {
     "name": "stderr",
     "output_type": "stream",
     "text": [
      "Traceback (most recent call last):\n",
      "  File \"/Library/Frameworks/Python.framework/Versions/3.11/lib/python3.11/site-packages/patsy/compat.py\", line 36, in call_and_wrap_exc\n",
      "    return f(*args, **kwargs)\n",
      "           ^^^^^^^^^^^^^^^^^^\n",
      "  File \"/Library/Frameworks/Python.framework/Versions/3.11/lib/python3.11/site-packages/patsy/eval.py\", line 169, in eval\n",
      "    return eval(code, {}, VarLookupDict([inner_namespace]\n",
      "           ^^^^^^^^^^^^^^^^^^^^^^^^^^^^^^^^^^^^^^^^^^^^^^\n",
      "  File \"<string>\", line 1, in <module>\n",
      "  File \"/Library/Frameworks/Python.framework/Versions/3.11/lib/python3.11/site-packages/patsy/eval.py\", line 52, in __getitem__\n",
      "    return d[key]\n",
      "           ~^^^^^\n",
      "  File \"/Library/Frameworks/Python.framework/Versions/3.11/lib/python3.11/site-packages/patsy/eval.py\", line 52, in __getitem__\n",
      "    return d[key]\n",
      "           ~^^^^^\n",
      "IndexError: only integers, slices (`:`), ellipsis (`...`), numpy.newaxis (`None`) and integer or boolean arrays are valid indices\n",
      "\n",
      "The above exception was the direct cause of the following exception:\n",
      "\n",
      "Traceback (most recent call last):\n",
      "  File \"/Library/Frameworks/Python.framework/Versions/3.11/lib/python3.11/site-packages/statsmodels/base/model.py\", line 1137, in predict\n",
      "    exog = dmatrix(design_info, exog, return_type=\"dataframe\")\n",
      "           ^^^^^^^^^^^^^^^^^^^^^^^^^^^^^^^^^^^^^^^^^^^^^^^^^^^\n",
      "  File \"/Library/Frameworks/Python.framework/Versions/3.11/lib/python3.11/site-packages/patsy/highlevel.py\", line 290, in dmatrix\n",
      "    (lhs, rhs) = _do_highlevel_design(formula_like, data, eval_env,\n",
      "                 ^^^^^^^^^^^^^^^^^^^^^^^^^^^^^^^^^^^^^^^^^^^^^^^^^^\n",
      "  File \"/Library/Frameworks/Python.framework/Versions/3.11/lib/python3.11/site-packages/patsy/highlevel.py\", line 167, in _do_highlevel_design\n",
      "    return build_design_matrices(design_infos, data,\n",
      "           ^^^^^^^^^^^^^^^^^^^^^^^^^^^^^^^^^^^^^^^^^\n",
      "  File \"/Library/Frameworks/Python.framework/Versions/3.11/lib/python3.11/site-packages/patsy/build.py\", line 888, in build_design_matrices\n",
      "    value, is_NA = _eval_factor(factor_info, data, NA_action)\n",
      "                   ^^^^^^^^^^^^^^^^^^^^^^^^^^^^^^^^^^^^^^^^^^\n",
      "  File \"/Library/Frameworks/Python.framework/Versions/3.11/lib/python3.11/site-packages/patsy/build.py\", line 63, in _eval_factor\n",
      "    result = factor.eval(factor_info.state, data)\n",
      "             ^^^^^^^^^^^^^^^^^^^^^^^^^^^^^^^^^^^^\n",
      "  File \"/Library/Frameworks/Python.framework/Versions/3.11/lib/python3.11/site-packages/patsy/eval.py\", line 568, in eval\n",
      "    return self._eval(memorize_state[\"eval_code\"],\n",
      "           ^^^^^^^^^^^^^^^^^^^^^^^^^^^^^^^^^^^^^^^\n",
      "  File \"/Library/Frameworks/Python.framework/Versions/3.11/lib/python3.11/site-packages/patsy/eval.py\", line 551, in _eval\n",
      "    return call_and_wrap_exc(\"Error evaluating factor\",\n",
      "           ^^^^^^^^^^^^^^^^^^^^^^^^^^^^^^^^^^^^^^^^^^^^\n",
      "  File \"/Library/Frameworks/Python.framework/Versions/3.11/lib/python3.11/site-packages/patsy/compat.py\", line 43, in call_and_wrap_exc\n",
      "    exec(\"raise new_exc from e\")\n",
      "  File \"<string>\", line 1, in <module>\n",
      "patsy.PatsyError: Error evaluating factor: IndexError: only integers, slices (`:`), ellipsis (`...`), numpy.newaxis (`None`) and integer or boolean arrays are valid indices\n",
      "    ipca_variacao ~ ipa_variacao\n",
      "                    ^^^^^^^^^^^^\n",
      "\n",
      "During handling of the above exception, another exception occurred:\n",
      "\n",
      "Traceback (most recent call last):\n",
      "  File \"/Library/Frameworks/Python.framework/Versions/3.11/lib/python3.11/site-packages/IPython/core/interactiveshell.py\", line 3433, in run_code\n",
      "    exec(code_obj, self.user_global_ns, self.user_ns)\n",
      "  File \"/var/folders/ht/zw2nx83j6w387qgthkq66lg80000gn/T/ipykernel_69220/2856125528.py\", line 1, in <module>\n",
      "    modelo_treinado.predict(novo)\n",
      "  File \"/Library/Frameworks/Python.framework/Versions/3.11/lib/python3.11/site-packages/statsmodels/base/model.py\", line 1144, in predict\n",
      "    raise exc.__class__(msg)\n",
      "patsy.PatsyError: predict requires that you use a DataFrame when predicting from a model\n",
      "that was created using the formula api.\n",
      "\n",
      "The original error message returned by patsy is:\n",
      "Error evaluating factor: IndexError: only integers, slices (`:`), ellipsis (`...`), numpy.newaxis (`None`) and integer or boolean arrays are valid indices\n",
      "    ipca_variacao ~ ipa_variacao\n",
      "                    ^^^^^^^^^^^^\n",
      "\n",
      "During handling of the above exception, another exception occurred:\n",
      "\n",
      "Traceback (most recent call last):\n",
      "  File \"/Library/Frameworks/Python.framework/Versions/3.11/lib/python3.11/site-packages/IPython/core/interactiveshell.py\", line 2052, in showtraceback\n",
      "    stb = self.InteractiveTB.structured_traceback(\n",
      "          ^^^^^^^^^^^^^^^^^^^^^^^^^^^^^^^^^^^^^^^^\n",
      "  File \"/Library/Frameworks/Python.framework/Versions/3.11/lib/python3.11/site-packages/IPython/core/ultratb.py\", line 1118, in structured_traceback\n",
      "    return FormattedTB.structured_traceback(\n",
      "           ^^^^^^^^^^^^^^^^^^^^^^^^^^^^^^^^^\n",
      "  File \"/Library/Frameworks/Python.framework/Versions/3.11/lib/python3.11/site-packages/IPython/core/ultratb.py\", line 1012, in structured_traceback\n",
      "    return VerboseTB.structured_traceback(\n",
      "           ^^^^^^^^^^^^^^^^^^^^^^^^^^^^^^^\n",
      "  File \"/Library/Frameworks/Python.framework/Versions/3.11/lib/python3.11/site-packages/IPython/core/ultratb.py\", line 884, in structured_traceback\n",
      "    formatted_exceptions += self.format_exception_as_a_whole(etype, evalue, etb, lines_of_context,\n",
      "                            ^^^^^^^^^^^^^^^^^^^^^^^^^^^^^^^^^^^^^^^^^^^^^^^^^^^^^^^^^^^^^^^^^^^^^^\n",
      "  File \"/Library/Frameworks/Python.framework/Versions/3.11/lib/python3.11/site-packages/IPython/core/ultratb.py\", line 807, in format_exception_as_a_whole\n",
      "    if r.frame.f_locals.get(\"__tracebackhide__\", 0) and i != lastrecord:\n",
      "       ^^^^^^^^^^^^^^^^^^^^^^^^^^^^^^^^^^^^^^^^^^^^\n",
      "  File \"/Library/Frameworks/Python.framework/Versions/3.11/lib/python3.11/site-packages/patsy/eval.py\", line 70, in get\n",
      "    return self[key]\n",
      "           ~~~~^^^^^\n",
      "  File \"/Library/Frameworks/Python.framework/Versions/3.11/lib/python3.11/site-packages/patsy/eval.py\", line 52, in __getitem__\n",
      "    return d[key]\n",
      "           ~^^^^^\n",
      "  File \"/Library/Frameworks/Python.framework/Versions/3.11/lib/python3.11/site-packages/patsy/eval.py\", line 52, in __getitem__\n",
      "    return d[key]\n",
      "           ~^^^^^\n",
      "IndexError: only integers, slices (`:`), ellipsis (`...`), numpy.newaxis (`None`) and integer or boolean arrays are valid indices\n"
     ]
    }
   ],
   "source": [
    "modelo_treinado.predict(novo)"
   ]
  },
  {
   "cell_type": "markdown",
   "id": "df3e3d7e",
   "metadata": {},
   "source": [
    "## Adicionando mais variaveis para a regressão multipla"
   ]
  },
  {
   "cell_type": "code",
   "execution_count": null,
   "id": "b994bf82",
   "metadata": {},
   "outputs": [],
   "source": []
  },
  {
   "cell_type": "code",
   "execution_count": null,
   "id": "7a17fbb2",
   "metadata": {},
   "outputs": [],
   "source": []
  }
 ],
 "metadata": {
  "kernelspec": {
   "display_name": "Python 3 (ipykernel)",
   "language": "python",
   "name": "python3"
  },
  "language_info": {
   "codemirror_mode": {
    "name": "ipython",
    "version": 3
   },
   "file_extension": ".py",
   "mimetype": "text/x-python",
   "name": "python",
   "nbconvert_exporter": "python",
   "pygments_lexer": "ipython3",
   "version": "3.11.1"
  },
  "varInspector": {
   "cols": {
    "lenName": 16,
    "lenType": 16,
    "lenVar": 40
   },
   "kernels_config": {
    "python": {
     "delete_cmd_postfix": "",
     "delete_cmd_prefix": "del ",
     "library": "var_list.py",
     "varRefreshCmd": "print(var_dic_list())"
    },
    "r": {
     "delete_cmd_postfix": ") ",
     "delete_cmd_prefix": "rm(",
     "library": "var_list.r",
     "varRefreshCmd": "cat(var_dic_list()) "
    }
   },
   "types_to_exclude": [
    "module",
    "function",
    "builtin_function_or_method",
    "instance",
    "_Feature"
   ],
   "window_display": false
  }
 },
 "nbformat": 4,
 "nbformat_minor": 5
}
