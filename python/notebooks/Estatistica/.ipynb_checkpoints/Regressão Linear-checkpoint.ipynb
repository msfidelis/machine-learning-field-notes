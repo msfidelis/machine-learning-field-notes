{
 "cells": [
  {
   "cell_type": "markdown",
   "id": "bc1a5c39",
   "metadata": {},
   "source": [
    "# Setup do Projeto"
   ]
  },
  {
   "cell_type": "markdown",
   "id": "1ddb5d10",
   "metadata": {},
   "source": [
    "### Importando as Bibliotecas"
   ]
  },
  {
   "cell_type": "code",
   "execution_count": 1,
   "id": "5bdbb79c",
   "metadata": {
    "ExecuteTime": {
     "end_time": "2022-12-19T18:08:40.771128Z",
     "start_time": "2022-12-19T18:08:37.952413Z"
    }
   },
   "outputs": [],
   "source": [
    "import pandas as pd\n",
    "import numpy as np\n",
    "import matplotlib.pyplot as plt\n",
    "from scipy import stats\n",
    "from sklearn.linear_model import LinearRegression\n",
    "from sklearn.model_selection import train_test_split\n",
    "from sklearn.metrics import mean_absolute_error, mean_squared_error\n",
    "from yellowbrick.regressor import ResidualsPlot\n",
    "import statsmodels.api as sm\n",
    "import statsmodels.formula.api as smapi"
   ]
  },
  {
   "cell_type": "markdown",
   "id": "13485569",
   "metadata": {},
   "source": [
    "### Importando os Datasets"
   ]
  },
  {
   "cell_type": "markdown",
   "id": "6241675c",
   "metadata": {},
   "source": [
    "# Previsão do INPC pelo IPCA\n",
    "\n",
    "A ideia é criar um modelo para prever o INPC utilizando o IPCA"
   ]
  },
  {
   "cell_type": "code",
   "execution_count": 2,
   "id": "8c6c7f3a",
   "metadata": {
    "ExecuteTime": {
     "end_time": "2022-12-19T18:08:40.840161Z",
     "start_time": "2022-12-19T18:08:40.786630Z"
    }
   },
   "outputs": [],
   "source": [
    "df = pd.read_csv(\"datasets/inflacao.csv\")"
   ]
  },
  {
   "cell_type": "code",
   "execution_count": 3,
   "id": "367e6c67",
   "metadata": {
    "ExecuteTime": {
     "end_time": "2022-12-19T18:08:40.904106Z",
     "start_time": "2022-12-19T18:08:40.849368Z"
    }
   },
   "outputs": [
    {
     "data": {
      "text/html": [
       "<div>\n",
       "<style scoped>\n",
       "    .dataframe tbody tr th:only-of-type {\n",
       "        vertical-align: middle;\n",
       "    }\n",
       "\n",
       "    .dataframe tbody tr th {\n",
       "        vertical-align: top;\n",
       "    }\n",
       "\n",
       "    .dataframe thead th {\n",
       "        text-align: right;\n",
       "    }\n",
       "</style>\n",
       "<table border=\"1\" class=\"dataframe\">\n",
       "  <thead>\n",
       "    <tr style=\"text-align: right;\">\n",
       "      <th></th>\n",
       "      <th>referencia</th>\n",
       "      <th>ano</th>\n",
       "      <th>mes</th>\n",
       "      <th>ano_mes</th>\n",
       "      <th>ipca_variacao</th>\n",
       "      <th>ipca_acumulado_ano</th>\n",
       "      <th>ipca_acumulado_doze_meses</th>\n",
       "      <th>ipca15_variacao</th>\n",
       "      <th>ipca15_acumulado_ano</th>\n",
       "      <th>ipca15_acumulado_doze_meses</th>\n",
       "      <th>...</th>\n",
       "      <th>ipa_variacao</th>\n",
       "      <th>ipa_acumulado_ano</th>\n",
       "      <th>ipc_fipe_variacao</th>\n",
       "      <th>ipc_fipe_acumulado_ano</th>\n",
       "      <th>incc_variacao</th>\n",
       "      <th>incc_acumulado_ano</th>\n",
       "      <th>incc_m_variacao</th>\n",
       "      <th>incc_m_acumulado_ano</th>\n",
       "      <th>salario_minimo</th>\n",
       "      <th>consolidado_ano</th>\n",
       "    </tr>\n",
       "  </thead>\n",
       "  <tbody>\n",
       "    <tr>\n",
       "      <th>0</th>\n",
       "      <td>1980-01</td>\n",
       "      <td>1980</td>\n",
       "      <td>1</td>\n",
       "      <td>198001</td>\n",
       "      <td>6.62</td>\n",
       "      <td>6.62</td>\n",
       "      <td>0.0</td>\n",
       "      <td>0.0</td>\n",
       "      <td>0.0</td>\n",
       "      <td>0.0</td>\n",
       "      <td>...</td>\n",
       "      <td>7.31</td>\n",
       "      <td>7.31</td>\n",
       "      <td>4.48</td>\n",
       "      <td>4.48</td>\n",
       "      <td>4.70</td>\n",
       "      <td>4.70</td>\n",
       "      <td>0.0</td>\n",
       "      <td>0.0</td>\n",
       "      <td>2932.8</td>\n",
       "      <td>False</td>\n",
       "    </tr>\n",
       "    <tr>\n",
       "      <th>1</th>\n",
       "      <td>1980-02</td>\n",
       "      <td>1980</td>\n",
       "      <td>2</td>\n",
       "      <td>198002</td>\n",
       "      <td>4.62</td>\n",
       "      <td>11.54</td>\n",
       "      <td>0.0</td>\n",
       "      <td>0.0</td>\n",
       "      <td>0.0</td>\n",
       "      <td>0.0</td>\n",
       "      <td>...</td>\n",
       "      <td>3.69</td>\n",
       "      <td>11.00</td>\n",
       "      <td>3.35</td>\n",
       "      <td>7.83</td>\n",
       "      <td>9.53</td>\n",
       "      <td>14.23</td>\n",
       "      <td>0.0</td>\n",
       "      <td>0.0</td>\n",
       "      <td>2932.8</td>\n",
       "      <td>False</td>\n",
       "    </tr>\n",
       "    <tr>\n",
       "      <th>2</th>\n",
       "      <td>1980-03</td>\n",
       "      <td>1980</td>\n",
       "      <td>3</td>\n",
       "      <td>198003</td>\n",
       "      <td>6.04</td>\n",
       "      <td>18.27</td>\n",
       "      <td>0.0</td>\n",
       "      <td>0.0</td>\n",
       "      <td>0.0</td>\n",
       "      <td>0.0</td>\n",
       "      <td>...</td>\n",
       "      <td>6.32</td>\n",
       "      <td>17.32</td>\n",
       "      <td>4.34</td>\n",
       "      <td>12.17</td>\n",
       "      <td>12.80</td>\n",
       "      <td>27.03</td>\n",
       "      <td>0.0</td>\n",
       "      <td>0.0</td>\n",
       "      <td>2932.8</td>\n",
       "      <td>False</td>\n",
       "    </tr>\n",
       "    <tr>\n",
       "      <th>3</th>\n",
       "      <td>1980-04</td>\n",
       "      <td>1980</td>\n",
       "      <td>4</td>\n",
       "      <td>198004</td>\n",
       "      <td>5.29</td>\n",
       "      <td>24.53</td>\n",
       "      <td>0.0</td>\n",
       "      <td>0.0</td>\n",
       "      <td>0.0</td>\n",
       "      <td>0.0</td>\n",
       "      <td>...</td>\n",
       "      <td>6.69</td>\n",
       "      <td>24.01</td>\n",
       "      <td>3.93</td>\n",
       "      <td>16.10</td>\n",
       "      <td>3.13</td>\n",
       "      <td>30.16</td>\n",
       "      <td>0.0</td>\n",
       "      <td>0.0</td>\n",
       "      <td>2932.8</td>\n",
       "      <td>False</td>\n",
       "    </tr>\n",
       "    <tr>\n",
       "      <th>4</th>\n",
       "      <td>1980-05</td>\n",
       "      <td>1980</td>\n",
       "      <td>5</td>\n",
       "      <td>198005</td>\n",
       "      <td>5.70</td>\n",
       "      <td>31.63</td>\n",
       "      <td>0.0</td>\n",
       "      <td>0.0</td>\n",
       "      <td>0.0</td>\n",
       "      <td>0.0</td>\n",
       "      <td>...</td>\n",
       "      <td>7.32</td>\n",
       "      <td>31.33</td>\n",
       "      <td>6.52</td>\n",
       "      <td>22.62</td>\n",
       "      <td>4.86</td>\n",
       "      <td>35.02</td>\n",
       "      <td>0.0</td>\n",
       "      <td>0.0</td>\n",
       "      <td>4149.6</td>\n",
       "      <td>False</td>\n",
       "    </tr>\n",
       "  </tbody>\n",
       "</table>\n",
       "<p>5 rows × 23 columns</p>\n",
       "</div>"
      ],
      "text/plain": [
       "  referencia   ano  mes  ano_mes  ipca_variacao  ipca_acumulado_ano  \\\n",
       "0    1980-01  1980    1   198001           6.62                6.62   \n",
       "1    1980-02  1980    2   198002           4.62               11.54   \n",
       "2    1980-03  1980    3   198003           6.04               18.27   \n",
       "3    1980-04  1980    4   198004           5.29               24.53   \n",
       "4    1980-05  1980    5   198005           5.70               31.63   \n",
       "\n",
       "   ipca_acumulado_doze_meses  ipca15_variacao  ipca15_acumulado_ano  \\\n",
       "0                        0.0              0.0                   0.0   \n",
       "1                        0.0              0.0                   0.0   \n",
       "2                        0.0              0.0                   0.0   \n",
       "3                        0.0              0.0                   0.0   \n",
       "4                        0.0              0.0                   0.0   \n",
       "\n",
       "   ipca15_acumulado_doze_meses  ...  ipa_variacao  ipa_acumulado_ano  \\\n",
       "0                          0.0  ...          7.31               7.31   \n",
       "1                          0.0  ...          3.69              11.00   \n",
       "2                          0.0  ...          6.32              17.32   \n",
       "3                          0.0  ...          6.69              24.01   \n",
       "4                          0.0  ...          7.32              31.33   \n",
       "\n",
       "   ipc_fipe_variacao  ipc_fipe_acumulado_ano  incc_variacao  \\\n",
       "0               4.48                    4.48           4.70   \n",
       "1               3.35                    7.83           9.53   \n",
       "2               4.34                   12.17          12.80   \n",
       "3               3.93                   16.10           3.13   \n",
       "4               6.52                   22.62           4.86   \n",
       "\n",
       "   incc_acumulado_ano  incc_m_variacao  incc_m_acumulado_ano  salario_minimo  \\\n",
       "0                4.70              0.0                   0.0          2932.8   \n",
       "1               14.23              0.0                   0.0          2932.8   \n",
       "2               27.03              0.0                   0.0          2932.8   \n",
       "3               30.16              0.0                   0.0          2932.8   \n",
       "4               35.02              0.0                   0.0          4149.6   \n",
       "\n",
       "   consolidado_ano  \n",
       "0            False  \n",
       "1            False  \n",
       "2            False  \n",
       "3            False  \n",
       "4            False  \n",
       "\n",
       "[5 rows x 23 columns]"
      ]
     },
     "execution_count": 3,
     "metadata": {},
     "output_type": "execute_result"
    }
   ],
   "source": [
    "df.head()"
   ]
  },
  {
   "cell_type": "code",
   "execution_count": 4,
   "id": "d0d24d30",
   "metadata": {
    "ExecuteTime": {
     "end_time": "2022-12-19T18:08:40.998632Z",
     "start_time": "2022-12-19T18:08:40.916589Z"
    }
   },
   "outputs": [
    {
     "data": {
      "text/html": [
       "<div>\n",
       "<style scoped>\n",
       "    .dataframe tbody tr th:only-of-type {\n",
       "        vertical-align: middle;\n",
       "    }\n",
       "\n",
       "    .dataframe tbody tr th {\n",
       "        vertical-align: top;\n",
       "    }\n",
       "\n",
       "    .dataframe thead th {\n",
       "        text-align: right;\n",
       "    }\n",
       "</style>\n",
       "<table border=\"1\" class=\"dataframe\">\n",
       "  <thead>\n",
       "    <tr style=\"text-align: right;\">\n",
       "      <th></th>\n",
       "      <th>referencia</th>\n",
       "      <th>ano</th>\n",
       "      <th>mes</th>\n",
       "      <th>ano_mes</th>\n",
       "      <th>ipca_variacao</th>\n",
       "      <th>ipca_acumulado_ano</th>\n",
       "      <th>ipca_acumulado_doze_meses</th>\n",
       "      <th>ipca15_variacao</th>\n",
       "      <th>ipca15_acumulado_ano</th>\n",
       "      <th>ipca15_acumulado_doze_meses</th>\n",
       "      <th>...</th>\n",
       "      <th>ipa_variacao</th>\n",
       "      <th>ipa_acumulado_ano</th>\n",
       "      <th>ipc_fipe_variacao</th>\n",
       "      <th>ipc_fipe_acumulado_ano</th>\n",
       "      <th>incc_variacao</th>\n",
       "      <th>incc_acumulado_ano</th>\n",
       "      <th>incc_m_variacao</th>\n",
       "      <th>incc_m_acumulado_ano</th>\n",
       "      <th>salario_minimo</th>\n",
       "      <th>consolidado_ano</th>\n",
       "    </tr>\n",
       "  </thead>\n",
       "  <tbody>\n",
       "    <tr>\n",
       "      <th>512</th>\n",
       "      <td>2022-09</td>\n",
       "      <td>2022</td>\n",
       "      <td>9</td>\n",
       "      <td>202209</td>\n",
       "      <td>-0.29</td>\n",
       "      <td>4.09</td>\n",
       "      <td>7.17</td>\n",
       "      <td>-0.37</td>\n",
       "      <td>4.63</td>\n",
       "      <td>7.96</td>\n",
       "      <td>...</td>\n",
       "      <td>-1.68</td>\n",
       "      <td>5.86</td>\n",
       "      <td>0.12</td>\n",
       "      <td>5.64</td>\n",
       "      <td>0.09</td>\n",
       "      <td>8.36</td>\n",
       "      <td>0.10</td>\n",
       "      <td>8.61</td>\n",
       "      <td>1212.0</td>\n",
       "      <td>False</td>\n",
       "    </tr>\n",
       "    <tr>\n",
       "      <th>513</th>\n",
       "      <td>2022-10</td>\n",
       "      <td>2022</td>\n",
       "      <td>10</td>\n",
       "      <td>202210</td>\n",
       "      <td>0.59</td>\n",
       "      <td>4.70</td>\n",
       "      <td>6.47</td>\n",
       "      <td>0.16</td>\n",
       "      <td>4.80</td>\n",
       "      <td>6.85</td>\n",
       "      <td>...</td>\n",
       "      <td>-1.04</td>\n",
       "      <td>4.82</td>\n",
       "      <td>0.45</td>\n",
       "      <td>6.09</td>\n",
       "      <td>0.12</td>\n",
       "      <td>8.48</td>\n",
       "      <td>0.04</td>\n",
       "      <td>8.65</td>\n",
       "      <td>1212.0</td>\n",
       "      <td>False</td>\n",
       "    </tr>\n",
       "    <tr>\n",
       "      <th>514</th>\n",
       "      <td>2022-11</td>\n",
       "      <td>2022</td>\n",
       "      <td>11</td>\n",
       "      <td>202211</td>\n",
       "      <td>0.41</td>\n",
       "      <td>5.13</td>\n",
       "      <td>5.90</td>\n",
       "      <td>0.53</td>\n",
       "      <td>5.35</td>\n",
       "      <td>6.17</td>\n",
       "      <td>...</td>\n",
       "      <td>-0.43</td>\n",
       "      <td>4.39</td>\n",
       "      <td>0.47</td>\n",
       "      <td>6.56</td>\n",
       "      <td>0.36</td>\n",
       "      <td>8.84</td>\n",
       "      <td>0.14</td>\n",
       "      <td>8.79</td>\n",
       "      <td>1212.0</td>\n",
       "      <td>False</td>\n",
       "    </tr>\n",
       "    <tr>\n",
       "      <th>515</th>\n",
       "      <td>2022-12</td>\n",
       "      <td>2022</td>\n",
       "      <td>12</td>\n",
       "      <td>202212</td>\n",
       "      <td>0.62</td>\n",
       "      <td>5.79</td>\n",
       "      <td>5.79</td>\n",
       "      <td>0.52</td>\n",
       "      <td>5.90</td>\n",
       "      <td>5.90</td>\n",
       "      <td>...</td>\n",
       "      <td>0.32</td>\n",
       "      <td>4.71</td>\n",
       "      <td>0.54</td>\n",
       "      <td>7.10</td>\n",
       "      <td>0.09</td>\n",
       "      <td>8.93</td>\n",
       "      <td>0.27</td>\n",
       "      <td>9.06</td>\n",
       "      <td>1212.0</td>\n",
       "      <td>True</td>\n",
       "    </tr>\n",
       "    <tr>\n",
       "      <th>516</th>\n",
       "      <td>2023-01</td>\n",
       "      <td>2023</td>\n",
       "      <td>1</td>\n",
       "      <td>202301</td>\n",
       "      <td>0.53</td>\n",
       "      <td>0.53</td>\n",
       "      <td>5.77</td>\n",
       "      <td>0.55</td>\n",
       "      <td>0.55</td>\n",
       "      <td>5.87</td>\n",
       "      <td>...</td>\n",
       "      <td>-0.19</td>\n",
       "      <td>-0.19</td>\n",
       "      <td>0.63</td>\n",
       "      <td>0.63</td>\n",
       "      <td>0.46</td>\n",
       "      <td>0.46</td>\n",
       "      <td>0.32</td>\n",
       "      <td>0.32</td>\n",
       "      <td>1302.0</td>\n",
       "      <td>False</td>\n",
       "    </tr>\n",
       "  </tbody>\n",
       "</table>\n",
       "<p>5 rows × 23 columns</p>\n",
       "</div>"
      ],
      "text/plain": [
       "    referencia   ano  mes  ano_mes  ipca_variacao  ipca_acumulado_ano  \\\n",
       "512    2022-09  2022    9   202209          -0.29                4.09   \n",
       "513    2022-10  2022   10   202210           0.59                4.70   \n",
       "514    2022-11  2022   11   202211           0.41                5.13   \n",
       "515    2022-12  2022   12   202212           0.62                5.79   \n",
       "516    2023-01  2023    1   202301           0.53                0.53   \n",
       "\n",
       "     ipca_acumulado_doze_meses  ipca15_variacao  ipca15_acumulado_ano  \\\n",
       "512                       7.17            -0.37                  4.63   \n",
       "513                       6.47             0.16                  4.80   \n",
       "514                       5.90             0.53                  5.35   \n",
       "515                       5.79             0.52                  5.90   \n",
       "516                       5.77             0.55                  0.55   \n",
       "\n",
       "     ipca15_acumulado_doze_meses  ...  ipa_variacao  ipa_acumulado_ano  \\\n",
       "512                         7.96  ...         -1.68               5.86   \n",
       "513                         6.85  ...         -1.04               4.82   \n",
       "514                         6.17  ...         -0.43               4.39   \n",
       "515                         5.90  ...          0.32               4.71   \n",
       "516                         5.87  ...         -0.19              -0.19   \n",
       "\n",
       "     ipc_fipe_variacao  ipc_fipe_acumulado_ano  incc_variacao  \\\n",
       "512               0.12                    5.64           0.09   \n",
       "513               0.45                    6.09           0.12   \n",
       "514               0.47                    6.56           0.36   \n",
       "515               0.54                    7.10           0.09   \n",
       "516               0.63                    0.63           0.46   \n",
       "\n",
       "     incc_acumulado_ano  incc_m_variacao  incc_m_acumulado_ano  \\\n",
       "512                8.36             0.10                  8.61   \n",
       "513                8.48             0.04                  8.65   \n",
       "514                8.84             0.14                  8.79   \n",
       "515                8.93             0.27                  9.06   \n",
       "516                0.46             0.32                  0.32   \n",
       "\n",
       "     salario_minimo  consolidado_ano  \n",
       "512          1212.0            False  \n",
       "513          1212.0            False  \n",
       "514          1212.0            False  \n",
       "515          1212.0             True  \n",
       "516          1302.0            False  \n",
       "\n",
       "[5 rows x 23 columns]"
      ]
     },
     "execution_count": 4,
     "metadata": {},
     "output_type": "execute_result"
    }
   ],
   "source": [
    "df.tail()"
   ]
  },
  {
   "cell_type": "code",
   "execution_count": 5,
   "id": "e5d6cdcb",
   "metadata": {
    "ExecuteTime": {
     "end_time": "2022-12-19T18:08:41.130433Z",
     "start_time": "2022-12-19T18:08:41.012551Z"
    }
   },
   "outputs": [
    {
     "data": {
      "text/html": [
       "<div>\n",
       "<style scoped>\n",
       "    .dataframe tbody tr th:only-of-type {\n",
       "        vertical-align: middle;\n",
       "    }\n",
       "\n",
       "    .dataframe tbody tr th {\n",
       "        vertical-align: top;\n",
       "    }\n",
       "\n",
       "    .dataframe thead th {\n",
       "        text-align: right;\n",
       "    }\n",
       "</style>\n",
       "<table border=\"1\" class=\"dataframe\">\n",
       "  <thead>\n",
       "    <tr style=\"text-align: right;\">\n",
       "      <th></th>\n",
       "      <th>ano</th>\n",
       "      <th>mes</th>\n",
       "      <th>ano_mes</th>\n",
       "      <th>ipca_variacao</th>\n",
       "      <th>ipca_acumulado_ano</th>\n",
       "      <th>ipca_acumulado_doze_meses</th>\n",
       "      <th>ipca15_variacao</th>\n",
       "      <th>ipca15_acumulado_ano</th>\n",
       "      <th>ipca15_acumulado_doze_meses</th>\n",
       "      <th>inpc_variacao</th>\n",
       "      <th>...</th>\n",
       "      <th>inpc_acumulado_doze_meses</th>\n",
       "      <th>ipa_variacao</th>\n",
       "      <th>ipa_acumulado_ano</th>\n",
       "      <th>ipc_fipe_variacao</th>\n",
       "      <th>ipc_fipe_acumulado_ano</th>\n",
       "      <th>incc_variacao</th>\n",
       "      <th>incc_acumulado_ano</th>\n",
       "      <th>incc_m_variacao</th>\n",
       "      <th>incc_m_acumulado_ano</th>\n",
       "      <th>salario_minimo</th>\n",
       "    </tr>\n",
       "  </thead>\n",
       "  <tbody>\n",
       "    <tr>\n",
       "      <th>count</th>\n",
       "      <td>517.000000</td>\n",
       "      <td>517.000000</td>\n",
       "      <td>517.000000</td>\n",
       "      <td>517.000000</td>\n",
       "      <td>517.000000</td>\n",
       "      <td>517.000000</td>\n",
       "      <td>517.000000</td>\n",
       "      <td>517.000000</td>\n",
       "      <td>517.000000</td>\n",
       "      <td>517.000000</td>\n",
       "      <td>...</td>\n",
       "      <td>517.000000</td>\n",
       "      <td>517.000000</td>\n",
       "      <td>517.000000</td>\n",
       "      <td>517.000000</td>\n",
       "      <td>517.000000</td>\n",
       "      <td>517.000000</td>\n",
       "      <td>517.000000</td>\n",
       "      <td>517.000000</td>\n",
       "      <td>517.000000</td>\n",
       "      <td>5.170000e+02</td>\n",
       "    </tr>\n",
       "    <tr>\n",
       "      <th>mean</th>\n",
       "      <td>2001.042553</td>\n",
       "      <td>6.489362</td>\n",
       "      <td>200110.744681</td>\n",
       "      <td>5.927427</td>\n",
       "      <td>96.134642</td>\n",
       "      <td>308.911799</td>\n",
       "      <td>0.270793</td>\n",
       "      <td>1.860406</td>\n",
       "      <td>3.390561</td>\n",
       "      <td>5.916286</td>\n",
       "      <td>...</td>\n",
       "      <td>307.951025</td>\n",
       "      <td>6.149207</td>\n",
       "      <td>41.240716</td>\n",
       "      <td>5.767118</td>\n",
       "      <td>38.692882</td>\n",
       "      <td>6.084565</td>\n",
       "      <td>41.784449</td>\n",
       "      <td>3.822050</td>\n",
       "      <td>25.644081</td>\n",
       "      <td>5.521781e+04</td>\n",
       "    </tr>\n",
       "    <tr>\n",
       "      <th>std</th>\n",
       "      <td>12.447336</td>\n",
       "      <td>3.460517</td>\n",
       "      <td>1244.719594</td>\n",
       "      <td>10.846192</td>\n",
       "      <td>265.522677</td>\n",
       "      <td>863.248689</td>\n",
       "      <td>0.392252</td>\n",
       "      <td>2.415721</td>\n",
       "      <td>3.811247</td>\n",
       "      <td>10.852317</td>\n",
       "      <td>...</td>\n",
       "      <td>849.346137</td>\n",
       "      <td>11.031997</td>\n",
       "      <td>73.665738</td>\n",
       "      <td>10.762521</td>\n",
       "      <td>72.642596</td>\n",
       "      <td>11.203784</td>\n",
       "      <td>73.694792</td>\n",
       "      <td>10.259201</td>\n",
       "      <td>67.494854</td>\n",
       "      <td>3.250240e+05</td>\n",
       "    </tr>\n",
       "    <tr>\n",
       "      <th>min</th>\n",
       "      <td>1980.000000</td>\n",
       "      <td>1.000000</td>\n",
       "      <td>198001.000000</td>\n",
       "      <td>-0.680000</td>\n",
       "      <td>-0.160000</td>\n",
       "      <td>0.000000</td>\n",
       "      <td>-0.730000</td>\n",
       "      <td>0.000000</td>\n",
       "      <td>0.000000</td>\n",
       "      <td>-0.600000</td>\n",
       "      <td>...</td>\n",
       "      <td>0.000000</td>\n",
       "      <td>-2.420000</td>\n",
       "      <td>-5.820000</td>\n",
       "      <td>-1.000000</td>\n",
       "      <td>-1.790000</td>\n",
       "      <td>-0.500000</td>\n",
       "      <td>0.310000</td>\n",
       "      <td>0.000000</td>\n",
       "      <td>0.000000</td>\n",
       "      <td>5.437000e+01</td>\n",
       "    </tr>\n",
       "    <tr>\n",
       "      <th>25%</th>\n",
       "      <td>1990.000000</td>\n",
       "      <td>3.000000</td>\n",
       "      <td>199010.000000</td>\n",
       "      <td>0.380000</td>\n",
       "      <td>2.480000</td>\n",
       "      <td>5.260000</td>\n",
       "      <td>0.000000</td>\n",
       "      <td>0.000000</td>\n",
       "      <td>0.000000</td>\n",
       "      <td>0.390000</td>\n",
       "      <td>...</td>\n",
       "      <td>5.420000</td>\n",
       "      <td>0.260000</td>\n",
       "      <td>2.210000</td>\n",
       "      <td>0.300000</td>\n",
       "      <td>1.990000</td>\n",
       "      <td>0.360000</td>\n",
       "      <td>2.900000</td>\n",
       "      <td>0.120000</td>\n",
       "      <td>0.400000</td>\n",
       "      <td>2.400000e+02</td>\n",
       "    </tr>\n",
       "    <tr>\n",
       "      <th>50%</th>\n",
       "      <td>2001.000000</td>\n",
       "      <td>6.000000</td>\n",
       "      <td>200107.000000</td>\n",
       "      <td>0.780000</td>\n",
       "      <td>5.230000</td>\n",
       "      <td>7.770000</td>\n",
       "      <td>0.060000</td>\n",
       "      <td>0.650000</td>\n",
       "      <td>2.800000</td>\n",
       "      <td>0.810000</td>\n",
       "      <td>...</td>\n",
       "      <td>8.900000</td>\n",
       "      <td>1.350000</td>\n",
       "      <td>7.540000</td>\n",
       "      <td>0.740000</td>\n",
       "      <td>4.910000</td>\n",
       "      <td>0.880000</td>\n",
       "      <td>6.560000</td>\n",
       "      <td>0.400000</td>\n",
       "      <td>3.350000</td>\n",
       "      <td>7.240000e+02</td>\n",
       "    </tr>\n",
       "    <tr>\n",
       "      <th>75%</th>\n",
       "      <td>2012.000000</td>\n",
       "      <td>9.000000</td>\n",
       "      <td>201204.000000</td>\n",
       "      <td>6.840000</td>\n",
       "      <td>48.390000</td>\n",
       "      <td>156.780000</td>\n",
       "      <td>0.490000</td>\n",
       "      <td>3.270000</td>\n",
       "      <td>6.200000</td>\n",
       "      <td>6.710000</td>\n",
       "      <td>...</td>\n",
       "      <td>156.800000</td>\n",
       "      <td>7.310000</td>\n",
       "      <td>42.980000</td>\n",
       "      <td>6.710000</td>\n",
       "      <td>39.390000</td>\n",
       "      <td>5.940000</td>\n",
       "      <td>45.910000</td>\n",
       "      <td>0.950000</td>\n",
       "      <td>7.270000</td>\n",
       "      <td>3.674060e+03</td>\n",
       "    </tr>\n",
       "    <tr>\n",
       "      <th>max</th>\n",
       "      <td>2023.000000</td>\n",
       "      <td>12.000000</td>\n",
       "      <td>202301.000000</td>\n",
       "      <td>82.390000</td>\n",
       "      <td>2477.150000</td>\n",
       "      <td>6821.310000</td>\n",
       "      <td>3.050000</td>\n",
       "      <td>11.990000</td>\n",
       "      <td>17.240000</td>\n",
       "      <td>82.180000</td>\n",
       "      <td>...</td>\n",
       "      <td>6554.520000</td>\n",
       "      <td>82.040000</td>\n",
       "      <td>381.830000</td>\n",
       "      <td>79.110000</td>\n",
       "      <td>374.660000</td>\n",
       "      <td>78.410000</td>\n",
       "      <td>388.770000</td>\n",
       "      <td>72.480000</td>\n",
       "      <td>376.500000</td>\n",
       "      <td>4.639800e+06</td>\n",
       "    </tr>\n",
       "  </tbody>\n",
       "</table>\n",
       "<p>8 rows × 21 columns</p>\n",
       "</div>"
      ],
      "text/plain": [
       "               ano         mes        ano_mes  ipca_variacao  \\\n",
       "count   517.000000  517.000000     517.000000     517.000000   \n",
       "mean   2001.042553    6.489362  200110.744681       5.927427   \n",
       "std      12.447336    3.460517    1244.719594      10.846192   \n",
       "min    1980.000000    1.000000  198001.000000      -0.680000   \n",
       "25%    1990.000000    3.000000  199010.000000       0.380000   \n",
       "50%    2001.000000    6.000000  200107.000000       0.780000   \n",
       "75%    2012.000000    9.000000  201204.000000       6.840000   \n",
       "max    2023.000000   12.000000  202301.000000      82.390000   \n",
       "\n",
       "       ipca_acumulado_ano  ipca_acumulado_doze_meses  ipca15_variacao  \\\n",
       "count          517.000000                 517.000000       517.000000   \n",
       "mean            96.134642                 308.911799         0.270793   \n",
       "std            265.522677                 863.248689         0.392252   \n",
       "min             -0.160000                   0.000000        -0.730000   \n",
       "25%              2.480000                   5.260000         0.000000   \n",
       "50%              5.230000                   7.770000         0.060000   \n",
       "75%             48.390000                 156.780000         0.490000   \n",
       "max           2477.150000                6821.310000         3.050000   \n",
       "\n",
       "       ipca15_acumulado_ano  ipca15_acumulado_doze_meses  inpc_variacao  ...  \\\n",
       "count            517.000000                   517.000000     517.000000  ...   \n",
       "mean               1.860406                     3.390561       5.916286  ...   \n",
       "std                2.415721                     3.811247      10.852317  ...   \n",
       "min                0.000000                     0.000000      -0.600000  ...   \n",
       "25%                0.000000                     0.000000       0.390000  ...   \n",
       "50%                0.650000                     2.800000       0.810000  ...   \n",
       "75%                3.270000                     6.200000       6.710000  ...   \n",
       "max               11.990000                    17.240000      82.180000  ...   \n",
       "\n",
       "       inpc_acumulado_doze_meses  ipa_variacao  ipa_acumulado_ano  \\\n",
       "count                 517.000000    517.000000         517.000000   \n",
       "mean                  307.951025      6.149207          41.240716   \n",
       "std                   849.346137     11.031997          73.665738   \n",
       "min                     0.000000     -2.420000          -5.820000   \n",
       "25%                     5.420000      0.260000           2.210000   \n",
       "50%                     8.900000      1.350000           7.540000   \n",
       "75%                   156.800000      7.310000          42.980000   \n",
       "max                  6554.520000     82.040000         381.830000   \n",
       "\n",
       "       ipc_fipe_variacao  ipc_fipe_acumulado_ano  incc_variacao  \\\n",
       "count         517.000000              517.000000     517.000000   \n",
       "mean            5.767118               38.692882       6.084565   \n",
       "std            10.762521               72.642596      11.203784   \n",
       "min            -1.000000               -1.790000      -0.500000   \n",
       "25%             0.300000                1.990000       0.360000   \n",
       "50%             0.740000                4.910000       0.880000   \n",
       "75%             6.710000               39.390000       5.940000   \n",
       "max            79.110000              374.660000      78.410000   \n",
       "\n",
       "       incc_acumulado_ano  incc_m_variacao  incc_m_acumulado_ano  \\\n",
       "count          517.000000       517.000000            517.000000   \n",
       "mean            41.784449         3.822050             25.644081   \n",
       "std             73.694792        10.259201             67.494854   \n",
       "min              0.310000         0.000000              0.000000   \n",
       "25%              2.900000         0.120000              0.400000   \n",
       "50%              6.560000         0.400000              3.350000   \n",
       "75%             45.910000         0.950000              7.270000   \n",
       "max            388.770000        72.480000            376.500000   \n",
       "\n",
       "       salario_minimo  \n",
       "count    5.170000e+02  \n",
       "mean     5.521781e+04  \n",
       "std      3.250240e+05  \n",
       "min      5.437000e+01  \n",
       "25%      2.400000e+02  \n",
       "50%      7.240000e+02  \n",
       "75%      3.674060e+03  \n",
       "max      4.639800e+06  \n",
       "\n",
       "[8 rows x 21 columns]"
      ]
     },
     "execution_count": 5,
     "metadata": {},
     "output_type": "execute_result"
    }
   ],
   "source": [
    "df.describe()"
   ]
  },
  {
   "cell_type": "markdown",
   "id": "292e851e",
   "metadata": {},
   "source": [
    "#### Definindo as varáveis de análise"
   ]
  },
  {
   "cell_type": "code",
   "execution_count": 6,
   "id": "fae1029b",
   "metadata": {
    "ExecuteTime": {
     "end_time": "2022-12-19T18:08:41.187368Z",
     "start_time": "2022-12-19T18:08:41.137325Z"
    }
   },
   "outputs": [
    {
     "data": {
      "text/plain": [
       "count    517.000000\n",
       "mean       5.916286\n",
       "std       10.852317\n",
       "min       -0.600000\n",
       "25%        0.390000\n",
       "50%        0.810000\n",
       "75%        6.710000\n",
       "max       82.180000\n",
       "Name: inpc_variacao, dtype: float64"
      ]
     },
     "execution_count": 6,
     "metadata": {},
     "output_type": "execute_result"
    }
   ],
   "source": [
    "inpc_variacao = df.inpc_variacao\n",
    "inpc_variacao.describe()"
   ]
  },
  {
   "cell_type": "code",
   "execution_count": 7,
   "id": "2f14d161",
   "metadata": {
    "ExecuteTime": {
     "end_time": "2022-12-19T18:08:41.257191Z",
     "start_time": "2022-12-19T18:08:41.190862Z"
    }
   },
   "outputs": [
    {
     "data": {
      "text/plain": [
       "count    517.000000\n",
       "mean       5.927427\n",
       "std       10.846192\n",
       "min       -0.680000\n",
       "25%        0.380000\n",
       "50%        0.780000\n",
       "75%        6.840000\n",
       "max       82.390000\n",
       "Name: ipca_variacao, dtype: float64"
      ]
     },
     "execution_count": 7,
     "metadata": {},
     "output_type": "execute_result"
    }
   ],
   "source": [
    "ipca_variacao = df.ipca_variacao\n",
    "ipca_variacao.describe()"
   ]
  },
  {
   "cell_type": "code",
   "execution_count": 8,
   "id": "ae26a1ad",
   "metadata": {},
   "outputs": [
    {
     "data": {
      "text/plain": [
       "count    517.000000\n",
       "mean       6.149207\n",
       "std       11.031997\n",
       "min       -2.420000\n",
       "25%        0.260000\n",
       "50%        1.350000\n",
       "75%        7.310000\n",
       "max       82.040000\n",
       "Name: ipa_variacao, dtype: float64"
      ]
     },
     "execution_count": 8,
     "metadata": {},
     "output_type": "execute_result"
    }
   ],
   "source": [
    "ipa_variacao = df.ipa_variacao\n",
    "ipa_variacao.describe()"
   ]
  },
  {
   "cell_type": "code",
   "execution_count": null,
   "id": "3af79cf2",
   "metadata": {},
   "outputs": [],
   "source": []
  },
  {
   "cell_type": "markdown",
   "id": "849ffa3e",
   "metadata": {},
   "source": [
    "# Regressão Linear Simples"
   ]
  },
  {
   "cell_type": "code",
   "execution_count": 9,
   "id": "c3ea2cea",
   "metadata": {
    "ExecuteTime": {
     "end_time": "2022-12-19T18:08:41.916232Z",
     "start_time": "2022-12-19T18:08:41.272852Z"
    }
   },
   "outputs": [
    {
     "data": {
      "image/png": "[encoded data removed]",
      "text/plain": [
       "<Figure size 1600x800 with 1 Axes>"
      ]
     },
     "metadata": {},
     "output_type": "display_data"
    }
   ],
   "source": [
    "plt.figure(figsize = (16,8))\n",
    "plt.scatter(\n",
    "    ipca_variacao, \n",
    "    inpc_variacao, \n",
    "    c='purple')\n",
    "plt.xlabel(\" Variação do IPCA \")\n",
    "plt.ylabel(\" Variação do INPC \")\n",
    "plt.show()\n"
   ]
  },
  {
   "cell_type": "markdown",
   "id": "94f344c9",
   "metadata": {},
   "source": [
    "#### Criando um modelo simples"
   ]
  },
  {
   "cell_type": "code",
   "execution_count": 10,
   "id": "3004c6ae",
   "metadata": {
    "ExecuteTime": {
     "end_time": "2022-12-19T18:08:41.952052Z",
     "start_time": "2022-12-19T18:08:41.929932Z"
    }
   },
   "outputs": [
    {
     "name": "stdout",
     "output_type": "stream",
     "text": [
      "O modelo é: Inflação = -0.0085127 + 0.99956X\n"
     ]
    }
   ],
   "source": [
    "X = df['ipca_variacao'].values.reshape(-1,1)\n",
    "y = df['inpc_variacao'].values.reshape(-1,1)\n",
    "\n",
    "\n",
    "reg = LinearRegression()\n",
    "reg.fit(X, y)\n",
    "\n",
    "\n",
    "print(\"O modelo é: Inflação = {:.5} + {:.5}X\".format(reg.intercept_[0], reg.coef_[0][0]))\n"
   ]
  },
  {
   "cell_type": "code",
   "execution_count": 11,
   "id": "cd6694de",
   "metadata": {},
   "outputs": [
    {
     "data": {
      "text/plain": [
       "0.9989923904182655"
      ]
     },
     "execution_count": 11,
     "metadata": {},
     "output_type": "execute_result"
    }
   ],
   "source": [
    "df['ipca_variacao'].corr(df['inpc_variacao'])"
   ]
  },
  {
   "cell_type": "markdown",
   "id": "326ba295",
   "metadata": {},
   "source": [
    "* A correlacão 0.99 é extremamente alta"
   ]
  },
  {
   "cell_type": "code",
   "execution_count": 12,
   "id": "78437b4e",
   "metadata": {},
   "outputs": [
    {
     "data": {
      "text/plain": [
       "array([[1.        , 0.99899239],\n",
       "       [0.99899239, 1.        ]])"
      ]
     },
     "execution_count": 12,
     "metadata": {},
     "output_type": "execute_result"
    }
   ],
   "source": [
    "correlacao = np.corrcoef(df['ipca_variacao'], df['inpc_variacao'])\n",
    "correlacao"
   ]
  },
  {
   "cell_type": "markdown",
   "id": "19b407f9",
   "metadata": {},
   "source": [
    "* A correlação 0.99 é considerada forte"
   ]
  },
  {
   "cell_type": "markdown",
   "id": "3f7594ad",
   "metadata": {},
   "source": [
    "#### Verificando a precisão do modelo"
   ]
  },
  {
   "cell_type": "code",
   "execution_count": 13,
   "id": "d12bb537",
   "metadata": {
    "ExecuteTime": {
     "end_time": "2022-12-19T18:08:42.727233Z",
     "start_time": "2022-12-19T18:08:41.958488Z"
    }
   },
   "outputs": [
    {
     "data": {
      "image/png": "[encoded data removed]",
      "text/plain": [
       "<Figure size 1600x800 with 1 Axes>"
      ]
     },
     "metadata": {},
     "output_type": "display_data"
    }
   ],
   "source": [
    "f_previsaoes = reg.predict(X)\n",
    "\n",
    "plt.figure(figsize = (16,8))\n",
    "plt.scatter(\n",
    "    df['ipca_variacao'], \n",
    "    df['inpc_variacao'], \n",
    "    c='red')\n",
    "\n",
    "\n",
    "plt.plot(\n",
    "    df['ipca_variacao'],\n",
    "    f_previsaoes,\n",
    "    c='blue',\n",
    "    linewidth=3,\n",
    "    linestyle=':'\n",
    ")\n",
    "\n",
    "plt.xlabel(\" Variação do IPCA \")\n",
    "plt.ylabel(\" Variação do INPC \")\n",
    "plt.show()"
   ]
  },
  {
   "cell_type": "markdown",
   "id": "6139c201",
   "metadata": {},
   "source": [
    "#### Sumario do Modelo - Avaliar Precisão "
   ]
  },
  {
   "cell_type": "code",
   "execution_count": 14,
   "id": "6beb3dab",
   "metadata": {
    "ExecuteTime": {
     "end_time": "2022-12-19T18:08:42.810578Z",
     "start_time": "2022-12-19T18:08:42.738370Z"
    }
   },
   "outputs": [
    {
     "name": "stdout",
     "output_type": "stream",
     "text": [
      "                            OLS Regression Results                            \n",
      "==============================================================================\n",
      "Dep. Variable:          inpc_variacao   R-squared:                       0.998\n",
      "Model:                            OLS   Adj. R-squared:                  0.998\n",
      "Method:                 Least Squares   F-statistic:                 2.552e+05\n",
      "Date:                Wed, 15 Feb 2023   Prob (F-statistic):               0.00\n",
      "Time:                        15:03:19   Log-Likelihood:                -361.17\n",
      "No. Observations:                 517   AIC:                             726.3\n",
      "Df Residuals:                     515   BIC:                             734.8\n",
      "Df Model:                           1                                         \n",
      "Covariance Type:            nonrobust                                         \n",
      "=================================================================================\n",
      "                    coef    std err          t      P>|t|      [0.025      0.975]\n",
      "---------------------------------------------------------------------------------\n",
      "const            -0.0085      0.024     -0.348      0.728      -0.057       0.040\n",
      "ipca_variacao     0.9996      0.002    505.143      0.000       0.996       1.003\n",
      "==============================================================================\n",
      "Omnibus:                      207.298   Durbin-Watson:                   1.700\n",
      "Prob(Omnibus):                  0.000   Jarque-Bera (JB):             9724.638\n",
      "Skew:                          -0.966   Prob(JB):                         0.00\n",
      "Kurtosis:                      24.159   Cond. No.                         14.1\n",
      "==============================================================================\n",
      "\n",
      "Notes:\n",
      "[1] Standard Errors assume that the covariance matrix of the errors is correctly specified.\n"
     ]
    }
   ],
   "source": [
    "X = df['ipca_variacao']\n",
    "y = df['inpc_variacao']\n",
    "X2 = sm.add_constant(X)\n",
    "est = sm.OLS(y, X2)\n",
    "est2 = est.fit()\n",
    "print(est2.summary())"
   ]
  },
  {
   "cell_type": "markdown",
   "id": "83b21b07",
   "metadata": {},
   "source": [
    "#### Resultado do Modelo\n",
    "\n",
    "* O R2 é de 0.99. \n",
    "* Isso significa que 99% do comportamento da variável `ipca_variacao`é explicado pela variável `inpc_variacao`. \n",
    "* Nosso `p-valor` é de 0.728. Isso significa que podemos aceitar a hipótese nula. Se o mesmo estivesse baixo, rejeitariamos a hipótese nula e chegariamos a conclusão de que os dados não são bons o suficiente para gerar um modelo bom.  "
   ]
  },
  {
   "cell_type": "markdown",
   "id": "b72d56ea",
   "metadata": {},
   "source": [
    "#### Qual será a o INPC do mês quando a variação do IPCA for de 0.13?"
   ]
  },
  {
   "cell_type": "code",
   "execution_count": 15,
   "id": "9fb5a805",
   "metadata": {
    "ExecuteTime": {
     "end_time": "2022-12-19T18:08:42.844307Z",
     "start_time": "2022-12-19T18:08:42.818246Z"
    }
   },
   "outputs": [
    {
     "data": {
      "text/plain": [
       "array([[0.12142962]])"
      ]
     },
     "execution_count": 15,
     "metadata": {},
     "output_type": "execute_result"
    }
   ],
   "source": [
    "reg.predict([[0.13]])"
   ]
  },
  {
   "cell_type": "markdown",
   "id": "bd1c2700",
   "metadata": {},
   "source": [
    "#### Qual será o INPC do mês quando a variação do IPCA for de 1.99%?"
   ]
  },
  {
   "cell_type": "code",
   "execution_count": 16,
   "id": "d45a75a9",
   "metadata": {
    "ExecuteTime": {
     "end_time": "2022-12-19T18:08:42.911047Z",
     "start_time": "2022-12-19T18:08:42.868817Z"
    }
   },
   "outputs": [
    {
     "data": {
      "text/plain": [
       "array([[1.98060482]])"
      ]
     },
     "execution_count": 16,
     "metadata": {},
     "output_type": "execute_result"
    }
   ],
   "source": [
    "reg.predict([[1.99]])"
   ]
  },
  {
   "cell_type": "markdown",
   "id": "811eda7a",
   "metadata": {},
   "source": [
    "#### Qual será o INPC do mês quando a variação do IPCA for de -63%?"
   ]
  },
  {
   "cell_type": "code",
   "execution_count": 17,
   "id": "8c6db5c7",
   "metadata": {
    "ExecuteTime": {
     "end_time": "2022-12-19T18:08:42.955342Z",
     "start_time": "2022-12-19T18:08:42.923015Z"
    }
   },
   "outputs": [
    {
     "data": {
      "text/plain": [
       "array([[-0.63823337]])"
      ]
     },
     "execution_count": 17,
     "metadata": {},
     "output_type": "execute_result"
    }
   ],
   "source": [
    "reg.predict([[-0.63]])"
   ]
  },
  {
   "cell_type": "markdown",
   "id": "19d93f44",
   "metadata": {
    "ExecuteTime": {
     "end_time": "2022-12-19T16:41:24.814591Z",
     "start_time": "2022-12-19T16:41:24.801020Z"
    }
   },
   "source": [
    "#### Qual será o INPC do mês quando a variação do IPCA for de 0.59%?"
   ]
  },
  {
   "cell_type": "code",
   "execution_count": 18,
   "id": "2cfcf32c",
   "metadata": {
    "ExecuteTime": {
     "end_time": "2022-12-19T18:08:42.997768Z",
     "start_time": "2022-12-19T18:08:42.959816Z"
    }
   },
   "outputs": [
    {
     "data": {
      "text/plain": [
       "array([[0.58122563]])"
      ]
     },
     "execution_count": 18,
     "metadata": {},
     "output_type": "execute_result"
    }
   ],
   "source": [
    "reg.predict([[0.59]])"
   ]
  },
  {
   "cell_type": "markdown",
   "id": "f8a4ed51",
   "metadata": {},
   "source": [
    "# Previsão do IPCA pelo IPCA15\n",
    "\n",
    "O objetivo é prever o IPCA a partir do IPCA15"
   ]
  },
  {
   "cell_type": "markdown",
   "id": "113bdaec",
   "metadata": {
    "ExecuteTime": {
     "end_time": "2022-12-19T14:58:07.086890Z",
     "start_time": "2022-12-19T14:58:07.081006Z"
    }
   },
   "source": [
    "## Tratamento dos dados"
   ]
  },
  {
   "cell_type": "markdown",
   "id": "48355261",
   "metadata": {},
   "source": [
    "#### Excluindo os anos que o IPCA15 não foi calculado. \n",
    "\n",
    "O calculo do `IPCA15` começou a ser efetuado no ano de 2000, enquanto sua série principal, o `IPCA` é observado historicamente e disponibilizado desde 1980. Então vamos deixar somente as observações do dataset nos quais o IPCA15 tem registros de variação. \n",
    "\n",
    "O `IPCA15` sai 15 dias antes do `IPCA` padrão. Então o mesmo sai como uma prévia do IPCA funcional. "
   ]
  },
  {
   "cell_type": "code",
   "execution_count": 19,
   "id": "bd4d89e3",
   "metadata": {
    "ExecuteTime": {
     "end_time": "2022-12-19T18:08:43.042844Z",
     "start_time": "2022-12-19T18:08:43.033353Z"
    }
   },
   "outputs": [],
   "source": [
    "df_ipca_analise = df[df.ipca15_variacao != 0]"
   ]
  },
  {
   "cell_type": "code",
   "execution_count": 20,
   "id": "fd6781c9",
   "metadata": {
    "ExecuteTime": {
     "end_time": "2022-12-19T18:08:43.186222Z",
     "start_time": "2022-12-19T18:08:43.055623Z"
    }
   },
   "outputs": [
    {
     "data": {
      "text/html": [
       "<div>\n",
       "<style scoped>\n",
       "    .dataframe tbody tr th:only-of-type {\n",
       "        vertical-align: middle;\n",
       "    }\n",
       "\n",
       "    .dataframe tbody tr th {\n",
       "        vertical-align: top;\n",
       "    }\n",
       "\n",
       "    .dataframe thead th {\n",
       "        text-align: right;\n",
       "    }\n",
       "</style>\n",
       "<table border=\"1\" class=\"dataframe\">\n",
       "  <thead>\n",
       "    <tr style=\"text-align: right;\">\n",
       "      <th></th>\n",
       "      <th>ano</th>\n",
       "      <th>mes</th>\n",
       "      <th>ano_mes</th>\n",
       "      <th>ipca_variacao</th>\n",
       "      <th>ipca_acumulado_ano</th>\n",
       "      <th>ipca_acumulado_doze_meses</th>\n",
       "      <th>ipca15_variacao</th>\n",
       "      <th>ipca15_acumulado_ano</th>\n",
       "      <th>ipca15_acumulado_doze_meses</th>\n",
       "      <th>inpc_variacao</th>\n",
       "      <th>...</th>\n",
       "      <th>inpc_acumulado_doze_meses</th>\n",
       "      <th>ipa_variacao</th>\n",
       "      <th>ipa_acumulado_ano</th>\n",
       "      <th>ipc_fipe_variacao</th>\n",
       "      <th>ipc_fipe_acumulado_ano</th>\n",
       "      <th>incc_variacao</th>\n",
       "      <th>incc_acumulado_ano</th>\n",
       "      <th>incc_m_variacao</th>\n",
       "      <th>incc_m_acumulado_ano</th>\n",
       "      <th>salario_minimo</th>\n",
       "    </tr>\n",
       "  </thead>\n",
       "  <tbody>\n",
       "    <tr>\n",
       "      <th>count</th>\n",
       "      <td>273.000000</td>\n",
       "      <td>273.000000</td>\n",
       "      <td>273.000000</td>\n",
       "      <td>273.000000</td>\n",
       "      <td>273.000000</td>\n",
       "      <td>273.000000</td>\n",
       "      <td>273.000000</td>\n",
       "      <td>273.000000</td>\n",
       "      <td>273.000000</td>\n",
       "      <td>273.000000</td>\n",
       "      <td>...</td>\n",
       "      <td>273.000000</td>\n",
       "      <td>273.000000</td>\n",
       "      <td>273.000000</td>\n",
       "      <td>273.000000</td>\n",
       "      <td>273.000000</td>\n",
       "      <td>273.000000</td>\n",
       "      <td>273.000000</td>\n",
       "      <td>273.000000</td>\n",
       "      <td>273.000000</td>\n",
       "      <td>273.000000</td>\n",
       "    </tr>\n",
       "    <tr>\n",
       "      <th>mean</th>\n",
       "      <td>2011.205128</td>\n",
       "      <td>6.538462</td>\n",
       "      <td>201127.051282</td>\n",
       "      <td>0.513626</td>\n",
       "      <td>3.442784</td>\n",
       "      <td>6.418791</td>\n",
       "      <td>0.512821</td>\n",
       "      <td>3.523187</td>\n",
       "      <td>6.420952</td>\n",
       "      <td>0.528425</td>\n",
       "      <td>...</td>\n",
       "      <td>6.599048</td>\n",
       "      <td>0.759194</td>\n",
       "      <td>4.717216</td>\n",
       "      <td>0.476447</td>\n",
       "      <td>3.034835</td>\n",
       "      <td>0.636374</td>\n",
       "      <td>4.498571</td>\n",
       "      <td>0.635348</td>\n",
       "      <td>4.381868</td>\n",
       "      <td>611.805861</td>\n",
       "    </tr>\n",
       "    <tr>\n",
       "      <th>std</th>\n",
       "      <td>6.584438</td>\n",
       "      <td>3.456583</td>\n",
       "      <td>658.316556</td>\n",
       "      <td>0.405529</td>\n",
       "      <td>2.262610</td>\n",
       "      <td>2.806327</td>\n",
       "      <td>0.409038</td>\n",
       "      <td>2.278345</td>\n",
       "      <td>2.833088</td>\n",
       "      <td>0.455179</td>\n",
       "      <td>...</td>\n",
       "      <td>3.350691</td>\n",
       "      <td>1.266827</td>\n",
       "      <td>5.766133</td>\n",
       "      <td>0.421468</td>\n",
       "      <td>2.161013</td>\n",
       "      <td>0.558332</td>\n",
       "      <td>3.122502</td>\n",
       "      <td>0.547320</td>\n",
       "      <td>3.156202</td>\n",
       "      <td>326.672240</td>\n",
       "    </tr>\n",
       "    <tr>\n",
       "      <th>min</th>\n",
       "      <td>2000.000000</td>\n",
       "      <td>1.000000</td>\n",
       "      <td>200005.000000</td>\n",
       "      <td>-0.680000</td>\n",
       "      <td>-0.160000</td>\n",
       "      <td>1.880000</td>\n",
       "      <td>-0.730000</td>\n",
       "      <td>0.300000</td>\n",
       "      <td>1.920000</td>\n",
       "      <td>-0.600000</td>\n",
       "      <td>...</td>\n",
       "      <td>1.560000</td>\n",
       "      <td>-1.960000</td>\n",
       "      <td>-5.820000</td>\n",
       "      <td>-0.420000</td>\n",
       "      <td>-0.040000</td>\n",
       "      <td>-0.250000</td>\n",
       "      <td>0.310000</td>\n",
       "      <td>0.000000</td>\n",
       "      <td>0.000000</td>\n",
       "      <td>151.000000</td>\n",
       "    </tr>\n",
       "    <tr>\n",
       "      <th>25%</th>\n",
       "      <td>2006.000000</td>\n",
       "      <td>4.000000</td>\n",
       "      <td>200601.000000</td>\n",
       "      <td>0.280000</td>\n",
       "      <td>1.640000</td>\n",
       "      <td>4.560000</td>\n",
       "      <td>0.250000</td>\n",
       "      <td>1.700000</td>\n",
       "      <td>4.440000</td>\n",
       "      <td>0.240000</td>\n",
       "      <td>...</td>\n",
       "      <td>4.680000</td>\n",
       "      <td>0.010000</td>\n",
       "      <td>0.690000</td>\n",
       "      <td>0.190000</td>\n",
       "      <td>1.210000</td>\n",
       "      <td>0.270000</td>\n",
       "      <td>1.700000</td>\n",
       "      <td>0.270000</td>\n",
       "      <td>1.470000</td>\n",
       "      <td>300.000000</td>\n",
       "    </tr>\n",
       "    <tr>\n",
       "      <th>50%</th>\n",
       "      <td>2011.000000</td>\n",
       "      <td>7.000000</td>\n",
       "      <td>201109.000000</td>\n",
       "      <td>0.470000</td>\n",
       "      <td>3.130000</td>\n",
       "      <td>6.060000</td>\n",
       "      <td>0.470000</td>\n",
       "      <td>3.140000</td>\n",
       "      <td>6.130000</td>\n",
       "      <td>0.480000</td>\n",
       "      <td>...</td>\n",
       "      <td>5.950000</td>\n",
       "      <td>0.550000</td>\n",
       "      <td>3.380000</td>\n",
       "      <td>0.390000</td>\n",
       "      <td>2.720000</td>\n",
       "      <td>0.460000</td>\n",
       "      <td>4.330000</td>\n",
       "      <td>0.440000</td>\n",
       "      <td>4.000000</td>\n",
       "      <td>545.000000</td>\n",
       "    </tr>\n",
       "    <tr>\n",
       "      <th>75%</th>\n",
       "      <td>2017.000000</td>\n",
       "      <td>10.000000</td>\n",
       "      <td>201705.000000</td>\n",
       "      <td>0.700000</td>\n",
       "      <td>4.850000</td>\n",
       "      <td>7.510000</td>\n",
       "      <td>0.690000</td>\n",
       "      <td>5.030000</td>\n",
       "      <td>7.470000</td>\n",
       "      <td>0.730000</td>\n",
       "      <td>...</td>\n",
       "      <td>7.590000</td>\n",
       "      <td>1.350000</td>\n",
       "      <td>7.510000</td>\n",
       "      <td>0.670000</td>\n",
       "      <td>4.450000</td>\n",
       "      <td>0.860000</td>\n",
       "      <td>6.420000</td>\n",
       "      <td>0.820000</td>\n",
       "      <td>6.370000</td>\n",
       "      <td>937.000000</td>\n",
       "    </tr>\n",
       "    <tr>\n",
       "      <th>max</th>\n",
       "      <td>2023.000000</td>\n",
       "      <td>12.000000</td>\n",
       "      <td>202301.000000</td>\n",
       "      <td>3.020000</td>\n",
       "      <td>12.530000</td>\n",
       "      <td>17.240000</td>\n",
       "      <td>3.050000</td>\n",
       "      <td>11.990000</td>\n",
       "      <td>17.240000</td>\n",
       "      <td>3.390000</td>\n",
       "      <td>...</td>\n",
       "      <td>20.440000</td>\n",
       "      <td>7.450000</td>\n",
       "      <td>31.010000</td>\n",
       "      <td>2.650000</td>\n",
       "      <td>10.560000</td>\n",
       "      <td>2.940000</td>\n",
       "      <td>13.570000</td>\n",
       "      <td>2.980000</td>\n",
       "      <td>13.870000</td>\n",
       "      <td>1302.000000</td>\n",
       "    </tr>\n",
       "  </tbody>\n",
       "</table>\n",
       "<p>8 rows × 21 columns</p>\n",
       "</div>"
      ],
      "text/plain": [
       "               ano         mes        ano_mes  ipca_variacao  \\\n",
       "count   273.000000  273.000000     273.000000     273.000000   \n",
       "mean   2011.205128    6.538462  201127.051282       0.513626   \n",
       "std       6.584438    3.456583     658.316556       0.405529   \n",
       "min    2000.000000    1.000000  200005.000000      -0.680000   \n",
       "25%    2006.000000    4.000000  200601.000000       0.280000   \n",
       "50%    2011.000000    7.000000  201109.000000       0.470000   \n",
       "75%    2017.000000   10.000000  201705.000000       0.700000   \n",
       "max    2023.000000   12.000000  202301.000000       3.020000   \n",
       "\n",
       "       ipca_acumulado_ano  ipca_acumulado_doze_meses  ipca15_variacao  \\\n",
       "count          273.000000                 273.000000       273.000000   \n",
       "mean             3.442784                   6.418791         0.512821   \n",
       "std              2.262610                   2.806327         0.409038   \n",
       "min             -0.160000                   1.880000        -0.730000   \n",
       "25%              1.640000                   4.560000         0.250000   \n",
       "50%              3.130000                   6.060000         0.470000   \n",
       "75%              4.850000                   7.510000         0.690000   \n",
       "max             12.530000                  17.240000         3.050000   \n",
       "\n",
       "       ipca15_acumulado_ano  ipca15_acumulado_doze_meses  inpc_variacao  ...  \\\n",
       "count            273.000000                   273.000000     273.000000  ...   \n",
       "mean               3.523187                     6.420952       0.528425  ...   \n",
       "std                2.278345                     2.833088       0.455179  ...   \n",
       "min                0.300000                     1.920000      -0.600000  ...   \n",
       "25%                1.700000                     4.440000       0.240000  ...   \n",
       "50%                3.140000                     6.130000       0.480000  ...   \n",
       "75%                5.030000                     7.470000       0.730000  ...   \n",
       "max               11.990000                    17.240000       3.390000  ...   \n",
       "\n",
       "       inpc_acumulado_doze_meses  ipa_variacao  ipa_acumulado_ano  \\\n",
       "count                 273.000000    273.000000         273.000000   \n",
       "mean                    6.599048      0.759194           4.717216   \n",
       "std                     3.350691      1.266827           5.766133   \n",
       "min                     1.560000     -1.960000          -5.820000   \n",
       "25%                     4.680000      0.010000           0.690000   \n",
       "50%                     5.950000      0.550000           3.380000   \n",
       "75%                     7.590000      1.350000           7.510000   \n",
       "max                    20.440000      7.450000          31.010000   \n",
       "\n",
       "       ipc_fipe_variacao  ipc_fipe_acumulado_ano  incc_variacao  \\\n",
       "count         273.000000              273.000000     273.000000   \n",
       "mean            0.476447                3.034835       0.636374   \n",
       "std             0.421468                2.161013       0.558332   \n",
       "min            -0.420000               -0.040000      -0.250000   \n",
       "25%             0.190000                1.210000       0.270000   \n",
       "50%             0.390000                2.720000       0.460000   \n",
       "75%             0.670000                4.450000       0.860000   \n",
       "max             2.650000               10.560000       2.940000   \n",
       "\n",
       "       incc_acumulado_ano  incc_m_variacao  incc_m_acumulado_ano  \\\n",
       "count          273.000000       273.000000            273.000000   \n",
       "mean             4.498571         0.635348              4.381868   \n",
       "std              3.122502         0.547320              3.156202   \n",
       "min              0.310000         0.000000              0.000000   \n",
       "25%              1.700000         0.270000              1.470000   \n",
       "50%              4.330000         0.440000              4.000000   \n",
       "75%              6.420000         0.820000              6.370000   \n",
       "max             13.570000         2.980000             13.870000   \n",
       "\n",
       "       salario_minimo  \n",
       "count      273.000000  \n",
       "mean       611.805861  \n",
       "std        326.672240  \n",
       "min        151.000000  \n",
       "25%        300.000000  \n",
       "50%        545.000000  \n",
       "75%        937.000000  \n",
       "max       1302.000000  \n",
       "\n",
       "[8 rows x 21 columns]"
      ]
     },
     "execution_count": 20,
     "metadata": {},
     "output_type": "execute_result"
    }
   ],
   "source": [
    "df_ipca_analise.describe()"
   ]
  },
  {
   "cell_type": "code",
   "execution_count": 21,
   "id": "a432892f",
   "metadata": {
    "ExecuteTime": {
     "end_time": "2022-12-19T18:08:43.252099Z",
     "start_time": "2022-12-19T18:08:43.193969Z"
    }
   },
   "outputs": [
    {
     "data": {
      "text/html": [
       "<div>\n",
       "<style scoped>\n",
       "    .dataframe tbody tr th:only-of-type {\n",
       "        vertical-align: middle;\n",
       "    }\n",
       "\n",
       "    .dataframe tbody tr th {\n",
       "        vertical-align: top;\n",
       "    }\n",
       "\n",
       "    .dataframe thead th {\n",
       "        text-align: right;\n",
       "    }\n",
       "</style>\n",
       "<table border=\"1\" class=\"dataframe\">\n",
       "  <thead>\n",
       "    <tr style=\"text-align: right;\">\n",
       "      <th></th>\n",
       "      <th>referencia</th>\n",
       "      <th>ano</th>\n",
       "      <th>mes</th>\n",
       "      <th>ano_mes</th>\n",
       "      <th>ipca_variacao</th>\n",
       "      <th>ipca_acumulado_ano</th>\n",
       "      <th>ipca_acumulado_doze_meses</th>\n",
       "      <th>ipca15_variacao</th>\n",
       "      <th>ipca15_acumulado_ano</th>\n",
       "      <th>ipca15_acumulado_doze_meses</th>\n",
       "      <th>...</th>\n",
       "      <th>ipa_variacao</th>\n",
       "      <th>ipa_acumulado_ano</th>\n",
       "      <th>ipc_fipe_variacao</th>\n",
       "      <th>ipc_fipe_acumulado_ano</th>\n",
       "      <th>incc_variacao</th>\n",
       "      <th>incc_acumulado_ano</th>\n",
       "      <th>incc_m_variacao</th>\n",
       "      <th>incc_m_acumulado_ano</th>\n",
       "      <th>salario_minimo</th>\n",
       "      <th>consolidado_ano</th>\n",
       "    </tr>\n",
       "  </thead>\n",
       "  <tbody>\n",
       "    <tr>\n",
       "      <th>512</th>\n",
       "      <td>2022-09</td>\n",
       "      <td>2022</td>\n",
       "      <td>9</td>\n",
       "      <td>202209</td>\n",
       "      <td>-0.29</td>\n",
       "      <td>4.09</td>\n",
       "      <td>7.17</td>\n",
       "      <td>-0.37</td>\n",
       "      <td>4.63</td>\n",
       "      <td>7.96</td>\n",
       "      <td>...</td>\n",
       "      <td>-1.68</td>\n",
       "      <td>5.86</td>\n",
       "      <td>0.12</td>\n",
       "      <td>5.64</td>\n",
       "      <td>0.09</td>\n",
       "      <td>8.36</td>\n",
       "      <td>0.10</td>\n",
       "      <td>8.61</td>\n",
       "      <td>1212.0</td>\n",
       "      <td>False</td>\n",
       "    </tr>\n",
       "    <tr>\n",
       "      <th>513</th>\n",
       "      <td>2022-10</td>\n",
       "      <td>2022</td>\n",
       "      <td>10</td>\n",
       "      <td>202210</td>\n",
       "      <td>0.59</td>\n",
       "      <td>4.70</td>\n",
       "      <td>6.47</td>\n",
       "      <td>0.16</td>\n",
       "      <td>4.80</td>\n",
       "      <td>6.85</td>\n",
       "      <td>...</td>\n",
       "      <td>-1.04</td>\n",
       "      <td>4.82</td>\n",
       "      <td>0.45</td>\n",
       "      <td>6.09</td>\n",
       "      <td>0.12</td>\n",
       "      <td>8.48</td>\n",
       "      <td>0.04</td>\n",
       "      <td>8.65</td>\n",
       "      <td>1212.0</td>\n",
       "      <td>False</td>\n",
       "    </tr>\n",
       "    <tr>\n",
       "      <th>514</th>\n",
       "      <td>2022-11</td>\n",
       "      <td>2022</td>\n",
       "      <td>11</td>\n",
       "      <td>202211</td>\n",
       "      <td>0.41</td>\n",
       "      <td>5.13</td>\n",
       "      <td>5.90</td>\n",
       "      <td>0.53</td>\n",
       "      <td>5.35</td>\n",
       "      <td>6.17</td>\n",
       "      <td>...</td>\n",
       "      <td>-0.43</td>\n",
       "      <td>4.39</td>\n",
       "      <td>0.47</td>\n",
       "      <td>6.56</td>\n",
       "      <td>0.36</td>\n",
       "      <td>8.84</td>\n",
       "      <td>0.14</td>\n",
       "      <td>8.79</td>\n",
       "      <td>1212.0</td>\n",
       "      <td>False</td>\n",
       "    </tr>\n",
       "    <tr>\n",
       "      <th>515</th>\n",
       "      <td>2022-12</td>\n",
       "      <td>2022</td>\n",
       "      <td>12</td>\n",
       "      <td>202212</td>\n",
       "      <td>0.62</td>\n",
       "      <td>5.79</td>\n",
       "      <td>5.79</td>\n",
       "      <td>0.52</td>\n",
       "      <td>5.90</td>\n",
       "      <td>5.90</td>\n",
       "      <td>...</td>\n",
       "      <td>0.32</td>\n",
       "      <td>4.71</td>\n",
       "      <td>0.54</td>\n",
       "      <td>7.10</td>\n",
       "      <td>0.09</td>\n",
       "      <td>8.93</td>\n",
       "      <td>0.27</td>\n",
       "      <td>9.06</td>\n",
       "      <td>1212.0</td>\n",
       "      <td>True</td>\n",
       "    </tr>\n",
       "    <tr>\n",
       "      <th>516</th>\n",
       "      <td>2023-01</td>\n",
       "      <td>2023</td>\n",
       "      <td>1</td>\n",
       "      <td>202301</td>\n",
       "      <td>0.53</td>\n",
       "      <td>0.53</td>\n",
       "      <td>5.77</td>\n",
       "      <td>0.55</td>\n",
       "      <td>0.55</td>\n",
       "      <td>5.87</td>\n",
       "      <td>...</td>\n",
       "      <td>-0.19</td>\n",
       "      <td>-0.19</td>\n",
       "      <td>0.63</td>\n",
       "      <td>0.63</td>\n",
       "      <td>0.46</td>\n",
       "      <td>0.46</td>\n",
       "      <td>0.32</td>\n",
       "      <td>0.32</td>\n",
       "      <td>1302.0</td>\n",
       "      <td>False</td>\n",
       "    </tr>\n",
       "  </tbody>\n",
       "</table>\n",
       "<p>5 rows × 23 columns</p>\n",
       "</div>"
      ],
      "text/plain": [
       "    referencia   ano  mes  ano_mes  ipca_variacao  ipca_acumulado_ano  \\\n",
       "512    2022-09  2022    9   202209          -0.29                4.09   \n",
       "513    2022-10  2022   10   202210           0.59                4.70   \n",
       "514    2022-11  2022   11   202211           0.41                5.13   \n",
       "515    2022-12  2022   12   202212           0.62                5.79   \n",
       "516    2023-01  2023    1   202301           0.53                0.53   \n",
       "\n",
       "     ipca_acumulado_doze_meses  ipca15_variacao  ipca15_acumulado_ano  \\\n",
       "512                       7.17            -0.37                  4.63   \n",
       "513                       6.47             0.16                  4.80   \n",
       "514                       5.90             0.53                  5.35   \n",
       "515                       5.79             0.52                  5.90   \n",
       "516                       5.77             0.55                  0.55   \n",
       "\n",
       "     ipca15_acumulado_doze_meses  ...  ipa_variacao  ipa_acumulado_ano  \\\n",
       "512                         7.96  ...         -1.68               5.86   \n",
       "513                         6.85  ...         -1.04               4.82   \n",
       "514                         6.17  ...         -0.43               4.39   \n",
       "515                         5.90  ...          0.32               4.71   \n",
       "516                         5.87  ...         -0.19              -0.19   \n",
       "\n",
       "     ipc_fipe_variacao  ipc_fipe_acumulado_ano  incc_variacao  \\\n",
       "512               0.12                    5.64           0.09   \n",
       "513               0.45                    6.09           0.12   \n",
       "514               0.47                    6.56           0.36   \n",
       "515               0.54                    7.10           0.09   \n",
       "516               0.63                    0.63           0.46   \n",
       "\n",
       "     incc_acumulado_ano  incc_m_variacao  incc_m_acumulado_ano  \\\n",
       "512                8.36             0.10                  8.61   \n",
       "513                8.48             0.04                  8.65   \n",
       "514                8.84             0.14                  8.79   \n",
       "515                8.93             0.27                  9.06   \n",
       "516                0.46             0.32                  0.32   \n",
       "\n",
       "     salario_minimo  consolidado_ano  \n",
       "512          1212.0            False  \n",
       "513          1212.0            False  \n",
       "514          1212.0            False  \n",
       "515          1212.0             True  \n",
       "516          1302.0            False  \n",
       "\n",
       "[5 rows x 23 columns]"
      ]
     },
     "execution_count": 21,
     "metadata": {},
     "output_type": "execute_result"
    }
   ],
   "source": [
    "df_ipca_analise.tail()"
   ]
  },
  {
   "cell_type": "code",
   "execution_count": 22,
   "id": "d826f158",
   "metadata": {
    "ExecuteTime": {
     "end_time": "2022-12-19T18:08:43.316573Z",
     "start_time": "2022-12-19T18:08:43.290522Z"
    }
   },
   "outputs": [
    {
     "data": {
      "text/plain": [
       "count    273.000000\n",
       "mean       0.513626\n",
       "std        0.405529\n",
       "min       -0.680000\n",
       "25%        0.280000\n",
       "50%        0.470000\n",
       "75%        0.700000\n",
       "max        3.020000\n",
       "Name: ipca_variacao, dtype: float64"
      ]
     },
     "execution_count": 22,
     "metadata": {},
     "output_type": "execute_result"
    }
   ],
   "source": [
    "ipca_variacao = df_ipca_analise.ipca_variacao\n",
    "ipca_variacao.describe()"
   ]
  },
  {
   "cell_type": "code",
   "execution_count": 23,
   "id": "bc203dd6",
   "metadata": {
    "ExecuteTime": {
     "end_time": "2022-12-19T18:08:43.405632Z",
     "start_time": "2022-12-19T18:08:43.331474Z"
    }
   },
   "outputs": [
    {
     "data": {
      "text/plain": [
       "count    273.000000\n",
       "mean       0.512821\n",
       "std        0.409038\n",
       "min       -0.730000\n",
       "25%        0.250000\n",
       "50%        0.470000\n",
       "75%        0.690000\n",
       "max        3.050000\n",
       "Name: ipca15_variacao, dtype: float64"
      ]
     },
     "execution_count": 23,
     "metadata": {},
     "output_type": "execute_result"
    }
   ],
   "source": [
    "ipca15_variacao = df_ipca_analise.ipca15_variacao\n",
    "ipca15_variacao.describe()"
   ]
  },
  {
   "cell_type": "code",
   "execution_count": 24,
   "id": "0ed50df3",
   "metadata": {
    "ExecuteTime": {
     "end_time": "2022-12-19T18:08:43.746254Z",
     "start_time": "2022-12-19T18:08:43.418479Z"
    }
   },
   "outputs": [
    {
     "data": {
      "image/png": "[encoded data removed]",
      "text/plain": [
       "<Figure size 800x550 with 1 Axes>"
      ]
     },
     "metadata": {},
     "output_type": "display_data"
    }
   ],
   "source": [
    "plt.scatter(ipca15_variacao, ipca_variacao)\n",
    "plt.show()"
   ]
  },
  {
   "cell_type": "markdown",
   "id": "685b92e2",
   "metadata": {
    "ExecuteTime": {
     "end_time": "2022-12-19T15:18:07.592835Z",
     "start_time": "2022-12-19T15:18:07.582641Z"
    }
   },
   "source": [
    "#### Encontrando a melhor reta para regressão"
   ]
  },
  {
   "cell_type": "code",
   "execution_count": 25,
   "id": "0a85b116",
   "metadata": {
    "ExecuteTime": {
     "end_time": "2022-12-19T18:08:43.833497Z",
     "start_time": "2022-12-19T18:08:43.759316Z"
    }
   },
   "outputs": [],
   "source": [
    "reg = LinearRegression()"
   ]
  },
  {
   "cell_type": "markdown",
   "id": "f78b6483",
   "metadata": {},
   "source": [
    "#### Transformando os Series do Pandas em Arrays para fazer o fit dos dados. "
   ]
  },
  {
   "cell_type": "code",
   "execution_count": 26,
   "id": "8e2b86aa",
   "metadata": {
    "ExecuteTime": {
     "end_time": "2022-12-19T18:08:43.890151Z",
     "start_time": "2022-12-19T18:08:43.858812Z"
    }
   },
   "outputs": [
    {
     "data": {
      "text/html": [
       "<style>#sk-container-id-1 {color: black;background-color: white;}#sk-container-id-1 pre{padding: 0;}#sk-container-id-1 div.sk-toggleable {background-color: white;}#sk-container-id-1 label.sk-toggleable__label {cursor: pointer;display: block;width: 100%;margin-bottom: 0;padding: 0.3em;box-sizing: border-box;text-align: center;}#sk-container-id-1 label.sk-toggleable__label-arrow:before {content: \"▸\";float: left;margin-right: 0.25em;color: #696969;}#sk-container-id-1 label.sk-toggleable__label-arrow:hover:before {color: black;}#sk-container-id-1 div.sk-estimator:hover label.sk-toggleable__label-arrow:before {color: black;}#sk-container-id-1 div.sk-toggleable__content {max-height: 0;max-width: 0;overflow: hidden;text-align: left;background-color: #f0f8ff;}#sk-container-id-1 div.sk-toggleable__content pre {margin: 0.2em;color: black;border-radius: 0.25em;background-color: #f0f8ff;}#sk-container-id-1 input.sk-toggleable__control:checked~div.sk-toggleable__content {max-height: 200px;max-width: 100%;overflow: auto;}#sk-container-id-1 input.sk-toggleable__control:checked~label.sk-toggleable__label-arrow:before {content: \"▾\";}#sk-container-id-1 div.sk-estimator input.sk-toggleable__control:checked~label.sk-toggleable__label {background-color: #d4ebff;}#sk-container-id-1 div.sk-label input.sk-toggleable__control:checked~label.sk-toggleable__label {background-color: #d4ebff;}#sk-container-id-1 input.sk-hidden--visually {border: 0;clip: rect(1px 1px 1px 1px);clip: rect(1px, 1px, 1px, 1px);height: 1px;margin: -1px;overflow: hidden;padding: 0;position: absolute;width: 1px;}#sk-container-id-1 div.sk-estimator {font-family: monospace;background-color: #f0f8ff;border: 1px dotted black;border-radius: 0.25em;box-sizing: border-box;margin-bottom: 0.5em;}#sk-container-id-1 div.sk-estimator:hover {background-color: #d4ebff;}#sk-container-id-1 div.sk-parallel-item::after {content: \"\";width: 100%;border-bottom: 1px solid gray;flex-grow: 1;}#sk-container-id-1 div.sk-label:hover label.sk-toggleable__label {background-color: #d4ebff;}#sk-container-id-1 div.sk-serial::before {content: \"\";position: absolute;border-left: 1px solid gray;box-sizing: border-box;top: 0;bottom: 0;left: 50%;z-index: 0;}#sk-container-id-1 div.sk-serial {display: flex;flex-direction: column;align-items: center;background-color: white;padding-right: 0.2em;padding-left: 0.2em;position: relative;}#sk-container-id-1 div.sk-item {position: relative;z-index: 1;}#sk-container-id-1 div.sk-parallel {display: flex;align-items: stretch;justify-content: center;background-color: white;position: relative;}#sk-container-id-1 div.sk-item::before, #sk-container-id-1 div.sk-parallel-item::before {content: \"\";position: absolute;border-left: 1px solid gray;box-sizing: border-box;top: 0;bottom: 0;left: 50%;z-index: -1;}#sk-container-id-1 div.sk-parallel-item {display: flex;flex-direction: column;z-index: 1;position: relative;background-color: white;}#sk-container-id-1 div.sk-parallel-item:first-child::after {align-self: flex-end;width: 50%;}#sk-container-id-1 div.sk-parallel-item:last-child::after {align-self: flex-start;width: 50%;}#sk-container-id-1 div.sk-parallel-item:only-child::after {width: 0;}#sk-container-id-1 div.sk-dashed-wrapped {border: 1px dashed gray;margin: 0 0.4em 0.5em 0.4em;box-sizing: border-box;padding-bottom: 0.4em;background-color: white;}#sk-container-id-1 div.sk-label label {font-family: monospace;font-weight: bold;display: inline-block;line-height: 1.2em;}#sk-container-id-1 div.sk-label-container {text-align: center;}#sk-container-id-1 div.sk-container {/* jupyter's `normalize.less` sets `[hidden] { display: none; }` but bootstrap.min.css set `[hidden] { display: none !important; }` so we also need the `!important` here to be able to override the default hidden behavior on the sphinx rendered scikit-learn.org. See: https://github.com/scikit-learn/scikit-learn/issues/21755 */display: inline-block !important;position: relative;}#sk-container-id-1 div.sk-text-repr-fallback {display: none;}</style><div id=\"sk-container-id-1\" class=\"sk-top-container\"><div class=\"sk-text-repr-fallback\"><pre>LinearRegression()</pre><b>In a Jupyter environment, please rerun this cell to show the HTML representation or trust the notebook. <br />On GitHub, the HTML representation is unable to render, please try loading this page with nbviewer.org.</b></div><div class=\"sk-container\" hidden><div class=\"sk-item\"><div class=\"sk-estimator sk-toggleable\"><input class=\"sk-toggleable__control sk-hidden--visually\" id=\"sk-estimator-id-1\" type=\"checkbox\" checked><label for=\"sk-estimator-id-1\" class=\"sk-toggleable__label sk-toggleable__label-arrow\">LinearRegression</label><div class=\"sk-toggleable__content\"><pre>LinearRegression()</pre></div></div></div></div></div>"
      ],
      "text/plain": [
       "LinearRegression()"
      ]
     },
     "execution_count": 26,
     "metadata": {},
     "output_type": "execute_result"
    }
   ],
   "source": [
    "reg.fit(\n",
    "    ipca15_variacao.values.reshape(-1, 1), \n",
    "    ipca_variacao.values.reshape(-1, 1)\n",
    ")"
   ]
  },
  {
   "cell_type": "code",
   "execution_count": 27,
   "id": "0262b593",
   "metadata": {
    "ExecuteTime": {
     "end_time": "2022-12-19T18:08:43.942372Z",
     "start_time": "2022-12-19T18:08:43.902264Z"
    }
   },
   "outputs": [
    {
     "data": {
      "text/plain": [
       "array([[0.84810408]])"
      ]
     },
     "execution_count": 27,
     "metadata": {},
     "output_type": "execute_result"
    }
   ],
   "source": [
    "reg.coef_"
   ]
  },
  {
   "cell_type": "markdown",
   "id": "0eed4efe",
   "metadata": {
    "ExecuteTime": {
     "end_time": "2022-12-19T15:26:21.783189Z",
     "start_time": "2022-12-19T15:26:21.774129Z"
    }
   },
   "source": [
    "#### Melhor possibilidade de onde a reta vai cortar o eixo. "
   ]
  },
  {
   "cell_type": "code",
   "execution_count": 28,
   "id": "3b647caf",
   "metadata": {
    "ExecuteTime": {
     "end_time": "2022-12-19T18:08:44.001161Z",
     "start_time": "2022-12-19T18:08:43.964875Z"
    }
   },
   "outputs": [
    {
     "data": {
      "text/plain": [
       "array([0.0787012])"
      ]
     },
     "execution_count": 28,
     "metadata": {},
     "output_type": "execute_result"
    }
   ],
   "source": [
    "reg.intercept_"
   ]
  },
  {
   "cell_type": "markdown",
   "id": "f2b9d3b5",
   "metadata": {
    "ExecuteTime": {
     "end_time": "2022-12-19T15:26:58.518450Z",
     "start_time": "2022-12-19T15:26:58.509125Z"
    }
   },
   "source": [
    "#### Testando o coeficiente de interceptação para traçar o gráfico linearmente"
   ]
  },
  {
   "cell_type": "code",
   "execution_count": 29,
   "id": "8a5e81d0",
   "metadata": {
    "ExecuteTime": {
     "end_time": "2022-12-19T18:08:44.505095Z",
     "start_time": "2022-12-19T18:08:44.008391Z"
    },
    "scrolled": false
   },
   "outputs": [
    {
     "data": {
      "image/png": "[encoded data removed]",
      "text/plain": [
       "<Figure size 800x550 with 1 Axes>"
      ]
     },
     "metadata": {},
     "output_type": "display_data"
    }
   ],
   "source": [
    "plt.scatter(ipca15_variacao, ipca_variacao)\n",
    "x = np.array(ipca15_variacao)\n",
    "y = reg.intercept_ + x * reg.coef_\n",
    "plt.plot(x, y[0], \"r\")\n",
    "plt.show()"
   ]
  },
  {
   "cell_type": "code",
   "execution_count": 30,
   "id": "6d706cc8",
   "metadata": {
    "scrolled": true
   },
   "outputs": [
    {
     "data": {
      "text/plain": [
       "0.8554422130520664"
      ]
     },
     "execution_count": 30,
     "metadata": {},
     "output_type": "execute_result"
    }
   ],
   "source": [
    "ipca_variacao.corr(ipca15_variacao)"
   ]
  },
  {
   "cell_type": "markdown",
   "id": "b8343c80",
   "metadata": {},
   "source": [
    "* Correlação 0.85 é extremamente alta"
   ]
  },
  {
   "cell_type": "code",
   "execution_count": 31,
   "id": "e8e179dc",
   "metadata": {
    "ExecuteTime": {
     "end_time": "2022-12-19T18:08:44.667953Z",
     "start_time": "2022-12-19T18:08:44.616800Z"
    }
   },
   "outputs": [
    {
     "name": "stdout",
     "output_type": "stream",
     "text": [
      "                            OLS Regression Results                            \n",
      "==============================================================================\n",
      "Dep. Variable:        ipca15_variacao   R-squared:                       0.732\n",
      "Model:                            OLS   Adj. R-squared:                  0.731\n",
      "Method:                 Least Squares   F-statistic:                     739.4\n",
      "Date:                Wed, 15 Feb 2023   Prob (F-statistic):           2.05e-79\n",
      "Time:                        15:03:19   Log-Likelihood:                 36.806\n",
      "No. Observations:                 273   AIC:                            -69.61\n",
      "Df Residuals:                     271   BIC:                            -62.39\n",
      "Df Model:                           1                                         \n",
      "Covariance Type:            nonrobust                                         \n",
      "=================================================================================\n",
      "                    coef    std err          t      P>|t|      [0.025      0.975]\n",
      "---------------------------------------------------------------------------------\n",
      "const             0.0696      0.021      3.356      0.001       0.029       0.110\n",
      "ipca_variacao     0.8628      0.032     27.191      0.000       0.800       0.925\n",
      "==============================================================================\n",
      "Omnibus:                       72.726   Durbin-Watson:                   2.510\n",
      "Prob(Omnibus):                  0.000   Jarque-Bera (JB):              322.999\n",
      "Skew:                           1.013   Prob(JB):                     7.27e-71\n",
      "Kurtosis:                       7.929   Cond. No.                         3.22\n",
      "==============================================================================\n",
      "\n",
      "Notes:\n",
      "[1] Standard Errors assume that the covariance matrix of the errors is correctly specified.\n"
     ]
    }
   ],
   "source": [
    "X = ipca_variacao\n",
    "y = ipca15_variacao\n",
    "X2 = sm.add_constant(X)\n",
    "est = sm.OLS(y, X2)\n",
    "est2 = est.fit()\n",
    "print(est2.summary())"
   ]
  },
  {
   "cell_type": "markdown",
   "id": "b996e459",
   "metadata": {},
   "source": [
    "#### Resultado do Modelo\n",
    "O R2 é de 0.732.\n",
    "Isso significa que 73% do comportamento da variável `ipca_variacao` é explicado pela variável `ipca15_variacao`.\n",
    "Nosso p-valor é de 0.001. Isso significa que `não`podemos aceitar a hipótese nula. Se o mesmo estivesse alto, aceitariamos a hipótese nula e chegariamos a conclusão de que os dados  são bons o suficiente para gerar um modelo bom."
   ]
  },
  {
   "cell_type": "markdown",
   "id": "aa5d8a49",
   "metadata": {},
   "source": [
    "Gerada a melhor reta de regressão, podemos começar a fazer as perguntas para o modelo. "
   ]
  },
  {
   "cell_type": "markdown",
   "id": "441cec9d",
   "metadata": {},
   "source": [
    "#### Qual será a o IPCA do mês quando o IPCA15 for de 0.6?"
   ]
  },
  {
   "cell_type": "code",
   "execution_count": 32,
   "id": "ffc826b5",
   "metadata": {
    "ExecuteTime": {
     "end_time": "2022-12-19T18:08:44.711773Z",
     "start_time": "2022-12-19T18:08:44.678083Z"
    }
   },
   "outputs": [
    {
     "data": {
      "text/plain": [
       "array([[0.58756365]])"
      ]
     },
     "execution_count": 32,
     "metadata": {},
     "output_type": "execute_result"
    }
   ],
   "source": [
    "reg.predict([[0.6]])"
   ]
  },
  {
   "cell_type": "markdown",
   "id": "61aedb9b",
   "metadata": {},
   "source": [
    "#### Qual será o IPCA do mês quando o IPCA15 for de 1.99%?"
   ]
  },
  {
   "cell_type": "code",
   "execution_count": 33,
   "id": "3a8f9911",
   "metadata": {
    "ExecuteTime": {
     "end_time": "2022-12-19T18:08:44.753671Z",
     "start_time": "2022-12-19T18:08:44.723907Z"
    }
   },
   "outputs": [
    {
     "data": {
      "text/plain": [
       "array([[1.76642832]])"
      ]
     },
     "execution_count": 33,
     "metadata": {},
     "output_type": "execute_result"
    }
   ],
   "source": [
    "reg.predict([[1.99]])"
   ]
  },
  {
   "cell_type": "markdown",
   "id": "bd59b11a",
   "metadata": {},
   "source": [
    "#### Qual será o IPCA do mês quando o IPCA15 for de 0.53%?"
   ]
  },
  {
   "cell_type": "code",
   "execution_count": 34,
   "id": "7e14924a",
   "metadata": {
    "ExecuteTime": {
     "end_time": "2022-12-19T18:08:44.791622Z",
     "start_time": "2022-12-19T18:08:44.767029Z"
    }
   },
   "outputs": [
    {
     "data": {
      "text/plain": [
       "array([[0.52819637]])"
      ]
     },
     "execution_count": 34,
     "metadata": {},
     "output_type": "execute_result"
    }
   ],
   "source": [
    "reg.predict([[0.53]])"
   ]
  },
  {
   "cell_type": "markdown",
   "id": "7576a8e9",
   "metadata": {},
   "source": [
    "## Visualizar os residuais"
   ]
  },
  {
   "cell_type": "code",
   "execution_count": 35,
   "id": "0f6a5701",
   "metadata": {
    "scrolled": true
   },
   "outputs": [
    {
     "data": {
      "image/png": "[encoded data removed]",
      "text/plain": [
       "<Figure size 800x550 with 2 Axes>"
      ]
     },
     "metadata": {},
     "output_type": "display_data"
    }
   ],
   "source": [
    "visualizador = ResidualsPlot(reg)\n",
    "visualizador.fit(ipca_variacao.values.reshape(-1, 1), ipca15_variacao.values.reshape(-1, 1))\n",
    "visualizador.poof();"
   ]
  },
  {
   "cell_type": "markdown",
   "id": "436f97d2",
   "metadata": {},
   "source": [
    "# Treinando e ajustando o modelo de regressão"
   ]
  },
  {
   "cell_type": "code",
   "execution_count": 36,
   "id": "31be4be5",
   "metadata": {},
   "outputs": [],
   "source": [
    "df = pd.read_csv(\"datasets/inflacao.csv\")"
   ]
  },
  {
   "cell_type": "code",
   "execution_count": 37,
   "id": "0f4ad645",
   "metadata": {
    "scrolled": true
   },
   "outputs": [
    {
     "data": {
      "text/html": [
       "<div>\n",
       "<style scoped>\n",
       "    .dataframe tbody tr th:only-of-type {\n",
       "        vertical-align: middle;\n",
       "    }\n",
       "\n",
       "    .dataframe tbody tr th {\n",
       "        vertical-align: top;\n",
       "    }\n",
       "\n",
       "    .dataframe thead th {\n",
       "        text-align: right;\n",
       "    }\n",
       "</style>\n",
       "<table border=\"1\" class=\"dataframe\">\n",
       "  <thead>\n",
       "    <tr style=\"text-align: right;\">\n",
       "      <th></th>\n",
       "      <th>referencia</th>\n",
       "      <th>ano</th>\n",
       "      <th>mes</th>\n",
       "      <th>ano_mes</th>\n",
       "      <th>ipca_variacao</th>\n",
       "      <th>ipca_acumulado_ano</th>\n",
       "      <th>ipca_acumulado_doze_meses</th>\n",
       "      <th>ipca15_variacao</th>\n",
       "      <th>ipca15_acumulado_ano</th>\n",
       "      <th>ipca15_acumulado_doze_meses</th>\n",
       "      <th>...</th>\n",
       "      <th>ipa_variacao</th>\n",
       "      <th>ipa_acumulado_ano</th>\n",
       "      <th>ipc_fipe_variacao</th>\n",
       "      <th>ipc_fipe_acumulado_ano</th>\n",
       "      <th>incc_variacao</th>\n",
       "      <th>incc_acumulado_ano</th>\n",
       "      <th>incc_m_variacao</th>\n",
       "      <th>incc_m_acumulado_ano</th>\n",
       "      <th>salario_minimo</th>\n",
       "      <th>consolidado_ano</th>\n",
       "    </tr>\n",
       "  </thead>\n",
       "  <tbody>\n",
       "    <tr>\n",
       "      <th>0</th>\n",
       "      <td>1980-01</td>\n",
       "      <td>1980</td>\n",
       "      <td>1</td>\n",
       "      <td>198001</td>\n",
       "      <td>6.62</td>\n",
       "      <td>6.62</td>\n",
       "      <td>0.0</td>\n",
       "      <td>0.0</td>\n",
       "      <td>0.0</td>\n",
       "      <td>0.0</td>\n",
       "      <td>...</td>\n",
       "      <td>7.31</td>\n",
       "      <td>7.31</td>\n",
       "      <td>4.48</td>\n",
       "      <td>4.48</td>\n",
       "      <td>4.70</td>\n",
       "      <td>4.70</td>\n",
       "      <td>0.0</td>\n",
       "      <td>0.0</td>\n",
       "      <td>2932.8</td>\n",
       "      <td>False</td>\n",
       "    </tr>\n",
       "    <tr>\n",
       "      <th>1</th>\n",
       "      <td>1980-02</td>\n",
       "      <td>1980</td>\n",
       "      <td>2</td>\n",
       "      <td>198002</td>\n",
       "      <td>4.62</td>\n",
       "      <td>11.54</td>\n",
       "      <td>0.0</td>\n",
       "      <td>0.0</td>\n",
       "      <td>0.0</td>\n",
       "      <td>0.0</td>\n",
       "      <td>...</td>\n",
       "      <td>3.69</td>\n",
       "      <td>11.00</td>\n",
       "      <td>3.35</td>\n",
       "      <td>7.83</td>\n",
       "      <td>9.53</td>\n",
       "      <td>14.23</td>\n",
       "      <td>0.0</td>\n",
       "      <td>0.0</td>\n",
       "      <td>2932.8</td>\n",
       "      <td>False</td>\n",
       "    </tr>\n",
       "    <tr>\n",
       "      <th>2</th>\n",
       "      <td>1980-03</td>\n",
       "      <td>1980</td>\n",
       "      <td>3</td>\n",
       "      <td>198003</td>\n",
       "      <td>6.04</td>\n",
       "      <td>18.27</td>\n",
       "      <td>0.0</td>\n",
       "      <td>0.0</td>\n",
       "      <td>0.0</td>\n",
       "      <td>0.0</td>\n",
       "      <td>...</td>\n",
       "      <td>6.32</td>\n",
       "      <td>17.32</td>\n",
       "      <td>4.34</td>\n",
       "      <td>12.17</td>\n",
       "      <td>12.80</td>\n",
       "      <td>27.03</td>\n",
       "      <td>0.0</td>\n",
       "      <td>0.0</td>\n",
       "      <td>2932.8</td>\n",
       "      <td>False</td>\n",
       "    </tr>\n",
       "    <tr>\n",
       "      <th>3</th>\n",
       "      <td>1980-04</td>\n",
       "      <td>1980</td>\n",
       "      <td>4</td>\n",
       "      <td>198004</td>\n",
       "      <td>5.29</td>\n",
       "      <td>24.53</td>\n",
       "      <td>0.0</td>\n",
       "      <td>0.0</td>\n",
       "      <td>0.0</td>\n",
       "      <td>0.0</td>\n",
       "      <td>...</td>\n",
       "      <td>6.69</td>\n",
       "      <td>24.01</td>\n",
       "      <td>3.93</td>\n",
       "      <td>16.10</td>\n",
       "      <td>3.13</td>\n",
       "      <td>30.16</td>\n",
       "      <td>0.0</td>\n",
       "      <td>0.0</td>\n",
       "      <td>2932.8</td>\n",
       "      <td>False</td>\n",
       "    </tr>\n",
       "    <tr>\n",
       "      <th>4</th>\n",
       "      <td>1980-05</td>\n",
       "      <td>1980</td>\n",
       "      <td>5</td>\n",
       "      <td>198005</td>\n",
       "      <td>5.70</td>\n",
       "      <td>31.63</td>\n",
       "      <td>0.0</td>\n",
       "      <td>0.0</td>\n",
       "      <td>0.0</td>\n",
       "      <td>0.0</td>\n",
       "      <td>...</td>\n",
       "      <td>7.32</td>\n",
       "      <td>31.33</td>\n",
       "      <td>6.52</td>\n",
       "      <td>22.62</td>\n",
       "      <td>4.86</td>\n",
       "      <td>35.02</td>\n",
       "      <td>0.0</td>\n",
       "      <td>0.0</td>\n",
       "      <td>4149.6</td>\n",
       "      <td>False</td>\n",
       "    </tr>\n",
       "  </tbody>\n",
       "</table>\n",
       "<p>5 rows × 23 columns</p>\n",
       "</div>"
      ],
      "text/plain": [
       "  referencia   ano  mes  ano_mes  ipca_variacao  ipca_acumulado_ano  \\\n",
       "0    1980-01  1980    1   198001           6.62                6.62   \n",
       "1    1980-02  1980    2   198002           4.62               11.54   \n",
       "2    1980-03  1980    3   198003           6.04               18.27   \n",
       "3    1980-04  1980    4   198004           5.29               24.53   \n",
       "4    1980-05  1980    5   198005           5.70               31.63   \n",
       "\n",
       "   ipca_acumulado_doze_meses  ipca15_variacao  ipca15_acumulado_ano  \\\n",
       "0                        0.0              0.0                   0.0   \n",
       "1                        0.0              0.0                   0.0   \n",
       "2                        0.0              0.0                   0.0   \n",
       "3                        0.0              0.0                   0.0   \n",
       "4                        0.0              0.0                   0.0   \n",
       "\n",
       "   ipca15_acumulado_doze_meses  ...  ipa_variacao  ipa_acumulado_ano  \\\n",
       "0                          0.0  ...          7.31               7.31   \n",
       "1                          0.0  ...          3.69              11.00   \n",
       "2                          0.0  ...          6.32              17.32   \n",
       "3                          0.0  ...          6.69              24.01   \n",
       "4                          0.0  ...          7.32              31.33   \n",
       "\n",
       "   ipc_fipe_variacao  ipc_fipe_acumulado_ano  incc_variacao  \\\n",
       "0               4.48                    4.48           4.70   \n",
       "1               3.35                    7.83           9.53   \n",
       "2               4.34                   12.17          12.80   \n",
       "3               3.93                   16.10           3.13   \n",
       "4               6.52                   22.62           4.86   \n",
       "\n",
       "   incc_acumulado_ano  incc_m_variacao  incc_m_acumulado_ano  salario_minimo  \\\n",
       "0                4.70              0.0                   0.0          2932.8   \n",
       "1               14.23              0.0                   0.0          2932.8   \n",
       "2               27.03              0.0                   0.0          2932.8   \n",
       "3               30.16              0.0                   0.0          2932.8   \n",
       "4               35.02              0.0                   0.0          4149.6   \n",
       "\n",
       "   consolidado_ano  \n",
       "0            False  \n",
       "1            False  \n",
       "2            False  \n",
       "3            False  \n",
       "4            False  \n",
       "\n",
       "[5 rows x 23 columns]"
      ]
     },
     "execution_count": 37,
     "metadata": {},
     "output_type": "execute_result"
    }
   ],
   "source": [
    "df.head()"
   ]
  },
  {
   "cell_type": "code",
   "execution_count": 38,
   "id": "a16c3617",
   "metadata": {},
   "outputs": [],
   "source": [
    "cols = ['ipca_variacao', 'ipca15_variacao']\n",
    "df_corr = df[cols]"
   ]
  },
  {
   "cell_type": "code",
   "execution_count": 39,
   "id": "d3c5c597",
   "metadata": {},
   "outputs": [
    {
     "data": {
      "text/plain": [
       "(517, 2)"
      ]
     },
     "execution_count": 39,
     "metadata": {},
     "output_type": "execute_result"
    }
   ],
   "source": [
    "df_corr.shape"
   ]
  },
  {
   "cell_type": "code",
   "execution_count": 40,
   "id": "a89f4464",
   "metadata": {},
   "outputs": [
    {
     "data": {
      "text/html": [
       "<div>\n",
       "<style scoped>\n",
       "    .dataframe tbody tr th:only-of-type {\n",
       "        vertical-align: middle;\n",
       "    }\n",
       "\n",
       "    .dataframe tbody tr th {\n",
       "        vertical-align: top;\n",
       "    }\n",
       "\n",
       "    .dataframe thead th {\n",
       "        text-align: right;\n",
       "    }\n",
       "</style>\n",
       "<table border=\"1\" class=\"dataframe\">\n",
       "  <thead>\n",
       "    <tr style=\"text-align: right;\">\n",
       "      <th></th>\n",
       "      <th>ipca_variacao</th>\n",
       "      <th>ipca15_variacao</th>\n",
       "    </tr>\n",
       "  </thead>\n",
       "  <tbody>\n",
       "    <tr>\n",
       "      <th>0</th>\n",
       "      <td>6.62</td>\n",
       "      <td>0.0</td>\n",
       "    </tr>\n",
       "    <tr>\n",
       "      <th>1</th>\n",
       "      <td>4.62</td>\n",
       "      <td>0.0</td>\n",
       "    </tr>\n",
       "    <tr>\n",
       "      <th>2</th>\n",
       "      <td>6.04</td>\n",
       "      <td>0.0</td>\n",
       "    </tr>\n",
       "    <tr>\n",
       "      <th>3</th>\n",
       "      <td>5.29</td>\n",
       "      <td>0.0</td>\n",
       "    </tr>\n",
       "    <tr>\n",
       "      <th>4</th>\n",
       "      <td>5.70</td>\n",
       "      <td>0.0</td>\n",
       "    </tr>\n",
       "  </tbody>\n",
       "</table>\n",
       "</div>"
      ],
      "text/plain": [
       "   ipca_variacao  ipca15_variacao\n",
       "0           6.62              0.0\n",
       "1           4.62              0.0\n",
       "2           6.04              0.0\n",
       "3           5.29              0.0\n",
       "4           5.70              0.0"
      ]
     },
     "execution_count": 40,
     "metadata": {},
     "output_type": "execute_result"
    }
   ],
   "source": [
    "df_corr.head(5)"
   ]
  },
  {
   "cell_type": "code",
   "execution_count": 41,
   "id": "27727239",
   "metadata": {
    "scrolled": false
   },
   "outputs": [
    {
     "data": {
      "text/plain": [
       "PearsonRResult(statistic=-0.32767181753181174, pvalue=2.0975681392103156e-14)"
      ]
     },
     "execution_count": 41,
     "metadata": {},
     "output_type": "execute_result"
    }
   ],
   "source": [
    "stats.pearsonr(df_corr['ipca_variacao'], df_corr['ipca15_variacao'])"
   ]
  },
  {
   "cell_type": "markdown",
   "id": "803f2907",
   "metadata": {},
   "source": [
    "* 32% de correlação entre ipca e ipca15\n",
    "* Necessário ajustes para melhorar a performance do modelo"
   ]
  },
  {
   "cell_type": "markdown",
   "id": "b85703c6",
   "metadata": {},
   "source": [
    "## Ignorando os zeros do dataframe"
   ]
  },
  {
   "cell_type": "code",
   "execution_count": 42,
   "id": "4306deec",
   "metadata": {
    "scrolled": true
   },
   "outputs": [],
   "source": [
    "#df_corr[cols] = df_corr[cols].mask(df_corr[cols].eq(0).all(axis=1))"
   ]
  },
  {
   "cell_type": "code",
   "execution_count": 79,
   "id": "3e62f0cf",
   "metadata": {},
   "outputs": [],
   "source": [
    "df_corr.loc[df_corr['ipca15_variacao'] == 0, 'ipca15_variacao'] = np.nan"
   ]
  },
  {
   "cell_type": "code",
   "execution_count": 44,
   "id": "efb01c93",
   "metadata": {},
   "outputs": [
    {
     "data": {
      "text/plain": [
       "(517, 2)"
      ]
     },
     "execution_count": 44,
     "metadata": {},
     "output_type": "execute_result"
    }
   ],
   "source": [
    "df_corr.shape"
   ]
  },
  {
   "cell_type": "code",
   "execution_count": 45,
   "id": "ec51469e",
   "metadata": {},
   "outputs": [
    {
     "data": {
      "text/html": [
       "<div>\n",
       "<style scoped>\n",
       "    .dataframe tbody tr th:only-of-type {\n",
       "        vertical-align: middle;\n",
       "    }\n",
       "\n",
       "    .dataframe tbody tr th {\n",
       "        vertical-align: top;\n",
       "    }\n",
       "\n",
       "    .dataframe thead th {\n",
       "        text-align: right;\n",
       "    }\n",
       "</style>\n",
       "<table border=\"1\" class=\"dataframe\">\n",
       "  <thead>\n",
       "    <tr style=\"text-align: right;\">\n",
       "      <th></th>\n",
       "      <th>ipca_variacao</th>\n",
       "      <th>ipca15_variacao</th>\n",
       "    </tr>\n",
       "  </thead>\n",
       "  <tbody>\n",
       "    <tr>\n",
       "      <th>0</th>\n",
       "      <td>6.62</td>\n",
       "      <td>NaN</td>\n",
       "    </tr>\n",
       "    <tr>\n",
       "      <th>1</th>\n",
       "      <td>4.62</td>\n",
       "      <td>NaN</td>\n",
       "    </tr>\n",
       "    <tr>\n",
       "      <th>2</th>\n",
       "      <td>6.04</td>\n",
       "      <td>NaN</td>\n",
       "    </tr>\n",
       "    <tr>\n",
       "      <th>3</th>\n",
       "      <td>5.29</td>\n",
       "      <td>NaN</td>\n",
       "    </tr>\n",
       "    <tr>\n",
       "      <th>4</th>\n",
       "      <td>5.70</td>\n",
       "      <td>NaN</td>\n",
       "    </tr>\n",
       "  </tbody>\n",
       "</table>\n",
       "</div>"
      ],
      "text/plain": [
       "   ipca_variacao  ipca15_variacao\n",
       "0           6.62              NaN\n",
       "1           4.62              NaN\n",
       "2           6.04              NaN\n",
       "3           5.29              NaN\n",
       "4           5.70              NaN"
      ]
     },
     "execution_count": 45,
     "metadata": {},
     "output_type": "execute_result"
    }
   ],
   "source": [
    "df_corr.head(5)"
   ]
  },
  {
   "cell_type": "code",
   "execution_count": 46,
   "id": "881a2283",
   "metadata": {},
   "outputs": [],
   "source": [
    "df_corr = df_corr.dropna()"
   ]
  },
  {
   "cell_type": "code",
   "execution_count": 47,
   "id": "60637817",
   "metadata": {},
   "outputs": [
    {
     "data": {
      "text/plain": [
       "(273, 2)"
      ]
     },
     "execution_count": 47,
     "metadata": {},
     "output_type": "execute_result"
    }
   ],
   "source": [
    "df_corr.shape"
   ]
  },
  {
   "cell_type": "code",
   "execution_count": 48,
   "id": "5826fea2",
   "metadata": {
    "scrolled": false
   },
   "outputs": [
    {
     "data": {
      "text/html": [
       "<div>\n",
       "<style scoped>\n",
       "    .dataframe tbody tr th:only-of-type {\n",
       "        vertical-align: middle;\n",
       "    }\n",
       "\n",
       "    .dataframe tbody tr th {\n",
       "        vertical-align: top;\n",
       "    }\n",
       "\n",
       "    .dataframe thead th {\n",
       "        text-align: right;\n",
       "    }\n",
       "</style>\n",
       "<table border=\"1\" class=\"dataframe\">\n",
       "  <thead>\n",
       "    <tr style=\"text-align: right;\">\n",
       "      <th></th>\n",
       "      <th>ipca_variacao</th>\n",
       "      <th>ipca15_variacao</th>\n",
       "    </tr>\n",
       "  </thead>\n",
       "  <tbody>\n",
       "    <tr>\n",
       "      <th>244</th>\n",
       "      <td>0.01</td>\n",
       "      <td>0.09</td>\n",
       "    </tr>\n",
       "    <tr>\n",
       "      <th>245</th>\n",
       "      <td>0.23</td>\n",
       "      <td>0.08</td>\n",
       "    </tr>\n",
       "    <tr>\n",
       "      <th>246</th>\n",
       "      <td>1.61</td>\n",
       "      <td>0.78</td>\n",
       "    </tr>\n",
       "    <tr>\n",
       "      <th>247</th>\n",
       "      <td>1.31</td>\n",
       "      <td>1.99</td>\n",
       "    </tr>\n",
       "    <tr>\n",
       "      <th>248</th>\n",
       "      <td>0.23</td>\n",
       "      <td>0.45</td>\n",
       "    </tr>\n",
       "  </tbody>\n",
       "</table>\n",
       "</div>"
      ],
      "text/plain": [
       "     ipca_variacao  ipca15_variacao\n",
       "244           0.01             0.09\n",
       "245           0.23             0.08\n",
       "246           1.61             0.78\n",
       "247           1.31             1.99\n",
       "248           0.23             0.45"
      ]
     },
     "execution_count": 48,
     "metadata": {},
     "output_type": "execute_result"
    }
   ],
   "source": [
    "df_corr.head(5)"
   ]
  },
  {
   "cell_type": "markdown",
   "id": "048713be",
   "metadata": {},
   "source": [
    "#### Teste da Correlação de Pearson a partir dos dados filtrados"
   ]
  },
  {
   "cell_type": "code",
   "execution_count": 49,
   "id": "01d14d99",
   "metadata": {
    "scrolled": true
   },
   "outputs": [
    {
     "data": {
      "text/plain": [
       "PearsonRResult(statistic=0.8554422130520657, pvalue=2.0536769849515574e-79)"
      ]
     },
     "execution_count": 49,
     "metadata": {},
     "output_type": "execute_result"
    }
   ],
   "source": [
    "stats.pearsonr(df_corr['ipca_variacao'], df_corr['ipca15_variacao'])"
   ]
  },
  {
   "cell_type": "markdown",
   "id": "2f77e381",
   "metadata": {},
   "source": [
    "* Conseguimos melhorar a estatística de correlação `Pearson` de `32%` para `85%` ignorando os dados sem valor utilizável"
   ]
  },
  {
   "cell_type": "markdown",
   "id": "74f69a20",
   "metadata": {},
   "source": [
    "## Criando dataset de treino x teste"
   ]
  },
  {
   "cell_type": "code",
   "execution_count": 50,
   "id": "9924aa20",
   "metadata": {},
   "outputs": [],
   "source": [
    "X = df_corr['ipca15_variacao'].values.reshape(-1, 1)"
   ]
  },
  {
   "cell_type": "code",
   "execution_count": 51,
   "id": "cabb3e0d",
   "metadata": {},
   "outputs": [],
   "source": [
    "y = df_corr['ipca_variacao'].values.reshape(-1, 1)"
   ]
  },
  {
   "cell_type": "code",
   "execution_count": 52,
   "id": "c0a15ffb",
   "metadata": {},
   "outputs": [],
   "source": [
    "X_train, X_test, y_train, y_test = train_test_split(X, y, test_size = 0.2, random_state = 0)"
   ]
  },
  {
   "cell_type": "code",
   "execution_count": 53,
   "id": "5da99047",
   "metadata": {},
   "outputs": [
    {
     "data": {
      "text/plain": [
       "(218, 1)"
      ]
     },
     "execution_count": 53,
     "metadata": {},
     "output_type": "execute_result"
    }
   ],
   "source": [
    "X_train.shape"
   ]
  },
  {
   "cell_type": "code",
   "execution_count": 54,
   "id": "b334466e",
   "metadata": {
    "scrolled": true
   },
   "outputs": [
    {
     "data": {
      "text/plain": [
       "(55, 1)"
      ]
     },
     "execution_count": 54,
     "metadata": {},
     "output_type": "execute_result"
    }
   ],
   "source": [
    "X_test.shape"
   ]
  },
  {
   "cell_type": "markdown",
   "id": "2a5786e8",
   "metadata": {},
   "source": [
    "## Treinando o modelo de regressão"
   ]
  },
  {
   "cell_type": "code",
   "execution_count": 55,
   "id": "a9cdb491",
   "metadata": {},
   "outputs": [],
   "source": [
    "regressor = LinearRegression()"
   ]
  },
  {
   "cell_type": "code",
   "execution_count": 56,
   "id": "5937acdb",
   "metadata": {},
   "outputs": [
    {
     "data": {
      "text/html": [
       "<style>#sk-container-id-2 {color: black;background-color: white;}#sk-container-id-2 pre{padding: 0;}#sk-container-id-2 div.sk-toggleable {background-color: white;}#sk-container-id-2 label.sk-toggleable__label {cursor: pointer;display: block;width: 100%;margin-bottom: 0;padding: 0.3em;box-sizing: border-box;text-align: center;}#sk-container-id-2 label.sk-toggleable__label-arrow:before {content: \"▸\";float: left;margin-right: 0.25em;color: #696969;}#sk-container-id-2 label.sk-toggleable__label-arrow:hover:before {color: black;}#sk-container-id-2 div.sk-estimator:hover label.sk-toggleable__label-arrow:before {color: black;}#sk-container-id-2 div.sk-toggleable__content {max-height: 0;max-width: 0;overflow: hidden;text-align: left;background-color: #f0f8ff;}#sk-container-id-2 div.sk-toggleable__content pre {margin: 0.2em;color: black;border-radius: 0.25em;background-color: #f0f8ff;}#sk-container-id-2 input.sk-toggleable__control:checked~div.sk-toggleable__content {max-height: 200px;max-width: 100%;overflow: auto;}#sk-container-id-2 input.sk-toggleable__control:checked~label.sk-toggleable__label-arrow:before {content: \"▾\";}#sk-container-id-2 div.sk-estimator input.sk-toggleable__control:checked~label.sk-toggleable__label {background-color: #d4ebff;}#sk-container-id-2 div.sk-label input.sk-toggleable__control:checked~label.sk-toggleable__label {background-color: #d4ebff;}#sk-container-id-2 input.sk-hidden--visually {border: 0;clip: rect(1px 1px 1px 1px);clip: rect(1px, 1px, 1px, 1px);height: 1px;margin: -1px;overflow: hidden;padding: 0;position: absolute;width: 1px;}#sk-container-id-2 div.sk-estimator {font-family: monospace;background-color: #f0f8ff;border: 1px dotted black;border-radius: 0.25em;box-sizing: border-box;margin-bottom: 0.5em;}#sk-container-id-2 div.sk-estimator:hover {background-color: #d4ebff;}#sk-container-id-2 div.sk-parallel-item::after {content: \"\";width: 100%;border-bottom: 1px solid gray;flex-grow: 1;}#sk-container-id-2 div.sk-label:hover label.sk-toggleable__label {background-color: #d4ebff;}#sk-container-id-2 div.sk-serial::before {content: \"\";position: absolute;border-left: 1px solid gray;box-sizing: border-box;top: 0;bottom: 0;left: 50%;z-index: 0;}#sk-container-id-2 div.sk-serial {display: flex;flex-direction: column;align-items: center;background-color: white;padding-right: 0.2em;padding-left: 0.2em;position: relative;}#sk-container-id-2 div.sk-item {position: relative;z-index: 1;}#sk-container-id-2 div.sk-parallel {display: flex;align-items: stretch;justify-content: center;background-color: white;position: relative;}#sk-container-id-2 div.sk-item::before, #sk-container-id-2 div.sk-parallel-item::before {content: \"\";position: absolute;border-left: 1px solid gray;box-sizing: border-box;top: 0;bottom: 0;left: 50%;z-index: -1;}#sk-container-id-2 div.sk-parallel-item {display: flex;flex-direction: column;z-index: 1;position: relative;background-color: white;}#sk-container-id-2 div.sk-parallel-item:first-child::after {align-self: flex-end;width: 50%;}#sk-container-id-2 div.sk-parallel-item:last-child::after {align-self: flex-start;width: 50%;}#sk-container-id-2 div.sk-parallel-item:only-child::after {width: 0;}#sk-container-id-2 div.sk-dashed-wrapped {border: 1px dashed gray;margin: 0 0.4em 0.5em 0.4em;box-sizing: border-box;padding-bottom: 0.4em;background-color: white;}#sk-container-id-2 div.sk-label label {font-family: monospace;font-weight: bold;display: inline-block;line-height: 1.2em;}#sk-container-id-2 div.sk-label-container {text-align: center;}#sk-container-id-2 div.sk-container {/* jupyter's `normalize.less` sets `[hidden] { display: none; }` but bootstrap.min.css set `[hidden] { display: none !important; }` so we also need the `!important` here to be able to override the default hidden behavior on the sphinx rendered scikit-learn.org. See: https://github.com/scikit-learn/scikit-learn/issues/21755 */display: inline-block !important;position: relative;}#sk-container-id-2 div.sk-text-repr-fallback {display: none;}</style><div id=\"sk-container-id-2\" class=\"sk-top-container\"><div class=\"sk-text-repr-fallback\"><pre>LinearRegression()</pre><b>In a Jupyter environment, please rerun this cell to show the HTML representation or trust the notebook. <br />On GitHub, the HTML representation is unable to render, please try loading this page with nbviewer.org.</b></div><div class=\"sk-container\" hidden><div class=\"sk-item\"><div class=\"sk-estimator sk-toggleable\"><input class=\"sk-toggleable__control sk-hidden--visually\" id=\"sk-estimator-id-2\" type=\"checkbox\" checked><label for=\"sk-estimator-id-2\" class=\"sk-toggleable__label sk-toggleable__label-arrow\">LinearRegression</label><div class=\"sk-toggleable__content\"><pre>LinearRegression()</pre></div></div></div></div></div>"
      ],
      "text/plain": [
       "LinearRegression()"
      ]
     },
     "execution_count": 56,
     "metadata": {},
     "output_type": "execute_result"
    }
   ],
   "source": [
    "regressor.fit(X_train, y_train)"
   ]
  },
  {
   "cell_type": "code",
   "execution_count": 57,
   "id": "7bb02621",
   "metadata": {},
   "outputs": [
    {
     "data": {
      "text/plain": [
       "array([0.07271394])"
      ]
     },
     "execution_count": 57,
     "metadata": {},
     "output_type": "execute_result"
    }
   ],
   "source": [
    "regressor.intercept_"
   ]
  },
  {
   "cell_type": "code",
   "execution_count": 58,
   "id": "f101a649",
   "metadata": {},
   "outputs": [
    {
     "data": {
      "text/plain": [
       "array([[0.8684672]])"
      ]
     },
     "execution_count": 58,
     "metadata": {},
     "output_type": "execute_result"
    }
   ],
   "source": [
    "regressor.coef_"
   ]
  },
  {
   "cell_type": "markdown",
   "id": "25a60931",
   "metadata": {},
   "source": [
    "## Teste do Modelo"
   ]
  },
  {
   "cell_type": "code",
   "execution_count": 59,
   "id": "c460f2c5",
   "metadata": {},
   "outputs": [],
   "source": [
    "y_pred = regressor.predict(X_test)"
   ]
  },
  {
   "cell_type": "code",
   "execution_count": 60,
   "id": "d6a5c421",
   "metadata": {},
   "outputs": [],
   "source": [
    "df_preds = pd.DataFrame({'Valor Real': y_test.squeeze(), 'Predicted': y_pred.squeeze()})"
   ]
  },
  {
   "cell_type": "code",
   "execution_count": 61,
   "id": "3d6c75fb",
   "metadata": {},
   "outputs": [
    {
     "data": {
      "text/html": [
       "<div>\n",
       "<style scoped>\n",
       "    .dataframe tbody tr th:only-of-type {\n",
       "        vertical-align: middle;\n",
       "    }\n",
       "\n",
       "    .dataframe tbody tr th {\n",
       "        vertical-align: top;\n",
       "    }\n",
       "\n",
       "    .dataframe thead th {\n",
       "        text-align: right;\n",
       "    }\n",
       "</style>\n",
       "<table border=\"1\" class=\"dataframe\">\n",
       "  <thead>\n",
       "    <tr style=\"text-align: right;\">\n",
       "      <th></th>\n",
       "      <th>Valor Real</th>\n",
       "      <th>Predicted</th>\n",
       "    </tr>\n",
       "  </thead>\n",
       "  <tbody>\n",
       "    <tr>\n",
       "      <th>0</th>\n",
       "      <td>0.33</td>\n",
       "      <td>0.628533</td>\n",
       "    </tr>\n",
       "    <tr>\n",
       "      <th>1</th>\n",
       "      <td>0.73</td>\n",
       "      <td>0.750118</td>\n",
       "    </tr>\n",
       "    <tr>\n",
       "      <th>2</th>\n",
       "      <td>0.43</td>\n",
       "      <td>0.367993</td>\n",
       "    </tr>\n",
       "    <tr>\n",
       "      <th>3</th>\n",
       "      <td>0.15</td>\n",
       "      <td>0.272461</td>\n",
       "    </tr>\n",
       "    <tr>\n",
       "      <th>4</th>\n",
       "      <td>1.32</td>\n",
       "      <td>1.149613</td>\n",
       "    </tr>\n",
       "    <tr>\n",
       "      <th>5</th>\n",
       "      <td>0.57</td>\n",
       "      <td>0.489578</td>\n",
       "    </tr>\n",
       "    <tr>\n",
       "      <th>6</th>\n",
       "      <td>0.30</td>\n",
       "      <td>0.281146</td>\n",
       "    </tr>\n",
       "    <tr>\n",
       "      <th>7</th>\n",
       "      <td>0.48</td>\n",
       "      <td>0.150876</td>\n",
       "    </tr>\n",
       "    <tr>\n",
       "      <th>8</th>\n",
       "      <td>0.86</td>\n",
       "      <td>0.802226</td>\n",
       "    </tr>\n",
       "    <tr>\n",
       "      <th>9</th>\n",
       "      <td>0.18</td>\n",
       "      <td>0.298515</td>\n",
       "    </tr>\n",
       "    <tr>\n",
       "      <th>10</th>\n",
       "      <td>0.67</td>\n",
       "      <td>0.671956</td>\n",
       "    </tr>\n",
       "    <tr>\n",
       "      <th>11</th>\n",
       "      <td>-0.36</td>\n",
       "      <td>-0.561267</td>\n",
       "    </tr>\n",
       "    <tr>\n",
       "      <th>12</th>\n",
       "      <td>0.28</td>\n",
       "      <td>0.350623</td>\n",
       "    </tr>\n",
       "    <tr>\n",
       "      <th>13</th>\n",
       "      <td>0.83</td>\n",
       "      <td>0.819596</td>\n",
       "    </tr>\n",
       "    <tr>\n",
       "      <th>14</th>\n",
       "      <td>0.74</td>\n",
       "      <td>0.854334</td>\n",
       "    </tr>\n",
       "    <tr>\n",
       "      <th>15</th>\n",
       "      <td>0.70</td>\n",
       "      <td>1.097505</td>\n",
       "    </tr>\n",
       "    <tr>\n",
       "      <th>16</th>\n",
       "      <td>0.57</td>\n",
       "      <td>0.619848</td>\n",
       "    </tr>\n",
       "    <tr>\n",
       "      <th>17</th>\n",
       "      <td>0.86</td>\n",
       "      <td>0.836965</td>\n",
       "    </tr>\n",
       "    <tr>\n",
       "      <th>18</th>\n",
       "      <td>0.87</td>\n",
       "      <td>0.715380</td>\n",
       "    </tr>\n",
       "    <tr>\n",
       "      <th>19</th>\n",
       "      <td>0.07</td>\n",
       "      <td>0.090083</td>\n",
       "    </tr>\n",
       "  </tbody>\n",
       "</table>\n",
       "</div>"
      ],
      "text/plain": [
       "    Valor Real  Predicted\n",
       "0         0.33   0.628533\n",
       "1         0.73   0.750118\n",
       "2         0.43   0.367993\n",
       "3         0.15   0.272461\n",
       "4         1.32   1.149613\n",
       "5         0.57   0.489578\n",
       "6         0.30   0.281146\n",
       "7         0.48   0.150876\n",
       "8         0.86   0.802226\n",
       "9         0.18   0.298515\n",
       "10        0.67   0.671956\n",
       "11       -0.36  -0.561267\n",
       "12        0.28   0.350623\n",
       "13        0.83   0.819596\n",
       "14        0.74   0.854334\n",
       "15        0.70   1.097505\n",
       "16        0.57   0.619848\n",
       "17        0.86   0.836965\n",
       "18        0.87   0.715380\n",
       "19        0.07   0.090083"
      ]
     },
     "execution_count": 61,
     "metadata": {},
     "output_type": "execute_result"
    }
   ],
   "source": [
    "df_preds.head(20)"
   ]
  },
  {
   "cell_type": "markdown",
   "id": "f9f54b97",
   "metadata": {},
   "source": [
    "### Avaliação do Modelo"
   ]
  },
  {
   "cell_type": "markdown",
   "id": "0810cb2c",
   "metadata": {},
   "source": [
    "##### MAE - Mean Absolute Error \n",
    "Erro Absoluto Médio (MAE): Subtraímos os valores previstos dos valores reais, obtendo os erros, somamos os valores absolutos desses erros e obtemos sua média. Essa métrica dá uma noção do erro geral para cada previsão do modelo, quanto menor (mais próximo de 0) melhor.\n",
    "\n",
    "##### MSE - Mean Squared Error\n",
    "Erro Quadrático Médio (MSE) É semelhante à métrica MAE, mas eleva ao quadrado os valores absolutos dos erros. Além disso, como no MAE, quanto menor ou mais próximo de 0, melhor. O valor MSE é elevado ao quadrado para tornar os erros ainda maiores. Uma coisa a ter bastante atenção é que costuma ser uma métrica difícil de interpretar devido ao tamanho de seus valores e ao fato de não estarem na mesma escala dos dados.\n",
    "\n",
    "##### RMSE - Root Mean Squared Error\n",
    "Raiz quadrada do erro-médio (RMSE) : Tenta resolver o problema de interpretação levantado com o MSE obtendo a raiz quadrada de seu valor final, de modo a escalá-lo de volta para as mesmas unidades dos dados. É mais fácil de interpretar e bom quando precisamos exibir ou mostrar o valor real dos dados com o erro. Ele mostra o quanto os dados podem variar, portanto, se tivermos um RMSE de 4,35, nosso modelo pode cometer um erro porque adicionou 4,35 ao valor real ou precisou de 4,35 para chegar ao valor real. Quanto mais próximo de 0, melhor também.\n"
   ]
  },
  {
   "cell_type": "code",
   "execution_count": 75,
   "id": "9d1d2a8b",
   "metadata": {},
   "outputs": [],
   "source": [
    "mae = mean_absolute_error(y_test, y_pred)\n",
    "mse = mean_squared_error(y_test, y_pred)\n",
    "rmse = np.sqrt(mse)"
   ]
  },
  {
   "cell_type": "code",
   "execution_count": 76,
   "id": "4a1c9f51",
   "metadata": {
    "scrolled": false
   },
   "outputs": [
    {
     "name": "stdout",
     "output_type": "stream",
     "text": [
      "Mean absolute error: 0.13\n",
      "Mean squared error: 0.03\n",
      "Root mean squared error: 0.17\n"
     ]
    }
   ],
   "source": [
    "print(f'Mean absolute error: {mae:.2f}')\n",
    "print(f'Mean squared error: {mse:.2f}')\n",
    "print(f'Root mean squared error: {rmse:.2f}')"
   ]
  },
  {
   "cell_type": "markdown",
   "id": "2518a80c",
   "metadata": {},
   "source": [
    "### Perguntando ao Modelo\n",
    "\n",
    "> Quanto será o IPCA do mês onde o IPCA15 for de 0.32%?"
   ]
  },
  {
   "cell_type": "code",
   "execution_count": 78,
   "id": "d67b0951",
   "metadata": {},
   "outputs": [
    {
     "data": {
      "text/plain": [
       "array([[0.35062344]])"
      ]
     },
     "execution_count": 78,
     "metadata": {},
     "output_type": "execute_result"
    }
   ],
   "source": [
    "regressor.predict([[0.32]])"
   ]
  },
  {
   "cell_type": "code",
   "execution_count": null,
   "id": "2de4125f",
   "metadata": {},
   "outputs": [],
   "source": []
  },
  {
   "cell_type": "markdown",
   "id": "54f20408",
   "metadata": {},
   "source": [
    "# Regressão Linear Multipla"
   ]
  },
  {
   "cell_type": "code",
   "execution_count": 64,
   "id": "91126f6d",
   "metadata": {},
   "outputs": [],
   "source": [
    "modelo = LinearRegression()"
   ]
  },
  {
   "cell_type": "code",
   "execution_count": 65,
   "id": "d121d8b9",
   "metadata": {},
   "outputs": [],
   "source": [
    "X = df.ipca_variacao.values.reshape(-1,1)\n",
    "Y = df.ipa_variacao.values.reshape(-1,1)"
   ]
  },
  {
   "cell_type": "code",
   "execution_count": 66,
   "id": "e774b366",
   "metadata": {},
   "outputs": [
    {
     "data": {
      "text/html": [
       "<style>#sk-container-id-3 {color: black;background-color: white;}#sk-container-id-3 pre{padding: 0;}#sk-container-id-3 div.sk-toggleable {background-color: white;}#sk-container-id-3 label.sk-toggleable__label {cursor: pointer;display: block;width: 100%;margin-bottom: 0;padding: 0.3em;box-sizing: border-box;text-align: center;}#sk-container-id-3 label.sk-toggleable__label-arrow:before {content: \"▸\";float: left;margin-right: 0.25em;color: #696969;}#sk-container-id-3 label.sk-toggleable__label-arrow:hover:before {color: black;}#sk-container-id-3 div.sk-estimator:hover label.sk-toggleable__label-arrow:before {color: black;}#sk-container-id-3 div.sk-toggleable__content {max-height: 0;max-width: 0;overflow: hidden;text-align: left;background-color: #f0f8ff;}#sk-container-id-3 div.sk-toggleable__content pre {margin: 0.2em;color: black;border-radius: 0.25em;background-color: #f0f8ff;}#sk-container-id-3 input.sk-toggleable__control:checked~div.sk-toggleable__content {max-height: 200px;max-width: 100%;overflow: auto;}#sk-container-id-3 input.sk-toggleable__control:checked~label.sk-toggleable__label-arrow:before {content: \"▾\";}#sk-container-id-3 div.sk-estimator input.sk-toggleable__control:checked~label.sk-toggleable__label {background-color: #d4ebff;}#sk-container-id-3 div.sk-label input.sk-toggleable__control:checked~label.sk-toggleable__label {background-color: #d4ebff;}#sk-container-id-3 input.sk-hidden--visually {border: 0;clip: rect(1px 1px 1px 1px);clip: rect(1px, 1px, 1px, 1px);height: 1px;margin: -1px;overflow: hidden;padding: 0;position: absolute;width: 1px;}#sk-container-id-3 div.sk-estimator {font-family: monospace;background-color: #f0f8ff;border: 1px dotted black;border-radius: 0.25em;box-sizing: border-box;margin-bottom: 0.5em;}#sk-container-id-3 div.sk-estimator:hover {background-color: #d4ebff;}#sk-container-id-3 div.sk-parallel-item::after {content: \"\";width: 100%;border-bottom: 1px solid gray;flex-grow: 1;}#sk-container-id-3 div.sk-label:hover label.sk-toggleable__label {background-color: #d4ebff;}#sk-container-id-3 div.sk-serial::before {content: \"\";position: absolute;border-left: 1px solid gray;box-sizing: border-box;top: 0;bottom: 0;left: 50%;z-index: 0;}#sk-container-id-3 div.sk-serial {display: flex;flex-direction: column;align-items: center;background-color: white;padding-right: 0.2em;padding-left: 0.2em;position: relative;}#sk-container-id-3 div.sk-item {position: relative;z-index: 1;}#sk-container-id-3 div.sk-parallel {display: flex;align-items: stretch;justify-content: center;background-color: white;position: relative;}#sk-container-id-3 div.sk-item::before, #sk-container-id-3 div.sk-parallel-item::before {content: \"\";position: absolute;border-left: 1px solid gray;box-sizing: border-box;top: 0;bottom: 0;left: 50%;z-index: -1;}#sk-container-id-3 div.sk-parallel-item {display: flex;flex-direction: column;z-index: 1;position: relative;background-color: white;}#sk-container-id-3 div.sk-parallel-item:first-child::after {align-self: flex-end;width: 50%;}#sk-container-id-3 div.sk-parallel-item:last-child::after {align-self: flex-start;width: 50%;}#sk-container-id-3 div.sk-parallel-item:only-child::after {width: 0;}#sk-container-id-3 div.sk-dashed-wrapped {border: 1px dashed gray;margin: 0 0.4em 0.5em 0.4em;box-sizing: border-box;padding-bottom: 0.4em;background-color: white;}#sk-container-id-3 div.sk-label label {font-family: monospace;font-weight: bold;display: inline-block;line-height: 1.2em;}#sk-container-id-3 div.sk-label-container {text-align: center;}#sk-container-id-3 div.sk-container {/* jupyter's `normalize.less` sets `[hidden] { display: none; }` but bootstrap.min.css set `[hidden] { display: none !important; }` so we also need the `!important` here to be able to override the default hidden behavior on the sphinx rendered scikit-learn.org. See: https://github.com/scikit-learn/scikit-learn/issues/21755 */display: inline-block !important;position: relative;}#sk-container-id-3 div.sk-text-repr-fallback {display: none;}</style><div id=\"sk-container-id-3\" class=\"sk-top-container\"><div class=\"sk-text-repr-fallback\"><pre>LinearRegression()</pre><b>In a Jupyter environment, please rerun this cell to show the HTML representation or trust the notebook. <br />On GitHub, the HTML representation is unable to render, please try loading this page with nbviewer.org.</b></div><div class=\"sk-container\" hidden><div class=\"sk-item\"><div class=\"sk-estimator sk-toggleable\"><input class=\"sk-toggleable__control sk-hidden--visually\" id=\"sk-estimator-id-3\" type=\"checkbox\" checked><label for=\"sk-estimator-id-3\" class=\"sk-toggleable__label sk-toggleable__label-arrow\">LinearRegression</label><div class=\"sk-toggleable__content\"><pre>LinearRegression()</pre></div></div></div></div></div>"
      ],
      "text/plain": [
       "LinearRegression()"
      ]
     },
     "execution_count": 66,
     "metadata": {},
     "output_type": "execute_result"
    }
   ],
   "source": [
    "modelo.fit(X, Y)"
   ]
  },
  {
   "cell_type": "code",
   "execution_count": 67,
   "id": "7f4d5039",
   "metadata": {},
   "outputs": [
    {
     "data": {
      "text/plain": [
       "0.9692649761347334"
      ]
     },
     "execution_count": 67,
     "metadata": {},
     "output_type": "execute_result"
    }
   ],
   "source": [
    "modelo.score(X, Y)"
   ]
  },
  {
   "cell_type": "code",
   "execution_count": 68,
   "id": "533739aa",
   "metadata": {},
   "outputs": [],
   "source": [
    "modelo_ajustado = smapi.ols(formula = \"ipca_variacao ~ ipa_variacao + incc_variacao + inpc_variacao\", data = df)"
   ]
  },
  {
   "cell_type": "code",
   "execution_count": 69,
   "id": "152206e5",
   "metadata": {},
   "outputs": [],
   "source": [
    "modelo_treinado = modelo_ajustado.fit()"
   ]
  },
  {
   "cell_type": "code",
   "execution_count": 70,
   "id": "5e2c6625",
   "metadata": {
    "scrolled": true
   },
   "outputs": [
    {
     "data": {
      "text/html": [
       "<table class=\"simpletable\">\n",
       "<caption>OLS Regression Results</caption>\n",
       "<tr>\n",
       "  <th>Dep. Variable:</th>      <td>ipca_variacao</td>  <th>  R-squared:         </th> <td>   0.998</td> \n",
       "</tr>\n",
       "<tr>\n",
       "  <th>Model:</th>                   <td>OLS</td>       <th>  Adj. R-squared:    </th> <td>   0.998</td> \n",
       "</tr>\n",
       "<tr>\n",
       "  <th>Method:</th>             <td>Least Squares</td>  <th>  F-statistic:       </th> <td>8.767e+04</td>\n",
       "</tr>\n",
       "<tr>\n",
       "  <th>Date:</th>             <td>Wed, 15 Feb 2023</td> <th>  Prob (F-statistic):</th>  <td>  0.00</td>  \n",
       "</tr>\n",
       "<tr>\n",
       "  <th>Time:</th>                 <td>15:03:19</td>     <th>  Log-Likelihood:    </th> <td> -352.05</td> \n",
       "</tr>\n",
       "<tr>\n",
       "  <th>No. Observations:</th>      <td>   517</td>      <th>  AIC:               </th> <td>   712.1</td> \n",
       "</tr>\n",
       "<tr>\n",
       "  <th>Df Residuals:</th>          <td>   513</td>      <th>  BIC:               </th> <td>   729.1</td> \n",
       "</tr>\n",
       "<tr>\n",
       "  <th>Df Model:</th>              <td>     3</td>      <th>                     </th>     <td> </td>    \n",
       "</tr>\n",
       "<tr>\n",
       "  <th>Covariance Type:</th>      <td>nonrobust</td>    <th>                     </th>     <td> </td>    \n",
       "</tr>\n",
       "</table>\n",
       "<table class=\"simpletable\">\n",
       "<tr>\n",
       "        <td></td>           <th>coef</th>     <th>std err</th>      <th>t</th>      <th>P>|t|</th>  <th>[0.025</th>    <th>0.975]</th>  \n",
       "</tr>\n",
       "<tr>\n",
       "  <th>Intercept</th>     <td>    0.0183</td> <td>    0.024</td> <td>    0.755</td> <td> 0.451</td> <td>   -0.029</td> <td>    0.066</td>\n",
       "</tr>\n",
       "<tr>\n",
       "  <th>ipa_variacao</th>  <td>   -0.0162</td> <td>    0.011</td> <td>   -1.414</td> <td> 0.158</td> <td>   -0.039</td> <td>    0.006</td>\n",
       "</tr>\n",
       "<tr>\n",
       "  <th>incc_variacao</th> <td>    0.0293</td> <td>    0.007</td> <td>    4.107</td> <td> 0.000</td> <td>    0.015</td> <td>    0.043</td>\n",
       "</tr>\n",
       "<tr>\n",
       "  <th>inpc_variacao</th> <td>    0.9855</td> <td>    0.013</td> <td>   75.822</td> <td> 0.000</td> <td>    0.960</td> <td>    1.011</td>\n",
       "</tr>\n",
       "</table>\n",
       "<table class=\"simpletable\">\n",
       "<tr>\n",
       "  <th>Omnibus:</th>       <td>220.930</td> <th>  Durbin-Watson:     </th> <td>   1.682</td> \n",
       "</tr>\n",
       "<tr>\n",
       "  <th>Prob(Omnibus):</th> <td> 0.000</td>  <th>  Jarque-Bera (JB):  </th> <td>11168.715</td>\n",
       "</tr>\n",
       "<tr>\n",
       "  <th>Skew:</th>          <td> 1.065</td>  <th>  Prob(JB):          </th> <td>    0.00</td> \n",
       "</tr>\n",
       "<tr>\n",
       "  <th>Kurtosis:</th>      <td>25.670</td>  <th>  Cond. No.          </th> <td>    24.8</td> \n",
       "</tr>\n",
       "</table><br/><br/>Notes:<br/>[1] Standard Errors assume that the covariance matrix of the errors is correctly specified."
      ],
      "text/plain": [
       "<class 'statsmodels.iolib.summary.Summary'>\n",
       "\"\"\"\n",
       "                            OLS Regression Results                            \n",
       "==============================================================================\n",
       "Dep. Variable:          ipca_variacao   R-squared:                       0.998\n",
       "Model:                            OLS   Adj. R-squared:                  0.998\n",
       "Method:                 Least Squares   F-statistic:                 8.767e+04\n",
       "Date:                Wed, 15 Feb 2023   Prob (F-statistic):               0.00\n",
       "Time:                        15:03:19   Log-Likelihood:                -352.05\n",
       "No. Observations:                 517   AIC:                             712.1\n",
       "Df Residuals:                     513   BIC:                             729.1\n",
       "Df Model:                           3                                         \n",
       "Covariance Type:            nonrobust                                         \n",
       "=================================================================================\n",
       "                    coef    std err          t      P>|t|      [0.025      0.975]\n",
       "---------------------------------------------------------------------------------\n",
       "Intercept         0.0183      0.024      0.755      0.451      -0.029       0.066\n",
       "ipa_variacao     -0.0162      0.011     -1.414      0.158      -0.039       0.006\n",
       "incc_variacao     0.0293      0.007      4.107      0.000       0.015       0.043\n",
       "inpc_variacao     0.9855      0.013     75.822      0.000       0.960       1.011\n",
       "==============================================================================\n",
       "Omnibus:                      220.930   Durbin-Watson:                   1.682\n",
       "Prob(Omnibus):                  0.000   Jarque-Bera (JB):            11168.715\n",
       "Skew:                           1.065   Prob(JB):                         0.00\n",
       "Kurtosis:                      25.670   Cond. No.                         24.8\n",
       "==============================================================================\n",
       "\n",
       "Notes:\n",
       "[1] Standard Errors assume that the covariance matrix of the errors is correctly specified.\n",
       "\"\"\""
      ]
     },
     "execution_count": 70,
     "metadata": {},
     "output_type": "execute_result"
    }
   ],
   "source": [
    "modelo_treinado.summary()"
   ]
  },
  {
   "cell_type": "markdown",
   "id": "bacc7913",
   "metadata": {},
   "source": [
    "* Nosso R2 é de 0.96. Isso significa 96% da variável do IPCA sendo explicada pelo IPA"
   ]
  },
  {
   "cell_type": "code",
   "execution_count": 71,
   "id": "6bb1ee4a",
   "metadata": {},
   "outputs": [
    {
     "data": {
      "text/plain": [
       "(3,)"
      ]
     },
     "execution_count": 71,
     "metadata": {},
     "output_type": "execute_result"
    }
   ],
   "source": [
    "novo = np.array([0.4, 0.36, 0.5])\n",
    "# novo = novo.reshape(1, -1)?\n",
    "novo.shape"
   ]
  },
  {
   "cell_type": "code",
   "execution_count": 72,
   "id": "55235387",
   "metadata": {},
   "outputs": [],
   "source": [
    "#modelo_treinado.predict(novo)"
   ]
  },
  {
   "cell_type": "markdown",
   "id": "df3e3d7e",
   "metadata": {},
   "source": [
    "## Adicionando mais variaveis para a regressão multipla"
   ]
  },
  {
   "cell_type": "code",
   "execution_count": null,
   "id": "b994bf82",
   "metadata": {},
   "outputs": [],
   "source": []
  },
  {
   "cell_type": "code",
   "execution_count": null,
   "id": "7a17fbb2",
   "metadata": {},
   "outputs": [],
   "source": []
  },
  {
   "cell_type": "code",
   "execution_count": null,
   "id": "1835bd9a",
   "metadata": {},
   "outputs": [],
   "source": []
  },
  {
   "cell_type": "code",
   "execution_count": null,
   "id": "0404f4a5",
   "metadata": {},
   "outputs": [],
   "source": []
  },
  {
   "cell_type": "code",
   "execution_count": null,
   "id": "a87c9fd7",
   "metadata": {},
   "outputs": [],
   "source": []
  },
  {
   "cell_type": "code",
   "execution_count": null,
   "id": "6e8ae12e",
   "metadata": {},
   "outputs": [],
   "source": []
  },
  {
   "cell_type": "code",
   "execution_count": null,
   "id": "c489e37f",
   "metadata": {},
   "outputs": [],
   "source": []
  },
  {
   "cell_type": "code",
   "execution_count": null,
   "id": "26caf499",
   "metadata": {},
   "outputs": [],
   "source": []
  }
 ],
 "metadata": {
  "kernelspec": {
   "display_name": "Python 3 (ipykernel)",
   "language": "python",
   "name": "python3"
  },
  "language_info": {
   "codemirror_mode": {
    "name": "ipython",
    "version": 3
   },
   "file_extension": ".py",
   "mimetype": "text/x-python",
   "name": "python",
   "nbconvert_exporter": "python",
   "pygments_lexer": "ipython3",
   "version": "3.11.1"
  },
  "varInspector": {
   "cols": {
    "lenName": 16,
    "lenType": 16,
    "lenVar": 40
   },
   "kernels_config": {
    "python": {
     "delete_cmd_postfix": "",
     "delete_cmd_prefix": "del ",
     "library": "var_list.py",
     "varRefreshCmd": "print(var_dic_list())"
    },
    "r": {
     "delete_cmd_postfix": ") ",
     "delete_cmd_prefix": "rm(",
     "library": "var_list.r",
     "varRefreshCmd": "cat(var_dic_list()) "
    }
   },
   "types_to_exclude": [
    "module",
    "function",
    "builtin_function_or_method",
    "instance",
    "_Feature"
   ],
   "window_display": false
  }
 },
 "nbformat": 4,
 "nbformat_minor": 5
}
