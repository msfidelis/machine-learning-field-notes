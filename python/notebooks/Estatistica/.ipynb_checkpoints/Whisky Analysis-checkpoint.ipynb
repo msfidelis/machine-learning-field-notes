{
 "cells": [
  {
   "cell_type": "markdown",
   "id": "c8612744",
   "metadata": {},
   "source": [
    "# Setup "
   ]
  },
  {
   "cell_type": "code",
   "execution_count": 1,
   "id": "91c28c9d",
   "metadata": {},
   "outputs": [],
   "source": [
    "import pandas as pd\n",
    "import numpy as np\n",
    "import seaborn as sns \n",
    "import matplotlib.pyplot as plt\n",
    "import statsmodels.api as sm\n",
    "import scipy"
   ]
  },
  {
   "cell_type": "markdown",
   "id": "fa35ac0f",
   "metadata": {},
   "source": [
    "### Importing Datasets"
   ]
  },
  {
   "cell_type": "code",
   "execution_count": 2,
   "id": "66e3aa09",
   "metadata": {},
   "outputs": [],
   "source": [
    "df = pd.read_csv(\"datasets/scotch_review2020.csv\")"
   ]
  },
  {
   "cell_type": "markdown",
   "id": "4a3d2333",
   "metadata": {},
   "source": [
    "### Knowlege Data"
   ]
  },
  {
   "cell_type": "code",
   "execution_count": 3,
   "id": "20b7e64d",
   "metadata": {
    "scrolled": true
   },
   "outputs": [
    {
     "data": {
      "text/plain": [
       "(2247, 7)"
      ]
     },
     "execution_count": 3,
     "metadata": {},
     "output_type": "execute_result"
    }
   ],
   "source": [
    "df.shape"
   ]
  },
  {
   "cell_type": "code",
   "execution_count": 4,
   "id": "6265e9f2",
   "metadata": {},
   "outputs": [
    {
     "name": "stdout",
     "output_type": "stream",
     "text": [
      "<class 'pandas.core.frame.DataFrame'>\n",
      "RangeIndex: 2247 entries, 0 to 2246\n",
      "Data columns (total 7 columns):\n",
      " #   Column               Non-Null Count  Dtype \n",
      "---  ------               --------------  ----- \n",
      " 0   id                   2247 non-null   int64 \n",
      " 1   name                 2247 non-null   object\n",
      " 2   category             2247 non-null   object\n",
      " 3   review.point         2247 non-null   int64 \n",
      " 4   price                2247 non-null   object\n",
      " 5   currency             2247 non-null   object\n",
      " 6   description.1.2247.  2208 non-null   object\n",
      "dtypes: int64(2), object(5)\n",
      "memory usage: 123.0+ KB\n"
     ]
    }
   ],
   "source": [
    "df.info()"
   ]
  },
  {
   "cell_type": "code",
   "execution_count": 5,
   "id": "5eac6c96",
   "metadata": {
    "scrolled": true
   },
   "outputs": [
    {
     "data": {
      "text/html": [
       "<div>\n",
       "<style scoped>\n",
       "    .dataframe tbody tr th:only-of-type {\n",
       "        vertical-align: middle;\n",
       "    }\n",
       "\n",
       "    .dataframe tbody tr th {\n",
       "        vertical-align: top;\n",
       "    }\n",
       "\n",
       "    .dataframe thead th {\n",
       "        text-align: right;\n",
       "    }\n",
       "</style>\n",
       "<table border=\"1\" class=\"dataframe\">\n",
       "  <thead>\n",
       "    <tr style=\"text-align: right;\">\n",
       "      <th></th>\n",
       "      <th>id</th>\n",
       "      <th>review.point</th>\n",
       "    </tr>\n",
       "  </thead>\n",
       "  <tbody>\n",
       "    <tr>\n",
       "      <th>count</th>\n",
       "      <td>2247.000000</td>\n",
       "      <td>2247.000000</td>\n",
       "    </tr>\n",
       "    <tr>\n",
       "      <th>mean</th>\n",
       "      <td>1124.000000</td>\n",
       "      <td>88.477526</td>\n",
       "    </tr>\n",
       "    <tr>\n",
       "      <th>std</th>\n",
       "      <td>648.797349</td>\n",
       "      <td>2.949306</td>\n",
       "    </tr>\n",
       "    <tr>\n",
       "      <th>min</th>\n",
       "      <td>1.000000</td>\n",
       "      <td>83.000000</td>\n",
       "    </tr>\n",
       "    <tr>\n",
       "      <th>25%</th>\n",
       "      <td>562.500000</td>\n",
       "      <td>86.000000</td>\n",
       "    </tr>\n",
       "    <tr>\n",
       "      <th>50%</th>\n",
       "      <td>1124.000000</td>\n",
       "      <td>88.000000</td>\n",
       "    </tr>\n",
       "    <tr>\n",
       "      <th>75%</th>\n",
       "      <td>1685.500000</td>\n",
       "      <td>91.000000</td>\n",
       "    </tr>\n",
       "    <tr>\n",
       "      <th>max</th>\n",
       "      <td>2247.000000</td>\n",
       "      <td>97.000000</td>\n",
       "    </tr>\n",
       "  </tbody>\n",
       "</table>\n",
       "</div>"
      ],
      "text/plain": [
       "                id  review.point\n",
       "count  2247.000000   2247.000000\n",
       "mean   1124.000000     88.477526\n",
       "std     648.797349      2.949306\n",
       "min       1.000000     83.000000\n",
       "25%     562.500000     86.000000\n",
       "50%    1124.000000     88.000000\n",
       "75%    1685.500000     91.000000\n",
       "max    2247.000000     97.000000"
      ]
     },
     "execution_count": 5,
     "metadata": {},
     "output_type": "execute_result"
    }
   ],
   "source": [
    "df.describe()"
   ]
  },
  {
   "cell_type": "code",
   "execution_count": 6,
   "id": "4e78f187",
   "metadata": {
    "scrolled": false
   },
   "outputs": [
    {
     "data": {
      "text/html": [
       "<div>\n",
       "<style scoped>\n",
       "    .dataframe tbody tr th:only-of-type {\n",
       "        vertical-align: middle;\n",
       "    }\n",
       "\n",
       "    .dataframe tbody tr th {\n",
       "        vertical-align: top;\n",
       "    }\n",
       "\n",
       "    .dataframe thead th {\n",
       "        text-align: right;\n",
       "    }\n",
       "</style>\n",
       "<table border=\"1\" class=\"dataframe\">\n",
       "  <thead>\n",
       "    <tr style=\"text-align: right;\">\n",
       "      <th></th>\n",
       "      <th>id</th>\n",
       "      <th>name</th>\n",
       "      <th>category</th>\n",
       "      <th>review.point</th>\n",
       "      <th>price</th>\n",
       "      <th>currency</th>\n",
       "      <th>description.1.2247.</th>\n",
       "    </tr>\n",
       "  </thead>\n",
       "  <tbody>\n",
       "    <tr>\n",
       "      <th>0</th>\n",
       "      <td>1</td>\n",
       "      <td>Black Bowmore 42 year old 1964 vintage, 40.5%</td>\n",
       "      <td>Single Malt Scotch</td>\n",
       "      <td>97</td>\n",
       "      <td>4500</td>\n",
       "      <td>$</td>\n",
       "      <td>What impresses me most is how this whisky evol...</td>\n",
       "    </tr>\n",
       "    <tr>\n",
       "      <th>1</th>\n",
       "      <td>2</td>\n",
       "      <td>Bowmore 46 year old (distilled 1964), 42.9%</td>\n",
       "      <td>Single Malt Scotch</td>\n",
       "      <td>97</td>\n",
       "      <td>13500</td>\n",
       "      <td>$</td>\n",
       "      <td>There have been some legendary Bowmores from t...</td>\n",
       "    </tr>\n",
       "    <tr>\n",
       "      <th>2</th>\n",
       "      <td>3</td>\n",
       "      <td>Johnnie Walker Blue Label, 40%</td>\n",
       "      <td>Blended Scotch Whisky</td>\n",
       "      <td>97</td>\n",
       "      <td>225</td>\n",
       "      <td>$</td>\n",
       "      <td>Magnificently powerful and intense. Caramels, ...</td>\n",
       "    </tr>\n",
       "    <tr>\n",
       "      <th>3</th>\n",
       "      <td>4</td>\n",
       "      <td>Glenlivet Cellar Collection 1969 vintage, 50.8%</td>\n",
       "      <td>Single Malt Scotch</td>\n",
       "      <td>96</td>\n",
       "      <td>750</td>\n",
       "      <td>$</td>\n",
       "      <td>It’s great that Glenlivet releases whiskies un...</td>\n",
       "    </tr>\n",
       "    <tr>\n",
       "      <th>4</th>\n",
       "      <td>5</td>\n",
       "      <td>The Macallan 29 year old 1976 Vintage (Cask #1...</td>\n",
       "      <td>Single Malt Scotch</td>\n",
       "      <td>96</td>\n",
       "      <td>1,500</td>\n",
       "      <td>$</td>\n",
       "      <td>Classic sherry cask-aged Macallan. Antique amb...</td>\n",
       "    </tr>\n",
       "  </tbody>\n",
       "</table>\n",
       "</div>"
      ],
      "text/plain": [
       "   id                                               name  \\\n",
       "0   1      Black Bowmore 42 year old 1964 vintage, 40.5%   \n",
       "1   2        Bowmore 46 year old (distilled 1964), 42.9%   \n",
       "2   3                     Johnnie Walker Blue Label, 40%   \n",
       "3   4    Glenlivet Cellar Collection 1969 vintage, 50.8%   \n",
       "4   5  The Macallan 29 year old 1976 Vintage (Cask #1...   \n",
       "\n",
       "                category  review.point  price currency  \\\n",
       "0     Single Malt Scotch            97   4500        $   \n",
       "1     Single Malt Scotch            97  13500        $   \n",
       "2  Blended Scotch Whisky            97    225        $   \n",
       "3     Single Malt Scotch            96    750        $   \n",
       "4     Single Malt Scotch            96  1,500        $   \n",
       "\n",
       "                                 description.1.2247.  \n",
       "0  What impresses me most is how this whisky evol...  \n",
       "1  There have been some legendary Bowmores from t...  \n",
       "2  Magnificently powerful and intense. Caramels, ...  \n",
       "3  It’s great that Glenlivet releases whiskies un...  \n",
       "4  Classic sherry cask-aged Macallan. Antique amb...  "
      ]
     },
     "execution_count": 6,
     "metadata": {},
     "output_type": "execute_result"
    }
   ],
   "source": [
    "df.head()"
   ]
  },
  {
   "cell_type": "markdown",
   "id": "9b47ef74",
   "metadata": {},
   "source": [
    "#### Checking Null Values"
   ]
  },
  {
   "cell_type": "code",
   "execution_count": 7,
   "id": "b9ad2662",
   "metadata": {},
   "outputs": [
    {
     "data": {
      "text/plain": [
       "id                      0\n",
       "name                    0\n",
       "category                0\n",
       "review.point            0\n",
       "price                   0\n",
       "currency                0\n",
       "description.1.2247.    39\n",
       "dtype: int64"
      ]
     },
     "execution_count": 7,
     "metadata": {},
     "output_type": "execute_result"
    }
   ],
   "source": [
    "df.isnull().sum()"
   ]
  },
  {
   "cell_type": "markdown",
   "id": "3615e997",
   "metadata": {},
   "source": [
    "## Data Treatment "
   ]
  },
  {
   "cell_type": "markdown",
   "id": "936dd9c0",
   "metadata": {},
   "source": [
    "### Price\n",
    "* The prices is not normalized and can be classified like `object`. We neet to convert to `int`"
   ]
  },
  {
   "cell_type": "code",
   "execution_count": 8,
   "id": "532902cb",
   "metadata": {},
   "outputs": [
    {
     "name": "stdout",
     "output_type": "stream",
     "text": [
      "<class 'pandas.core.series.Series'>\n",
      "RangeIndex: 2247 entries, 0 to 2246\n",
      "Series name: price\n",
      "Non-Null Count  Dtype \n",
      "--------------  ----- \n",
      "2247 non-null   object\n",
      "dtypes: object(1)\n",
      "memory usage: 17.7+ KB\n"
     ]
    }
   ],
   "source": [
    "df.price.info()"
   ]
  },
  {
   "cell_type": "code",
   "execution_count": 9,
   "id": "cd83e0ef",
   "metadata": {},
   "outputs": [
    {
     "data": {
      "text/html": [
       "<div>\n",
       "<style scoped>\n",
       "    .dataframe tbody tr th:only-of-type {\n",
       "        vertical-align: middle;\n",
       "    }\n",
       "\n",
       "    .dataframe tbody tr th {\n",
       "        vertical-align: top;\n",
       "    }\n",
       "\n",
       "    .dataframe thead th {\n",
       "        text-align: right;\n",
       "    }\n",
       "</style>\n",
       "<table border=\"1\" class=\"dataframe\">\n",
       "  <thead>\n",
       "    <tr style=\"text-align: right;\">\n",
       "      <th></th>\n",
       "      <th>id</th>\n",
       "      <th>name</th>\n",
       "      <th>category</th>\n",
       "      <th>review.point</th>\n",
       "      <th>price</th>\n",
       "      <th>currency</th>\n",
       "      <th>description.1.2247.</th>\n",
       "    </tr>\n",
       "  </thead>\n",
       "  <tbody>\n",
       "    <tr>\n",
       "      <th>0</th>\n",
       "      <td>1</td>\n",
       "      <td>Black Bowmore 42 year old 1964 vintage, 40.5%</td>\n",
       "      <td>Single Malt Scotch</td>\n",
       "      <td>97</td>\n",
       "      <td>4500</td>\n",
       "      <td>$</td>\n",
       "      <td>What impresses me most is how this whisky evol...</td>\n",
       "    </tr>\n",
       "    <tr>\n",
       "      <th>1</th>\n",
       "      <td>2</td>\n",
       "      <td>Bowmore 46 year old (distilled 1964), 42.9%</td>\n",
       "      <td>Single Malt Scotch</td>\n",
       "      <td>97</td>\n",
       "      <td>13500</td>\n",
       "      <td>$</td>\n",
       "      <td>There have been some legendary Bowmores from t...</td>\n",
       "    </tr>\n",
       "    <tr>\n",
       "      <th>2</th>\n",
       "      <td>3</td>\n",
       "      <td>Johnnie Walker Blue Label, 40%</td>\n",
       "      <td>Blended Scotch Whisky</td>\n",
       "      <td>97</td>\n",
       "      <td>225</td>\n",
       "      <td>$</td>\n",
       "      <td>Magnificently powerful and intense. Caramels, ...</td>\n",
       "    </tr>\n",
       "    <tr>\n",
       "      <th>3</th>\n",
       "      <td>4</td>\n",
       "      <td>Glenlivet Cellar Collection 1969 vintage, 50.8%</td>\n",
       "      <td>Single Malt Scotch</td>\n",
       "      <td>96</td>\n",
       "      <td>750</td>\n",
       "      <td>$</td>\n",
       "      <td>It’s great that Glenlivet releases whiskies un...</td>\n",
       "    </tr>\n",
       "    <tr>\n",
       "      <th>4</th>\n",
       "      <td>5</td>\n",
       "      <td>The Macallan 29 year old 1976 Vintage (Cask #1...</td>\n",
       "      <td>Single Malt Scotch</td>\n",
       "      <td>96</td>\n",
       "      <td>1,500</td>\n",
       "      <td>$</td>\n",
       "      <td>Classic sherry cask-aged Macallan. Antique amb...</td>\n",
       "    </tr>\n",
       "  </tbody>\n",
       "</table>\n",
       "</div>"
      ],
      "text/plain": [
       "   id                                               name  \\\n",
       "0   1      Black Bowmore 42 year old 1964 vintage, 40.5%   \n",
       "1   2        Bowmore 46 year old (distilled 1964), 42.9%   \n",
       "2   3                     Johnnie Walker Blue Label, 40%   \n",
       "3   4    Glenlivet Cellar Collection 1969 vintage, 50.8%   \n",
       "4   5  The Macallan 29 year old 1976 Vintage (Cask #1...   \n",
       "\n",
       "                category  review.point  price currency  \\\n",
       "0     Single Malt Scotch            97   4500        $   \n",
       "1     Single Malt Scotch            97  13500        $   \n",
       "2  Blended Scotch Whisky            97    225        $   \n",
       "3     Single Malt Scotch            96    750        $   \n",
       "4     Single Malt Scotch            96  1,500        $   \n",
       "\n",
       "                                 description.1.2247.  \n",
       "0  What impresses me most is how this whisky evol...  \n",
       "1  There have been some legendary Bowmores from t...  \n",
       "2  Magnificently powerful and intense. Caramels, ...  \n",
       "3  It’s great that Glenlivet releases whiskies un...  \n",
       "4  Classic sherry cask-aged Macallan. Antique amb...  "
      ]
     },
     "execution_count": 9,
     "metadata": {},
     "output_type": "execute_result"
    }
   ],
   "source": [
    "df.head()"
   ]
  },
  {
   "cell_type": "markdown",
   "id": "e548e4ca",
   "metadata": {},
   "source": [
    "* The first step is remove `,` character from strings before convert to float64"
   ]
  },
  {
   "cell_type": "code",
   "execution_count": 10,
   "id": "4865f0a4",
   "metadata": {},
   "outputs": [],
   "source": [
    "df[\"price\"] = df[\"price\"].str.replace(',', '')"
   ]
  },
  {
   "cell_type": "markdown",
   "id": "2371b305",
   "metadata": {},
   "source": [
    "* Now, we can use `to_numeric` function to convert data type on dataframe"
   ]
  },
  {
   "cell_type": "code",
   "execution_count": 11,
   "id": "5ac3d4ab",
   "metadata": {},
   "outputs": [],
   "source": [
    "df[\"price\"] = pd.to_numeric(df['price'], errors='coerce')"
   ]
  },
  {
   "cell_type": "code",
   "execution_count": 12,
   "id": "1e17d180",
   "metadata": {},
   "outputs": [
    {
     "data": {
      "text/html": [
       "<div>\n",
       "<style scoped>\n",
       "    .dataframe tbody tr th:only-of-type {\n",
       "        vertical-align: middle;\n",
       "    }\n",
       "\n",
       "    .dataframe tbody tr th {\n",
       "        vertical-align: top;\n",
       "    }\n",
       "\n",
       "    .dataframe thead th {\n",
       "        text-align: right;\n",
       "    }\n",
       "</style>\n",
       "<table border=\"1\" class=\"dataframe\">\n",
       "  <thead>\n",
       "    <tr style=\"text-align: right;\">\n",
       "      <th></th>\n",
       "      <th>id</th>\n",
       "      <th>name</th>\n",
       "      <th>category</th>\n",
       "      <th>review.point</th>\n",
       "      <th>price</th>\n",
       "      <th>currency</th>\n",
       "      <th>description.1.2247.</th>\n",
       "    </tr>\n",
       "  </thead>\n",
       "  <tbody>\n",
       "    <tr>\n",
       "      <th>0</th>\n",
       "      <td>1</td>\n",
       "      <td>Black Bowmore 42 year old 1964 vintage, 40.5%</td>\n",
       "      <td>Single Malt Scotch</td>\n",
       "      <td>97</td>\n",
       "      <td>4500.0</td>\n",
       "      <td>$</td>\n",
       "      <td>What impresses me most is how this whisky evol...</td>\n",
       "    </tr>\n",
       "    <tr>\n",
       "      <th>1</th>\n",
       "      <td>2</td>\n",
       "      <td>Bowmore 46 year old (distilled 1964), 42.9%</td>\n",
       "      <td>Single Malt Scotch</td>\n",
       "      <td>97</td>\n",
       "      <td>13500.0</td>\n",
       "      <td>$</td>\n",
       "      <td>There have been some legendary Bowmores from t...</td>\n",
       "    </tr>\n",
       "    <tr>\n",
       "      <th>2</th>\n",
       "      <td>3</td>\n",
       "      <td>Johnnie Walker Blue Label, 40%</td>\n",
       "      <td>Blended Scotch Whisky</td>\n",
       "      <td>97</td>\n",
       "      <td>225.0</td>\n",
       "      <td>$</td>\n",
       "      <td>Magnificently powerful and intense. Caramels, ...</td>\n",
       "    </tr>\n",
       "    <tr>\n",
       "      <th>3</th>\n",
       "      <td>4</td>\n",
       "      <td>Glenlivet Cellar Collection 1969 vintage, 50.8%</td>\n",
       "      <td>Single Malt Scotch</td>\n",
       "      <td>96</td>\n",
       "      <td>750.0</td>\n",
       "      <td>$</td>\n",
       "      <td>It’s great that Glenlivet releases whiskies un...</td>\n",
       "    </tr>\n",
       "    <tr>\n",
       "      <th>4</th>\n",
       "      <td>5</td>\n",
       "      <td>The Macallan 29 year old 1976 Vintage (Cask #1...</td>\n",
       "      <td>Single Malt Scotch</td>\n",
       "      <td>96</td>\n",
       "      <td>1500.0</td>\n",
       "      <td>$</td>\n",
       "      <td>Classic sherry cask-aged Macallan. Antique amb...</td>\n",
       "    </tr>\n",
       "  </tbody>\n",
       "</table>\n",
       "</div>"
      ],
      "text/plain": [
       "   id                                               name  \\\n",
       "0   1      Black Bowmore 42 year old 1964 vintage, 40.5%   \n",
       "1   2        Bowmore 46 year old (distilled 1964), 42.9%   \n",
       "2   3                     Johnnie Walker Blue Label, 40%   \n",
       "3   4    Glenlivet Cellar Collection 1969 vintage, 50.8%   \n",
       "4   5  The Macallan 29 year old 1976 Vintage (Cask #1...   \n",
       "\n",
       "                category  review.point    price currency  \\\n",
       "0     Single Malt Scotch            97   4500.0        $   \n",
       "1     Single Malt Scotch            97  13500.0        $   \n",
       "2  Blended Scotch Whisky            97    225.0        $   \n",
       "3     Single Malt Scotch            96    750.0        $   \n",
       "4     Single Malt Scotch            96   1500.0        $   \n",
       "\n",
       "                                 description.1.2247.  \n",
       "0  What impresses me most is how this whisky evol...  \n",
       "1  There have been some legendary Bowmores from t...  \n",
       "2  Magnificently powerful and intense. Caramels, ...  \n",
       "3  It’s great that Glenlivet releases whiskies un...  \n",
       "4  Classic sherry cask-aged Macallan. Antique amb...  "
      ]
     },
     "execution_count": 12,
     "metadata": {},
     "output_type": "execute_result"
    }
   ],
   "source": [
    "df.head()"
   ]
  },
  {
   "cell_type": "code",
   "execution_count": 13,
   "id": "de30f744",
   "metadata": {},
   "outputs": [
    {
     "name": "stdout",
     "output_type": "stream",
     "text": [
      "<class 'pandas.core.series.Series'>\n",
      "RangeIndex: 2247 entries, 0 to 2246\n",
      "Series name: price\n",
      "Non-Null Count  Dtype  \n",
      "--------------  -----  \n",
      "2233 non-null   float64\n",
      "dtypes: float64(1)\n",
      "memory usage: 17.7 KB\n"
     ]
    }
   ],
   "source": [
    "df.price.info()"
   ]
  },
  {
   "cell_type": "code",
   "execution_count": 14,
   "id": "19d1d285",
   "metadata": {
    "scrolled": false
   },
   "outputs": [
    {
     "data": {
      "text/html": [
       "<div>\n",
       "<style scoped>\n",
       "    .dataframe tbody tr th:only-of-type {\n",
       "        vertical-align: middle;\n",
       "    }\n",
       "\n",
       "    .dataframe tbody tr th {\n",
       "        vertical-align: top;\n",
       "    }\n",
       "\n",
       "    .dataframe thead th {\n",
       "        text-align: right;\n",
       "    }\n",
       "</style>\n",
       "<table border=\"1\" class=\"dataframe\">\n",
       "  <thead>\n",
       "    <tr style=\"text-align: right;\">\n",
       "      <th></th>\n",
       "      <th>id</th>\n",
       "      <th>review.point</th>\n",
       "      <th>price</th>\n",
       "    </tr>\n",
       "  </thead>\n",
       "  <tbody>\n",
       "    <tr>\n",
       "      <th>count</th>\n",
       "      <td>2247.000000</td>\n",
       "      <td>2247.000000</td>\n",
       "      <td>2233.000000</td>\n",
       "    </tr>\n",
       "    <tr>\n",
       "      <th>mean</th>\n",
       "      <td>1124.000000</td>\n",
       "      <td>88.477526</td>\n",
       "      <td>692.493954</td>\n",
       "    </tr>\n",
       "    <tr>\n",
       "      <th>std</th>\n",
       "      <td>648.797349</td>\n",
       "      <td>2.949306</td>\n",
       "      <td>4367.845746</td>\n",
       "    </tr>\n",
       "    <tr>\n",
       "      <th>min</th>\n",
       "      <td>1.000000</td>\n",
       "      <td>83.000000</td>\n",
       "      <td>10.000000</td>\n",
       "    </tr>\n",
       "    <tr>\n",
       "      <th>25%</th>\n",
       "      <td>562.500000</td>\n",
       "      <td>86.000000</td>\n",
       "      <td>70.000000</td>\n",
       "    </tr>\n",
       "    <tr>\n",
       "      <th>50%</th>\n",
       "      <td>1124.000000</td>\n",
       "      <td>88.000000</td>\n",
       "      <td>111.000000</td>\n",
       "    </tr>\n",
       "    <tr>\n",
       "      <th>75%</th>\n",
       "      <td>1685.500000</td>\n",
       "      <td>91.000000</td>\n",
       "      <td>230.000000</td>\n",
       "    </tr>\n",
       "    <tr>\n",
       "      <th>max</th>\n",
       "      <td>2247.000000</td>\n",
       "      <td>97.000000</td>\n",
       "      <td>157000.000000</td>\n",
       "    </tr>\n",
       "  </tbody>\n",
       "</table>\n",
       "</div>"
      ],
      "text/plain": [
       "                id  review.point          price\n",
       "count  2247.000000   2247.000000    2233.000000\n",
       "mean   1124.000000     88.477526     692.493954\n",
       "std     648.797349      2.949306    4367.845746\n",
       "min       1.000000     83.000000      10.000000\n",
       "25%     562.500000     86.000000      70.000000\n",
       "50%    1124.000000     88.000000     111.000000\n",
       "75%    1685.500000     91.000000     230.000000\n",
       "max    2247.000000     97.000000  157000.000000"
      ]
     },
     "execution_count": 14,
     "metadata": {},
     "output_type": "execute_result"
    }
   ],
   "source": [
    "df.describe()"
   ]
  },
  {
   "cell_type": "markdown",
   "id": "91d96b93",
   "metadata": {},
   "source": [
    "* Removing observations without price"
   ]
  },
  {
   "cell_type": "code",
   "execution_count": 15,
   "id": "5e661b86",
   "metadata": {},
   "outputs": [
    {
     "data": {
      "text/plain": [
       "14"
      ]
     },
     "execution_count": 15,
     "metadata": {},
     "output_type": "execute_result"
    }
   ],
   "source": [
    "df.price.isnull().sum()"
   ]
  },
  {
   "cell_type": "code",
   "execution_count": 16,
   "id": "cab0940a",
   "metadata": {},
   "outputs": [],
   "source": [
    "df = df[pd.notnull(df['price'])]"
   ]
  },
  {
   "cell_type": "code",
   "execution_count": 17,
   "id": "66280544",
   "metadata": {},
   "outputs": [
    {
     "data": {
      "text/plain": [
       "0"
      ]
     },
     "execution_count": 17,
     "metadata": {},
     "output_type": "execute_result"
    }
   ],
   "source": [
    "df.price.isnull().sum()"
   ]
  },
  {
   "cell_type": "code",
   "execution_count": 18,
   "id": "706bec3f",
   "metadata": {},
   "outputs": [
    {
     "data": {
      "text/plain": [
       "(2233, 7)"
      ]
     },
     "execution_count": 18,
     "metadata": {},
     "output_type": "execute_result"
    }
   ],
   "source": [
    "df.shape"
   ]
  },
  {
   "cell_type": "markdown",
   "id": "ffb15233",
   "metadata": {},
   "source": [
    "### Review Points"
   ]
  },
  {
   "cell_type": "markdown",
   "id": "57062457",
   "metadata": {},
   "source": [
    "* The column with review points is called `review.point`.\n",
    "* To best experience in analysis this variable will be renamed as `review_points`"
   ]
  },
  {
   "cell_type": "code",
   "execution_count": 19,
   "id": "afb4474a",
   "metadata": {},
   "outputs": [
    {
     "data": {
      "text/plain": [
       "Index(['id', 'name', 'category', 'review.point', 'price', 'currency',\n",
       "       'description.1.2247.'],\n",
       "      dtype='object')"
      ]
     },
     "execution_count": 19,
     "metadata": {},
     "output_type": "execute_result"
    }
   ],
   "source": [
    "df.columns"
   ]
  },
  {
   "cell_type": "code",
   "execution_count": 20,
   "id": "243db648",
   "metadata": {},
   "outputs": [],
   "source": [
    "df.rename(columns={'review.point': 'review_points'}, inplace=True)"
   ]
  },
  {
   "cell_type": "code",
   "execution_count": 21,
   "id": "fbe23820",
   "metadata": {
    "scrolled": true
   },
   "outputs": [
    {
     "data": {
      "text/plain": [
       "Index(['id', 'name', 'category', 'review_points', 'price', 'currency',\n",
       "       'description.1.2247.'],\n",
       "      dtype='object')"
      ]
     },
     "execution_count": 21,
     "metadata": {},
     "output_type": "execute_result"
    }
   ],
   "source": [
    "df.columns"
   ]
  },
  {
   "cell_type": "markdown",
   "id": "8352cc29",
   "metadata": {},
   "source": [
    "* Removing `null` values from price"
   ]
  },
  {
   "cell_type": "markdown",
   "id": "7a9dd87b",
   "metadata": {},
   "source": [
    "## Category Analysis"
   ]
  },
  {
   "cell_type": "code",
   "execution_count": 22,
   "id": "a09873b9",
   "metadata": {},
   "outputs": [
    {
     "data": {
      "image/png": "[encoded data removed]",
      "text/plain": [
       "<Figure size 640x480 with 1 Axes>"
      ]
     },
     "metadata": {},
     "output_type": "display_data"
    }
   ],
   "source": [
    "freq = sns.histplot(data=df, x=\"category\", hue=\"category\", legend=True, palette=\"YlOrBr\")\n",
    "freq.set(title='Frequency Table / Whisky Category')\n",
    "freq.set(xlabel=\"Whisky Categories\")\n",
    "freq.set(ylabel=\"Frequency\")\n",
    "freq.set(xticklabels=[]);"
   ]
  },
  {
   "cell_type": "markdown",
   "id": "34f440e4",
   "metadata": {},
   "source": [
    "* Single Malt Scotch is the most available category"
   ]
  },
  {
   "cell_type": "markdown",
   "id": "7bffb085",
   "metadata": {},
   "source": [
    "## Reviews Analysis"
   ]
  },
  {
   "cell_type": "markdown",
   "id": "098df6b4",
   "metadata": {},
   "source": [
    "#### Reviews Frequency Table"
   ]
  },
  {
   "cell_type": "code",
   "execution_count": 23,
   "id": "4007fa82",
   "metadata": {
    "scrolled": true
   },
   "outputs": [
    {
     "data": {
      "text/plain": [
       "[Text(0, 0.5, 'Reviews')]"
      ]
     },
     "execution_count": 23,
     "metadata": {},
     "output_type": "execute_result"
    },
    {
     "data": {
      "image/png": "[encoded data removed]",
      "text/plain": [
       "<Figure size 640x480 with 1 Axes>"
      ]
     },
     "metadata": {},
     "output_type": "display_data"
    }
   ],
   "source": [
    "freq = sns.histplot(data=df, x=\"review_points\", hue=\"review_points\", legend=False, palette=\"Reds\", kde=True)\n",
    "freq.set(title='Whisky Review Points')\n",
    "freq.set(xlabel=\"Points\")\n",
    "freq.set(ylabel=\"Reviews\")"
   ]
  },
  {
   "cell_type": "markdown",
   "id": "40b6dd38",
   "metadata": {},
   "source": [
    "#### Review Points Distribution"
   ]
  },
  {
   "cell_type": "code",
   "execution_count": 24,
   "id": "629c4ddb",
   "metadata": {},
   "outputs": [
    {
     "data": {
      "image/png": "[encoded data removed]",
      "text/plain": [
       "<Figure size 500x500 with 1 Axes>"
      ]
     },
     "metadata": {},
     "output_type": "display_data"
    }
   ],
   "source": [
    "freq = sns.displot(data=df, x=\"review_points\",kde=True, bins=15)\n",
    "freq.set(title='Whisky Review Points Distribution')\n",
    "freq.set(xlabel=\"Points\")\n",
    "freq.set(ylabel=\"Reviews\");"
   ]
  },
  {
   "cell_type": "code",
   "execution_count": 25,
   "id": "1fdb32d4",
   "metadata": {},
   "outputs": [
    {
     "data": {
      "text/plain": [
       "count    2233.000000\n",
       "mean       88.471115\n",
       "std         2.944254\n",
       "min        83.000000\n",
       "25%        86.000000\n",
       "50%        88.000000\n",
       "75%        91.000000\n",
       "max        97.000000\n",
       "Name: review_points, dtype: float64"
      ]
     },
     "execution_count": 25,
     "metadata": {},
     "output_type": "execute_result"
    }
   ],
   "source": [
    "df.review_points.describe()"
   ]
  },
  {
   "cell_type": "markdown",
   "id": "68a23f40",
   "metadata": {},
   "source": [
    "#### The best evaluated whiskys"
   ]
  },
  {
   "cell_type": "code",
   "execution_count": 26,
   "id": "01713b18",
   "metadata": {
    "scrolled": false
   },
   "outputs": [
    {
     "data": {
      "text/html": [
       "<div>\n",
       "<style scoped>\n",
       "    .dataframe tbody tr th:only-of-type {\n",
       "        vertical-align: middle;\n",
       "    }\n",
       "\n",
       "    .dataframe tbody tr th {\n",
       "        vertical-align: top;\n",
       "    }\n",
       "\n",
       "    .dataframe thead th {\n",
       "        text-align: right;\n",
       "    }\n",
       "</style>\n",
       "<table border=\"1\" class=\"dataframe\">\n",
       "  <thead>\n",
       "    <tr style=\"text-align: right;\">\n",
       "      <th></th>\n",
       "      <th>id</th>\n",
       "      <th>name</th>\n",
       "      <th>category</th>\n",
       "      <th>review_points</th>\n",
       "      <th>price</th>\n",
       "      <th>currency</th>\n",
       "      <th>description.1.2247.</th>\n",
       "    </tr>\n",
       "  </thead>\n",
       "  <tbody>\n",
       "    <tr>\n",
       "      <th>0</th>\n",
       "      <td>1</td>\n",
       "      <td>Black Bowmore 42 year old 1964 vintage, 40.5%</td>\n",
       "      <td>Single Malt Scotch</td>\n",
       "      <td>97</td>\n",
       "      <td>4500.0</td>\n",
       "      <td>$</td>\n",
       "      <td>What impresses me most is how this whisky evol...</td>\n",
       "    </tr>\n",
       "    <tr>\n",
       "      <th>1</th>\n",
       "      <td>2</td>\n",
       "      <td>Bowmore 46 year old (distilled 1964), 42.9%</td>\n",
       "      <td>Single Malt Scotch</td>\n",
       "      <td>97</td>\n",
       "      <td>13500.0</td>\n",
       "      <td>$</td>\n",
       "      <td>There have been some legendary Bowmores from t...</td>\n",
       "    </tr>\n",
       "    <tr>\n",
       "      <th>2</th>\n",
       "      <td>3</td>\n",
       "      <td>Johnnie Walker Blue Label, 40%</td>\n",
       "      <td>Blended Scotch Whisky</td>\n",
       "      <td>97</td>\n",
       "      <td>225.0</td>\n",
       "      <td>$</td>\n",
       "      <td>Magnificently powerful and intense. Caramels, ...</td>\n",
       "    </tr>\n",
       "  </tbody>\n",
       "</table>\n",
       "</div>"
      ],
      "text/plain": [
       "   id                                           name               category  \\\n",
       "0   1  Black Bowmore 42 year old 1964 vintage, 40.5%     Single Malt Scotch   \n",
       "1   2    Bowmore 46 year old (distilled 1964), 42.9%     Single Malt Scotch   \n",
       "2   3                 Johnnie Walker Blue Label, 40%  Blended Scotch Whisky   \n",
       "\n",
       "   review_points    price currency  \\\n",
       "0             97   4500.0        $   \n",
       "1             97  13500.0        $   \n",
       "2             97    225.0        $   \n",
       "\n",
       "                                 description.1.2247.  \n",
       "0  What impresses me most is how this whisky evol...  \n",
       "1  There have been some legendary Bowmores from t...  \n",
       "2  Magnificently powerful and intense. Caramels, ...  "
      ]
     },
     "execution_count": 26,
     "metadata": {},
     "output_type": "execute_result"
    }
   ],
   "source": [
    "df[df.review_points == df.review_points.max()]"
   ]
  },
  {
   "cell_type": "markdown",
   "id": "95b9d4fe",
   "metadata": {},
   "source": [
    "* Finding the best whiskys in accord to review points\n",
    "* We have 3 best scotch whiskys with the max note (97)"
   ]
  },
  {
   "cell_type": "markdown",
   "id": "0de468b8",
   "metadata": {},
   "source": [
    "#### The Worst Whiskys"
   ]
  },
  {
   "cell_type": "code",
   "execution_count": 27,
   "id": "ee40d6c1",
   "metadata": {},
   "outputs": [
    {
     "data": {
      "text/html": [
       "<div>\n",
       "<style scoped>\n",
       "    .dataframe tbody tr th:only-of-type {\n",
       "        vertical-align: middle;\n",
       "    }\n",
       "\n",
       "    .dataframe tbody tr th {\n",
       "        vertical-align: top;\n",
       "    }\n",
       "\n",
       "    .dataframe thead th {\n",
       "        text-align: right;\n",
       "    }\n",
       "</style>\n",
       "<table border=\"1\" class=\"dataframe\">\n",
       "  <thead>\n",
       "    <tr style=\"text-align: right;\">\n",
       "      <th></th>\n",
       "      <th>id</th>\n",
       "      <th>name</th>\n",
       "      <th>category</th>\n",
       "      <th>review_points</th>\n",
       "      <th>price</th>\n",
       "      <th>currency</th>\n",
       "      <th>description.1.2247.</th>\n",
       "    </tr>\n",
       "  </thead>\n",
       "  <tbody>\n",
       "    <tr>\n",
       "      <th>2203</th>\n",
       "      <td>2204</td>\n",
       "      <td>Wild Scotsman, 15 year old, 46%</td>\n",
       "      <td>Blended Malt Scotch Whisky</td>\n",
       "      <td>83</td>\n",
       "      <td>85.0</td>\n",
       "      <td>$</td>\n",
       "      <td>This relatively youthful whisky was matured in...</td>\n",
       "    </tr>\n",
       "    <tr>\n",
       "      <th>2204</th>\n",
       "      <td>2205</td>\n",
       "      <td>Compass Box Oak Cross, 43%</td>\n",
       "      <td>Blended Scotch Whisky</td>\n",
       "      <td>83</td>\n",
       "      <td>40.0</td>\n",
       "      <td>$</td>\n",
       "      <td>Thick, viscous golden syrup, digestive biscuit...</td>\n",
       "    </tr>\n",
       "    <tr>\n",
       "      <th>2205</th>\n",
       "      <td>2206</td>\n",
       "      <td>Auchentoshan 16 year old, 53.7%</td>\n",
       "      <td>Single Malt Scotch</td>\n",
       "      <td>83</td>\n",
       "      <td>120.0</td>\n",
       "      <td>$</td>\n",
       "      <td>Surprisingly punchy for its age, there’s very ...</td>\n",
       "    </tr>\n",
       "    <tr>\n",
       "      <th>2206</th>\n",
       "      <td>2207</td>\n",
       "      <td>The Balvenie New Wood 17 year old, 43%</td>\n",
       "      <td>Single Malt Scotch</td>\n",
       "      <td>83</td>\n",
       "      <td>90.0</td>\n",
       "      <td>$</td>\n",
       "      <td>Distilled between October and March, matured i...</td>\n",
       "    </tr>\n",
       "    <tr>\n",
       "      <th>2207</th>\n",
       "      <td>2208</td>\n",
       "      <td>Duncan Taylor 'Rarest of the Rare' (distilled ...</td>\n",
       "      <td>Single Malt Scotch</td>\n",
       "      <td>83</td>\n",
       "      <td>225.0</td>\n",
       "      <td>$</td>\n",
       "      <td>This 2000 vintage expression from Glenturret w...</td>\n",
       "    </tr>\n",
       "    <tr>\n",
       "      <th>2208</th>\n",
       "      <td>2209</td>\n",
       "      <td>BenRiach Arumaticus 12 year old, 46%</td>\n",
       "      <td>Single Malt Scotch</td>\n",
       "      <td>83</td>\n",
       "      <td>85.0</td>\n",
       "      <td>$</td>\n",
       "      <td>The bourbon cask-matured partner to the Sherry...</td>\n",
       "    </tr>\n",
       "    <tr>\n",
       "      <th>2209</th>\n",
       "      <td>2210</td>\n",
       "      <td>BenRiach 16 year old, 46%</td>\n",
       "      <td>Single Malt Scotch</td>\n",
       "      <td>83</td>\n",
       "      <td>90.0</td>\n",
       "      <td>$</td>\n",
       "      <td>This example of the little-seen Glentauchers i...</td>\n",
       "    </tr>\n",
       "    <tr>\n",
       "      <th>2210</th>\n",
       "      <td>2211</td>\n",
       "      <td>John McDougall's Selection (distilled at Bladn...</td>\n",
       "      <td>Single Malt Scotch</td>\n",
       "      <td>83</td>\n",
       "      <td>110.0</td>\n",
       "      <td>$</td>\n",
       "      <td>The mix of honey, citrus, fruit, and malt whic...</td>\n",
       "    </tr>\n",
       "    <tr>\n",
       "      <th>2211</th>\n",
       "      <td>2212</td>\n",
       "      <td>Bruichladdich 20 year old (3rd Edition), 46%</td>\n",
       "      <td>Single Malt Scotch</td>\n",
       "      <td>83</td>\n",
       "      <td>170.0</td>\n",
       "      <td>$</td>\n",
       "      <td>Sadly, the final chapter in a series which des...</td>\n",
       "    </tr>\n",
       "    <tr>\n",
       "      <th>2212</th>\n",
       "      <td>2213</td>\n",
       "      <td>Bruichladdich 20 year old (2nd Edition), 46%</td>\n",
       "      <td>Single Malt Scotch</td>\n",
       "      <td>83</td>\n",
       "      <td>170.0</td>\n",
       "      <td>$</td>\n",
       "      <td>Aberfeldy distillery has added a 16 year old e...</td>\n",
       "    </tr>\n",
       "    <tr>\n",
       "      <th>2213</th>\n",
       "      <td>2214</td>\n",
       "      <td>Blackadder 'Raw Cask' (distilled at Bruichladd...</td>\n",
       "      <td>Single Malt Scotch</td>\n",
       "      <td>83</td>\n",
       "      <td>180.0</td>\n",
       "      <td>$</td>\n",
       "      <td>A new, and welcome, permanent member of the co...</td>\n",
       "    </tr>\n",
       "    <tr>\n",
       "      <th>2214</th>\n",
       "      <td>2215</td>\n",
       "      <td>Gordon &amp; MacPhail (distilled at Caol Ila), cas...</td>\n",
       "      <td>Single Malt Scotch</td>\n",
       "      <td>83</td>\n",
       "      <td>85.0</td>\n",
       "      <td>$</td>\n",
       "      <td>An immediate and perhaps surprising smokiness ...</td>\n",
       "    </tr>\n",
       "    <tr>\n",
       "      <th>2215</th>\n",
       "      <td>2216</td>\n",
       "      <td>Murray McDavid (distilled at Caperdonich) 1968...</td>\n",
       "      <td>Single Malt Scotch</td>\n",
       "      <td>83</td>\n",
       "      <td>150.0</td>\n",
       "      <td>$</td>\n",
       "      <td>NaN</td>\n",
       "    </tr>\n",
       "    <tr>\n",
       "      <th>2216</th>\n",
       "      <td>2217</td>\n",
       "      <td>Signatory 'Un-chillfiltered' (distilled at Cly...</td>\n",
       "      <td>Single Malt Scotch</td>\n",
       "      <td>83</td>\n",
       "      <td>45.0</td>\n",
       "      <td>$</td>\n",
       "      <td>A new addition to the core range, this shows G...</td>\n",
       "    </tr>\n",
       "    <tr>\n",
       "      <th>2217</th>\n",
       "      <td>2218</td>\n",
       "      <td>Deanston, 30 year old, 46.7%</td>\n",
       "      <td>Single Malt Scotch</td>\n",
       "      <td>83</td>\n",
       "      <td>265.0</td>\n",
       "      <td>$</td>\n",
       "      <td>Some single malts just suit specific cask type...</td>\n",
       "    </tr>\n",
       "    <tr>\n",
       "      <th>2218</th>\n",
       "      <td>2219</td>\n",
       "      <td>Scott's Selection (distilled at Glen Elgin), 1...</td>\n",
       "      <td>Single Malt Scotch</td>\n",
       "      <td>83</td>\n",
       "      <td>140.0</td>\n",
       "      <td>$</td>\n",
       "      <td>This vatting of three virgin oak casks and one...</td>\n",
       "    </tr>\n",
       "    <tr>\n",
       "      <th>2219</th>\n",
       "      <td>2220</td>\n",
       "      <td>Duncan Taylor (distilled at Glen Grant) 1972 V...</td>\n",
       "      <td>Single Malt Scotch</td>\n",
       "      <td>83</td>\n",
       "      <td>155.0</td>\n",
       "      <td>$</td>\n",
       "      <td>The eighth edition of heavily-peated Edradour ...</td>\n",
       "    </tr>\n",
       "    <tr>\n",
       "      <th>2220</th>\n",
       "      <td>2221</td>\n",
       "      <td>Hart Brothers (distilled at Glen Grant), 29 ye...</td>\n",
       "      <td>Single Malt Scotch</td>\n",
       "      <td>83</td>\n",
       "      <td>160.0</td>\n",
       "      <td>$</td>\n",
       "      <td>Glenglassaugh distillery launched both unpeate...</td>\n",
       "    </tr>\n",
       "    <tr>\n",
       "      <th>2221</th>\n",
       "      <td>2222</td>\n",
       "      <td>Murray McDavid Mission IV (distilled at Glendr...</td>\n",
       "      <td>Single Malt Scotch</td>\n",
       "      <td>83</td>\n",
       "      <td>210.0</td>\n",
       "      <td>$</td>\n",
       "      <td>Distilled in 1994 and matured in a single hogs...</td>\n",
       "    </tr>\n",
       "    <tr>\n",
       "      <th>2222</th>\n",
       "      <td>2223</td>\n",
       "      <td>The Singleton of Glendullan, 12 year old, 40%</td>\n",
       "      <td>Single Malt Scotch</td>\n",
       "      <td>83</td>\n",
       "      <td>36.0</td>\n",
       "      <td>$</td>\n",
       "      <td>This peated expression from Tobermory distille...</td>\n",
       "    </tr>\n",
       "    <tr>\n",
       "      <th>2223</th>\n",
       "      <td>2224</td>\n",
       "      <td>Glenglassaugh, 44 year old, 1960 vintage, 41.7%</td>\n",
       "      <td>Single Malt Scotch</td>\n",
       "      <td>83</td>\n",
       "      <td>900.0</td>\n",
       "      <td>$</td>\n",
       "      <td>This peated expression was matured in quarter ...</td>\n",
       "    </tr>\n",
       "    <tr>\n",
       "      <th>2224</th>\n",
       "      <td>2225</td>\n",
       "      <td>Cask &amp; Thistle (distilled at Glenlivet) 30 yea...</td>\n",
       "      <td>Single Malt Scotch</td>\n",
       "      <td>83</td>\n",
       "      <td>100.0</td>\n",
       "      <td>$</td>\n",
       "      <td>Initially matured in bourbon barrels for 6 yea...</td>\n",
       "    </tr>\n",
       "    <tr>\n",
       "      <th>2225</th>\n",
       "      <td>2226</td>\n",
       "      <td>Highland Park 31 year old 1974 vintage (Cask #...</td>\n",
       "      <td>Single Malt Scotch</td>\n",
       "      <td>83</td>\n",
       "      <td>440.0</td>\n",
       "      <td>$</td>\n",
       "      <td>One of the duo of releases in Glenfiddich’s Ex...</td>\n",
       "    </tr>\n",
       "    <tr>\n",
       "      <th>2226</th>\n",
       "      <td>2227</td>\n",
       "      <td>Signatory 7 year old (distilled at Laphroaig) ...</td>\n",
       "      <td>Single Malt Scotch</td>\n",
       "      <td>83</td>\n",
       "      <td>45.0</td>\n",
       "      <td>$</td>\n",
       "      <td>Initially aged in bourbon barrels, this expres...</td>\n",
       "    </tr>\n",
       "    <tr>\n",
       "      <th>2227</th>\n",
       "      <td>2228</td>\n",
       "      <td>Duncan Taylor 'Rarest of the Rare' (distilled ...</td>\n",
       "      <td>Single Malt Scotch</td>\n",
       "      <td>83</td>\n",
       "      <td>220.0</td>\n",
       "      <td>$</td>\n",
       "      <td>This 9 year old bottling has been fully mature...</td>\n",
       "    </tr>\n",
       "    <tr>\n",
       "      <th>2228</th>\n",
       "      <td>2229</td>\n",
       "      <td>Murray McDavid (distilled at Lochside) 1981, 46%</td>\n",
       "      <td>Single Malt Scotch</td>\n",
       "      <td>83</td>\n",
       "      <td>76.0</td>\n",
       "      <td>$</td>\n",
       "      <td>This single cask bottling from Langside Distil...</td>\n",
       "    </tr>\n",
       "    <tr>\n",
       "      <th>2229</th>\n",
       "      <td>2230</td>\n",
       "      <td>Gordon &amp; MacPhail (distilled at Longmorn), 15 ...</td>\n",
       "      <td>Single Malt Scotch</td>\n",
       "      <td>83</td>\n",
       "      <td>65.0</td>\n",
       "      <td>$</td>\n",
       "      <td>The second release in the Custodians’ series w...</td>\n",
       "    </tr>\n",
       "    <tr>\n",
       "      <th>2230</th>\n",
       "      <td>2231</td>\n",
       "      <td>Signatory 14 year old 1990 vintage (distilled ...</td>\n",
       "      <td>Single Malt Scotch</td>\n",
       "      <td>83</td>\n",
       "      <td>70.0</td>\n",
       "      <td>$</td>\n",
       "      <td>Matured in bourbon casks, this is the second r...</td>\n",
       "    </tr>\n",
       "    <tr>\n",
       "      <th>2231</th>\n",
       "      <td>2232</td>\n",
       "      <td>The Macallan 10 year old Fine Oak, 40%</td>\n",
       "      <td>Single Malt Scotch</td>\n",
       "      <td>83</td>\n",
       "      <td>44.0</td>\n",
       "      <td>$</td>\n",
       "      <td>A solid presence in the range, the strength an...</td>\n",
       "    </tr>\n",
       "    <tr>\n",
       "      <th>2232</th>\n",
       "      <td>2233</td>\n",
       "      <td>Whisky Galore (distilled at Old Pulteney) 16 y...</td>\n",
       "      <td>Single Malt Scotch</td>\n",
       "      <td>83</td>\n",
       "      <td>70.0</td>\n",
       "      <td>$</td>\n",
       "      <td>Benachie, formerly known as Jericho, was an Ab...</td>\n",
       "    </tr>\n",
       "    <tr>\n",
       "      <th>2233</th>\n",
       "      <td>2234</td>\n",
       "      <td>Tullibardine, 1993 Vintage, 40%</td>\n",
       "      <td>Single Malt Scotch</td>\n",
       "      <td>83</td>\n",
       "      <td>55.0</td>\n",
       "      <td>$</td>\n",
       "      <td>It will soon be 120 years since this workhorse...</td>\n",
       "    </tr>\n",
       "    <tr>\n",
       "      <th>2234</th>\n",
       "      <td>2235</td>\n",
       "      <td>Bruichladdich 12 year old (2nd Edition), 46%</td>\n",
       "      <td>Single Malt Scotch</td>\n",
       "      <td>83</td>\n",
       "      <td>60.0</td>\n",
       "      <td>$</td>\n",
       "      <td>NaN</td>\n",
       "    </tr>\n",
       "    <tr>\n",
       "      <th>2235</th>\n",
       "      <td>2236</td>\n",
       "      <td>Bruichladdich 12 year old, 46%</td>\n",
       "      <td>Single Malt Scotch</td>\n",
       "      <td>83</td>\n",
       "      <td>50.0</td>\n",
       "      <td>$</td>\n",
       "      <td>With whiskies aged for 5 years in bourbon barr...</td>\n",
       "    </tr>\n",
       "    <tr>\n",
       "      <th>2236</th>\n",
       "      <td>2237</td>\n",
       "      <td>Longrow C.V., 46%</td>\n",
       "      <td>Single Malt Scotch</td>\n",
       "      <td>83</td>\n",
       "      <td>75.0</td>\n",
       "      <td>$</td>\n",
       "      <td>This blend has been a Whyte and MacKay whisky ...</td>\n",
       "    </tr>\n",
       "    <tr>\n",
       "      <th>2237</th>\n",
       "      <td>2238</td>\n",
       "      <td>Bruichladdich Links Torrey Pine 15 year old, 46%</td>\n",
       "      <td>Single Malt Scotch</td>\n",
       "      <td>83</td>\n",
       "      <td>85.0</td>\n",
       "      <td>$</td>\n",
       "      <td>How does this long-established blend shape up ...</td>\n",
       "    </tr>\n",
       "    <tr>\n",
       "      <th>2238</th>\n",
       "      <td>2239</td>\n",
       "      <td>Bowmore 16 year old 1992 vintage Wine Cask-Mat...</td>\n",
       "      <td>Single Malt Scotch</td>\n",
       "      <td>83</td>\n",
       "      <td>120.0</td>\n",
       "      <td>$</td>\n",
       "      <td>If you aren’t expecting it, the herbaceous, gr...</td>\n",
       "    </tr>\n",
       "    <tr>\n",
       "      <th>2239</th>\n",
       "      <td>2240</td>\n",
       "      <td>The Balvenie Signature 12 year old Batch #1, 43%</td>\n",
       "      <td>Single Malt Scotch</td>\n",
       "      <td>83</td>\n",
       "      <td>55.0</td>\n",
       "      <td>$</td>\n",
       "      <td>Earthy, with corn husk and biscuit dough on th...</td>\n",
       "    </tr>\n",
       "    <tr>\n",
       "      <th>2240</th>\n",
       "      <td>2241</td>\n",
       "      <td>The Antiquary, 12 year old, 40%</td>\n",
       "      <td>Blended Scotch Whisky</td>\n",
       "      <td>83</td>\n",
       "      <td>30.0</td>\n",
       "      <td>$</td>\n",
       "      <td>The nose is grassy and light, with some youthf...</td>\n",
       "    </tr>\n",
       "    <tr>\n",
       "      <th>2241</th>\n",
       "      <td>2242</td>\n",
       "      <td>Eades Highland 'Double Malt', 46%</td>\n",
       "      <td>Blended Malt Scotch Whisky</td>\n",
       "      <td>83</td>\n",
       "      <td>70.0</td>\n",
       "      <td>$</td>\n",
       "      <td>The nose is pleasant, with fresh strawberry, s...</td>\n",
       "    </tr>\n",
       "    <tr>\n",
       "      <th>2242</th>\n",
       "      <td>2243</td>\n",
       "      <td>BenRiach Sauternes Wood Finish 16 year old, 46%</td>\n",
       "      <td>Single Malt Scotch</td>\n",
       "      <td>83</td>\n",
       "      <td>113.0</td>\n",
       "      <td>$</td>\n",
       "      <td>Pleasingly aromatic and floral, with lively fr...</td>\n",
       "    </tr>\n",
       "    <tr>\n",
       "      <th>2243</th>\n",
       "      <td>2244</td>\n",
       "      <td>The Macallan Whisky Maker</td>\n",
       "      <td>Single Malt Scotch</td>\n",
       "      <td>83</td>\n",
       "      <td>90.0</td>\n",
       "      <td>$</td>\n",
       "      <td>A blend of three different single malts. Its n...</td>\n",
       "    </tr>\n",
       "    <tr>\n",
       "      <th>2244</th>\n",
       "      <td>2245</td>\n",
       "      <td>Arran St. Emilion Wine Cask Finish (Limited Ed...</td>\n",
       "      <td>Single Malt Scotch</td>\n",
       "      <td>83</td>\n",
       "      <td>80.0</td>\n",
       "      <td>$</td>\n",
       "      <td>A very textural whisky. Incredibly creamy, wit...</td>\n",
       "    </tr>\n",
       "    <tr>\n",
       "      <th>2245</th>\n",
       "      <td>2246</td>\n",
       "      <td>Smoking Ember, 40%</td>\n",
       "      <td>Single Malt Scotch</td>\n",
       "      <td>83</td>\n",
       "      <td>40.0</td>\n",
       "      <td>$</td>\n",
       "      <td>The tell-tale rich honeyed Balvenie personalit...</td>\n",
       "    </tr>\n",
       "    <tr>\n",
       "      <th>2246</th>\n",
       "      <td>2247</td>\n",
       "      <td>Teaninich, 1996 vintage, 55.3%</td>\n",
       "      <td>Single Malt Scotch</td>\n",
       "      <td>83</td>\n",
       "      <td>325.0</td>\n",
       "      <td>$</td>\n",
       "      <td>Very fruity and spicy. High, bright fruit note...</td>\n",
       "    </tr>\n",
       "  </tbody>\n",
       "</table>\n",
       "</div>"
      ],
      "text/plain": [
       "        id                                               name  \\\n",
       "2203  2204                    Wild Scotsman, 15 year old, 46%   \n",
       "2204  2205                         Compass Box Oak Cross, 43%   \n",
       "2205  2206                    Auchentoshan 16 year old, 53.7%   \n",
       "2206  2207             The Balvenie New Wood 17 year old, 43%   \n",
       "2207  2208  Duncan Taylor 'Rarest of the Rare' (distilled ...   \n",
       "2208  2209               BenRiach Arumaticus 12 year old, 46%   \n",
       "2209  2210                          BenRiach 16 year old, 46%   \n",
       "2210  2211  John McDougall's Selection (distilled at Bladn...   \n",
       "2211  2212       Bruichladdich 20 year old (3rd Edition), 46%   \n",
       "2212  2213       Bruichladdich 20 year old (2nd Edition), 46%   \n",
       "2213  2214  Blackadder 'Raw Cask' (distilled at Bruichladd...   \n",
       "2214  2215  Gordon & MacPhail (distilled at Caol Ila), cas...   \n",
       "2215  2216  Murray McDavid (distilled at Caperdonich) 1968...   \n",
       "2216  2217  Signatory 'Un-chillfiltered' (distilled at Cly...   \n",
       "2217  2218                       Deanston, 30 year old, 46.7%   \n",
       "2218  2219  Scott's Selection (distilled at Glen Elgin), 1...   \n",
       "2219  2220  Duncan Taylor (distilled at Glen Grant) 1972 V...   \n",
       "2220  2221  Hart Brothers (distilled at Glen Grant), 29 ye...   \n",
       "2221  2222  Murray McDavid Mission IV (distilled at Glendr...   \n",
       "2222  2223      The Singleton of Glendullan, 12 year old, 40%   \n",
       "2223  2224    Glenglassaugh, 44 year old, 1960 vintage, 41.7%   \n",
       "2224  2225  Cask & Thistle (distilled at Glenlivet) 30 yea...   \n",
       "2225  2226  Highland Park 31 year old 1974 vintage (Cask #...   \n",
       "2226  2227  Signatory 7 year old (distilled at Laphroaig) ...   \n",
       "2227  2228  Duncan Taylor 'Rarest of the Rare' (distilled ...   \n",
       "2228  2229   Murray McDavid (distilled at Lochside) 1981, 46%   \n",
       "2229  2230  Gordon & MacPhail (distilled at Longmorn), 15 ...   \n",
       "2230  2231  Signatory 14 year old 1990 vintage (distilled ...   \n",
       "2231  2232             The Macallan 10 year old Fine Oak, 40%   \n",
       "2232  2233  Whisky Galore (distilled at Old Pulteney) 16 y...   \n",
       "2233  2234                    Tullibardine, 1993 Vintage, 40%   \n",
       "2234  2235       Bruichladdich 12 year old (2nd Edition), 46%   \n",
       "2235  2236                     Bruichladdich 12 year old, 46%   \n",
       "2236  2237                                  Longrow C.V., 46%   \n",
       "2237  2238   Bruichladdich Links Torrey Pine 15 year old, 46%   \n",
       "2238  2239  Bowmore 16 year old 1992 vintage Wine Cask-Mat...   \n",
       "2239  2240   The Balvenie Signature 12 year old Batch #1, 43%   \n",
       "2240  2241                    The Antiquary, 12 year old, 40%   \n",
       "2241  2242                  Eades Highland 'Double Malt', 46%   \n",
       "2242  2243    BenRiach Sauternes Wood Finish 16 year old, 46%   \n",
       "2243  2244                          The Macallan Whisky Maker   \n",
       "2244  2245  Arran St. Emilion Wine Cask Finish (Limited Ed...   \n",
       "2245  2246                                 Smoking Ember, 40%   \n",
       "2246  2247                     Teaninich, 1996 vintage, 55.3%   \n",
       "\n",
       "                        category  review_points  price currency  \\\n",
       "2203  Blended Malt Scotch Whisky             83   85.0        $   \n",
       "2204       Blended Scotch Whisky             83   40.0        $   \n",
       "2205          Single Malt Scotch             83  120.0        $   \n",
       "2206          Single Malt Scotch             83   90.0        $   \n",
       "2207          Single Malt Scotch             83  225.0        $   \n",
       "2208          Single Malt Scotch             83   85.0        $   \n",
       "2209          Single Malt Scotch             83   90.0        $   \n",
       "2210          Single Malt Scotch             83  110.0        $   \n",
       "2211          Single Malt Scotch             83  170.0        $   \n",
       "2212          Single Malt Scotch             83  170.0        $   \n",
       "2213          Single Malt Scotch             83  180.0        $   \n",
       "2214          Single Malt Scotch             83   85.0        $   \n",
       "2215          Single Malt Scotch             83  150.0        $   \n",
       "2216          Single Malt Scotch             83   45.0        $   \n",
       "2217          Single Malt Scotch             83  265.0        $   \n",
       "2218          Single Malt Scotch             83  140.0        $   \n",
       "2219          Single Malt Scotch             83  155.0        $   \n",
       "2220          Single Malt Scotch             83  160.0        $   \n",
       "2221          Single Malt Scotch             83  210.0        $   \n",
       "2222          Single Malt Scotch             83   36.0        $   \n",
       "2223          Single Malt Scotch             83  900.0        $   \n",
       "2224          Single Malt Scotch             83  100.0        $   \n",
       "2225          Single Malt Scotch             83  440.0        $   \n",
       "2226          Single Malt Scotch             83   45.0        $   \n",
       "2227          Single Malt Scotch             83  220.0        $   \n",
       "2228          Single Malt Scotch             83   76.0        $   \n",
       "2229          Single Malt Scotch             83   65.0        $   \n",
       "2230          Single Malt Scotch             83   70.0        $   \n",
       "2231          Single Malt Scotch             83   44.0        $   \n",
       "2232          Single Malt Scotch             83   70.0        $   \n",
       "2233          Single Malt Scotch             83   55.0        $   \n",
       "2234          Single Malt Scotch             83   60.0        $   \n",
       "2235          Single Malt Scotch             83   50.0        $   \n",
       "2236          Single Malt Scotch             83   75.0        $   \n",
       "2237          Single Malt Scotch             83   85.0        $   \n",
       "2238          Single Malt Scotch             83  120.0        $   \n",
       "2239          Single Malt Scotch             83   55.0        $   \n",
       "2240       Blended Scotch Whisky             83   30.0        $   \n",
       "2241  Blended Malt Scotch Whisky             83   70.0        $   \n",
       "2242          Single Malt Scotch             83  113.0        $   \n",
       "2243          Single Malt Scotch             83   90.0        $   \n",
       "2244          Single Malt Scotch             83   80.0        $   \n",
       "2245          Single Malt Scotch             83   40.0        $   \n",
       "2246          Single Malt Scotch             83  325.0        $   \n",
       "\n",
       "                                    description.1.2247.  \n",
       "2203  This relatively youthful whisky was matured in...  \n",
       "2204  Thick, viscous golden syrup, digestive biscuit...  \n",
       "2205  Surprisingly punchy for its age, there’s very ...  \n",
       "2206  Distilled between October and March, matured i...  \n",
       "2207  This 2000 vintage expression from Glenturret w...  \n",
       "2208  The bourbon cask-matured partner to the Sherry...  \n",
       "2209  This example of the little-seen Glentauchers i...  \n",
       "2210  The mix of honey, citrus, fruit, and malt whic...  \n",
       "2211  Sadly, the final chapter in a series which des...  \n",
       "2212  Aberfeldy distillery has added a 16 year old e...  \n",
       "2213  A new, and welcome, permanent member of the co...  \n",
       "2214  An immediate and perhaps surprising smokiness ...  \n",
       "2215                                                NaN  \n",
       "2216  A new addition to the core range, this shows G...  \n",
       "2217  Some single malts just suit specific cask type...  \n",
       "2218  This vatting of three virgin oak casks and one...  \n",
       "2219  The eighth edition of heavily-peated Edradour ...  \n",
       "2220  Glenglassaugh distillery launched both unpeate...  \n",
       "2221  Distilled in 1994 and matured in a single hogs...  \n",
       "2222  This peated expression from Tobermory distille...  \n",
       "2223  This peated expression was matured in quarter ...  \n",
       "2224  Initially matured in bourbon barrels for 6 yea...  \n",
       "2225  One of the duo of releases in Glenfiddich’s Ex...  \n",
       "2226  Initially aged in bourbon barrels, this expres...  \n",
       "2227  This 9 year old bottling has been fully mature...  \n",
       "2228  This single cask bottling from Langside Distil...  \n",
       "2229  The second release in the Custodians’ series w...  \n",
       "2230  Matured in bourbon casks, this is the second r...  \n",
       "2231  A solid presence in the range, the strength an...  \n",
       "2232  Benachie, formerly known as Jericho, was an Ab...  \n",
       "2233  It will soon be 120 years since this workhorse...  \n",
       "2234                                                NaN  \n",
       "2235  With whiskies aged for 5 years in bourbon barr...  \n",
       "2236  This blend has been a Whyte and MacKay whisky ...  \n",
       "2237  How does this long-established blend shape up ...  \n",
       "2238  If you aren’t expecting it, the herbaceous, gr...  \n",
       "2239  Earthy, with corn husk and biscuit dough on th...  \n",
       "2240  The nose is grassy and light, with some youthf...  \n",
       "2241  The nose is pleasant, with fresh strawberry, s...  \n",
       "2242  Pleasingly aromatic and floral, with lively fr...  \n",
       "2243  A blend of three different single malts. Its n...  \n",
       "2244  A very textural whisky. Incredibly creamy, wit...  \n",
       "2245  The tell-tale rich honeyed Balvenie personalit...  \n",
       "2246  Very fruity and spicy. High, bright fruit note...  "
      ]
     },
     "execution_count": 27,
     "metadata": {},
     "output_type": "execute_result"
    }
   ],
   "source": [
    "df[df.review_points == df.review_points.min()]"
   ]
  },
  {
   "cell_type": "markdown",
   "id": "c1a5def0",
   "metadata": {},
   "source": [
    "#### The most expensives Whiskys"
   ]
  },
  {
   "cell_type": "code",
   "execution_count": 28,
   "id": "f886cc7f",
   "metadata": {
    "scrolled": true
   },
   "outputs": [
    {
     "data": {
      "text/html": [
       "<div>\n",
       "<style scoped>\n",
       "    .dataframe tbody tr th:only-of-type {\n",
       "        vertical-align: middle;\n",
       "    }\n",
       "\n",
       "    .dataframe tbody tr th {\n",
       "        vertical-align: top;\n",
       "    }\n",
       "\n",
       "    .dataframe thead th {\n",
       "        text-align: right;\n",
       "    }\n",
       "</style>\n",
       "<table border=\"1\" class=\"dataframe\">\n",
       "  <thead>\n",
       "    <tr style=\"text-align: right;\">\n",
       "      <th></th>\n",
       "      <th>id</th>\n",
       "      <th>name</th>\n",
       "      <th>category</th>\n",
       "      <th>review_points</th>\n",
       "      <th>price</th>\n",
       "      <th>currency</th>\n",
       "      <th>description.1.2247.</th>\n",
       "    </tr>\n",
       "  </thead>\n",
       "  <tbody>\n",
       "    <tr>\n",
       "      <th>151</th>\n",
       "      <td>152</td>\n",
       "      <td>Diamond Jubilee by John Walker &amp; Sons, 42.5%</td>\n",
       "      <td>Blended Scotch Whisky</td>\n",
       "      <td>93</td>\n",
       "      <td>157000.0</td>\n",
       "      <td>$</td>\n",
       "      <td>Bowmore lovers rarely get excited about the sm...</td>\n",
       "    </tr>\n",
       "  </tbody>\n",
       "</table>\n",
       "</div>"
      ],
      "text/plain": [
       "      id                                          name               category  \\\n",
       "151  152  Diamond Jubilee by John Walker & Sons, 42.5%  Blended Scotch Whisky   \n",
       "\n",
       "     review_points     price currency  \\\n",
       "151             93  157000.0        $   \n",
       "\n",
       "                                   description.1.2247.  \n",
       "151  Bowmore lovers rarely get excited about the sm...  "
      ]
     },
     "execution_count": 28,
     "metadata": {},
     "output_type": "execute_result"
    }
   ],
   "source": [
    "df[df.price == df.price.max()]"
   ]
  },
  {
   "cell_type": "markdown",
   "id": "9579db88",
   "metadata": {},
   "source": [
    "* The most expensive whisky have classification `93`. \n",
    "* The most expensive is not equivalent to the best whisky. "
   ]
  },
  {
   "cell_type": "markdown",
   "id": "fe9130c6",
   "metadata": {},
   "source": [
    "#### The cheapest whiskys"
   ]
  },
  {
   "cell_type": "code",
   "execution_count": 29,
   "id": "f0c7b122",
   "metadata": {},
   "outputs": [
    {
     "data": {
      "text/html": [
       "<div>\n",
       "<style scoped>\n",
       "    .dataframe tbody tr th:only-of-type {\n",
       "        vertical-align: middle;\n",
       "    }\n",
       "\n",
       "    .dataframe tbody tr th {\n",
       "        vertical-align: top;\n",
       "    }\n",
       "\n",
       "    .dataframe thead th {\n",
       "        text-align: right;\n",
       "    }\n",
       "</style>\n",
       "<table border=\"1\" class=\"dataframe\">\n",
       "  <thead>\n",
       "    <tr style=\"text-align: right;\">\n",
       "      <th></th>\n",
       "      <th>id</th>\n",
       "      <th>name</th>\n",
       "      <th>category</th>\n",
       "      <th>review_points</th>\n",
       "      <th>price</th>\n",
       "      <th>currency</th>\n",
       "      <th>description.1.2247.</th>\n",
       "    </tr>\n",
       "  </thead>\n",
       "  <tbody>\n",
       "    <tr>\n",
       "      <th>2034</th>\n",
       "      <td>2035</td>\n",
       "      <td>Clan MacGregor, 40%</td>\n",
       "      <td>Blended Scotch Whisky</td>\n",
       "      <td>85</td>\n",
       "      <td>10.0</td>\n",
       "      <td>$</td>\n",
       "      <td>This Balblair vintage replaced the previous 19...</td>\n",
       "    </tr>\n",
       "  </tbody>\n",
       "</table>\n",
       "</div>"
      ],
      "text/plain": [
       "        id                 name               category  review_points  price  \\\n",
       "2034  2035  Clan MacGregor, 40%  Blended Scotch Whisky             85   10.0   \n",
       "\n",
       "     currency                                description.1.2247.  \n",
       "2034        $  This Balblair vintage replaced the previous 19...  "
      ]
     },
     "execution_count": 29,
     "metadata": {},
     "output_type": "execute_result"
    }
   ],
   "source": [
    "df[df.price == df.price.min()]"
   ]
  },
  {
   "cell_type": "markdown",
   "id": "897cb93e",
   "metadata": {},
   "source": [
    "* The cheapest whisky have `83` points\n",
    "* The price lower price is not equivalent to a worst review"
   ]
  },
  {
   "cell_type": "markdown",
   "id": "81006b00",
   "metadata": {},
   "source": [
    "## Testing Correlation Between Points and Price"
   ]
  },
  {
   "cell_type": "code",
   "execution_count": 30,
   "id": "3d2619cb",
   "metadata": {},
   "outputs": [
    {
     "data": {
      "text/plain": [
       "SpearmanrResult(correlation=0.3623845203792773, pvalue=2.9101150226508465e-70)"
      ]
     },
     "execution_count": 30,
     "metadata": {},
     "output_type": "execute_result"
    }
   ],
   "source": [
    "scipy.stats.spearmanr(\n",
    "    df.review_points, \n",
    "    df.price\n",
    "    )"
   ]
  },
  {
   "cell_type": "code",
   "execution_count": 31,
   "id": "1f358bcc",
   "metadata": {},
   "outputs": [
    {
     "data": {
      "text/plain": [
       "PearsonRResult(statistic=0.15068414326309218, pvalue=8.219817272353569e-13)"
      ]
     },
     "execution_count": 31,
     "metadata": {},
     "output_type": "execute_result"
    }
   ],
   "source": [
    "scipy.stats.pearsonr(\n",
    "    df.review_points, \n",
    "    df.price\n",
    "    )"
   ]
  },
  {
   "cell_type": "code",
   "execution_count": 32,
   "id": "abda6911",
   "metadata": {},
   "outputs": [
    {
     "data": {
      "text/plain": [
       "KendalltauResult(correlation=0.25762571102978477, pvalue=1.2493967883595108e-67)"
      ]
     },
     "execution_count": 32,
     "metadata": {},
     "output_type": "execute_result"
    }
   ],
   "source": [
    "scipy.stats.kendalltau(\n",
    "    df.review_points, \n",
    "    df.price\n",
    "    )"
   ]
  },
  {
   "cell_type": "markdown",
   "id": "1603d516",
   "metadata": {},
   "source": [
    "* Any Correlation Algorithms has a valid statistics results. \n",
    "* Kendall, Spearman and Person have a weak correlation between price and review points. \n",
    "* Best reviews is not associated directly with whisky price"
   ]
  },
  {
   "cell_type": "markdown",
   "id": "1a4e298f",
   "metadata": {},
   "source": [
    "### Linear Correlation"
   ]
  },
  {
   "cell_type": "code",
   "execution_count": 33,
   "id": "d061b099",
   "metadata": {
    "scrolled": true
   },
   "outputs": [
    {
     "data": {
      "image/png": "[encoded data removed]",
      "text/plain": [
       "<Figure size 1600x800 with 1 Axes>"
      ]
     },
     "metadata": {},
     "output_type": "display_data"
    }
   ],
   "source": [
    "plt.figure(figsize = (16,8))\n",
    "plt.scatter(\n",
    "    df.price, \n",
    "    df.review_points, \n",
    "    c='blue')\n",
    "plt.xlabel(\" Whiskys Price \")\n",
    "plt.ylabel(\" Review Points \")\n",
    "plt.show()\n"
   ]
  },
  {
   "cell_type": "markdown",
   "id": "e24c0352",
   "metadata": {},
   "source": [
    "* Linear Regression Cannot be assumed using price and reviews to explain each one"
   ]
  },
  {
   "cell_type": "markdown",
   "id": "d038c5ea",
   "metadata": {},
   "source": [
    "#### r-squared test"
   ]
  },
  {
   "cell_type": "code",
   "execution_count": 34,
   "id": "3a2f56af",
   "metadata": {},
   "outputs": [],
   "source": [
    "X = df.review_points\n",
    "y = df.price\n",
    "X2 = sm.add_constant(X)\n",
    "est = sm.OLS(y, X2)\n",
    "est2 = est.fit()"
   ]
  },
  {
   "cell_type": "code",
   "execution_count": 35,
   "id": "7aaf770e",
   "metadata": {},
   "outputs": [
    {
     "data": {
      "text/html": [
       "<table class=\"simpletable\">\n",
       "<caption>OLS Regression Results</caption>\n",
       "<tr>\n",
       "  <th>Dep. Variable:</th>          <td>price</td>      <th>  R-squared:         </th> <td>   0.023</td> \n",
       "</tr>\n",
       "<tr>\n",
       "  <th>Model:</th>                   <td>OLS</td>       <th>  Adj. R-squared:    </th> <td>   0.022</td> \n",
       "</tr>\n",
       "<tr>\n",
       "  <th>Method:</th>             <td>Least Squares</td>  <th>  F-statistic:       </th> <td>   51.83</td> \n",
       "</tr>\n",
       "<tr>\n",
       "  <th>Date:</th>             <td>Wed, 28 Dec 2022</td> <th>  Prob (F-statistic):</th> <td>8.22e-13</td> \n",
       "</tr>\n",
       "<tr>\n",
       "  <th>Time:</th>                 <td>18:50:20</td>     <th>  Log-Likelihood:    </th> <td> -21859.</td> \n",
       "</tr>\n",
       "<tr>\n",
       "  <th>No. Observations:</th>      <td>  2233</td>      <th>  AIC:               </th> <td>4.372e+04</td>\n",
       "</tr>\n",
       "<tr>\n",
       "  <th>Df Residuals:</th>          <td>  2231</td>      <th>  BIC:               </th> <td>4.373e+04</td>\n",
       "</tr>\n",
       "<tr>\n",
       "  <th>Df Model:</th>              <td>     1</td>      <th>                     </th>     <td> </td>    \n",
       "</tr>\n",
       "<tr>\n",
       "  <th>Covariance Type:</th>      <td>nonrobust</td>    <th>                     </th>     <td> </td>    \n",
       "</tr>\n",
       "</table>\n",
       "<table class=\"simpletable\">\n",
       "<tr>\n",
       "        <td></td>           <th>coef</th>     <th>std err</th>      <th>t</th>      <th>P>|t|</th>  <th>[0.025</th>    <th>0.975]</th>  \n",
       "</tr>\n",
       "<tr>\n",
       "  <th>const</th>         <td>-1.908e+04</td> <td> 2748.506</td> <td>   -6.944</td> <td> 0.000</td> <td>-2.45e+04</td> <td>-1.37e+04</td>\n",
       "</tr>\n",
       "<tr>\n",
       "  <th>review_points</th> <td>  223.5422</td> <td>   31.050</td> <td>    7.200</td> <td> 0.000</td> <td>  162.653</td> <td>  284.431</td>\n",
       "</tr>\n",
       "</table>\n",
       "<table class=\"simpletable\">\n",
       "<tr>\n",
       "  <th>Omnibus:</th>       <td>5325.440</td> <th>  Durbin-Watson:     </th>   <td>   1.810</td>  \n",
       "</tr>\n",
       "<tr>\n",
       "  <th>Prob(Omnibus):</th>  <td> 0.000</td>  <th>  Jarque-Bera (JB):  </th> <td>55372973.397</td>\n",
       "</tr>\n",
       "<tr>\n",
       "  <th>Skew:</th>           <td>23.471</td>  <th>  Prob(JB):          </th>   <td>    0.00</td>  \n",
       "</tr>\n",
       "<tr>\n",
       "  <th>Kurtosis:</th>       <td>773.025</td> <th>  Cond. No.          </th>   <td>2.66e+03</td>  \n",
       "</tr>\n",
       "</table><br/><br/>Notes:<br/>[1] Standard Errors assume that the covariance matrix of the errors is correctly specified.<br/>[2] The condition number is large, 2.66e+03. This might indicate that there are<br/>strong multicollinearity or other numerical problems."
      ],
      "text/plain": [
       "<class 'statsmodels.iolib.summary.Summary'>\n",
       "\"\"\"\n",
       "                            OLS Regression Results                            \n",
       "==============================================================================\n",
       "Dep. Variable:                  price   R-squared:                       0.023\n",
       "Model:                            OLS   Adj. R-squared:                  0.022\n",
       "Method:                 Least Squares   F-statistic:                     51.83\n",
       "Date:                Wed, 28 Dec 2022   Prob (F-statistic):           8.22e-13\n",
       "Time:                        18:50:20   Log-Likelihood:                -21859.\n",
       "No. Observations:                2233   AIC:                         4.372e+04\n",
       "Df Residuals:                    2231   BIC:                         4.373e+04\n",
       "Df Model:                           1                                         \n",
       "Covariance Type:            nonrobust                                         \n",
       "=================================================================================\n",
       "                    coef    std err          t      P>|t|      [0.025      0.975]\n",
       "---------------------------------------------------------------------------------\n",
       "const         -1.908e+04   2748.506     -6.944      0.000   -2.45e+04   -1.37e+04\n",
       "review_points   223.5422     31.050      7.200      0.000     162.653     284.431\n",
       "==============================================================================\n",
       "Omnibus:                     5325.440   Durbin-Watson:                   1.810\n",
       "Prob(Omnibus):                  0.000   Jarque-Bera (JB):         55372973.397\n",
       "Skew:                          23.471   Prob(JB):                         0.00\n",
       "Kurtosis:                     773.025   Cond. No.                     2.66e+03\n",
       "==============================================================================\n",
       "\n",
       "Notes:\n",
       "[1] Standard Errors assume that the covariance matrix of the errors is correctly specified.\n",
       "[2] The condition number is large, 2.66e+03. This might indicate that there are\n",
       "strong multicollinearity or other numerical problems.\n",
       "\"\"\""
      ]
     },
     "execution_count": 35,
     "metadata": {},
     "output_type": "execute_result"
    }
   ],
   "source": [
    "est2.summary()"
   ]
  },
  {
   "cell_type": "markdown",
   "id": "b8036f37",
   "metadata": {},
   "source": [
    "* O R-quared is have a insignificant statistics, `0.023`\n",
    "* `review_points` cannot be explained using `price`"
   ]
  },
  {
   "cell_type": "code",
   "execution_count": null,
   "id": "0f9f6127",
   "metadata": {},
   "outputs": [],
   "source": []
  }
 ],
 "metadata": {
  "kernelspec": {
   "display_name": "Python 3 (ipykernel)",
   "language": "python",
   "name": "python3"
  },
  "language_info": {
   "codemirror_mode": {
    "name": "ipython",
    "version": 3
   },
   "file_extension": ".py",
   "mimetype": "text/x-python",
   "name": "python",
   "nbconvert_exporter": "python",
   "pygments_lexer": "ipython3",
   "version": "3.11.1"
  }
 },
 "nbformat": 4,
 "nbformat_minor": 5
}
