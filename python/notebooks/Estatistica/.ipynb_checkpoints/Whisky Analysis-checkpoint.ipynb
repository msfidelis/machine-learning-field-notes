{
 "cells": [
  {
   "cell_type": "markdown",
   "id": "6711fab6",
   "metadata": {},
   "source": [
    "# Introduction\n",
    "* This is my first public notebook. This is a importart information (to me).\n",
    "* I will use this info to measure my data skills\n",
    "\n",
    "# Objective\n",
    "* Contest popular logical fallacies about whiskeys.\n",
    "* Statistically prove the counterpoint of popular ideas like:\n",
    "    * Price x Quality\n",
    "    * Price x Alcohol\n",
    "    * Price x Age\n",
    "    * Age x Quality"
   ]
  },
  {
   "cell_type": "markdown",
   "id": "c8612744",
   "metadata": {},
   "source": [
    "# Setup "
   ]
  },
  {
   "cell_type": "code",
   "execution_count": 1,
   "id": "91c28c9d",
   "metadata": {},
   "outputs": [],
   "source": [
    "import pandas as pd\n",
    "import numpy as np\n",
    "import seaborn as sns \n",
    "import matplotlib.pyplot as plt\n",
    "import statsmodels.api as sm\n",
    "import scipy"
   ]
  },
  {
   "cell_type": "markdown",
   "id": "fa35ac0f",
   "metadata": {},
   "source": [
    "### Importing Datasets"
   ]
  },
  {
   "cell_type": "code",
   "execution_count": 2,
   "id": "66e3aa09",
   "metadata": {},
   "outputs": [],
   "source": [
    "df = pd.read_csv(\"datasets/scotch_review2020.csv\")"
   ]
  },
  {
   "cell_type": "markdown",
   "id": "4a3d2333",
   "metadata": {},
   "source": [
    "### Knowlege Data"
   ]
  },
  {
   "cell_type": "code",
   "execution_count": 3,
   "id": "20b7e64d",
   "metadata": {
    "scrolled": true
   },
   "outputs": [
    {
     "data": {
      "text/plain": [
       "(2247, 7)"
      ]
     },
     "execution_count": 3,
     "metadata": {},
     "output_type": "execute_result"
    }
   ],
   "source": [
    "df.shape"
   ]
  },
  {
   "cell_type": "code",
   "execution_count": 4,
   "id": "6265e9f2",
   "metadata": {},
   "outputs": [
    {
     "name": "stdout",
     "output_type": "stream",
     "text": [
      "<class 'pandas.core.frame.DataFrame'>\n",
      "RangeIndex: 2247 entries, 0 to 2246\n",
      "Data columns (total 7 columns):\n",
      " #   Column               Non-Null Count  Dtype \n",
      "---  ------               --------------  ----- \n",
      " 0   id                   2247 non-null   int64 \n",
      " 1   name                 2247 non-null   object\n",
      " 2   category             2247 non-null   object\n",
      " 3   review.point         2247 non-null   int64 \n",
      " 4   price                2247 non-null   object\n",
      " 5   currency             2247 non-null   object\n",
      " 6   description.1.2247.  2208 non-null   object\n",
      "dtypes: int64(2), object(5)\n",
      "memory usage: 123.0+ KB\n"
     ]
    }
   ],
   "source": [
    "df.info()"
   ]
  },
  {
   "cell_type": "code",
   "execution_count": 5,
   "id": "5eac6c96",
   "metadata": {
    "scrolled": true
   },
   "outputs": [
    {
     "data": {
      "text/html": [
       "<div>\n",
       "<style scoped>\n",
       "    .dataframe tbody tr th:only-of-type {\n",
       "        vertical-align: middle;\n",
       "    }\n",
       "\n",
       "    .dataframe tbody tr th {\n",
       "        vertical-align: top;\n",
       "    }\n",
       "\n",
       "    .dataframe thead th {\n",
       "        text-align: right;\n",
       "    }\n",
       "</style>\n",
       "<table border=\"1\" class=\"dataframe\">\n",
       "  <thead>\n",
       "    <tr style=\"text-align: right;\">\n",
       "      <th></th>\n",
       "      <th>id</th>\n",
       "      <th>review.point</th>\n",
       "    </tr>\n",
       "  </thead>\n",
       "  <tbody>\n",
       "    <tr>\n",
       "      <th>count</th>\n",
       "      <td>2247.000000</td>\n",
       "      <td>2247.000000</td>\n",
       "    </tr>\n",
       "    <tr>\n",
       "      <th>mean</th>\n",
       "      <td>1124.000000</td>\n",
       "      <td>88.477526</td>\n",
       "    </tr>\n",
       "    <tr>\n",
       "      <th>std</th>\n",
       "      <td>648.797349</td>\n",
       "      <td>2.949306</td>\n",
       "    </tr>\n",
       "    <tr>\n",
       "      <th>min</th>\n",
       "      <td>1.000000</td>\n",
       "      <td>83.000000</td>\n",
       "    </tr>\n",
       "    <tr>\n",
       "      <th>25%</th>\n",
       "      <td>562.500000</td>\n",
       "      <td>86.000000</td>\n",
       "    </tr>\n",
       "    <tr>\n",
       "      <th>50%</th>\n",
       "      <td>1124.000000</td>\n",
       "      <td>88.000000</td>\n",
       "    </tr>\n",
       "    <tr>\n",
       "      <th>75%</th>\n",
       "      <td>1685.500000</td>\n",
       "      <td>91.000000</td>\n",
       "    </tr>\n",
       "    <tr>\n",
       "      <th>max</th>\n",
       "      <td>2247.000000</td>\n",
       "      <td>97.000000</td>\n",
       "    </tr>\n",
       "  </tbody>\n",
       "</table>\n",
       "</div>"
      ],
      "text/plain": [
       "                id  review.point\n",
       "count  2247.000000   2247.000000\n",
       "mean   1124.000000     88.477526\n",
       "std     648.797349      2.949306\n",
       "min       1.000000     83.000000\n",
       "25%     562.500000     86.000000\n",
       "50%    1124.000000     88.000000\n",
       "75%    1685.500000     91.000000\n",
       "max    2247.000000     97.000000"
      ]
     },
     "execution_count": 5,
     "metadata": {},
     "output_type": "execute_result"
    }
   ],
   "source": [
    "df.describe()"
   ]
  },
  {
   "cell_type": "code",
   "execution_count": 6,
   "id": "4e78f187",
   "metadata": {
    "scrolled": false
   },
   "outputs": [
    {
     "data": {
      "text/html": [
       "<div>\n",
       "<style scoped>\n",
       "    .dataframe tbody tr th:only-of-type {\n",
       "        vertical-align: middle;\n",
       "    }\n",
       "\n",
       "    .dataframe tbody tr th {\n",
       "        vertical-align: top;\n",
       "    }\n",
       "\n",
       "    .dataframe thead th {\n",
       "        text-align: right;\n",
       "    }\n",
       "</style>\n",
       "<table border=\"1\" class=\"dataframe\">\n",
       "  <thead>\n",
       "    <tr style=\"text-align: right;\">\n",
       "      <th></th>\n",
       "      <th>id</th>\n",
       "      <th>name</th>\n",
       "      <th>category</th>\n",
       "      <th>review.point</th>\n",
       "      <th>price</th>\n",
       "      <th>currency</th>\n",
       "      <th>description.1.2247.</th>\n",
       "    </tr>\n",
       "  </thead>\n",
       "  <tbody>\n",
       "    <tr>\n",
       "      <th>0</th>\n",
       "      <td>1</td>\n",
       "      <td>Black Bowmore 42 year old 1964 vintage, 40.5%</td>\n",
       "      <td>Single Malt Scotch</td>\n",
       "      <td>97</td>\n",
       "      <td>4500</td>\n",
       "      <td>$</td>\n",
       "      <td>What impresses me most is how this whisky evol...</td>\n",
       "    </tr>\n",
       "    <tr>\n",
       "      <th>1</th>\n",
       "      <td>2</td>\n",
       "      <td>Bowmore 46 year old (distilled 1964), 42.9%</td>\n",
       "      <td>Single Malt Scotch</td>\n",
       "      <td>97</td>\n",
       "      <td>13500</td>\n",
       "      <td>$</td>\n",
       "      <td>There have been some legendary Bowmores from t...</td>\n",
       "    </tr>\n",
       "    <tr>\n",
       "      <th>2</th>\n",
       "      <td>3</td>\n",
       "      <td>Johnnie Walker Blue Label, 40%</td>\n",
       "      <td>Blended Scotch Whisky</td>\n",
       "      <td>97</td>\n",
       "      <td>225</td>\n",
       "      <td>$</td>\n",
       "      <td>Magnificently powerful and intense. Caramels, ...</td>\n",
       "    </tr>\n",
       "    <tr>\n",
       "      <th>3</th>\n",
       "      <td>4</td>\n",
       "      <td>Glenlivet Cellar Collection 1969 vintage, 50.8%</td>\n",
       "      <td>Single Malt Scotch</td>\n",
       "      <td>96</td>\n",
       "      <td>750</td>\n",
       "      <td>$</td>\n",
       "      <td>It’s great that Glenlivet releases whiskies un...</td>\n",
       "    </tr>\n",
       "    <tr>\n",
       "      <th>4</th>\n",
       "      <td>5</td>\n",
       "      <td>The Macallan 29 year old 1976 Vintage (Cask #1...</td>\n",
       "      <td>Single Malt Scotch</td>\n",
       "      <td>96</td>\n",
       "      <td>1,500</td>\n",
       "      <td>$</td>\n",
       "      <td>Classic sherry cask-aged Macallan. Antique amb...</td>\n",
       "    </tr>\n",
       "  </tbody>\n",
       "</table>\n",
       "</div>"
      ],
      "text/plain": [
       "   id                                               name  \\\n",
       "0   1      Black Bowmore 42 year old 1964 vintage, 40.5%   \n",
       "1   2        Bowmore 46 year old (distilled 1964), 42.9%   \n",
       "2   3                     Johnnie Walker Blue Label, 40%   \n",
       "3   4    Glenlivet Cellar Collection 1969 vintage, 50.8%   \n",
       "4   5  The Macallan 29 year old 1976 Vintage (Cask #1...   \n",
       "\n",
       "                category  review.point  price currency  \\\n",
       "0     Single Malt Scotch            97   4500        $   \n",
       "1     Single Malt Scotch            97  13500        $   \n",
       "2  Blended Scotch Whisky            97    225        $   \n",
       "3     Single Malt Scotch            96    750        $   \n",
       "4     Single Malt Scotch            96  1,500        $   \n",
       "\n",
       "                                 description.1.2247.  \n",
       "0  What impresses me most is how this whisky evol...  \n",
       "1  There have been some legendary Bowmores from t...  \n",
       "2  Magnificently powerful and intense. Caramels, ...  \n",
       "3  It’s great that Glenlivet releases whiskies un...  \n",
       "4  Classic sherry cask-aged Macallan. Antique amb...  "
      ]
     },
     "execution_count": 6,
     "metadata": {},
     "output_type": "execute_result"
    }
   ],
   "source": [
    "df.head()"
   ]
  },
  {
   "cell_type": "markdown",
   "id": "9b47ef74",
   "metadata": {},
   "source": [
    "#### Checking Null Values"
   ]
  },
  {
   "cell_type": "code",
   "execution_count": 7,
   "id": "b9ad2662",
   "metadata": {},
   "outputs": [
    {
     "data": {
      "text/plain": [
       "id                      0\n",
       "name                    0\n",
       "category                0\n",
       "review.point            0\n",
       "price                   0\n",
       "currency                0\n",
       "description.1.2247.    39\n",
       "dtype: int64"
      ]
     },
     "execution_count": 7,
     "metadata": {},
     "output_type": "execute_result"
    }
   ],
   "source": [
    "df.isnull().sum()"
   ]
  },
  {
   "cell_type": "markdown",
   "id": "3615e997",
   "metadata": {},
   "source": [
    "## Data Treatment "
   ]
  },
  {
   "cell_type": "markdown",
   "id": "936dd9c0",
   "metadata": {},
   "source": [
    "### Price\n",
    "* The prices is not normalized and can be classified like `object`. We neet to convert to `int`"
   ]
  },
  {
   "cell_type": "code",
   "execution_count": 8,
   "id": "532902cb",
   "metadata": {},
   "outputs": [
    {
     "name": "stdout",
     "output_type": "stream",
     "text": [
      "<class 'pandas.core.series.Series'>\n",
      "RangeIndex: 2247 entries, 0 to 2246\n",
      "Series name: price\n",
      "Non-Null Count  Dtype \n",
      "--------------  ----- \n",
      "2247 non-null   object\n",
      "dtypes: object(1)\n",
      "memory usage: 17.7+ KB\n"
     ]
    }
   ],
   "source": [
    "df.price.info()"
   ]
  },
  {
   "cell_type": "code",
   "execution_count": 9,
   "id": "cd83e0ef",
   "metadata": {},
   "outputs": [
    {
     "data": {
      "text/html": [
       "<div>\n",
       "<style scoped>\n",
       "    .dataframe tbody tr th:only-of-type {\n",
       "        vertical-align: middle;\n",
       "    }\n",
       "\n",
       "    .dataframe tbody tr th {\n",
       "        vertical-align: top;\n",
       "    }\n",
       "\n",
       "    .dataframe thead th {\n",
       "        text-align: right;\n",
       "    }\n",
       "</style>\n",
       "<table border=\"1\" class=\"dataframe\">\n",
       "  <thead>\n",
       "    <tr style=\"text-align: right;\">\n",
       "      <th></th>\n",
       "      <th>id</th>\n",
       "      <th>name</th>\n",
       "      <th>category</th>\n",
       "      <th>review.point</th>\n",
       "      <th>price</th>\n",
       "      <th>currency</th>\n",
       "      <th>description.1.2247.</th>\n",
       "    </tr>\n",
       "  </thead>\n",
       "  <tbody>\n",
       "    <tr>\n",
       "      <th>0</th>\n",
       "      <td>1</td>\n",
       "      <td>Black Bowmore 42 year old 1964 vintage, 40.5%</td>\n",
       "      <td>Single Malt Scotch</td>\n",
       "      <td>97</td>\n",
       "      <td>4500</td>\n",
       "      <td>$</td>\n",
       "      <td>What impresses me most is how this whisky evol...</td>\n",
       "    </tr>\n",
       "    <tr>\n",
       "      <th>1</th>\n",
       "      <td>2</td>\n",
       "      <td>Bowmore 46 year old (distilled 1964), 42.9%</td>\n",
       "      <td>Single Malt Scotch</td>\n",
       "      <td>97</td>\n",
       "      <td>13500</td>\n",
       "      <td>$</td>\n",
       "      <td>There have been some legendary Bowmores from t...</td>\n",
       "    </tr>\n",
       "    <tr>\n",
       "      <th>2</th>\n",
       "      <td>3</td>\n",
       "      <td>Johnnie Walker Blue Label, 40%</td>\n",
       "      <td>Blended Scotch Whisky</td>\n",
       "      <td>97</td>\n",
       "      <td>225</td>\n",
       "      <td>$</td>\n",
       "      <td>Magnificently powerful and intense. Caramels, ...</td>\n",
       "    </tr>\n",
       "    <tr>\n",
       "      <th>3</th>\n",
       "      <td>4</td>\n",
       "      <td>Glenlivet Cellar Collection 1969 vintage, 50.8%</td>\n",
       "      <td>Single Malt Scotch</td>\n",
       "      <td>96</td>\n",
       "      <td>750</td>\n",
       "      <td>$</td>\n",
       "      <td>It’s great that Glenlivet releases whiskies un...</td>\n",
       "    </tr>\n",
       "    <tr>\n",
       "      <th>4</th>\n",
       "      <td>5</td>\n",
       "      <td>The Macallan 29 year old 1976 Vintage (Cask #1...</td>\n",
       "      <td>Single Malt Scotch</td>\n",
       "      <td>96</td>\n",
       "      <td>1,500</td>\n",
       "      <td>$</td>\n",
       "      <td>Classic sherry cask-aged Macallan. Antique amb...</td>\n",
       "    </tr>\n",
       "  </tbody>\n",
       "</table>\n",
       "</div>"
      ],
      "text/plain": [
       "   id                                               name  \\\n",
       "0   1      Black Bowmore 42 year old 1964 vintage, 40.5%   \n",
       "1   2        Bowmore 46 year old (distilled 1964), 42.9%   \n",
       "2   3                     Johnnie Walker Blue Label, 40%   \n",
       "3   4    Glenlivet Cellar Collection 1969 vintage, 50.8%   \n",
       "4   5  The Macallan 29 year old 1976 Vintage (Cask #1...   \n",
       "\n",
       "                category  review.point  price currency  \\\n",
       "0     Single Malt Scotch            97   4500        $   \n",
       "1     Single Malt Scotch            97  13500        $   \n",
       "2  Blended Scotch Whisky            97    225        $   \n",
       "3     Single Malt Scotch            96    750        $   \n",
       "4     Single Malt Scotch            96  1,500        $   \n",
       "\n",
       "                                 description.1.2247.  \n",
       "0  What impresses me most is how this whisky evol...  \n",
       "1  There have been some legendary Bowmores from t...  \n",
       "2  Magnificently powerful and intense. Caramels, ...  \n",
       "3  It’s great that Glenlivet releases whiskies un...  \n",
       "4  Classic sherry cask-aged Macallan. Antique amb...  "
      ]
     },
     "execution_count": 9,
     "metadata": {},
     "output_type": "execute_result"
    }
   ],
   "source": [
    "df.head()"
   ]
  },
  {
   "cell_type": "markdown",
   "id": "e548e4ca",
   "metadata": {},
   "source": [
    "* The first step is remove `,` character from strings before convert to float64"
   ]
  },
  {
   "cell_type": "code",
   "execution_count": 10,
   "id": "4865f0a4",
   "metadata": {},
   "outputs": [],
   "source": [
    "df[\"price\"] = df[\"price\"].str.replace(',', '')"
   ]
  },
  {
   "cell_type": "markdown",
   "id": "2371b305",
   "metadata": {},
   "source": [
    "* Now, we can use `to_numeric` function to convert data type on dataframe"
   ]
  },
  {
   "cell_type": "code",
   "execution_count": 11,
   "id": "5ac3d4ab",
   "metadata": {},
   "outputs": [],
   "source": [
    "df[\"price\"] = pd.to_numeric(df['price'], errors='coerce')"
   ]
  },
  {
   "cell_type": "code",
   "execution_count": 12,
   "id": "1e17d180",
   "metadata": {},
   "outputs": [
    {
     "data": {
      "text/html": [
       "<div>\n",
       "<style scoped>\n",
       "    .dataframe tbody tr th:only-of-type {\n",
       "        vertical-align: middle;\n",
       "    }\n",
       "\n",
       "    .dataframe tbody tr th {\n",
       "        vertical-align: top;\n",
       "    }\n",
       "\n",
       "    .dataframe thead th {\n",
       "        text-align: right;\n",
       "    }\n",
       "</style>\n",
       "<table border=\"1\" class=\"dataframe\">\n",
       "  <thead>\n",
       "    <tr style=\"text-align: right;\">\n",
       "      <th></th>\n",
       "      <th>id</th>\n",
       "      <th>name</th>\n",
       "      <th>category</th>\n",
       "      <th>review.point</th>\n",
       "      <th>price</th>\n",
       "      <th>currency</th>\n",
       "      <th>description.1.2247.</th>\n",
       "    </tr>\n",
       "  </thead>\n",
       "  <tbody>\n",
       "    <tr>\n",
       "      <th>0</th>\n",
       "      <td>1</td>\n",
       "      <td>Black Bowmore 42 year old 1964 vintage, 40.5%</td>\n",
       "      <td>Single Malt Scotch</td>\n",
       "      <td>97</td>\n",
       "      <td>4500.0</td>\n",
       "      <td>$</td>\n",
       "      <td>What impresses me most is how this whisky evol...</td>\n",
       "    </tr>\n",
       "    <tr>\n",
       "      <th>1</th>\n",
       "      <td>2</td>\n",
       "      <td>Bowmore 46 year old (distilled 1964), 42.9%</td>\n",
       "      <td>Single Malt Scotch</td>\n",
       "      <td>97</td>\n",
       "      <td>13500.0</td>\n",
       "      <td>$</td>\n",
       "      <td>There have been some legendary Bowmores from t...</td>\n",
       "    </tr>\n",
       "    <tr>\n",
       "      <th>2</th>\n",
       "      <td>3</td>\n",
       "      <td>Johnnie Walker Blue Label, 40%</td>\n",
       "      <td>Blended Scotch Whisky</td>\n",
       "      <td>97</td>\n",
       "      <td>225.0</td>\n",
       "      <td>$</td>\n",
       "      <td>Magnificently powerful and intense. Caramels, ...</td>\n",
       "    </tr>\n",
       "    <tr>\n",
       "      <th>3</th>\n",
       "      <td>4</td>\n",
       "      <td>Glenlivet Cellar Collection 1969 vintage, 50.8%</td>\n",
       "      <td>Single Malt Scotch</td>\n",
       "      <td>96</td>\n",
       "      <td>750.0</td>\n",
       "      <td>$</td>\n",
       "      <td>It’s great that Glenlivet releases whiskies un...</td>\n",
       "    </tr>\n",
       "    <tr>\n",
       "      <th>4</th>\n",
       "      <td>5</td>\n",
       "      <td>The Macallan 29 year old 1976 Vintage (Cask #1...</td>\n",
       "      <td>Single Malt Scotch</td>\n",
       "      <td>96</td>\n",
       "      <td>1500.0</td>\n",
       "      <td>$</td>\n",
       "      <td>Classic sherry cask-aged Macallan. Antique amb...</td>\n",
       "    </tr>\n",
       "  </tbody>\n",
       "</table>\n",
       "</div>"
      ],
      "text/plain": [
       "   id                                               name  \\\n",
       "0   1      Black Bowmore 42 year old 1964 vintage, 40.5%   \n",
       "1   2        Bowmore 46 year old (distilled 1964), 42.9%   \n",
       "2   3                     Johnnie Walker Blue Label, 40%   \n",
       "3   4    Glenlivet Cellar Collection 1969 vintage, 50.8%   \n",
       "4   5  The Macallan 29 year old 1976 Vintage (Cask #1...   \n",
       "\n",
       "                category  review.point    price currency  \\\n",
       "0     Single Malt Scotch            97   4500.0        $   \n",
       "1     Single Malt Scotch            97  13500.0        $   \n",
       "2  Blended Scotch Whisky            97    225.0        $   \n",
       "3     Single Malt Scotch            96    750.0        $   \n",
       "4     Single Malt Scotch            96   1500.0        $   \n",
       "\n",
       "                                 description.1.2247.  \n",
       "0  What impresses me most is how this whisky evol...  \n",
       "1  There have been some legendary Bowmores from t...  \n",
       "2  Magnificently powerful and intense. Caramels, ...  \n",
       "3  It’s great that Glenlivet releases whiskies un...  \n",
       "4  Classic sherry cask-aged Macallan. Antique amb...  "
      ]
     },
     "execution_count": 12,
     "metadata": {},
     "output_type": "execute_result"
    }
   ],
   "source": [
    "df.head()"
   ]
  },
  {
   "cell_type": "code",
   "execution_count": 13,
   "id": "de30f744",
   "metadata": {},
   "outputs": [
    {
     "name": "stdout",
     "output_type": "stream",
     "text": [
      "<class 'pandas.core.series.Series'>\n",
      "RangeIndex: 2247 entries, 0 to 2246\n",
      "Series name: price\n",
      "Non-Null Count  Dtype  \n",
      "--------------  -----  \n",
      "2233 non-null   float64\n",
      "dtypes: float64(1)\n",
      "memory usage: 17.7 KB\n"
     ]
    }
   ],
   "source": [
    "df.price.info()"
   ]
  },
  {
   "cell_type": "code",
   "execution_count": 14,
   "id": "19d1d285",
   "metadata": {
    "scrolled": false
   },
   "outputs": [
    {
     "data": {
      "text/html": [
       "<div>\n",
       "<style scoped>\n",
       "    .dataframe tbody tr th:only-of-type {\n",
       "        vertical-align: middle;\n",
       "    }\n",
       "\n",
       "    .dataframe tbody tr th {\n",
       "        vertical-align: top;\n",
       "    }\n",
       "\n",
       "    .dataframe thead th {\n",
       "        text-align: right;\n",
       "    }\n",
       "</style>\n",
       "<table border=\"1\" class=\"dataframe\">\n",
       "  <thead>\n",
       "    <tr style=\"text-align: right;\">\n",
       "      <th></th>\n",
       "      <th>id</th>\n",
       "      <th>review.point</th>\n",
       "      <th>price</th>\n",
       "    </tr>\n",
       "  </thead>\n",
       "  <tbody>\n",
       "    <tr>\n",
       "      <th>count</th>\n",
       "      <td>2247.000000</td>\n",
       "      <td>2247.000000</td>\n",
       "      <td>2233.000000</td>\n",
       "    </tr>\n",
       "    <tr>\n",
       "      <th>mean</th>\n",
       "      <td>1124.000000</td>\n",
       "      <td>88.477526</td>\n",
       "      <td>692.493954</td>\n",
       "    </tr>\n",
       "    <tr>\n",
       "      <th>std</th>\n",
       "      <td>648.797349</td>\n",
       "      <td>2.949306</td>\n",
       "      <td>4367.845746</td>\n",
       "    </tr>\n",
       "    <tr>\n",
       "      <th>min</th>\n",
       "      <td>1.000000</td>\n",
       "      <td>83.000000</td>\n",
       "      <td>10.000000</td>\n",
       "    </tr>\n",
       "    <tr>\n",
       "      <th>25%</th>\n",
       "      <td>562.500000</td>\n",
       "      <td>86.000000</td>\n",
       "      <td>70.000000</td>\n",
       "    </tr>\n",
       "    <tr>\n",
       "      <th>50%</th>\n",
       "      <td>1124.000000</td>\n",
       "      <td>88.000000</td>\n",
       "      <td>111.000000</td>\n",
       "    </tr>\n",
       "    <tr>\n",
       "      <th>75%</th>\n",
       "      <td>1685.500000</td>\n",
       "      <td>91.000000</td>\n",
       "      <td>230.000000</td>\n",
       "    </tr>\n",
       "    <tr>\n",
       "      <th>max</th>\n",
       "      <td>2247.000000</td>\n",
       "      <td>97.000000</td>\n",
       "      <td>157000.000000</td>\n",
       "    </tr>\n",
       "  </tbody>\n",
       "</table>\n",
       "</div>"
      ],
      "text/plain": [
       "                id  review.point          price\n",
       "count  2247.000000   2247.000000    2233.000000\n",
       "mean   1124.000000     88.477526     692.493954\n",
       "std     648.797349      2.949306    4367.845746\n",
       "min       1.000000     83.000000      10.000000\n",
       "25%     562.500000     86.000000      70.000000\n",
       "50%    1124.000000     88.000000     111.000000\n",
       "75%    1685.500000     91.000000     230.000000\n",
       "max    2247.000000     97.000000  157000.000000"
      ]
     },
     "execution_count": 14,
     "metadata": {},
     "output_type": "execute_result"
    }
   ],
   "source": [
    "df.describe()"
   ]
  },
  {
   "cell_type": "markdown",
   "id": "91d96b93",
   "metadata": {},
   "source": [
    "* Removing observations without price"
   ]
  },
  {
   "cell_type": "code",
   "execution_count": 15,
   "id": "5e661b86",
   "metadata": {},
   "outputs": [
    {
     "data": {
      "text/plain": [
       "14"
      ]
     },
     "execution_count": 15,
     "metadata": {},
     "output_type": "execute_result"
    }
   ],
   "source": [
    "df.price.isnull().sum()"
   ]
  },
  {
   "cell_type": "code",
   "execution_count": 16,
   "id": "cab0940a",
   "metadata": {},
   "outputs": [],
   "source": [
    "df = df[pd.notnull(df['price'])]"
   ]
  },
  {
   "cell_type": "code",
   "execution_count": 17,
   "id": "66280544",
   "metadata": {},
   "outputs": [
    {
     "data": {
      "text/plain": [
       "0"
      ]
     },
     "execution_count": 17,
     "metadata": {},
     "output_type": "execute_result"
    }
   ],
   "source": [
    "df.price.isnull().sum()"
   ]
  },
  {
   "cell_type": "code",
   "execution_count": 18,
   "id": "706bec3f",
   "metadata": {},
   "outputs": [
    {
     "data": {
      "text/plain": [
       "(2233, 7)"
      ]
     },
     "execution_count": 18,
     "metadata": {},
     "output_type": "execute_result"
    }
   ],
   "source": [
    "df.shape"
   ]
  },
  {
   "cell_type": "markdown",
   "id": "ffb15233",
   "metadata": {},
   "source": [
    "### Review Points"
   ]
  },
  {
   "cell_type": "markdown",
   "id": "57062457",
   "metadata": {},
   "source": [
    "* The column with review points is called `review.point`.\n",
    "* To best experience in analysis this variable will be renamed as `review_points`"
   ]
  },
  {
   "cell_type": "code",
   "execution_count": 19,
   "id": "afb4474a",
   "metadata": {},
   "outputs": [
    {
     "data": {
      "text/plain": [
       "Index(['id', 'name', 'category', 'review.point', 'price', 'currency',\n",
       "       'description.1.2247.'],\n",
       "      dtype='object')"
      ]
     },
     "execution_count": 19,
     "metadata": {},
     "output_type": "execute_result"
    }
   ],
   "source": [
    "df.columns"
   ]
  },
  {
   "cell_type": "code",
   "execution_count": 20,
   "id": "243db648",
   "metadata": {},
   "outputs": [],
   "source": [
    "df.rename(columns={'review.point': 'review_points'}, inplace=True)"
   ]
  },
  {
   "cell_type": "code",
   "execution_count": 21,
   "id": "fbe23820",
   "metadata": {
    "scrolled": true
   },
   "outputs": [
    {
     "data": {
      "text/plain": [
       "Index(['id', 'name', 'category', 'review_points', 'price', 'currency',\n",
       "       'description.1.2247.'],\n",
       "      dtype='object')"
      ]
     },
     "execution_count": 21,
     "metadata": {},
     "output_type": "execute_result"
    }
   ],
   "source": [
    "df.columns"
   ]
  },
  {
   "cell_type": "markdown",
   "id": "8352cc29",
   "metadata": {},
   "source": [
    "* Removing `null` values from price"
   ]
  },
  {
   "cell_type": "markdown",
   "id": "27590745",
   "metadata": {},
   "source": [
    "### Alcool Percentage"
   ]
  },
  {
   "cell_type": "markdown",
   "id": "c7461c2e",
   "metadata": {},
   "source": [
    "* The variable `name` sometimes have a alcool percentage from the whisky. \n",
    "* We need to create a new variable called `alcool_percentage` extracting this information from `name` string "
   ]
  },
  {
   "cell_type": "markdown",
   "id": "2d3e0a30",
   "metadata": {},
   "source": [
    "#### Extracting Pattern from String\n",
    "* Some whiskys have an `100%` notation in the name. We need to remove the `100%` pattern from string \n",
    "* I used `(\\d+.?\\d+?%)` pattern to identify explicit percentage, with decimal numbers\n",
    "* After retrieve the information, we need to remove `%` character from a string\n",
    "* Finnaly we can convert the value to decimal and aggregate to dataframe"
   ]
  },
  {
   "cell_type": "code",
   "execution_count": 22,
   "id": "2f4c7edd",
   "metadata": {},
   "outputs": [],
   "source": [
    "df['name'] = df['name'].str.replace('100%', '', regex=True)"
   ]
  },
  {
   "cell_type": "code",
   "execution_count": 23,
   "id": "a5414764",
   "metadata": {},
   "outputs": [],
   "source": [
    "alcool_percentage = df['name'].str.extract('(\\d+.?\\d+?%)', expand=True)"
   ]
  },
  {
   "cell_type": "code",
   "execution_count": 24,
   "id": "f71471e6",
   "metadata": {},
   "outputs": [],
   "source": [
    "df['alcool_percentage'] = alcool_percentage"
   ]
  },
  {
   "cell_type": "code",
   "execution_count": 25,
   "id": "66a98a31",
   "metadata": {},
   "outputs": [],
   "source": [
    "df['alcool_percentage'] = df['alcool_percentage'].str.replace('%', '', regex=True)"
   ]
  },
  {
   "cell_type": "code",
   "execution_count": 26,
   "id": "eb3457b9",
   "metadata": {},
   "outputs": [],
   "source": [
    "df['alcool_percentage'] = pd.to_numeric(df[\"alcool_percentage\"], downcast=\"float\")"
   ]
  },
  {
   "cell_type": "code",
   "execution_count": 27,
   "id": "5a962c35",
   "metadata": {},
   "outputs": [],
   "source": [
    "df['alcool_percentage'] = df['alcool_percentage'] / 100"
   ]
  },
  {
   "cell_type": "code",
   "execution_count": 28,
   "id": "6ecb9b19",
   "metadata": {
    "scrolled": true
   },
   "outputs": [
    {
     "data": {
      "text/html": [
       "<div>\n",
       "<style scoped>\n",
       "    .dataframe tbody tr th:only-of-type {\n",
       "        vertical-align: middle;\n",
       "    }\n",
       "\n",
       "    .dataframe tbody tr th {\n",
       "        vertical-align: top;\n",
       "    }\n",
       "\n",
       "    .dataframe thead th {\n",
       "        text-align: right;\n",
       "    }\n",
       "</style>\n",
       "<table border=\"1\" class=\"dataframe\">\n",
       "  <thead>\n",
       "    <tr style=\"text-align: right;\">\n",
       "      <th></th>\n",
       "      <th>id</th>\n",
       "      <th>name</th>\n",
       "      <th>category</th>\n",
       "      <th>review_points</th>\n",
       "      <th>price</th>\n",
       "      <th>currency</th>\n",
       "      <th>description.1.2247.</th>\n",
       "      <th>alcool_percentage</th>\n",
       "    </tr>\n",
       "  </thead>\n",
       "  <tbody>\n",
       "    <tr>\n",
       "      <th>0</th>\n",
       "      <td>1</td>\n",
       "      <td>Black Bowmore 42 year old 1964 vintage, 40.5%</td>\n",
       "      <td>Single Malt Scotch</td>\n",
       "      <td>97</td>\n",
       "      <td>4500.0</td>\n",
       "      <td>$</td>\n",
       "      <td>What impresses me most is how this whisky evol...</td>\n",
       "      <td>0.405</td>\n",
       "    </tr>\n",
       "    <tr>\n",
       "      <th>1</th>\n",
       "      <td>2</td>\n",
       "      <td>Bowmore 46 year old (distilled 1964), 42.9%</td>\n",
       "      <td>Single Malt Scotch</td>\n",
       "      <td>97</td>\n",
       "      <td>13500.0</td>\n",
       "      <td>$</td>\n",
       "      <td>There have been some legendary Bowmores from t...</td>\n",
       "      <td>0.429</td>\n",
       "    </tr>\n",
       "    <tr>\n",
       "      <th>2</th>\n",
       "      <td>3</td>\n",
       "      <td>Johnnie Walker Blue Label, 40%</td>\n",
       "      <td>Blended Scotch Whisky</td>\n",
       "      <td>97</td>\n",
       "      <td>225.0</td>\n",
       "      <td>$</td>\n",
       "      <td>Magnificently powerful and intense. Caramels, ...</td>\n",
       "      <td>0.400</td>\n",
       "    </tr>\n",
       "    <tr>\n",
       "      <th>3</th>\n",
       "      <td>4</td>\n",
       "      <td>Glenlivet Cellar Collection 1969 vintage, 50.8%</td>\n",
       "      <td>Single Malt Scotch</td>\n",
       "      <td>96</td>\n",
       "      <td>750.0</td>\n",
       "      <td>$</td>\n",
       "      <td>It’s great that Glenlivet releases whiskies un...</td>\n",
       "      <td>0.508</td>\n",
       "    </tr>\n",
       "    <tr>\n",
       "      <th>4</th>\n",
       "      <td>5</td>\n",
       "      <td>The Macallan 29 year old 1976 Vintage (Cask #1...</td>\n",
       "      <td>Single Malt Scotch</td>\n",
       "      <td>96</td>\n",
       "      <td>1500.0</td>\n",
       "      <td>$</td>\n",
       "      <td>Classic sherry cask-aged Macallan. Antique amb...</td>\n",
       "      <td>0.454</td>\n",
       "    </tr>\n",
       "  </tbody>\n",
       "</table>\n",
       "</div>"
      ],
      "text/plain": [
       "   id                                               name  \\\n",
       "0   1      Black Bowmore 42 year old 1964 vintage, 40.5%   \n",
       "1   2        Bowmore 46 year old (distilled 1964), 42.9%   \n",
       "2   3                     Johnnie Walker Blue Label, 40%   \n",
       "3   4    Glenlivet Cellar Collection 1969 vintage, 50.8%   \n",
       "4   5  The Macallan 29 year old 1976 Vintage (Cask #1...   \n",
       "\n",
       "                category  review_points    price currency  \\\n",
       "0     Single Malt Scotch             97   4500.0        $   \n",
       "1     Single Malt Scotch             97  13500.0        $   \n",
       "2  Blended Scotch Whisky             97    225.0        $   \n",
       "3     Single Malt Scotch             96    750.0        $   \n",
       "4     Single Malt Scotch             96   1500.0        $   \n",
       "\n",
       "                                 description.1.2247.  alcool_percentage  \n",
       "0  What impresses me most is how this whisky evol...              0.405  \n",
       "1  There have been some legendary Bowmores from t...              0.429  \n",
       "2  Magnificently powerful and intense. Caramels, ...              0.400  \n",
       "3  It’s great that Glenlivet releases whiskies un...              0.508  \n",
       "4  Classic sherry cask-aged Macallan. Antique amb...              0.454  "
      ]
     },
     "execution_count": 28,
     "metadata": {},
     "output_type": "execute_result"
    }
   ],
   "source": [
    "df.head()"
   ]
  },
  {
   "cell_type": "markdown",
   "id": "885c49f2",
   "metadata": {},
   "source": [
    "### Whiskys Age"
   ]
  },
  {
   "cell_type": "markdown",
   "id": "f2e84845",
   "metadata": {},
   "source": [
    "* The variable name sometimes have a years old from the whisky.\n",
    "* We need to create a new variable called age extracting this information from name string"
   ]
  },
  {
   "cell_type": "markdown",
   "id": "5b06d10c",
   "metadata": {},
   "source": [
    "#### Extracting Pattern from String\n",
    "* I used `(\\d+ year+?)` pattern to identify explicit year on pattern\n",
    "* After retrieve the information, we need to remove `year` characters from a string\n",
    "* After we can convert the `age` column to int"
   ]
  },
  {
   "cell_type": "code",
   "execution_count": 29,
   "id": "9b14d087",
   "metadata": {},
   "outputs": [],
   "source": [
    "df['age'] = df['name'].str.extract('(\\d+ year+?)', expand=True)"
   ]
  },
  {
   "cell_type": "code",
   "execution_count": 30,
   "id": "49d4c564",
   "metadata": {},
   "outputs": [],
   "source": [
    "df['age'] = df['age'].str.replace(' year', '', regex=True)"
   ]
  },
  {
   "cell_type": "code",
   "execution_count": 31,
   "id": "266b2581",
   "metadata": {},
   "outputs": [],
   "source": [
    "df['age'] = pd.to_numeric(df[\"age\"], downcast=\"integer\")"
   ]
  },
  {
   "cell_type": "code",
   "execution_count": 32,
   "id": "e91d4169",
   "metadata": {},
   "outputs": [
    {
     "data": {
      "text/html": [
       "<div>\n",
       "<style scoped>\n",
       "    .dataframe tbody tr th:only-of-type {\n",
       "        vertical-align: middle;\n",
       "    }\n",
       "\n",
       "    .dataframe tbody tr th {\n",
       "        vertical-align: top;\n",
       "    }\n",
       "\n",
       "    .dataframe thead th {\n",
       "        text-align: right;\n",
       "    }\n",
       "</style>\n",
       "<table border=\"1\" class=\"dataframe\">\n",
       "  <thead>\n",
       "    <tr style=\"text-align: right;\">\n",
       "      <th></th>\n",
       "      <th>id</th>\n",
       "      <th>name</th>\n",
       "      <th>category</th>\n",
       "      <th>review_points</th>\n",
       "      <th>price</th>\n",
       "      <th>currency</th>\n",
       "      <th>description.1.2247.</th>\n",
       "      <th>alcool_percentage</th>\n",
       "      <th>age</th>\n",
       "    </tr>\n",
       "  </thead>\n",
       "  <tbody>\n",
       "    <tr>\n",
       "      <th>0</th>\n",
       "      <td>1</td>\n",
       "      <td>Black Bowmore 42 year old 1964 vintage, 40.5%</td>\n",
       "      <td>Single Malt Scotch</td>\n",
       "      <td>97</td>\n",
       "      <td>4500.0</td>\n",
       "      <td>$</td>\n",
       "      <td>What impresses me most is how this whisky evol...</td>\n",
       "      <td>0.405</td>\n",
       "      <td>42.0</td>\n",
       "    </tr>\n",
       "    <tr>\n",
       "      <th>1</th>\n",
       "      <td>2</td>\n",
       "      <td>Bowmore 46 year old (distilled 1964), 42.9%</td>\n",
       "      <td>Single Malt Scotch</td>\n",
       "      <td>97</td>\n",
       "      <td>13500.0</td>\n",
       "      <td>$</td>\n",
       "      <td>There have been some legendary Bowmores from t...</td>\n",
       "      <td>0.429</td>\n",
       "      <td>46.0</td>\n",
       "    </tr>\n",
       "    <tr>\n",
       "      <th>2</th>\n",
       "      <td>3</td>\n",
       "      <td>Johnnie Walker Blue Label, 40%</td>\n",
       "      <td>Blended Scotch Whisky</td>\n",
       "      <td>97</td>\n",
       "      <td>225.0</td>\n",
       "      <td>$</td>\n",
       "      <td>Magnificently powerful and intense. Caramels, ...</td>\n",
       "      <td>0.400</td>\n",
       "      <td>NaN</td>\n",
       "    </tr>\n",
       "    <tr>\n",
       "      <th>3</th>\n",
       "      <td>4</td>\n",
       "      <td>Glenlivet Cellar Collection 1969 vintage, 50.8%</td>\n",
       "      <td>Single Malt Scotch</td>\n",
       "      <td>96</td>\n",
       "      <td>750.0</td>\n",
       "      <td>$</td>\n",
       "      <td>It’s great that Glenlivet releases whiskies un...</td>\n",
       "      <td>0.508</td>\n",
       "      <td>NaN</td>\n",
       "    </tr>\n",
       "    <tr>\n",
       "      <th>4</th>\n",
       "      <td>5</td>\n",
       "      <td>The Macallan 29 year old 1976 Vintage (Cask #1...</td>\n",
       "      <td>Single Malt Scotch</td>\n",
       "      <td>96</td>\n",
       "      <td>1500.0</td>\n",
       "      <td>$</td>\n",
       "      <td>Classic sherry cask-aged Macallan. Antique amb...</td>\n",
       "      <td>0.454</td>\n",
       "      <td>29.0</td>\n",
       "    </tr>\n",
       "  </tbody>\n",
       "</table>\n",
       "</div>"
      ],
      "text/plain": [
       "   id                                               name  \\\n",
       "0   1      Black Bowmore 42 year old 1964 vintage, 40.5%   \n",
       "1   2        Bowmore 46 year old (distilled 1964), 42.9%   \n",
       "2   3                     Johnnie Walker Blue Label, 40%   \n",
       "3   4    Glenlivet Cellar Collection 1969 vintage, 50.8%   \n",
       "4   5  The Macallan 29 year old 1976 Vintage (Cask #1...   \n",
       "\n",
       "                category  review_points    price currency  \\\n",
       "0     Single Malt Scotch             97   4500.0        $   \n",
       "1     Single Malt Scotch             97  13500.0        $   \n",
       "2  Blended Scotch Whisky             97    225.0        $   \n",
       "3     Single Malt Scotch             96    750.0        $   \n",
       "4     Single Malt Scotch             96   1500.0        $   \n",
       "\n",
       "                                 description.1.2247.  alcool_percentage   age  \n",
       "0  What impresses me most is how this whisky evol...              0.405  42.0  \n",
       "1  There have been some legendary Bowmores from t...              0.429  46.0  \n",
       "2  Magnificently powerful and intense. Caramels, ...              0.400   NaN  \n",
       "3  It’s great that Glenlivet releases whiskies un...              0.508   NaN  \n",
       "4  Classic sherry cask-aged Macallan. Antique amb...              0.454  29.0  "
      ]
     },
     "execution_count": 32,
     "metadata": {},
     "output_type": "execute_result"
    }
   ],
   "source": [
    "df.head()"
   ]
  },
  {
   "cell_type": "code",
   "execution_count": null,
   "id": "322a2691",
   "metadata": {},
   "outputs": [],
   "source": []
  },
  {
   "cell_type": "code",
   "execution_count": null,
   "id": "7cb10ad6",
   "metadata": {},
   "outputs": [],
   "source": []
  },
  {
   "cell_type": "code",
   "execution_count": null,
   "id": "2b89a287",
   "metadata": {},
   "outputs": [],
   "source": []
  },
  {
   "cell_type": "markdown",
   "id": "7a9dd87b",
   "metadata": {},
   "source": [
    "## Category Analysis"
   ]
  },
  {
   "cell_type": "code",
   "execution_count": 119,
   "id": "a09873b9",
   "metadata": {},
   "outputs": [
    {
     "data": {
      "image/png": "[encoded data removed]",
      "text/plain": [
       "<Figure size 640x480 with 1 Axes>"
      ]
     },
     "metadata": {},
     "output_type": "display_data"
    }
   ],
   "source": [
    "freq = sns.histplot(data=df, x=\"category\", hue=\"category\", legend=True, palette=\"YlOrBr\")\n",
    "freq.set(title='Frequency Table / Whisky Category')\n",
    "freq.set(xlabel=\"Whisky Categories\")\n",
    "freq.set(ylabel=\"Frequency\")\n",
    "freq.set(xticklabels=[]);"
   ]
  },
  {
   "cell_type": "markdown",
   "id": "34f440e4",
   "metadata": {},
   "source": [
    "* Single Malt Scotch is the most available category"
   ]
  },
  {
   "cell_type": "markdown",
   "id": "7bffb085",
   "metadata": {},
   "source": [
    "## Reviews Analysis"
   ]
  },
  {
   "cell_type": "code",
   "execution_count": 34,
   "id": "cc9ba612",
   "metadata": {},
   "outputs": [
    {
     "data": {
      "text/plain": [
       "count    2233.000000\n",
       "mean       88.471115\n",
       "std         2.944254\n",
       "min        83.000000\n",
       "25%        86.000000\n",
       "50%        88.000000\n",
       "75%        91.000000\n",
       "max        97.000000\n",
       "Name: review_points, dtype: float64"
      ]
     },
     "execution_count": 34,
     "metadata": {},
     "output_type": "execute_result"
    }
   ],
   "source": [
    "df.review_points.describe()"
   ]
  },
  {
   "cell_type": "code",
   "execution_count": 35,
   "id": "c7222093",
   "metadata": {},
   "outputs": [
    {
     "data": {
      "text/plain": [
       "88.0"
      ]
     },
     "execution_count": 35,
     "metadata": {},
     "output_type": "execute_result"
    }
   ],
   "source": [
    "np.median(df.review_points)"
   ]
  },
  {
   "cell_type": "markdown",
   "id": "b56a16a1",
   "metadata": {},
   "source": [
    "* Mean and Median has a same value"
   ]
  },
  {
   "cell_type": "markdown",
   "id": "098df6b4",
   "metadata": {},
   "source": [
    "#### Reviews Frequency Table"
   ]
  },
  {
   "cell_type": "code",
   "execution_count": 117,
   "id": "4007fa82",
   "metadata": {},
   "outputs": [
    {
     "data": {
      "image/png": "[encoded data removed]",
      "text/plain": [
       "<Figure size 2600x800 with 1 Axes>"
      ]
     },
     "metadata": {},
     "output_type": "display_data"
    }
   ],
   "source": [
    "plt.figure(figsize = (26,8))\n",
    "freq = sns.countplot(data=df, x=\"review_points\")\n",
    "freq.set(title='Whisky Review Points')\n",
    "freq.set(xlabel=\"Points\")\n",
    "freq.set(ylabel=\"Reviews\");"
   ]
  },
  {
   "cell_type": "markdown",
   "id": "40b6dd38",
   "metadata": {},
   "source": [
    "#### Review Points Distribution"
   ]
  },
  {
   "cell_type": "code",
   "execution_count": 116,
   "id": "629c4ddb",
   "metadata": {},
   "outputs": [
    {
     "data": {
      "text/plain": [
       "<Figure size 2600x800 with 0 Axes>"
      ]
     },
     "metadata": {},
     "output_type": "display_data"
    },
    {
     "data": {
      "image/png": "[encoded data removed]",
      "text/plain": [
       "<Figure size 500x500 with 1 Axes>"
      ]
     },
     "metadata": {},
     "output_type": "display_data"
    }
   ],
   "source": [
    "plt.figure(figsize = (26,8))\n",
    "freq = sns.displot(data=df, x=\"review_points\",kde=True, bins=15)\n",
    "freq.set(title='Whisky Review Points Distribution')\n",
    "freq.set(xlabel=\"Points\")\n",
    "freq.set(ylabel=\"Reviews\");"
   ]
  },
  {
   "cell_type": "code",
   "execution_count": 38,
   "id": "1fdb32d4",
   "metadata": {},
   "outputs": [
    {
     "data": {
      "text/plain": [
       "count    2233.000000\n",
       "mean       88.471115\n",
       "std         2.944254\n",
       "min        83.000000\n",
       "25%        86.000000\n",
       "50%        88.000000\n",
       "75%        91.000000\n",
       "max        97.000000\n",
       "Name: review_points, dtype: float64"
      ]
     },
     "execution_count": 38,
     "metadata": {},
     "output_type": "execute_result"
    }
   ],
   "source": [
    "df.review_points.describe()"
   ]
  },
  {
   "cell_type": "markdown",
   "id": "68a23f40",
   "metadata": {},
   "source": [
    "#### The best evaluated whiskys"
   ]
  },
  {
   "cell_type": "code",
   "execution_count": 39,
   "id": "01713b18",
   "metadata": {
    "scrolled": false
   },
   "outputs": [
    {
     "data": {
      "text/html": [
       "<div>\n",
       "<style scoped>\n",
       "    .dataframe tbody tr th:only-of-type {\n",
       "        vertical-align: middle;\n",
       "    }\n",
       "\n",
       "    .dataframe tbody tr th {\n",
       "        vertical-align: top;\n",
       "    }\n",
       "\n",
       "    .dataframe thead th {\n",
       "        text-align: right;\n",
       "    }\n",
       "</style>\n",
       "<table border=\"1\" class=\"dataframe\">\n",
       "  <thead>\n",
       "    <tr style=\"text-align: right;\">\n",
       "      <th></th>\n",
       "      <th>id</th>\n",
       "      <th>name</th>\n",
       "      <th>category</th>\n",
       "      <th>review_points</th>\n",
       "      <th>price</th>\n",
       "      <th>currency</th>\n",
       "      <th>description.1.2247.</th>\n",
       "      <th>alcool_percentage</th>\n",
       "      <th>age</th>\n",
       "    </tr>\n",
       "  </thead>\n",
       "  <tbody>\n",
       "    <tr>\n",
       "      <th>0</th>\n",
       "      <td>1</td>\n",
       "      <td>Black Bowmore 42 year old 1964 vintage, 40.5%</td>\n",
       "      <td>Single Malt Scotch</td>\n",
       "      <td>97</td>\n",
       "      <td>4500.0</td>\n",
       "      <td>$</td>\n",
       "      <td>What impresses me most is how this whisky evol...</td>\n",
       "      <td>0.405</td>\n",
       "      <td>42.0</td>\n",
       "    </tr>\n",
       "    <tr>\n",
       "      <th>1</th>\n",
       "      <td>2</td>\n",
       "      <td>Bowmore 46 year old (distilled 1964), 42.9%</td>\n",
       "      <td>Single Malt Scotch</td>\n",
       "      <td>97</td>\n",
       "      <td>13500.0</td>\n",
       "      <td>$</td>\n",
       "      <td>There have been some legendary Bowmores from t...</td>\n",
       "      <td>0.429</td>\n",
       "      <td>46.0</td>\n",
       "    </tr>\n",
       "    <tr>\n",
       "      <th>2</th>\n",
       "      <td>3</td>\n",
       "      <td>Johnnie Walker Blue Label, 40%</td>\n",
       "      <td>Blended Scotch Whisky</td>\n",
       "      <td>97</td>\n",
       "      <td>225.0</td>\n",
       "      <td>$</td>\n",
       "      <td>Magnificently powerful and intense. Caramels, ...</td>\n",
       "      <td>0.400</td>\n",
       "      <td>NaN</td>\n",
       "    </tr>\n",
       "  </tbody>\n",
       "</table>\n",
       "</div>"
      ],
      "text/plain": [
       "   id                                           name               category  \\\n",
       "0   1  Black Bowmore 42 year old 1964 vintage, 40.5%     Single Malt Scotch   \n",
       "1   2    Bowmore 46 year old (distilled 1964), 42.9%     Single Malt Scotch   \n",
       "2   3                 Johnnie Walker Blue Label, 40%  Blended Scotch Whisky   \n",
       "\n",
       "   review_points    price currency  \\\n",
       "0             97   4500.0        $   \n",
       "1             97  13500.0        $   \n",
       "2             97    225.0        $   \n",
       "\n",
       "                                 description.1.2247.  alcool_percentage   age  \n",
       "0  What impresses me most is how this whisky evol...              0.405  42.0  \n",
       "1  There have been some legendary Bowmores from t...              0.429  46.0  \n",
       "2  Magnificently powerful and intense. Caramels, ...              0.400   NaN  "
      ]
     },
     "execution_count": 39,
     "metadata": {},
     "output_type": "execute_result"
    }
   ],
   "source": [
    "df[df.review_points == df.review_points.max()]"
   ]
  },
  {
   "cell_type": "markdown",
   "id": "95b9d4fe",
   "metadata": {},
   "source": [
    "* Finding the best whiskys in accord to review points\n",
    "* We have 3 best scotch whiskys with the max note (97)\n",
    "* Two of the most reviewed whiskys are Single Malts"
   ]
  },
  {
   "cell_type": "markdown",
   "id": "0de468b8",
   "metadata": {},
   "source": [
    "#### The Worst Whiskys"
   ]
  },
  {
   "cell_type": "code",
   "execution_count": 40,
   "id": "ee40d6c1",
   "metadata": {
    "scrolled": false
   },
   "outputs": [
    {
     "data": {
      "text/html": [
       "<div>\n",
       "<style scoped>\n",
       "    .dataframe tbody tr th:only-of-type {\n",
       "        vertical-align: middle;\n",
       "    }\n",
       "\n",
       "    .dataframe tbody tr th {\n",
       "        vertical-align: top;\n",
       "    }\n",
       "\n",
       "    .dataframe thead th {\n",
       "        text-align: right;\n",
       "    }\n",
       "</style>\n",
       "<table border=\"1\" class=\"dataframe\">\n",
       "  <thead>\n",
       "    <tr style=\"text-align: right;\">\n",
       "      <th></th>\n",
       "      <th>id</th>\n",
       "      <th>name</th>\n",
       "      <th>category</th>\n",
       "      <th>review_points</th>\n",
       "      <th>price</th>\n",
       "      <th>currency</th>\n",
       "      <th>description.1.2247.</th>\n",
       "      <th>alcool_percentage</th>\n",
       "      <th>age</th>\n",
       "    </tr>\n",
       "  </thead>\n",
       "  <tbody>\n",
       "    <tr>\n",
       "      <th>2203</th>\n",
       "      <td>2204</td>\n",
       "      <td>Wild Scotsman, 15 year old, 46%</td>\n",
       "      <td>Blended Malt Scotch Whisky</td>\n",
       "      <td>83</td>\n",
       "      <td>85.0</td>\n",
       "      <td>$</td>\n",
       "      <td>This relatively youthful whisky was matured in...</td>\n",
       "      <td>0.460</td>\n",
       "      <td>15.0</td>\n",
       "    </tr>\n",
       "    <tr>\n",
       "      <th>2204</th>\n",
       "      <td>2205</td>\n",
       "      <td>Compass Box Oak Cross, 43%</td>\n",
       "      <td>Blended Scotch Whisky</td>\n",
       "      <td>83</td>\n",
       "      <td>40.0</td>\n",
       "      <td>$</td>\n",
       "      <td>Thick, viscous golden syrup, digestive biscuit...</td>\n",
       "      <td>0.430</td>\n",
       "      <td>NaN</td>\n",
       "    </tr>\n",
       "    <tr>\n",
       "      <th>2205</th>\n",
       "      <td>2206</td>\n",
       "      <td>Auchentoshan 16 year old, 53.7%</td>\n",
       "      <td>Single Malt Scotch</td>\n",
       "      <td>83</td>\n",
       "      <td>120.0</td>\n",
       "      <td>$</td>\n",
       "      <td>Surprisingly punchy for its age, there’s very ...</td>\n",
       "      <td>0.537</td>\n",
       "      <td>16.0</td>\n",
       "    </tr>\n",
       "    <tr>\n",
       "      <th>2206</th>\n",
       "      <td>2207</td>\n",
       "      <td>The Balvenie New Wood 17 year old, 43%</td>\n",
       "      <td>Single Malt Scotch</td>\n",
       "      <td>83</td>\n",
       "      <td>90.0</td>\n",
       "      <td>$</td>\n",
       "      <td>Distilled between October and March, matured i...</td>\n",
       "      <td>0.430</td>\n",
       "      <td>17.0</td>\n",
       "    </tr>\n",
       "    <tr>\n",
       "      <th>2207</th>\n",
       "      <td>2208</td>\n",
       "      <td>Duncan Taylor 'Rarest of the Rare' (distilled ...</td>\n",
       "      <td>Single Malt Scotch</td>\n",
       "      <td>83</td>\n",
       "      <td>225.0</td>\n",
       "      <td>$</td>\n",
       "      <td>This 2000 vintage expression from Glenturret w...</td>\n",
       "      <td>0.435</td>\n",
       "      <td>30.0</td>\n",
       "    </tr>\n",
       "    <tr>\n",
       "      <th>2208</th>\n",
       "      <td>2209</td>\n",
       "      <td>BenRiach Arumaticus 12 year old, 46%</td>\n",
       "      <td>Single Malt Scotch</td>\n",
       "      <td>83</td>\n",
       "      <td>85.0</td>\n",
       "      <td>$</td>\n",
       "      <td>The bourbon cask-matured partner to the Sherry...</td>\n",
       "      <td>0.460</td>\n",
       "      <td>12.0</td>\n",
       "    </tr>\n",
       "    <tr>\n",
       "      <th>2209</th>\n",
       "      <td>2210</td>\n",
       "      <td>BenRiach 16 year old, 46%</td>\n",
       "      <td>Single Malt Scotch</td>\n",
       "      <td>83</td>\n",
       "      <td>90.0</td>\n",
       "      <td>$</td>\n",
       "      <td>This example of the little-seen Glentauchers i...</td>\n",
       "      <td>0.460</td>\n",
       "      <td>16.0</td>\n",
       "    </tr>\n",
       "    <tr>\n",
       "      <th>2210</th>\n",
       "      <td>2211</td>\n",
       "      <td>John McDougall's Selection (distilled at Bladn...</td>\n",
       "      <td>Single Malt Scotch</td>\n",
       "      <td>83</td>\n",
       "      <td>110.0</td>\n",
       "      <td>$</td>\n",
       "      <td>The mix of honey, citrus, fruit, and malt whic...</td>\n",
       "      <td>0.558</td>\n",
       "      <td>15.0</td>\n",
       "    </tr>\n",
       "    <tr>\n",
       "      <th>2211</th>\n",
       "      <td>2212</td>\n",
       "      <td>Bruichladdich 20 year old (3rd Edition), 46%</td>\n",
       "      <td>Single Malt Scotch</td>\n",
       "      <td>83</td>\n",
       "      <td>170.0</td>\n",
       "      <td>$</td>\n",
       "      <td>Sadly, the final chapter in a series which des...</td>\n",
       "      <td>0.460</td>\n",
       "      <td>20.0</td>\n",
       "    </tr>\n",
       "    <tr>\n",
       "      <th>2212</th>\n",
       "      <td>2213</td>\n",
       "      <td>Bruichladdich 20 year old (2nd Edition), 46%</td>\n",
       "      <td>Single Malt Scotch</td>\n",
       "      <td>83</td>\n",
       "      <td>170.0</td>\n",
       "      <td>$</td>\n",
       "      <td>Aberfeldy distillery has added a 16 year old e...</td>\n",
       "      <td>0.460</td>\n",
       "      <td>20.0</td>\n",
       "    </tr>\n",
       "    <tr>\n",
       "      <th>2213</th>\n",
       "      <td>2214</td>\n",
       "      <td>Blackadder 'Raw Cask' (distilled at Bruichladd...</td>\n",
       "      <td>Single Malt Scotch</td>\n",
       "      <td>83</td>\n",
       "      <td>180.0</td>\n",
       "      <td>$</td>\n",
       "      <td>A new, and welcome, permanent member of the co...</td>\n",
       "      <td>0.544</td>\n",
       "      <td>NaN</td>\n",
       "    </tr>\n",
       "    <tr>\n",
       "      <th>2214</th>\n",
       "      <td>2215</td>\n",
       "      <td>Gordon &amp; MacPhail (distilled at Caol Ila), cas...</td>\n",
       "      <td>Single Malt Scotch</td>\n",
       "      <td>83</td>\n",
       "      <td>85.0</td>\n",
       "      <td>$</td>\n",
       "      <td>An immediate and perhaps surprising smokiness ...</td>\n",
       "      <td>0.460</td>\n",
       "      <td>15.0</td>\n",
       "    </tr>\n",
       "    <tr>\n",
       "      <th>2215</th>\n",
       "      <td>2216</td>\n",
       "      <td>Murray McDavid (distilled at Caperdonich) 1968...</td>\n",
       "      <td>Single Malt Scotch</td>\n",
       "      <td>83</td>\n",
       "      <td>150.0</td>\n",
       "      <td>$</td>\n",
       "      <td>NaN</td>\n",
       "      <td>0.460</td>\n",
       "      <td>NaN</td>\n",
       "    </tr>\n",
       "    <tr>\n",
       "      <th>2216</th>\n",
       "      <td>2217</td>\n",
       "      <td>Signatory 'Un-chillfiltered' (distilled at Cly...</td>\n",
       "      <td>Single Malt Scotch</td>\n",
       "      <td>83</td>\n",
       "      <td>45.0</td>\n",
       "      <td>$</td>\n",
       "      <td>A new addition to the core range, this shows G...</td>\n",
       "      <td>0.460</td>\n",
       "      <td>13.0</td>\n",
       "    </tr>\n",
       "    <tr>\n",
       "      <th>2217</th>\n",
       "      <td>2218</td>\n",
       "      <td>Deanston, 30 year old, 46.7%</td>\n",
       "      <td>Single Malt Scotch</td>\n",
       "      <td>83</td>\n",
       "      <td>265.0</td>\n",
       "      <td>$</td>\n",
       "      <td>Some single malts just suit specific cask type...</td>\n",
       "      <td>0.467</td>\n",
       "      <td>30.0</td>\n",
       "    </tr>\n",
       "    <tr>\n",
       "      <th>2218</th>\n",
       "      <td>2219</td>\n",
       "      <td>Scott's Selection (distilled at Glen Elgin), 1...</td>\n",
       "      <td>Single Malt Scotch</td>\n",
       "      <td>83</td>\n",
       "      <td>140.0</td>\n",
       "      <td>$</td>\n",
       "      <td>This vatting of three virgin oak casks and one...</td>\n",
       "      <td>0.441</td>\n",
       "      <td>NaN</td>\n",
       "    </tr>\n",
       "    <tr>\n",
       "      <th>2219</th>\n",
       "      <td>2220</td>\n",
       "      <td>Duncan Taylor (distilled at Glen Grant) 1972 V...</td>\n",
       "      <td>Single Malt Scotch</td>\n",
       "      <td>83</td>\n",
       "      <td>155.0</td>\n",
       "      <td>$</td>\n",
       "      <td>The eighth edition of heavily-peated Edradour ...</td>\n",
       "      <td>0.561</td>\n",
       "      <td>31.0</td>\n",
       "    </tr>\n",
       "    <tr>\n",
       "      <th>2220</th>\n",
       "      <td>2221</td>\n",
       "      <td>Hart Brothers (distilled at Glen Grant), 29 ye...</td>\n",
       "      <td>Single Malt Scotch</td>\n",
       "      <td>83</td>\n",
       "      <td>160.0</td>\n",
       "      <td>$</td>\n",
       "      <td>Glenglassaugh distillery launched both unpeate...</td>\n",
       "      <td>0.536</td>\n",
       "      <td>29.0</td>\n",
       "    </tr>\n",
       "    <tr>\n",
       "      <th>2221</th>\n",
       "      <td>2222</td>\n",
       "      <td>Murray McDavid Mission IV (distilled at Glendr...</td>\n",
       "      <td>Single Malt Scotch</td>\n",
       "      <td>83</td>\n",
       "      <td>210.0</td>\n",
       "      <td>$</td>\n",
       "      <td>Distilled in 1994 and matured in a single hogs...</td>\n",
       "      <td>0.460</td>\n",
       "      <td>NaN</td>\n",
       "    </tr>\n",
       "    <tr>\n",
       "      <th>2222</th>\n",
       "      <td>2223</td>\n",
       "      <td>The Singleton of Glendullan, 12 year old, 40%</td>\n",
       "      <td>Single Malt Scotch</td>\n",
       "      <td>83</td>\n",
       "      <td>36.0</td>\n",
       "      <td>$</td>\n",
       "      <td>This peated expression from Tobermory distille...</td>\n",
       "      <td>0.400</td>\n",
       "      <td>12.0</td>\n",
       "    </tr>\n",
       "    <tr>\n",
       "      <th>2223</th>\n",
       "      <td>2224</td>\n",
       "      <td>Glenglassaugh, 44 year old, 1960 vintage, 41.7%</td>\n",
       "      <td>Single Malt Scotch</td>\n",
       "      <td>83</td>\n",
       "      <td>900.0</td>\n",
       "      <td>$</td>\n",
       "      <td>This peated expression was matured in quarter ...</td>\n",
       "      <td>0.417</td>\n",
       "      <td>44.0</td>\n",
       "    </tr>\n",
       "    <tr>\n",
       "      <th>2224</th>\n",
       "      <td>2225</td>\n",
       "      <td>Cask &amp; Thistle (distilled at Glenlivet) 30 yea...</td>\n",
       "      <td>Single Malt Scotch</td>\n",
       "      <td>83</td>\n",
       "      <td>100.0</td>\n",
       "      <td>$</td>\n",
       "      <td>Initially matured in bourbon barrels for 6 yea...</td>\n",
       "      <td>0.460</td>\n",
       "      <td>30.0</td>\n",
       "    </tr>\n",
       "    <tr>\n",
       "      <th>2225</th>\n",
       "      <td>2226</td>\n",
       "      <td>Highland Park 31 year old 1974 vintage (Cask #...</td>\n",
       "      <td>Single Malt Scotch</td>\n",
       "      <td>83</td>\n",
       "      <td>440.0</td>\n",
       "      <td>$</td>\n",
       "      <td>One of the duo of releases in Glenfiddich’s Ex...</td>\n",
       "      <td>0.454</td>\n",
       "      <td>31.0</td>\n",
       "    </tr>\n",
       "    <tr>\n",
       "      <th>2226</th>\n",
       "      <td>2227</td>\n",
       "      <td>Signatory 7 year old (distilled at Laphroaig) ...</td>\n",
       "      <td>Single Malt Scotch</td>\n",
       "      <td>83</td>\n",
       "      <td>45.0</td>\n",
       "      <td>$</td>\n",
       "      <td>Initially aged in bourbon barrels, this expres...</td>\n",
       "      <td>0.580</td>\n",
       "      <td>7.0</td>\n",
       "    </tr>\n",
       "    <tr>\n",
       "      <th>2227</th>\n",
       "      <td>2228</td>\n",
       "      <td>Duncan Taylor 'Rarest of the Rare' (distilled ...</td>\n",
       "      <td>Single Malt Scotch</td>\n",
       "      <td>83</td>\n",
       "      <td>220.0</td>\n",
       "      <td>$</td>\n",
       "      <td>This 9 year old bottling has been fully mature...</td>\n",
       "      <td>0.635</td>\n",
       "      <td>21.0</td>\n",
       "    </tr>\n",
       "    <tr>\n",
       "      <th>2228</th>\n",
       "      <td>2229</td>\n",
       "      <td>Murray McDavid (distilled at Lochside) 1981, 46%</td>\n",
       "      <td>Single Malt Scotch</td>\n",
       "      <td>83</td>\n",
       "      <td>76.0</td>\n",
       "      <td>$</td>\n",
       "      <td>This single cask bottling from Langside Distil...</td>\n",
       "      <td>0.460</td>\n",
       "      <td>NaN</td>\n",
       "    </tr>\n",
       "    <tr>\n",
       "      <th>2229</th>\n",
       "      <td>2230</td>\n",
       "      <td>Gordon &amp; MacPhail (distilled at Longmorn), 15 ...</td>\n",
       "      <td>Single Malt Scotch</td>\n",
       "      <td>83</td>\n",
       "      <td>65.0</td>\n",
       "      <td>$</td>\n",
       "      <td>The second release in the Custodians’ series w...</td>\n",
       "      <td>0.460</td>\n",
       "      <td>15.0</td>\n",
       "    </tr>\n",
       "    <tr>\n",
       "      <th>2230</th>\n",
       "      <td>2231</td>\n",
       "      <td>Signatory 14 year old 1990 vintage (distilled ...</td>\n",
       "      <td>Single Malt Scotch</td>\n",
       "      <td>83</td>\n",
       "      <td>70.0</td>\n",
       "      <td>$</td>\n",
       "      <td>Matured in bourbon casks, this is the second r...</td>\n",
       "      <td>0.460</td>\n",
       "      <td>14.0</td>\n",
       "    </tr>\n",
       "    <tr>\n",
       "      <th>2231</th>\n",
       "      <td>2232</td>\n",
       "      <td>The Macallan 10 year old Fine Oak, 40%</td>\n",
       "      <td>Single Malt Scotch</td>\n",
       "      <td>83</td>\n",
       "      <td>44.0</td>\n",
       "      <td>$</td>\n",
       "      <td>A solid presence in the range, the strength an...</td>\n",
       "      <td>0.400</td>\n",
       "      <td>10.0</td>\n",
       "    </tr>\n",
       "    <tr>\n",
       "      <th>2232</th>\n",
       "      <td>2233</td>\n",
       "      <td>Whisky Galore (distilled at Old Pulteney) 16 y...</td>\n",
       "      <td>Single Malt Scotch</td>\n",
       "      <td>83</td>\n",
       "      <td>70.0</td>\n",
       "      <td>$</td>\n",
       "      <td>Benachie, formerly known as Jericho, was an Ab...</td>\n",
       "      <td>0.460</td>\n",
       "      <td>16.0</td>\n",
       "    </tr>\n",
       "    <tr>\n",
       "      <th>2233</th>\n",
       "      <td>2234</td>\n",
       "      <td>Tullibardine, 1993 Vintage, 40%</td>\n",
       "      <td>Single Malt Scotch</td>\n",
       "      <td>83</td>\n",
       "      <td>55.0</td>\n",
       "      <td>$</td>\n",
       "      <td>It will soon be 120 years since this workhorse...</td>\n",
       "      <td>0.400</td>\n",
       "      <td>NaN</td>\n",
       "    </tr>\n",
       "    <tr>\n",
       "      <th>2234</th>\n",
       "      <td>2235</td>\n",
       "      <td>Bruichladdich 12 year old (2nd Edition), 46%</td>\n",
       "      <td>Single Malt Scotch</td>\n",
       "      <td>83</td>\n",
       "      <td>60.0</td>\n",
       "      <td>$</td>\n",
       "      <td>NaN</td>\n",
       "      <td>0.460</td>\n",
       "      <td>12.0</td>\n",
       "    </tr>\n",
       "    <tr>\n",
       "      <th>2235</th>\n",
       "      <td>2236</td>\n",
       "      <td>Bruichladdich 12 year old, 46%</td>\n",
       "      <td>Single Malt Scotch</td>\n",
       "      <td>83</td>\n",
       "      <td>50.0</td>\n",
       "      <td>$</td>\n",
       "      <td>With whiskies aged for 5 years in bourbon barr...</td>\n",
       "      <td>0.460</td>\n",
       "      <td>12.0</td>\n",
       "    </tr>\n",
       "    <tr>\n",
       "      <th>2236</th>\n",
       "      <td>2237</td>\n",
       "      <td>Longrow C.V., 46%</td>\n",
       "      <td>Single Malt Scotch</td>\n",
       "      <td>83</td>\n",
       "      <td>75.0</td>\n",
       "      <td>$</td>\n",
       "      <td>This blend has been a Whyte and MacKay whisky ...</td>\n",
       "      <td>0.460</td>\n",
       "      <td>NaN</td>\n",
       "    </tr>\n",
       "    <tr>\n",
       "      <th>2237</th>\n",
       "      <td>2238</td>\n",
       "      <td>Bruichladdich Links Torrey Pine 15 year old, 46%</td>\n",
       "      <td>Single Malt Scotch</td>\n",
       "      <td>83</td>\n",
       "      <td>85.0</td>\n",
       "      <td>$</td>\n",
       "      <td>How does this long-established blend shape up ...</td>\n",
       "      <td>0.460</td>\n",
       "      <td>15.0</td>\n",
       "    </tr>\n",
       "    <tr>\n",
       "      <th>2238</th>\n",
       "      <td>2239</td>\n",
       "      <td>Bowmore 16 year old 1992 vintage Wine Cask-Mat...</td>\n",
       "      <td>Single Malt Scotch</td>\n",
       "      <td>83</td>\n",
       "      <td>120.0</td>\n",
       "      <td>$</td>\n",
       "      <td>If you aren’t expecting it, the herbaceous, gr...</td>\n",
       "      <td>0.535</td>\n",
       "      <td>16.0</td>\n",
       "    </tr>\n",
       "    <tr>\n",
       "      <th>2239</th>\n",
       "      <td>2240</td>\n",
       "      <td>The Balvenie Signature 12 year old Batch #1, 43%</td>\n",
       "      <td>Single Malt Scotch</td>\n",
       "      <td>83</td>\n",
       "      <td>55.0</td>\n",
       "      <td>$</td>\n",
       "      <td>Earthy, with corn husk and biscuit dough on th...</td>\n",
       "      <td>0.430</td>\n",
       "      <td>12.0</td>\n",
       "    </tr>\n",
       "    <tr>\n",
       "      <th>2240</th>\n",
       "      <td>2241</td>\n",
       "      <td>The Antiquary, 12 year old, 40%</td>\n",
       "      <td>Blended Scotch Whisky</td>\n",
       "      <td>83</td>\n",
       "      <td>30.0</td>\n",
       "      <td>$</td>\n",
       "      <td>The nose is grassy and light, with some youthf...</td>\n",
       "      <td>0.400</td>\n",
       "      <td>12.0</td>\n",
       "    </tr>\n",
       "    <tr>\n",
       "      <th>2241</th>\n",
       "      <td>2242</td>\n",
       "      <td>Eades Highland 'Double Malt', 46%</td>\n",
       "      <td>Blended Malt Scotch Whisky</td>\n",
       "      <td>83</td>\n",
       "      <td>70.0</td>\n",
       "      <td>$</td>\n",
       "      <td>The nose is pleasant, with fresh strawberry, s...</td>\n",
       "      <td>0.460</td>\n",
       "      <td>NaN</td>\n",
       "    </tr>\n",
       "    <tr>\n",
       "      <th>2242</th>\n",
       "      <td>2243</td>\n",
       "      <td>BenRiach Sauternes Wood Finish 16 year old, 46%</td>\n",
       "      <td>Single Malt Scotch</td>\n",
       "      <td>83</td>\n",
       "      <td>113.0</td>\n",
       "      <td>$</td>\n",
       "      <td>Pleasingly aromatic and floral, with lively fr...</td>\n",
       "      <td>0.460</td>\n",
       "      <td>16.0</td>\n",
       "    </tr>\n",
       "    <tr>\n",
       "      <th>2243</th>\n",
       "      <td>2244</td>\n",
       "      <td>The Macallan Whisky Maker</td>\n",
       "      <td>Single Malt Scotch</td>\n",
       "      <td>83</td>\n",
       "      <td>90.0</td>\n",
       "      <td>$</td>\n",
       "      <td>A blend of three different single malts. Its n...</td>\n",
       "      <td>NaN</td>\n",
       "      <td>NaN</td>\n",
       "    </tr>\n",
       "    <tr>\n",
       "      <th>2244</th>\n",
       "      <td>2245</td>\n",
       "      <td>Arran St. Emilion Wine Cask Finish (Limited Ed...</td>\n",
       "      <td>Single Malt Scotch</td>\n",
       "      <td>83</td>\n",
       "      <td>80.0</td>\n",
       "      <td>$</td>\n",
       "      <td>A very textural whisky. Incredibly creamy, wit...</td>\n",
       "      <td>0.500</td>\n",
       "      <td>NaN</td>\n",
       "    </tr>\n",
       "    <tr>\n",
       "      <th>2245</th>\n",
       "      <td>2246</td>\n",
       "      <td>Smoking Ember, 40%</td>\n",
       "      <td>Single Malt Scotch</td>\n",
       "      <td>83</td>\n",
       "      <td>40.0</td>\n",
       "      <td>$</td>\n",
       "      <td>The tell-tale rich honeyed Balvenie personalit...</td>\n",
       "      <td>0.400</td>\n",
       "      <td>NaN</td>\n",
       "    </tr>\n",
       "    <tr>\n",
       "      <th>2246</th>\n",
       "      <td>2247</td>\n",
       "      <td>Teaninich, 1996 vintage, 55.3%</td>\n",
       "      <td>Single Malt Scotch</td>\n",
       "      <td>83</td>\n",
       "      <td>325.0</td>\n",
       "      <td>$</td>\n",
       "      <td>Very fruity and spicy. High, bright fruit note...</td>\n",
       "      <td>0.553</td>\n",
       "      <td>NaN</td>\n",
       "    </tr>\n",
       "  </tbody>\n",
       "</table>\n",
       "</div>"
      ],
      "text/plain": [
       "        id                                               name  \\\n",
       "2203  2204                    Wild Scotsman, 15 year old, 46%   \n",
       "2204  2205                         Compass Box Oak Cross, 43%   \n",
       "2205  2206                    Auchentoshan 16 year old, 53.7%   \n",
       "2206  2207             The Balvenie New Wood 17 year old, 43%   \n",
       "2207  2208  Duncan Taylor 'Rarest of the Rare' (distilled ...   \n",
       "2208  2209               BenRiach Arumaticus 12 year old, 46%   \n",
       "2209  2210                          BenRiach 16 year old, 46%   \n",
       "2210  2211  John McDougall's Selection (distilled at Bladn...   \n",
       "2211  2212       Bruichladdich 20 year old (3rd Edition), 46%   \n",
       "2212  2213       Bruichladdich 20 year old (2nd Edition), 46%   \n",
       "2213  2214  Blackadder 'Raw Cask' (distilled at Bruichladd...   \n",
       "2214  2215  Gordon & MacPhail (distilled at Caol Ila), cas...   \n",
       "2215  2216  Murray McDavid (distilled at Caperdonich) 1968...   \n",
       "2216  2217  Signatory 'Un-chillfiltered' (distilled at Cly...   \n",
       "2217  2218                       Deanston, 30 year old, 46.7%   \n",
       "2218  2219  Scott's Selection (distilled at Glen Elgin), 1...   \n",
       "2219  2220  Duncan Taylor (distilled at Glen Grant) 1972 V...   \n",
       "2220  2221  Hart Brothers (distilled at Glen Grant), 29 ye...   \n",
       "2221  2222  Murray McDavid Mission IV (distilled at Glendr...   \n",
       "2222  2223      The Singleton of Glendullan, 12 year old, 40%   \n",
       "2223  2224    Glenglassaugh, 44 year old, 1960 vintage, 41.7%   \n",
       "2224  2225  Cask & Thistle (distilled at Glenlivet) 30 yea...   \n",
       "2225  2226  Highland Park 31 year old 1974 vintage (Cask #...   \n",
       "2226  2227  Signatory 7 year old (distilled at Laphroaig) ...   \n",
       "2227  2228  Duncan Taylor 'Rarest of the Rare' (distilled ...   \n",
       "2228  2229   Murray McDavid (distilled at Lochside) 1981, 46%   \n",
       "2229  2230  Gordon & MacPhail (distilled at Longmorn), 15 ...   \n",
       "2230  2231  Signatory 14 year old 1990 vintage (distilled ...   \n",
       "2231  2232             The Macallan 10 year old Fine Oak, 40%   \n",
       "2232  2233  Whisky Galore (distilled at Old Pulteney) 16 y...   \n",
       "2233  2234                    Tullibardine, 1993 Vintage, 40%   \n",
       "2234  2235       Bruichladdich 12 year old (2nd Edition), 46%   \n",
       "2235  2236                     Bruichladdich 12 year old, 46%   \n",
       "2236  2237                                  Longrow C.V., 46%   \n",
       "2237  2238   Bruichladdich Links Torrey Pine 15 year old, 46%   \n",
       "2238  2239  Bowmore 16 year old 1992 vintage Wine Cask-Mat...   \n",
       "2239  2240   The Balvenie Signature 12 year old Batch #1, 43%   \n",
       "2240  2241                    The Antiquary, 12 year old, 40%   \n",
       "2241  2242                  Eades Highland 'Double Malt', 46%   \n",
       "2242  2243    BenRiach Sauternes Wood Finish 16 year old, 46%   \n",
       "2243  2244                          The Macallan Whisky Maker   \n",
       "2244  2245  Arran St. Emilion Wine Cask Finish (Limited Ed...   \n",
       "2245  2246                                 Smoking Ember, 40%   \n",
       "2246  2247                     Teaninich, 1996 vintage, 55.3%   \n",
       "\n",
       "                        category  review_points  price currency  \\\n",
       "2203  Blended Malt Scotch Whisky             83   85.0        $   \n",
       "2204       Blended Scotch Whisky             83   40.0        $   \n",
       "2205          Single Malt Scotch             83  120.0        $   \n",
       "2206          Single Malt Scotch             83   90.0        $   \n",
       "2207          Single Malt Scotch             83  225.0        $   \n",
       "2208          Single Malt Scotch             83   85.0        $   \n",
       "2209          Single Malt Scotch             83   90.0        $   \n",
       "2210          Single Malt Scotch             83  110.0        $   \n",
       "2211          Single Malt Scotch             83  170.0        $   \n",
       "2212          Single Malt Scotch             83  170.0        $   \n",
       "2213          Single Malt Scotch             83  180.0        $   \n",
       "2214          Single Malt Scotch             83   85.0        $   \n",
       "2215          Single Malt Scotch             83  150.0        $   \n",
       "2216          Single Malt Scotch             83   45.0        $   \n",
       "2217          Single Malt Scotch             83  265.0        $   \n",
       "2218          Single Malt Scotch             83  140.0        $   \n",
       "2219          Single Malt Scotch             83  155.0        $   \n",
       "2220          Single Malt Scotch             83  160.0        $   \n",
       "2221          Single Malt Scotch             83  210.0        $   \n",
       "2222          Single Malt Scotch             83   36.0        $   \n",
       "2223          Single Malt Scotch             83  900.0        $   \n",
       "2224          Single Malt Scotch             83  100.0        $   \n",
       "2225          Single Malt Scotch             83  440.0        $   \n",
       "2226          Single Malt Scotch             83   45.0        $   \n",
       "2227          Single Malt Scotch             83  220.0        $   \n",
       "2228          Single Malt Scotch             83   76.0        $   \n",
       "2229          Single Malt Scotch             83   65.0        $   \n",
       "2230          Single Malt Scotch             83   70.0        $   \n",
       "2231          Single Malt Scotch             83   44.0        $   \n",
       "2232          Single Malt Scotch             83   70.0        $   \n",
       "2233          Single Malt Scotch             83   55.0        $   \n",
       "2234          Single Malt Scotch             83   60.0        $   \n",
       "2235          Single Malt Scotch             83   50.0        $   \n",
       "2236          Single Malt Scotch             83   75.0        $   \n",
       "2237          Single Malt Scotch             83   85.0        $   \n",
       "2238          Single Malt Scotch             83  120.0        $   \n",
       "2239          Single Malt Scotch             83   55.0        $   \n",
       "2240       Blended Scotch Whisky             83   30.0        $   \n",
       "2241  Blended Malt Scotch Whisky             83   70.0        $   \n",
       "2242          Single Malt Scotch             83  113.0        $   \n",
       "2243          Single Malt Scotch             83   90.0        $   \n",
       "2244          Single Malt Scotch             83   80.0        $   \n",
       "2245          Single Malt Scotch             83   40.0        $   \n",
       "2246          Single Malt Scotch             83  325.0        $   \n",
       "\n",
       "                                    description.1.2247.  alcool_percentage  \\\n",
       "2203  This relatively youthful whisky was matured in...              0.460   \n",
       "2204  Thick, viscous golden syrup, digestive biscuit...              0.430   \n",
       "2205  Surprisingly punchy for its age, there’s very ...              0.537   \n",
       "2206  Distilled between October and March, matured i...              0.430   \n",
       "2207  This 2000 vintage expression from Glenturret w...              0.435   \n",
       "2208  The bourbon cask-matured partner to the Sherry...              0.460   \n",
       "2209  This example of the little-seen Glentauchers i...              0.460   \n",
       "2210  The mix of honey, citrus, fruit, and malt whic...              0.558   \n",
       "2211  Sadly, the final chapter in a series which des...              0.460   \n",
       "2212  Aberfeldy distillery has added a 16 year old e...              0.460   \n",
       "2213  A new, and welcome, permanent member of the co...              0.544   \n",
       "2214  An immediate and perhaps surprising smokiness ...              0.460   \n",
       "2215                                                NaN              0.460   \n",
       "2216  A new addition to the core range, this shows G...              0.460   \n",
       "2217  Some single malts just suit specific cask type...              0.467   \n",
       "2218  This vatting of three virgin oak casks and one...              0.441   \n",
       "2219  The eighth edition of heavily-peated Edradour ...              0.561   \n",
       "2220  Glenglassaugh distillery launched both unpeate...              0.536   \n",
       "2221  Distilled in 1994 and matured in a single hogs...              0.460   \n",
       "2222  This peated expression from Tobermory distille...              0.400   \n",
       "2223  This peated expression was matured in quarter ...              0.417   \n",
       "2224  Initially matured in bourbon barrels for 6 yea...              0.460   \n",
       "2225  One of the duo of releases in Glenfiddich’s Ex...              0.454   \n",
       "2226  Initially aged in bourbon barrels, this expres...              0.580   \n",
       "2227  This 9 year old bottling has been fully mature...              0.635   \n",
       "2228  This single cask bottling from Langside Distil...              0.460   \n",
       "2229  The second release in the Custodians’ series w...              0.460   \n",
       "2230  Matured in bourbon casks, this is the second r...              0.460   \n",
       "2231  A solid presence in the range, the strength an...              0.400   \n",
       "2232  Benachie, formerly known as Jericho, was an Ab...              0.460   \n",
       "2233  It will soon be 120 years since this workhorse...              0.400   \n",
       "2234                                                NaN              0.460   \n",
       "2235  With whiskies aged for 5 years in bourbon barr...              0.460   \n",
       "2236  This blend has been a Whyte and MacKay whisky ...              0.460   \n",
       "2237  How does this long-established blend shape up ...              0.460   \n",
       "2238  If you aren’t expecting it, the herbaceous, gr...              0.535   \n",
       "2239  Earthy, with corn husk and biscuit dough on th...              0.430   \n",
       "2240  The nose is grassy and light, with some youthf...              0.400   \n",
       "2241  The nose is pleasant, with fresh strawberry, s...              0.460   \n",
       "2242  Pleasingly aromatic and floral, with lively fr...              0.460   \n",
       "2243  A blend of three different single malts. Its n...                NaN   \n",
       "2244  A very textural whisky. Incredibly creamy, wit...              0.500   \n",
       "2245  The tell-tale rich honeyed Balvenie personalit...              0.400   \n",
       "2246  Very fruity and spicy. High, bright fruit note...              0.553   \n",
       "\n",
       "       age  \n",
       "2203  15.0  \n",
       "2204   NaN  \n",
       "2205  16.0  \n",
       "2206  17.0  \n",
       "2207  30.0  \n",
       "2208  12.0  \n",
       "2209  16.0  \n",
       "2210  15.0  \n",
       "2211  20.0  \n",
       "2212  20.0  \n",
       "2213   NaN  \n",
       "2214  15.0  \n",
       "2215   NaN  \n",
       "2216  13.0  \n",
       "2217  30.0  \n",
       "2218   NaN  \n",
       "2219  31.0  \n",
       "2220  29.0  \n",
       "2221   NaN  \n",
       "2222  12.0  \n",
       "2223  44.0  \n",
       "2224  30.0  \n",
       "2225  31.0  \n",
       "2226   7.0  \n",
       "2227  21.0  \n",
       "2228   NaN  \n",
       "2229  15.0  \n",
       "2230  14.0  \n",
       "2231  10.0  \n",
       "2232  16.0  \n",
       "2233   NaN  \n",
       "2234  12.0  \n",
       "2235  12.0  \n",
       "2236   NaN  \n",
       "2237  15.0  \n",
       "2238  16.0  \n",
       "2239  12.0  \n",
       "2240  12.0  \n",
       "2241   NaN  \n",
       "2242  16.0  \n",
       "2243   NaN  \n",
       "2244   NaN  \n",
       "2245   NaN  \n",
       "2246   NaN  "
      ]
     },
     "execution_count": 40,
     "metadata": {},
     "output_type": "execute_result"
    }
   ],
   "source": [
    "df[df.review_points == df.review_points.min()]"
   ]
  },
  {
   "cell_type": "markdown",
   "id": "dc0a02d3",
   "metadata": {},
   "source": [
    "* The minimum note from dataset is `83`. "
   ]
  },
  {
   "cell_type": "code",
   "execution_count": 41,
   "id": "d81cd67c",
   "metadata": {
    "scrolled": true
   },
   "outputs": [
    {
     "data": {
      "text/plain": [
       "44"
      ]
     },
     "execution_count": 41,
     "metadata": {},
     "output_type": "execute_result"
    }
   ],
   "source": [
    "len(df[df.review_points == df.review_points.min()])"
   ]
  },
  {
   "cell_type": "markdown",
   "id": "a18c44f0",
   "metadata": {},
   "source": [
    "* We have 44 whiskys observations with the minimum notes"
   ]
  },
  {
   "cell_type": "markdown",
   "id": "16fe0b2b",
   "metadata": {},
   "source": [
    "## Prices Analysis"
   ]
  },
  {
   "cell_type": "code",
   "execution_count": 115,
   "id": "1d77f43a",
   "metadata": {},
   "outputs": [
    {
     "data": {
      "text/plain": [
       "[Text(0, 0.5, 'Count')]"
      ]
     },
     "execution_count": 115,
     "metadata": {},
     "output_type": "execute_result"
    },
    {
     "data": {
      "image/png": "[encoded data removed]",
      "text/plain": [
       "<Figure size 2600x800 with 1 Axes>"
      ]
     },
     "metadata": {},
     "output_type": "display_data"
    }
   ],
   "source": [
    "plt.figure(figsize = (26,8))\n",
    "freq = sns.countplot(data=df, x=\"price\")\n",
    "freq.set(title='Whisky Price Ranges')\n",
    "freq.set(xlabel=\"Prices\")\n",
    "freq.set(ylabel=\"Count\")"
   ]
  },
  {
   "cell_type": "markdown",
   "id": "c1a5def0",
   "metadata": {},
   "source": [
    "#### The most expensives Whiskys"
   ]
  },
  {
   "cell_type": "code",
   "execution_count": 43,
   "id": "f886cc7f",
   "metadata": {
    "scrolled": true
   },
   "outputs": [
    {
     "data": {
      "text/html": [
       "<div>\n",
       "<style scoped>\n",
       "    .dataframe tbody tr th:only-of-type {\n",
       "        vertical-align: middle;\n",
       "    }\n",
       "\n",
       "    .dataframe tbody tr th {\n",
       "        vertical-align: top;\n",
       "    }\n",
       "\n",
       "    .dataframe thead th {\n",
       "        text-align: right;\n",
       "    }\n",
       "</style>\n",
       "<table border=\"1\" class=\"dataframe\">\n",
       "  <thead>\n",
       "    <tr style=\"text-align: right;\">\n",
       "      <th></th>\n",
       "      <th>id</th>\n",
       "      <th>name</th>\n",
       "      <th>category</th>\n",
       "      <th>review_points</th>\n",
       "      <th>price</th>\n",
       "      <th>currency</th>\n",
       "      <th>description.1.2247.</th>\n",
       "      <th>alcool_percentage</th>\n",
       "      <th>age</th>\n",
       "    </tr>\n",
       "  </thead>\n",
       "  <tbody>\n",
       "    <tr>\n",
       "      <th>151</th>\n",
       "      <td>152</td>\n",
       "      <td>Diamond Jubilee by John Walker &amp; Sons, 42.5%</td>\n",
       "      <td>Blended Scotch Whisky</td>\n",
       "      <td>93</td>\n",
       "      <td>157000.0</td>\n",
       "      <td>$</td>\n",
       "      <td>Bowmore lovers rarely get excited about the sm...</td>\n",
       "      <td>0.425</td>\n",
       "      <td>NaN</td>\n",
       "    </tr>\n",
       "  </tbody>\n",
       "</table>\n",
       "</div>"
      ],
      "text/plain": [
       "      id                                          name               category  \\\n",
       "151  152  Diamond Jubilee by John Walker & Sons, 42.5%  Blended Scotch Whisky   \n",
       "\n",
       "     review_points     price currency  \\\n",
       "151             93  157000.0        $   \n",
       "\n",
       "                                   description.1.2247.  alcool_percentage  age  \n",
       "151  Bowmore lovers rarely get excited about the sm...              0.425  NaN  "
      ]
     },
     "execution_count": 43,
     "metadata": {},
     "output_type": "execute_result"
    }
   ],
   "source": [
    "df[df.price == df.price.max()]"
   ]
  },
  {
   "cell_type": "markdown",
   "id": "9579db88",
   "metadata": {},
   "source": [
    "* The most expensive whisky have classification `93` on reviews. \n",
    "* The most expensive is not equivalent to the best whisky in accord with reviewers. "
   ]
  },
  {
   "cell_type": "markdown",
   "id": "fe9130c6",
   "metadata": {},
   "source": [
    "#### The cheapest whiskys"
   ]
  },
  {
   "cell_type": "code",
   "execution_count": 44,
   "id": "f0c7b122",
   "metadata": {},
   "outputs": [
    {
     "data": {
      "text/html": [
       "<div>\n",
       "<style scoped>\n",
       "    .dataframe tbody tr th:only-of-type {\n",
       "        vertical-align: middle;\n",
       "    }\n",
       "\n",
       "    .dataframe tbody tr th {\n",
       "        vertical-align: top;\n",
       "    }\n",
       "\n",
       "    .dataframe thead th {\n",
       "        text-align: right;\n",
       "    }\n",
       "</style>\n",
       "<table border=\"1\" class=\"dataframe\">\n",
       "  <thead>\n",
       "    <tr style=\"text-align: right;\">\n",
       "      <th></th>\n",
       "      <th>id</th>\n",
       "      <th>name</th>\n",
       "      <th>category</th>\n",
       "      <th>review_points</th>\n",
       "      <th>price</th>\n",
       "      <th>currency</th>\n",
       "      <th>description.1.2247.</th>\n",
       "      <th>alcool_percentage</th>\n",
       "      <th>age</th>\n",
       "    </tr>\n",
       "  </thead>\n",
       "  <tbody>\n",
       "    <tr>\n",
       "      <th>2034</th>\n",
       "      <td>2035</td>\n",
       "      <td>Clan MacGregor, 40%</td>\n",
       "      <td>Blended Scotch Whisky</td>\n",
       "      <td>85</td>\n",
       "      <td>10.0</td>\n",
       "      <td>$</td>\n",
       "      <td>This Balblair vintage replaced the previous 19...</td>\n",
       "      <td>0.4</td>\n",
       "      <td>NaN</td>\n",
       "    </tr>\n",
       "  </tbody>\n",
       "</table>\n",
       "</div>"
      ],
      "text/plain": [
       "        id                 name               category  review_points  price  \\\n",
       "2034  2035  Clan MacGregor, 40%  Blended Scotch Whisky             85   10.0   \n",
       "\n",
       "     currency                                description.1.2247.  \\\n",
       "2034        $  This Balblair vintage replaced the previous 19...   \n",
       "\n",
       "      alcool_percentage  age  \n",
       "2034                0.4  NaN  "
      ]
     },
     "execution_count": 44,
     "metadata": {},
     "output_type": "execute_result"
    }
   ],
   "source": [
    "df[df.price == df.price.min()]"
   ]
  },
  {
   "cell_type": "markdown",
   "id": "897cb93e",
   "metadata": {},
   "source": [
    "* The cheapest whisky have `85` points\n",
    "* The price lower price is not equivalent to a worst review"
   ]
  },
  {
   "cell_type": "markdown",
   "id": "5d5d5275",
   "metadata": {},
   "source": [
    "## Alcool Analysis"
   ]
  },
  {
   "cell_type": "code",
   "execution_count": 45,
   "id": "360d8902",
   "metadata": {
    "scrolled": true
   },
   "outputs": [
    {
     "data": {
      "text/plain": [
       "count    2223.000000\n",
       "mean        0.477788\n",
       "std         0.057873\n",
       "min         0.400000\n",
       "25%         0.430000\n",
       "50%         0.460000\n",
       "75%         0.518000\n",
       "max         0.660000\n",
       "Name: alcool_percentage, dtype: float64"
      ]
     },
     "execution_count": 45,
     "metadata": {},
     "output_type": "execute_result"
    }
   ],
   "source": [
    "df.alcool_percentage.describe()"
   ]
  },
  {
   "cell_type": "code",
   "execution_count": 72,
   "id": "88ecacef",
   "metadata": {},
   "outputs": [
    {
     "data": {
      "text/plain": [
       "10"
      ]
     },
     "execution_count": 72,
     "metadata": {},
     "output_type": "execute_result"
    }
   ],
   "source": [
    "df.alcool_percentage.isnull().sum()"
   ]
  },
  {
   "cell_type": "markdown",
   "id": "070450df",
   "metadata": {},
   "source": [
    "* We have 10 observations with no alcool percentage found in description"
   ]
  },
  {
   "cell_type": "code",
   "execution_count": 73,
   "id": "abacf3e2",
   "metadata": {
    "scrolled": true
   },
   "outputs": [
    {
     "data": {
      "text/html": [
       "<div>\n",
       "<style scoped>\n",
       "    .dataframe tbody tr th:only-of-type {\n",
       "        vertical-align: middle;\n",
       "    }\n",
       "\n",
       "    .dataframe tbody tr th {\n",
       "        vertical-align: top;\n",
       "    }\n",
       "\n",
       "    .dataframe thead th {\n",
       "        text-align: right;\n",
       "    }\n",
       "</style>\n",
       "<table border=\"1\" class=\"dataframe\">\n",
       "  <thead>\n",
       "    <tr style=\"text-align: right;\">\n",
       "      <th></th>\n",
       "      <th>id</th>\n",
       "      <th>name</th>\n",
       "      <th>category</th>\n",
       "      <th>review_points</th>\n",
       "      <th>price</th>\n",
       "      <th>currency</th>\n",
       "      <th>description.1.2247.</th>\n",
       "      <th>alcool_percentage</th>\n",
       "      <th>age</th>\n",
       "    </tr>\n",
       "  </thead>\n",
       "  <tbody>\n",
       "    <tr>\n",
       "      <th>112</th>\n",
       "      <td>113</td>\n",
       "      <td>The Balvenie 30 year old 1973 Vintage (Cask #9...</td>\n",
       "      <td>Single Malt Scotch</td>\n",
       "      <td>93</td>\n",
       "      <td>400.0</td>\n",
       "      <td>$</td>\n",
       "      <td>Black Bottle is unique in that it combines sev...</td>\n",
       "      <td>NaN</td>\n",
       "      <td>30.0</td>\n",
       "    </tr>\n",
       "    <tr>\n",
       "      <th>832</th>\n",
       "      <td>833</td>\n",
       "      <td>Cadenhead</td>\n",
       "      <td>Single Malt Scotch</td>\n",
       "      <td>89</td>\n",
       "      <td>125.0</td>\n",
       "      <td>$</td>\n",
       "      <td>Melon, honey, red apples, buttercups, and butt...</td>\n",
       "      <td>NaN</td>\n",
       "      <td>NaN</td>\n",
       "    </tr>\n",
       "    <tr>\n",
       "      <th>851</th>\n",
       "      <td>852</td>\n",
       "      <td>Murray McDavid</td>\n",
       "      <td>Single Malt Scotch</td>\n",
       "      <td>89</td>\n",
       "      <td>150.0</td>\n",
       "      <td>$</td>\n",
       "      <td>Finished in cognac wood. The cognac wood influ...</td>\n",
       "      <td>NaN</td>\n",
       "      <td>NaN</td>\n",
       "    </tr>\n",
       "    <tr>\n",
       "      <th>952</th>\n",
       "      <td>953</td>\n",
       "      <td>Glenfarclas £511. 19s. 0d.</td>\n",
       "      <td>Single Malt Scotch</td>\n",
       "      <td>89</td>\n",
       "      <td>130.0</td>\n",
       "      <td>$</td>\n",
       "      <td>Not an unpeated Ardbeg, but a new initiative t...</td>\n",
       "      <td>NaN</td>\n",
       "      <td>NaN</td>\n",
       "    </tr>\n",
       "    <tr>\n",
       "      <th>1140</th>\n",
       "      <td>1141</td>\n",
       "      <td>Wemyss Malts ‘Honey Spice’ (distilled at Bunna...</td>\n",
       "      <td>Single Malt Scotch</td>\n",
       "      <td>88</td>\n",
       "      <td>96.0</td>\n",
       "      <td>$</td>\n",
       "      <td>A new, beefed-up version of the 18 year old, w...</td>\n",
       "      <td>NaN</td>\n",
       "      <td>NaN</td>\n",
       "    </tr>\n",
       "    <tr>\n",
       "      <th>1346</th>\n",
       "      <td>1347</td>\n",
       "      <td>Cask &amp; Thistle 29 year old 1974 Vintage (disti...</td>\n",
       "      <td>Single Malt Scotch</td>\n",
       "      <td>87</td>\n",
       "      <td>110.0</td>\n",
       "      <td>$</td>\n",
       "      <td>A period of finishing in a combination of Pedr...</td>\n",
       "      <td>NaN</td>\n",
       "      <td>29.0</td>\n",
       "    </tr>\n",
       "    <tr>\n",
       "      <th>1348</th>\n",
       "      <td>1349</td>\n",
       "      <td>Wild Scotsman (distilled at Ben Nevis), 13 yea...</td>\n",
       "      <td>Single Malt Scotch</td>\n",
       "      <td>87</td>\n",
       "      <td>70.0</td>\n",
       "      <td>$</td>\n",
       "      <td>This strikes an earnest tone with a nose of ri...</td>\n",
       "      <td>NaN</td>\n",
       "      <td>13.0</td>\n",
       "    </tr>\n",
       "    <tr>\n",
       "      <th>1400</th>\n",
       "      <td>1401</td>\n",
       "      <td>Ardmore Traditional Cask 1998</td>\n",
       "      <td>Single Malt Scotch</td>\n",
       "      <td>87</td>\n",
       "      <td>50.0</td>\n",
       "      <td>$</td>\n",
       "      <td>Amber mahogany color. Its 50 years of age are ...</td>\n",
       "      <td>NaN</td>\n",
       "      <td>NaN</td>\n",
       "    </tr>\n",
       "    <tr>\n",
       "      <th>1896</th>\n",
       "      <td>1897</td>\n",
       "      <td>Duncan Taylor NC2 (distilled at Imperial) 1997...</td>\n",
       "      <td>Single Malt Scotch</td>\n",
       "      <td>85</td>\n",
       "      <td>60.0</td>\n",
       "      <td>$</td>\n",
       "      <td>Straw gold color. Aromas reminiscent of a bouq...</td>\n",
       "      <td>NaN</td>\n",
       "      <td>13.0</td>\n",
       "    </tr>\n",
       "    <tr>\n",
       "      <th>2243</th>\n",
       "      <td>2244</td>\n",
       "      <td>The Macallan Whisky Maker</td>\n",
       "      <td>Single Malt Scotch</td>\n",
       "      <td>83</td>\n",
       "      <td>90.0</td>\n",
       "      <td>$</td>\n",
       "      <td>A blend of three different single malts. Its n...</td>\n",
       "      <td>NaN</td>\n",
       "      <td>NaN</td>\n",
       "    </tr>\n",
       "  </tbody>\n",
       "</table>\n",
       "</div>"
      ],
      "text/plain": [
       "        id                                               name  \\\n",
       "112    113  The Balvenie 30 year old 1973 Vintage (Cask #9...   \n",
       "832    833                                          Cadenhead   \n",
       "851    852                                    Murray McDavid    \n",
       "952    953                         Glenfarclas £511. 19s. 0d.   \n",
       "1140  1141  Wemyss Malts ‘Honey Spice’ (distilled at Bunna...   \n",
       "1346  1347  Cask & Thistle 29 year old 1974 Vintage (disti...   \n",
       "1348  1349  Wild Scotsman (distilled at Ben Nevis), 13 yea...   \n",
       "1400  1401                      Ardmore Traditional Cask 1998   \n",
       "1896  1897  Duncan Taylor NC2 (distilled at Imperial) 1997...   \n",
       "2243  2244                          The Macallan Whisky Maker   \n",
       "\n",
       "                category  review_points  price currency  \\\n",
       "112   Single Malt Scotch             93  400.0        $   \n",
       "832   Single Malt Scotch             89  125.0        $   \n",
       "851   Single Malt Scotch             89  150.0        $   \n",
       "952   Single Malt Scotch             89  130.0        $   \n",
       "1140  Single Malt Scotch             88   96.0        $   \n",
       "1346  Single Malt Scotch             87  110.0        $   \n",
       "1348  Single Malt Scotch             87   70.0        $   \n",
       "1400  Single Malt Scotch             87   50.0        $   \n",
       "1896  Single Malt Scotch             85   60.0        $   \n",
       "2243  Single Malt Scotch             83   90.0        $   \n",
       "\n",
       "                                    description.1.2247.  alcool_percentage  \\\n",
       "112   Black Bottle is unique in that it combines sev...                NaN   \n",
       "832   Melon, honey, red apples, buttercups, and butt...                NaN   \n",
       "851   Finished in cognac wood. The cognac wood influ...                NaN   \n",
       "952   Not an unpeated Ardbeg, but a new initiative t...                NaN   \n",
       "1140  A new, beefed-up version of the 18 year old, w...                NaN   \n",
       "1346  A period of finishing in a combination of Pedr...                NaN   \n",
       "1348  This strikes an earnest tone with a nose of ri...                NaN   \n",
       "1400  Amber mahogany color. Its 50 years of age are ...                NaN   \n",
       "1896  Straw gold color. Aromas reminiscent of a bouq...                NaN   \n",
       "2243  A blend of three different single malts. Its n...                NaN   \n",
       "\n",
       "       age  \n",
       "112   30.0  \n",
       "832    NaN  \n",
       "851    NaN  \n",
       "952    NaN  \n",
       "1140   NaN  \n",
       "1346  29.0  \n",
       "1348  13.0  \n",
       "1400   NaN  \n",
       "1896  13.0  \n",
       "2243   NaN  "
      ]
     },
     "execution_count": 73,
     "metadata": {},
     "output_type": "execute_result"
    }
   ],
   "source": [
    "df[df.alcool_percentage.isnull()]"
   ]
  },
  {
   "cell_type": "markdown",
   "id": "adc2b0db",
   "metadata": {},
   "source": [
    "* The Regex to extrat alcool percentage from name has no erros.\n",
    "* The observations don't give this information on name. \n",
    "* now, we need to remove obsevations with `NaN` on alcool percentage to have more accuracy on analysis"
   ]
  },
  {
   "cell_type": "code",
   "execution_count": 74,
   "id": "fcf98a14",
   "metadata": {},
   "outputs": [],
   "source": [
    "df_alcool = df[pd.notnull(df['alcool_percentage'])]"
   ]
  },
  {
   "cell_type": "code",
   "execution_count": 75,
   "id": "84f2076d",
   "metadata": {},
   "outputs": [
    {
     "data": {
      "text/plain": [
       "0"
      ]
     },
     "execution_count": 75,
     "metadata": {},
     "output_type": "execute_result"
    }
   ],
   "source": [
    "df_alcool.alcool_percentage.isnull().sum()"
   ]
  },
  {
   "cell_type": "code",
   "execution_count": 114,
   "id": "6d735d0e",
   "metadata": {},
   "outputs": [
    {
     "data": {
      "text/plain": [
       "<Figure size 2600x800 with 0 Axes>"
      ]
     },
     "metadata": {},
     "output_type": "display_data"
    },
    {
     "data": {
      "image/png": "[encoded data removed]",
      "text/plain": [
       "<Figure size 500x500 with 1 Axes>"
      ]
     },
     "metadata": {},
     "output_type": "display_data"
    }
   ],
   "source": [
    "plt.figure(figsize = (26,8))\n",
    "freq = sns.displot(data=df_alcool, x=\"alcool_percentage\",kde=True, bins=30)\n",
    "freq.set(title='Whisky Alcool Distribution')\n",
    "freq.set(xlabel=\"Alcool Percentage\")\n",
    "freq.set(ylabel=\"Reviews\");"
   ]
  },
  {
   "cell_type": "markdown",
   "id": "ecc41dce",
   "metadata": {},
   "source": [
    "#### The most alcoolic whiskys"
   ]
  },
  {
   "cell_type": "code",
   "execution_count": 77,
   "id": "3926e483",
   "metadata": {},
   "outputs": [
    {
     "data": {
      "text/html": [
       "<div>\n",
       "<style scoped>\n",
       "    .dataframe tbody tr th:only-of-type {\n",
       "        vertical-align: middle;\n",
       "    }\n",
       "\n",
       "    .dataframe tbody tr th {\n",
       "        vertical-align: top;\n",
       "    }\n",
       "\n",
       "    .dataframe thead th {\n",
       "        text-align: right;\n",
       "    }\n",
       "</style>\n",
       "<table border=\"1\" class=\"dataframe\">\n",
       "  <thead>\n",
       "    <tr style=\"text-align: right;\">\n",
       "      <th></th>\n",
       "      <th>id</th>\n",
       "      <th>name</th>\n",
       "      <th>category</th>\n",
       "      <th>review_points</th>\n",
       "      <th>price</th>\n",
       "      <th>currency</th>\n",
       "      <th>description.1.2247.</th>\n",
       "      <th>alcool_percentage</th>\n",
       "      <th>age</th>\n",
       "    </tr>\n",
       "  </thead>\n",
       "  <tbody>\n",
       "    <tr>\n",
       "      <th>1926</th>\n",
       "      <td>1927</td>\n",
       "      <td>Wemyss Malts Fruit Bonbons (distilled at Glen ...</td>\n",
       "      <td>Single Malt Scotch</td>\n",
       "      <td>85</td>\n",
       "      <td>137.0</td>\n",
       "      <td>$</td>\n",
       "      <td>This 1998 vintage triple distilled Lowland Auc...</td>\n",
       "      <td>0.66</td>\n",
       "      <td>NaN</td>\n",
       "    </tr>\n",
       "  </tbody>\n",
       "</table>\n",
       "</div>"
      ],
      "text/plain": [
       "        id                                               name  \\\n",
       "1926  1927  Wemyss Malts Fruit Bonbons (distilled at Glen ...   \n",
       "\n",
       "                category  review_points  price currency  \\\n",
       "1926  Single Malt Scotch             85  137.0        $   \n",
       "\n",
       "                                    description.1.2247.  alcool_percentage  \\\n",
       "1926  This 1998 vintage triple distilled Lowland Auc...               0.66   \n",
       "\n",
       "      age  \n",
       "1926  NaN  "
      ]
     },
     "execution_count": 77,
     "metadata": {},
     "output_type": "execute_result"
    }
   ],
   "source": [
    "df_alcool[df_alcool.alcool_percentage == df_alcool.alcool_percentage.max()]"
   ]
  },
  {
   "cell_type": "markdown",
   "id": "ef0e9359",
   "metadata": {},
   "source": [
    "#### The less alcoolic whiskys "
   ]
  },
  {
   "cell_type": "code",
   "execution_count": 78,
   "id": "ccd013f6",
   "metadata": {
    "scrolled": true
   },
   "outputs": [
    {
     "data": {
      "text/html": [
       "<div>\n",
       "<style scoped>\n",
       "    .dataframe tbody tr th:only-of-type {\n",
       "        vertical-align: middle;\n",
       "    }\n",
       "\n",
       "    .dataframe tbody tr th {\n",
       "        vertical-align: top;\n",
       "    }\n",
       "\n",
       "    .dataframe thead th {\n",
       "        text-align: right;\n",
       "    }\n",
       "</style>\n",
       "<table border=\"1\" class=\"dataframe\">\n",
       "  <thead>\n",
       "    <tr style=\"text-align: right;\">\n",
       "      <th></th>\n",
       "      <th>id</th>\n",
       "      <th>name</th>\n",
       "      <th>category</th>\n",
       "      <th>review_points</th>\n",
       "      <th>price</th>\n",
       "      <th>currency</th>\n",
       "      <th>description.1.2247.</th>\n",
       "      <th>alcool_percentage</th>\n",
       "      <th>age</th>\n",
       "    </tr>\n",
       "  </thead>\n",
       "  <tbody>\n",
       "    <tr>\n",
       "      <th>2</th>\n",
       "      <td>3</td>\n",
       "      <td>Johnnie Walker Blue Label, 40%</td>\n",
       "      <td>Blended Scotch Whisky</td>\n",
       "      <td>97</td>\n",
       "      <td>225.0</td>\n",
       "      <td>$</td>\n",
       "      <td>Magnificently powerful and intense. Caramels, ...</td>\n",
       "      <td>0.4</td>\n",
       "      <td>NaN</td>\n",
       "    </tr>\n",
       "    <tr>\n",
       "      <th>10</th>\n",
       "      <td>11</td>\n",
       "      <td>Chivas Regal Ultis, 40%</td>\n",
       "      <td>Blended Malt Scotch Whisky</td>\n",
       "      <td>96</td>\n",
       "      <td>160.0</td>\n",
       "      <td>$</td>\n",
       "      <td>Captivating, enticing, and wonderfully charmin...</td>\n",
       "      <td>0.4</td>\n",
       "      <td>NaN</td>\n",
       "    </tr>\n",
       "    <tr>\n",
       "      <th>11</th>\n",
       "      <td>12</td>\n",
       "      <td>Chivas, 18 year old, 40%</td>\n",
       "      <td>Blended Scotch Whisky</td>\n",
       "      <td>95</td>\n",
       "      <td>70.0</td>\n",
       "      <td>$</td>\n",
       "      <td>An essay in balance on both the aroma and pala...</td>\n",
       "      <td>0.4</td>\n",
       "      <td>18.0</td>\n",
       "    </tr>\n",
       "    <tr>\n",
       "      <th>35</th>\n",
       "      <td>36</td>\n",
       "      <td>Royal Salute 28 year old Kew Palace Edition, 40%</td>\n",
       "      <td>Blended Scotch Whisky</td>\n",
       "      <td>95</td>\n",
       "      <td>790.0</td>\n",
       "      <td>$</td>\n",
       "      <td>Fresh spring floral bouquets, white peach, and...</td>\n",
       "      <td>0.4</td>\n",
       "      <td>28.0</td>\n",
       "    </tr>\n",
       "    <tr>\n",
       "      <th>46</th>\n",
       "      <td>47</td>\n",
       "      <td>Glendronach 33 year old, 40%</td>\n",
       "      <td>Single Malt Scotch</td>\n",
       "      <td>94</td>\n",
       "      <td>400.0</td>\n",
       "      <td>$</td>\n",
       "      <td>Matured entirely in oloroso sherry butts, this...</td>\n",
       "      <td>0.4</td>\n",
       "      <td>33.0</td>\n",
       "    </tr>\n",
       "    <tr>\n",
       "      <th>...</th>\n",
       "      <td>...</td>\n",
       "      <td>...</td>\n",
       "      <td>...</td>\n",
       "      <td>...</td>\n",
       "      <td>...</td>\n",
       "      <td>...</td>\n",
       "      <td>...</td>\n",
       "      <td>...</td>\n",
       "      <td>...</td>\n",
       "    </tr>\n",
       "    <tr>\n",
       "      <th>2222</th>\n",
       "      <td>2223</td>\n",
       "      <td>The Singleton of Glendullan, 12 year old, 40%</td>\n",
       "      <td>Single Malt Scotch</td>\n",
       "      <td>83</td>\n",
       "      <td>36.0</td>\n",
       "      <td>$</td>\n",
       "      <td>This peated expression from Tobermory distille...</td>\n",
       "      <td>0.4</td>\n",
       "      <td>12.0</td>\n",
       "    </tr>\n",
       "    <tr>\n",
       "      <th>2231</th>\n",
       "      <td>2232</td>\n",
       "      <td>The Macallan 10 year old Fine Oak, 40%</td>\n",
       "      <td>Single Malt Scotch</td>\n",
       "      <td>83</td>\n",
       "      <td>44.0</td>\n",
       "      <td>$</td>\n",
       "      <td>A solid presence in the range, the strength an...</td>\n",
       "      <td>0.4</td>\n",
       "      <td>10.0</td>\n",
       "    </tr>\n",
       "    <tr>\n",
       "      <th>2233</th>\n",
       "      <td>2234</td>\n",
       "      <td>Tullibardine, 1993 Vintage, 40%</td>\n",
       "      <td>Single Malt Scotch</td>\n",
       "      <td>83</td>\n",
       "      <td>55.0</td>\n",
       "      <td>$</td>\n",
       "      <td>It will soon be 120 years since this workhorse...</td>\n",
       "      <td>0.4</td>\n",
       "      <td>NaN</td>\n",
       "    </tr>\n",
       "    <tr>\n",
       "      <th>2240</th>\n",
       "      <td>2241</td>\n",
       "      <td>The Antiquary, 12 year old, 40%</td>\n",
       "      <td>Blended Scotch Whisky</td>\n",
       "      <td>83</td>\n",
       "      <td>30.0</td>\n",
       "      <td>$</td>\n",
       "      <td>The nose is grassy and light, with some youthf...</td>\n",
       "      <td>0.4</td>\n",
       "      <td>12.0</td>\n",
       "    </tr>\n",
       "    <tr>\n",
       "      <th>2245</th>\n",
       "      <td>2246</td>\n",
       "      <td>Smoking Ember, 40%</td>\n",
       "      <td>Single Malt Scotch</td>\n",
       "      <td>83</td>\n",
       "      <td>40.0</td>\n",
       "      <td>$</td>\n",
       "      <td>The tell-tale rich honeyed Balvenie personalit...</td>\n",
       "      <td>0.4</td>\n",
       "      <td>NaN</td>\n",
       "    </tr>\n",
       "  </tbody>\n",
       "</table>\n",
       "<p>297 rows × 9 columns</p>\n",
       "</div>"
      ],
      "text/plain": [
       "        id                                              name  \\\n",
       "2        3                    Johnnie Walker Blue Label, 40%   \n",
       "10      11                           Chivas Regal Ultis, 40%   \n",
       "11      12                          Chivas, 18 year old, 40%   \n",
       "35      36  Royal Salute 28 year old Kew Palace Edition, 40%   \n",
       "46      47                      Glendronach 33 year old, 40%   \n",
       "...    ...                                               ...   \n",
       "2222  2223     The Singleton of Glendullan, 12 year old, 40%   \n",
       "2231  2232            The Macallan 10 year old Fine Oak, 40%   \n",
       "2233  2234                   Tullibardine, 1993 Vintage, 40%   \n",
       "2240  2241                   The Antiquary, 12 year old, 40%   \n",
       "2245  2246                                Smoking Ember, 40%   \n",
       "\n",
       "                        category  review_points  price currency  \\\n",
       "2          Blended Scotch Whisky             97  225.0        $   \n",
       "10    Blended Malt Scotch Whisky             96  160.0        $   \n",
       "11         Blended Scotch Whisky             95   70.0        $   \n",
       "35         Blended Scotch Whisky             95  790.0        $   \n",
       "46            Single Malt Scotch             94  400.0        $   \n",
       "...                          ...            ...    ...      ...   \n",
       "2222          Single Malt Scotch             83   36.0        $   \n",
       "2231          Single Malt Scotch             83   44.0        $   \n",
       "2233          Single Malt Scotch             83   55.0        $   \n",
       "2240       Blended Scotch Whisky             83   30.0        $   \n",
       "2245          Single Malt Scotch             83   40.0        $   \n",
       "\n",
       "                                    description.1.2247.  alcool_percentage  \\\n",
       "2     Magnificently powerful and intense. Caramels, ...                0.4   \n",
       "10    Captivating, enticing, and wonderfully charmin...                0.4   \n",
       "11    An essay in balance on both the aroma and pala...                0.4   \n",
       "35    Fresh spring floral bouquets, white peach, and...                0.4   \n",
       "46    Matured entirely in oloroso sherry butts, this...                0.4   \n",
       "...                                                 ...                ...   \n",
       "2222  This peated expression from Tobermory distille...                0.4   \n",
       "2231  A solid presence in the range, the strength an...                0.4   \n",
       "2233  It will soon be 120 years since this workhorse...                0.4   \n",
       "2240  The nose is grassy and light, with some youthf...                0.4   \n",
       "2245  The tell-tale rich honeyed Balvenie personalit...                0.4   \n",
       "\n",
       "       age  \n",
       "2      NaN  \n",
       "10     NaN  \n",
       "11    18.0  \n",
       "35    28.0  \n",
       "46    33.0  \n",
       "...    ...  \n",
       "2222  12.0  \n",
       "2231  10.0  \n",
       "2233   NaN  \n",
       "2240  12.0  \n",
       "2245   NaN  \n",
       "\n",
       "[297 rows x 9 columns]"
      ]
     },
     "execution_count": 78,
     "metadata": {},
     "output_type": "execute_result"
    }
   ],
   "source": [
    "df_alcool[df_alcool.alcool_percentage == df_alcool.alcool_percentage.min()]"
   ]
  },
  {
   "cell_type": "markdown",
   "id": "c416a4bf",
   "metadata": {},
   "source": [
    "## Age Analysis"
   ]
  },
  {
   "cell_type": "code",
   "execution_count": 97,
   "id": "62bfc372",
   "metadata": {},
   "outputs": [
    {
     "data": {
      "text/plain": [
       "count    1170.000000\n",
       "mean       20.447863\n",
       "std         9.618529\n",
       "min         3.000000\n",
       "25%        13.000000\n",
       "50%        18.000000\n",
       "75%        25.000000\n",
       "max        70.000000\n",
       "Name: age, dtype: float64"
      ]
     },
     "execution_count": 97,
     "metadata": {},
     "output_type": "execute_result"
    }
   ],
   "source": [
    "df.age.describe()"
   ]
  },
  {
   "cell_type": "code",
   "execution_count": 98,
   "id": "6428cfe7",
   "metadata": {},
   "outputs": [
    {
     "data": {
      "text/plain": [
       "1063"
      ]
     },
     "execution_count": 98,
     "metadata": {},
     "output_type": "execute_result"
    }
   ],
   "source": [
    "df.age.isnull().sum()"
   ]
  },
  {
   "cell_type": "code",
   "execution_count": 99,
   "id": "ba012c5c",
   "metadata": {},
   "outputs": [],
   "source": [
    "df_age = df[pd.notnull(df['age'])]"
   ]
  },
  {
   "cell_type": "code",
   "execution_count": 100,
   "id": "07f7f6b7",
   "metadata": {},
   "outputs": [
    {
     "data": {
      "text/plain": [
       "0"
      ]
     },
     "execution_count": 100,
     "metadata": {},
     "output_type": "execute_result"
    }
   ],
   "source": [
    "df_age.age.isnull().sum()"
   ]
  },
  {
   "cell_type": "code",
   "execution_count": 101,
   "id": "4c59721c",
   "metadata": {
    "scrolled": true
   },
   "outputs": [
    {
     "data": {
      "image/png": "[encoded data removed]",
      "text/plain": [
       "<Figure size 500x500 with 1 Axes>"
      ]
     },
     "metadata": {},
     "output_type": "display_data"
    }
   ],
   "source": [
    "freq = sns.displot(data=df_age, x=\"age\",kde=True, bins=30)\n",
    "freq.set(title='Whisky Age Distribution')\n",
    "freq.set(xlabel=\"Age\")\n",
    "freq.set(ylabel=\"Reviews\");"
   ]
  },
  {
   "cell_type": "markdown",
   "id": "83d3e712",
   "metadata": {},
   "source": [
    "#### The Older Whisky Described"
   ]
  },
  {
   "cell_type": "code",
   "execution_count": 107,
   "id": "d27e7b77",
   "metadata": {},
   "outputs": [
    {
     "data": {
      "text/html": [
       "<div>\n",
       "<style scoped>\n",
       "    .dataframe tbody tr th:only-of-type {\n",
       "        vertical-align: middle;\n",
       "    }\n",
       "\n",
       "    .dataframe tbody tr th {\n",
       "        vertical-align: top;\n",
       "    }\n",
       "\n",
       "    .dataframe thead th {\n",
       "        text-align: right;\n",
       "    }\n",
       "</style>\n",
       "<table border=\"1\" class=\"dataframe\">\n",
       "  <thead>\n",
       "    <tr style=\"text-align: right;\">\n",
       "      <th></th>\n",
       "      <th>id</th>\n",
       "      <th>name</th>\n",
       "      <th>category</th>\n",
       "      <th>review_points</th>\n",
       "      <th>price</th>\n",
       "      <th>currency</th>\n",
       "      <th>description.1.2247.</th>\n",
       "      <th>alcool_percentage</th>\n",
       "      <th>age</th>\n",
       "    </tr>\n",
       "  </thead>\n",
       "  <tbody>\n",
       "    <tr>\n",
       "      <th>623</th>\n",
       "      <td>624</td>\n",
       "      <td>Gordon &amp; MacPhail Generations: Glenlivet 70 ye...</td>\n",
       "      <td>Single Malt Scotch</td>\n",
       "      <td>90</td>\n",
       "      <td>21000.0</td>\n",
       "      <td>$</td>\n",
       "      <td>This (rather young) Islay distillery’s second ...</td>\n",
       "      <td>0.459</td>\n",
       "      <td>70.0</td>\n",
       "    </tr>\n",
       "  </tbody>\n",
       "</table>\n",
       "</div>"
      ],
      "text/plain": [
       "      id                                               name  \\\n",
       "623  624  Gordon & MacPhail Generations: Glenlivet 70 ye...   \n",
       "\n",
       "               category  review_points    price currency  \\\n",
       "623  Single Malt Scotch             90  21000.0        $   \n",
       "\n",
       "                                   description.1.2247.  alcool_percentage  \\\n",
       "623  This (rather young) Islay distillery’s second ...              0.459   \n",
       "\n",
       "      age  \n",
       "623  70.0  "
      ]
     },
     "execution_count": 107,
     "metadata": {},
     "output_type": "execute_result"
    }
   ],
   "source": [
    "df_age[df_age.age == df_age.age.max()]"
   ]
  },
  {
   "cell_type": "markdown",
   "id": "48c6f555",
   "metadata": {},
   "source": [
    "* The Oldest whisky on dataset has 70 years"
   ]
  },
  {
   "cell_type": "markdown",
   "id": "e56ed8d4",
   "metadata": {},
   "source": [
    "#### The most recent whisky described"
   ]
  },
  {
   "cell_type": "code",
   "execution_count": 108,
   "id": "ee8b1d1b",
   "metadata": {},
   "outputs": [
    {
     "data": {
      "text/html": [
       "<div>\n",
       "<style scoped>\n",
       "    .dataframe tbody tr th:only-of-type {\n",
       "        vertical-align: middle;\n",
       "    }\n",
       "\n",
       "    .dataframe tbody tr th {\n",
       "        vertical-align: top;\n",
       "    }\n",
       "\n",
       "    .dataframe thead th {\n",
       "        text-align: right;\n",
       "    }\n",
       "</style>\n",
       "<table border=\"1\" class=\"dataframe\">\n",
       "  <thead>\n",
       "    <tr style=\"text-align: right;\">\n",
       "      <th></th>\n",
       "      <th>id</th>\n",
       "      <th>name</th>\n",
       "      <th>category</th>\n",
       "      <th>review_points</th>\n",
       "      <th>price</th>\n",
       "      <th>currency</th>\n",
       "      <th>description.1.2247.</th>\n",
       "      <th>alcool_percentage</th>\n",
       "      <th>age</th>\n",
       "    </tr>\n",
       "  </thead>\n",
       "  <tbody>\n",
       "    <tr>\n",
       "      <th>479</th>\n",
       "      <td>480</td>\n",
       "      <td>Compass Box 3 year old Deluxe, 49.2%</td>\n",
       "      <td>Blended Malt Scotch Whisky</td>\n",
       "      <td>91</td>\n",
       "      <td>300.0</td>\n",
       "      <td>$</td>\n",
       "      <td>This dark, chestnut liquid exudes wafts of ros...</td>\n",
       "      <td>0.492</td>\n",
       "      <td>3.0</td>\n",
       "    </tr>\n",
       "    <tr>\n",
       "      <th>2201</th>\n",
       "      <td>2202</td>\n",
       "      <td>MacQueens of Scotland 3 year old, 40%</td>\n",
       "      <td>Blended Scotch Whisky</td>\n",
       "      <td>84</td>\n",
       "      <td>13.0</td>\n",
       "      <td>$</td>\n",
       "      <td>Brought back as a celebration of the distiller...</td>\n",
       "      <td>0.400</td>\n",
       "      <td>3.0</td>\n",
       "    </tr>\n",
       "  </tbody>\n",
       "</table>\n",
       "</div>"
      ],
      "text/plain": [
       "        id                                   name                    category  \\\n",
       "479    480   Compass Box 3 year old Deluxe, 49.2%  Blended Malt Scotch Whisky   \n",
       "2201  2202  MacQueens of Scotland 3 year old, 40%       Blended Scotch Whisky   \n",
       "\n",
       "      review_points  price currency  \\\n",
       "479              91  300.0        $   \n",
       "2201             84   13.0        $   \n",
       "\n",
       "                                    description.1.2247.  alcool_percentage  \\\n",
       "479   This dark, chestnut liquid exudes wafts of ros...              0.492   \n",
       "2201  Brought back as a celebration of the distiller...              0.400   \n",
       "\n",
       "      age  \n",
       "479   3.0  \n",
       "2201  3.0  "
      ]
     },
     "execution_count": 108,
     "metadata": {},
     "output_type": "execute_result"
    }
   ],
   "source": [
    "df_age[df_age.age == df_age.age.min()]"
   ]
  },
  {
   "cell_type": "markdown",
   "id": "6e81d5c2",
   "metadata": {},
   "source": [
    "* The most recent whisky on dataset has only 3 years\n",
    "* Comparing to oldest, we have an 3 years whisky best reviwed as a 70 aged"
   ]
  },
  {
   "cell_type": "code",
   "execution_count": 112,
   "id": "d9e8a6c6",
   "metadata": {},
   "outputs": [
    {
     "data": {
      "text/plain": [
       "[Text(0, 0.5, 'Count')]"
      ]
     },
     "execution_count": 112,
     "metadata": {},
     "output_type": "execute_result"
    },
    {
     "data": {
      "image/png": "[encoded data removed]",
      "text/plain": [
       "<Figure size 2600x800 with 1 Axes>"
      ]
     },
     "metadata": {},
     "output_type": "display_data"
    }
   ],
   "source": [
    "plt.figure(figsize = (26,8))\n",
    "freq = sns.countplot(data=df, x=\"age\")\n",
    "freq.set(title='Whisky Age Ranges')\n",
    "freq.set(xlabel=\"Age\")\n",
    "freq.set(ylabel=\"Count\")"
   ]
  },
  {
   "cell_type": "markdown",
   "id": "81006b00",
   "metadata": {},
   "source": [
    "## Testing Correlation Between Points and Price"
   ]
  },
  {
   "cell_type": "code",
   "execution_count": 79,
   "id": "3d2619cb",
   "metadata": {},
   "outputs": [
    {
     "data": {
      "text/plain": [
       "SpearmanrResult(correlation=0.3623845203792773, pvalue=2.9101150226508465e-70)"
      ]
     },
     "execution_count": 79,
     "metadata": {},
     "output_type": "execute_result"
    }
   ],
   "source": [
    "scipy.stats.spearmanr(\n",
    "    df.review_points, \n",
    "    df.price\n",
    "    )"
   ]
  },
  {
   "cell_type": "code",
   "execution_count": 80,
   "id": "1f358bcc",
   "metadata": {},
   "outputs": [
    {
     "data": {
      "text/plain": [
       "PearsonRResult(statistic=0.15068414326309218, pvalue=8.219817272353569e-13)"
      ]
     },
     "execution_count": 80,
     "metadata": {},
     "output_type": "execute_result"
    }
   ],
   "source": [
    "scipy.stats.pearsonr(\n",
    "    df.review_points, \n",
    "    df.price\n",
    "    )"
   ]
  },
  {
   "cell_type": "code",
   "execution_count": 81,
   "id": "abda6911",
   "metadata": {},
   "outputs": [
    {
     "data": {
      "text/plain": [
       "KendalltauResult(correlation=0.25762571102978477, pvalue=1.2493967883595108e-67)"
      ]
     },
     "execution_count": 81,
     "metadata": {},
     "output_type": "execute_result"
    }
   ],
   "source": [
    "scipy.stats.kendalltau(\n",
    "    df.review_points, \n",
    "    df.price\n",
    "    )"
   ]
  },
  {
   "cell_type": "markdown",
   "id": "1603d516",
   "metadata": {},
   "source": [
    "* Any Correlation Algorithms has a valid statistics results. \n",
    "* Kendall, Spearman and Person have a weak correlation between price and review points. \n",
    "* Best reviews is not associated directly with whisky price"
   ]
  },
  {
   "cell_type": "markdown",
   "id": "1a4e298f",
   "metadata": {},
   "source": [
    "### Linear Correlation"
   ]
  },
  {
   "cell_type": "code",
   "execution_count": 82,
   "id": "d061b099",
   "metadata": {
    "scrolled": true
   },
   "outputs": [
    {
     "data": {
      "image/png": "[encoded data removed]",
      "text/plain": [
       "<Figure size 1600x800 with 1 Axes>"
      ]
     },
     "metadata": {},
     "output_type": "display_data"
    }
   ],
   "source": [
    "plt.figure(figsize = (16,8))\n",
    "plt.scatter(\n",
    "    df.price, \n",
    "    df.review_points, \n",
    "    c='blue')\n",
    "plt.xlabel(\" Whiskys Price \")\n",
    "plt.ylabel(\" Review Points \")\n",
    "plt.show()\n"
   ]
  },
  {
   "cell_type": "markdown",
   "id": "e24c0352",
   "metadata": {},
   "source": [
    "* Linear Regression Cannot be assumed using price and reviews to explain each one"
   ]
  },
  {
   "cell_type": "markdown",
   "id": "d038c5ea",
   "metadata": {},
   "source": [
    "#### R-Squared test"
   ]
  },
  {
   "cell_type": "code",
   "execution_count": 83,
   "id": "3a2f56af",
   "metadata": {},
   "outputs": [],
   "source": [
    "X = df.review_points\n",
    "y = df.price\n",
    "X2 = sm.add_constant(X)\n",
    "est = sm.OLS(y, X2)\n",
    "est2 = est.fit()"
   ]
  },
  {
   "cell_type": "code",
   "execution_count": 84,
   "id": "7aaf770e",
   "metadata": {},
   "outputs": [
    {
     "data": {
      "text/html": [
       "<table class=\"simpletable\">\n",
       "<caption>OLS Regression Results</caption>\n",
       "<tr>\n",
       "  <th>Dep. Variable:</th>          <td>price</td>      <th>  R-squared:         </th> <td>   0.023</td> \n",
       "</tr>\n",
       "<tr>\n",
       "  <th>Model:</th>                   <td>OLS</td>       <th>  Adj. R-squared:    </th> <td>   0.022</td> \n",
       "</tr>\n",
       "<tr>\n",
       "  <th>Method:</th>             <td>Least Squares</td>  <th>  F-statistic:       </th> <td>   51.83</td> \n",
       "</tr>\n",
       "<tr>\n",
       "  <th>Date:</th>             <td>Fri, 30 Dec 2022</td> <th>  Prob (F-statistic):</th> <td>8.22e-13</td> \n",
       "</tr>\n",
       "<tr>\n",
       "  <th>Time:</th>                 <td>12:44:47</td>     <th>  Log-Likelihood:    </th> <td> -21859.</td> \n",
       "</tr>\n",
       "<tr>\n",
       "  <th>No. Observations:</th>      <td>  2233</td>      <th>  AIC:               </th> <td>4.372e+04</td>\n",
       "</tr>\n",
       "<tr>\n",
       "  <th>Df Residuals:</th>          <td>  2231</td>      <th>  BIC:               </th> <td>4.373e+04</td>\n",
       "</tr>\n",
       "<tr>\n",
       "  <th>Df Model:</th>              <td>     1</td>      <th>                     </th>     <td> </td>    \n",
       "</tr>\n",
       "<tr>\n",
       "  <th>Covariance Type:</th>      <td>nonrobust</td>    <th>                     </th>     <td> </td>    \n",
       "</tr>\n",
       "</table>\n",
       "<table class=\"simpletable\">\n",
       "<tr>\n",
       "        <td></td>           <th>coef</th>     <th>std err</th>      <th>t</th>      <th>P>|t|</th>  <th>[0.025</th>    <th>0.975]</th>  \n",
       "</tr>\n",
       "<tr>\n",
       "  <th>const</th>         <td>-1.908e+04</td> <td> 2748.506</td> <td>   -6.944</td> <td> 0.000</td> <td>-2.45e+04</td> <td>-1.37e+04</td>\n",
       "</tr>\n",
       "<tr>\n",
       "  <th>review_points</th> <td>  223.5422</td> <td>   31.050</td> <td>    7.200</td> <td> 0.000</td> <td>  162.653</td> <td>  284.431</td>\n",
       "</tr>\n",
       "</table>\n",
       "<table class=\"simpletable\">\n",
       "<tr>\n",
       "  <th>Omnibus:</th>       <td>5325.440</td> <th>  Durbin-Watson:     </th>   <td>   1.810</td>  \n",
       "</tr>\n",
       "<tr>\n",
       "  <th>Prob(Omnibus):</th>  <td> 0.000</td>  <th>  Jarque-Bera (JB):  </th> <td>55372973.397</td>\n",
       "</tr>\n",
       "<tr>\n",
       "  <th>Skew:</th>           <td>23.471</td>  <th>  Prob(JB):          </th>   <td>    0.00</td>  \n",
       "</tr>\n",
       "<tr>\n",
       "  <th>Kurtosis:</th>       <td>773.025</td> <th>  Cond. No.          </th>   <td>2.66e+03</td>  \n",
       "</tr>\n",
       "</table><br/><br/>Notes:<br/>[1] Standard Errors assume that the covariance matrix of the errors is correctly specified.<br/>[2] The condition number is large, 2.66e+03. This might indicate that there are<br/>strong multicollinearity or other numerical problems."
      ],
      "text/plain": [
       "<class 'statsmodels.iolib.summary.Summary'>\n",
       "\"\"\"\n",
       "                            OLS Regression Results                            \n",
       "==============================================================================\n",
       "Dep. Variable:                  price   R-squared:                       0.023\n",
       "Model:                            OLS   Adj. R-squared:                  0.022\n",
       "Method:                 Least Squares   F-statistic:                     51.83\n",
       "Date:                Fri, 30 Dec 2022   Prob (F-statistic):           8.22e-13\n",
       "Time:                        12:44:47   Log-Likelihood:                -21859.\n",
       "No. Observations:                2233   AIC:                         4.372e+04\n",
       "Df Residuals:                    2231   BIC:                         4.373e+04\n",
       "Df Model:                           1                                         \n",
       "Covariance Type:            nonrobust                                         \n",
       "=================================================================================\n",
       "                    coef    std err          t      P>|t|      [0.025      0.975]\n",
       "---------------------------------------------------------------------------------\n",
       "const         -1.908e+04   2748.506     -6.944      0.000   -2.45e+04   -1.37e+04\n",
       "review_points   223.5422     31.050      7.200      0.000     162.653     284.431\n",
       "==============================================================================\n",
       "Omnibus:                     5325.440   Durbin-Watson:                   1.810\n",
       "Prob(Omnibus):                  0.000   Jarque-Bera (JB):         55372973.397\n",
       "Skew:                          23.471   Prob(JB):                         0.00\n",
       "Kurtosis:                     773.025   Cond. No.                     2.66e+03\n",
       "==============================================================================\n",
       "\n",
       "Notes:\n",
       "[1] Standard Errors assume that the covariance matrix of the errors is correctly specified.\n",
       "[2] The condition number is large, 2.66e+03. This might indicate that there are\n",
       "strong multicollinearity or other numerical problems.\n",
       "\"\"\""
      ]
     },
     "execution_count": 84,
     "metadata": {},
     "output_type": "execute_result"
    }
   ],
   "source": [
    "est2.summary()"
   ]
  },
  {
   "cell_type": "markdown",
   "id": "b8036f37",
   "metadata": {},
   "source": [
    "* O R-quared is have a insignificant statistics, `0.023`\n",
    "* `review_points` cannot be explained using `price`"
   ]
  },
  {
   "cell_type": "markdown",
   "id": "2d8c9a96",
   "metadata": {},
   "source": [
    "## Testing Correlation Between Alcool Percentage and Price"
   ]
  },
  {
   "cell_type": "code",
   "execution_count": 85,
   "id": "c84e3a08",
   "metadata": {},
   "outputs": [
    {
     "data": {
      "text/plain": [
       "SpearmanrResult(correlation=0.3041838300585456, pvalue=8.269828199299097e-49)"
      ]
     },
     "execution_count": 85,
     "metadata": {},
     "output_type": "execute_result"
    }
   ],
   "source": [
    "scipy.stats.spearmanr(\n",
    "    df_alcool.alcool_percentage, \n",
    "    df_alcool.price\n",
    "    )"
   ]
  },
  {
   "cell_type": "code",
   "execution_count": 86,
   "id": "19020a18",
   "metadata": {},
   "outputs": [
    {
     "data": {
      "text/plain": [
       "PearsonRResult(statistic=-0.022441657781701103, pvalue=0.2902227573607019)"
      ]
     },
     "execution_count": 86,
     "metadata": {},
     "output_type": "execute_result"
    }
   ],
   "source": [
    "scipy.stats.pearsonr(\n",
    "    df_alcool.alcool_percentage, \n",
    "    df_alcool.price\n",
    "    )"
   ]
  },
  {
   "cell_type": "code",
   "execution_count": 87,
   "id": "fe731ce0",
   "metadata": {},
   "outputs": [
    {
     "data": {
      "text/plain": [
       "KendalltauResult(correlation=0.21391340873182596, pvalue=5.397352118564828e-48)"
      ]
     },
     "execution_count": 87,
     "metadata": {},
     "output_type": "execute_result"
    }
   ],
   "source": [
    "scipy.stats.kendalltau(\n",
    "    df_alcool.alcool_percentage, \n",
    "    df_alcool.price\n",
    "    )"
   ]
  },
  {
   "cell_type": "markdown",
   "id": "fad48c4a",
   "metadata": {},
   "source": []
  },
  {
   "cell_type": "markdown",
   "id": "3f716699",
   "metadata": {},
   "source": [
    "* Any Correlation Algorithms has a valid statistics results, same to price x reviews. \n",
    "* Kendall, Spearman and Person have a weak correlation between price and alcool percentage. \n",
    "* Most expensive whiskys is not correlated with alcool percentage"
   ]
  },
  {
   "cell_type": "markdown",
   "id": "6044e98c",
   "metadata": {},
   "source": [
    "### Linear Correlation Between Price and Alcool"
   ]
  },
  {
   "cell_type": "code",
   "execution_count": 88,
   "id": "b54f4eb9",
   "metadata": {},
   "outputs": [
    {
     "data": {
      "image/png": "[encoded data removed]",
      "text/plain": [
       "<Figure size 1600x800 with 1 Axes>"
      ]
     },
     "metadata": {},
     "output_type": "display_data"
    }
   ],
   "source": [
    "plt.figure(figsize = (16,8))\n",
    "plt.scatter(\n",
    "    df_alcool.price, \n",
    "    df_alcool.alcool_percentage, \n",
    "    c='blue')\n",
    "plt.xlabel(\" Whiskys Price \")\n",
    "plt.ylabel(\" Alcool Percentage \")\n",
    "plt.show()\n"
   ]
  },
  {
   "cell_type": "markdown",
   "id": "4511b021",
   "metadata": {},
   "source": [
    "* Linear Regression Cannot be assumed using price and alcool percentage to explain each one"
   ]
  },
  {
   "cell_type": "markdown",
   "id": "09cb3378",
   "metadata": {},
   "source": [
    "#### r-quared test"
   ]
  },
  {
   "cell_type": "code",
   "execution_count": 89,
   "id": "80640d96",
   "metadata": {},
   "outputs": [],
   "source": [
    "X = df_alcool.alcool_percentage\n",
    "y = df_alcool.price\n",
    "X2 = sm.add_constant(X)\n",
    "est = sm.OLS(y, X2)\n",
    "est2 = est.fit()"
   ]
  },
  {
   "cell_type": "code",
   "execution_count": 90,
   "id": "b3372179",
   "metadata": {},
   "outputs": [
    {
     "data": {
      "text/html": [
       "<table class=\"simpletable\">\n",
       "<caption>OLS Regression Results</caption>\n",
       "<tr>\n",
       "  <th>Dep. Variable:</th>          <td>price</td>      <th>  R-squared:         </th> <td>   0.001</td> \n",
       "</tr>\n",
       "<tr>\n",
       "  <th>Model:</th>                   <td>OLS</td>       <th>  Adj. R-squared:    </th> <td>   0.000</td> \n",
       "</tr>\n",
       "<tr>\n",
       "  <th>Method:</th>             <td>Least Squares</td>  <th>  F-statistic:       </th> <td>   1.119</td> \n",
       "</tr>\n",
       "<tr>\n",
       "  <th>Date:</th>             <td>Fri, 30 Dec 2022</td> <th>  Prob (F-statistic):</th>  <td> 0.290</td>  \n",
       "</tr>\n",
       "<tr>\n",
       "  <th>Time:</th>                 <td>12:44:48</td>     <th>  Log-Likelihood:    </th> <td> -21791.</td> \n",
       "</tr>\n",
       "<tr>\n",
       "  <th>No. Observations:</th>      <td>  2223</td>      <th>  AIC:               </th> <td>4.359e+04</td>\n",
       "</tr>\n",
       "<tr>\n",
       "  <th>Df Residuals:</th>          <td>  2221</td>      <th>  BIC:               </th> <td>4.360e+04</td>\n",
       "</tr>\n",
       "<tr>\n",
       "  <th>Df Model:</th>              <td>     1</td>      <th>                     </th>     <td> </td>    \n",
       "</tr>\n",
       "<tr>\n",
       "  <th>Covariance Type:</th>      <td>nonrobust</td>    <th>                     </th>     <td> </td>    \n",
       "</tr>\n",
       "</table>\n",
       "<table class=\"simpletable\">\n",
       "<tr>\n",
       "          <td></td>             <th>coef</th>     <th>std err</th>      <th>t</th>      <th>P>|t|</th>  <th>[0.025</th>    <th>0.975]</th>  \n",
       "</tr>\n",
       "<tr>\n",
       "  <th>const</th>             <td> 1506.0641</td> <td>  772.254</td> <td>    1.950</td> <td> 0.051</td> <td>   -8.352</td> <td> 3020.480</td>\n",
       "</tr>\n",
       "<tr>\n",
       "  <th>alcool_percentage</th> <td>-1697.4715</td> <td> 1604.589</td> <td>   -1.058</td> <td> 0.290</td> <td>-4844.124</td> <td> 1449.181</td>\n",
       "</tr>\n",
       "</table>\n",
       "<table class=\"simpletable\">\n",
       "<tr>\n",
       "  <th>Omnibus:</th>       <td>5277.747</td> <th>  Durbin-Watson:     </th>   <td>   1.767</td>  \n",
       "</tr>\n",
       "<tr>\n",
       "  <th>Prob(Omnibus):</th>  <td> 0.000</td>  <th>  Jarque-Bera (JB):  </th> <td>52566049.904</td>\n",
       "</tr>\n",
       "<tr>\n",
       "  <th>Skew:</th>           <td>23.221</td>  <th>  Prob(JB):          </th>   <td>    0.00</td>  \n",
       "</tr>\n",
       "<tr>\n",
       "  <th>Kurtosis:</th>       <td>754.903</td> <th>  Cond. No.          </th>   <td>    21.2</td>  \n",
       "</tr>\n",
       "</table><br/><br/>Notes:<br/>[1] Standard Errors assume that the covariance matrix of the errors is correctly specified."
      ],
      "text/plain": [
       "<class 'statsmodels.iolib.summary.Summary'>\n",
       "\"\"\"\n",
       "                            OLS Regression Results                            \n",
       "==============================================================================\n",
       "Dep. Variable:                  price   R-squared:                       0.001\n",
       "Model:                            OLS   Adj. R-squared:                  0.000\n",
       "Method:                 Least Squares   F-statistic:                     1.119\n",
       "Date:                Fri, 30 Dec 2022   Prob (F-statistic):              0.290\n",
       "Time:                        12:44:48   Log-Likelihood:                -21791.\n",
       "No. Observations:                2223   AIC:                         4.359e+04\n",
       "Df Residuals:                    2221   BIC:                         4.360e+04\n",
       "Df Model:                           1                                         \n",
       "Covariance Type:            nonrobust                                         \n",
       "=====================================================================================\n",
       "                        coef    std err          t      P>|t|      [0.025      0.975]\n",
       "-------------------------------------------------------------------------------------\n",
       "const              1506.0641    772.254      1.950      0.051      -8.352    3020.480\n",
       "alcool_percentage -1697.4715   1604.589     -1.058      0.290   -4844.124    1449.181\n",
       "==============================================================================\n",
       "Omnibus:                     5277.747   Durbin-Watson:                   1.767\n",
       "Prob(Omnibus):                  0.000   Jarque-Bera (JB):         52566049.904\n",
       "Skew:                          23.221   Prob(JB):                         0.00\n",
       "Kurtosis:                     754.903   Cond. No.                         21.2\n",
       "==============================================================================\n",
       "\n",
       "Notes:\n",
       "[1] Standard Errors assume that the covariance matrix of the errors is correctly specified.\n",
       "\"\"\""
      ]
     },
     "execution_count": 90,
     "metadata": {},
     "output_type": "execute_result"
    }
   ],
   "source": [
    "est2.summary()"
   ]
  },
  {
   "cell_type": "markdown",
   "id": "2490d2d9",
   "metadata": {},
   "source": [
    "* O R-quared is have a insignificant statistics, `0.001`\n",
    "* alcool_percentage cannot be explained using price"
   ]
  },
  {
   "cell_type": "markdown",
   "id": "cd212734",
   "metadata": {},
   "source": [
    "## Testing Correlation Between Alcool Percentage and Review Points"
   ]
  },
  {
   "cell_type": "code",
   "execution_count": 91,
   "id": "79fc6841",
   "metadata": {},
   "outputs": [
    {
     "data": {
      "text/plain": [
       "SpearmanrResult(correlation=0.09550009745544408, pvalue=6.467955058325945e-06)"
      ]
     },
     "execution_count": 91,
     "metadata": {},
     "output_type": "execute_result"
    }
   ],
   "source": [
    "scipy.stats.spearmanr(\n",
    "    df_alcool.alcool_percentage, \n",
    "    df_alcool.review_points\n",
    "    )"
   ]
  },
  {
   "cell_type": "code",
   "execution_count": 92,
   "id": "7c6da2b4",
   "metadata": {},
   "outputs": [
    {
     "data": {
      "text/plain": [
       "PearsonRResult(statistic=0.0804057262724596, pvalue=0.00014762029148693927)"
      ]
     },
     "execution_count": 92,
     "metadata": {},
     "output_type": "execute_result"
    }
   ],
   "source": [
    "scipy.stats.pearsonr(\n",
    "    df_alcool.alcool_percentage, \n",
    "    df_alcool.review_points\n",
    "    )"
   ]
  },
  {
   "cell_type": "code",
   "execution_count": 93,
   "id": "dc6c422f",
   "metadata": {},
   "outputs": [
    {
     "data": {
      "text/plain": [
       "KendalltauResult(correlation=0.06831865542532181, pvalue=7.766449929735153e-06)"
      ]
     },
     "execution_count": 93,
     "metadata": {},
     "output_type": "execute_result"
    }
   ],
   "source": [
    "scipy.stats.kendalltau(\n",
    "    df_alcool.alcool_percentage, \n",
    "    df_alcool.review_points\n",
    "    )"
   ]
  },
  {
   "cell_type": "markdown",
   "id": "599a8bbe",
   "metadata": {},
   "source": [
    "* Any Correlation Algorithms has a valid statistics results.\n",
    "* Kendall, Spearman and Person have a weak correlation between alcool and review points.\n",
    "* Best reviews is not associated directly with whisky alcool percentage"
   ]
  },
  {
   "cell_type": "markdown",
   "id": "1449544e",
   "metadata": {},
   "source": [
    "### Linear Correlation Between Alcool and Reviews"
   ]
  },
  {
   "cell_type": "code",
   "execution_count": 94,
   "id": "45c39bad",
   "metadata": {},
   "outputs": [
    {
     "data": {
      "image/png": "[encoded data removed]",
      "text/plain": [
       "<Figure size 1600x800 with 1 Axes>"
      ]
     },
     "metadata": {},
     "output_type": "display_data"
    }
   ],
   "source": [
    "plt.figure(figsize = (16,8))\n",
    "plt.scatter(\n",
    "    df_alcool.review_points, \n",
    "    df_alcool.alcool_percentage, \n",
    "    c='blue')\n",
    "plt.xlabel(\" Review Points \")\n",
    "plt.ylabel(\" Alcool Percentage \")\n",
    "plt.show()\n"
   ]
  },
  {
   "cell_type": "markdown",
   "id": "6a443d9f",
   "metadata": {},
   "source": [
    "* Linear Regression Cannot be assumed using reviews and alcool percentage to explain each one"
   ]
  },
  {
   "cell_type": "markdown",
   "id": "e6b6f703",
   "metadata": {},
   "source": [
    "#### R-Squared Test"
   ]
  },
  {
   "cell_type": "code",
   "execution_count": 95,
   "id": "8758c67b",
   "metadata": {},
   "outputs": [],
   "source": [
    "X = df_alcool.alcool_percentage\n",
    "y = df_alcool.review_points\n",
    "X2 = sm.add_constant(X)\n",
    "est = sm.OLS(y, X2)\n",
    "est2 = est.fit()"
   ]
  },
  {
   "cell_type": "code",
   "execution_count": 96,
   "id": "c532a9cf",
   "metadata": {},
   "outputs": [
    {
     "data": {
      "text/html": [
       "<table class=\"simpletable\">\n",
       "<caption>OLS Regression Results</caption>\n",
       "<tr>\n",
       "  <th>Dep. Variable:</th>      <td>review_points</td>  <th>  R-squared:         </th> <td>   0.006</td> \n",
       "</tr>\n",
       "<tr>\n",
       "  <th>Model:</th>                   <td>OLS</td>       <th>  Adj. R-squared:    </th> <td>   0.006</td> \n",
       "</tr>\n",
       "<tr>\n",
       "  <th>Method:</th>             <td>Least Squares</td>  <th>  F-statistic:       </th> <td>   14.45</td> \n",
       "</tr>\n",
       "<tr>\n",
       "  <th>Date:</th>             <td>Fri, 30 Dec 2022</td> <th>  Prob (F-statistic):</th> <td>0.000148</td> \n",
       "</tr>\n",
       "<tr>\n",
       "  <th>Time:</th>                 <td>12:44:49</td>     <th>  Log-Likelihood:    </th> <td> -5548.1</td> \n",
       "</tr>\n",
       "<tr>\n",
       "  <th>No. Observations:</th>      <td>  2223</td>      <th>  AIC:               </th> <td>1.110e+04</td>\n",
       "</tr>\n",
       "<tr>\n",
       "  <th>Df Residuals:</th>          <td>  2221</td>      <th>  BIC:               </th> <td>1.111e+04</td>\n",
       "</tr>\n",
       "<tr>\n",
       "  <th>Df Model:</th>              <td>     1</td>      <th>                     </th>     <td> </td>    \n",
       "</tr>\n",
       "<tr>\n",
       "  <th>Covariance Type:</th>      <td>nonrobust</td>    <th>                     </th>     <td> </td>    \n",
       "</tr>\n",
       "</table>\n",
       "<table class=\"simpletable\">\n",
       "<tr>\n",
       "          <td></td>             <th>coef</th>     <th>std err</th>      <th>t</th>      <th>P>|t|</th>  <th>[0.025</th>    <th>0.975]</th>  \n",
       "</tr>\n",
       "<tr>\n",
       "  <th>const</th>             <td>   86.5193</td> <td>    0.518</td> <td>  166.999</td> <td> 0.000</td> <td>   85.503</td> <td>   87.535</td>\n",
       "</tr>\n",
       "<tr>\n",
       "  <th>alcool_percentage</th> <td>    4.0923</td> <td>    1.076</td> <td>    3.802</td> <td> 0.000</td> <td>    1.981</td> <td>    6.203</td>\n",
       "</tr>\n",
       "</table>\n",
       "<table class=\"simpletable\">\n",
       "<tr>\n",
       "  <th>Omnibus:</th>       <td>114.295</td> <th>  Durbin-Watson:     </th> <td>   0.012</td>\n",
       "</tr>\n",
       "<tr>\n",
       "  <th>Prob(Omnibus):</th> <td> 0.000</td>  <th>  Jarque-Bera (JB):  </th> <td>  59.637</td>\n",
       "</tr>\n",
       "<tr>\n",
       "  <th>Skew:</th>          <td> 0.228</td>  <th>  Prob(JB):          </th> <td>1.12e-13</td>\n",
       "</tr>\n",
       "<tr>\n",
       "  <th>Kurtosis:</th>      <td> 2.339</td>  <th>  Cond. No.          </th> <td>    21.2</td>\n",
       "</tr>\n",
       "</table><br/><br/>Notes:<br/>[1] Standard Errors assume that the covariance matrix of the errors is correctly specified."
      ],
      "text/plain": [
       "<class 'statsmodels.iolib.summary.Summary'>\n",
       "\"\"\"\n",
       "                            OLS Regression Results                            \n",
       "==============================================================================\n",
       "Dep. Variable:          review_points   R-squared:                       0.006\n",
       "Model:                            OLS   Adj. R-squared:                  0.006\n",
       "Method:                 Least Squares   F-statistic:                     14.45\n",
       "Date:                Fri, 30 Dec 2022   Prob (F-statistic):           0.000148\n",
       "Time:                        12:44:49   Log-Likelihood:                -5548.1\n",
       "No. Observations:                2223   AIC:                         1.110e+04\n",
       "Df Residuals:                    2221   BIC:                         1.111e+04\n",
       "Df Model:                           1                                         \n",
       "Covariance Type:            nonrobust                                         \n",
       "=====================================================================================\n",
       "                        coef    std err          t      P>|t|      [0.025      0.975]\n",
       "-------------------------------------------------------------------------------------\n",
       "const                86.5193      0.518    166.999      0.000      85.503      87.535\n",
       "alcool_percentage     4.0923      1.076      3.802      0.000       1.981       6.203\n",
       "==============================================================================\n",
       "Omnibus:                      114.295   Durbin-Watson:                   0.012\n",
       "Prob(Omnibus):                  0.000   Jarque-Bera (JB):               59.637\n",
       "Skew:                           0.228   Prob(JB):                     1.12e-13\n",
       "Kurtosis:                       2.339   Cond. No.                         21.2\n",
       "==============================================================================\n",
       "\n",
       "Notes:\n",
       "[1] Standard Errors assume that the covariance matrix of the errors is correctly specified.\n",
       "\"\"\""
      ]
     },
     "execution_count": 96,
     "metadata": {},
     "output_type": "execute_result"
    }
   ],
   "source": [
    "est2.summary()"
   ]
  },
  {
   "cell_type": "markdown",
   "id": "1f56a7db",
   "metadata": {},
   "source": [
    "* O R-quared is have a insignificant statistics, `0.006`\n",
    "* alcool_percentage cannot be explained using review_points"
   ]
  },
  {
   "cell_type": "markdown",
   "id": "77c7cb80",
   "metadata": {},
   "source": [
    "## Testing Correlation Between Age and Review Points"
   ]
  },
  {
   "cell_type": "code",
   "execution_count": 120,
   "id": "b5f7f7b6",
   "metadata": {},
   "outputs": [
    {
     "data": {
      "text/plain": [
       "SpearmanrResult(correlation=0.3299678013272821, pvalue=4.071539730943889e-31)"
      ]
     },
     "execution_count": 120,
     "metadata": {},
     "output_type": "execute_result"
    }
   ],
   "source": [
    "scipy.stats.spearmanr(\n",
    "    df_age.age, \n",
    "    df_age.review_points\n",
    "    )"
   ]
  },
  {
   "cell_type": "code",
   "execution_count": 121,
   "id": "d71852d3",
   "metadata": {},
   "outputs": [
    {
     "data": {
      "text/plain": [
       "PearsonRResult(statistic=0.34763935473822083, pvalue=1.4329049076598176e-34)"
      ]
     },
     "execution_count": 121,
     "metadata": {},
     "output_type": "execute_result"
    }
   ],
   "source": [
    "scipy.stats.pearsonr(\n",
    "    df_age.age, \n",
    "    df_age.review_points\n",
    "    )"
   ]
  },
  {
   "cell_type": "code",
   "execution_count": 122,
   "id": "f0ff8fa8",
   "metadata": {},
   "outputs": [
    {
     "data": {
      "text/plain": [
       "KendalltauResult(correlation=0.24063810266652114, pvalue=1.1023891768254842e-30)"
      ]
     },
     "execution_count": 122,
     "metadata": {},
     "output_type": "execute_result"
    }
   ],
   "source": [
    "scipy.stats.kendalltau(\n",
    "    df_age.age, \n",
    "    df_age.review_points\n",
    "    )"
   ]
  },
  {
   "cell_type": "markdown",
   "id": "caaed39f",
   "metadata": {},
   "source": [
    "* Any Correlation Algorithms has a valid statistics results.\n",
    "* Kendall, Spearman and Person have a weak correlation between age and review points.\n",
    "* Best reviews is not associated directly with whisky age"
   ]
  },
  {
   "cell_type": "markdown",
   "id": "7800478a",
   "metadata": {},
   "source": [
    "### Linear Correlation Between Age and Review Points"
   ]
  },
  {
   "cell_type": "code",
   "execution_count": 125,
   "id": "8e70f088",
   "metadata": {},
   "outputs": [
    {
     "data": {
      "image/png": "[encoded data removed]",
      "text/plain": [
       "<Figure size 1600x800 with 1 Axes>"
      ]
     },
     "metadata": {},
     "output_type": "display_data"
    }
   ],
   "source": [
    "plt.figure(figsize = (16,8))\n",
    "plt.scatter(\n",
    "    df_age.review_points, \n",
    "    df_age.age, \n",
    "    c='blue')\n",
    "plt.xlabel(\" Review Points \")\n",
    "plt.ylabel(\" Age \")\n",
    "plt.show()\n"
   ]
  },
  {
   "cell_type": "markdown",
   "id": "e3e18ef4",
   "metadata": {},
   "source": [
    "#### R-Squared Test"
   ]
  },
  {
   "cell_type": "code",
   "execution_count": 130,
   "id": "ffe31265",
   "metadata": {},
   "outputs": [],
   "source": [
    "X = df_age.age\n",
    "y = df_age.review_points\n",
    "X2 = sm.add_constant(X)\n",
    "est = sm.OLS(y, X2)\n",
    "est2 = est.fit()"
   ]
  },
  {
   "cell_type": "code",
   "execution_count": 131,
   "id": "287da927",
   "metadata": {},
   "outputs": [
    {
     "data": {
      "text/html": [
       "<table class=\"simpletable\">\n",
       "<caption>OLS Regression Results</caption>\n",
       "<tr>\n",
       "  <th>Dep. Variable:</th>      <td>review_points</td>  <th>  R-squared:         </th> <td>   0.121</td>\n",
       "</tr>\n",
       "<tr>\n",
       "  <th>Model:</th>                   <td>OLS</td>       <th>  Adj. R-squared:    </th> <td>   0.120</td>\n",
       "</tr>\n",
       "<tr>\n",
       "  <th>Method:</th>             <td>Least Squares</td>  <th>  F-statistic:       </th> <td>   160.6</td>\n",
       "</tr>\n",
       "<tr>\n",
       "  <th>Date:</th>             <td>Fri, 30 Dec 2022</td> <th>  Prob (F-statistic):</th> <td>1.43e-34</td>\n",
       "</tr>\n",
       "<tr>\n",
       "  <th>Time:</th>                 <td>13:05:18</td>     <th>  Log-Likelihood:    </th> <td> -2848.0</td>\n",
       "</tr>\n",
       "<tr>\n",
       "  <th>No. Observations:</th>      <td>  1170</td>      <th>  AIC:               </th> <td>   5700.</td>\n",
       "</tr>\n",
       "<tr>\n",
       "  <th>Df Residuals:</th>          <td>  1168</td>      <th>  BIC:               </th> <td>   5710.</td>\n",
       "</tr>\n",
       "<tr>\n",
       "  <th>Df Model:</th>              <td>     1</td>      <th>                     </th>     <td> </td>   \n",
       "</tr>\n",
       "<tr>\n",
       "  <th>Covariance Type:</th>      <td>nonrobust</td>    <th>                     </th>     <td> </td>   \n",
       "</tr>\n",
       "</table>\n",
       "<table class=\"simpletable\">\n",
       "<tr>\n",
       "    <td></td>       <th>coef</th>     <th>std err</th>      <th>t</th>      <th>P>|t|</th>  <th>[0.025</th>    <th>0.975]</th>  \n",
       "</tr>\n",
       "<tr>\n",
       "  <th>const</th> <td>   86.3886</td> <td>    0.190</td> <td>  455.173</td> <td> 0.000</td> <td>   86.016</td> <td>   86.761</td>\n",
       "</tr>\n",
       "<tr>\n",
       "  <th>age</th>   <td>    0.1064</td> <td>    0.008</td> <td>   12.671</td> <td> 0.000</td> <td>    0.090</td> <td>    0.123</td>\n",
       "</tr>\n",
       "</table>\n",
       "<table class=\"simpletable\">\n",
       "<tr>\n",
       "  <th>Omnibus:</th>       <td>31.839</td> <th>  Durbin-Watson:     </th> <td>   0.214</td>\n",
       "</tr>\n",
       "<tr>\n",
       "  <th>Prob(Omnibus):</th> <td> 0.000</td> <th>  Jarque-Bera (JB):  </th> <td>  16.403</td>\n",
       "</tr>\n",
       "<tr>\n",
       "  <th>Skew:</th>          <td> 0.055</td> <th>  Prob(JB):          </th> <td>0.000274</td>\n",
       "</tr>\n",
       "<tr>\n",
       "  <th>Kurtosis:</th>      <td> 2.430</td> <th>  Cond. No.          </th> <td>    53.2</td>\n",
       "</tr>\n",
       "</table><br/><br/>Notes:<br/>[1] Standard Errors assume that the covariance matrix of the errors is correctly specified."
      ],
      "text/plain": [
       "<class 'statsmodels.iolib.summary.Summary'>\n",
       "\"\"\"\n",
       "                            OLS Regression Results                            \n",
       "==============================================================================\n",
       "Dep. Variable:          review_points   R-squared:                       0.121\n",
       "Model:                            OLS   Adj. R-squared:                  0.120\n",
       "Method:                 Least Squares   F-statistic:                     160.6\n",
       "Date:                Fri, 30 Dec 2022   Prob (F-statistic):           1.43e-34\n",
       "Time:                        13:05:18   Log-Likelihood:                -2848.0\n",
       "No. Observations:                1170   AIC:                             5700.\n",
       "Df Residuals:                    1168   BIC:                             5710.\n",
       "Df Model:                           1                                         \n",
       "Covariance Type:            nonrobust                                         \n",
       "==============================================================================\n",
       "                 coef    std err          t      P>|t|      [0.025      0.975]\n",
       "------------------------------------------------------------------------------\n",
       "const         86.3886      0.190    455.173      0.000      86.016      86.761\n",
       "age            0.1064      0.008     12.671      0.000       0.090       0.123\n",
       "==============================================================================\n",
       "Omnibus:                       31.839   Durbin-Watson:                   0.214\n",
       "Prob(Omnibus):                  0.000   Jarque-Bera (JB):               16.403\n",
       "Skew:                           0.055   Prob(JB):                     0.000274\n",
       "Kurtosis:                       2.430   Cond. No.                         53.2\n",
       "==============================================================================\n",
       "\n",
       "Notes:\n",
       "[1] Standard Errors assume that the covariance matrix of the errors is correctly specified.\n",
       "\"\"\""
      ]
     },
     "execution_count": 131,
     "metadata": {},
     "output_type": "execute_result"
    }
   ],
   "source": [
    "est2.summary()"
   ]
  },
  {
   "cell_type": "markdown",
   "id": "c099e1e7",
   "metadata": {},
   "source": [
    "* O R-quared is have a insignificant statistics, `0.121`\n",
    "* `review_points` cannot be explained using `age`"
   ]
  },
  {
   "cell_type": "markdown",
   "id": "2f2d95a8",
   "metadata": {},
   "source": [
    "## Testing Correlation Between Age and Price"
   ]
  },
  {
   "cell_type": "code",
   "execution_count": 132,
   "id": "06ed9574",
   "metadata": {},
   "outputs": [
    {
     "data": {
      "text/plain": [
       "SpearmanrResult(correlation=0.8237896203994781, pvalue=3.497599095557756e-290)"
      ]
     },
     "execution_count": 132,
     "metadata": {},
     "output_type": "execute_result"
    }
   ],
   "source": [
    "scipy.stats.spearmanr(\n",
    "    df_age.age, \n",
    "    df_age.price\n",
    "    )"
   ]
  },
  {
   "cell_type": "code",
   "execution_count": 135,
   "id": "4a94be7b",
   "metadata": {},
   "outputs": [
    {
     "data": {
      "text/plain": [
       "PearsonRResult(statistic=0.40809896010440966, pvalue=3.554462782329802e-48)"
      ]
     },
     "execution_count": 135,
     "metadata": {},
     "output_type": "execute_result"
    }
   ],
   "source": [
    "scipy.stats.pearsonr(\n",
    "    df_age.age, \n",
    "    df_age.price\n",
    "    )"
   ]
  },
  {
   "cell_type": "code",
   "execution_count": 136,
   "id": "96ead415",
   "metadata": {},
   "outputs": [
    {
     "data": {
      "text/plain": [
       "KendalltauResult(correlation=0.6421214555966013, pvalue=8.627389239666536e-224)"
      ]
     },
     "execution_count": 136,
     "metadata": {},
     "output_type": "execute_result"
    }
   ],
   "source": [
    "scipy.stats.kendalltau(\n",
    "    df_age.age, \n",
    "    df_age.price\n",
    "    )"
   ]
  },
  {
   "cell_type": "markdown",
   "id": "5ad6af07",
   "metadata": {},
   "source": [
    "* In this test we found some most valid statistics between `price` and `age`\n",
    "* Kendall, Spearman, and Person have significant correlation. Special `Spearman` with 82% of correlation.\n",
    "* Most aged whisky have a significant correlation with price"
   ]
  },
  {
   "cell_type": "markdown",
   "id": "9bd9f5a6",
   "metadata": {},
   "source": [
    "### Linear Correlation Between Price and Age"
   ]
  },
  {
   "cell_type": "code",
   "execution_count": 138,
   "id": "9428ed2d",
   "metadata": {},
   "outputs": [
    {
     "data": {
      "image/png": "[encoded data removed]",
      "text/plain": [
       "<Figure size 1600x800 with 1 Axes>"
      ]
     },
     "metadata": {},
     "output_type": "display_data"
    }
   ],
   "source": [
    "plt.figure(figsize = (16,8))\n",
    "plt.scatter(\n",
    "    df_age.age, \n",
    "    df_age.price, \n",
    "    c='blue')\n",
    "plt.xlabel(\" Whisky Price \")\n",
    "plt.ylabel(\" Age \")\n",
    "plt.show()\n"
   ]
  },
  {
   "cell_type": "code",
   "execution_count": 139,
   "id": "8cad35de",
   "metadata": {},
   "outputs": [],
   "source": [
    "X = df_age.age\n",
    "y = df_age.price\n",
    "X2 = sm.add_constant(X)\n",
    "est = sm.OLS(y, X2)\n",
    "est2 = est.fit()"
   ]
  },
  {
   "cell_type": "code",
   "execution_count": 140,
   "id": "552f6cdb",
   "metadata": {},
   "outputs": [
    {
     "data": {
      "text/html": [
       "<table class=\"simpletable\">\n",
       "<caption>OLS Regression Results</caption>\n",
       "<tr>\n",
       "  <th>Dep. Variable:</th>          <td>price</td>      <th>  R-squared:         </th> <td>   0.167</td> \n",
       "</tr>\n",
       "<tr>\n",
       "  <th>Model:</th>                   <td>OLS</td>       <th>  Adj. R-squared:    </th> <td>   0.166</td> \n",
       "</tr>\n",
       "<tr>\n",
       "  <th>Method:</th>             <td>Least Squares</td>  <th>  F-statistic:       </th> <td>   233.4</td> \n",
       "</tr>\n",
       "<tr>\n",
       "  <th>Date:</th>             <td>Fri, 30 Dec 2022</td> <th>  Prob (F-statistic):</th> <td>3.55e-48</td> \n",
       "</tr>\n",
       "<tr>\n",
       "  <th>Time:</th>                 <td>13:13:56</td>     <th>  Log-Likelihood:    </th> <td> -11102.</td> \n",
       "</tr>\n",
       "<tr>\n",
       "  <th>No. Observations:</th>      <td>  1170</td>      <th>  AIC:               </th> <td>2.221e+04</td>\n",
       "</tr>\n",
       "<tr>\n",
       "  <th>Df Residuals:</th>          <td>  1168</td>      <th>  BIC:               </th> <td>2.222e+04</td>\n",
       "</tr>\n",
       "<tr>\n",
       "  <th>Df Model:</th>              <td>     1</td>      <th>                     </th>     <td> </td>    \n",
       "</tr>\n",
       "<tr>\n",
       "  <th>Covariance Type:</th>      <td>nonrobust</td>    <th>                     </th>     <td> </td>    \n",
       "</tr>\n",
       "</table>\n",
       "<table class=\"simpletable\">\n",
       "<tr>\n",
       "    <td></td>       <th>coef</th>     <th>std err</th>      <th>t</th>      <th>P>|t|</th>  <th>[0.025</th>    <th>0.975]</th>  \n",
       "</tr>\n",
       "<tr>\n",
       "  <th>const</th> <td>-2245.9932</td> <td>  219.916</td> <td>  -10.213</td> <td> 0.000</td> <td>-2677.468</td> <td>-1814.518</td>\n",
       "</tr>\n",
       "<tr>\n",
       "  <th>age</th>   <td>  148.6904</td> <td>    9.733</td> <td>   15.277</td> <td> 0.000</td> <td>  129.595</td> <td>  167.786</td>\n",
       "</tr>\n",
       "</table>\n",
       "<table class=\"simpletable\">\n",
       "<tr>\n",
       "  <th>Omnibus:</th>       <td>1701.047</td> <th>  Durbin-Watson:     </th>  <td>   1.608</td> \n",
       "</tr>\n",
       "<tr>\n",
       "  <th>Prob(Omnibus):</th>  <td> 0.000</td>  <th>  Jarque-Bera (JB):  </th> <td>497315.388</td>\n",
       "</tr>\n",
       "<tr>\n",
       "  <th>Skew:</th>           <td> 8.344</td>  <th>  Prob(JB):          </th>  <td>    0.00</td> \n",
       "</tr>\n",
       "<tr>\n",
       "  <th>Kurtosis:</th>       <td>102.613</td> <th>  Cond. No.          </th>  <td>    53.2</td> \n",
       "</tr>\n",
       "</table><br/><br/>Notes:<br/>[1] Standard Errors assume that the covariance matrix of the errors is correctly specified."
      ],
      "text/plain": [
       "<class 'statsmodels.iolib.summary.Summary'>\n",
       "\"\"\"\n",
       "                            OLS Regression Results                            \n",
       "==============================================================================\n",
       "Dep. Variable:                  price   R-squared:                       0.167\n",
       "Model:                            OLS   Adj. R-squared:                  0.166\n",
       "Method:                 Least Squares   F-statistic:                     233.4\n",
       "Date:                Fri, 30 Dec 2022   Prob (F-statistic):           3.55e-48\n",
       "Time:                        13:13:56   Log-Likelihood:                -11102.\n",
       "No. Observations:                1170   AIC:                         2.221e+04\n",
       "Df Residuals:                    1168   BIC:                         2.222e+04\n",
       "Df Model:                           1                                         \n",
       "Covariance Type:            nonrobust                                         \n",
       "==============================================================================\n",
       "                 coef    std err          t      P>|t|      [0.025      0.975]\n",
       "------------------------------------------------------------------------------\n",
       "const      -2245.9932    219.916    -10.213      0.000   -2677.468   -1814.518\n",
       "age          148.6904      9.733     15.277      0.000     129.595     167.786\n",
       "==============================================================================\n",
       "Omnibus:                     1701.047   Durbin-Watson:                   1.608\n",
       "Prob(Omnibus):                  0.000   Jarque-Bera (JB):           497315.388\n",
       "Skew:                           8.344   Prob(JB):                         0.00\n",
       "Kurtosis:                     102.613   Cond. No.                         53.2\n",
       "==============================================================================\n",
       "\n",
       "Notes:\n",
       "[1] Standard Errors assume that the covariance matrix of the errors is correctly specified.\n",
       "\"\"\""
      ]
     },
     "execution_count": 140,
     "metadata": {},
     "output_type": "execute_result"
    }
   ],
   "source": [
    "est2.summary()"
   ]
  },
  {
   "cell_type": "markdown",
   "id": "c590aeeb",
   "metadata": {},
   "source": [
    "* O R-quared is have a insignificant statistics, `0.167`\n",
    "* `review_points` cannot be explained using `age`"
   ]
  },
  {
   "cell_type": "code",
   "execution_count": null,
   "id": "fb2c0b79",
   "metadata": {},
   "outputs": [],
   "source": []
  },
  {
   "cell_type": "code",
   "execution_count": null,
   "id": "77a6fe66",
   "metadata": {},
   "outputs": [],
   "source": []
  }
 ],
 "metadata": {
  "kernelspec": {
   "display_name": "Python 3 (ipykernel)",
   "language": "python",
   "name": "python3"
  },
  "language_info": {
   "codemirror_mode": {
    "name": "ipython",
    "version": 3
   },
   "file_extension": ".py",
   "mimetype": "text/x-python",
   "name": "python",
   "nbconvert_exporter": "python",
   "pygments_lexer": "ipython3",
   "version": "3.11.1"
  }
 },
 "nbformat": 4,
 "nbformat_minor": 5
}
