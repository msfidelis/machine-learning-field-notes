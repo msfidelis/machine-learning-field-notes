{
 "cells": [
  {
   "cell_type": "code",
   "execution_count": 5,
   "id": "0a7e9690",
   "metadata": {
    "ExecuteTime": {
     "end_time": "2023-05-03T01:42:54.360766Z",
     "start_time": "2023-05-03T01:42:54.354699Z"
    }
   },
   "outputs": [],
   "source": [
    "import pandas as pd\n",
    "import numpy as np\n",
    "import seaborn as sns\n",
    "from sklearn.preprocessing import LabelEncoder\n",
    "from sklearn.model_selection import train_test_split\n",
    "from sklearn.metrics import confusion_matrix, accuracy_score\n",
    "from yellowbrick.classifier import ConfusionMatrix \n",
    "import lightgbm as lgb"
   ]
  },
  {
   "cell_type": "markdown",
   "id": "dd410668",
   "metadata": {},
   "source": [
    "# Criando os modelos com base no Lightgdm"
   ]
  },
  {
   "cell_type": "code",
   "execution_count": 6,
   "id": "44f192bb",
   "metadata": {
    "ExecuteTime": {
     "end_time": "2023-05-03T01:42:55.251298Z",
     "start_time": "2023-05-03T01:42:55.182912Z"
    }
   },
   "outputs": [],
   "source": [
    "df = pd.read_csv(\"datasets/Credit.csv\")"
   ]
  },
  {
   "cell_type": "code",
   "execution_count": 7,
   "id": "d657d791",
   "metadata": {
    "ExecuteTime": {
     "end_time": "2023-05-03T01:42:56.015495Z",
     "start_time": "2023-05-03T01:42:55.974414Z"
    },
    "scrolled": true
   },
   "outputs": [
    {
     "data": {
      "text/html": [
       "<div>\n",
       "<style scoped>\n",
       "    .dataframe tbody tr th:only-of-type {\n",
       "        vertical-align: middle;\n",
       "    }\n",
       "\n",
       "    .dataframe tbody tr th {\n",
       "        vertical-align: top;\n",
       "    }\n",
       "\n",
       "    .dataframe thead th {\n",
       "        text-align: right;\n",
       "    }\n",
       "</style>\n",
       "<table border=\"1\" class=\"dataframe\">\n",
       "  <thead>\n",
       "    <tr style=\"text-align: right;\">\n",
       "      <th></th>\n",
       "      <th>checking_status</th>\n",
       "      <th>duration</th>\n",
       "      <th>credit_history</th>\n",
       "      <th>purpose</th>\n",
       "      <th>credit_amount</th>\n",
       "      <th>savings_status</th>\n",
       "      <th>employment</th>\n",
       "      <th>installment_commitment</th>\n",
       "      <th>personal_status</th>\n",
       "      <th>other_parties</th>\n",
       "      <th>...</th>\n",
       "      <th>property_magnitude</th>\n",
       "      <th>age</th>\n",
       "      <th>other_payment_plans</th>\n",
       "      <th>housing</th>\n",
       "      <th>existing_credits</th>\n",
       "      <th>job</th>\n",
       "      <th>num_dependents</th>\n",
       "      <th>own_telephone</th>\n",
       "      <th>foreign_worker</th>\n",
       "      <th>class</th>\n",
       "    </tr>\n",
       "  </thead>\n",
       "  <tbody>\n",
       "    <tr>\n",
       "      <th>0</th>\n",
       "      <td>&lt;0</td>\n",
       "      <td>6</td>\n",
       "      <td>'critical/other existing credit'</td>\n",
       "      <td>radio/tv</td>\n",
       "      <td>1169</td>\n",
       "      <td>'no known savings'</td>\n",
       "      <td>&gt;=7</td>\n",
       "      <td>4</td>\n",
       "      <td>'male single'</td>\n",
       "      <td>none</td>\n",
       "      <td>...</td>\n",
       "      <td>'real estate'</td>\n",
       "      <td>67</td>\n",
       "      <td>none</td>\n",
       "      <td>own</td>\n",
       "      <td>2</td>\n",
       "      <td>skilled</td>\n",
       "      <td>1</td>\n",
       "      <td>yes</td>\n",
       "      <td>yes</td>\n",
       "      <td>good</td>\n",
       "    </tr>\n",
       "    <tr>\n",
       "      <th>1</th>\n",
       "      <td>0&lt;=X&lt;200</td>\n",
       "      <td>48</td>\n",
       "      <td>'existing paid'</td>\n",
       "      <td>radio/tv</td>\n",
       "      <td>5951</td>\n",
       "      <td>&lt;100</td>\n",
       "      <td>1&lt;=X&lt;4</td>\n",
       "      <td>2</td>\n",
       "      <td>'female div/dep/mar'</td>\n",
       "      <td>none</td>\n",
       "      <td>...</td>\n",
       "      <td>'real estate'</td>\n",
       "      <td>22</td>\n",
       "      <td>none</td>\n",
       "      <td>own</td>\n",
       "      <td>1</td>\n",
       "      <td>skilled</td>\n",
       "      <td>1</td>\n",
       "      <td>none</td>\n",
       "      <td>yes</td>\n",
       "      <td>bad</td>\n",
       "    </tr>\n",
       "    <tr>\n",
       "      <th>2</th>\n",
       "      <td>'no checking'</td>\n",
       "      <td>12</td>\n",
       "      <td>'critical/other existing credit'</td>\n",
       "      <td>education</td>\n",
       "      <td>2096</td>\n",
       "      <td>&lt;100</td>\n",
       "      <td>4&lt;=X&lt;7</td>\n",
       "      <td>2</td>\n",
       "      <td>'male single'</td>\n",
       "      <td>none</td>\n",
       "      <td>...</td>\n",
       "      <td>'real estate'</td>\n",
       "      <td>49</td>\n",
       "      <td>none</td>\n",
       "      <td>own</td>\n",
       "      <td>1</td>\n",
       "      <td>'unskilled resident'</td>\n",
       "      <td>2</td>\n",
       "      <td>none</td>\n",
       "      <td>yes</td>\n",
       "      <td>good</td>\n",
       "    </tr>\n",
       "    <tr>\n",
       "      <th>3</th>\n",
       "      <td>&lt;0</td>\n",
       "      <td>42</td>\n",
       "      <td>'existing paid'</td>\n",
       "      <td>furniture/equipment</td>\n",
       "      <td>7882</td>\n",
       "      <td>&lt;100</td>\n",
       "      <td>4&lt;=X&lt;7</td>\n",
       "      <td>2</td>\n",
       "      <td>'male single'</td>\n",
       "      <td>guarantor</td>\n",
       "      <td>...</td>\n",
       "      <td>'life insurance'</td>\n",
       "      <td>45</td>\n",
       "      <td>none</td>\n",
       "      <td>'for free'</td>\n",
       "      <td>1</td>\n",
       "      <td>skilled</td>\n",
       "      <td>2</td>\n",
       "      <td>none</td>\n",
       "      <td>yes</td>\n",
       "      <td>good</td>\n",
       "    </tr>\n",
       "    <tr>\n",
       "      <th>4</th>\n",
       "      <td>&lt;0</td>\n",
       "      <td>24</td>\n",
       "      <td>'delayed previously'</td>\n",
       "      <td>'new car'</td>\n",
       "      <td>4870</td>\n",
       "      <td>&lt;100</td>\n",
       "      <td>1&lt;=X&lt;4</td>\n",
       "      <td>3</td>\n",
       "      <td>'male single'</td>\n",
       "      <td>none</td>\n",
       "      <td>...</td>\n",
       "      <td>'no known property'</td>\n",
       "      <td>53</td>\n",
       "      <td>none</td>\n",
       "      <td>'for free'</td>\n",
       "      <td>2</td>\n",
       "      <td>skilled</td>\n",
       "      <td>2</td>\n",
       "      <td>none</td>\n",
       "      <td>yes</td>\n",
       "      <td>bad</td>\n",
       "    </tr>\n",
       "  </tbody>\n",
       "</table>\n",
       "<p>5 rows × 21 columns</p>\n",
       "</div>"
      ],
      "text/plain": [
       "  checking_status  duration                    credit_history  \\\n",
       "0              <0         6  'critical/other existing credit'   \n",
       "1        0<=X<200        48                   'existing paid'   \n",
       "2   'no checking'        12  'critical/other existing credit'   \n",
       "3              <0        42                   'existing paid'   \n",
       "4              <0        24              'delayed previously'   \n",
       "\n",
       "               purpose  credit_amount      savings_status employment  \\\n",
       "0             radio/tv           1169  'no known savings'        >=7   \n",
       "1             radio/tv           5951                <100     1<=X<4   \n",
       "2            education           2096                <100     4<=X<7   \n",
       "3  furniture/equipment           7882                <100     4<=X<7   \n",
       "4            'new car'           4870                <100     1<=X<4   \n",
       "\n",
       "   installment_commitment       personal_status other_parties  ...  \\\n",
       "0                       4         'male single'          none  ...   \n",
       "1                       2  'female div/dep/mar'          none  ...   \n",
       "2                       2         'male single'          none  ...   \n",
       "3                       2         'male single'     guarantor  ...   \n",
       "4                       3         'male single'          none  ...   \n",
       "\n",
       "    property_magnitude age  other_payment_plans     housing existing_credits  \\\n",
       "0        'real estate'  67                 none         own                2   \n",
       "1        'real estate'  22                 none         own                1   \n",
       "2        'real estate'  49                 none         own                1   \n",
       "3     'life insurance'  45                 none  'for free'                1   \n",
       "4  'no known property'  53                 none  'for free'                2   \n",
       "\n",
       "                    job num_dependents  own_telephone foreign_worker class  \n",
       "0               skilled              1            yes            yes  good  \n",
       "1               skilled              1           none            yes   bad  \n",
       "2  'unskilled resident'              2           none            yes  good  \n",
       "3               skilled              2           none            yes  good  \n",
       "4               skilled              2           none            yes   bad  \n",
       "\n",
       "[5 rows x 21 columns]"
      ]
     },
     "execution_count": 7,
     "metadata": {},
     "output_type": "execute_result"
    }
   ],
   "source": [
    "df.head()"
   ]
  },
  {
   "cell_type": "markdown",
   "id": "9f0a1a3e",
   "metadata": {},
   "source": [
    "* Temos a variável `class` que vamos remover do dataframe localizada na posição 21.\n",
    "* Então vamos pegar todas as variáveis, exceto a da posição 21. "
   ]
  },
  {
   "cell_type": "markdown",
   "id": "4b6615a7",
   "metadata": {},
   "source": [
    "## Convertendo as classes para binários"
   ]
  },
  {
   "cell_type": "code",
   "execution_count": 8,
   "id": "fd6825e7",
   "metadata": {},
   "outputs": [],
   "source": [
    "df[df['class'] == \"good\"] = 1"
   ]
  },
  {
   "cell_type": "code",
   "execution_count": 9,
   "id": "63046a18",
   "metadata": {},
   "outputs": [],
   "source": [
    "df[df['class'] == \"bad\"] = 0"
   ]
  },
  {
   "cell_type": "markdown",
   "id": "67d7e7c5",
   "metadata": {},
   "source": [
    "### Convertendo as features do dataframe para category"
   ]
  },
  {
   "cell_type": "code",
   "execution_count": 10,
   "id": "fc89b98c",
   "metadata": {},
   "outputs": [],
   "source": [
    "for col in df.columns:\n",
    "    df[col] = df[col].astype('category')"
   ]
  },
  {
   "cell_type": "code",
   "execution_count": 11,
   "id": "c7bcaede",
   "metadata": {},
   "outputs": [
    {
     "name": "stdout",
     "output_type": "stream",
     "text": [
      "<class 'pandas.core.frame.DataFrame'>\n",
      "RangeIndex: 1000 entries, 0 to 999\n",
      "Data columns (total 21 columns):\n",
      " #   Column                  Non-Null Count  Dtype   \n",
      "---  ------                  --------------  -----   \n",
      " 0   checking_status         1000 non-null   category\n",
      " 1   duration                1000 non-null   category\n",
      " 2   credit_history          1000 non-null   category\n",
      " 3   purpose                 1000 non-null   category\n",
      " 4   credit_amount           1000 non-null   category\n",
      " 5   savings_status          1000 non-null   category\n",
      " 6   employment              1000 non-null   category\n",
      " 7   installment_commitment  1000 non-null   category\n",
      " 8   personal_status         1000 non-null   category\n",
      " 9   other_parties           1000 non-null   category\n",
      " 10  residence_since         1000 non-null   category\n",
      " 11  property_magnitude      1000 non-null   category\n",
      " 12  age                     1000 non-null   category\n",
      " 13  other_payment_plans     1000 non-null   category\n",
      " 14  housing                 1000 non-null   category\n",
      " 15  existing_credits        1000 non-null   category\n",
      " 16  job                     1000 non-null   category\n",
      " 17  num_dependents          1000 non-null   category\n",
      " 18  own_telephone           1000 non-null   category\n",
      " 19  foreign_worker          1000 non-null   category\n",
      " 20  class                   1000 non-null   category\n",
      "dtypes: category(21)\n",
      "memory usage: 23.2 KB\n"
     ]
    }
   ],
   "source": [
    "df.info()"
   ]
  },
  {
   "cell_type": "code",
   "execution_count": 12,
   "id": "c6f44c78",
   "metadata": {
    "ExecuteTime": {
     "end_time": "2023-05-03T01:42:58.381003Z",
     "start_time": "2023-05-03T01:42:58.363192Z"
    }
   },
   "outputs": [
    {
     "data": {
      "text/plain": [
       "array([[1, 1, 1, ..., 1, 1, 1],\n",
       "       [0, 0, 0, ..., 0, 0, 0],\n",
       "       [1, 1, 1, ..., 1, 1, 1],\n",
       "       ...,\n",
       "       [1, 1, 1, ..., 1, 1, 1],\n",
       "       [0, 0, 0, ..., 0, 0, 0],\n",
       "       [1, 1, 1, ..., 1, 1, 1]], dtype=object)"
      ]
     },
     "execution_count": 12,
     "metadata": {},
     "output_type": "execute_result"
    }
   ],
   "source": [
    "previsores = df.iloc[:,0:20].values\n",
    "previsores"
   ]
  },
  {
   "cell_type": "markdown",
   "id": "3af054f5",
   "metadata": {},
   "source": [
    "* Criando um array somente com as classes agora"
   ]
  },
  {
   "cell_type": "code",
   "execution_count": 13,
   "id": "6573bb91",
   "metadata": {
    "ExecuteTime": {
     "end_time": "2023-05-03T01:43:01.419980Z",
     "start_time": "2023-05-03T01:43:01.406616Z"
    }
   },
   "outputs": [],
   "source": [
    "classe =  df.iloc[:,20].values"
   ]
  },
  {
   "cell_type": "markdown",
   "id": "6c94ec99",
   "metadata": {},
   "source": [
    "* Vamos utilizar o `LabelEncoder()` para transformar as variáveis categóricas em numéricas."
   ]
  },
  {
   "cell_type": "code",
   "execution_count": 14,
   "id": "0c0a22ab",
   "metadata": {
    "ExecuteTime": {
     "end_time": "2023-05-03T01:43:03.417224Z",
     "start_time": "2023-05-03T01:43:03.411152Z"
    }
   },
   "outputs": [],
   "source": [
    "labelencoder1 = LabelEncoder()\n",
    "previsores[:,0] = labelencoder1.fit_transform(previsores[:,0])"
   ]
  },
  {
   "cell_type": "code",
   "execution_count": 15,
   "id": "0e4625e6",
   "metadata": {
    "ExecuteTime": {
     "end_time": "2023-05-03T01:43:03.944456Z",
     "start_time": "2023-05-03T01:43:03.939399Z"
    }
   },
   "outputs": [],
   "source": [
    "labelencoder2 = LabelEncoder()\n",
    "previsores[:,2] = labelencoder2.fit_transform(previsores[:,2])"
   ]
  },
  {
   "cell_type": "code",
   "execution_count": 16,
   "id": "87c2d487",
   "metadata": {
    "ExecuteTime": {
     "end_time": "2023-05-03T01:43:04.469373Z",
     "start_time": "2023-05-03T01:43:04.458944Z"
    }
   },
   "outputs": [],
   "source": [
    "labelencoder3 = LabelEncoder()\n",
    "previsores[:, 3] = labelencoder3.fit_transform(previsores[:, 3])"
   ]
  },
  {
   "cell_type": "code",
   "execution_count": 17,
   "id": "20cbf6fd",
   "metadata": {
    "ExecuteTime": {
     "end_time": "2023-05-03T01:43:04.809308Z",
     "start_time": "2023-05-03T01:43:04.804788Z"
    }
   },
   "outputs": [],
   "source": [
    "labelencoder4 = LabelEncoder()\n",
    "previsores[:, 5] = labelencoder4.fit_transform(previsores[:, 5])"
   ]
  },
  {
   "cell_type": "code",
   "execution_count": 18,
   "id": "ad9b8852",
   "metadata": {
    "ExecuteTime": {
     "end_time": "2023-05-03T01:43:05.076981Z",
     "start_time": "2023-05-03T01:43:05.070361Z"
    }
   },
   "outputs": [],
   "source": [
    "labelencoder5 = LabelEncoder()\n",
    "previsores[:, 6] = labelencoder5.fit_transform(previsores[:, 6])"
   ]
  },
  {
   "cell_type": "code",
   "execution_count": 19,
   "id": "6bb2de3a",
   "metadata": {
    "ExecuteTime": {
     "end_time": "2023-05-03T01:43:05.298637Z",
     "start_time": "2023-05-03T01:43:05.290407Z"
    }
   },
   "outputs": [],
   "source": [
    "labelencoder6 = LabelEncoder()\n",
    "previsores[:, 8] = labelencoder6.fit_transform(previsores[:, 8])"
   ]
  },
  {
   "cell_type": "code",
   "execution_count": 20,
   "id": "37c90b1d",
   "metadata": {
    "ExecuteTime": {
     "end_time": "2023-05-03T01:43:05.516481Z",
     "start_time": "2023-05-03T01:43:05.511484Z"
    }
   },
   "outputs": [],
   "source": [
    "labelencoder7 = LabelEncoder()\n",
    "previsores[:, 9] = labelencoder7.fit_transform(previsores[:, 9])"
   ]
  },
  {
   "cell_type": "code",
   "execution_count": 21,
   "id": "b02a27e7",
   "metadata": {
    "ExecuteTime": {
     "end_time": "2023-05-03T01:43:05.697862Z",
     "start_time": "2023-05-03T01:43:05.693641Z"
    }
   },
   "outputs": [],
   "source": [
    "labelencoder8 = LabelEncoder()\n",
    "previsores[:, 11] = labelencoder8.fit_transform(previsores[:, 11])"
   ]
  },
  {
   "cell_type": "code",
   "execution_count": 22,
   "id": "d883a097",
   "metadata": {
    "ExecuteTime": {
     "end_time": "2023-05-03T01:43:05.887617Z",
     "start_time": "2023-05-03T01:43:05.883199Z"
    }
   },
   "outputs": [],
   "source": [
    "labelencoder9 = LabelEncoder()\n",
    "previsores[:, 13] = labelencoder9.fit_transform(previsores[:, 13])"
   ]
  },
  {
   "cell_type": "code",
   "execution_count": 23,
   "id": "86ce1af2",
   "metadata": {
    "ExecuteTime": {
     "end_time": "2023-05-03T01:43:06.075324Z",
     "start_time": "2023-05-03T01:43:06.071299Z"
    }
   },
   "outputs": [],
   "source": [
    "labelencoder10 = LabelEncoder()\n",
    "previsores[:, 14] = labelencoder10.fit_transform(previsores[:, 14])"
   ]
  },
  {
   "cell_type": "code",
   "execution_count": 24,
   "id": "b1b78084",
   "metadata": {
    "ExecuteTime": {
     "end_time": "2023-05-03T01:43:06.236394Z",
     "start_time": "2023-05-03T01:43:06.231523Z"
    }
   },
   "outputs": [],
   "source": [
    "labelencoder11 = LabelEncoder()\n",
    "previsores[:, 16] = labelencoder11.fit_transform(previsores[:, 16])"
   ]
  },
  {
   "cell_type": "code",
   "execution_count": 25,
   "id": "21b09698",
   "metadata": {
    "ExecuteTime": {
     "end_time": "2023-05-03T01:43:06.420817Z",
     "start_time": "2023-05-03T01:43:06.415450Z"
    }
   },
   "outputs": [],
   "source": [
    "labelencoder12 = LabelEncoder()\n",
    "previsores[:, 18] = labelencoder12.fit_transform(previsores[:, 18])"
   ]
  },
  {
   "cell_type": "code",
   "execution_count": 26,
   "id": "c6ffe2fd",
   "metadata": {
    "ExecuteTime": {
     "end_time": "2023-05-03T01:43:06.606519Z",
     "start_time": "2023-05-03T01:43:06.603115Z"
    }
   },
   "outputs": [],
   "source": [
    "labelencoder13 = LabelEncoder()\n",
    "previsores[:, 19] = labelencoder13.fit_transform(previsores[:, 19])"
   ]
  },
  {
   "cell_type": "code",
   "execution_count": 27,
   "id": "264acdbf",
   "metadata": {
    "ExecuteTime": {
     "end_time": "2023-05-03T01:43:13.128139Z",
     "start_time": "2023-05-03T01:43:13.119392Z"
    },
    "scrolled": true
   },
   "outputs": [
    {
     "data": {
      "text/plain": [
       "array([[1, 1, 1, ..., 1, 1, 1],\n",
       "       [0, 0, 0, ..., 0, 0, 0],\n",
       "       [1, 1, 1, ..., 1, 1, 1],\n",
       "       ...,\n",
       "       [1, 1, 1, ..., 1, 1, 1],\n",
       "       [0, 0, 0, ..., 0, 0, 0],\n",
       "       [1, 1, 1, ..., 1, 1, 1]], dtype=object)"
      ]
     },
     "execution_count": 27,
     "metadata": {},
     "output_type": "execute_result"
    }
   ],
   "source": [
    "previsores"
   ]
  },
  {
   "cell_type": "code",
   "execution_count": 28,
   "id": "1abf974f",
   "metadata": {
    "ExecuteTime": {
     "end_time": "2023-05-03T01:45:24.409601Z",
     "start_time": "2023-05-03T01:45:24.396121Z"
    }
   },
   "outputs": [],
   "source": [
    "X_treinamento, X_teste, y_treinamento, y_teste = train_test_split(previsores,\n",
    "                                                                  classe,\n",
    "                                                                  test_size = 0.3,\n",
    "                                                                  random_state = 0)"
   ]
  },
  {
   "cell_type": "code",
   "execution_count": 29,
   "id": "db39e4c7",
   "metadata": {
    "ExecuteTime": {
     "end_time": "2023-05-03T01:45:25.753041Z",
     "start_time": "2023-05-03T01:45:25.745247Z"
    }
   },
   "outputs": [
    {
     "data": {
      "text/plain": [
       "array([[0, 0, 0, ..., 0, 0, 0],\n",
       "       [0, 0, 0, ..., 0, 0, 0],\n",
       "       [1, 1, 1, ..., 1, 1, 1],\n",
       "       ...,\n",
       "       [1, 1, 1, ..., 1, 1, 1],\n",
       "       [0, 0, 0, ..., 0, 0, 0],\n",
       "       [1, 1, 1, ..., 1, 1, 1]], dtype=object)"
      ]
     },
     "execution_count": 29,
     "metadata": {},
     "output_type": "execute_result"
    }
   ],
   "source": [
    "X_treinamento"
   ]
  },
  {
   "cell_type": "code",
   "execution_count": 30,
   "id": "cef59b7b",
   "metadata": {
    "ExecuteTime": {
     "end_time": "2023-05-03T01:45:26.318745Z",
     "start_time": "2023-05-03T01:45:26.311418Z"
    },
    "scrolled": true
   },
   "outputs": [
    {
     "data": {
      "text/plain": [
       "array([[1, 1, 1, ..., 1, 1, 1],\n",
       "       [1, 1, 1, ..., 1, 1, 1],\n",
       "       [1, 1, 1, ..., 1, 1, 1],\n",
       "       ...,\n",
       "       [1, 1, 1, ..., 1, 1, 1],\n",
       "       [0, 0, 0, ..., 0, 0, 0],\n",
       "       [0, 0, 0, ..., 0, 0, 0]], dtype=object)"
      ]
     },
     "execution_count": 30,
     "metadata": {},
     "output_type": "execute_result"
    }
   ],
   "source": [
    "X_teste"
   ]
  },
  {
   "cell_type": "code",
   "execution_count": 31,
   "id": "c32d5faa",
   "metadata": {
    "ExecuteTime": {
     "end_time": "2023-05-03T01:45:26.743525Z",
     "start_time": "2023-05-03T01:45:26.727701Z"
    }
   },
   "outputs": [
    {
     "data": {
      "text/plain": [
       "[0, 0, 1, 1, 1, ..., 0, 0, 1, 0, 1]\n",
       "Length: 700\n",
       "Categories (2, int64): [0, 1]"
      ]
     },
     "execution_count": 31,
     "metadata": {},
     "output_type": "execute_result"
    }
   ],
   "source": [
    "y_treinamento"
   ]
  },
  {
   "cell_type": "code",
   "execution_count": 32,
   "id": "d61d8480",
   "metadata": {
    "ExecuteTime": {
     "end_time": "2023-05-03T01:45:27.140455Z",
     "start_time": "2023-05-03T01:45:27.135896Z"
    }
   },
   "outputs": [
    {
     "data": {
      "text/plain": [
       "[1, 1, 1, 1, 1, ..., 1, 0, 1, 0, 0]\n",
       "Length: 300\n",
       "Categories (2, int64): [0, 1]"
      ]
     },
     "execution_count": 32,
     "metadata": {},
     "output_type": "execute_result"
    }
   ],
   "source": [
    "y_teste"
   ]
  },
  {
   "cell_type": "markdown",
   "id": "5aff07fd",
   "metadata": {},
   "source": [
    "## Criando o Dataset de Treino e teste para o Lightgbm"
   ]
  },
  {
   "cell_type": "markdown",
   "id": "23d76cf1",
   "metadata": {},
   "source": [
    "### Treino do Modelos"
   ]
  },
  {
   "cell_type": "code",
   "execution_count": 33,
   "id": "f57e1fca",
   "metadata": {},
   "outputs": [],
   "source": [
    "fit_params={'categorical_feature': 'auto'}"
   ]
  },
  {
   "cell_type": "code",
   "execution_count": 34,
   "id": "ee0d6cff",
   "metadata": {},
   "outputs": [],
   "source": [
    "lightClf = lgb.LGBMClassifier()"
   ]
  },
  {
   "cell_type": "code",
   "execution_count": 35,
   "id": "64eaa909",
   "metadata": {},
   "outputs": [
    {
     "data": {
      "text/html": [
       "<style>#sk-container-id-1 {color: black;background-color: white;}#sk-container-id-1 pre{padding: 0;}#sk-container-id-1 div.sk-toggleable {background-color: white;}#sk-container-id-1 label.sk-toggleable__label {cursor: pointer;display: block;width: 100%;margin-bottom: 0;padding: 0.3em;box-sizing: border-box;text-align: center;}#sk-container-id-1 label.sk-toggleable__label-arrow:before {content: \"▸\";float: left;margin-right: 0.25em;color: #696969;}#sk-container-id-1 label.sk-toggleable__label-arrow:hover:before {color: black;}#sk-container-id-1 div.sk-estimator:hover label.sk-toggleable__label-arrow:before {color: black;}#sk-container-id-1 div.sk-toggleable__content {max-height: 0;max-width: 0;overflow: hidden;text-align: left;background-color: #f0f8ff;}#sk-container-id-1 div.sk-toggleable__content pre {margin: 0.2em;color: black;border-radius: 0.25em;background-color: #f0f8ff;}#sk-container-id-1 input.sk-toggleable__control:checked~div.sk-toggleable__content {max-height: 200px;max-width: 100%;overflow: auto;}#sk-container-id-1 input.sk-toggleable__control:checked~label.sk-toggleable__label-arrow:before {content: \"▾\";}#sk-container-id-1 div.sk-estimator input.sk-toggleable__control:checked~label.sk-toggleable__label {background-color: #d4ebff;}#sk-container-id-1 div.sk-label input.sk-toggleable__control:checked~label.sk-toggleable__label {background-color: #d4ebff;}#sk-container-id-1 input.sk-hidden--visually {border: 0;clip: rect(1px 1px 1px 1px);clip: rect(1px, 1px, 1px, 1px);height: 1px;margin: -1px;overflow: hidden;padding: 0;position: absolute;width: 1px;}#sk-container-id-1 div.sk-estimator {font-family: monospace;background-color: #f0f8ff;border: 1px dotted black;border-radius: 0.25em;box-sizing: border-box;margin-bottom: 0.5em;}#sk-container-id-1 div.sk-estimator:hover {background-color: #d4ebff;}#sk-container-id-1 div.sk-parallel-item::after {content: \"\";width: 100%;border-bottom: 1px solid gray;flex-grow: 1;}#sk-container-id-1 div.sk-label:hover label.sk-toggleable__label {background-color: #d4ebff;}#sk-container-id-1 div.sk-serial::before {content: \"\";position: absolute;border-left: 1px solid gray;box-sizing: border-box;top: 0;bottom: 0;left: 50%;z-index: 0;}#sk-container-id-1 div.sk-serial {display: flex;flex-direction: column;align-items: center;background-color: white;padding-right: 0.2em;padding-left: 0.2em;position: relative;}#sk-container-id-1 div.sk-item {position: relative;z-index: 1;}#sk-container-id-1 div.sk-parallel {display: flex;align-items: stretch;justify-content: center;background-color: white;position: relative;}#sk-container-id-1 div.sk-item::before, #sk-container-id-1 div.sk-parallel-item::before {content: \"\";position: absolute;border-left: 1px solid gray;box-sizing: border-box;top: 0;bottom: 0;left: 50%;z-index: -1;}#sk-container-id-1 div.sk-parallel-item {display: flex;flex-direction: column;z-index: 1;position: relative;background-color: white;}#sk-container-id-1 div.sk-parallel-item:first-child::after {align-self: flex-end;width: 50%;}#sk-container-id-1 div.sk-parallel-item:last-child::after {align-self: flex-start;width: 50%;}#sk-container-id-1 div.sk-parallel-item:only-child::after {width: 0;}#sk-container-id-1 div.sk-dashed-wrapped {border: 1px dashed gray;margin: 0 0.4em 0.5em 0.4em;box-sizing: border-box;padding-bottom: 0.4em;background-color: white;}#sk-container-id-1 div.sk-label label {font-family: monospace;font-weight: bold;display: inline-block;line-height: 1.2em;}#sk-container-id-1 div.sk-label-container {text-align: center;}#sk-container-id-1 div.sk-container {/* jupyter's `normalize.less` sets `[hidden] { display: none; }` but bootstrap.min.css set `[hidden] { display: none !important; }` so we also need the `!important` here to be able to override the default hidden behavior on the sphinx rendered scikit-learn.org. See: https://github.com/scikit-learn/scikit-learn/issues/21755 */display: inline-block !important;position: relative;}#sk-container-id-1 div.sk-text-repr-fallback {display: none;}</style><div id=\"sk-container-id-1\" class=\"sk-top-container\"><div class=\"sk-text-repr-fallback\"><pre>LGBMClassifier()</pre><b>In a Jupyter environment, please rerun this cell to show the HTML representation or trust the notebook. <br />On GitHub, the HTML representation is unable to render, please try loading this page with nbviewer.org.</b></div><div class=\"sk-container\" hidden><div class=\"sk-item\"><div class=\"sk-estimator sk-toggleable\"><input class=\"sk-toggleable__control sk-hidden--visually\" id=\"sk-estimator-id-1\" type=\"checkbox\" checked><label for=\"sk-estimator-id-1\" class=\"sk-toggleable__label sk-toggleable__label-arrow\">LGBMClassifier</label><div class=\"sk-toggleable__content\"><pre>LGBMClassifier()</pre></div></div></div></div></div>"
      ],
      "text/plain": [
       "LGBMClassifier()"
      ]
     },
     "execution_count": 35,
     "metadata": {},
     "output_type": "execute_result"
    }
   ],
   "source": [
    "lightClf.fit(X_treinamento, y_treinamento, **fit_params)"
   ]
  },
  {
   "cell_type": "code",
   "execution_count": 36,
   "id": "1dc8de33",
   "metadata": {},
   "outputs": [],
   "source": [
    "previsoes = lightClf.predict(X_teste, num_iteration=14)"
   ]
  },
  {
   "cell_type": "code",
   "execution_count": 37,
   "id": "82dad7e8",
   "metadata": {},
   "outputs": [
    {
     "data": {
      "text/plain": [
       "array([1, 1, 1, 1, 1, 1, 1, 1, 1, 0, 0, 0, 1, 1, 0, 1, 1, 0, 1, 1, 1, 1,\n",
       "       1, 1, 1, 0, 1, 1, 1, 0, 1, 1, 0, 0, 1, 0, 1, 1, 0, 1, 0, 1, 1, 1,\n",
       "       1, 0, 0, 1, 1, 1, 0, 0, 1, 1, 0, 1, 1, 1, 1, 1, 0, 1, 1, 1, 1, 1,\n",
       "       1, 0, 0, 1, 1, 1, 1, 1, 1, 0, 1, 0, 0, 1, 1, 1, 1, 1, 1, 1, 0, 1,\n",
       "       1, 1, 1, 1, 1, 1, 1, 0, 1, 1, 1, 1, 1, 1, 1, 1, 1, 1, 1, 0, 0, 1,\n",
       "       1, 0, 0, 1, 1, 1, 0, 1, 1, 1, 0, 1, 1, 0, 1, 1, 1, 1, 1, 1, 0, 1,\n",
       "       0, 1, 1, 0, 1, 1, 1, 1, 1, 1, 1, 0, 0, 0, 1, 1, 0, 1, 1, 1, 1, 0,\n",
       "       1, 1, 0, 1, 1, 1, 0, 1, 1, 0, 0, 0, 0, 1, 0, 1, 1, 1, 1, 0, 1, 0,\n",
       "       0, 0, 1, 1, 1, 1, 1, 0, 1, 0, 1, 1, 1, 1, 0, 0, 0, 1, 1, 1, 0, 1,\n",
       "       0, 1, 1, 0, 0, 0, 1, 1, 0, 1, 1, 1, 0, 1, 0, 1, 1, 1, 1, 1, 1, 0,\n",
       "       0, 1, 1, 1, 1, 1, 1, 0, 0, 1, 1, 0, 0, 1, 0, 1, 1, 1, 1, 0, 0, 1,\n",
       "       1, 0, 1, 1, 1, 1, 1, 1, 1, 1, 1, 1, 1, 1, 1, 1, 1, 1, 1, 1, 1, 1,\n",
       "       1, 0, 1, 0, 1, 0, 0, 0, 1, 1, 1, 1, 1, 1, 0, 0, 1, 1, 1, 1, 0, 1,\n",
       "       1, 1, 1, 1, 1, 1, 1, 1, 0, 1, 0, 1, 0, 0])"
      ]
     },
     "execution_count": 37,
     "metadata": {},
     "output_type": "execute_result"
    }
   ],
   "source": [
    "previsoes"
   ]
  },
  {
   "cell_type": "markdown",
   "id": "d3c43e1b",
   "metadata": {},
   "source": [
    "* Gerando a Matriz de Confusão para medir a accuracy do modelo"
   ]
  },
  {
   "cell_type": "code",
   "execution_count": 38,
   "id": "f1a81231",
   "metadata": {
    "ExecuteTime": {
     "end_time": "2023-05-03T01:45:35.410066Z",
     "start_time": "2023-05-03T01:45:35.365440Z"
    }
   },
   "outputs": [],
   "source": [
    "confusao = confusion_matrix(y_teste, previsoes)"
   ]
  },
  {
   "cell_type": "code",
   "execution_count": 39,
   "id": "ad391241",
   "metadata": {
    "ExecuteTime": {
     "end_time": "2023-05-03T01:45:35.638069Z",
     "start_time": "2023-05-03T01:45:35.615154Z"
    }
   },
   "outputs": [
    {
     "data": {
      "text/plain": [
       "array([[ 86,   0],\n",
       "       [  0, 214]])"
      ]
     },
     "execution_count": 39,
     "metadata": {},
     "output_type": "execute_result"
    }
   ],
   "source": [
    "confusao"
   ]
  },
  {
   "cell_type": "code",
   "execution_count": null,
   "id": "63b333a4",
   "metadata": {
    "ExecuteTime": {
     "end_time": "2023-05-03T01:45:35.842877Z",
     "start_time": "2023-05-03T01:45:35.827830Z"
    }
   },
   "outputs": [],
   "source": [
    "sns.set(rc={'figure.figsize':(15,15)})"
   ]
  },
  {
   "cell_type": "code",
   "execution_count": null,
   "id": "eb79910e",
   "metadata": {},
   "outputs": [],
   "source": [
    "cm = confusion_matrix(y_teste, previsoes)\n",
    "sns.heatmap(cm,annot=True);"
   ]
  },
  {
   "cell_type": "markdown",
   "id": "c638bdf6",
   "metadata": {},
   "source": [
    "* Printando a Matriz de Confusão podemos verificar melhor a performance do modelo. \n",
    "    * Clientes que eram `bad` e foram classificados como `bad` foram 38.  \n",
    "    * Clientes que eram `bad` e foram classificados como `good` foram 20.\n",
    "    * Clientes que eram `good` e foram classificados como `bad` foram 48.\n",
    "    * Clientes que eram `good` e foram classificados como `good` foram 194."
   ]
  },
  {
   "cell_type": "code",
   "execution_count": 40,
   "id": "83e93203",
   "metadata": {
    "ExecuteTime": {
     "end_time": "2023-05-03T01:45:36.269135Z",
     "start_time": "2023-05-03T01:45:36.241531Z"
    }
   },
   "outputs": [],
   "source": [
    "taxa_acerto = accuracy_score(y_teste, previsoes)\n",
    "taxa_erro = 1 - taxa_acerto"
   ]
  },
  {
   "cell_type": "code",
   "execution_count": 41,
   "id": "293336ae",
   "metadata": {
    "ExecuteTime": {
     "end_time": "2023-05-03T01:45:36.480908Z",
     "start_time": "2023-05-03T01:45:36.470763Z"
    }
   },
   "outputs": [
    {
     "data": {
      "text/plain": [
       "100.0"
      ]
     },
     "execution_count": 41,
     "metadata": {},
     "output_type": "execute_result"
    }
   ],
   "source": [
    "taxa_acerto * 100"
   ]
  },
  {
   "cell_type": "code",
   "execution_count": 42,
   "id": "a05b8d1d",
   "metadata": {
    "ExecuteTime": {
     "end_time": "2023-05-03T01:45:36.734564Z",
     "start_time": "2023-05-03T01:45:36.710060Z"
    },
    "scrolled": true
   },
   "outputs": [
    {
     "data": {
      "text/plain": [
       "0.0"
      ]
     },
     "execution_count": 42,
     "metadata": {},
     "output_type": "execute_result"
    }
   ],
   "source": [
    "taxa_erro * 100"
   ]
  },
  {
   "cell_type": "markdown",
   "id": "88269058",
   "metadata": {},
   "source": []
  },
  {
   "cell_type": "markdown",
   "id": "83829644",
   "metadata": {},
   "source": [
    "### Classification Report"
   ]
  },
  {
   "cell_type": "code",
   "execution_count": 43,
   "id": "602c0280",
   "metadata": {
    "scrolled": true
   },
   "outputs": [
    {
     "name": "stdout",
     "output_type": "stream",
     "text": [
      "              precision    recall  f1-score   support\n",
      "\n",
      "           0       1.00      1.00      1.00        86\n",
      "           1       1.00      1.00      1.00       214\n",
      "\n",
      "    accuracy                           1.00       300\n",
      "   macro avg       1.00      1.00      1.00       300\n",
      "weighted avg       1.00      1.00      1.00       300\n",
      "\n"
     ]
    }
   ],
   "source": [
    "from sklearn.metrics import classification_report\n",
    "print(classification_report(y_teste, previsoes))"
   ]
  },
  {
   "cell_type": "markdown",
   "id": "90a6ad91",
   "metadata": {},
   "source": [
    "### Probability"
   ]
  },
  {
   "cell_type": "code",
   "execution_count": 45,
   "id": "20fc7d75",
   "metadata": {},
   "outputs": [
    {
     "data": {
      "text/plain": [
       "array([[ 7.42841458, 92.57158542],\n",
       "       [ 7.42841458, 92.57158542],\n",
       "       [ 7.42841458, 92.57158542],\n",
       "       [ 7.42841458, 92.57158542],\n",
       "       [ 7.42841458, 92.57158542],\n",
       "       [ 7.42841458, 92.57158542],\n",
       "       [ 7.42841458, 92.57158542],\n",
       "       [ 7.42841458, 92.57158542],\n",
       "       [ 7.42841458, 92.57158542],\n",
       "       [83.76836555, 16.23163445],\n",
       "       [83.76836555, 16.23163445],\n",
       "       [83.76836555, 16.23163445],\n",
       "       [ 7.42841458, 92.57158542],\n",
       "       [ 7.42841458, 92.57158542],\n",
       "       [83.76836555, 16.23163445],\n",
       "       [ 7.42841458, 92.57158542],\n",
       "       [ 7.42841458, 92.57158542],\n",
       "       [83.76836555, 16.23163445],\n",
       "       [ 7.42841458, 92.57158542],\n",
       "       [ 7.42841458, 92.57158542],\n",
       "       [ 7.42841458, 92.57158542],\n",
       "       [ 7.42841458, 92.57158542],\n",
       "       [ 7.42841458, 92.57158542],\n",
       "       [ 7.42841458, 92.57158542],\n",
       "       [ 7.42841458, 92.57158542],\n",
       "       [83.76836555, 16.23163445],\n",
       "       [ 7.42841458, 92.57158542],\n",
       "       [ 7.42841458, 92.57158542],\n",
       "       [ 7.42841458, 92.57158542],\n",
       "       [83.76836555, 16.23163445],\n",
       "       [ 7.42841458, 92.57158542],\n",
       "       [ 7.42841458, 92.57158542],\n",
       "       [83.76836555, 16.23163445],\n",
       "       [83.76836555, 16.23163445],\n",
       "       [ 7.42841458, 92.57158542],\n",
       "       [83.76836555, 16.23163445],\n",
       "       [ 7.42841458, 92.57158542],\n",
       "       [ 7.42841458, 92.57158542],\n",
       "       [83.76836555, 16.23163445],\n",
       "       [ 7.42841458, 92.57158542],\n",
       "       [83.76836555, 16.23163445],\n",
       "       [ 7.42841458, 92.57158542],\n",
       "       [ 7.42841458, 92.57158542],\n",
       "       [ 7.42841458, 92.57158542],\n",
       "       [ 7.42841458, 92.57158542],\n",
       "       [83.76836555, 16.23163445],\n",
       "       [83.76836555, 16.23163445],\n",
       "       [ 7.42841458, 92.57158542],\n",
       "       [ 7.42841458, 92.57158542],\n",
       "       [ 7.42841458, 92.57158542],\n",
       "       [83.76836555, 16.23163445],\n",
       "       [83.76836555, 16.23163445],\n",
       "       [ 7.42841458, 92.57158542],\n",
       "       [ 7.42841458, 92.57158542],\n",
       "       [83.76836555, 16.23163445],\n",
       "       [ 7.42841458, 92.57158542],\n",
       "       [ 7.42841458, 92.57158542],\n",
       "       [ 7.42841458, 92.57158542],\n",
       "       [ 7.42841458, 92.57158542],\n",
       "       [ 7.42841458, 92.57158542],\n",
       "       [83.76836555, 16.23163445],\n",
       "       [ 7.42841458, 92.57158542],\n",
       "       [ 7.42841458, 92.57158542],\n",
       "       [ 7.42841458, 92.57158542],\n",
       "       [ 7.42841458, 92.57158542],\n",
       "       [ 7.42841458, 92.57158542],\n",
       "       [ 7.42841458, 92.57158542],\n",
       "       [83.76836555, 16.23163445],\n",
       "       [83.76836555, 16.23163445],\n",
       "       [ 7.42841458, 92.57158542],\n",
       "       [ 7.42841458, 92.57158542],\n",
       "       [ 7.42841458, 92.57158542],\n",
       "       [ 7.42841458, 92.57158542],\n",
       "       [ 7.42841458, 92.57158542],\n",
       "       [ 7.42841458, 92.57158542],\n",
       "       [83.76836555, 16.23163445],\n",
       "       [ 7.42841458, 92.57158542],\n",
       "       [83.76836555, 16.23163445],\n",
       "       [83.76836555, 16.23163445],\n",
       "       [ 7.42841458, 92.57158542],\n",
       "       [ 7.42841458, 92.57158542],\n",
       "       [ 7.42841458, 92.57158542],\n",
       "       [ 7.42841458, 92.57158542],\n",
       "       [ 7.42841458, 92.57158542],\n",
       "       [ 7.42841458, 92.57158542],\n",
       "       [ 7.42841458, 92.57158542],\n",
       "       [83.76836555, 16.23163445],\n",
       "       [ 7.42841458, 92.57158542],\n",
       "       [ 7.42841458, 92.57158542],\n",
       "       [ 7.42841458, 92.57158542],\n",
       "       [ 7.42841458, 92.57158542],\n",
       "       [ 7.42841458, 92.57158542],\n",
       "       [ 7.42841458, 92.57158542],\n",
       "       [ 7.42841458, 92.57158542],\n",
       "       [ 7.42841458, 92.57158542],\n",
       "       [83.76836555, 16.23163445],\n",
       "       [ 7.42841458, 92.57158542],\n",
       "       [ 7.42841458, 92.57158542],\n",
       "       [ 7.42841458, 92.57158542],\n",
       "       [ 7.42841458, 92.57158542],\n",
       "       [ 7.42841458, 92.57158542],\n",
       "       [ 7.42841458, 92.57158542],\n",
       "       [ 7.42841458, 92.57158542],\n",
       "       [ 7.42841458, 92.57158542],\n",
       "       [ 7.42841458, 92.57158542],\n",
       "       [ 7.42841458, 92.57158542],\n",
       "       [ 7.42841458, 92.57158542],\n",
       "       [83.76836555, 16.23163445],\n",
       "       [83.76836555, 16.23163445],\n",
       "       [ 7.42841458, 92.57158542],\n",
       "       [ 7.42841458, 92.57158542],\n",
       "       [83.76836555, 16.23163445],\n",
       "       [83.76836555, 16.23163445],\n",
       "       [ 7.42841458, 92.57158542],\n",
       "       [ 7.42841458, 92.57158542],\n",
       "       [ 7.42841458, 92.57158542],\n",
       "       [83.76836555, 16.23163445],\n",
       "       [ 7.42841458, 92.57158542],\n",
       "       [ 7.42841458, 92.57158542],\n",
       "       [ 7.42841458, 92.57158542],\n",
       "       [83.76836555, 16.23163445],\n",
       "       [ 7.42841458, 92.57158542],\n",
       "       [ 7.42841458, 92.57158542],\n",
       "       [83.76836555, 16.23163445],\n",
       "       [ 7.42841458, 92.57158542],\n",
       "       [ 7.42841458, 92.57158542],\n",
       "       [ 7.42841458, 92.57158542],\n",
       "       [ 7.42841458, 92.57158542],\n",
       "       [ 7.42841458, 92.57158542],\n",
       "       [ 7.42841458, 92.57158542],\n",
       "       [83.76836555, 16.23163445],\n",
       "       [ 7.42841458, 92.57158542],\n",
       "       [83.76836555, 16.23163445],\n",
       "       [ 7.42841458, 92.57158542],\n",
       "       [ 7.42841458, 92.57158542],\n",
       "       [83.76836555, 16.23163445],\n",
       "       [ 7.42841458, 92.57158542],\n",
       "       [ 7.42841458, 92.57158542],\n",
       "       [ 7.42841458, 92.57158542],\n",
       "       [ 7.42841458, 92.57158542],\n",
       "       [ 7.42841458, 92.57158542],\n",
       "       [ 7.42841458, 92.57158542],\n",
       "       [ 7.42841458, 92.57158542],\n",
       "       [83.76836555, 16.23163445],\n",
       "       [83.76836555, 16.23163445],\n",
       "       [83.76836555, 16.23163445],\n",
       "       [ 7.42841458, 92.57158542],\n",
       "       [ 7.42841458, 92.57158542],\n",
       "       [83.76836555, 16.23163445],\n",
       "       [ 7.42841458, 92.57158542],\n",
       "       [ 7.42841458, 92.57158542],\n",
       "       [ 7.42841458, 92.57158542],\n",
       "       [ 7.42841458, 92.57158542],\n",
       "       [83.76836555, 16.23163445],\n",
       "       [ 7.42841458, 92.57158542],\n",
       "       [ 7.42841458, 92.57158542],\n",
       "       [83.76836555, 16.23163445],\n",
       "       [ 7.42841458, 92.57158542],\n",
       "       [ 7.42841458, 92.57158542],\n",
       "       [ 7.42841458, 92.57158542],\n",
       "       [83.76836555, 16.23163445],\n",
       "       [ 7.42841458, 92.57158542],\n",
       "       [ 7.42841458, 92.57158542],\n",
       "       [83.76836555, 16.23163445],\n",
       "       [83.76836555, 16.23163445],\n",
       "       [83.76836555, 16.23163445],\n",
       "       [83.76836555, 16.23163445],\n",
       "       [ 7.42841458, 92.57158542],\n",
       "       [83.76836555, 16.23163445],\n",
       "       [ 7.42841458, 92.57158542],\n",
       "       [ 7.42841458, 92.57158542],\n",
       "       [ 7.42841458, 92.57158542],\n",
       "       [ 7.42841458, 92.57158542],\n",
       "       [83.76836555, 16.23163445],\n",
       "       [ 7.42841458, 92.57158542],\n",
       "       [83.76836555, 16.23163445],\n",
       "       [83.76836555, 16.23163445],\n",
       "       [83.76836555, 16.23163445],\n",
       "       [ 7.42841458, 92.57158542],\n",
       "       [ 7.42841458, 92.57158542],\n",
       "       [ 7.42841458, 92.57158542],\n",
       "       [ 7.42841458, 92.57158542],\n",
       "       [ 7.42841458, 92.57158542],\n",
       "       [83.76836555, 16.23163445],\n",
       "       [ 7.42841458, 92.57158542],\n",
       "       [83.76836555, 16.23163445],\n",
       "       [ 7.42841458, 92.57158542],\n",
       "       [ 7.42841458, 92.57158542],\n",
       "       [ 7.42841458, 92.57158542],\n",
       "       [ 7.42841458, 92.57158542],\n",
       "       [83.76836555, 16.23163445],\n",
       "       [83.76836555, 16.23163445],\n",
       "       [83.76836555, 16.23163445],\n",
       "       [ 7.42841458, 92.57158542],\n",
       "       [ 7.42841458, 92.57158542],\n",
       "       [ 7.42841458, 92.57158542],\n",
       "       [83.76836555, 16.23163445],\n",
       "       [ 7.42841458, 92.57158542],\n",
       "       [83.76836555, 16.23163445],\n",
       "       [ 7.42841458, 92.57158542],\n",
       "       [ 7.42841458, 92.57158542],\n",
       "       [83.76836555, 16.23163445],\n",
       "       [83.76836555, 16.23163445],\n",
       "       [83.76836555, 16.23163445],\n",
       "       [ 7.42841458, 92.57158542],\n",
       "       [ 7.42841458, 92.57158542],\n",
       "       [83.76836555, 16.23163445],\n",
       "       [ 7.42841458, 92.57158542],\n",
       "       [ 7.42841458, 92.57158542],\n",
       "       [ 7.42841458, 92.57158542],\n",
       "       [83.76836555, 16.23163445],\n",
       "       [ 7.42841458, 92.57158542],\n",
       "       [83.76836555, 16.23163445],\n",
       "       [ 7.42841458, 92.57158542],\n",
       "       [ 7.42841458, 92.57158542],\n",
       "       [ 7.42841458, 92.57158542],\n",
       "       [ 7.42841458, 92.57158542],\n",
       "       [ 7.42841458, 92.57158542],\n",
       "       [ 7.42841458, 92.57158542],\n",
       "       [83.76836555, 16.23163445],\n",
       "       [83.76836555, 16.23163445],\n",
       "       [ 7.42841458, 92.57158542],\n",
       "       [ 7.42841458, 92.57158542],\n",
       "       [ 7.42841458, 92.57158542],\n",
       "       [ 7.42841458, 92.57158542],\n",
       "       [ 7.42841458, 92.57158542],\n",
       "       [ 7.42841458, 92.57158542],\n",
       "       [83.76836555, 16.23163445],\n",
       "       [83.76836555, 16.23163445],\n",
       "       [ 7.42841458, 92.57158542],\n",
       "       [ 7.42841458, 92.57158542],\n",
       "       [83.76836555, 16.23163445],\n",
       "       [83.76836555, 16.23163445],\n",
       "       [ 7.42841458, 92.57158542],\n",
       "       [83.76836555, 16.23163445],\n",
       "       [ 7.42841458, 92.57158542],\n",
       "       [ 7.42841458, 92.57158542],\n",
       "       [ 7.42841458, 92.57158542],\n",
       "       [ 7.42841458, 92.57158542],\n",
       "       [83.76836555, 16.23163445],\n",
       "       [83.76836555, 16.23163445],\n",
       "       [ 7.42841458, 92.57158542],\n",
       "       [ 7.42841458, 92.57158542],\n",
       "       [83.76836555, 16.23163445],\n",
       "       [ 7.42841458, 92.57158542],\n",
       "       [ 7.42841458, 92.57158542],\n",
       "       [ 7.42841458, 92.57158542],\n",
       "       [ 7.42841458, 92.57158542],\n",
       "       [ 7.42841458, 92.57158542],\n",
       "       [ 7.42841458, 92.57158542],\n",
       "       [ 7.42841458, 92.57158542],\n",
       "       [ 7.42841458, 92.57158542],\n",
       "       [ 7.42841458, 92.57158542],\n",
       "       [ 7.42841458, 92.57158542],\n",
       "       [ 7.42841458, 92.57158542],\n",
       "       [ 7.42841458, 92.57158542],\n",
       "       [ 7.42841458, 92.57158542],\n",
       "       [ 7.42841458, 92.57158542],\n",
       "       [ 7.42841458, 92.57158542],\n",
       "       [ 7.42841458, 92.57158542],\n",
       "       [ 7.42841458, 92.57158542],\n",
       "       [ 7.42841458, 92.57158542],\n",
       "       [ 7.42841458, 92.57158542],\n",
       "       [ 7.42841458, 92.57158542],\n",
       "       [ 7.42841458, 92.57158542],\n",
       "       [83.76836555, 16.23163445],\n",
       "       [ 7.42841458, 92.57158542],\n",
       "       [83.76836555, 16.23163445],\n",
       "       [ 7.42841458, 92.57158542],\n",
       "       [83.76836555, 16.23163445],\n",
       "       [83.76836555, 16.23163445],\n",
       "       [83.76836555, 16.23163445],\n",
       "       [ 7.42841458, 92.57158542],\n",
       "       [ 7.42841458, 92.57158542],\n",
       "       [ 7.42841458, 92.57158542],\n",
       "       [ 7.42841458, 92.57158542],\n",
       "       [ 7.42841458, 92.57158542],\n",
       "       [ 7.42841458, 92.57158542],\n",
       "       [83.76836555, 16.23163445],\n",
       "       [83.76836555, 16.23163445],\n",
       "       [ 7.42841458, 92.57158542],\n",
       "       [ 7.42841458, 92.57158542],\n",
       "       [ 7.42841458, 92.57158542],\n",
       "       [ 7.42841458, 92.57158542],\n",
       "       [83.76836555, 16.23163445],\n",
       "       [ 7.42841458, 92.57158542],\n",
       "       [ 7.42841458, 92.57158542],\n",
       "       [ 7.42841458, 92.57158542],\n",
       "       [ 7.42841458, 92.57158542],\n",
       "       [ 7.42841458, 92.57158542],\n",
       "       [ 7.42841458, 92.57158542],\n",
       "       [ 7.42841458, 92.57158542],\n",
       "       [ 7.42841458, 92.57158542],\n",
       "       [ 7.42841458, 92.57158542],\n",
       "       [83.76836555, 16.23163445],\n",
       "       [ 7.42841458, 92.57158542],\n",
       "       [83.76836555, 16.23163445],\n",
       "       [ 7.42841458, 92.57158542],\n",
       "       [83.76836555, 16.23163445],\n",
       "       [83.76836555, 16.23163445]])"
      ]
     },
     "execution_count": 45,
     "metadata": {},
     "output_type": "execute_result"
    }
   ],
   "source": [
    "lightClf.predict_proba(X_teste, num_iteration=14) * 100"
   ]
  },
  {
   "cell_type": "code",
   "execution_count": null,
   "id": "16930f20",
   "metadata": {},
   "outputs": [],
   "source": []
  }
 ],
 "metadata": {
  "kernelspec": {
   "display_name": "Python 3 (ipykernel)",
   "language": "python",
   "name": "python3"
  },
  "language_info": {
   "codemirror_mode": {
    "name": "ipython",
    "version": 3
   },
   "file_extension": ".py",
   "mimetype": "text/x-python",
   "name": "python",
   "nbconvert_exporter": "python",
   "pygments_lexer": "ipython3",
   "version": "3.10.11"
  },
  "varInspector": {
   "cols": {
    "lenName": 16,
    "lenType": 16,
    "lenVar": 40
   },
   "kernels_config": {
    "python": {
     "delete_cmd_postfix": "",
     "delete_cmd_prefix": "del ",
     "library": "var_list.py",
     "varRefreshCmd": "print(var_dic_list())"
    },
    "r": {
     "delete_cmd_postfix": ") ",
     "delete_cmd_prefix": "rm(",
     "library": "var_list.r",
     "varRefreshCmd": "cat(var_dic_list()) "
    }
   },
   "types_to_exclude": [
    "module",
    "function",
    "builtin_function_or_method",
    "instance",
    "_Feature"
   ],
   "window_display": false
  }
 },
 "nbformat": 4,
 "nbformat_minor": 5
}
