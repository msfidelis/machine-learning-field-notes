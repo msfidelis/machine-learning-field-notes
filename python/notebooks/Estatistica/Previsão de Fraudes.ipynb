{
 "cells": [
  {
   "cell_type": "markdown",
   "id": "0067cd99",
   "metadata": {},
   "source": [
    "# Setup"
   ]
  },
  {
   "cell_type": "code",
   "execution_count": 1,
   "id": "c5b3c92c",
   "metadata": {},
   "outputs": [],
   "source": [
    "import pandas as pd\n",
    "import matplotlib.pyplot as plt\n",
    "import numpy as np\n",
    "from sklearn.linear_model import LogisticRegression\n",
    "from sklearn.model_selection import train_test_split\n",
    "from sklearn.metrics import accuracy_score\n",
    "from imblearn.over_sampling import SMOTE\n",
    "from sklearn.preprocessing import StandardScaler"
   ]
  },
  {
   "cell_type": "code",
   "execution_count": 2,
   "id": "7f4c84cd",
   "metadata": {},
   "outputs": [],
   "source": [
    "df = pd.read_csv(\"datasets/transactions.csv\")"
   ]
  },
  {
   "cell_type": "code",
   "execution_count": 3,
   "id": "8948cc79",
   "metadata": {
    "scrolled": false
   },
   "outputs": [
    {
     "data": {
      "text/html": [
       "<div>\n",
       "<style scoped>\n",
       "    .dataframe tbody tr th:only-of-type {\n",
       "        vertical-align: middle;\n",
       "    }\n",
       "\n",
       "    .dataframe tbody tr th {\n",
       "        vertical-align: top;\n",
       "    }\n",
       "\n",
       "    .dataframe thead th {\n",
       "        text-align: right;\n",
       "    }\n",
       "</style>\n",
       "<table border=\"1\" class=\"dataframe\">\n",
       "  <thead>\n",
       "    <tr style=\"text-align: right;\">\n",
       "      <th></th>\n",
       "      <th>Unnamed: 0</th>\n",
       "      <th>TRANSACTION_ID</th>\n",
       "      <th>TX_DATETIME</th>\n",
       "      <th>CUSTOMER_ID</th>\n",
       "      <th>TERMINAL_ID</th>\n",
       "      <th>TX_AMOUNT</th>\n",
       "      <th>TX_TIME_SECONDS</th>\n",
       "      <th>TX_TIME_DAYS</th>\n",
       "      <th>TX_FRAUD</th>\n",
       "      <th>TX_FRAUD_SCENARIO</th>\n",
       "    </tr>\n",
       "  </thead>\n",
       "  <tbody>\n",
       "    <tr>\n",
       "      <th>0</th>\n",
       "      <td>0</td>\n",
       "      <td>0</td>\n",
       "      <td>2023-01-01 00:00:31</td>\n",
       "      <td>596</td>\n",
       "      <td>3156</td>\n",
       "      <td>533.07</td>\n",
       "      <td>31</td>\n",
       "      <td>0</td>\n",
       "      <td>0</td>\n",
       "      <td>0</td>\n",
       "    </tr>\n",
       "    <tr>\n",
       "      <th>1</th>\n",
       "      <td>1</td>\n",
       "      <td>1</td>\n",
       "      <td>2023-01-01 00:02:10</td>\n",
       "      <td>4961</td>\n",
       "      <td>3412</td>\n",
       "      <td>808.56</td>\n",
       "      <td>130</td>\n",
       "      <td>0</td>\n",
       "      <td>0</td>\n",
       "      <td>0</td>\n",
       "    </tr>\n",
       "    <tr>\n",
       "      <th>2</th>\n",
       "      <td>2</td>\n",
       "      <td>2</td>\n",
       "      <td>2023-01-01 00:07:56</td>\n",
       "      <td>2</td>\n",
       "      <td>1365</td>\n",
       "      <td>1442.94</td>\n",
       "      <td>476</td>\n",
       "      <td>0</td>\n",
       "      <td>1</td>\n",
       "      <td>1</td>\n",
       "    </tr>\n",
       "    <tr>\n",
       "      <th>3</th>\n",
       "      <td>3</td>\n",
       "      <td>3</td>\n",
       "      <td>2023-01-01 00:09:29</td>\n",
       "      <td>4128</td>\n",
       "      <td>8737</td>\n",
       "      <td>620.65</td>\n",
       "      <td>569</td>\n",
       "      <td>0</td>\n",
       "      <td>0</td>\n",
       "      <td>0</td>\n",
       "    </tr>\n",
       "    <tr>\n",
       "      <th>4</th>\n",
       "      <td>4</td>\n",
       "      <td>4</td>\n",
       "      <td>2023-01-01 00:10:34</td>\n",
       "      <td>927</td>\n",
       "      <td>9906</td>\n",
       "      <td>490.66</td>\n",
       "      <td>634</td>\n",
       "      <td>0</td>\n",
       "      <td>0</td>\n",
       "      <td>0</td>\n",
       "    </tr>\n",
       "  </tbody>\n",
       "</table>\n",
       "</div>"
      ],
      "text/plain": [
       "   Unnamed: 0  TRANSACTION_ID          TX_DATETIME  CUSTOMER_ID  TERMINAL_ID  \\\n",
       "0           0               0  2023-01-01 00:00:31          596         3156   \n",
       "1           1               1  2023-01-01 00:02:10         4961         3412   \n",
       "2           2               2  2023-01-01 00:07:56            2         1365   \n",
       "3           3               3  2023-01-01 00:09:29         4128         8737   \n",
       "4           4               4  2023-01-01 00:10:34          927         9906   \n",
       "\n",
       "   TX_AMOUNT  TX_TIME_SECONDS  TX_TIME_DAYS  TX_FRAUD  TX_FRAUD_SCENARIO  \n",
       "0     533.07               31             0         0                  0  \n",
       "1     808.56              130             0         0                  0  \n",
       "2    1442.94              476             0         1                  1  \n",
       "3     620.65              569             0         0                  0  \n",
       "4     490.66              634             0         0                  0  "
      ]
     },
     "execution_count": 3,
     "metadata": {},
     "output_type": "execute_result"
    }
   ],
   "source": [
    "df.head()"
   ]
  },
  {
   "cell_type": "markdown",
   "id": "804a9be5",
   "metadata": {},
   "source": [
    "#### Deleting Unnamed Column\n",
    "* Deleting first column"
   ]
  },
  {
   "cell_type": "code",
   "execution_count": 4,
   "id": "fbfb9db1",
   "metadata": {},
   "outputs": [],
   "source": [
    "del df[df.columns[0]]"
   ]
  },
  {
   "cell_type": "code",
   "execution_count": 5,
   "id": "156c48dd",
   "metadata": {},
   "outputs": [
    {
     "data": {
      "text/html": [
       "<div>\n",
       "<style scoped>\n",
       "    .dataframe tbody tr th:only-of-type {\n",
       "        vertical-align: middle;\n",
       "    }\n",
       "\n",
       "    .dataframe tbody tr th {\n",
       "        vertical-align: top;\n",
       "    }\n",
       "\n",
       "    .dataframe thead th {\n",
       "        text-align: right;\n",
       "    }\n",
       "</style>\n",
       "<table border=\"1\" class=\"dataframe\">\n",
       "  <thead>\n",
       "    <tr style=\"text-align: right;\">\n",
       "      <th></th>\n",
       "      <th>TRANSACTION_ID</th>\n",
       "      <th>TX_DATETIME</th>\n",
       "      <th>CUSTOMER_ID</th>\n",
       "      <th>TERMINAL_ID</th>\n",
       "      <th>TX_AMOUNT</th>\n",
       "      <th>TX_TIME_SECONDS</th>\n",
       "      <th>TX_TIME_DAYS</th>\n",
       "      <th>TX_FRAUD</th>\n",
       "      <th>TX_FRAUD_SCENARIO</th>\n",
       "    </tr>\n",
       "  </thead>\n",
       "  <tbody>\n",
       "    <tr>\n",
       "      <th>0</th>\n",
       "      <td>0</td>\n",
       "      <td>2023-01-01 00:00:31</td>\n",
       "      <td>596</td>\n",
       "      <td>3156</td>\n",
       "      <td>533.07</td>\n",
       "      <td>31</td>\n",
       "      <td>0</td>\n",
       "      <td>0</td>\n",
       "      <td>0</td>\n",
       "    </tr>\n",
       "    <tr>\n",
       "      <th>1</th>\n",
       "      <td>1</td>\n",
       "      <td>2023-01-01 00:02:10</td>\n",
       "      <td>4961</td>\n",
       "      <td>3412</td>\n",
       "      <td>808.56</td>\n",
       "      <td>130</td>\n",
       "      <td>0</td>\n",
       "      <td>0</td>\n",
       "      <td>0</td>\n",
       "    </tr>\n",
       "    <tr>\n",
       "      <th>2</th>\n",
       "      <td>2</td>\n",
       "      <td>2023-01-01 00:07:56</td>\n",
       "      <td>2</td>\n",
       "      <td>1365</td>\n",
       "      <td>1442.94</td>\n",
       "      <td>476</td>\n",
       "      <td>0</td>\n",
       "      <td>1</td>\n",
       "      <td>1</td>\n",
       "    </tr>\n",
       "    <tr>\n",
       "      <th>3</th>\n",
       "      <td>3</td>\n",
       "      <td>2023-01-01 00:09:29</td>\n",
       "      <td>4128</td>\n",
       "      <td>8737</td>\n",
       "      <td>620.65</td>\n",
       "      <td>569</td>\n",
       "      <td>0</td>\n",
       "      <td>0</td>\n",
       "      <td>0</td>\n",
       "    </tr>\n",
       "    <tr>\n",
       "      <th>4</th>\n",
       "      <td>4</td>\n",
       "      <td>2023-01-01 00:10:34</td>\n",
       "      <td>927</td>\n",
       "      <td>9906</td>\n",
       "      <td>490.66</td>\n",
       "      <td>634</td>\n",
       "      <td>0</td>\n",
       "      <td>0</td>\n",
       "      <td>0</td>\n",
       "    </tr>\n",
       "  </tbody>\n",
       "</table>\n",
       "</div>"
      ],
      "text/plain": [
       "   TRANSACTION_ID          TX_DATETIME  CUSTOMER_ID  TERMINAL_ID  TX_AMOUNT  \\\n",
       "0               0  2023-01-01 00:00:31          596         3156     533.07   \n",
       "1               1  2023-01-01 00:02:10         4961         3412     808.56   \n",
       "2               2  2023-01-01 00:07:56            2         1365    1442.94   \n",
       "3               3  2023-01-01 00:09:29         4128         8737     620.65   \n",
       "4               4  2023-01-01 00:10:34          927         9906     490.66   \n",
       "\n",
       "   TX_TIME_SECONDS  TX_TIME_DAYS  TX_FRAUD  TX_FRAUD_SCENARIO  \n",
       "0               31             0         0                  0  \n",
       "1              130             0         0                  0  \n",
       "2              476             0         1                  1  \n",
       "3              569             0         0                  0  \n",
       "4              634             0         0                  0  "
      ]
     },
     "execution_count": 5,
     "metadata": {},
     "output_type": "execute_result"
    }
   ],
   "source": [
    "df.head()"
   ]
  },
  {
   "cell_type": "markdown",
   "id": "5ba6c06f",
   "metadata": {},
   "source": [
    "# Exploratory Analysis"
   ]
  },
  {
   "cell_type": "code",
   "execution_count": 6,
   "id": "cb6b09d8",
   "metadata": {},
   "outputs": [
    {
     "name": "stdout",
     "output_type": "stream",
     "text": [
      "<class 'pandas.core.frame.DataFrame'>\n",
      "RangeIndex: 954155 entries, 0 to 954154\n",
      "Data columns (total 9 columns):\n",
      " #   Column             Non-Null Count   Dtype  \n",
      "---  ------             --------------   -----  \n",
      " 0   TRANSACTION_ID     954155 non-null  int64  \n",
      " 1   TX_DATETIME        954155 non-null  object \n",
      " 2   CUSTOMER_ID        954155 non-null  int64  \n",
      " 3   TERMINAL_ID        954155 non-null  int64  \n",
      " 4   TX_AMOUNT          954155 non-null  float64\n",
      " 5   TX_TIME_SECONDS    954155 non-null  int64  \n",
      " 6   TX_TIME_DAYS       954155 non-null  int64  \n",
      " 7   TX_FRAUD           954155 non-null  int64  \n",
      " 8   TX_FRAUD_SCENARIO  954155 non-null  int64  \n",
      "dtypes: float64(1), int64(7), object(1)\n",
      "memory usage: 65.5+ MB\n"
     ]
    }
   ],
   "source": [
    "df.info()"
   ]
  },
  {
   "cell_type": "code",
   "execution_count": 7,
   "id": "83d1f565",
   "metadata": {
    "scrolled": true
   },
   "outputs": [
    {
     "data": {
      "text/html": [
       "<div>\n",
       "<style scoped>\n",
       "    .dataframe tbody tr th:only-of-type {\n",
       "        vertical-align: middle;\n",
       "    }\n",
       "\n",
       "    .dataframe tbody tr th {\n",
       "        vertical-align: top;\n",
       "    }\n",
       "\n",
       "    .dataframe thead th {\n",
       "        text-align: right;\n",
       "    }\n",
       "</style>\n",
       "<table border=\"1\" class=\"dataframe\">\n",
       "  <thead>\n",
       "    <tr style=\"text-align: right;\">\n",
       "      <th></th>\n",
       "      <th>TRANSACTION_ID</th>\n",
       "      <th>CUSTOMER_ID</th>\n",
       "      <th>TERMINAL_ID</th>\n",
       "      <th>TX_AMOUNT</th>\n",
       "      <th>TX_TIME_SECONDS</th>\n",
       "      <th>TX_TIME_DAYS</th>\n",
       "      <th>TX_FRAUD</th>\n",
       "      <th>TX_FRAUD_SCENARIO</th>\n",
       "    </tr>\n",
       "  </thead>\n",
       "  <tbody>\n",
       "    <tr>\n",
       "      <th>count</th>\n",
       "      <td>954155.000000</td>\n",
       "      <td>954155.000000</td>\n",
       "      <td>954155.000000</td>\n",
       "      <td>954155.000000</td>\n",
       "      <td>9.541550e+05</td>\n",
       "      <td>954155.000000</td>\n",
       "      <td>954155.000000</td>\n",
       "      <td>954155.000000</td>\n",
       "    </tr>\n",
       "    <tr>\n",
       "      <th>mean</th>\n",
       "      <td>477077.000000</td>\n",
       "      <td>2504.415626</td>\n",
       "      <td>4997.540207</td>\n",
       "      <td>537.708275</td>\n",
       "      <td>4.296716e+06</td>\n",
       "      <td>49.231433</td>\n",
       "      <td>0.133886</td>\n",
       "      <td>0.143796</td>\n",
       "    </tr>\n",
       "    <tr>\n",
       "      <th>std</th>\n",
       "      <td>275440.967387</td>\n",
       "      <td>1445.805839</td>\n",
       "      <td>2886.152602</td>\n",
       "      <td>878.083762</td>\n",
       "      <td>2.481134e+06</td>\n",
       "      <td>28.717332</td>\n",
       "      <td>0.340530</td>\n",
       "      <td>0.384762</td>\n",
       "    </tr>\n",
       "    <tr>\n",
       "      <th>min</th>\n",
       "      <td>0.000000</td>\n",
       "      <td>0.000000</td>\n",
       "      <td>0.000000</td>\n",
       "      <td>0.000000</td>\n",
       "      <td>3.100000e+01</td>\n",
       "      <td>0.000000</td>\n",
       "      <td>0.000000</td>\n",
       "      <td>0.000000</td>\n",
       "    </tr>\n",
       "    <tr>\n",
       "      <th>25%</th>\n",
       "      <td>238538.500000</td>\n",
       "      <td>1252.000000</td>\n",
       "      <td>2502.000000</td>\n",
       "      <td>180.050000</td>\n",
       "      <td>2.137039e+06</td>\n",
       "      <td>24.000000</td>\n",
       "      <td>0.000000</td>\n",
       "      <td>0.000000</td>\n",
       "    </tr>\n",
       "    <tr>\n",
       "      <th>50%</th>\n",
       "      <td>477077.000000</td>\n",
       "      <td>2506.000000</td>\n",
       "      <td>4994.000000</td>\n",
       "      <td>422.150000</td>\n",
       "      <td>4.285684e+06</td>\n",
       "      <td>49.000000</td>\n",
       "      <td>0.000000</td>\n",
       "      <td>0.000000</td>\n",
       "    </tr>\n",
       "    <tr>\n",
       "      <th>75%</th>\n",
       "      <td>715615.500000</td>\n",
       "      <td>3765.000000</td>\n",
       "      <td>7496.000000</td>\n",
       "      <td>750.675000</td>\n",
       "      <td>6.442178e+06</td>\n",
       "      <td>74.000000</td>\n",
       "      <td>0.000000</td>\n",
       "      <td>0.000000</td>\n",
       "    </tr>\n",
       "    <tr>\n",
       "      <th>max</th>\n",
       "      <td>954154.000000</td>\n",
       "      <td>4999.000000</td>\n",
       "      <td>9999.000000</td>\n",
       "      <td>77212.500000</td>\n",
       "      <td>8.594915e+06</td>\n",
       "      <td>99.000000</td>\n",
       "      <td>1.000000</td>\n",
       "      <td>3.000000</td>\n",
       "    </tr>\n",
       "  </tbody>\n",
       "</table>\n",
       "</div>"
      ],
      "text/plain": [
       "       TRANSACTION_ID    CUSTOMER_ID    TERMINAL_ID      TX_AMOUNT  \\\n",
       "count   954155.000000  954155.000000  954155.000000  954155.000000   \n",
       "mean    477077.000000    2504.415626    4997.540207     537.708275   \n",
       "std     275440.967387    1445.805839    2886.152602     878.083762   \n",
       "min          0.000000       0.000000       0.000000       0.000000   \n",
       "25%     238538.500000    1252.000000    2502.000000     180.050000   \n",
       "50%     477077.000000    2506.000000    4994.000000     422.150000   \n",
       "75%     715615.500000    3765.000000    7496.000000     750.675000   \n",
       "max     954154.000000    4999.000000    9999.000000   77212.500000   \n",
       "\n",
       "       TX_TIME_SECONDS   TX_TIME_DAYS       TX_FRAUD  TX_FRAUD_SCENARIO  \n",
       "count     9.541550e+05  954155.000000  954155.000000      954155.000000  \n",
       "mean      4.296716e+06      49.231433       0.133886           0.143796  \n",
       "std       2.481134e+06      28.717332       0.340530           0.384762  \n",
       "min       3.100000e+01       0.000000       0.000000           0.000000  \n",
       "25%       2.137039e+06      24.000000       0.000000           0.000000  \n",
       "50%       4.285684e+06      49.000000       0.000000           0.000000  \n",
       "75%       6.442178e+06      74.000000       0.000000           0.000000  \n",
       "max       8.594915e+06      99.000000       1.000000           3.000000  "
      ]
     },
     "execution_count": 7,
     "metadata": {},
     "output_type": "execute_result"
    }
   ],
   "source": [
    "df.describe()"
   ]
  },
  {
   "cell_type": "markdown",
   "id": "82dfdc5a",
   "metadata": {},
   "source": [
    "#### Checking Null Values"
   ]
  },
  {
   "cell_type": "code",
   "execution_count": 8,
   "id": "bc44cf96",
   "metadata": {},
   "outputs": [
    {
     "data": {
      "text/plain": [
       "TRANSACTION_ID       0\n",
       "TX_DATETIME          0\n",
       "CUSTOMER_ID          0\n",
       "TERMINAL_ID          0\n",
       "TX_AMOUNT            0\n",
       "TX_TIME_SECONDS      0\n",
       "TX_TIME_DAYS         0\n",
       "TX_FRAUD             0\n",
       "TX_FRAUD_SCENARIO    0\n",
       "dtype: int64"
      ]
     },
     "execution_count": 8,
     "metadata": {},
     "output_type": "execute_result"
    }
   ],
   "source": [
    "df.isnull().sum()"
   ]
  },
  {
   "cell_type": "markdown",
   "id": "c8165b86",
   "metadata": {},
   "source": [
    "#### Checking Variables Correlations"
   ]
  },
  {
   "cell_type": "code",
   "execution_count": 9,
   "id": "f95c4732",
   "metadata": {},
   "outputs": [
    {
     "name": "stderr",
     "output_type": "stream",
     "text": [
      "/var/folders/ht/zw2nx83j6w387qgthkq66lg80000gn/T/ipykernel_8039/543879950.py:1: FutureWarning: The default value of numeric_only in DataFrame.corr is deprecated. In a future version, it will default to False. Select only valid columns or specify the value of numeric_only to silence this warning.\n",
      "  df.corr().style.background_gradient(cmap='coolwarm')\n"
     ]
    },
    {
     "data": {
      "text/html": [
       "<style type=\"text/css\">\n",
       "#T_9840d_row0_col0, #T_9840d_row0_col4, #T_9840d_row0_col5, #T_9840d_row1_col1, #T_9840d_row2_col2, #T_9840d_row3_col3, #T_9840d_row4_col0, #T_9840d_row4_col4, #T_9840d_row4_col5, #T_9840d_row5_col0, #T_9840d_row5_col4, #T_9840d_row5_col5, #T_9840d_row6_col6, #T_9840d_row7_col7 {\n",
       "  background-color: #b40426;\n",
       "  color: #f1f1f1;\n",
       "}\n",
       "#T_9840d_row0_col1, #T_9840d_row0_col2, #T_9840d_row0_col3, #T_9840d_row1_col0, #T_9840d_row1_col3, #T_9840d_row1_col4, #T_9840d_row1_col5, #T_9840d_row2_col0, #T_9840d_row2_col1, #T_9840d_row2_col3, #T_9840d_row2_col4, #T_9840d_row2_col5, #T_9840d_row2_col6, #T_9840d_row2_col7, #T_9840d_row3_col0, #T_9840d_row3_col1, #T_9840d_row3_col2, #T_9840d_row3_col4, #T_9840d_row3_col5, #T_9840d_row4_col1, #T_9840d_row4_col2, #T_9840d_row4_col3, #T_9840d_row5_col1, #T_9840d_row5_col2, #T_9840d_row5_col3, #T_9840d_row6_col2, #T_9840d_row7_col1, #T_9840d_row7_col2 {\n",
       "  background-color: #3b4cc0;\n",
       "  color: #f1f1f1;\n",
       "}\n",
       "#T_9840d_row0_col6, #T_9840d_row1_col2, #T_9840d_row1_col6, #T_9840d_row1_col7, #T_9840d_row4_col6, #T_9840d_row5_col6, #T_9840d_row6_col0, #T_9840d_row6_col1, #T_9840d_row6_col4, #T_9840d_row6_col5 {\n",
       "  background-color: #3c4ec2;\n",
       "  color: #f1f1f1;\n",
       "}\n",
       "#T_9840d_row0_col7, #T_9840d_row4_col7, #T_9840d_row5_col7, #T_9840d_row7_col0, #T_9840d_row7_col4, #T_9840d_row7_col5 {\n",
       "  background-color: #3d50c3;\n",
       "  color: #f1f1f1;\n",
       "}\n",
       "#T_9840d_row3_col6, #T_9840d_row6_col3 {\n",
       "  background-color: #c5d6f2;\n",
       "  color: #000000;\n",
       "}\n",
       "#T_9840d_row3_col7, #T_9840d_row7_col3 {\n",
       "  background-color: #e9d5cb;\n",
       "  color: #000000;\n",
       "}\n",
       "#T_9840d_row6_col7, #T_9840d_row7_col6 {\n",
       "  background-color: #c53334;\n",
       "  color: #f1f1f1;\n",
       "}\n",
       "</style>\n",
       "<table id=\"T_9840d\">\n",
       "  <thead>\n",
       "    <tr>\n",
       "      <th class=\"blank level0\" >&nbsp;</th>\n",
       "      <th id=\"T_9840d_level0_col0\" class=\"col_heading level0 col0\" >TRANSACTION_ID</th>\n",
       "      <th id=\"T_9840d_level0_col1\" class=\"col_heading level0 col1\" >CUSTOMER_ID</th>\n",
       "      <th id=\"T_9840d_level0_col2\" class=\"col_heading level0 col2\" >TERMINAL_ID</th>\n",
       "      <th id=\"T_9840d_level0_col3\" class=\"col_heading level0 col3\" >TX_AMOUNT</th>\n",
       "      <th id=\"T_9840d_level0_col4\" class=\"col_heading level0 col4\" >TX_TIME_SECONDS</th>\n",
       "      <th id=\"T_9840d_level0_col5\" class=\"col_heading level0 col5\" >TX_TIME_DAYS</th>\n",
       "      <th id=\"T_9840d_level0_col6\" class=\"col_heading level0 col6\" >TX_FRAUD</th>\n",
       "      <th id=\"T_9840d_level0_col7\" class=\"col_heading level0 col7\" >TX_FRAUD_SCENARIO</th>\n",
       "    </tr>\n",
       "  </thead>\n",
       "  <tbody>\n",
       "    <tr>\n",
       "      <th id=\"T_9840d_level0_row0\" class=\"row_heading level0 row0\" >TRANSACTION_ID</th>\n",
       "      <td id=\"T_9840d_row0_col0\" class=\"data row0 col0\" >1.000000</td>\n",
       "      <td id=\"T_9840d_row0_col1\" class=\"data row0 col1\" >-0.000369</td>\n",
       "      <td id=\"T_9840d_row0_col2\" class=\"data row0 col2\" >-0.001646</td>\n",
       "      <td id=\"T_9840d_row0_col3\" class=\"data row0 col3\" >0.001490</td>\n",
       "      <td id=\"T_9840d_row0_col4\" class=\"data row0 col4\" >0.999995</td>\n",
       "      <td id=\"T_9840d_row0_col5\" class=\"data row0 col5\" >0.999949</td>\n",
       "      <td id=\"T_9840d_row0_col6\" class=\"data row0 col6\" >0.002757</td>\n",
       "      <td id=\"T_9840d_row0_col7\" class=\"data row0 col7\" >0.006346</td>\n",
       "    </tr>\n",
       "    <tr>\n",
       "      <th id=\"T_9840d_level0_row1\" class=\"row_heading level0 row1\" >CUSTOMER_ID</th>\n",
       "      <td id=\"T_9840d_row1_col0\" class=\"data row1 col0\" >-0.000369</td>\n",
       "      <td id=\"T_9840d_row1_col1\" class=\"data row1 col1\" >1.000000</td>\n",
       "      <td id=\"T_9840d_row1_col2\" class=\"data row1 col2\" >-0.000090</td>\n",
       "      <td id=\"T_9840d_row1_col3\" class=\"data row1 col3\" >-0.000905</td>\n",
       "      <td id=\"T_9840d_row1_col4\" class=\"data row1 col4\" >-0.000372</td>\n",
       "      <td id=\"T_9840d_row1_col5\" class=\"data row1 col5\" >-0.000378</td>\n",
       "      <td id=\"T_9840d_row1_col6\" class=\"data row1 col6\" >0.003939</td>\n",
       "      <td id=\"T_9840d_row1_col7\" class=\"data row1 col7\" >0.002794</td>\n",
       "    </tr>\n",
       "    <tr>\n",
       "      <th id=\"T_9840d_level0_row2\" class=\"row_heading level0 row2\" >TERMINAL_ID</th>\n",
       "      <td id=\"T_9840d_row2_col0\" class=\"data row2 col0\" >-0.001646</td>\n",
       "      <td id=\"T_9840d_row2_col1\" class=\"data row2 col1\" >-0.000090</td>\n",
       "      <td id=\"T_9840d_row2_col2\" class=\"data row2 col2\" >1.000000</td>\n",
       "      <td id=\"T_9840d_row2_col3\" class=\"data row2 col3\" >-0.001314</td>\n",
       "      <td id=\"T_9840d_row2_col4\" class=\"data row2 col4\" >-0.001643</td>\n",
       "      <td id=\"T_9840d_row2_col5\" class=\"data row2 col5\" >-0.001634</td>\n",
       "      <td id=\"T_9840d_row2_col6\" class=\"data row2 col6\" >-0.002934</td>\n",
       "      <td id=\"T_9840d_row2_col7\" class=\"data row2 col7\" >-0.004463</td>\n",
       "    </tr>\n",
       "    <tr>\n",
       "      <th id=\"T_9840d_level0_row3\" class=\"row_heading level0 row3\" >TX_AMOUNT</th>\n",
       "      <td id=\"T_9840d_row3_col0\" class=\"data row3 col0\" >0.001490</td>\n",
       "      <td id=\"T_9840d_row3_col1\" class=\"data row3 col1\" >-0.000905</td>\n",
       "      <td id=\"T_9840d_row3_col2\" class=\"data row3 col2\" >-0.001314</td>\n",
       "      <td id=\"T_9840d_row3_col3\" class=\"data row3 col3\" >1.000000</td>\n",
       "      <td id=\"T_9840d_row3_col4\" class=\"data row3 col4\" >0.001485</td>\n",
       "      <td id=\"T_9840d_row3_col5\" class=\"data row3 col5\" >0.001482</td>\n",
       "      <td id=\"T_9840d_row3_col6\" class=\"data row3 col6\" >0.415752</td>\n",
       "      <td id=\"T_9840d_row3_col7\" class=\"data row3 col7\" >0.546737</td>\n",
       "    </tr>\n",
       "    <tr>\n",
       "      <th id=\"T_9840d_level0_row4\" class=\"row_heading level0 row4\" >TX_TIME_SECONDS</th>\n",
       "      <td id=\"T_9840d_row4_col0\" class=\"data row4 col0\" >0.999995</td>\n",
       "      <td id=\"T_9840d_row4_col1\" class=\"data row4 col1\" >-0.000372</td>\n",
       "      <td id=\"T_9840d_row4_col2\" class=\"data row4 col2\" >-0.001643</td>\n",
       "      <td id=\"T_9840d_row4_col3\" class=\"data row4 col3\" >0.001485</td>\n",
       "      <td id=\"T_9840d_row4_col4\" class=\"data row4 col4\" >1.000000</td>\n",
       "      <td id=\"T_9840d_row4_col5\" class=\"data row4 col5\" >0.999973</td>\n",
       "      <td id=\"T_9840d_row4_col6\" class=\"data row4 col6\" >0.002758</td>\n",
       "      <td id=\"T_9840d_row4_col7\" class=\"data row4 col7\" >0.006345</td>\n",
       "    </tr>\n",
       "    <tr>\n",
       "      <th id=\"T_9840d_level0_row5\" class=\"row_heading level0 row5\" >TX_TIME_DAYS</th>\n",
       "      <td id=\"T_9840d_row5_col0\" class=\"data row5 col0\" >0.999949</td>\n",
       "      <td id=\"T_9840d_row5_col1\" class=\"data row5 col1\" >-0.000378</td>\n",
       "      <td id=\"T_9840d_row5_col2\" class=\"data row5 col2\" >-0.001634</td>\n",
       "      <td id=\"T_9840d_row5_col3\" class=\"data row5 col3\" >0.001482</td>\n",
       "      <td id=\"T_9840d_row5_col4\" class=\"data row5 col4\" >0.999973</td>\n",
       "      <td id=\"T_9840d_row5_col5\" class=\"data row5 col5\" >1.000000</td>\n",
       "      <td id=\"T_9840d_row5_col6\" class=\"data row5 col6\" >0.002761</td>\n",
       "      <td id=\"T_9840d_row5_col7\" class=\"data row5 col7\" >0.006348</td>\n",
       "    </tr>\n",
       "    <tr>\n",
       "      <th id=\"T_9840d_level0_row6\" class=\"row_heading level0 row6\" >TX_FRAUD</th>\n",
       "      <td id=\"T_9840d_row6_col0\" class=\"data row6 col0\" >0.002757</td>\n",
       "      <td id=\"T_9840d_row6_col1\" class=\"data row6 col1\" >0.003939</td>\n",
       "      <td id=\"T_9840d_row6_col2\" class=\"data row6 col2\" >-0.002934</td>\n",
       "      <td id=\"T_9840d_row6_col3\" class=\"data row6 col3\" >0.415752</td>\n",
       "      <td id=\"T_9840d_row6_col4\" class=\"data row6 col4\" >0.002758</td>\n",
       "      <td id=\"T_9840d_row6_col5\" class=\"data row6 col5\" >0.002761</td>\n",
       "      <td id=\"T_9840d_row6_col6\" class=\"data row6 col6\" >1.000000</td>\n",
       "      <td id=\"T_9840d_row6_col7\" class=\"data row6 col7\" >0.950552</td>\n",
       "    </tr>\n",
       "    <tr>\n",
       "      <th id=\"T_9840d_level0_row7\" class=\"row_heading level0 row7\" >TX_FRAUD_SCENARIO</th>\n",
       "      <td id=\"T_9840d_row7_col0\" class=\"data row7 col0\" >0.006346</td>\n",
       "      <td id=\"T_9840d_row7_col1\" class=\"data row7 col1\" >0.002794</td>\n",
       "      <td id=\"T_9840d_row7_col2\" class=\"data row7 col2\" >-0.004463</td>\n",
       "      <td id=\"T_9840d_row7_col3\" class=\"data row7 col3\" >0.546737</td>\n",
       "      <td id=\"T_9840d_row7_col4\" class=\"data row7 col4\" >0.006345</td>\n",
       "      <td id=\"T_9840d_row7_col5\" class=\"data row7 col5\" >0.006348</td>\n",
       "      <td id=\"T_9840d_row7_col6\" class=\"data row7 col6\" >0.950552</td>\n",
       "      <td id=\"T_9840d_row7_col7\" class=\"data row7 col7\" >1.000000</td>\n",
       "    </tr>\n",
       "  </tbody>\n",
       "</table>\n"
      ],
      "text/plain": [
       "<pandas.io.formats.style.Styler at 0x156b478d0>"
      ]
     },
     "execution_count": 9,
     "metadata": {},
     "output_type": "execute_result"
    }
   ],
   "source": [
    "df.corr().style.background_gradient(cmap='coolwarm')"
   ]
  },
  {
   "cell_type": "code",
   "execution_count": 10,
   "id": "0babd432",
   "metadata": {},
   "outputs": [
    {
     "data": {
      "text/plain": [
       "Index(['TRANSACTION_ID', 'TX_DATETIME', 'CUSTOMER_ID', 'TERMINAL_ID',\n",
       "       'TX_AMOUNT', 'TX_TIME_SECONDS', 'TX_TIME_DAYS', 'TX_FRAUD',\n",
       "       'TX_FRAUD_SCENARIO'],\n",
       "      dtype='object')"
      ]
     },
     "execution_count": 10,
     "metadata": {},
     "output_type": "execute_result"
    }
   ],
   "source": [
    "df.columns"
   ]
  },
  {
   "cell_type": "markdown",
   "id": "293b4c84",
   "metadata": {},
   "source": [
    "#### Using columns to train data\n",
    "* **CUSTOMER_ID** : 2\n",
    "* **TERMINAL_ID** : 3\n",
    "* **TX_AMOUNT** : 4\n",
    "* **TX_TIME_SECONDS** : 5\n",
    "* **TX_TIME_DAYS** : 6"
   ]
  },
  {
   "cell_type": "code",
   "execution_count": 11,
   "id": "086906a0",
   "metadata": {},
   "outputs": [],
   "source": [
    "x=df.iloc[:,[2,3,4,5,6]].values"
   ]
  },
  {
   "cell_type": "code",
   "execution_count": 12,
   "id": "56c6be90",
   "metadata": {},
   "outputs": [
    {
     "data": {
      "text/plain": [
       "array([[5.960000e+02, 3.156000e+03, 5.330700e+02, 3.100000e+01,\n",
       "        0.000000e+00],\n",
       "       [4.961000e+03, 3.412000e+03, 8.085600e+02, 1.300000e+02,\n",
       "        0.000000e+00],\n",
       "       [2.000000e+00, 1.365000e+03, 1.442940e+03, 4.760000e+02,\n",
       "        0.000000e+00],\n",
       "       ...,\n",
       "       [4.799000e+03, 4.767000e+03, 5.711100e+02, 8.594904e+06,\n",
       "        9.900000e+01],\n",
       "       [1.259000e+03, 2.956000e+03, 8.130000e+01, 8.594908e+06,\n",
       "        9.900000e+01],\n",
       "       [2.118000e+03, 7.614000e+03, 6.065500e+02, 8.594915e+06,\n",
       "        9.900000e+01]])"
      ]
     },
     "execution_count": 12,
     "metadata": {},
     "output_type": "execute_result"
    }
   ],
   "source": [
    "x"
   ]
  },
  {
   "cell_type": "code",
   "execution_count": 13,
   "id": "b1d54a33",
   "metadata": {},
   "outputs": [],
   "source": [
    "# x = x[:, np.newaxis]"
   ]
  },
  {
   "cell_type": "code",
   "execution_count": 14,
   "id": "4801be88",
   "metadata": {},
   "outputs": [
    {
     "data": {
      "text/plain": [
       "array([[5.960000e+02, 3.156000e+03, 5.330700e+02, 3.100000e+01,\n",
       "        0.000000e+00],\n",
       "       [4.961000e+03, 3.412000e+03, 8.085600e+02, 1.300000e+02,\n",
       "        0.000000e+00],\n",
       "       [2.000000e+00, 1.365000e+03, 1.442940e+03, 4.760000e+02,\n",
       "        0.000000e+00],\n",
       "       ...,\n",
       "       [4.799000e+03, 4.767000e+03, 5.711100e+02, 8.594904e+06,\n",
       "        9.900000e+01],\n",
       "       [1.259000e+03, 2.956000e+03, 8.130000e+01, 8.594908e+06,\n",
       "        9.900000e+01],\n",
       "       [2.118000e+03, 7.614000e+03, 6.065500e+02, 8.594915e+06,\n",
       "        9.900000e+01]])"
      ]
     },
     "execution_count": 14,
     "metadata": {},
     "output_type": "execute_result"
    }
   ],
   "source": [
    "x"
   ]
  },
  {
   "cell_type": "code",
   "execution_count": 15,
   "id": "45c61c15",
   "metadata": {},
   "outputs": [],
   "source": [
    "y = df.iloc[:,[-2]].values"
   ]
  },
  {
   "cell_type": "code",
   "execution_count": 16,
   "id": "ba94ad6e",
   "metadata": {},
   "outputs": [
    {
     "data": {
      "text/plain": [
       "array([[0],\n",
       "       [0],\n",
       "       [1],\n",
       "       ...,\n",
       "       [0],\n",
       "       [0],\n",
       "       [0]])"
      ]
     },
     "execution_count": 16,
     "metadata": {},
     "output_type": "execute_result"
    }
   ],
   "source": [
    "y"
   ]
  },
  {
   "cell_type": "markdown",
   "id": "3b2a05dc",
   "metadata": {},
   "source": [
    "* **TX_FRAUD** "
   ]
  },
  {
   "cell_type": "markdown",
   "id": "8d9c5ad7",
   "metadata": {},
   "source": [
    "* Transform `y` Matrix in a 1d array"
   ]
  },
  {
   "cell_type": "code",
   "execution_count": 17,
   "id": "f9f2ea8b",
   "metadata": {
    "scrolled": true
   },
   "outputs": [
    {
     "data": {
      "text/plain": [
       "array([[0],\n",
       "       [0],\n",
       "       [1],\n",
       "       ...,\n",
       "       [0],\n",
       "       [0],\n",
       "       [0]])"
      ]
     },
     "execution_count": 17,
     "metadata": {},
     "output_type": "execute_result"
    }
   ],
   "source": [
    "y"
   ]
  },
  {
   "cell_type": "markdown",
   "id": "571f1acf",
   "metadata": {},
   "source": [
    "### Applying Stadard Scale"
   ]
  },
  {
   "cell_type": "code",
   "execution_count": 18,
   "id": "4b1fa9fe",
   "metadata": {},
   "outputs": [],
   "source": [
    "s = SMOTE()\n",
    "x,y = s.fit_resample(x,y)"
   ]
  },
  {
   "cell_type": "code",
   "execution_count": 19,
   "id": "1074e81c",
   "metadata": {},
   "outputs": [],
   "source": [
    "ss = StandardScaler()\n",
    "x = ss.fit_transform(x)"
   ]
  },
  {
   "cell_type": "markdown",
   "id": "f15c0450",
   "metadata": {},
   "source": [
    "## Creating Training and Test Dataset"
   ]
  },
  {
   "cell_type": "code",
   "execution_count": 20,
   "id": "6f7a3173",
   "metadata": {},
   "outputs": [],
   "source": [
    "X_train, X_test, y_train, y_test = train_test_split(x,y ,\n",
    "                                   random_state=11, \n",
    "                                   test_size=0.2, \n",
    "                                   shuffle=True)"
   ]
  },
  {
   "cell_type": "markdown",
   "id": "70621f22",
   "metadata": {},
   "source": [
    "#### Changing y shape to 1d array"
   ]
  },
  {
   "cell_type": "code",
   "execution_count": 21,
   "id": "c7e567a8",
   "metadata": {},
   "outputs": [
    {
     "data": {
      "text/plain": [
       "array([0, 1, 0, ..., 1, 1, 0])"
      ]
     },
     "execution_count": 21,
     "metadata": {},
     "output_type": "execute_result"
    }
   ],
   "source": [
    "y_train"
   ]
  },
  {
   "cell_type": "code",
   "execution_count": 22,
   "id": "4252af29",
   "metadata": {},
   "outputs": [],
   "source": [
    "y_train = np.ravel(y_train)"
   ]
  },
  {
   "cell_type": "code",
   "execution_count": 23,
   "id": "0b934ec6",
   "metadata": {},
   "outputs": [
    {
     "data": {
      "text/plain": [
       "array([0, 1, 0, ..., 1, 1, 0])"
      ]
     },
     "execution_count": 23,
     "metadata": {},
     "output_type": "execute_result"
    }
   ],
   "source": [
    "y_train"
   ]
  },
  {
   "cell_type": "markdown",
   "id": "000a11bb",
   "metadata": {},
   "source": [
    "## Apply Logistic Regression to Predict Frauds"
   ]
  },
  {
   "cell_type": "code",
   "execution_count": 24,
   "id": "37568fc2",
   "metadata": {},
   "outputs": [],
   "source": [
    "model = LogisticRegression()"
   ]
  },
  {
   "cell_type": "code",
   "execution_count": 25,
   "id": "feb727da",
   "metadata": {},
   "outputs": [
    {
     "data": {
      "text/html": [
       "<style>#sk-container-id-1 {color: black;background-color: white;}#sk-container-id-1 pre{padding: 0;}#sk-container-id-1 div.sk-toggleable {background-color: white;}#sk-container-id-1 label.sk-toggleable__label {cursor: pointer;display: block;width: 100%;margin-bottom: 0;padding: 0.3em;box-sizing: border-box;text-align: center;}#sk-container-id-1 label.sk-toggleable__label-arrow:before {content: \"▸\";float: left;margin-right: 0.25em;color: #696969;}#sk-container-id-1 label.sk-toggleable__label-arrow:hover:before {color: black;}#sk-container-id-1 div.sk-estimator:hover label.sk-toggleable__label-arrow:before {color: black;}#sk-container-id-1 div.sk-toggleable__content {max-height: 0;max-width: 0;overflow: hidden;text-align: left;background-color: #f0f8ff;}#sk-container-id-1 div.sk-toggleable__content pre {margin: 0.2em;color: black;border-radius: 0.25em;background-color: #f0f8ff;}#sk-container-id-1 input.sk-toggleable__control:checked~div.sk-toggleable__content {max-height: 200px;max-width: 100%;overflow: auto;}#sk-container-id-1 input.sk-toggleable__control:checked~label.sk-toggleable__label-arrow:before {content: \"▾\";}#sk-container-id-1 div.sk-estimator input.sk-toggleable__control:checked~label.sk-toggleable__label {background-color: #d4ebff;}#sk-container-id-1 div.sk-label input.sk-toggleable__control:checked~label.sk-toggleable__label {background-color: #d4ebff;}#sk-container-id-1 input.sk-hidden--visually {border: 0;clip: rect(1px 1px 1px 1px);clip: rect(1px, 1px, 1px, 1px);height: 1px;margin: -1px;overflow: hidden;padding: 0;position: absolute;width: 1px;}#sk-container-id-1 div.sk-estimator {font-family: monospace;background-color: #f0f8ff;border: 1px dotted black;border-radius: 0.25em;box-sizing: border-box;margin-bottom: 0.5em;}#sk-container-id-1 div.sk-estimator:hover {background-color: #d4ebff;}#sk-container-id-1 div.sk-parallel-item::after {content: \"\";width: 100%;border-bottom: 1px solid gray;flex-grow: 1;}#sk-container-id-1 div.sk-label:hover label.sk-toggleable__label {background-color: #d4ebff;}#sk-container-id-1 div.sk-serial::before {content: \"\";position: absolute;border-left: 1px solid gray;box-sizing: border-box;top: 0;bottom: 0;left: 50%;z-index: 0;}#sk-container-id-1 div.sk-serial {display: flex;flex-direction: column;align-items: center;background-color: white;padding-right: 0.2em;padding-left: 0.2em;position: relative;}#sk-container-id-1 div.sk-item {position: relative;z-index: 1;}#sk-container-id-1 div.sk-parallel {display: flex;align-items: stretch;justify-content: center;background-color: white;position: relative;}#sk-container-id-1 div.sk-item::before, #sk-container-id-1 div.sk-parallel-item::before {content: \"\";position: absolute;border-left: 1px solid gray;box-sizing: border-box;top: 0;bottom: 0;left: 50%;z-index: -1;}#sk-container-id-1 div.sk-parallel-item {display: flex;flex-direction: column;z-index: 1;position: relative;background-color: white;}#sk-container-id-1 div.sk-parallel-item:first-child::after {align-self: flex-end;width: 50%;}#sk-container-id-1 div.sk-parallel-item:last-child::after {align-self: flex-start;width: 50%;}#sk-container-id-1 div.sk-parallel-item:only-child::after {width: 0;}#sk-container-id-1 div.sk-dashed-wrapped {border: 1px dashed gray;margin: 0 0.4em 0.5em 0.4em;box-sizing: border-box;padding-bottom: 0.4em;background-color: white;}#sk-container-id-1 div.sk-label label {font-family: monospace;font-weight: bold;display: inline-block;line-height: 1.2em;}#sk-container-id-1 div.sk-label-container {text-align: center;}#sk-container-id-1 div.sk-container {/* jupyter's `normalize.less` sets `[hidden] { display: none; }` but bootstrap.min.css set `[hidden] { display: none !important; }` so we also need the `!important` here to be able to override the default hidden behavior on the sphinx rendered scikit-learn.org. See: https://github.com/scikit-learn/scikit-learn/issues/21755 */display: inline-block !important;position: relative;}#sk-container-id-1 div.sk-text-repr-fallback {display: none;}</style><div id=\"sk-container-id-1\" class=\"sk-top-container\"><div class=\"sk-text-repr-fallback\"><pre>LogisticRegression()</pre><b>In a Jupyter environment, please rerun this cell to show the HTML representation or trust the notebook. <br />On GitHub, the HTML representation is unable to render, please try loading this page with nbviewer.org.</b></div><div class=\"sk-container\" hidden><div class=\"sk-item\"><div class=\"sk-estimator sk-toggleable\"><input class=\"sk-toggleable__control sk-hidden--visually\" id=\"sk-estimator-id-1\" type=\"checkbox\" checked><label for=\"sk-estimator-id-1\" class=\"sk-toggleable__label sk-toggleable__label-arrow\">LogisticRegression</label><div class=\"sk-toggleable__content\"><pre>LogisticRegression()</pre></div></div></div></div></div>"
      ],
      "text/plain": [
       "LogisticRegression()"
      ]
     },
     "execution_count": 25,
     "metadata": {},
     "output_type": "execute_result"
    }
   ],
   "source": [
    "model.fit(X_train, y_train)"
   ]
  },
  {
   "cell_type": "code",
   "execution_count": 26,
   "id": "bd4099e2",
   "metadata": {},
   "outputs": [
    {
     "data": {
      "text/plain": [
       "array([1, 0, 0, ..., 1, 0, 0])"
      ]
     },
     "execution_count": 26,
     "metadata": {},
     "output_type": "execute_result"
    }
   ],
   "source": [
    "test_predict = model.predict(X_test)\n",
    "test_predict"
   ]
  },
  {
   "cell_type": "markdown",
   "id": "bbdb7eab",
   "metadata": {},
   "source": [
    "#### Testing Model Accuracy"
   ]
  },
  {
   "cell_type": "code",
   "execution_count": 27,
   "id": "c384bea0",
   "metadata": {},
   "outputs": [
    {
     "data": {
      "text/plain": [
       "96.12025544298666"
      ]
     },
     "execution_count": 27,
     "metadata": {},
     "output_type": "execute_result"
    }
   ],
   "source": [
    "accuracy_score(y_test, test_predict) * 100"
   ]
  },
  {
   "cell_type": "markdown",
   "id": "96e91ca6",
   "metadata": {},
   "source": [
    "#### Simulation of Online Transaction "
   ]
  },
  {
   "cell_type": "code",
   "execution_count": 28,
   "id": "73631fa4",
   "metadata": {},
   "outputs": [],
   "source": [
    "online_transaction = [[ 123, 5435, 12030.00, 788, 0 ]]"
   ]
  },
  {
   "cell_type": "code",
   "execution_count": 29,
   "id": "ca33d4d3",
   "metadata": {},
   "outputs": [
    {
     "data": {
      "text/plain": [
       "[[123, 5435, 12030.0, 788, 0]]"
      ]
     },
     "execution_count": 29,
     "metadata": {},
     "output_type": "execute_result"
    }
   ],
   "source": [
    "online_transaction"
   ]
  },
  {
   "cell_type": "code",
   "execution_count": 30,
   "id": "699497cd",
   "metadata": {},
   "outputs": [],
   "source": [
    "online_transaction_scaled = ss.fit_transform(online_transaction)"
   ]
  },
  {
   "cell_type": "code",
   "execution_count": 31,
   "id": "7f6885eb",
   "metadata": {},
   "outputs": [
    {
     "data": {
      "text/plain": [
       "array([[0., 0., 0., 0., 0.]])"
      ]
     },
     "execution_count": 31,
     "metadata": {},
     "output_type": "execute_result"
    }
   ],
   "source": [
    "online_transaction_scaled"
   ]
  },
  {
   "cell_type": "code",
   "execution_count": 32,
   "id": "39d7a717",
   "metadata": {},
   "outputs": [],
   "source": [
    "test_transaction = model.predict(online_transaction_scaled)"
   ]
  },
  {
   "cell_type": "code",
   "execution_count": 33,
   "id": "35c77fff",
   "metadata": {},
   "outputs": [
    {
     "data": {
      "text/plain": [
       "array([1])"
      ]
     },
     "execution_count": 33,
     "metadata": {},
     "output_type": "execute_result"
    }
   ],
   "source": [
    "test_transaction"
   ]
  },
  {
   "cell_type": "markdown",
   "id": "d31655f2",
   "metadata": {},
   "source": [
    "### FRAUD!"
   ]
  },
  {
   "cell_type": "code",
   "execution_count": null,
   "id": "1b944c2c",
   "metadata": {},
   "outputs": [],
   "source": []
  }
 ],
 "metadata": {
  "kernelspec": {
   "display_name": "Python 3 (ipykernel)",
   "language": "python",
   "name": "python3"
  },
  "language_info": {
   "codemirror_mode": {
    "name": "ipython",
    "version": 3
   },
   "file_extension": ".py",
   "mimetype": "text/x-python",
   "name": "python",
   "nbconvert_exporter": "python",
   "pygments_lexer": "ipython3",
   "version": "3.11.1"
  }
 },
 "nbformat": 4,
 "nbformat_minor": 5
}
