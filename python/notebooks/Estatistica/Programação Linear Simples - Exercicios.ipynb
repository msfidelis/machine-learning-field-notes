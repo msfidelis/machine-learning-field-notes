{
 "cells": [
  {
   "cell_type": "markdown",
   "id": "bafd3145-af57-4468-91ca-3fd23f6125bf",
   "metadata": {},
   "source": [
    "# Explicação\n",
    "A programação linear é uma técnica de otimização que busca resolver problemas operacionais com restrições, onde a função objetivo é linear em relação às variáveis de controle. Essa técnica é amplamente utilizada em diversos campos, incluindo a programação da produção, definição de mix de produção, planejamento de investimentos, priorização de atendimento de pedidos, entre outros.\n",
    "\n",
    "A programação linear é uma parte importante da pesquisa operacional, que é um campo do conhecimento que busca auxiliar na tomada de decisões por meio de métodos analíticos. Essa técnica é particularmente útil para resolver problemas que podem ser expressos através de equações lineares.\n",
    "\n",
    "A programação linear funciona identificando uma função objetivo que busca maximizar ou minimizar um determinado parâmetro, dependendo do objetivo do problema. Isso é essencial na definição da qualidade da solução em função das incógnitas encontradas. Além disso, a programação linear é usada para encontrar a forma ótima de alocação de recursos escassos entre atividades que compartilham esses recursos."
   ]
  },
  {
   "cell_type": "markdown",
   "id": "0793e7ed-d99f-4777-a671-ad76e124fa16",
   "metadata": {},
   "source": [
    "# Exercícios"
   ]
  },
  {
   "cell_type": "markdown",
   "id": "1d05e9fd-1ca2-4ad3-95aa-f8b1af921f8a",
   "metadata": {
    "jp-MarkdownHeadingCollapsed": true
   },
   "source": [
    "## 1. Fabrica de Bolos\n",
    "\n",
    "Produção de Bolos: Uma padaria produz dois tipos de bolos: o bolo da floresta negra e o bolo sacripantino. \n",
    "Para fazer um bolo da floresta negra são necessários 9 ovos e 500 gramas de açúcar, enquanto para o sacripantino são necessários 8 ovos e 800 gramas de açúcar. \n",
    "\n",
    "**O objetivo é maximizar o lucro**, dado que a pastelaria tem 10 quilos de açúcar e 144 ovos. As restrições são que a pastelaria não pode exceder suas reservas de açúcar e ovos.\n",
    "\n",
    "Neste caso, a função objetivo é o lucro, que é igual ao preço de venda dos bolos menos o custo de produção dos bolos. Para maximizar o lucro, você precisa resolver o problema de programação linear com a função objetivo sendo a diferença entre o preço de venda dos bolos e o custo de produção dos bolos. Após resolver o problema, você pode calcular o lucro máximo multiplicando o número de bolos da floresta negra produzidos pela diferença entre o preço de venda dos bolos da floresta negra e o custo de produção dos bolos da floresta negra, e fazendo o mesmo para o bolo sacripantino"
   ]
  },
  {
   "cell_type": "code",
   "execution_count": 1,
   "id": "ccfeeeff-d255-4b7d-87e4-0271c1a20cd3",
   "metadata": {},
   "outputs": [],
   "source": [
    "from scipy.optimize import linprog"
   ]
  },
  {
   "cell_type": "code",
   "execution_count": 2,
   "id": "3fde2737-af31-4c3c-a052-23cea9900499",
   "metadata": {},
   "outputs": [],
   "source": [
    "# Preços de venda dos bolos\n",
    "S_bolo_floresta_negra = 20\n",
    "S_bolo_sacripantino = 25"
   ]
  },
  {
   "cell_type": "code",
   "execution_count": 3,
   "id": "d184c401-c043-4049-a26a-3d34447c5e7e",
   "metadata": {},
   "outputs": [],
   "source": [
    "# Custo de produção dos bolos\n",
    "C_bolo_floresta_negra = 10\n",
    "C_bolo_sacripantino = 12"
   ]
  },
  {
   "cell_type": "code",
   "execution_count": 4,
   "id": "4985ea5c-0232-4516-9827-60e2e99b42b0",
   "metadata": {},
   "outputs": [],
   "source": [
    "lucro_floresta_negra = S_bolo_floresta_negra - C_bolo_floresta_negra\n",
    "lucro_sacripantino = S_bolo_sacripantino - C_bolo_sacripantino"
   ]
  },
  {
   "cell_type": "code",
   "execution_count": 5,
   "id": "38eb8383-6138-4828-bb5c-843efa1bef71",
   "metadata": {},
   "outputs": [
    {
     "data": {
      "text/plain": [
       "(10, 13)"
      ]
     },
     "execution_count": 5,
     "metadata": {},
     "output_type": "execute_result"
    }
   ],
   "source": [
    "lucro_floresta_negra, lucro_sacripantino"
   ]
  },
  {
   "cell_type": "code",
   "execution_count": 6,
   "id": "f63a702a-f82f-41c5-9d5d-579178fc2b4b",
   "metadata": {},
   "outputs": [],
   "source": [
    "# Limites para cada variável (x, y)\n",
    "x_bounds = (0, None)  # Produto A não pode ser negativo e não tem limite superior\n",
    "y_bounds = (0, None)  # Produto B não pode ser negativo e não tem limite superior"
   ]
  },
  {
   "cell_type": "code",
   "execution_count": 7,
   "id": "0ffa5466-9428-4dfc-8224-2453b1c07e23",
   "metadata": {},
   "outputs": [],
   "source": [
    "# Coeficientes da função objetivo (lucro) - preço de venda dos bolos menos o custo de produção dos bolos (negativos para maximização)\n",
    "c = [-lucro_floresta_negra, -lucro_sacripantino]"
   ]
  },
  {
   "cell_type": "code",
   "execution_count": 8,
   "id": "f7d0346e-8d00-48f5-958f-46474aff47f5",
   "metadata": {},
   "outputs": [],
   "source": [
    "# Matriz de restrições\n",
    "A = [\n",
    "    [9, 8], # Restrição dos Ovos - 9 para Floresta Negra e 8 para Sacripantino\n",
    "    [500, 800]  # Restrição dos Açúcar - 500g para Floresta Negra e 800g para Sacripantino\n",
    "]"
   ]
  },
  {
   "cell_type": "code",
   "execution_count": 9,
   "id": "429ac33f-3f78-4121-92a6-128df5acf427",
   "metadata": {},
   "outputs": [],
   "source": [
    "# Vetor de restrições\n",
    "b = [\n",
    "    144, # Quantidade total de Ovos disponíveis\n",
    "    10000  # Quantidade total de Gramas de Açúcar disponíveis, 10 KG\n",
    "]"
   ]
  },
  {
   "cell_type": "code",
   "execution_count": 10,
   "id": "cc07b5ac-162f-477e-9858-ea9bc748c38a",
   "metadata": {},
   "outputs": [],
   "source": [
    "# Resolvendo o problema de programação linear - Método de Highs\n",
    "res = linprog(c, A_eq=A, b_eq=b, bounds=[x_bounds, y_bounds], method='highs')"
   ]
  },
  {
   "cell_type": "code",
   "execution_count": 11,
   "id": "94ed373d-536e-45e9-8b53-3a27d6c6eec1",
   "metadata": {},
   "outputs": [
    {
     "data": {
      "text/plain": [
       "        message: Optimization terminated successfully. (HiGHS Status 7: Optimal)\n",
       "        success: True\n",
       "         status: 0\n",
       "            fun: -183.125\n",
       "              x: [ 1.100e+01  5.625e+00]\n",
       "            nit: 0\n",
       "          lower:  residual: [ 1.100e+01  5.625e+00]\n",
       "                 marginals: [ 0.000e+00  0.000e+00]\n",
       "          upper:  residual: [       inf        inf]\n",
       "                 marginals: [ 0.000e+00  0.000e+00]\n",
       "          eqlin:  residual: [ 0.000e+00  0.000e+00]\n",
       "                 marginals: [-4.688e-01 -1.156e-02]\n",
       "        ineqlin:  residual: []\n",
       "                 marginals: []\n",
       " mip_node_count: 0\n",
       " mip_dual_bound: 0.0\n",
       "        mip_gap: 0.0"
      ]
     },
     "execution_count": 11,
     "metadata": {},
     "output_type": "execute_result"
    }
   ],
   "source": [
    "res"
   ]
  },
  {
   "cell_type": "code",
   "execution_count": 12,
   "id": "2bef9a38-e461-479e-9ca0-ea2fc48a4e44",
   "metadata": {},
   "outputs": [
    {
     "data": {
      "text/plain": [
       "array([11.   ,  5.625])"
      ]
     },
     "execution_count": 12,
     "metadata": {},
     "output_type": "execute_result"
    }
   ],
   "source": [
    "res.x"
   ]
  },
  {
   "cell_type": "code",
   "execution_count": 13,
   "id": "f99342b7-f2e4-4f5c-90b7-de748a9dc393",
   "metadata": {},
   "outputs": [
    {
     "name": "stdout",
     "output_type": "stream",
     "text": [
      "Quantidade de bolos da Floresta Negra a serem produzidos:  11\n",
      "Quantidade de bolos Sacripantino a serem produzidos:  6\n",
      "Lucro máximo: $183.125\n"
     ]
    }
   ],
   "source": [
    "# Imprimindo a solução\n",
    "print(\"Quantidade de bolos da Floresta Negra a serem produzidos: \", round(res.x[0]))\n",
    "print(\"Quantidade de bolos Sacripantino a serem produzidos: \", round(res.x[1]))\n",
    "print(f\"Lucro máximo: ${-res.fun}\")"
   ]
  },
  {
   "cell_type": "markdown",
   "id": "e0ebddb3-827c-4e2d-8d50-81388e6ad4ac",
   "metadata": {},
   "source": [
    "## 2. Fabrica de Produtos com Duas Etapas de Produção\n",
    "Uma empresa fabrica dois tipos de produtos: Produto A e Produto B. Cada produto passa por duas fases de processamento: Montagem e Polimento. A tabela a seguir resume as horas necessárias em cada fase para cada produto e o lucro obtido por unidade vendida:\n",
    "\n",
    "| Produto    | Montagem (horas) | Polimento (horas) | Lucro por Unidade |\n",
    "|------------|------------------|-------------------|-------------------|\n",
    "| Produto A  | 2                | 1                 | $30               |\n",
    "\n",
    "\n",
    "| Produto    | Montagem (horas) | Polimento (horas) | Lucro por Unidade |\n",
    "|------------|------------------|-------------------|-------------------|\n",
    "| Produto B  | 1                | 2                 | $20               |\n",
    "\n",
    "\n",
    "A empresa tem disponíveis 100 horas para Montagem e 84 horas para Polimento por semana.\n",
    "\n",
    "Restrições:\n",
    "\n",
    "* O total de horas usadas para Montagem não pode exceder 100 horas por semana.\n",
    "* O total de horas usadas para Polimento não pode exceder 84 horas por semana.\n",
    "* A empresa não pode produzir quantidades negativas de qualquer produto.\n",
    "\n",
    "\n",
    "Perguntas:\n",
    "\n",
    "1. Quantas unidades de cada produto a empresa deve produzir para maximizar seu lucro?\n",
    "2. Qual será o lucro máximo?"
   ]
  },
  {
   "cell_type": "code",
   "execution_count": 14,
   "id": "46f8706d-d9d8-4d68-8fb2-bdd34047d160",
   "metadata": {},
   "outputs": [
    {
     "name": "stdout",
     "output_type": "stream",
     "text": [
      "Quantidades a produzir: Produto A = 38.666666666666664, Produto B = 22.666666666666668\n",
      "Lucro máximo: $1613.3333333333335\n"
     ]
    }
   ],
   "source": [
    "from scipy.optimize import linprog\n",
    "\n",
    "# Coeficientes da função objetivo (negativos para maximização)\n",
    "c = [-30, -20]\n",
    "\n",
    "# Matriz de coeficientes das restrições de inequação\n",
    "A = [\n",
    "    [2, 1], \n",
    "    [1, 2]\n",
    "]\n",
    "\n",
    "# Vetor de limites das restrições\n",
    "b = [\n",
    "    100, \n",
    "    84\n",
    "]\n",
    "\n",
    "# Limites para cada variável (x, y)\n",
    "x_bounds = (0, None)  # Produto A não pode ser negativo e não tem limite superior\n",
    "y_bounds = (0, None)  # Produto B não pode ser negativo e não tem limite superior\n",
    "\n",
    "# Resolvendo o problema de programação linear\n",
    "res = linprog(c, A_ub=A, b_ub=b, bounds=[x_bounds, y_bounds], method='highs')\n",
    "\n",
    "# Mostrando a solução\n",
    "print(f\"Quantidades a produzir: Produto A = {res.x[0]}, Produto B = {res.x[1]}\")\n",
    "print(f\"Lucro máximo: ${-res.fun}\")"
   ]
  },
  {
   "cell_type": "code",
   "execution_count": 15,
   "id": "be0cb1e7-749b-403d-bf03-3550f50d6fd9",
   "metadata": {},
   "outputs": [],
   "source": [
    "# Lucro por Unidade - (negativos para maximização)\n",
    "c = [\n",
    "    -30, # Produto A\n",
    "    -20  # Produto B\n",
    "]"
   ]
  },
  {
   "cell_type": "code",
   "execution_count": 16,
   "id": "07249223-93b3-4850-82e5-e1def6a38508",
   "metadata": {},
   "outputs": [],
   "source": [
    "# Matriz de coeficientes das restrições de inequação\n",
    "A = [\n",
    "    [2, 1], # Produto A: 2 Horas de Montagem, 1 Hora de Polimento\n",
    "    [1, 2]  # Produto B: 1 Hora de Montagem, 2 Horas de Polimento\n",
    "]"
   ]
  },
  {
   "cell_type": "code",
   "execution_count": 17,
   "id": "049271af-c65a-4943-9cf4-198167b44f09",
   "metadata": {},
   "outputs": [],
   "source": [
    "# Vetor de limites das restrições\n",
    "b = [\n",
    "    100, # limite de 100 horas de Montagem  \n",
    "    84   # limite de 84 de horas de polimento\n",
    "]"
   ]
  },
  {
   "cell_type": "code",
   "execution_count": 18,
   "id": "ce89a3c8-62f8-4f6f-a77a-d0684e8b3ccd",
   "metadata": {},
   "outputs": [],
   "source": [
    "# Limites para cada variável (x, y)\n",
    "x_bounds = (0, None)  # Produto A não pode ser negativo e não tem limite superior\n",
    "y_bounds = (0, None)  # Produto B não pode ser negativo e não tem limite superior"
   ]
  },
  {
   "cell_type": "code",
   "execution_count": 19,
   "id": "e19dd09f-1cb0-4e38-ab7b-57cf3a73787b",
   "metadata": {},
   "outputs": [],
   "source": [
    "# Resolvendo o problema de programação linear\n",
    "res = linprog(c, A_ub=A, b_ub=b, bounds=[x_bounds, y_bounds], method='highs')"
   ]
  },
  {
   "cell_type": "code",
   "execution_count": 20,
   "id": "e009b562-6b26-4da1-9852-b92665ef1349",
   "metadata": {},
   "outputs": [
    {
     "name": "stdout",
     "output_type": "stream",
     "text": [
      "Quantidades a produzir: Produto A = 38.666666666666664, Produto B = 22.666666666666668\n",
      "Lucro máximo: $1613.3333333333335\n"
     ]
    }
   ],
   "source": [
    "# Mostrando a solução\n",
    "print(f\"Quantidades a produzir: Produto A = {res.x[0]}, Produto B = {res.x[1]}\")\n",
    "print(f\"Lucro máximo: ${-res.fun}\")"
   ]
  },
  {
   "cell_type": "markdown",
   "id": "8cacda4c-55a8-41a0-a75f-c064fdc40cb0",
   "metadata": {},
   "source": [
    "## Alocação de Pessoas em uma Software House\n",
    "\n",
    "Uma empresa de tecnologia trabalha em dois tipos de projetos: Desenvolvimento de Software (Projeto A) e Consultoria em TI (Projeto B). A empresa tem um total de 200 horas de trabalho disponíveis por semana e deseja maximizar seu lucro.\n",
    "\n",
    "A tabela a seguir resume o lucro obtido por hora de trabalho em cada projeto, bem como as horas máximas disponíveis por semana para cada tipo de projeto:\n",
    "\n",
    "| Projeto   | Lucro por Hora (em dólares) | Horas Máximas por Semana |\n",
    "|-----------|-----------------------------|--------------------------|\n",
    "| Projeto A | 50                          | 120                      |\n",
    "| Projeto B | 80                          | 160                      |\n",
    "\n",
    "Perguntas:\n",
    "\n",
    "* Quantas horas a empresa deve alocar para cada projeto (A e B) para maximizar seu lucro?\n",
    "* Qual será o lucro máximo?\n",
    "\n",
    "Função Objetivo:\n",
    "Maximizar 50x+80y50x+80y\n",
    "\n",
    "Restrições:\n",
    "\n",
    "* x+y≤200x+y≤200 (Restrição total de horas)\n",
    "* x≤120x≤120 (Restrição de horas para o Projeto A)\n",
    "* y≤160y≤160 (Restrição de horas para o Projeto B)\n",
    "* x≥0,y≥0x≥0,y≥0 (Não-negatividade)"
   ]
  },
  {
   "cell_type": "code",
   "execution_count": 21,
   "id": "022d51bb-7a34-491f-a2df-eb75f7527813",
   "metadata": {},
   "outputs": [],
   "source": [
    "# Lucro por Hora em Dólare - (negativos para maximização)\n",
    "c = [\n",
    "    -50, # Projeto A\n",
    "    -80  # Projeto B\n",
    "]"
   ]
  },
  {
   "cell_type": "code",
   "execution_count": 22,
   "id": "1bf0ae63-8f1e-49cc-95e9-617dcb7af719",
   "metadata": {},
   "outputs": [],
   "source": [
    "# Matriz de coeficientes das restrições (A_ub)\n",
    "A = [\n",
    "    [1, 1],  # Restrição total de horas (Projeto A + Projeto B)\n",
    "    [1, 0],  # Restrição de horas para o Projeto A\n",
    "    [0, 1]   # Restrição de horas para o Projeto B\n",
    "]  "
   ]
  },
  {
   "cell_type": "code",
   "execution_count": 23,
   "id": "99635a23-6c46-4f01-ae75-b872009faa0a",
   "metadata": {},
   "outputs": [],
   "source": [
    "# Vetor de limites das restrições (b_ub)\n",
    "b = [\n",
    "    200,  # Total de horas disponíveis por semana\n",
    "    120,  # Máximo de horas para o Projeto A\n",
    "    160   # Máximo de horas para o Projeto B\n",
    "]  "
   ]
  },
  {
   "cell_type": "code",
   "execution_count": 24,
   "id": "953d6b54-6fb1-453e-b586-5f3aa1f2033a",
   "metadata": {},
   "outputs": [],
   "source": [
    "# Limites para as variáveis (horas para cada projeto)\n",
    "bounds = [(0, None),  # Projeto A não pode ter horas negativas\n",
    "          (0, None)]  # Projeto B não pode ter horas negativas"
   ]
  },
  {
   "cell_type": "code",
   "execution_count": 25,
   "id": "96d56c6c-dce1-4291-bd53-e823156203bd",
   "metadata": {},
   "outputs": [],
   "source": [
    "# Resolvendo o problema\n",
    "res = linprog(c, A_ub=A, b_ub=b, bounds=bounds, method='highs')"
   ]
  },
  {
   "cell_type": "code",
   "execution_count": 26,
   "id": "045c5bbe-d0dd-4ce5-82cd-e88de0e55e4f",
   "metadata": {},
   "outputs": [
    {
     "name": "stdout",
     "output_type": "stream",
     "text": [
      "Horas para Projeto A: 40.0, Horas para Projeto B: 160.0\n",
      "Lucro Máximo: $14800.0\n"
     ]
    }
   ],
   "source": [
    "horas_projeto_a, horas_projeto_b = res.x\n",
    "lucro_maximo = -res.fun\n",
    "print(f\"Horas para Projeto A: {horas_projeto_a}, Horas para Projeto B: {horas_projeto_b}\")\n",
    "print(f\"Lucro Máximo: ${lucro_maximo}\")"
   ]
  },
  {
   "cell_type": "markdown",
   "id": "e10c807d-89d1-4ad4-925d-39f57d2532e0",
   "metadata": {},
   "source": [
    "## 3. Problema de Dieta\n",
    "\n",
    "Uma nutricionista está planejando uma dieta para um cliente. A dieta consiste em três tipos de alimentos: Alimento A, Alimento B e Alimento C. Cada alimento tem um custo por porção e fornece uma certa quantidade de proteínas, carboidratos e gorduras. O objetivo é minimizar o custo da dieta, mantendo os requisitos nutricionais.\n",
    "\n",
    "A tabela a seguir resume o conteúdo nutricional por porção e o custo de cada alimento:\n",
    "\n",
    "| Alimento  | Proteínas (g) | Carboidratos (g) | Gorduras (g) | Custo (R$) |\n",
    "|-----------|---------------|------------------|--------------|------------|\n",
    "| Alimento A| 3             | 2                | 2            | 0.30       |\n",
    "| Alimento B| 4             | 2                | 4            | 0.40       |\n",
    "| Alimento C| 2             | 4                | 4            | 0.20       |\n",
    "\n",
    "\n",
    "Os requisitos nutricionais diários são de pelo menos 20 gramas de proteínas, 30 gramas de carboidratos e 30 gramas de gorduras.\n",
    "\n",
    "Objetivo: Minimizar o custo total da dieta.\n",
    "\n",
    "Perguntas:\n",
    "\n",
    "1. Quantas porções de cada alimento (A, B, C) o cliente deve consumir para atender aos requisitos nutricionais ao menor custo possível?\n",
    "2. Qual é o custo mínimo da dieta?\n",
    "\n",
    "Modelo de Programação Linear:\n",
    "\n",
    "Sejam xx, yy e zz o número de porções dos Alimentos A, B e C, respectivamente.\n",
    "\n",
    "Função Objetivo:\n",
    "Minimizar 0.30x+0.40y+0.20z0.30x+0.40y+0.20z\n",
    "\n",
    "Restrições:\n",
    "\n",
    "* 3x+4y+2z≥203x+4y+2z≥20 (Proteínas)\n",
    "* 2x+2y+4z≥302x+2y+4z≥30 (Carboidratos)\n",
    "* 2x+4y+4z≥302x+4y+4z≥30 (Gorduras)\n",
    "* x≥0,y≥0,z≥0x≥0,y≥0,z≥0 (Não-negatividade)"
   ]
  },
  {
   "cell_type": "code",
   "execution_count": 27,
   "id": "989134d3-c51f-429c-9c78-ca5c172a21a8",
   "metadata": {},
   "outputs": [],
   "source": [
    "# Custo do Alimento - (positivos para minimização)\n",
    "c = [\n",
    "    0.30, # Projeto A\n",
    "    0.40, # Projeto B\n",
    "    0.20  # Projeto C\n",
    "]"
   ]
  },
  {
   "cell_type": "code",
   "execution_count": 28,
   "id": "4addbf4d-4f85-4f4f-8cb8-101152c7d8b7",
   "metadata": {},
   "outputs": [],
   "source": [
    "# Matriz de coeficientes das restrições (valores nutricionais)\n",
    "A = [\n",
    "    [-3, -4, -2],  # Proteínas (negativo porque a restrição é >=)\n",
    "    [-2, -2, -4],  # Carboidratos (negativo porque a restrição é >=)\n",
    "    [-2, -4, -4]   # Gorduras (negativo porque a restrição é >=)\n",
    "]"
   ]
  },
  {
   "cell_type": "code",
   "execution_count": 29,
   "id": "4f8d6411-4f34-492b-b2f7-fef0208aea0c",
   "metadata": {},
   "outputs": [],
   "source": [
    "# Vetor de limites das restrições\n",
    "b = [-20, -30, -30]  # Requisitos nutricionais (negativos porque as restrições são >=)"
   ]
  },
  {
   "cell_type": "code",
   "execution_count": 30,
   "id": "4683ad8d-46ce-4aa0-8d2f-2c70864c2a90",
   "metadata": {},
   "outputs": [],
   "source": [
    "# Resolvendo o problema de programação linear\n",
    "res = linprog(c, A_ub=A, b_ub=b, method='highs')"
   ]
  },
  {
   "cell_type": "code",
   "execution_count": 31,
   "id": "c50c57b5-8681-49da-84de-10504ade609d",
   "metadata": {},
   "outputs": [
    {
     "name": "stdout",
     "output_type": "stream",
     "text": [
      "Quantidades a consumir: Alimento A = 2.5, Alimento B = 0.0, Alimento C = 6.25\n",
      "Custo mínimo da dieta: R$ 2.0\n"
     ]
    }
   ],
   "source": [
    "print(f\"Quantidades a consumir: Alimento A = {res.x[0]}, Alimento B = {res.x[1]}, Alimento C = {res.x[2]}\")\n",
    "print(f\"Custo mínimo da dieta: R$ {res.fun}\")"
   ]
  },
  {
   "cell_type": "code",
   "execution_count": null,
   "id": "5ad32ae0-0df2-4248-abfc-c8837ee07a1a",
   "metadata": {},
   "outputs": [],
   "source": []
  }
 ],
 "metadata": {
  "kernelspec": {
   "display_name": "Python 3 (ipykernel)",
   "language": "python",
   "name": "python3"
  },
  "language_info": {
   "codemirror_mode": {
    "name": "ipython",
    "version": 3
   },
   "file_extension": ".py",
   "mimetype": "text/x-python",
   "name": "python",
   "nbconvert_exporter": "python",
   "pygments_lexer": "ipython3",
   "version": "3.10.9"
  }
 },
 "nbformat": 4,
 "nbformat_minor": 5
}
